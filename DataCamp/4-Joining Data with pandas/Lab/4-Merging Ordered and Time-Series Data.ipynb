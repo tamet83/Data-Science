{
 "cells": [
  {
   "cell_type": "markdown",
   "id": "2387a565-a552-4ef0-b5f7-e2d399b1c539",
   "metadata": {},
   "source": [
    "# Merging Ordered and Time-Series Data\n",
    "In this final chapter, you’ll step up a gear and learn to apply pandas' specialized methods for merging time-series and ordered data together with real-world financial and economic data from the city of Chicago. You’ll also learn how to query resulting tables using a SQL-style format, and unpivot data using the melt method."
   ]
  },
  {
   "cell_type": "markdown",
   "id": "60a93424-7837-4cd0-abd7-ed46518c1546",
   "metadata": {},
   "source": [
    "## Correlation between GDP and S&P500\n",
    "\n",
    "In this exercise, you want to analyze stock returns from the S&P 500. You believe there may be a relationship between the returns of the S&P 500 and the GDP of the US. Merge the different datasets together to compute the correlation.\n",
    "\n",
    "Two tables have been provided for you, named `sp500`, and `gdp`. As always, pandas has been imported for you as pd."
   ]
  },
  {
   "cell_type": "code",
   "execution_count": 1,
   "id": "56129fa7-dc2c-4698-bc23-ce6ec22a87c2",
   "metadata": {},
   "outputs": [],
   "source": [
    "import pandas as pd\n",
    "sp500 = pd.read_excel('datasets/sp500.xlsx')\n",
    "gdp = pd.read_excel('datasets/gdp.xlsx')"
   ]
  },
  {
   "cell_type": "markdown",
   "id": "e89634cf-18bd-4fdf-9cd4-a7dcc98bd81b",
   "metadata": {},
   "source": [
    "### Instructions 1/3\n",
    "- Use `merge_ordered()` to merge `gdp` and `sp500` using a `left join` on `year` and `date`. Save the results as `gdp_sp500`.\n",
    "- Print `gdp_sp500` and look at the returns for the year `2018`."
   ]
  },
  {
   "cell_type": "code",
   "execution_count": 2,
   "id": "38fd788a-1790-4ec7-986b-3ed2232f3db4",
   "metadata": {},
   "outputs": [
    {
     "name": "stdout",
     "output_type": "stream",
     "text": [
      "Index(['date', 'returns'], dtype='object')\n",
      "Index(['country code', 'year', 'gdp'], dtype='object')\n"
     ]
    }
   ],
   "source": [
    "print(sp500.columns)\n",
    "print(gdp.columns)"
   ]
  },
  {
   "cell_type": "code",
   "execution_count": 3,
   "id": "de10f846-c841-490e-85c5-c8054324e19c",
   "metadata": {},
   "outputs": [
    {
     "data": {
      "text/html": [
       "<div>\n",
       "<style scoped>\n",
       "    .dataframe tbody tr th:only-of-type {\n",
       "        vertical-align: middle;\n",
       "    }\n",
       "\n",
       "    .dataframe tbody tr th {\n",
       "        vertical-align: top;\n",
       "    }\n",
       "\n",
       "    .dataframe thead th {\n",
       "        text-align: right;\n",
       "    }\n",
       "</style>\n",
       "<table border=\"1\" class=\"dataframe\">\n",
       "  <thead>\n",
       "    <tr style=\"text-align: right;\">\n",
       "      <th></th>\n",
       "      <th>country code</th>\n",
       "      <th>year</th>\n",
       "      <th>gdp</th>\n",
       "      <th>date</th>\n",
       "      <th>returns</th>\n",
       "    </tr>\n",
       "  </thead>\n",
       "  <tbody>\n",
       "    <tr>\n",
       "      <th>0</th>\n",
       "      <td>USA</td>\n",
       "      <td>2010</td>\n",
       "      <td>1.499210e+19</td>\n",
       "      <td>2010.0</td>\n",
       "      <td>12.78</td>\n",
       "    </tr>\n",
       "    <tr>\n",
       "      <th>1</th>\n",
       "      <td>USA</td>\n",
       "      <td>2011</td>\n",
       "      <td>1.554260e+19</td>\n",
       "      <td>2011.0</td>\n",
       "      <td>0.00</td>\n",
       "    </tr>\n",
       "    <tr>\n",
       "      <th>2</th>\n",
       "      <td>USA</td>\n",
       "      <td>2012</td>\n",
       "      <td>1.619700e+19</td>\n",
       "      <td>2012.0</td>\n",
       "      <td>13.41</td>\n",
       "    </tr>\n",
       "    <tr>\n",
       "      <th>3</th>\n",
       "      <td>USA</td>\n",
       "      <td>2012</td>\n",
       "      <td>1.619700e+19</td>\n",
       "      <td>2012.0</td>\n",
       "      <td>13.41</td>\n",
       "    </tr>\n",
       "    <tr>\n",
       "      <th>4</th>\n",
       "      <td>USA</td>\n",
       "      <td>2013</td>\n",
       "      <td>1.678480e+19</td>\n",
       "      <td>2013.0</td>\n",
       "      <td>29.60</td>\n",
       "    </tr>\n",
       "    <tr>\n",
       "      <th>5</th>\n",
       "      <td>USA</td>\n",
       "      <td>2014</td>\n",
       "      <td>1.752170e+19</td>\n",
       "      <td>2014.0</td>\n",
       "      <td>11.39</td>\n",
       "    </tr>\n",
       "    <tr>\n",
       "      <th>6</th>\n",
       "      <td>USA</td>\n",
       "      <td>2015</td>\n",
       "      <td>1.821930e+19</td>\n",
       "      <td>2015.0</td>\n",
       "      <td>-0.73</td>\n",
       "    </tr>\n",
       "    <tr>\n",
       "      <th>7</th>\n",
       "      <td>USA</td>\n",
       "      <td>2016</td>\n",
       "      <td>1.870720e+19</td>\n",
       "      <td>2016.0</td>\n",
       "      <td>9.54</td>\n",
       "    </tr>\n",
       "    <tr>\n",
       "      <th>8</th>\n",
       "      <td>USA</td>\n",
       "      <td>2017</td>\n",
       "      <td>1.948540e+19</td>\n",
       "      <td>2017.0</td>\n",
       "      <td>19.42</td>\n",
       "    </tr>\n",
       "    <tr>\n",
       "      <th>9</th>\n",
       "      <td>USA</td>\n",
       "      <td>2018</td>\n",
       "      <td>2.049410e+19</td>\n",
       "      <td>NaN</td>\n",
       "      <td>NaN</td>\n",
       "    </tr>\n",
       "  </tbody>\n",
       "</table>\n",
       "</div>"
      ],
      "text/plain": [
       "  country code  year           gdp    date  returns\n",
       "0          USA  2010  1.499210e+19  2010.0    12.78\n",
       "1          USA  2011  1.554260e+19  2011.0     0.00\n",
       "2          USA  2012  1.619700e+19  2012.0    13.41\n",
       "3          USA  2012  1.619700e+19  2012.0    13.41\n",
       "4          USA  2013  1.678480e+19  2013.0    29.60\n",
       "5          USA  2014  1.752170e+19  2014.0    11.39\n",
       "6          USA  2015  1.821930e+19  2015.0    -0.73\n",
       "7          USA  2016  1.870720e+19  2016.0     9.54\n",
       "8          USA  2017  1.948540e+19  2017.0    19.42\n",
       "9          USA  2018  2.049410e+19     NaN      NaN"
      ]
     },
     "execution_count": 3,
     "metadata": {},
     "output_type": "execute_result"
    }
   ],
   "source": [
    "gdp_sp500 = pd.merge_ordered(gdp,sp500, how='left', left_on='year',right_on='date')\n",
    "gdp_sp500"
   ]
  },
  {
   "cell_type": "markdown",
   "id": "1863d1b4-e554-4a14-90ff-6bd36eb78a5b",
   "metadata": {},
   "source": [
    "### Instructions 2/3\n",
    "Use `merge_ordered()`, again similar to before, to merge `gdp` and `sp500` use the function's ability to interpolate missing data to `forward fill` the missing value for returns, assigning this table to the variable `gdp_sp500`."
   ]
  },
  {
   "cell_type": "code",
   "execution_count": 4,
   "id": "5e51b21b-5e75-47cb-b793-0bb30215ad5f",
   "metadata": {},
   "outputs": [
    {
     "data": {
      "text/html": [
       "<div>\n",
       "<style scoped>\n",
       "    .dataframe tbody tr th:only-of-type {\n",
       "        vertical-align: middle;\n",
       "    }\n",
       "\n",
       "    .dataframe tbody tr th {\n",
       "        vertical-align: top;\n",
       "    }\n",
       "\n",
       "    .dataframe thead th {\n",
       "        text-align: right;\n",
       "    }\n",
       "</style>\n",
       "<table border=\"1\" class=\"dataframe\">\n",
       "  <thead>\n",
       "    <tr style=\"text-align: right;\">\n",
       "      <th></th>\n",
       "      <th>country code</th>\n",
       "      <th>year</th>\n",
       "      <th>gdp</th>\n",
       "      <th>date</th>\n",
       "      <th>returns</th>\n",
       "    </tr>\n",
       "  </thead>\n",
       "  <tbody>\n",
       "    <tr>\n",
       "      <th>0</th>\n",
       "      <td>USA</td>\n",
       "      <td>2010</td>\n",
       "      <td>1.499210e+19</td>\n",
       "      <td>2010</td>\n",
       "      <td>12.78</td>\n",
       "    </tr>\n",
       "    <tr>\n",
       "      <th>1</th>\n",
       "      <td>USA</td>\n",
       "      <td>2011</td>\n",
       "      <td>1.554260e+19</td>\n",
       "      <td>2011</td>\n",
       "      <td>0.00</td>\n",
       "    </tr>\n",
       "    <tr>\n",
       "      <th>2</th>\n",
       "      <td>USA</td>\n",
       "      <td>2012</td>\n",
       "      <td>1.619700e+19</td>\n",
       "      <td>2012</td>\n",
       "      <td>13.41</td>\n",
       "    </tr>\n",
       "    <tr>\n",
       "      <th>3</th>\n",
       "      <td>USA</td>\n",
       "      <td>2012</td>\n",
       "      <td>1.619700e+19</td>\n",
       "      <td>2012</td>\n",
       "      <td>13.41</td>\n",
       "    </tr>\n",
       "    <tr>\n",
       "      <th>4</th>\n",
       "      <td>USA</td>\n",
       "      <td>2013</td>\n",
       "      <td>1.678480e+19</td>\n",
       "      <td>2013</td>\n",
       "      <td>29.60</td>\n",
       "    </tr>\n",
       "    <tr>\n",
       "      <th>5</th>\n",
       "      <td>USA</td>\n",
       "      <td>2014</td>\n",
       "      <td>1.752170e+19</td>\n",
       "      <td>2014</td>\n",
       "      <td>11.39</td>\n",
       "    </tr>\n",
       "    <tr>\n",
       "      <th>6</th>\n",
       "      <td>USA</td>\n",
       "      <td>2015</td>\n",
       "      <td>1.821930e+19</td>\n",
       "      <td>2015</td>\n",
       "      <td>-0.73</td>\n",
       "    </tr>\n",
       "    <tr>\n",
       "      <th>7</th>\n",
       "      <td>USA</td>\n",
       "      <td>2016</td>\n",
       "      <td>1.870720e+19</td>\n",
       "      <td>2016</td>\n",
       "      <td>9.54</td>\n",
       "    </tr>\n",
       "    <tr>\n",
       "      <th>8</th>\n",
       "      <td>USA</td>\n",
       "      <td>2017</td>\n",
       "      <td>1.948540e+19</td>\n",
       "      <td>2017</td>\n",
       "      <td>19.42</td>\n",
       "    </tr>\n",
       "    <tr>\n",
       "      <th>9</th>\n",
       "      <td>USA</td>\n",
       "      <td>2018</td>\n",
       "      <td>2.049410e+19</td>\n",
       "      <td>2017</td>\n",
       "      <td>19.42</td>\n",
       "    </tr>\n",
       "  </tbody>\n",
       "</table>\n",
       "</div>"
      ],
      "text/plain": [
       "  country code  year           gdp  date  returns\n",
       "0          USA  2010  1.499210e+19  2010    12.78\n",
       "1          USA  2011  1.554260e+19  2011     0.00\n",
       "2          USA  2012  1.619700e+19  2012    13.41\n",
       "3          USA  2012  1.619700e+19  2012    13.41\n",
       "4          USA  2013  1.678480e+19  2013    29.60\n",
       "5          USA  2014  1.752170e+19  2014    11.39\n",
       "6          USA  2015  1.821930e+19  2015    -0.73\n",
       "7          USA  2016  1.870720e+19  2016     9.54\n",
       "8          USA  2017  1.948540e+19  2017    19.42\n",
       "9          USA  2018  2.049410e+19  2017    19.42"
      ]
     },
     "execution_count": 4,
     "metadata": {},
     "output_type": "execute_result"
    }
   ],
   "source": [
    "gdp_sp500 = pd.merge_ordered(gdp,sp500, how='left', left_on='year',right_on='date', fill_method='ffill')\n",
    "gdp_sp500"
   ]
  },
  {
   "cell_type": "markdown",
   "id": "829dac93-c10e-499f-89c9-bd44311c5bca",
   "metadata": {},
   "source": [
    "### Instructions 3/3\n",
    "- Subset the `gdp_sp500` table, select the `gdp` and `returns` columns, and save as `gdp_returns`.\n",
    "- Print the correlation matrix of the `gdp_returns` table."
   ]
  },
  {
   "cell_type": "code",
   "execution_count": 5,
   "id": "48b85acd-c71c-490a-bff1-188b3f9d5a80",
   "metadata": {},
   "outputs": [
    {
     "data": {
      "text/html": [
       "<div>\n",
       "<style scoped>\n",
       "    .dataframe tbody tr th:only-of-type {\n",
       "        vertical-align: middle;\n",
       "    }\n",
       "\n",
       "    .dataframe tbody tr th {\n",
       "        vertical-align: top;\n",
       "    }\n",
       "\n",
       "    .dataframe thead th {\n",
       "        text-align: right;\n",
       "    }\n",
       "</style>\n",
       "<table border=\"1\" class=\"dataframe\">\n",
       "  <thead>\n",
       "    <tr style=\"text-align: right;\">\n",
       "      <th></th>\n",
       "      <th>gdp</th>\n",
       "      <th>returns</th>\n",
       "    </tr>\n",
       "  </thead>\n",
       "  <tbody>\n",
       "    <tr>\n",
       "      <th>gdp</th>\n",
       "      <td>1.000000</td>\n",
       "      <td>0.212173</td>\n",
       "    </tr>\n",
       "    <tr>\n",
       "      <th>returns</th>\n",
       "      <td>0.212173</td>\n",
       "      <td>1.000000</td>\n",
       "    </tr>\n",
       "  </tbody>\n",
       "</table>\n",
       "</div>"
      ],
      "text/plain": [
       "              gdp   returns\n",
       "gdp      1.000000  0.212173\n",
       "returns  0.212173  1.000000"
      ]
     },
     "execution_count": 5,
     "metadata": {},
     "output_type": "execute_result"
    }
   ],
   "source": [
    "gdp_returns = gdp_sp500[['gdp','returns']]\n",
    "gdp_returns.corr()"
   ]
  },
  {
   "cell_type": "markdown",
   "id": "d6ba07f1-c21a-42fb-a03a-cd93b0b5d84a",
   "metadata": {},
   "source": [
    "You can see the different aspects of `merge_ordered()` and how you might use it on data that can be ordered. By using this function, you were able to fill in the missing data from 2019. Finally, the correlation of 0.21 between the GDP and S&P500 is low to moderate at best. You may want to find another predictor if you plan to play in the stock market."
   ]
  },
  {
   "cell_type": "markdown",
   "id": "c95e344d-86f0-4446-b0c4-f1ccb33ad578",
   "metadata": {},
   "source": [
    "## Phillips curve using merge_ordered()\n",
    "\n",
    "There is an economic theory developed by A. W. Phillips which states that inflation and unemployment have an inverse relationship. The theory claims that with economic growth comes inflation, which in turn should lead to more jobs and less unemployment.\n",
    "\n",
    "You will take two tables of data from the U.S. Bureau of Labor Statistics, containing unemployment and inflation data over different periods, and create a Phillips curve. The tables have different frequencies. One table has a data entry every six months, while the other has a data entry every month. You will need to use the entries where you have data within both tables.\n",
    "\n",
    "The tables `unemployment` and `inflation` have been loaded for you."
   ]
  },
  {
   "cell_type": "code",
   "execution_count": 6,
   "id": "c89e527f-62c0-4359-961a-efcb831b1429",
   "metadata": {},
   "outputs": [],
   "source": [
    "unemployment = pd.read_excel('datasets/unemployment.xlsx')\n",
    "inflation = pd.read_excel('datasets/inflation.xlsx')"
   ]
  },
  {
   "cell_type": "code",
   "execution_count": 7,
   "id": "5a174066-9f5e-49ff-8ff2-35473be9fe93",
   "metadata": {},
   "outputs": [
    {
     "name": "stdout",
     "output_type": "stream",
     "text": [
      "Index(['date', 'unemployment_rate'], dtype='object')\n",
      "Index(['date', 'cpi', 'seriesid', 'data_type'], dtype='object')\n"
     ]
    }
   ],
   "source": [
    "print(unemployment.columns)\n",
    "print(inflation.columns)"
   ]
  },
  {
   "cell_type": "markdown",
   "id": "f709b345-9f01-4de1-ba31-33ce0f4704e8",
   "metadata": {},
   "source": [
    "### Instructions\n",
    "- Use `merge_ordered()` to merge the `inflation` and `unemployment` tables on `date` with an `inner join`, and save the results as `inflation_unemploy`.\n",
    "- Print the `inflation_unemploy` variable.\n",
    "- Using `inflation_unemploy`, create a `scatter` plot with `unemployment_rate` on the horizontal axis and `cpi` (inflation) on the vertical axis."
   ]
  },
  {
   "cell_type": "code",
   "execution_count": 8,
   "id": "08899376-f4fc-40c0-b1a4-d9222d0c1ef4",
   "metadata": {},
   "outputs": [
    {
     "data": {
      "text/html": [
       "<div>\n",
       "<style scoped>\n",
       "    .dataframe tbody tr th:only-of-type {\n",
       "        vertical-align: middle;\n",
       "    }\n",
       "\n",
       "    .dataframe tbody tr th {\n",
       "        vertical-align: top;\n",
       "    }\n",
       "\n",
       "    .dataframe thead th {\n",
       "        text-align: right;\n",
       "    }\n",
       "</style>\n",
       "<table border=\"1\" class=\"dataframe\">\n",
       "  <thead>\n",
       "    <tr style=\"text-align: right;\">\n",
       "      <th></th>\n",
       "      <th>date</th>\n",
       "      <th>cpi</th>\n",
       "      <th>seriesid</th>\n",
       "      <th>data_type</th>\n",
       "      <th>unemployment_rate</th>\n",
       "    </tr>\n",
       "  </thead>\n",
       "  <tbody>\n",
       "    <tr>\n",
       "      <th>0</th>\n",
       "      <td>2014-01-01</td>\n",
       "      <td>235288</td>\n",
       "      <td>CUSR0000SA0</td>\n",
       "      <td>SEASONALLY ADJUSTED INDEX</td>\n",
       "      <td>6.7</td>\n",
       "    </tr>\n",
       "    <tr>\n",
       "      <th>1</th>\n",
       "      <td>2014-06-01</td>\n",
       "      <td>237231</td>\n",
       "      <td>CUSR0000SA0</td>\n",
       "      <td>SEASONALLY ADJUSTED INDEX</td>\n",
       "      <td>6.1</td>\n",
       "    </tr>\n",
       "    <tr>\n",
       "      <th>2</th>\n",
       "      <td>2015-01-01</td>\n",
       "      <td>234718</td>\n",
       "      <td>CUSR0000SA0</td>\n",
       "      <td>SEASONALLY ADJUSTED INDEX</td>\n",
       "      <td>5.6</td>\n",
       "    </tr>\n",
       "    <tr>\n",
       "      <th>3</th>\n",
       "      <td>2015-06-01</td>\n",
       "      <td>237684</td>\n",
       "      <td>CUSR0000SA0</td>\n",
       "      <td>SEASONALLY ADJUSTED INDEX</td>\n",
       "      <td>5.3</td>\n",
       "    </tr>\n",
       "    <tr>\n",
       "      <th>4</th>\n",
       "      <td>2016-01-01</td>\n",
       "      <td>237833</td>\n",
       "      <td>CUSR0000SA0</td>\n",
       "      <td>SEASONALLY ADJUSTED INDEX</td>\n",
       "      <td>5.0</td>\n",
       "    </tr>\n",
       "    <tr>\n",
       "      <th>5</th>\n",
       "      <td>2016-06-01</td>\n",
       "      <td>240167</td>\n",
       "      <td>CUSR0000SA0</td>\n",
       "      <td>SEASONALLY ADJUSTED INDEX</td>\n",
       "      <td>4.9</td>\n",
       "    </tr>\n",
       "    <tr>\n",
       "      <th>6</th>\n",
       "      <td>2017-01-01</td>\n",
       "      <td>243780</td>\n",
       "      <td>CUSR0000SA0</td>\n",
       "      <td>SEASONALLY ADJUSTED INDEX</td>\n",
       "      <td>4.7</td>\n",
       "    </tr>\n",
       "    <tr>\n",
       "      <th>7</th>\n",
       "      <td>2017-06-01</td>\n",
       "      <td>244182</td>\n",
       "      <td>CUSR0000SA0</td>\n",
       "      <td>SEASONALLY ADJUSTED INDEX</td>\n",
       "      <td>4.3</td>\n",
       "    </tr>\n",
       "    <tr>\n",
       "      <th>8</th>\n",
       "      <td>2018-01-01</td>\n",
       "      <td>248884</td>\n",
       "      <td>CUSR0000SA0</td>\n",
       "      <td>SEASONALLY ADJUSTED INDEX</td>\n",
       "      <td>4.1</td>\n",
       "    </tr>\n",
       "    <tr>\n",
       "      <th>9</th>\n",
       "      <td>2018-06-01</td>\n",
       "      <td>251134</td>\n",
       "      <td>CUSR0000SA0</td>\n",
       "      <td>SEASONALLY ADJUSTED INDEX</td>\n",
       "      <td>4.0</td>\n",
       "    </tr>\n",
       "  </tbody>\n",
       "</table>\n",
       "</div>"
      ],
      "text/plain": [
       "        date     cpi     seriesid                  data_type  \\\n",
       "0 2014-01-01  235288  CUSR0000SA0  SEASONALLY ADJUSTED INDEX   \n",
       "1 2014-06-01  237231  CUSR0000SA0  SEASONALLY ADJUSTED INDEX   \n",
       "2 2015-01-01  234718  CUSR0000SA0  SEASONALLY ADJUSTED INDEX   \n",
       "3 2015-06-01  237684  CUSR0000SA0  SEASONALLY ADJUSTED INDEX   \n",
       "4 2016-01-01  237833  CUSR0000SA0  SEASONALLY ADJUSTED INDEX   \n",
       "5 2016-06-01  240167  CUSR0000SA0  SEASONALLY ADJUSTED INDEX   \n",
       "6 2017-01-01  243780  CUSR0000SA0  SEASONALLY ADJUSTED INDEX   \n",
       "7 2017-06-01  244182  CUSR0000SA0  SEASONALLY ADJUSTED INDEX   \n",
       "8 2018-01-01  248884  CUSR0000SA0  SEASONALLY ADJUSTED INDEX   \n",
       "9 2018-06-01  251134  CUSR0000SA0  SEASONALLY ADJUSTED INDEX   \n",
       "\n",
       "   unemployment_rate  \n",
       "0                6.7  \n",
       "1                6.1  \n",
       "2                5.6  \n",
       "3                5.3  \n",
       "4                5.0  \n",
       "5                4.9  \n",
       "6                4.7  \n",
       "7                4.3  \n",
       "8                4.1  \n",
       "9                4.0  "
      ]
     },
     "execution_count": 8,
     "metadata": {},
     "output_type": "execute_result"
    }
   ],
   "source": [
    "inflation_unemploy = pd.merge_ordered(inflation,unemployment, how = 'inner', on='date')\n",
    "inflation_unemploy"
   ]
  },
  {
   "cell_type": "code",
   "execution_count": 9,
   "id": "4a961442-72d0-4626-8a8b-939ae72e1dde",
   "metadata": {},
   "outputs": [
    {
     "data": {
      "image/png": "[encoded data removed]",
      "text/plain": [
       "<Figure size 432x288 with 1 Axes>"
      ]
     },
     "metadata": {
      "needs_background": "light"
     },
     "output_type": "display_data"
    }
   ],
   "source": [
    "import matplotlib.pyplot as plt\n",
    "inflation_unemploy.plot(kind='scatter', x='unemployment_rate', y='cpi')\n",
    "plt.show()"
   ]
  },
  {
   "cell_type": "markdown",
   "id": "d6c74ad0-f0dd-47dc-b7d9-3e590d615efe",
   "metadata": {},
   "source": [
    "There are critics of the curve, but what is more important in this example is that you were able to use entries where you had entries in both tables by using an inner join. You might ask why not use the default outer join and use forward fill to fill to estimate the missing variables. You might choose differently. In this case, instead of showing an estimated unemployment rate (which is a continually changing measure) for five periods, that data was dropped from the plot."
   ]
  },
  {
   "cell_type": "markdown",
   "id": "bc64c5d1-77f7-4dde-bc0a-26ab8e43896e",
   "metadata": {},
   "source": [
    "## merge_ordered() caution, multiple columns\n",
    "\n",
    "When using merge_ordered() to merge on multiple columns, the order is important when you combine it with the forward fill feature. The function sorts the merge on columns in the order provided. In this exercise, we will merge GDP and population data from the World Bank for the Australia and Sweden, reversing the order of the merge on columns. The frequency of the series are different, the GDP values are quarterly, and the population is yearly. Use the forward fill feature to fill in the missing data. Depending on the order provided, the fill forward will use unintended data to fill in the missing values.\n",
    "\n",
    "The tables `gdp` and `pop` have been loaded."
   ]
  },
  {
   "cell_type": "code",
   "execution_count": 10,
   "id": "451bd6fd-67de-48fc-9114-dde1e27e8a17",
   "metadata": {},
   "outputs": [],
   "source": [
    "gdp = pd.read_excel('datasets/gdp_2.xlsx')\n",
    "pop = pd.read_excel('datasets/pop.xlsx')"
   ]
  },
  {
   "cell_type": "code",
   "execution_count": 11,
   "id": "74c3adc2-f5bd-49dc-9b51-3005db9431d5",
   "metadata": {},
   "outputs": [
    {
     "data": {
      "text/html": [
       "<div>\n",
       "<style scoped>\n",
       "    .dataframe tbody tr th:only-of-type {\n",
       "        vertical-align: middle;\n",
       "    }\n",
       "\n",
       "    .dataframe tbody tr th {\n",
       "        vertical-align: top;\n",
       "    }\n",
       "\n",
       "    .dataframe thead th {\n",
       "        text-align: right;\n",
       "    }\n",
       "</style>\n",
       "<table border=\"1\" class=\"dataframe\">\n",
       "  <thead>\n",
       "    <tr style=\"text-align: right;\">\n",
       "      <th></th>\n",
       "      <th>date</th>\n",
       "      <th>country</th>\n",
       "      <th>gdp</th>\n",
       "      <th>series_code</th>\n",
       "    </tr>\n",
       "  </thead>\n",
       "  <tbody>\n",
       "    <tr>\n",
       "      <th>0</th>\n",
       "      <td>1990-01-01</td>\n",
       "      <td>Australia</td>\n",
       "      <td>15805113240</td>\n",
       "      <td>NYGDPMKTPSAKD</td>\n",
       "    </tr>\n",
       "    <tr>\n",
       "      <th>1</th>\n",
       "      <td>1990-04-01</td>\n",
       "      <td>Australia</td>\n",
       "      <td>15826358160</td>\n",
       "      <td>NYGDPMKTPSAKD</td>\n",
       "    </tr>\n",
       "  </tbody>\n",
       "</table>\n",
       "</div>"
      ],
      "text/plain": [
       "        date    country          gdp    series_code\n",
       "0 1990-01-01  Australia  15805113240  NYGDPMKTPSAKD\n",
       "1 1990-04-01  Australia  15826358160  NYGDPMKTPSAKD"
      ]
     },
     "execution_count": 11,
     "metadata": {},
     "output_type": "execute_result"
    }
   ],
   "source": [
    "gdp.head(2)"
   ]
  },
  {
   "cell_type": "code",
   "execution_count": 12,
   "id": "e5d50279-d2c3-4bc0-bee8-f49f5f83f2c5",
   "metadata": {},
   "outputs": [
    {
     "data": {
      "text/html": [
       "<div>\n",
       "<style scoped>\n",
       "    .dataframe tbody tr th:only-of-type {\n",
       "        vertical-align: middle;\n",
       "    }\n",
       "\n",
       "    .dataframe tbody tr th {\n",
       "        vertical-align: top;\n",
       "    }\n",
       "\n",
       "    .dataframe thead th {\n",
       "        text-align: right;\n",
       "    }\n",
       "</style>\n",
       "<table border=\"1\" class=\"dataframe\">\n",
       "  <thead>\n",
       "    <tr style=\"text-align: right;\">\n",
       "      <th></th>\n",
       "      <th>date</th>\n",
       "      <th>country</th>\n",
       "      <th>pop</th>\n",
       "      <th>series_code</th>\n",
       "    </tr>\n",
       "  </thead>\n",
       "  <tbody>\n",
       "    <tr>\n",
       "      <th>0</th>\n",
       "      <td>1990-01-01</td>\n",
       "      <td>Australia</td>\n",
       "      <td>17065100</td>\n",
       "      <td>SP.POP.TOTL</td>\n",
       "    </tr>\n",
       "    <tr>\n",
       "      <th>1</th>\n",
       "      <td>1991-01-01</td>\n",
       "      <td>Australia</td>\n",
       "      <td>17284000</td>\n",
       "      <td>SP.POP.TOTL</td>\n",
       "    </tr>\n",
       "  </tbody>\n",
       "</table>\n",
       "</div>"
      ],
      "text/plain": [
       "        date    country       pop  series_code\n",
       "0 1990-01-01  Australia  17065100  SP.POP.TOTL\n",
       "1 1991-01-01  Australia  17284000  SP.POP.TOTL"
      ]
     },
     "execution_count": 12,
     "metadata": {},
     "output_type": "execute_result"
    }
   ],
   "source": [
    "pop.head(2)"
   ]
  },
  {
   "cell_type": "markdown",
   "id": "36ddfe30-e5c2-4e35-b35d-24fa4ab008be",
   "metadata": {},
   "source": [
    "### Instructions 1/2\n",
    "Use `merge_ordered()` on `gdp` and `pop`, merging on columns `date` and `country` with the `fill feature`, save to `ctry_date`."
   ]
  },
  {
   "cell_type": "code",
   "execution_count": 13,
   "id": "30ffb615-4567-438a-a91a-15c055885975",
   "metadata": {},
   "outputs": [
    {
     "name": "stdout",
     "output_type": "stream",
     "text": [
      "Index(['date', 'country', 'gdp', 'series_code'], dtype='object')\n",
      "Index(['date', 'country', 'pop', 'series_code'], dtype='object')\n"
     ]
    }
   ],
   "source": [
    "print(gdp.columns)\n",
    "print(pop.columns)"
   ]
  },
  {
   "cell_type": "code",
   "execution_count": 14,
   "id": "d20bf9be-473b-4e2b-91a0-a613c6232903",
   "metadata": {},
   "outputs": [
    {
     "data": {
      "text/html": [
       "<div>\n",
       "<style scoped>\n",
       "    .dataframe tbody tr th:only-of-type {\n",
       "        vertical-align: middle;\n",
       "    }\n",
       "\n",
       "    .dataframe tbody tr th {\n",
       "        vertical-align: top;\n",
       "    }\n",
       "\n",
       "    .dataframe thead th {\n",
       "        text-align: right;\n",
       "    }\n",
       "</style>\n",
       "<table border=\"1\" class=\"dataframe\">\n",
       "  <thead>\n",
       "    <tr style=\"text-align: right;\">\n",
       "      <th></th>\n",
       "      <th>date</th>\n",
       "      <th>country</th>\n",
       "      <th>gdp</th>\n",
       "      <th>series_code_x</th>\n",
       "      <th>pop</th>\n",
       "      <th>series_code_y</th>\n",
       "    </tr>\n",
       "  </thead>\n",
       "  <tbody>\n",
       "    <tr>\n",
       "      <th>0</th>\n",
       "      <td>1990-01-01</td>\n",
       "      <td>Australia</td>\n",
       "      <td>15805113240</td>\n",
       "      <td>NYGDPMKTPSAKD</td>\n",
       "      <td>17065100</td>\n",
       "      <td>SP.POP.TOTL</td>\n",
       "    </tr>\n",
       "    <tr>\n",
       "      <th>1</th>\n",
       "      <td>1990-01-01</td>\n",
       "      <td>Sweden</td>\n",
       "      <td>7983784599</td>\n",
       "      <td>NYGDPMKTPSAKD</td>\n",
       "      <td>8558835</td>\n",
       "      <td>SP.POP.TOTL</td>\n",
       "    </tr>\n",
       "    <tr>\n",
       "      <th>2</th>\n",
       "      <td>1990-04-01</td>\n",
       "      <td>Australia</td>\n",
       "      <td>15826358160</td>\n",
       "      <td>NYGDPMKTPSAKD</td>\n",
       "      <td>8558835</td>\n",
       "      <td>SP.POP.TOTL</td>\n",
       "    </tr>\n",
       "    <tr>\n",
       "      <th>3</th>\n",
       "      <td>1990-04-01</td>\n",
       "      <td>Sweden</td>\n",
       "      <td>8058228597</td>\n",
       "      <td>NYGDPMKTPSAKD</td>\n",
       "      <td>8558835</td>\n",
       "      <td>SP.POP.TOTL</td>\n",
       "    </tr>\n",
       "    <tr>\n",
       "      <th>4</th>\n",
       "      <td>1990-07-01</td>\n",
       "      <td>Australia</td>\n",
       "      <td>15732927900</td>\n",
       "      <td>NYGDPMKTPSAKD</td>\n",
       "      <td>8558835</td>\n",
       "      <td>SP.POP.TOTL</td>\n",
       "    </tr>\n",
       "  </tbody>\n",
       "</table>\n",
       "</div>"
      ],
      "text/plain": [
       "        date    country          gdp  series_code_x       pop series_code_y\n",
       "0 1990-01-01  Australia  15805113240  NYGDPMKTPSAKD  17065100   SP.POP.TOTL\n",
       "1 1990-01-01     Sweden   7983784599  NYGDPMKTPSAKD   8558835   SP.POP.TOTL\n",
       "2 1990-04-01  Australia  15826358160  NYGDPMKTPSAKD   8558835   SP.POP.TOTL\n",
       "3 1990-04-01     Sweden   8058228597  NYGDPMKTPSAKD   8558835   SP.POP.TOTL\n",
       "4 1990-07-01  Australia  15732927900  NYGDPMKTPSAKD   8558835   SP.POP.TOTL"
      ]
     },
     "execution_count": 14,
     "metadata": {},
     "output_type": "execute_result"
    }
   ],
   "source": [
    "ctry_date = pd.merge_ordered(gdp,pop, on = ['date','country'], fill_method='ffill')\n",
    "ctry_date.head()"
   ]
  },
  {
   "cell_type": "markdown",
   "id": "ff0c85e9-2688-4470-a5df-66e4f43d9fc2",
   "metadata": {},
   "source": [
    "### Instructions 2/2\n",
    "Perform the same merge of `gdp` and `pop`, but join on `country` and `date` (reverse of step 1) with the fill feature, saving this as `date_ctry`."
   ]
  },
  {
   "cell_type": "code",
   "execution_count": 15,
   "id": "d1d4c2ff-01c3-44b1-b840-5066c70ce193",
   "metadata": {},
   "outputs": [
    {
     "data": {
      "text/html": [
       "<div>\n",
       "<style scoped>\n",
       "    .dataframe tbody tr th:only-of-type {\n",
       "        vertical-align: middle;\n",
       "    }\n",
       "\n",
       "    .dataframe tbody tr th {\n",
       "        vertical-align: top;\n",
       "    }\n",
       "\n",
       "    .dataframe thead th {\n",
       "        text-align: right;\n",
       "    }\n",
       "</style>\n",
       "<table border=\"1\" class=\"dataframe\">\n",
       "  <thead>\n",
       "    <tr style=\"text-align: right;\">\n",
       "      <th></th>\n",
       "      <th>date</th>\n",
       "      <th>country</th>\n",
       "      <th>gdp</th>\n",
       "      <th>series_code_x</th>\n",
       "      <th>pop</th>\n",
       "      <th>series_code_y</th>\n",
       "    </tr>\n",
       "  </thead>\n",
       "  <tbody>\n",
       "    <tr>\n",
       "      <th>0</th>\n",
       "      <td>1990-01-01</td>\n",
       "      <td>Australia</td>\n",
       "      <td>15805113240</td>\n",
       "      <td>NYGDPMKTPSAKD</td>\n",
       "      <td>17065100</td>\n",
       "      <td>SP.POP.TOTL</td>\n",
       "    </tr>\n",
       "    <tr>\n",
       "      <th>1</th>\n",
       "      <td>1990-04-01</td>\n",
       "      <td>Australia</td>\n",
       "      <td>15826358160</td>\n",
       "      <td>NYGDPMKTPSAKD</td>\n",
       "      <td>17065100</td>\n",
       "      <td>SP.POP.TOTL</td>\n",
       "    </tr>\n",
       "    <tr>\n",
       "      <th>2</th>\n",
       "      <td>1990-07-01</td>\n",
       "      <td>Australia</td>\n",
       "      <td>15732927900</td>\n",
       "      <td>NYGDPMKTPSAKD</td>\n",
       "      <td>17065100</td>\n",
       "      <td>SP.POP.TOTL</td>\n",
       "    </tr>\n",
       "    <tr>\n",
       "      <th>3</th>\n",
       "      <td>1990-09-01</td>\n",
       "      <td>Australia</td>\n",
       "      <td>15824067810</td>\n",
       "      <td>NYGDPMKTPSAKD</td>\n",
       "      <td>17065100</td>\n",
       "      <td>SP.POP.TOTL</td>\n",
       "    </tr>\n",
       "    <tr>\n",
       "      <th>4</th>\n",
       "      <td>1991-01-01</td>\n",
       "      <td>Australia</td>\n",
       "      <td>15619595350</td>\n",
       "      <td>NYGDPMKTPSAKD</td>\n",
       "      <td>17284000</td>\n",
       "      <td>SP.POP.TOTL</td>\n",
       "    </tr>\n",
       "  </tbody>\n",
       "</table>\n",
       "</div>"
      ],
      "text/plain": [
       "        date    country          gdp  series_code_x       pop series_code_y\n",
       "0 1990-01-01  Australia  15805113240  NYGDPMKTPSAKD  17065100   SP.POP.TOTL\n",
       "1 1990-04-01  Australia  15826358160  NYGDPMKTPSAKD  17065100   SP.POP.TOTL\n",
       "2 1990-07-01  Australia  15732927900  NYGDPMKTPSAKD  17065100   SP.POP.TOTL\n",
       "3 1990-09-01  Australia  15824067810  NYGDPMKTPSAKD  17065100   SP.POP.TOTL\n",
       "4 1991-01-01  Australia  15619595350  NYGDPMKTPSAKD  17284000   SP.POP.TOTL"
      ]
     },
     "execution_count": 15,
     "metadata": {},
     "output_type": "execute_result"
    }
   ],
   "source": [
    "date_ctry = pd.merge_ordered(gdp,pop,on = ['country','date'], fill_method='ffill')\n",
    "date_ctry.head()"
   ]
  },
  {
   "cell_type": "markdown",
   "id": "b954bffa-3561-4c2a-bb22-7aba6daafcfa",
   "metadata": {},
   "source": [
    "When you merge on date first, the table is sorted by date then country. When forward fill is applied, Sweden's population value in January is used to fill in the missing values for both Australia and the Sweden for the remainder of the year. This is not what you want. The fill forward is using unintended data to fill in the missing values. However, when you merge on country first, the table is sorted by country then date, so the forward fill is applied appropriately in this situation."
   ]
  },
  {
   "cell_type": "markdown",
   "id": "3e8ce424-9cce-4613-9fdb-c531169f9ccc",
   "metadata": {},
   "source": [
    "## Using merge_asof() to study stocks\n",
    "\n",
    "You have a feed of stock market prices that you record. You attempt to track the price every five minutes. Still, due to some network latency, the prices you record are roughly every 5 minutes. You pull your price logs for three banks, JP Morgan (JPM), Wells Fargo (WFC), and Bank Of America (BAC). You want to know how the price change of the two other banks compare to JP Morgan. Therefore, you will need to merge these three logs into one table. Afterward, you will use the pandas `.diff()` method to compute the price change over time. Finally, plot the price changes so you can review your analysis.\n",
    "\n",
    "The three log files have been loaded for you as tables named `jpm`, `wells`, and `bac`."
   ]
  },
  {
   "cell_type": "code",
   "execution_count": 16,
   "id": "7200647d-bd93-45c1-a819-2f52c4dadaf4",
   "metadata": {},
   "outputs": [],
   "source": [
    "jpm = pd.read_excel('datasets/jpm.xlsx')\n",
    "wells = pd.read_excel('datasets/wells.xlsx')\n",
    "bac = pd.read_excel('datasets/bac.xlsx')"
   ]
  },
  {
   "cell_type": "code",
   "execution_count": 17,
   "id": "390b22fc-5069-4a6a-bccd-274fb2ee1420",
   "metadata": {},
   "outputs": [
    {
     "name": "stdout",
     "output_type": "stream",
     "text": [
      "Index(['date_time', 'close'], dtype='object')\n",
      "Index(['date_time', 'close'], dtype='object')\n",
      "Index(['date_time', 'close'], dtype='object')\n"
     ]
    }
   ],
   "source": [
    "print(jpm.columns)\n",
    "print(wells.columns)\n",
    "print(bac.columns)"
   ]
  },
  {
   "cell_type": "markdown",
   "id": "1a5bd129-1e4b-4bd0-ab0b-47f4c400ee02",
   "metadata": {},
   "source": [
    "### Instructions\n",
    "- Use `merge_asof()` to merge `jpm` (left table) and `wells` together on the `date_time` column, where the rows with the **nearest** times are matched, and with `suffixes=('', '_wells')`. Save to `jpm_wells`.\n",
    "- Use `merge_asof()` to merge `jpm_wells` (left table) and `bac` together on the `date_time` column, where the rows with the closest times are matched, and with `suffixes=('_jpm', '_bac')`. Save to `jpm_wells_bac`.\n",
    "- Using `price_diffs`, create a line plot of the close price of JPM, WFC, and BAC only."
   ]
  },
  {
   "cell_type": "code",
   "execution_count": 18,
   "id": "6b0f53b1-9567-499c-86ea-46cb8d5c95eb",
   "metadata": {},
   "outputs": [
    {
     "data": {
      "text/html": [
       "<div>\n",
       "<style scoped>\n",
       "    .dataframe tbody tr th:only-of-type {\n",
       "        vertical-align: middle;\n",
       "    }\n",
       "\n",
       "    .dataframe tbody tr th {\n",
       "        vertical-align: top;\n",
       "    }\n",
       "\n",
       "    .dataframe thead th {\n",
       "        text-align: right;\n",
       "    }\n",
       "</style>\n",
       "<table border=\"1\" class=\"dataframe\">\n",
       "  <thead>\n",
       "    <tr style=\"text-align: right;\">\n",
       "      <th></th>\n",
       "      <th>date_time</th>\n",
       "      <th>close</th>\n",
       "      <th>close_wells</th>\n",
       "    </tr>\n",
       "  </thead>\n",
       "  <tbody>\n",
       "    <tr>\n",
       "      <th>0</th>\n",
       "      <td>2017-11-17 15:35:17</td>\n",
       "      <td>981200</td>\n",
       "      <td>543227</td>\n",
       "    </tr>\n",
       "    <tr>\n",
       "      <th>1</th>\n",
       "      <td>2017-11-17 15:40:04</td>\n",
       "      <td>981800</td>\n",
       "      <td>543200</td>\n",
       "    </tr>\n",
       "    <tr>\n",
       "      <th>2</th>\n",
       "      <td>2017-11-17 15:45:01</td>\n",
       "      <td>977307</td>\n",
       "      <td>541900</td>\n",
       "    </tr>\n",
       "    <tr>\n",
       "      <th>3</th>\n",
       "      <td>2017-11-17 15:50:55</td>\n",
       "      <td>977400</td>\n",
       "      <td>541700</td>\n",
       "    </tr>\n",
       "    <tr>\n",
       "      <th>4</th>\n",
       "      <td>2017-11-17 15:55:00</td>\n",
       "      <td>978150</td>\n",
       "      <td>541841</td>\n",
       "    </tr>\n",
       "  </tbody>\n",
       "</table>\n",
       "</div>"
      ],
      "text/plain": [
       "            date_time   close  close_wells\n",
       "0 2017-11-17 15:35:17  981200       543227\n",
       "1 2017-11-17 15:40:04  981800       543200\n",
       "2 2017-11-17 15:45:01  977307       541900\n",
       "3 2017-11-17 15:50:55  977400       541700\n",
       "4 2017-11-17 15:55:00  978150       541841"
      ]
     },
     "execution_count": 18,
     "metadata": {},
     "output_type": "execute_result"
    }
   ],
   "source": [
    "jpm_wells = pd.merge_asof(jpm,wells, on='date_time', suffixes=('','_wells'), direction='nearest')\n",
    "jpm_wells.head()"
   ]
  },
  {
   "cell_type": "code",
   "execution_count": 19,
   "id": "2d14b9cd-207b-4e01-9ada-63dff62912b5",
   "metadata": {},
   "outputs": [
    {
     "data": {
      "text/html": [
       "<div>\n",
       "<style scoped>\n",
       "    .dataframe tbody tr th:only-of-type {\n",
       "        vertical-align: middle;\n",
       "    }\n",
       "\n",
       "    .dataframe tbody tr th {\n",
       "        vertical-align: top;\n",
       "    }\n",
       "\n",
       "    .dataframe thead th {\n",
       "        text-align: right;\n",
       "    }\n",
       "</style>\n",
       "<table border=\"1\" class=\"dataframe\">\n",
       "  <thead>\n",
       "    <tr style=\"text-align: right;\">\n",
       "      <th></th>\n",
       "      <th>date_time</th>\n",
       "      <th>close_jpm</th>\n",
       "      <th>close_wells</th>\n",
       "      <th>close_bac</th>\n",
       "    </tr>\n",
       "  </thead>\n",
       "  <tbody>\n",
       "    <tr>\n",
       "      <th>0</th>\n",
       "      <td>2017-11-17 15:35:17</td>\n",
       "      <td>981200</td>\n",
       "      <td>543227</td>\n",
       "      <td>26552</td>\n",
       "    </tr>\n",
       "    <tr>\n",
       "      <th>1</th>\n",
       "      <td>2017-11-17 15:40:04</td>\n",
       "      <td>981800</td>\n",
       "      <td>543200</td>\n",
       "      <td>26552</td>\n",
       "    </tr>\n",
       "    <tr>\n",
       "      <th>2</th>\n",
       "      <td>2017-11-17 15:45:01</td>\n",
       "      <td>977307</td>\n",
       "      <td>541900</td>\n",
       "      <td>26388</td>\n",
       "    </tr>\n",
       "    <tr>\n",
       "      <th>3</th>\n",
       "      <td>2017-11-17 15:50:55</td>\n",
       "      <td>977400</td>\n",
       "      <td>541700</td>\n",
       "      <td>26383</td>\n",
       "    </tr>\n",
       "    <tr>\n",
       "      <th>4</th>\n",
       "      <td>2017-11-17 15:55:00</td>\n",
       "      <td>978150</td>\n",
       "      <td>541841</td>\n",
       "      <td>26383</td>\n",
       "    </tr>\n",
       "  </tbody>\n",
       "</table>\n",
       "</div>"
      ],
      "text/plain": [
       "            date_time  close_jpm  close_wells  close_bac\n",
       "0 2017-11-17 15:35:17     981200       543227      26552\n",
       "1 2017-11-17 15:40:04     981800       543200      26552\n",
       "2 2017-11-17 15:45:01     977307       541900      26388\n",
       "3 2017-11-17 15:50:55     977400       541700      26383\n",
       "4 2017-11-17 15:55:00     978150       541841      26383"
      ]
     },
     "execution_count": 19,
     "metadata": {},
     "output_type": "execute_result"
    }
   ],
   "source": [
    "jpm_wells_bac = pd.merge_asof(jpm_wells,bac, on='date_time', suffixes=('_jpm', '_bac'),direction='forward')\n",
    "jpm_wells_bac.head()"
   ]
  },
  {
   "cell_type": "code",
   "execution_count": 20,
   "id": "086df9a2-d0f4-48c8-8d8d-c315aad7d063",
   "metadata": {},
   "outputs": [
    {
     "data": {
      "text/html": [
       "<div>\n",
       "<style scoped>\n",
       "    .dataframe tbody tr th:only-of-type {\n",
       "        vertical-align: middle;\n",
       "    }\n",
       "\n",
       "    .dataframe tbody tr th {\n",
       "        vertical-align: top;\n",
       "    }\n",
       "\n",
       "    .dataframe thead th {\n",
       "        text-align: right;\n",
       "    }\n",
       "</style>\n",
       "<table border=\"1\" class=\"dataframe\">\n",
       "  <thead>\n",
       "    <tr style=\"text-align: right;\">\n",
       "      <th></th>\n",
       "      <th>date_time</th>\n",
       "      <th>close_jpm</th>\n",
       "      <th>close_wells</th>\n",
       "      <th>close_bac</th>\n",
       "    </tr>\n",
       "  </thead>\n",
       "  <tbody>\n",
       "    <tr>\n",
       "      <th>0</th>\n",
       "      <td>NaT</td>\n",
       "      <td>NaN</td>\n",
       "      <td>NaN</td>\n",
       "      <td>NaN</td>\n",
       "    </tr>\n",
       "  </tbody>\n",
       "</table>\n",
       "</div>"
      ],
      "text/plain": [
       "  date_time  close_jpm  close_wells  close_bac\n",
       "0       NaT        NaN          NaN        NaN"
      ]
     },
     "execution_count": 20,
     "metadata": {},
     "output_type": "execute_result"
    }
   ],
   "source": [
    "price_diffs = jpm_wells_bac.diff()\n",
    "price_diffs.head(1)"
   ]
  },
  {
   "cell_type": "code",
   "execution_count": 21,
   "id": "94d2723b-26db-403c-a25b-bfff390b1263",
   "metadata": {},
   "outputs": [
    {
     "data": {
      "image/png": "[encoded data removed]",
      "text/plain": [
       "<Figure size 432x288 with 1 Axes>"
      ]
     },
     "metadata": {
      "needs_background": "light"
     },
     "output_type": "display_data"
    }
   ],
   "source": [
    "price_diffs.plot(y=['close_jpm','close_wells','close_bac'])\n",
    "plt.show()"
   ]
  },
  {
   "cell_type": "markdown",
   "id": "a6b9a19e-9776-4e5f-a8bb-8ae2dfd742f0",
   "metadata": {},
   "source": [
    "You can see that during this period, the price change for these bank stocks was roughly the same, although the price change for JP Morgan was more variable. The critical point here is that the merge_asof() function is very useful in performing the fuzzy matching between the timestamps of all the tables."
   ]
  },
  {
   "cell_type": "markdown",
   "id": "1faa5667-2484-4769-a2ca-57d29793e848",
   "metadata": {},
   "source": [
    "## Using merge_asof() to create dataset\n",
    "\n",
    "The `merge_asof()` function can be used to create datasets where you have a table of start and stop dates, and you want to use them to create a flag in another table. You have been given `gdp`, which is a table of quarterly GDP values of the US during the 1980s. Additionally, the table `recession` has been given to you. It holds the starting date of every US recession since 1980, and the date when the recession was declared to be over. Use merge_asof() to merge the tables and create a status flag if a quarter was during a recession. Finally, to check your work, plot the data in a bar chart.\n",
    "\n",
    "The tables `gdp` and `recession` have been loaded for you."
   ]
  },
  {
   "cell_type": "code",
   "execution_count": 22,
   "id": "de42e334-06fa-4943-8c41-aa340fc3b541",
   "metadata": {},
   "outputs": [],
   "source": [
    "gdp = pd.read_excel('datasets/gdp_3.xlsx')\n",
    "recession = pd.read_excel('datasets/recession.xlsx')"
   ]
  },
  {
   "cell_type": "code",
   "execution_count": 23,
   "id": "614aade6-38ae-4811-8867-961c101035b0",
   "metadata": {},
   "outputs": [
    {
     "data": {
      "text/html": [
       "<div>\n",
       "<style scoped>\n",
       "    .dataframe tbody tr th:only-of-type {\n",
       "        vertical-align: middle;\n",
       "    }\n",
       "\n",
       "    .dataframe tbody tr th {\n",
       "        vertical-align: top;\n",
       "    }\n",
       "\n",
       "    .dataframe thead th {\n",
       "        text-align: right;\n",
       "    }\n",
       "</style>\n",
       "<table border=\"1\" class=\"dataframe\">\n",
       "  <thead>\n",
       "    <tr style=\"text-align: right;\">\n",
       "      <th></th>\n",
       "      <th>date</th>\n",
       "      <th>gdp</th>\n",
       "    </tr>\n",
       "  </thead>\n",
       "  <tbody>\n",
       "    <tr>\n",
       "      <th>0</th>\n",
       "      <td>1979-01-01</td>\n",
       "      <td>2526610</td>\n",
       "    </tr>\n",
       "    <tr>\n",
       "      <th>1</th>\n",
       "      <td>1979-04-01</td>\n",
       "      <td>2591247</td>\n",
       "    </tr>\n",
       "  </tbody>\n",
       "</table>\n",
       "</div>"
      ],
      "text/plain": [
       "        date      gdp\n",
       "0 1979-01-01  2526610\n",
       "1 1979-04-01  2591247"
      ]
     },
     "execution_count": 23,
     "metadata": {},
     "output_type": "execute_result"
    }
   ],
   "source": [
    "gdp.head(2)"
   ]
  },
  {
   "cell_type": "code",
   "execution_count": 24,
   "id": "46732ab2-f6c3-4b93-9eff-7dc3b582cc73",
   "metadata": {},
   "outputs": [
    {
     "data": {
      "text/html": [
       "<div>\n",
       "<style scoped>\n",
       "    .dataframe tbody tr th:only-of-type {\n",
       "        vertical-align: middle;\n",
       "    }\n",
       "\n",
       "    .dataframe tbody tr th {\n",
       "        vertical-align: top;\n",
       "    }\n",
       "\n",
       "    .dataframe thead th {\n",
       "        text-align: right;\n",
       "    }\n",
       "</style>\n",
       "<table border=\"1\" class=\"dataframe\">\n",
       "  <thead>\n",
       "    <tr style=\"text-align: right;\">\n",
       "      <th></th>\n",
       "      <th>date</th>\n",
       "      <th>econ_status</th>\n",
       "    </tr>\n",
       "  </thead>\n",
       "  <tbody>\n",
       "    <tr>\n",
       "      <th>0</th>\n",
       "      <td>1980-01-01</td>\n",
       "      <td>recession</td>\n",
       "    </tr>\n",
       "    <tr>\n",
       "      <th>1</th>\n",
       "      <td>1980-08-01</td>\n",
       "      <td>normal</td>\n",
       "    </tr>\n",
       "  </tbody>\n",
       "</table>\n",
       "</div>"
      ],
      "text/plain": [
       "        date econ_status\n",
       "0 1980-01-01   recession\n",
       "1 1980-08-01      normal"
      ]
     },
     "execution_count": 24,
     "metadata": {},
     "output_type": "execute_result"
    }
   ],
   "source": [
    "recession.head(2)"
   ]
  },
  {
   "cell_type": "markdown",
   "id": "f1a85709-c4b3-4e92-a77f-cf60d55cb4c9",
   "metadata": {},
   "source": [
    "### Instructions\n",
    "- Using `merge_asof()`, merge `gdp` and `recession` on `date`, with gdp as the left table. Save to the variable `gdp_recession`.\n",
    "- Create a `list` using a list comprehension and a conditional expression, named `is_recession`, where for each row if the `gdp_recession['econ_status']` value is equal to 'recession' then enter `'r'` else `'g'`.\n",
    "- Using `gdp_recession`, plot a bar chart of `gdp` versus `date`, setting the `color` argument equal to `is_recession`."
   ]
  },
  {
   "cell_type": "code",
   "execution_count": 25,
   "id": "20e0d714-55ec-41b8-b214-62069886b013",
   "metadata": {},
   "outputs": [
    {
     "data": {
      "text/html": [
       "<div>\n",
       "<style scoped>\n",
       "    .dataframe tbody tr th:only-of-type {\n",
       "        vertical-align: middle;\n",
       "    }\n",
       "\n",
       "    .dataframe tbody tr th {\n",
       "        vertical-align: top;\n",
       "    }\n",
       "\n",
       "    .dataframe thead th {\n",
       "        text-align: right;\n",
       "    }\n",
       "</style>\n",
       "<table border=\"1\" class=\"dataframe\">\n",
       "  <thead>\n",
       "    <tr style=\"text-align: right;\">\n",
       "      <th></th>\n",
       "      <th>date</th>\n",
       "      <th>gdp</th>\n",
       "      <th>econ_status</th>\n",
       "    </tr>\n",
       "  </thead>\n",
       "  <tbody>\n",
       "    <tr>\n",
       "      <th>0</th>\n",
       "      <td>1979-01-01</td>\n",
       "      <td>2526610</td>\n",
       "      <td>NaN</td>\n",
       "    </tr>\n",
       "    <tr>\n",
       "      <th>1</th>\n",
       "      <td>1979-04-01</td>\n",
       "      <td>2591247</td>\n",
       "      <td>NaN</td>\n",
       "    </tr>\n",
       "  </tbody>\n",
       "</table>\n",
       "</div>"
      ],
      "text/plain": [
       "        date      gdp econ_status\n",
       "0 1979-01-01  2526610         NaN\n",
       "1 1979-04-01  2591247         NaN"
      ]
     },
     "execution_count": 25,
     "metadata": {},
     "output_type": "execute_result"
    }
   ],
   "source": [
    "gdp_recession = pd.merge_asof(gdp, recession, on='date')\n",
    "gdp_recession.head(2)"
   ]
  },
  {
   "cell_type": "code",
   "execution_count": 26,
   "id": "5baf09a6-b880-4824-bf76-2a5f4642a29a",
   "metadata": {},
   "outputs": [],
   "source": [
    "# Create a list based on the row value of gdp_recession['econ_status']\n",
    "is_recession = ['r' if s=='recession' else 'g' for s in gdp_recession['econ_status']]"
   ]
  },
  {
   "cell_type": "code",
   "execution_count": 27,
   "id": "ab9addd2-21f6-4011-8816-bf9e2869a0a6",
   "metadata": {},
   "outputs": [
    {
     "data": {
      "image/png": "[encoded data removed]",
      "text/plain": [
       "<Figure size 432x288 with 1 Axes>"
      ]
     },
     "metadata": {
      "needs_background": "light"
     },
     "output_type": "display_data"
    }
   ],
   "source": [
    "gdp_recession.plot(kind='bar',y='gdp',x='date',color=is_recession,rot=90)\n",
    "plt.show()"
   ]
  },
  {
   "cell_type": "markdown",
   "id": "5d5b84ac-2fe8-46ed-b91f-bde6abbae791",
   "metadata": {},
   "source": [
    "You can see from the chart that there were a number of quarters early in the 1980s where a recession was an issue. merge_asof() allowed you to quickly add a flag to the gdp dataset by matching between two different dates, in one line of code! If you were to perform the same task using subsetting, it would have taken a lot more code."
   ]
  },
  {
   "cell_type": "markdown",
   "id": "0a67c057-98ed-4603-a702-bc4da2eaa02d",
   "metadata": {},
   "source": [
    "## Subsetting rows with .query()\n",
    "\n",
    "In this exercise, you will revisit GDP and population data for Australia and Sweden from the World Bank and expand on it using the .query() method. You'll merge the two tables and compute the GDP per capita. Afterwards, you'll use the .query() method to sub-select the rows and create a plot. Recall that you will need to merge on multiple columns in the proper order.\n",
    "\n",
    "The tables `gdp` and `pop` have been loaded for you."
   ]
  },
  {
   "cell_type": "code",
   "execution_count": 28,
   "id": "890984c5-e370-4dc5-84a9-94779373ae6d",
   "metadata": {},
   "outputs": [],
   "source": [
    "gdp = pd.read_excel('datasets/gdp_2.xlsx')\n",
    "pop = pd.read_excel('datasets/pop.xlsx')"
   ]
  },
  {
   "cell_type": "markdown",
   "id": "9b6811dd-32cf-4b2e-b8a2-2214c5fe5229",
   "metadata": {},
   "source": [
    "### Instructions 1/4\n",
    "Use `merge_ordered()` on `gdp` and `pop` on columns `country` and `date` with the `fill feature`, save to `gdp_pop` and print."
   ]
  },
  {
   "cell_type": "code",
   "execution_count": 29,
   "id": "2b28e032-fe7d-4d80-8fb2-41df13802cea",
   "metadata": {},
   "outputs": [
    {
     "data": {
      "text/html": [
       "<div>\n",
       "<style scoped>\n",
       "    .dataframe tbody tr th:only-of-type {\n",
       "        vertical-align: middle;\n",
       "    }\n",
       "\n",
       "    .dataframe tbody tr th {\n",
       "        vertical-align: top;\n",
       "    }\n",
       "\n",
       "    .dataframe thead th {\n",
       "        text-align: right;\n",
       "    }\n",
       "</style>\n",
       "<table border=\"1\" class=\"dataframe\">\n",
       "  <thead>\n",
       "    <tr style=\"text-align: right;\">\n",
       "      <th></th>\n",
       "      <th>date</th>\n",
       "      <th>country</th>\n",
       "      <th>gdp</th>\n",
       "      <th>series_code</th>\n",
       "    </tr>\n",
       "  </thead>\n",
       "  <tbody>\n",
       "    <tr>\n",
       "      <th>0</th>\n",
       "      <td>1990-01-01</td>\n",
       "      <td>Australia</td>\n",
       "      <td>15805113240</td>\n",
       "      <td>NYGDPMKTPSAKD</td>\n",
       "    </tr>\n",
       "    <tr>\n",
       "      <th>1</th>\n",
       "      <td>1990-04-01</td>\n",
       "      <td>Australia</td>\n",
       "      <td>15826358160</td>\n",
       "      <td>NYGDPMKTPSAKD</td>\n",
       "    </tr>\n",
       "  </tbody>\n",
       "</table>\n",
       "</div>"
      ],
      "text/plain": [
       "        date    country          gdp    series_code\n",
       "0 1990-01-01  Australia  15805113240  NYGDPMKTPSAKD\n",
       "1 1990-04-01  Australia  15826358160  NYGDPMKTPSAKD"
      ]
     },
     "execution_count": 29,
     "metadata": {},
     "output_type": "execute_result"
    }
   ],
   "source": [
    "gdp.head(2)"
   ]
  },
  {
   "cell_type": "code",
   "execution_count": 30,
   "id": "aa16c39a-f439-4097-af4d-fd30b2bfd992",
   "metadata": {},
   "outputs": [
    {
     "data": {
      "text/html": [
       "<div>\n",
       "<style scoped>\n",
       "    .dataframe tbody tr th:only-of-type {\n",
       "        vertical-align: middle;\n",
       "    }\n",
       "\n",
       "    .dataframe tbody tr th {\n",
       "        vertical-align: top;\n",
       "    }\n",
       "\n",
       "    .dataframe thead th {\n",
       "        text-align: right;\n",
       "    }\n",
       "</style>\n",
       "<table border=\"1\" class=\"dataframe\">\n",
       "  <thead>\n",
       "    <tr style=\"text-align: right;\">\n",
       "      <th></th>\n",
       "      <th>date</th>\n",
       "      <th>country</th>\n",
       "      <th>pop</th>\n",
       "      <th>series_code</th>\n",
       "    </tr>\n",
       "  </thead>\n",
       "  <tbody>\n",
       "    <tr>\n",
       "      <th>0</th>\n",
       "      <td>1990-01-01</td>\n",
       "      <td>Australia</td>\n",
       "      <td>17065100</td>\n",
       "      <td>SP.POP.TOTL</td>\n",
       "    </tr>\n",
       "    <tr>\n",
       "      <th>1</th>\n",
       "      <td>1991-01-01</td>\n",
       "      <td>Australia</td>\n",
       "      <td>17284000</td>\n",
       "      <td>SP.POP.TOTL</td>\n",
       "    </tr>\n",
       "  </tbody>\n",
       "</table>\n",
       "</div>"
      ],
      "text/plain": [
       "        date    country       pop  series_code\n",
       "0 1990-01-01  Australia  17065100  SP.POP.TOTL\n",
       "1 1991-01-01  Australia  17284000  SP.POP.TOTL"
      ]
     },
     "execution_count": 30,
     "metadata": {},
     "output_type": "execute_result"
    }
   ],
   "source": [
    "pop.head(2)"
   ]
  },
  {
   "cell_type": "code",
   "execution_count": 31,
   "id": "26f65008-2be6-4036-a953-2b0e172f20dd",
   "metadata": {},
   "outputs": [
    {
     "data": {
      "text/html": [
       "<div>\n",
       "<style scoped>\n",
       "    .dataframe tbody tr th:only-of-type {\n",
       "        vertical-align: middle;\n",
       "    }\n",
       "\n",
       "    .dataframe tbody tr th {\n",
       "        vertical-align: top;\n",
       "    }\n",
       "\n",
       "    .dataframe thead th {\n",
       "        text-align: right;\n",
       "    }\n",
       "</style>\n",
       "<table border=\"1\" class=\"dataframe\">\n",
       "  <thead>\n",
       "    <tr style=\"text-align: right;\">\n",
       "      <th></th>\n",
       "      <th>date</th>\n",
       "      <th>country</th>\n",
       "      <th>gdp</th>\n",
       "      <th>series_code_x</th>\n",
       "      <th>pop</th>\n",
       "      <th>series_code_y</th>\n",
       "    </tr>\n",
       "  </thead>\n",
       "  <tbody>\n",
       "    <tr>\n",
       "      <th>0</th>\n",
       "      <td>1990-01-01</td>\n",
       "      <td>Australia</td>\n",
       "      <td>15805113240</td>\n",
       "      <td>NYGDPMKTPSAKD</td>\n",
       "      <td>17065100</td>\n",
       "      <td>SP.POP.TOTL</td>\n",
       "    </tr>\n",
       "    <tr>\n",
       "      <th>1</th>\n",
       "      <td>1990-04-01</td>\n",
       "      <td>Australia</td>\n",
       "      <td>15826358160</td>\n",
       "      <td>NYGDPMKTPSAKD</td>\n",
       "      <td>17065100</td>\n",
       "      <td>SP.POP.TOTL</td>\n",
       "    </tr>\n",
       "    <tr>\n",
       "      <th>2</th>\n",
       "      <td>1990-07-01</td>\n",
       "      <td>Australia</td>\n",
       "      <td>15732927900</td>\n",
       "      <td>NYGDPMKTPSAKD</td>\n",
       "      <td>17065100</td>\n",
       "      <td>SP.POP.TOTL</td>\n",
       "    </tr>\n",
       "    <tr>\n",
       "      <th>3</th>\n",
       "      <td>1990-09-01</td>\n",
       "      <td>Australia</td>\n",
       "      <td>15824067810</td>\n",
       "      <td>NYGDPMKTPSAKD</td>\n",
       "      <td>17065100</td>\n",
       "      <td>SP.POP.TOTL</td>\n",
       "    </tr>\n",
       "    <tr>\n",
       "      <th>4</th>\n",
       "      <td>1991-01-01</td>\n",
       "      <td>Australia</td>\n",
       "      <td>15619595350</td>\n",
       "      <td>NYGDPMKTPSAKD</td>\n",
       "      <td>17284000</td>\n",
       "      <td>SP.POP.TOTL</td>\n",
       "    </tr>\n",
       "  </tbody>\n",
       "</table>\n",
       "</div>"
      ],
      "text/plain": [
       "        date    country          gdp  series_code_x       pop series_code_y\n",
       "0 1990-01-01  Australia  15805113240  NYGDPMKTPSAKD  17065100   SP.POP.TOTL\n",
       "1 1990-04-01  Australia  15826358160  NYGDPMKTPSAKD  17065100   SP.POP.TOTL\n",
       "2 1990-07-01  Australia  15732927900  NYGDPMKTPSAKD  17065100   SP.POP.TOTL\n",
       "3 1990-09-01  Australia  15824067810  NYGDPMKTPSAKD  17065100   SP.POP.TOTL\n",
       "4 1991-01-01  Australia  15619595350  NYGDPMKTPSAKD  17284000   SP.POP.TOTL"
      ]
     },
     "execution_count": 31,
     "metadata": {},
     "output_type": "execute_result"
    }
   ],
   "source": [
    "gdp_pop = pd.merge_ordered(gdp, pop, on = ['country','date'], fill_method='ffill')\n",
    "gdp_pop.head()"
   ]
  },
  {
   "cell_type": "markdown",
   "id": "3da65235-3ef6-4794-8afa-8e40dae6ec06",
   "metadata": {},
   "source": [
    "### Instructions 2/3\n",
    "Add a column named `gdp_per_capita` to `gdp_pop` that divides `gdp` by `pop`."
   ]
  },
  {
   "cell_type": "code",
   "execution_count": 32,
   "id": "f5830e34-a8d9-427d-b9d9-0311138ac652",
   "metadata": {},
   "outputs": [
    {
     "data": {
      "text/html": [
       "<div>\n",
       "<style scoped>\n",
       "    .dataframe tbody tr th:only-of-type {\n",
       "        vertical-align: middle;\n",
       "    }\n",
       "\n",
       "    .dataframe tbody tr th {\n",
       "        vertical-align: top;\n",
       "    }\n",
       "\n",
       "    .dataframe thead th {\n",
       "        text-align: right;\n",
       "    }\n",
       "</style>\n",
       "<table border=\"1\" class=\"dataframe\">\n",
       "  <thead>\n",
       "    <tr style=\"text-align: right;\">\n",
       "      <th></th>\n",
       "      <th>date</th>\n",
       "      <th>country</th>\n",
       "      <th>gdp</th>\n",
       "      <th>series_code_x</th>\n",
       "      <th>pop</th>\n",
       "      <th>series_code_y</th>\n",
       "      <th>gdp_per_capita</th>\n",
       "    </tr>\n",
       "  </thead>\n",
       "  <tbody>\n",
       "    <tr>\n",
       "      <th>0</th>\n",
       "      <td>1990-01-01</td>\n",
       "      <td>Australia</td>\n",
       "      <td>15805113240</td>\n",
       "      <td>NYGDPMKTPSAKD</td>\n",
       "      <td>17065100</td>\n",
       "      <td>SP.POP.TOTL</td>\n",
       "      <td>926.165873</td>\n",
       "    </tr>\n",
       "    <tr>\n",
       "      <th>1</th>\n",
       "      <td>1990-04-01</td>\n",
       "      <td>Australia</td>\n",
       "      <td>15826358160</td>\n",
       "      <td>NYGDPMKTPSAKD</td>\n",
       "      <td>17065100</td>\n",
       "      <td>SP.POP.TOTL</td>\n",
       "      <td>927.410807</td>\n",
       "    </tr>\n",
       "  </tbody>\n",
       "</table>\n",
       "</div>"
      ],
      "text/plain": [
       "        date    country          gdp  series_code_x       pop series_code_y  \\\n",
       "0 1990-01-01  Australia  15805113240  NYGDPMKTPSAKD  17065100   SP.POP.TOTL   \n",
       "1 1990-04-01  Australia  15826358160  NYGDPMKTPSAKD  17065100   SP.POP.TOTL   \n",
       "\n",
       "   gdp_per_capita  \n",
       "0      926.165873  \n",
       "1      927.410807  "
      ]
     },
     "execution_count": 32,
     "metadata": {},
     "output_type": "execute_result"
    }
   ],
   "source": [
    "gdp_pop['gdp_per_capita'] = gdp_pop['gdp']/gdp_pop['pop']\n",
    "gdp_pop.head(2)"
   ]
  },
  {
   "cell_type": "markdown",
   "id": "2d21ed79-4722-4877-ac55-cf83210fd1ce",
   "metadata": {},
   "source": [
    "### Instructions 3/4\n",
    "Pivot `gdp_pop` so `values='gdp_per_capita'`, `index='date'`, and `columns='country'`, save as `gdp_pivot`."
   ]
  },
  {
   "cell_type": "code",
   "execution_count": 33,
   "id": "5164d53b-0acd-45d6-8eb5-b80ba1dea3c3",
   "metadata": {},
   "outputs": [
    {
     "data": {
      "text/html": [
       "<div>\n",
       "<style scoped>\n",
       "    .dataframe tbody tr th:only-of-type {\n",
       "        vertical-align: middle;\n",
       "    }\n",
       "\n",
       "    .dataframe tbody tr th {\n",
       "        vertical-align: top;\n",
       "    }\n",
       "\n",
       "    .dataframe thead th {\n",
       "        text-align: right;\n",
       "    }\n",
       "</style>\n",
       "<table border=\"1\" class=\"dataframe\">\n",
       "  <thead>\n",
       "    <tr style=\"text-align: right;\">\n",
       "      <th>country</th>\n",
       "      <th>Australia</th>\n",
       "      <th>Sweden</th>\n",
       "    </tr>\n",
       "    <tr>\n",
       "      <th>date</th>\n",
       "      <th></th>\n",
       "      <th></th>\n",
       "    </tr>\n",
       "  </thead>\n",
       "  <tbody>\n",
       "    <tr>\n",
       "      <th>1990-01-01</th>\n",
       "      <td>926.165873</td>\n",
       "      <td>932.812071</td>\n",
       "    </tr>\n",
       "    <tr>\n",
       "      <th>1990-04-01</th>\n",
       "      <td>927.410807</td>\n",
       "      <td>941.509983</td>\n",
       "    </tr>\n",
       "    <tr>\n",
       "      <th>1990-07-01</th>\n",
       "      <td>921.935875</td>\n",
       "      <td>934.407080</td>\n",
       "    </tr>\n",
       "  </tbody>\n",
       "</table>\n",
       "</div>"
      ],
      "text/plain": [
       "country      Australia      Sweden\n",
       "date                              \n",
       "1990-01-01  926.165873  932.812071\n",
       "1990-04-01  927.410807  941.509983\n",
       "1990-07-01  921.935875  934.407080"
      ]
     },
     "execution_count": 33,
     "metadata": {},
     "output_type": "execute_result"
    }
   ],
   "source": [
    "gdp_pivot = gdp_pop.pivot_table(values='gdp_per_capita',index='date',columns='country')\n",
    "gdp_pivot.head(3)"
   ]
  },
  {
   "cell_type": "markdown",
   "id": "af0c82b3-3244-43cd-a3c9-01569e7415f7",
   "metadata": {},
   "source": [
    "### Instructions 4/4\n",
    "Use `.query()` to select rows from `gdp_pivot` where `date` is greater than equal to `\"1991-01-01\"`. Save as `recent_gdp_pop`."
   ]
  },
  {
   "cell_type": "code",
   "execution_count": 34,
   "id": "992fc301-5ccb-493c-bf11-fb6a48981b47",
   "metadata": {},
   "outputs": [
    {
     "name": "stdout",
     "output_type": "stream",
     "text": [
      "<class 'pandas.core.frame.DataFrame'>\n",
      "DatetimeIndex: 16 entries, 1990-01-01 to 1993-09-01\n",
      "Data columns (total 2 columns):\n",
      " #   Column     Non-Null Count  Dtype  \n",
      "---  ------     --------------  -----  \n",
      " 0   Australia  16 non-null     float64\n",
      " 1   Sweden     16 non-null     float64\n",
      "dtypes: float64(2)\n",
      "memory usage: 384.0 bytes\n"
     ]
    }
   ],
   "source": [
    "gdp_pivot.info()"
   ]
  },
  {
   "cell_type": "code",
   "execution_count": 35,
   "id": "acc5c51f-248f-49db-a34c-31f48b9caacd",
   "metadata": {},
   "outputs": [
    {
     "data": {
      "text/html": [
       "<div>\n",
       "<style scoped>\n",
       "    .dataframe tbody tr th:only-of-type {\n",
       "        vertical-align: middle;\n",
       "    }\n",
       "\n",
       "    .dataframe tbody tr th {\n",
       "        vertical-align: top;\n",
       "    }\n",
       "\n",
       "    .dataframe thead th {\n",
       "        text-align: right;\n",
       "    }\n",
       "</style>\n",
       "<table border=\"1\" class=\"dataframe\">\n",
       "  <thead>\n",
       "    <tr style=\"text-align: right;\">\n",
       "      <th>country</th>\n",
       "      <th>Australia</th>\n",
       "      <th>Sweden</th>\n",
       "    </tr>\n",
       "    <tr>\n",
       "      <th>date</th>\n",
       "      <th></th>\n",
       "      <th></th>\n",
       "    </tr>\n",
       "  </thead>\n",
       "  <tbody>\n",
       "    <tr>\n",
       "      <th>1991-01-01</th>\n",
       "      <td>903.702578</td>\n",
       "      <td>922.836037</td>\n",
       "    </tr>\n",
       "    <tr>\n",
       "      <th>1991-04-01</th>\n",
       "      <td>902.505396</td>\n",
       "      <td>917.600302</td>\n",
       "    </tr>\n",
       "    <tr>\n",
       "      <th>1991-07-01</th>\n",
       "      <td>906.247730</td>\n",
       "      <td>917.736206</td>\n",
       "    </tr>\n",
       "    <tr>\n",
       "      <th>1991-09-01</th>\n",
       "      <td>906.873736</td>\n",
       "      <td>925.346828</td>\n",
       "    </tr>\n",
       "    <tr>\n",
       "      <th>1992-01-01</th>\n",
       "      <td>902.635502</td>\n",
       "      <td>915.901109</td>\n",
       "    </tr>\n",
       "    <tr>\n",
       "      <th>1992-04-01</th>\n",
       "      <td>909.104470</td>\n",
       "      <td>912.086662</td>\n",
       "    </tr>\n",
       "    <tr>\n",
       "      <th>1992-07-01</th>\n",
       "      <td>918.309094</td>\n",
       "      <td>910.290665</td>\n",
       "    </tr>\n",
       "    <tr>\n",
       "      <th>1992-09-01</th>\n",
       "      <td>937.183314</td>\n",
       "      <td>888.281515</td>\n",
       "    </tr>\n",
       "    <tr>\n",
       "      <th>1993-01-01</th>\n",
       "      <td>934.496491</td>\n",
       "      <td>869.221283</td>\n",
       "    </tr>\n",
       "    <tr>\n",
       "      <th>1993-04-01</th>\n",
       "      <td>939.758074</td>\n",
       "      <td>879.830378</td>\n",
       "    </tr>\n",
       "    <tr>\n",
       "      <th>1993-07-01</th>\n",
       "      <td>940.754959</td>\n",
       "      <td>890.766471</td>\n",
       "    </tr>\n",
       "    <tr>\n",
       "      <th>1993-09-01</th>\n",
       "      <td>958.166909</td>\n",
       "      <td>891.240007</td>\n",
       "    </tr>\n",
       "  </tbody>\n",
       "</table>\n",
       "</div>"
      ],
      "text/plain": [
       "country      Australia      Sweden\n",
       "date                              \n",
       "1991-01-01  903.702578  922.836037\n",
       "1991-04-01  902.505396  917.600302\n",
       "1991-07-01  906.247730  917.736206\n",
       "1991-09-01  906.873736  925.346828\n",
       "1992-01-01  902.635502  915.901109\n",
       "1992-04-01  909.104470  912.086662\n",
       "1992-07-01  918.309094  910.290665\n",
       "1992-09-01  937.183314  888.281515\n",
       "1993-01-01  934.496491  869.221283\n",
       "1993-04-01  939.758074  879.830378\n",
       "1993-07-01  940.754959  890.766471\n",
       "1993-09-01  958.166909  891.240007"
      ]
     },
     "execution_count": 35,
     "metadata": {},
     "output_type": "execute_result"
    }
   ],
   "source": [
    "recent_gdp_pop = gdp_pivot.query('date >= \"1991-01-01\"')\n",
    "recent_gdp_pop"
   ]
  },
  {
   "cell_type": "code",
   "execution_count": 36,
   "id": "ab91e2da-8494-4b7b-88fc-70f4f10dac61",
   "metadata": {},
   "outputs": [
    {
     "data": {
      "image/png": "[encoded data removed]",
      "text/plain": [
       "<Figure size 432x288 with 1 Axes>"
      ]
     },
     "metadata": {
      "needs_background": "light"
     },
     "output_type": "display_data"
    }
   ],
   "source": [
    "# Plot recent_gdp_pop\n",
    "recent_gdp_pop.plot(rot=90)\n",
    "plt.show()"
   ]
  },
  {
   "cell_type": "markdown",
   "id": "6278d9e2-fafe-4f75-baa9-0fb853102fd3",
   "metadata": {},
   "source": [
    "You can see from the plot that the per capita GDP of Australia passed Sweden in 1992. By using the `.query()` method, you were able to select the appropriate rows easily. The .query() method is easy to read and straightforward."
   ]
  },
  {
   "cell_type": "markdown",
   "id": "2bcb0be2-7b49-4236-8f15-39d22e581cf3",
   "metadata": {},
   "source": [
    "## Using .melt() to reshape government data\n",
    "\n",
    "The US Bureau of Labor Statistics (BLS) often provides data series in an easy-to-read format - it has a separate column for each month, and each year is a different row. Unfortunately, this wide format makes it difficult to plot this information over time. In this exercise, you will reshape a table of US unemployment rate data from the BLS into a form you can plot using .melt(). You will need to add a date column to the table and sort by it to plot the data correctly.\n",
    "\n",
    "The unemployment rate data has been loaded for you in a table called `ur_wide`. You are encouraged to view the table in the IPython shell before beginning the exercise."
   ]
  },
  {
   "cell_type": "code",
   "execution_count": 37,
   "id": "5afd5c8f-241f-4681-8e43-6716a6075ce7",
   "metadata": {},
   "outputs": [],
   "source": [
    "ur_wide = pd.read_excel('datasets/ur_wide.xlsx')\n",
    "ur_wide.to_csv('datasets/ur_wide.csv')\n",
    "ur_wide=pd.read_csv('datasets/ur_wide.csv', index_col = 0, dtype={'year':object})"
   ]
  },
  {
   "cell_type": "markdown",
   "id": "82b1d625-0b41-43a4-ae79-a7b089a798e2",
   "metadata": {},
   "source": [
    "### Instructions\n",
    "- Use `.melt()` to unpivot all of the columns of `ur_wide` except `year` and ensure that the columns with the months and values are named `month` and `unempl_rate`, respectively. Save the result as `ur_tall`.\n",
    "- Add a column to `ur_tall` named `date` which combines the `year` and `month` columns as `year-month` format into a larger string, and `converts` it to a `date data type`.\n",
    "- Sort `ur_tall` by date and save as ur_sorted.\n",
    "- Using `ur_sorted`, plot `unempl_rate` on the `y-axis` and `date` on the `x-axis`."
   ]
  },
  {
   "cell_type": "code",
   "execution_count": 38,
   "id": "4d5d7ee4-accf-43c3-a2e9-5f80d047ef4a",
   "metadata": {},
   "outputs": [
    {
     "data": {
      "text/html": [
       "<div>\n",
       "<style scoped>\n",
       "    .dataframe tbody tr th:only-of-type {\n",
       "        vertical-align: middle;\n",
       "    }\n",
       "\n",
       "    .dataframe tbody tr th {\n",
       "        vertical-align: top;\n",
       "    }\n",
       "\n",
       "    .dataframe thead th {\n",
       "        text-align: right;\n",
       "    }\n",
       "</style>\n",
       "<table border=\"1\" class=\"dataframe\">\n",
       "  <thead>\n",
       "    <tr style=\"text-align: right;\">\n",
       "      <th></th>\n",
       "      <th>year</th>\n",
       "      <th>jan</th>\n",
       "      <th>feb</th>\n",
       "      <th>mar</th>\n",
       "      <th>apr</th>\n",
       "      <th>may</th>\n",
       "      <th>jun</th>\n",
       "      <th>jul</th>\n",
       "      <th>aug</th>\n",
       "      <th>sep</th>\n",
       "      <th>oct</th>\n",
       "      <th>nov</th>\n",
       "      <th>dec</th>\n",
       "    </tr>\n",
       "  </thead>\n",
       "  <tbody>\n",
       "    <tr>\n",
       "      <th>0</th>\n",
       "      <td>2010</td>\n",
       "      <td>9.8</td>\n",
       "      <td>9.8</td>\n",
       "      <td>9.9</td>\n",
       "      <td>9.9</td>\n",
       "      <td>9.6</td>\n",
       "      <td>9.4</td>\n",
       "      <td>9.4</td>\n",
       "      <td>9.5</td>\n",
       "      <td>9.5</td>\n",
       "      <td>9.4</td>\n",
       "      <td>9.8</td>\n",
       "      <td>9.3</td>\n",
       "    </tr>\n",
       "  </tbody>\n",
       "</table>\n",
       "</div>"
      ],
      "text/plain": [
       "   year  jan  feb  mar  apr  may  jun  jul  aug  sep  oct  nov  dec\n",
       "0  2010  9.8  9.8  9.9  9.9  9.6  9.4  9.4  9.5  9.5  9.4  9.8  9.3"
      ]
     },
     "execution_count": 38,
     "metadata": {},
     "output_type": "execute_result"
    }
   ],
   "source": [
    "ur_wide.head(1)"
   ]
  },
  {
   "cell_type": "code",
   "execution_count": 39,
   "id": "e24e345b-fcaf-47e9-9657-11b08d1f2596",
   "metadata": {},
   "outputs": [
    {
     "data": {
      "text/html": [
       "<div>\n",
       "<style scoped>\n",
       "    .dataframe tbody tr th:only-of-type {\n",
       "        vertical-align: middle;\n",
       "    }\n",
       "\n",
       "    .dataframe tbody tr th {\n",
       "        vertical-align: top;\n",
       "    }\n",
       "\n",
       "    .dataframe thead th {\n",
       "        text-align: right;\n",
       "    }\n",
       "</style>\n",
       "<table border=\"1\" class=\"dataframe\">\n",
       "  <thead>\n",
       "    <tr style=\"text-align: right;\">\n",
       "      <th></th>\n",
       "      <th>year</th>\n",
       "      <th>month</th>\n",
       "      <th>unempl_rate</th>\n",
       "    </tr>\n",
       "  </thead>\n",
       "  <tbody>\n",
       "    <tr>\n",
       "      <th>0</th>\n",
       "      <td>2010</td>\n",
       "      <td>jan</td>\n",
       "      <td>9.8</td>\n",
       "    </tr>\n",
       "    <tr>\n",
       "      <th>1</th>\n",
       "      <td>2011</td>\n",
       "      <td>jan</td>\n",
       "      <td>9.1</td>\n",
       "    </tr>\n",
       "    <tr>\n",
       "      <th>2</th>\n",
       "      <td>2012</td>\n",
       "      <td>jan</td>\n",
       "      <td>8.3</td>\n",
       "    </tr>\n",
       "    <tr>\n",
       "      <th>3</th>\n",
       "      <td>2013</td>\n",
       "      <td>jan</td>\n",
       "      <td>8.0</td>\n",
       "    </tr>\n",
       "    <tr>\n",
       "      <th>4</th>\n",
       "      <td>2014</td>\n",
       "      <td>jan</td>\n",
       "      <td>6.6</td>\n",
       "    </tr>\n",
       "    <tr>\n",
       "      <th>5</th>\n",
       "      <td>2015</td>\n",
       "      <td>jan</td>\n",
       "      <td>5.7</td>\n",
       "    </tr>\n",
       "    <tr>\n",
       "      <th>6</th>\n",
       "      <td>2016</td>\n",
       "      <td>jan</td>\n",
       "      <td>4.9</td>\n",
       "    </tr>\n",
       "    <tr>\n",
       "      <th>7</th>\n",
       "      <td>2017</td>\n",
       "      <td>jan</td>\n",
       "      <td>4.7</td>\n",
       "    </tr>\n",
       "    <tr>\n",
       "      <th>8</th>\n",
       "      <td>2018</td>\n",
       "      <td>jan</td>\n",
       "      <td>4.1</td>\n",
       "    </tr>\n",
       "    <tr>\n",
       "      <th>9</th>\n",
       "      <td>2019</td>\n",
       "      <td>jan</td>\n",
       "      <td>4.0</td>\n",
       "    </tr>\n",
       "  </tbody>\n",
       "</table>\n",
       "</div>"
      ],
      "text/plain": [
       "   year month  unempl_rate\n",
       "0  2010   jan          9.8\n",
       "1  2011   jan          9.1\n",
       "2  2012   jan          8.3\n",
       "3  2013   jan          8.0\n",
       "4  2014   jan          6.6\n",
       "5  2015   jan          5.7\n",
       "6  2016   jan          4.9\n",
       "7  2017   jan          4.7\n",
       "8  2018   jan          4.1\n",
       "9  2019   jan          4.0"
      ]
     },
     "execution_count": 39,
     "metadata": {},
     "output_type": "execute_result"
    }
   ],
   "source": [
    "ur_tall = ur_wide.melt(id_vars=['year'], var_name=['month'], value_name='unempl_rate')\n",
    "ur_tall.head(10)"
   ]
  },
  {
   "cell_type": "code",
   "execution_count": 40,
   "id": "a023f202-0c0f-4bfb-af5c-4818df9a7d17",
   "metadata": {},
   "outputs": [
    {
     "name": "stdout",
     "output_type": "stream",
     "text": [
      "<class 'pandas.core.frame.DataFrame'>\n",
      "RangeIndex: 132 entries, 0 to 131\n",
      "Data columns (total 3 columns):\n",
      " #   Column       Non-Null Count  Dtype  \n",
      "---  ------       --------------  -----  \n",
      " 0   year         132 non-null    object \n",
      " 1   month        132 non-null    object \n",
      " 2   unempl_rate  123 non-null    float64\n",
      "dtypes: float64(1), object(2)\n",
      "memory usage: 3.2+ KB\n"
     ]
    }
   ],
   "source": [
    "ur_tall.info()"
   ]
  },
  {
   "cell_type": "code",
   "execution_count": 41,
   "id": "61a592af-67d0-42c0-b6fa-44c2a8d4537d",
   "metadata": {},
   "outputs": [
    {
     "data": {
      "text/html": [
       "<div>\n",
       "<style scoped>\n",
       "    .dataframe tbody tr th:only-of-type {\n",
       "        vertical-align: middle;\n",
       "    }\n",
       "\n",
       "    .dataframe tbody tr th {\n",
       "        vertical-align: top;\n",
       "    }\n",
       "\n",
       "    .dataframe thead th {\n",
       "        text-align: right;\n",
       "    }\n",
       "</style>\n",
       "<table border=\"1\" class=\"dataframe\">\n",
       "  <thead>\n",
       "    <tr style=\"text-align: right;\">\n",
       "      <th></th>\n",
       "      <th>year</th>\n",
       "      <th>month</th>\n",
       "      <th>unempl_rate</th>\n",
       "      <th>date</th>\n",
       "    </tr>\n",
       "  </thead>\n",
       "  <tbody>\n",
       "    <tr>\n",
       "      <th>0</th>\n",
       "      <td>2010</td>\n",
       "      <td>jan</td>\n",
       "      <td>9.8</td>\n",
       "      <td>2010-01-01</td>\n",
       "    </tr>\n",
       "    <tr>\n",
       "      <th>1</th>\n",
       "      <td>2011</td>\n",
       "      <td>jan</td>\n",
       "      <td>9.1</td>\n",
       "      <td>2011-01-01</td>\n",
       "    </tr>\n",
       "    <tr>\n",
       "      <th>2</th>\n",
       "      <td>2012</td>\n",
       "      <td>jan</td>\n",
       "      <td>8.3</td>\n",
       "      <td>2012-01-01</td>\n",
       "    </tr>\n",
       "    <tr>\n",
       "      <th>3</th>\n",
       "      <td>2013</td>\n",
       "      <td>jan</td>\n",
       "      <td>8.0</td>\n",
       "      <td>2013-01-01</td>\n",
       "    </tr>\n",
       "    <tr>\n",
       "      <th>4</th>\n",
       "      <td>2014</td>\n",
       "      <td>jan</td>\n",
       "      <td>6.6</td>\n",
       "      <td>2014-01-01</td>\n",
       "    </tr>\n",
       "    <tr>\n",
       "      <th>...</th>\n",
       "      <td>...</td>\n",
       "      <td>...</td>\n",
       "      <td>...</td>\n",
       "      <td>...</td>\n",
       "    </tr>\n",
       "    <tr>\n",
       "      <th>127</th>\n",
       "      <td>2016</td>\n",
       "      <td>dec</td>\n",
       "      <td>4.7</td>\n",
       "      <td>2016-12-01</td>\n",
       "    </tr>\n",
       "    <tr>\n",
       "      <th>128</th>\n",
       "      <td>2017</td>\n",
       "      <td>dec</td>\n",
       "      <td>4.1</td>\n",
       "      <td>2017-12-01</td>\n",
       "    </tr>\n",
       "    <tr>\n",
       "      <th>129</th>\n",
       "      <td>2018</td>\n",
       "      <td>dec</td>\n",
       "      <td>3.9</td>\n",
       "      <td>2018-12-01</td>\n",
       "    </tr>\n",
       "    <tr>\n",
       "      <th>130</th>\n",
       "      <td>2019</td>\n",
       "      <td>dec</td>\n",
       "      <td>3.5</td>\n",
       "      <td>2019-12-01</td>\n",
       "    </tr>\n",
       "    <tr>\n",
       "      <th>131</th>\n",
       "      <td>2020</td>\n",
       "      <td>dec</td>\n",
       "      <td>NaN</td>\n",
       "      <td>2020-12-01</td>\n",
       "    </tr>\n",
       "  </tbody>\n",
       "</table>\n",
       "<p>132 rows × 4 columns</p>\n",
       "</div>"
      ],
      "text/plain": [
       "     year month  unempl_rate       date\n",
       "0    2010   jan          9.8 2010-01-01\n",
       "1    2011   jan          9.1 2011-01-01\n",
       "2    2012   jan          8.3 2012-01-01\n",
       "3    2013   jan          8.0 2013-01-01\n",
       "4    2014   jan          6.6 2014-01-01\n",
       "..    ...   ...          ...        ...\n",
       "127  2016   dec          4.7 2016-12-01\n",
       "128  2017   dec          4.1 2017-12-01\n",
       "129  2018   dec          3.9 2018-12-01\n",
       "130  2019   dec          3.5 2019-12-01\n",
       "131  2020   dec          NaN 2020-12-01\n",
       "\n",
       "[132 rows x 4 columns]"
      ]
     },
     "execution_count": 41,
     "metadata": {},
     "output_type": "execute_result"
    }
   ],
   "source": [
    "ur_tall['date'] = pd.to_datetime(ur_tall['year'] + '-' + ur_tall['month'])\n",
    "ur_tall"
   ]
  },
  {
   "cell_type": "code",
   "execution_count": 42,
   "id": "3c59fcc9-1365-481e-ac55-013b8a4ce60a",
   "metadata": {},
   "outputs": [
    {
     "data": {
      "text/html": [
       "<div>\n",
       "<style scoped>\n",
       "    .dataframe tbody tr th:only-of-type {\n",
       "        vertical-align: middle;\n",
       "    }\n",
       "\n",
       "    .dataframe tbody tr th {\n",
       "        vertical-align: top;\n",
       "    }\n",
       "\n",
       "    .dataframe thead th {\n",
       "        text-align: right;\n",
       "    }\n",
       "</style>\n",
       "<table border=\"1\" class=\"dataframe\">\n",
       "  <thead>\n",
       "    <tr style=\"text-align: right;\">\n",
       "      <th></th>\n",
       "      <th>year</th>\n",
       "      <th>month</th>\n",
       "      <th>unempl_rate</th>\n",
       "      <th>date</th>\n",
       "    </tr>\n",
       "  </thead>\n",
       "  <tbody>\n",
       "    <tr>\n",
       "      <th>0</th>\n",
       "      <td>2010</td>\n",
       "      <td>jan</td>\n",
       "      <td>9.8</td>\n",
       "      <td>2010-01-01</td>\n",
       "    </tr>\n",
       "    <tr>\n",
       "      <th>11</th>\n",
       "      <td>2010</td>\n",
       "      <td>feb</td>\n",
       "      <td>9.8</td>\n",
       "      <td>2010-02-01</td>\n",
       "    </tr>\n",
       "    <tr>\n",
       "      <th>22</th>\n",
       "      <td>2010</td>\n",
       "      <td>mar</td>\n",
       "      <td>9.9</td>\n",
       "      <td>2010-03-01</td>\n",
       "    </tr>\n",
       "    <tr>\n",
       "      <th>33</th>\n",
       "      <td>2010</td>\n",
       "      <td>apr</td>\n",
       "      <td>9.9</td>\n",
       "      <td>2010-04-01</td>\n",
       "    </tr>\n",
       "    <tr>\n",
       "      <th>44</th>\n",
       "      <td>2010</td>\n",
       "      <td>may</td>\n",
       "      <td>9.6</td>\n",
       "      <td>2010-05-01</td>\n",
       "    </tr>\n",
       "    <tr>\n",
       "      <th>...</th>\n",
       "      <td>...</td>\n",
       "      <td>...</td>\n",
       "      <td>...</td>\n",
       "      <td>...</td>\n",
       "    </tr>\n",
       "    <tr>\n",
       "      <th>87</th>\n",
       "      <td>2020</td>\n",
       "      <td>aug</td>\n",
       "      <td>NaN</td>\n",
       "      <td>2020-08-01</td>\n",
       "    </tr>\n",
       "    <tr>\n",
       "      <th>98</th>\n",
       "      <td>2020</td>\n",
       "      <td>sep</td>\n",
       "      <td>NaN</td>\n",
       "      <td>2020-09-01</td>\n",
       "    </tr>\n",
       "    <tr>\n",
       "      <th>109</th>\n",
       "      <td>2020</td>\n",
       "      <td>oct</td>\n",
       "      <td>NaN</td>\n",
       "      <td>2020-10-01</td>\n",
       "    </tr>\n",
       "    <tr>\n",
       "      <th>120</th>\n",
       "      <td>2020</td>\n",
       "      <td>nov</td>\n",
       "      <td>NaN</td>\n",
       "      <td>2020-11-01</td>\n",
       "    </tr>\n",
       "    <tr>\n",
       "      <th>131</th>\n",
       "      <td>2020</td>\n",
       "      <td>dec</td>\n",
       "      <td>NaN</td>\n",
       "      <td>2020-12-01</td>\n",
       "    </tr>\n",
       "  </tbody>\n",
       "</table>\n",
       "<p>132 rows × 4 columns</p>\n",
       "</div>"
      ],
      "text/plain": [
       "     year month  unempl_rate       date\n",
       "0    2010   jan          9.8 2010-01-01\n",
       "11   2010   feb          9.8 2010-02-01\n",
       "22   2010   mar          9.9 2010-03-01\n",
       "33   2010   apr          9.9 2010-04-01\n",
       "44   2010   may          9.6 2010-05-01\n",
       "..    ...   ...          ...        ...\n",
       "87   2020   aug          NaN 2020-08-01\n",
       "98   2020   sep          NaN 2020-09-01\n",
       "109  2020   oct          NaN 2020-10-01\n",
       "120  2020   nov          NaN 2020-11-01\n",
       "131  2020   dec          NaN 2020-12-01\n",
       "\n",
       "[132 rows x 4 columns]"
      ]
     },
     "execution_count": 42,
     "metadata": {},
     "output_type": "execute_result"
    }
   ],
   "source": [
    "ur_sorted = ur_tall.sort_values('date')\n",
    "ur_sorted"
   ]
  },
  {
   "cell_type": "code",
   "execution_count": 43,
   "id": "0f9ca341-4f59-432b-a474-9ac96df19724",
   "metadata": {},
   "outputs": [
    {
     "data": {
      "image/png": "[encoded data removed]",
      "text/plain": [
       "<Figure size 432x288 with 1 Axes>"
      ]
     },
     "metadata": {
      "needs_background": "light"
     },
     "output_type": "display_data"
    }
   ],
   "source": [
    "ur_sorted.plot(y='unempl_rate', x='date')\n",
    "plt.show()"
   ]
  },
  {
   "cell_type": "markdown",
   "id": "78896a13-b25c-4dc7-9d83-fd2127893064",
   "metadata": {},
   "source": [
    "The plot shows a steady decrease in the unemployment rate with an increase near the end. This increase is likely the effect of the COVID-19 pandemic and its impact on shutting down most of the US economy. In general, data is often provided (especially by governments) in a format that is easily read by people but not by machines. The .melt() method is a handy tool for reshaping data into a useful form."
   ]
  },
  {
   "cell_type": "markdown",
   "id": "36fcc0d6-91c5-4da8-a354-32c2e37c867b",
   "metadata": {},
   "source": [
    "## Using .melt() for stocks vs bond performance\n",
    "\n",
    "It is widespread knowledge that the price of bonds is inversely related to the price of stocks. In this last exercise, you'll review many of the topics in this chapter to confirm this. You have been given a table of percent change of the US 10-year treasury bond price. It is in a wide format where there is a separate column for each year. You will need to use the `.melt()` method to reshape this table.\n",
    "\n",
    "Additionally, you will use the `.query()` method to filter out unneeded data. You will merge this table with a table of the percent change of the Dow Jones Industrial stock index price. Finally, you will plot data.\n",
    "\n",
    "The tables `ten_yr` and `dji` have been loaded for you."
   ]
  },
  {
   "cell_type": "code",
   "execution_count": 44,
   "id": "3cdf471c-5353-48e6-96c2-bb341cd1896a",
   "metadata": {},
   "outputs": [],
   "source": [
    "ten_yr = pd.read_csv('datasets/ten_yr.csv', sep=';')\n",
    "dji = pd.read_csv('datasets/dji.csv', index_col=0)"
   ]
  },
  {
   "cell_type": "code",
   "execution_count": 45,
   "id": "e428f89c-49b4-4ff2-a1ad-259d985d45a5",
   "metadata": {},
   "outputs": [
    {
     "data": {
      "text/html": [
       "<div>\n",
       "<style scoped>\n",
       "    .dataframe tbody tr th:only-of-type {\n",
       "        vertical-align: middle;\n",
       "    }\n",
       "\n",
       "    .dataframe tbody tr th {\n",
       "        vertical-align: top;\n",
       "    }\n",
       "\n",
       "    .dataframe thead th {\n",
       "        text-align: right;\n",
       "    }\n",
       "</style>\n",
       "<table border=\"1\" class=\"dataframe\">\n",
       "  <thead>\n",
       "    <tr style=\"text-align: right;\">\n",
       "      <th></th>\n",
       "      <th>metric</th>\n",
       "      <th>2007-02-01</th>\n",
       "      <th>2007-03-01</th>\n",
       "      <th>2007-04-01</th>\n",
       "      <th>2007-05-01</th>\n",
       "      <th>2007-06-01</th>\n",
       "      <th>2007-07-01</th>\n",
       "      <th>2007-08-01</th>\n",
       "      <th>2007-09-01</th>\n",
       "      <th>2007-10-01</th>\n",
       "      <th>...</th>\n",
       "      <th>2009-03-01</th>\n",
       "      <th>2009-04-01</th>\n",
       "      <th>2009-05-01</th>\n",
       "      <th>2009-06-01</th>\n",
       "      <th>2009-07-01</th>\n",
       "      <th>2009-08-01</th>\n",
       "      <th>2009-09-01</th>\n",
       "      <th>2009-10-01</th>\n",
       "      <th>2009-11-01</th>\n",
       "      <th>2009-12-01</th>\n",
       "    </tr>\n",
       "  </thead>\n",
       "  <tbody>\n",
       "    <tr>\n",
       "      <th>0</th>\n",
       "      <td>open</td>\n",
       "      <td>0.033491</td>\n",
       "      <td>-0.060449</td>\n",
       "      <td>0.025426</td>\n",
       "      <td>-0.004312</td>\n",
       "      <td>0.060632</td>\n",
       "      <td>0.027154</td>\n",
       "      <td>-0.059233</td>\n",
       "      <td>-0.046271</td>\n",
       "      <td>0.0144</td>\n",
       "      <td>...</td>\n",
       "      <td>0.045888</td>\n",
       "      <td>-0.102599</td>\n",
       "      <td>0.191049</td>\n",
       "      <td>0.106726</td>\n",
       "      <td>0.023966</td>\n",
       "      <td>-0.006687</td>\n",
       "      <td>-0.046564</td>\n",
       "      <td>-0.032068</td>\n",
       "      <td>0.034347</td>\n",
       "      <td>-0.050544</td>\n",
       "    </tr>\n",
       "  </tbody>\n",
       "</table>\n",
       "<p>1 rows × 36 columns</p>\n",
       "</div>"
      ],
      "text/plain": [
       "  metric  2007-02-01  2007-03-01  2007-04-01  2007-05-01  2007-06-01  \\\n",
       "0   open    0.033491   -0.060449    0.025426   -0.004312    0.060632   \n",
       "\n",
       "   2007-07-01  2007-08-01  2007-09-01  2007-10-01  ...  2009-03-01  \\\n",
       "0    0.027154   -0.059233   -0.046271      0.0144  ...    0.045888   \n",
       "\n",
       "   2009-04-01  2009-05-01  2009-06-01  2009-07-01  2009-08-01  2009-09-01  \\\n",
       "0   -0.102599    0.191049    0.106726    0.023966   -0.006687   -0.046564   \n",
       "\n",
       "   2009-10-01  2009-11-01  2009-12-01  \n",
       "0   -0.032068    0.034347   -0.050544  \n",
       "\n",
       "[1 rows x 36 columns]"
      ]
     },
     "execution_count": 45,
     "metadata": {},
     "output_type": "execute_result"
    }
   ],
   "source": [
    "ten_yr.head(1)"
   ]
  },
  {
   "cell_type": "code",
   "execution_count": 46,
   "id": "83b8c70f-4fd6-4ebe-a287-fff0bcec2fdd",
   "metadata": {},
   "outputs": [
    {
     "data": {
      "text/html": [
       "<div>\n",
       "<style scoped>\n",
       "    .dataframe tbody tr th:only-of-type {\n",
       "        vertical-align: middle;\n",
       "    }\n",
       "\n",
       "    .dataframe tbody tr th {\n",
       "        vertical-align: top;\n",
       "    }\n",
       "\n",
       "    .dataframe thead th {\n",
       "        text-align: right;\n",
       "    }\n",
       "</style>\n",
       "<table border=\"1\" class=\"dataframe\">\n",
       "  <thead>\n",
       "    <tr style=\"text-align: right;\">\n",
       "      <th></th>\n",
       "      <th>date</th>\n",
       "      <th>close</th>\n",
       "    </tr>\n",
       "  </thead>\n",
       "  <tbody>\n",
       "    <tr>\n",
       "      <th>0</th>\n",
       "      <td>2007-02-01</td>\n",
       "      <td>0.005094</td>\n",
       "    </tr>\n",
       "  </tbody>\n",
       "</table>\n",
       "</div>"
      ],
      "text/plain": [
       "         date     close\n",
       "0  2007-02-01  0.005094"
      ]
     },
     "execution_count": 46,
     "metadata": {},
     "output_type": "execute_result"
    }
   ],
   "source": [
    "dji.head(1)"
   ]
  },
  {
   "cell_type": "markdown",
   "id": "aa2202a9-651e-4712-964a-0e2f56fbc29e",
   "metadata": {},
   "source": [
    "### Instructions\n",
    "- Use `.melt()` on `ten_yr` to unpivot everything except the `metric` column, setting `var_name='date'` and `value_name='close'`. Save the result to `bond_perc`.\n",
    "- Using the `.query()` method, select only those rows were metric equals `'close'`, and save to `bond_perc_close`.\n",
    "- Use `merge_ordered()` to merge `dji` (left table) and `bond_perc_close` on `date` with an `inner join`, and set `suffixes` equal to`('_dow', '_bond')`. Save the result to `dow_bond`.\n",
    "- Using `dow_bond`, plot only the `Dow` and `bond` values."
   ]
  },
  {
   "cell_type": "code",
   "execution_count": 47,
   "id": "41702548-ce02-43c4-ba7f-525d71bd4f7c",
   "metadata": {},
   "outputs": [
    {
     "data": {
      "text/html": [
       "<div>\n",
       "<style scoped>\n",
       "    .dataframe tbody tr th:only-of-type {\n",
       "        vertical-align: middle;\n",
       "    }\n",
       "\n",
       "    .dataframe tbody tr th {\n",
       "        vertical-align: top;\n",
       "    }\n",
       "\n",
       "    .dataframe thead th {\n",
       "        text-align: right;\n",
       "    }\n",
       "</style>\n",
       "<table border=\"1\" class=\"dataframe\">\n",
       "  <thead>\n",
       "    <tr style=\"text-align: right;\">\n",
       "      <th></th>\n",
       "      <th>metric</th>\n",
       "      <th>date</th>\n",
       "      <th>close</th>\n",
       "    </tr>\n",
       "  </thead>\n",
       "  <tbody>\n",
       "    <tr>\n",
       "      <th>0</th>\n",
       "      <td>open</td>\n",
       "      <td>2007-02-01</td>\n",
       "      <td>0.033491</td>\n",
       "    </tr>\n",
       "    <tr>\n",
       "      <th>1</th>\n",
       "      <td>high</td>\n",
       "      <td>2007-02-01</td>\n",
       "      <td>-0.007338</td>\n",
       "    </tr>\n",
       "    <tr>\n",
       "      <th>2</th>\n",
       "      <td>low</td>\n",
       "      <td>2007-02-01</td>\n",
       "      <td>-0.016147</td>\n",
       "    </tr>\n",
       "    <tr>\n",
       "      <th>3</th>\n",
       "      <td>close</td>\n",
       "      <td>2007-02-01</td>\n",
       "      <td>-0.057190</td>\n",
       "    </tr>\n",
       "  </tbody>\n",
       "</table>\n",
       "</div>"
      ],
      "text/plain": [
       "  metric        date     close\n",
       "0   open  2007-02-01  0.033491\n",
       "1   high  2007-02-01 -0.007338\n",
       "2    low  2007-02-01 -0.016147\n",
       "3  close  2007-02-01 -0.057190"
      ]
     },
     "execution_count": 47,
     "metadata": {},
     "output_type": "execute_result"
    }
   ],
   "source": [
    "bond_perc = ten_yr.melt(id_vars=['metric'], var_name=['date'], value_name='close')\n",
    "bond_perc.head(4)"
   ]
  },
  {
   "cell_type": "code",
   "execution_count": 48,
   "id": "5fbcea8f-f177-46d5-95e6-4a1c90316ed8",
   "metadata": {},
   "outputs": [],
   "source": [
    "bond_perc_close = bond_perc.query('metric == \"close\"')"
   ]
  },
  {
   "cell_type": "code",
   "execution_count": 49,
   "id": "18dda6b6-448b-49e6-88c9-a0397046b276",
   "metadata": {},
   "outputs": [
    {
     "data": {
      "text/html": [
       "<div>\n",
       "<style scoped>\n",
       "    .dataframe tbody tr th:only-of-type {\n",
       "        vertical-align: middle;\n",
       "    }\n",
       "\n",
       "    .dataframe tbody tr th {\n",
       "        vertical-align: top;\n",
       "    }\n",
       "\n",
       "    .dataframe thead th {\n",
       "        text-align: right;\n",
       "    }\n",
       "</style>\n",
       "<table border=\"1\" class=\"dataframe\">\n",
       "  <thead>\n",
       "    <tr style=\"text-align: right;\">\n",
       "      <th></th>\n",
       "      <th>date</th>\n",
       "      <th>close_dow</th>\n",
       "      <th>metric</th>\n",
       "      <th>close_bond</th>\n",
       "    </tr>\n",
       "  </thead>\n",
       "  <tbody>\n",
       "    <tr>\n",
       "      <th>0</th>\n",
       "      <td>2007-02-01</td>\n",
       "      <td>0.005094</td>\n",
       "      <td>close</td>\n",
       "      <td>-0.057190</td>\n",
       "    </tr>\n",
       "    <tr>\n",
       "      <th>1</th>\n",
       "      <td>2007-03-01</td>\n",
       "      <td>-0.026139</td>\n",
       "      <td>close</td>\n",
       "      <td>0.021538</td>\n",
       "    </tr>\n",
       "    <tr>\n",
       "      <th>2</th>\n",
       "      <td>2007-04-01</td>\n",
       "      <td>0.048525</td>\n",
       "      <td>close</td>\n",
       "      <td>-0.003873</td>\n",
       "    </tr>\n",
       "    <tr>\n",
       "      <th>3</th>\n",
       "      <td>2007-05-01</td>\n",
       "      <td>0.052007</td>\n",
       "      <td>close</td>\n",
       "      <td>0.056156</td>\n",
       "    </tr>\n",
       "    <tr>\n",
       "      <th>4</th>\n",
       "      <td>2007-06-01</td>\n",
       "      <td>-0.016070</td>\n",
       "      <td>close</td>\n",
       "      <td>0.029243</td>\n",
       "    </tr>\n",
       "  </tbody>\n",
       "</table>\n",
       "</div>"
      ],
      "text/plain": [
       "         date  close_dow metric  close_bond\n",
       "0  2007-02-01   0.005094  close   -0.057190\n",
       "1  2007-03-01  -0.026139  close    0.021538\n",
       "2  2007-04-01   0.048525  close   -0.003873\n",
       "3  2007-05-01   0.052007  close    0.056156\n",
       "4  2007-06-01  -0.016070  close    0.029243"
      ]
     },
     "execution_count": 49,
     "metadata": {},
     "output_type": "execute_result"
    }
   ],
   "source": [
    "dow_bond = pd.merge_ordered(dji, bond_perc_close, how= 'inner', on= 'date', suffixes=(['_dow','_bond']))\n",
    "dow_bond.head()"
   ]
  },
  {
   "cell_type": "code",
   "execution_count": 50,
   "id": "41982ef1-ee8f-45a1-a098-56cc694a49cb",
   "metadata": {},
   "outputs": [
    {
     "data": {
      "image/png": "[encoded data removed]",
      "text/plain": [
       "<Figure size 432x288 with 1 Axes>"
      ]
     },
     "metadata": {
      "needs_background": "light"
     },
     "output_type": "display_data"
    }
   ],
   "source": [
    "dow_bond.plot(y=['close_dow','close_bond'],x='date',rot=90)\n",
    "plt.show()"
   ]
  },
  {
   "cell_type": "markdown",
   "id": "b4f37f46-91d6-4c61-a7e4-456dbb47424c",
   "metadata": {},
   "source": [
    "You used many of the techniques we have reviewed in this chapter to produce the plot. The plot confirms that the bond and stock prices are inversely correlated. Often as the price of stocks increases, the price for bonds decreases."
   ]
  },
  {
   "cell_type": "code",
   "execution_count": null,
   "id": "54bafcc8-f966-4c63-aeb7-cf0a1fec25d8",
   "metadata": {},
   "outputs": [],
   "source": []
  }
 ],
 "metadata": {
  "kernelspec": {
   "display_name": "Python 3 (ipykernel)",
   "language": "python",
   "name": "python3"
  },
  "language_info": {
   "codemirror_mode": {
    "name": "ipython",
    "version": 3
   },
   "file_extension": ".py",
   "mimetype": "text/x-python",
   "name": "python",
   "nbconvert_exporter": "python",
   "pygments_lexer": "ipython3",
   "version": "3.9.9"
  }
 },
 "nbformat": 4,
 "nbformat_minor": 5
}
