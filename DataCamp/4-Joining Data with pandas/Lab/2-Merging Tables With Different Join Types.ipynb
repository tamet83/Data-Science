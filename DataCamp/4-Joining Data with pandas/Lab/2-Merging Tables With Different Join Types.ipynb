{
 "cells": [
  {
   "cell_type": "markdown",
   "id": "9e787987-990b-4197-b3ba-df718ebdedf0",
   "metadata": {},
   "source": [
    "# Merging Tables With Different Join Types\n",
    "Take your knowledge of joins to the next level. In this chapter, you’ll work with TMDb movie data as you learn about left, right, and outer joins. You’ll also discover how to merge a table to itself and merge on a DataFrame index."
   ]
  },
  {
   "cell_type": "markdown",
   "id": "e48a1135-d20e-4bf2-bbaa-516352919edf",
   "metadata": {},
   "source": [
    "## Counting missing rows with left join\n",
    "\n",
    "The Movie Database is supported by volunteers going out into the world, collecting data, and entering it into the database. This includes financial data, such as movie budget and revenue. If you wanted to know which movies are still missing data, you could use a left join to identify them. Practice using a left join by merging the `movies` table and the `financials` table.\n",
    "\n",
    "The `movies` and `financials` tables have been loaded for you."
   ]
  },
  {
   "cell_type": "code",
   "execution_count": 1,
   "id": "4847af87-6caa-4543-af68-f7d300fa94fa",
   "metadata": {},
   "outputs": [],
   "source": [
    "import pandas as pd\n",
    "import numpy as np\n",
    "movies = pd.read_pickle('datasets/movies.p')\n",
    "financials = pd.read_pickle('datasets/financials.p')"
   ]
  },
  {
   "cell_type": "markdown",
   "id": "82fe0646-a342-42f4-9511-0e0e84f2cdbb",
   "metadata": {},
   "source": [
    "### Instructions 1/3\n",
    "What column is likely the best column to merge the two tables on?"
   ]
  },
  {
   "cell_type": "code",
   "execution_count": 2,
   "id": "a25f98ec-a47b-4121-93ef-d4de1db55d49",
   "metadata": {},
   "outputs": [
    {
     "data": {
      "text/html": [
       "<div>\n",
       "<style scoped>\n",
       "    .dataframe tbody tr th:only-of-type {\n",
       "        vertical-align: middle;\n",
       "    }\n",
       "\n",
       "    .dataframe tbody tr th {\n",
       "        vertical-align: top;\n",
       "    }\n",
       "\n",
       "    .dataframe thead th {\n",
       "        text-align: right;\n",
       "    }\n",
       "</style>\n",
       "<table border=\"1\" class=\"dataframe\">\n",
       "  <thead>\n",
       "    <tr style=\"text-align: right;\">\n",
       "      <th></th>\n",
       "      <th>id</th>\n",
       "      <th>title</th>\n",
       "      <th>popularity</th>\n",
       "      <th>release_date</th>\n",
       "    </tr>\n",
       "  </thead>\n",
       "  <tbody>\n",
       "    <tr>\n",
       "      <th>0</th>\n",
       "      <td>257</td>\n",
       "      <td>Oliver Twist</td>\n",
       "      <td>20.415572</td>\n",
       "      <td>2005-09-23</td>\n",
       "    </tr>\n",
       "    <tr>\n",
       "      <th>1</th>\n",
       "      <td>14290</td>\n",
       "      <td>Better Luck Tomorrow</td>\n",
       "      <td>3.877036</td>\n",
       "      <td>2002-01-12</td>\n",
       "    </tr>\n",
       "    <tr>\n",
       "      <th>2</th>\n",
       "      <td>38365</td>\n",
       "      <td>Grown Ups</td>\n",
       "      <td>38.864027</td>\n",
       "      <td>2010-06-24</td>\n",
       "    </tr>\n",
       "    <tr>\n",
       "      <th>3</th>\n",
       "      <td>9672</td>\n",
       "      <td>Infamous</td>\n",
       "      <td>3.680896</td>\n",
       "      <td>2006-11-16</td>\n",
       "    </tr>\n",
       "    <tr>\n",
       "      <th>4</th>\n",
       "      <td>12819</td>\n",
       "      <td>Alpha and Omega</td>\n",
       "      <td>12.300789</td>\n",
       "      <td>2010-09-17</td>\n",
       "    </tr>\n",
       "  </tbody>\n",
       "</table>\n",
       "</div>"
      ],
      "text/plain": [
       "      id                 title  popularity release_date\n",
       "0    257          Oliver Twist   20.415572   2005-09-23\n",
       "1  14290  Better Luck Tomorrow    3.877036   2002-01-12\n",
       "2  38365             Grown Ups   38.864027   2010-06-24\n",
       "3   9672              Infamous    3.680896   2006-11-16\n",
       "4  12819       Alpha and Omega   12.300789   2010-09-17"
      ]
     },
     "execution_count": 2,
     "metadata": {},
     "output_type": "execute_result"
    }
   ],
   "source": [
    "movies.head()"
   ]
  },
  {
   "cell_type": "code",
   "execution_count": 3,
   "id": "2e87740a-f892-4c03-99bb-d962016bc543",
   "metadata": {},
   "outputs": [
    {
     "data": {
      "text/html": [
       "<div>\n",
       "<style scoped>\n",
       "    .dataframe tbody tr th:only-of-type {\n",
       "        vertical-align: middle;\n",
       "    }\n",
       "\n",
       "    .dataframe tbody tr th {\n",
       "        vertical-align: top;\n",
       "    }\n",
       "\n",
       "    .dataframe thead th {\n",
       "        text-align: right;\n",
       "    }\n",
       "</style>\n",
       "<table border=\"1\" class=\"dataframe\">\n",
       "  <thead>\n",
       "    <tr style=\"text-align: right;\">\n",
       "      <th></th>\n",
       "      <th>id</th>\n",
       "      <th>budget</th>\n",
       "      <th>revenue</th>\n",
       "    </tr>\n",
       "  </thead>\n",
       "  <tbody>\n",
       "    <tr>\n",
       "      <th>0</th>\n",
       "      <td>19995</td>\n",
       "      <td>237000000</td>\n",
       "      <td>2.787965e+09</td>\n",
       "    </tr>\n",
       "    <tr>\n",
       "      <th>1</th>\n",
       "      <td>285</td>\n",
       "      <td>300000000</td>\n",
       "      <td>9.610000e+08</td>\n",
       "    </tr>\n",
       "    <tr>\n",
       "      <th>2</th>\n",
       "      <td>206647</td>\n",
       "      <td>245000000</td>\n",
       "      <td>8.806746e+08</td>\n",
       "    </tr>\n",
       "    <tr>\n",
       "      <th>3</th>\n",
       "      <td>49026</td>\n",
       "      <td>250000000</td>\n",
       "      <td>1.084939e+09</td>\n",
       "    </tr>\n",
       "    <tr>\n",
       "      <th>4</th>\n",
       "      <td>49529</td>\n",
       "      <td>260000000</td>\n",
       "      <td>2.841391e+08</td>\n",
       "    </tr>\n",
       "  </tbody>\n",
       "</table>\n",
       "</div>"
      ],
      "text/plain": [
       "       id     budget       revenue\n",
       "0   19995  237000000  2.787965e+09\n",
       "1     285  300000000  9.610000e+08\n",
       "2  206647  245000000  8.806746e+08\n",
       "3   49026  250000000  1.084939e+09\n",
       "4   49529  260000000  2.841391e+08"
      ]
     },
     "execution_count": 3,
     "metadata": {},
     "output_type": "execute_result"
    }
   ],
   "source": [
    "financials.head()"
   ]
  },
  {
   "cell_type": "markdown",
   "id": "7eccd814-8572-49a5-8b11-1760fb26759d",
   "metadata": {},
   "source": [
    "### Instructions 2/3\n",
    "Merge the `movies` table, as the left table, with the `financials` table using a left join, and save the result to `movies_financials`."
   ]
  },
  {
   "cell_type": "code",
   "execution_count": 4,
   "id": "def17513-cc8d-4a52-a3d4-aa51d952c1de",
   "metadata": {},
   "outputs": [
    {
     "data": {
      "text/html": [
       "<div>\n",
       "<style scoped>\n",
       "    .dataframe tbody tr th:only-of-type {\n",
       "        vertical-align: middle;\n",
       "    }\n",
       "\n",
       "    .dataframe tbody tr th {\n",
       "        vertical-align: top;\n",
       "    }\n",
       "\n",
       "    .dataframe thead th {\n",
       "        text-align: right;\n",
       "    }\n",
       "</style>\n",
       "<table border=\"1\" class=\"dataframe\">\n",
       "  <thead>\n",
       "    <tr style=\"text-align: right;\">\n",
       "      <th></th>\n",
       "      <th>id</th>\n",
       "      <th>title</th>\n",
       "      <th>popularity</th>\n",
       "      <th>release_date</th>\n",
       "      <th>budget</th>\n",
       "      <th>revenue</th>\n",
       "    </tr>\n",
       "  </thead>\n",
       "  <tbody>\n",
       "    <tr>\n",
       "      <th>0</th>\n",
       "      <td>257</td>\n",
       "      <td>Oliver Twist</td>\n",
       "      <td>20.415572</td>\n",
       "      <td>2005-09-23</td>\n",
       "      <td>50000000.0</td>\n",
       "      <td>42093706.0</td>\n",
       "    </tr>\n",
       "    <tr>\n",
       "      <th>1</th>\n",
       "      <td>14290</td>\n",
       "      <td>Better Luck Tomorrow</td>\n",
       "      <td>3.877036</td>\n",
       "      <td>2002-01-12</td>\n",
       "      <td>NaN</td>\n",
       "      <td>NaN</td>\n",
       "    </tr>\n",
       "    <tr>\n",
       "      <th>2</th>\n",
       "      <td>38365</td>\n",
       "      <td>Grown Ups</td>\n",
       "      <td>38.864027</td>\n",
       "      <td>2010-06-24</td>\n",
       "      <td>80000000.0</td>\n",
       "      <td>271430189.0</td>\n",
       "    </tr>\n",
       "    <tr>\n",
       "      <th>3</th>\n",
       "      <td>9672</td>\n",
       "      <td>Infamous</td>\n",
       "      <td>3.680896</td>\n",
       "      <td>2006-11-16</td>\n",
       "      <td>13000000.0</td>\n",
       "      <td>1151330.0</td>\n",
       "    </tr>\n",
       "    <tr>\n",
       "      <th>4</th>\n",
       "      <td>12819</td>\n",
       "      <td>Alpha and Omega</td>\n",
       "      <td>12.300789</td>\n",
       "      <td>2010-09-17</td>\n",
       "      <td>20000000.0</td>\n",
       "      <td>39300000.0</td>\n",
       "    </tr>\n",
       "  </tbody>\n",
       "</table>\n",
       "</div>"
      ],
      "text/plain": [
       "      id                 title  popularity release_date      budget  \\\n",
       "0    257          Oliver Twist   20.415572   2005-09-23  50000000.0   \n",
       "1  14290  Better Luck Tomorrow    3.877036   2002-01-12         NaN   \n",
       "2  38365             Grown Ups   38.864027   2010-06-24  80000000.0   \n",
       "3   9672              Infamous    3.680896   2006-11-16  13000000.0   \n",
       "4  12819       Alpha and Omega   12.300789   2010-09-17  20000000.0   \n",
       "\n",
       "       revenue  \n",
       "0   42093706.0  \n",
       "1          NaN  \n",
       "2  271430189.0  \n",
       "3    1151330.0  \n",
       "4   39300000.0  "
      ]
     },
     "execution_count": 4,
     "metadata": {},
     "output_type": "execute_result"
    }
   ],
   "source": [
    "movies_financials = movies.merge(financials, on = 'id', how = 'left')\n",
    "movies_financials.head()"
   ]
  },
  {
   "cell_type": "markdown",
   "id": "16ba563a-2421-4c4c-a296-064f54e2ffea",
   "metadata": {},
   "source": [
    "### Instructions 3/3\n",
    "Count the number of rows in `movies_financials` with a `null` value in the `budget` column."
   ]
  },
  {
   "cell_type": "code",
   "execution_count": 5,
   "id": "65f56ea8-32f5-45ea-a53c-d2889d01c915",
   "metadata": {},
   "outputs": [
    {
     "data": {
      "text/plain": [
       "1574"
      ]
     },
     "execution_count": 5,
     "metadata": {},
     "output_type": "execute_result"
    }
   ],
   "source": [
    "numbers_of_missing_fin = movies_financials['budget'].isna().sum()\n",
    "# numbers_of_missing_fin = movies_financials['budget'].isnull().sum() # this is a similar code\n",
    "numbers_of_missing_fin"
   ]
  },
  {
   "cell_type": "markdown",
   "id": "1b12a6dc-9081-4df7-9405-36ae44b277be",
   "metadata": {},
   "source": [
    "You used a left join to find out which rows in the `financials` table were missing data. When performing a left join, the `.merge()` method returns a row full of null values for columns in the right table if the key column does not have a matching value in both tables. We see that there are at least 1,500 rows missing data. Wow! That sounds like a lot of work."
   ]
  },
  {
   "cell_type": "markdown",
   "id": "3612bbd0-6fa8-4e93-aac1-dea3e8e16611",
   "metadata": {},
   "source": [
    "## Enriching a dataset\n",
    "\n",
    "Setting `how='left'` with the `.merge()` method is a useful technique for enriching or enhancing a dataset with additional information from a different table. In this exercise, you will start off with a sample of movie data from the movie series Toy Story. Your goal is to enrich this data by adding the marketing tag line for each movie. You will compare the results of a left join versus an inner join.\n",
    "\n",
    "The `toy_story` DataFrame contains the Toy Story movies. The `toy_story` and `taglines` DataFrames have been loaded for you."
   ]
  },
  {
   "cell_type": "code",
   "execution_count": 6,
   "id": "2b0462ff-d9d0-4c78-bdf9-c48fa01a46d5",
   "metadata": {},
   "outputs": [],
   "source": [
    "toy_story = pd.read_pickle('datasets/toy_story.p')\n",
    "taglines = pd.read_pickle('datasets/taglines.p')"
   ]
  },
  {
   "cell_type": "markdown",
   "id": "88845bc9-c4cc-46a0-80b8-af1c98caf550",
   "metadata": {},
   "source": [
    "### Instructions\n",
    "Merge `toy_story` and `taglines` on the id column with a left join, and save the result as `toystory_tag`."
   ]
  },
  {
   "cell_type": "code",
   "execution_count": 7,
   "id": "f2dea9cb-d0d7-4582-920c-88d427b76179",
   "metadata": {},
   "outputs": [
    {
     "data": {
      "text/html": [
       "<div>\n",
       "<style scoped>\n",
       "    .dataframe tbody tr th:only-of-type {\n",
       "        vertical-align: middle;\n",
       "    }\n",
       "\n",
       "    .dataframe tbody tr th {\n",
       "        vertical-align: top;\n",
       "    }\n",
       "\n",
       "    .dataframe thead th {\n",
       "        text-align: right;\n",
       "    }\n",
       "</style>\n",
       "<table border=\"1\" class=\"dataframe\">\n",
       "  <thead>\n",
       "    <tr style=\"text-align: right;\">\n",
       "      <th></th>\n",
       "      <th>id</th>\n",
       "      <th>title</th>\n",
       "      <th>popularity</th>\n",
       "      <th>release_date</th>\n",
       "      <th>tagline</th>\n",
       "    </tr>\n",
       "  </thead>\n",
       "  <tbody>\n",
       "    <tr>\n",
       "      <th>0</th>\n",
       "      <td>10193</td>\n",
       "      <td>Toy Story 3</td>\n",
       "      <td>59995418</td>\n",
       "      <td>2010-06-16</td>\n",
       "      <td>No toy gets left behind.</td>\n",
       "    </tr>\n",
       "    <tr>\n",
       "      <th>1</th>\n",
       "      <td>863</td>\n",
       "      <td>Toy Story 2</td>\n",
       "      <td>73575118</td>\n",
       "      <td>1999-10-30</td>\n",
       "      <td>The toys are back!</td>\n",
       "    </tr>\n",
       "    <tr>\n",
       "      <th>2</th>\n",
       "      <td>862</td>\n",
       "      <td>Toy Story</td>\n",
       "      <td>73640445</td>\n",
       "      <td>1995-10-30</td>\n",
       "      <td>NaN</td>\n",
       "    </tr>\n",
       "  </tbody>\n",
       "</table>\n",
       "</div>"
      ],
      "text/plain": [
       "      id        title  popularity release_date                   tagline\n",
       "0  10193  Toy Story 3    59995418   2010-06-16  No toy gets left behind.\n",
       "1    863  Toy Story 2    73575118   1999-10-30        The toys are back!\n",
       "2    862    Toy Story    73640445   1995-10-30                       NaN"
      ]
     },
     "execution_count": 7,
     "metadata": {},
     "output_type": "execute_result"
    }
   ],
   "source": [
    "toystory_tag = toy_story.merge(taglines, on = 'id', how = 'left')\n",
    "toystory_tag"
   ]
  },
  {
   "cell_type": "code",
   "execution_count": 8,
   "id": "22468711-9f1e-4efd-9905-1cf5e989b361",
   "metadata": {},
   "outputs": [
    {
     "data": {
      "text/plain": [
       "(3, 5)"
      ]
     },
     "execution_count": 8,
     "metadata": {},
     "output_type": "execute_result"
    }
   ],
   "source": [
    "toystory_tag.shape"
   ]
  },
  {
   "cell_type": "markdown",
   "id": "be93b8fa-3c3e-44c4-9c0e-aeb6c52aa326",
   "metadata": {},
   "source": [
    "### Instructions 2/2\n",
    "With `toy_story` as the left table, merge to it `taglines` on the id column with an `inner join`, and save as `toystory_tag`."
   ]
  },
  {
   "cell_type": "code",
   "execution_count": 9,
   "id": "8c9e970b-9266-4406-9b12-dbfafcf47bf3",
   "metadata": {},
   "outputs": [
    {
     "data": {
      "text/html": [
       "<div>\n",
       "<style scoped>\n",
       "    .dataframe tbody tr th:only-of-type {\n",
       "        vertical-align: middle;\n",
       "    }\n",
       "\n",
       "    .dataframe tbody tr th {\n",
       "        vertical-align: top;\n",
       "    }\n",
       "\n",
       "    .dataframe thead th {\n",
       "        text-align: right;\n",
       "    }\n",
       "</style>\n",
       "<table border=\"1\" class=\"dataframe\">\n",
       "  <thead>\n",
       "    <tr style=\"text-align: right;\">\n",
       "      <th></th>\n",
       "      <th>id</th>\n",
       "      <th>title</th>\n",
       "      <th>popularity</th>\n",
       "      <th>release_date</th>\n",
       "      <th>tagline</th>\n",
       "    </tr>\n",
       "  </thead>\n",
       "  <tbody>\n",
       "    <tr>\n",
       "      <th>0</th>\n",
       "      <td>10193</td>\n",
       "      <td>Toy Story 3</td>\n",
       "      <td>59995418</td>\n",
       "      <td>2010-06-16</td>\n",
       "      <td>No toy gets left behind.</td>\n",
       "    </tr>\n",
       "    <tr>\n",
       "      <th>1</th>\n",
       "      <td>863</td>\n",
       "      <td>Toy Story 2</td>\n",
       "      <td>73575118</td>\n",
       "      <td>1999-10-30</td>\n",
       "      <td>The toys are back!</td>\n",
       "    </tr>\n",
       "  </tbody>\n",
       "</table>\n",
       "</div>"
      ],
      "text/plain": [
       "      id        title  popularity release_date                   tagline\n",
       "0  10193  Toy Story 3    59995418   2010-06-16  No toy gets left behind.\n",
       "1    863  Toy Story 2    73575118   1999-10-30        The toys are back!"
      ]
     },
     "execution_count": 9,
     "metadata": {},
     "output_type": "execute_result"
    }
   ],
   "source": [
    "toystory_tag = toy_story.merge(taglines, on = 'id')\n",
    "toystory_tag"
   ]
  },
  {
   "cell_type": "code",
   "execution_count": 10,
   "id": "5ef42462-1153-49f2-95d9-bd5a6cf434f4",
   "metadata": {},
   "outputs": [
    {
     "data": {
      "text/plain": [
       "(2, 5)"
      ]
     },
     "execution_count": 10,
     "metadata": {},
     "output_type": "execute_result"
    }
   ],
   "source": [
    "toystory_tag.shape"
   ]
  },
  {
   "cell_type": "markdown",
   "id": "fad3c871-c38c-40ae-931e-58497cdc30ec",
   "metadata": {},
   "source": [
    "If your goal is to enhance or enrich a dataset, then you do not want to lose any of your original data. A left join will do that by returning all of the rows of your left table, while using an inner join may result in lost data if it does not exist in both tables."
   ]
  },
  {
   "cell_type": "markdown",
   "id": "94b6a6e7-f8e1-4748-b903-4d4c767c73d8",
   "metadata": {},
   "source": [
    "## Right join to find unique movies\n",
    "\n",
    "Most of the recent big-budget science fiction movies can also be classified as action movies. You are given a table of science fiction movies called `scifi_movies` and another table of action movies called `action_movies`. Your goal is to find which movies are considered only science fiction movies. Once you have this table, you can merge the `movies` table in to see the movie names. Since this exercise is related to science fiction movies, use a right join as your superhero power to solve this problem.\n",
    "\n",
    "The `movies`, `scifi_movies`, and `action_movies` tables have been loaded for you."
   ]
  },
  {
   "cell_type": "code",
   "execution_count": 11,
   "id": "c2226ea8-fe07-48be-a8b7-b6d6881f2695",
   "metadata": {},
   "outputs": [
    {
     "data": {
      "text/html": [
       "<div>\n",
       "<style scoped>\n",
       "    .dataframe tbody tr th:only-of-type {\n",
       "        vertical-align: middle;\n",
       "    }\n",
       "\n",
       "    .dataframe tbody tr th {\n",
       "        vertical-align: top;\n",
       "    }\n",
       "\n",
       "    .dataframe thead th {\n",
       "        text-align: right;\n",
       "    }\n",
       "</style>\n",
       "<table border=\"1\" class=\"dataframe\">\n",
       "  <thead>\n",
       "    <tr style=\"text-align: right;\">\n",
       "      <th></th>\n",
       "      <th>id</th>\n",
       "      <th>title</th>\n",
       "      <th>popularity</th>\n",
       "      <th>release_date</th>\n",
       "    </tr>\n",
       "  </thead>\n",
       "  <tbody>\n",
       "    <tr>\n",
       "      <th>0</th>\n",
       "      <td>257</td>\n",
       "      <td>Oliver Twist</td>\n",
       "      <td>20.415572</td>\n",
       "      <td>2005-09-23</td>\n",
       "    </tr>\n",
       "    <tr>\n",
       "      <th>1</th>\n",
       "      <td>14290</td>\n",
       "      <td>Better Luck Tomorrow</td>\n",
       "      <td>3.877036</td>\n",
       "      <td>2002-01-12</td>\n",
       "    </tr>\n",
       "    <tr>\n",
       "      <th>2</th>\n",
       "      <td>38365</td>\n",
       "      <td>Grown Ups</td>\n",
       "      <td>38.864027</td>\n",
       "      <td>2010-06-24</td>\n",
       "    </tr>\n",
       "    <tr>\n",
       "      <th>3</th>\n",
       "      <td>9672</td>\n",
       "      <td>Infamous</td>\n",
       "      <td>3.680896</td>\n",
       "      <td>2006-11-16</td>\n",
       "    </tr>\n",
       "    <tr>\n",
       "      <th>4</th>\n",
       "      <td>12819</td>\n",
       "      <td>Alpha and Omega</td>\n",
       "      <td>12.300789</td>\n",
       "      <td>2010-09-17</td>\n",
       "    </tr>\n",
       "  </tbody>\n",
       "</table>\n",
       "</div>"
      ],
      "text/plain": [
       "      id                 title  popularity release_date\n",
       "0    257          Oliver Twist   20.415572   2005-09-23\n",
       "1  14290  Better Luck Tomorrow    3.877036   2002-01-12\n",
       "2  38365             Grown Ups   38.864027   2010-06-24\n",
       "3   9672              Infamous    3.680896   2006-11-16\n",
       "4  12819       Alpha and Omega   12.300789   2010-09-17"
      ]
     },
     "execution_count": 11,
     "metadata": {},
     "output_type": "execute_result"
    }
   ],
   "source": [
    "movies = pd.read_pickle('datasets/movies.p')\n",
    "movies.head()"
   ]
  },
  {
   "cell_type": "markdown",
   "id": "09f520a5-e26d-4439-8a8c-3b7e3303421f",
   "metadata": {},
   "source": [
    "##### Prepare the `scifi_movies` and `action_movies` dataset from `movies_to_genre` dataset"
   ]
  },
  {
   "cell_type": "code",
   "execution_count": 58,
   "id": "f48268d6-3ada-41f2-8871-8a6809bbb9a2",
   "metadata": {},
   "outputs": [
    {
     "name": "stdout",
     "output_type": "stream",
     "text": [
      "   movie_id            genre\n",
      "0         5            Crime\n",
      "1         5           Comedy\n",
      "2        11  Science Fiction\n",
      "3        11           Action\n",
      "4        11        Adventure\n",
      "(12160, 2)\n"
     ]
    }
   ],
   "source": [
    "# Import the movie_to_genres dataset\n",
    "movie_to_genres = pd.read_pickle('datasets/movie_to_genres.p')\n",
    "print(movie_to_genres.head())\n",
    "print(movie_to_genres.shape)"
   ]
  },
  {
   "cell_type": "code",
   "execution_count": 13,
   "id": "e502ebed-0a44-420a-bb51-52a7dc99d82f",
   "metadata": {},
   "outputs": [],
   "source": [
    "# Subset scifi_movies dataset and store as separated pickle file\n",
    "scifi_movies = movie_to_genres[movie_to_genres['genre'] == 'Science Fiction']\n",
    "scifi_movies.to_pickle('datasets/scifi_movies.p')\n",
    "\n",
    "# Subset action_movies dataset and store as separated pickle file\n",
    "action_movies = movie_to_genres[movie_to_genres['genre'] == 'Action']\n",
    "action_movies.to_pickle('datasets/action_movies.p')"
   ]
  },
  {
   "cell_type": "markdown",
   "id": "905fc912-318c-4f30-95a5-1d05239894bb",
   "metadata": {},
   "source": [
    "### Instructions 1/4\n",
    "Merge `action_movies` and `scifi_movies` tables with a right join on `movie_id`. Save the result as `action_scifi`."
   ]
  },
  {
   "cell_type": "code",
   "execution_count": 14,
   "id": "d2587b2d-9200-4532-8ed9-ac4286139474",
   "metadata": {},
   "outputs": [
    {
     "name": "stdout",
     "output_type": "stream",
     "text": [
      "Index(['movie_id', 'genre'], dtype='object') Index(['movie_id', 'genre'], dtype='object')\n"
     ]
    }
   ],
   "source": [
    "print(action_movies.columns, scifi_movies.columns)"
   ]
  },
  {
   "cell_type": "code",
   "execution_count": 15,
   "id": "b32c57bb-8c77-405b-9856-4ff00a5eb7ac",
   "metadata": {},
   "outputs": [
    {
     "data": {
      "text/html": [
       "<div>\n",
       "<style scoped>\n",
       "    .dataframe tbody tr th:only-of-type {\n",
       "        vertical-align: middle;\n",
       "    }\n",
       "\n",
       "    .dataframe tbody tr th {\n",
       "        vertical-align: top;\n",
       "    }\n",
       "\n",
       "    .dataframe thead th {\n",
       "        text-align: right;\n",
       "    }\n",
       "</style>\n",
       "<table border=\"1\" class=\"dataframe\">\n",
       "  <thead>\n",
       "    <tr style=\"text-align: right;\">\n",
       "      <th></th>\n",
       "      <th>movie_id</th>\n",
       "      <th>genre_x</th>\n",
       "      <th>genre_y</th>\n",
       "    </tr>\n",
       "  </thead>\n",
       "  <tbody>\n",
       "    <tr>\n",
       "      <th>0</th>\n",
       "      <td>11</td>\n",
       "      <td>Action</td>\n",
       "      <td>Science Fiction</td>\n",
       "    </tr>\n",
       "    <tr>\n",
       "      <th>1</th>\n",
       "      <td>18</td>\n",
       "      <td>Action</td>\n",
       "      <td>Science Fiction</td>\n",
       "    </tr>\n",
       "  </tbody>\n",
       "</table>\n",
       "</div>"
      ],
      "text/plain": [
       "   movie_id genre_x          genre_y\n",
       "0        11  Action  Science Fiction\n",
       "1        18  Action  Science Fiction"
      ]
     },
     "execution_count": 15,
     "metadata": {},
     "output_type": "execute_result"
    }
   ],
   "source": [
    "action_scifi = action_movies.merge(scifi_movies, on = 'movie_id', how = 'right')\n",
    "action_scifi.head(2)"
   ]
  },
  {
   "cell_type": "markdown",
   "id": "193ee8e6-8ff4-4c0d-ba3b-f4d0b844bd19",
   "metadata": {},
   "source": [
    "### Instructions 2/4\n",
    "Update the merge to add suffixes, where `'_act'` and `'_sci'` are suffixes for the left and right tables, respectively."
   ]
  },
  {
   "cell_type": "code",
   "execution_count": 59,
   "id": "dc6e561f-f9ad-4d23-8a66-ba617958b916",
   "metadata": {},
   "outputs": [
    {
     "data": {
      "text/html": [
       "<div>\n",
       "<style scoped>\n",
       "    .dataframe tbody tr th:only-of-type {\n",
       "        vertical-align: middle;\n",
       "    }\n",
       "\n",
       "    .dataframe tbody tr th {\n",
       "        vertical-align: top;\n",
       "    }\n",
       "\n",
       "    .dataframe thead th {\n",
       "        text-align: right;\n",
       "    }\n",
       "</style>\n",
       "<table border=\"1\" class=\"dataframe\">\n",
       "  <thead>\n",
       "    <tr style=\"text-align: right;\">\n",
       "      <th></th>\n",
       "      <th>movie_id</th>\n",
       "      <th>genre_act</th>\n",
       "      <th>genre_sci</th>\n",
       "    </tr>\n",
       "  </thead>\n",
       "  <tbody>\n",
       "    <tr>\n",
       "      <th>0</th>\n",
       "      <td>11</td>\n",
       "      <td>Action</td>\n",
       "      <td>Science Fiction</td>\n",
       "    </tr>\n",
       "    <tr>\n",
       "      <th>1</th>\n",
       "      <td>18</td>\n",
       "      <td>Action</td>\n",
       "      <td>Science Fiction</td>\n",
       "    </tr>\n",
       "  </tbody>\n",
       "</table>\n",
       "</div>"
      ],
      "text/plain": [
       "   movie_id genre_act        genre_sci\n",
       "0        11    Action  Science Fiction\n",
       "1        18    Action  Science Fiction"
      ]
     },
     "execution_count": 59,
     "metadata": {},
     "output_type": "execute_result"
    }
   ],
   "source": [
    "action_scifi = action_movies.merge(scifi_movies, on = 'movie_id', how = 'right', suffixes = ['_act','_sci'])\n",
    "action_scifi.head(2)"
   ]
  },
  {
   "cell_type": "markdown",
   "id": "604d2e15-6844-4de2-bde7-2bca2f0c9eb9",
   "metadata": {},
   "source": [
    "### Instructions 3/4\n",
    "From `action_scifi`, subset only the rows where the `genre_act` column is null."
   ]
  },
  {
   "cell_type": "code",
   "execution_count": 62,
   "id": "af913f07-aa56-4e5a-940f-d154d881f658",
   "metadata": {},
   "outputs": [
    {
     "data": {
      "text/html": [
       "<div>\n",
       "<style scoped>\n",
       "    .dataframe tbody tr th:only-of-type {\n",
       "        vertical-align: middle;\n",
       "    }\n",
       "\n",
       "    .dataframe tbody tr th {\n",
       "        vertical-align: top;\n",
       "    }\n",
       "\n",
       "    .dataframe thead th {\n",
       "        text-align: right;\n",
       "    }\n",
       "</style>\n",
       "<table border=\"1\" class=\"dataframe\">\n",
       "  <thead>\n",
       "    <tr style=\"text-align: right;\">\n",
       "      <th></th>\n",
       "      <th>movie_id</th>\n",
       "      <th>genre_act</th>\n",
       "      <th>genre_sci</th>\n",
       "    </tr>\n",
       "  </thead>\n",
       "  <tbody>\n",
       "    <tr>\n",
       "      <th>2</th>\n",
       "      <td>19</td>\n",
       "      <td>NaN</td>\n",
       "      <td>Science Fiction</td>\n",
       "    </tr>\n",
       "    <tr>\n",
       "      <th>3</th>\n",
       "      <td>38</td>\n",
       "      <td>NaN</td>\n",
       "      <td>Science Fiction</td>\n",
       "    </tr>\n",
       "  </tbody>\n",
       "</table>\n",
       "</div>"
      ],
      "text/plain": [
       "   movie_id genre_act        genre_sci\n",
       "2        19       NaN  Science Fiction\n",
       "3        38       NaN  Science Fiction"
      ]
     },
     "execution_count": 62,
     "metadata": {},
     "output_type": "execute_result"
    }
   ],
   "source": [
    "scifi_only = action_scifi[action_scifi['genre_act'].isnull()]\n",
    "scifi_only.head(2)"
   ]
  },
  {
   "cell_type": "code",
   "execution_count": 64,
   "id": "8881d26f-bcc3-4a57-9d4f-477346efa610",
   "metadata": {},
   "outputs": [
    {
     "data": {
      "text/plain": [
       "(258, 3)"
      ]
     },
     "execution_count": 64,
     "metadata": {},
     "output_type": "execute_result"
    }
   ],
   "source": [
    "scifi_only.shape"
   ]
  },
  {
   "cell_type": "markdown",
   "id": "0e7b22ab-aa47-4e8b-935c-d1f6b26c6c5d",
   "metadata": {},
   "source": [
    "### Instructions 4/4\n",
    "Merge `movies` and `scifi_only` using the `id` column in the left table and the `movie_id` column in the right table with an inner join."
   ]
  },
  {
   "cell_type": "code",
   "execution_count": 61,
   "id": "b4034461-82da-426c-94c3-8266197978cd",
   "metadata": {},
   "outputs": [
    {
     "data": {
      "text/plain": [
       "(4803, 3)"
      ]
     },
     "execution_count": 61,
     "metadata": {},
     "output_type": "execute_result"
    }
   ],
   "source": [
    "movies.shape"
   ]
  },
  {
   "cell_type": "code",
   "execution_count": 18,
   "id": "8f0af039-ddb3-42a7-bcc5-7814ebedb10c",
   "metadata": {},
   "outputs": [
    {
     "data": {
      "text/html": [
       "<div>\n",
       "<style scoped>\n",
       "    .dataframe tbody tr th:only-of-type {\n",
       "        vertical-align: middle;\n",
       "    }\n",
       "\n",
       "    .dataframe tbody tr th {\n",
       "        vertical-align: top;\n",
       "    }\n",
       "\n",
       "    .dataframe thead th {\n",
       "        text-align: right;\n",
       "    }\n",
       "</style>\n",
       "<table border=\"1\" class=\"dataframe\">\n",
       "  <thead>\n",
       "    <tr style=\"text-align: right;\">\n",
       "      <th></th>\n",
       "      <th>id</th>\n",
       "      <th>title</th>\n",
       "      <th>popularity</th>\n",
       "      <th>release_date</th>\n",
       "      <th>movie_id</th>\n",
       "      <th>genre_act</th>\n",
       "      <th>genre_sci</th>\n",
       "    </tr>\n",
       "  </thead>\n",
       "  <tbody>\n",
       "    <tr>\n",
       "      <th>0</th>\n",
       "      <td>18841</td>\n",
       "      <td>The Lost Skeleton of Cadavra</td>\n",
       "      <td>1.680525</td>\n",
       "      <td>2001-09-12</td>\n",
       "      <td>18841</td>\n",
       "      <td>NaN</td>\n",
       "      <td>Science Fiction</td>\n",
       "    </tr>\n",
       "    <tr>\n",
       "      <th>1</th>\n",
       "      <td>26672</td>\n",
       "      <td>The Thief and the Cobbler</td>\n",
       "      <td>2.439184</td>\n",
       "      <td>1993-09-23</td>\n",
       "      <td>26672</td>\n",
       "      <td>NaN</td>\n",
       "      <td>Science Fiction</td>\n",
       "    </tr>\n",
       "    <tr>\n",
       "      <th>2</th>\n",
       "      <td>15301</td>\n",
       "      <td>Twilight Zone: The Movie</td>\n",
       "      <td>12.902975</td>\n",
       "      <td>1983-06-24</td>\n",
       "      <td>15301</td>\n",
       "      <td>NaN</td>\n",
       "      <td>Science Fiction</td>\n",
       "    </tr>\n",
       "    <tr>\n",
       "      <th>3</th>\n",
       "      <td>8452</td>\n",
       "      <td>The 6th Day</td>\n",
       "      <td>18.447479</td>\n",
       "      <td>2000-11-17</td>\n",
       "      <td>8452</td>\n",
       "      <td>NaN</td>\n",
       "      <td>Science Fiction</td>\n",
       "    </tr>\n",
       "    <tr>\n",
       "      <th>4</th>\n",
       "      <td>1649</td>\n",
       "      <td>Bill &amp; Ted's Bogus Journey</td>\n",
       "      <td>11.349664</td>\n",
       "      <td>1991-07-19</td>\n",
       "      <td>1649</td>\n",
       "      <td>NaN</td>\n",
       "      <td>Science Fiction</td>\n",
       "    </tr>\n",
       "  </tbody>\n",
       "</table>\n",
       "</div>"
      ],
      "text/plain": [
       "      id                         title  popularity release_date  movie_id  \\\n",
       "0  18841  The Lost Skeleton of Cadavra    1.680525   2001-09-12     18841   \n",
       "1  26672     The Thief and the Cobbler    2.439184   1993-09-23     26672   \n",
       "2  15301      Twilight Zone: The Movie   12.902975   1983-06-24     15301   \n",
       "3   8452                   The 6th Day   18.447479   2000-11-17      8452   \n",
       "4   1649    Bill & Ted's Bogus Journey   11.349664   1991-07-19      1649   \n",
       "\n",
       "  genre_act        genre_sci  \n",
       "0       NaN  Science Fiction  \n",
       "1       NaN  Science Fiction  \n",
       "2       NaN  Science Fiction  \n",
       "3       NaN  Science Fiction  \n",
       "4       NaN  Science Fiction  "
      ]
     },
     "execution_count": 18,
     "metadata": {},
     "output_type": "execute_result"
    }
   ],
   "source": [
    "movies_and_scifi_only = movies.merge(scifi_only, left_on= 'id', right_on= 'movie_id')\n",
    "movies_and_scifi_only.head()"
   ]
  },
  {
   "cell_type": "code",
   "execution_count": 19,
   "id": "5bc65e4e-350d-4433-9fd9-4160414cf02b",
   "metadata": {},
   "outputs": [
    {
     "data": {
      "text/plain": [
       "(258, 7)"
      ]
     },
     "execution_count": 19,
     "metadata": {},
     "output_type": "execute_result"
    }
   ],
   "source": [
    "movies_and_scifi_only.shape"
   ]
  },
  {
   "cell_type": "markdown",
   "id": "6518d6ca-e334-4fec-afec-6e7f52df5825",
   "metadata": {},
   "source": [
    "You found over 250 action only movies by merging action_movies and scifi_movies using a right join. With this, you were able to find the rows not found in the action_movies table. Additionally, you used the left_on and right_on arguments to merge in the movies table."
   ]
  },
  {
   "cell_type": "markdown",
   "id": "57f295ea-dbfd-48da-916c-b653c2f01cae",
   "metadata": {},
   "source": [
    "## Popular genres with right join\n",
    "\n",
    "What are the genres of the most popular movies? To answer this question, you need to merge data from the `movies` and `movie_to_genres` tables. In a table called `pop_movies`, the top 10 most popular movies in the movies table have been selected. To ensure that you are analyzing all of the popular movies, merge it with the `movie_to_genres` table using a right join. To complete your analysis, count the number of different genres. Also, the two tables can be merged by the movie ID. However, in `pop_movies` that column is called `id`, and in `movies_to_genres` it's called `movie_id`."
   ]
  },
  {
   "cell_type": "markdown",
   "id": "d471c44f-22b5-40e3-8c25-8929b247c34b",
   "metadata": {},
   "source": [
    "### Preparation\n",
    "We need to create the `pop_movies` mergin `movies` and `movie_to_genres`."
   ]
  },
  {
   "cell_type": "code",
   "execution_count": 20,
   "id": "374f85cd-b784-49ec-bc29-da137bf63763",
   "metadata": {},
   "outputs": [
    {
     "data": {
      "text/plain": [
       "Index(['id', 'title', 'popularity', 'release_date'], dtype='object')"
      ]
     },
     "execution_count": 20,
     "metadata": {},
     "output_type": "execute_result"
    }
   ],
   "source": [
    "# First we check the movie dataset columns header\n",
    "movies.columns"
   ]
  },
  {
   "cell_type": "code",
   "execution_count": 21,
   "id": "407f6ed4-e371-4c65-aac4-0592cef8d708",
   "metadata": {},
   "outputs": [
    {
     "data": {
      "text/plain": [
       "Index(['movie_id', 'genre'], dtype='object')"
      ]
     },
     "execution_count": 21,
     "metadata": {},
     "output_type": "execute_result"
    }
   ],
   "source": [
    "# The we do the same with movie_to_genre dataset\n",
    "movie_to_genres.columns"
   ]
  },
  {
   "cell_type": "code",
   "execution_count": 22,
   "id": "c5452654-175b-4740-88eb-103b2b6db55f",
   "metadata": {},
   "outputs": [
    {
     "data": {
      "text/html": [
       "<div>\n",
       "<style scoped>\n",
       "    .dataframe tbody tr th:only-of-type {\n",
       "        vertical-align: middle;\n",
       "    }\n",
       "\n",
       "    .dataframe tbody tr th {\n",
       "        vertical-align: top;\n",
       "    }\n",
       "\n",
       "    .dataframe thead th {\n",
       "        text-align: right;\n",
       "    }\n",
       "</style>\n",
       "<table border=\"1\" class=\"dataframe\">\n",
       "  <thead>\n",
       "    <tr style=\"text-align: right;\">\n",
       "      <th></th>\n",
       "      <th>id</th>\n",
       "      <th>title</th>\n",
       "      <th>popularity</th>\n",
       "      <th>release_date</th>\n",
       "      <th>movie_id</th>\n",
       "      <th>genre</th>\n",
       "    </tr>\n",
       "  </thead>\n",
       "  <tbody>\n",
       "    <tr>\n",
       "      <th>0</th>\n",
       "      <td>257</td>\n",
       "      <td>Oliver Twist</td>\n",
       "      <td>20.415572</td>\n",
       "      <td>2005-09-23</td>\n",
       "      <td>257</td>\n",
       "      <td>Crime</td>\n",
       "    </tr>\n",
       "    <tr>\n",
       "      <th>1</th>\n",
       "      <td>257</td>\n",
       "      <td>Oliver Twist</td>\n",
       "      <td>20.415572</td>\n",
       "      <td>2005-09-23</td>\n",
       "      <td>257</td>\n",
       "      <td>Drama</td>\n",
       "    </tr>\n",
       "  </tbody>\n",
       "</table>\n",
       "</div>"
      ],
      "text/plain": [
       "    id         title  popularity release_date  movie_id  genre\n",
       "0  257  Oliver Twist   20.415572   2005-09-23       257  Crime\n",
       "1  257  Oliver Twist   20.415572   2005-09-23       257  Drama"
      ]
     },
     "execution_count": 22,
     "metadata": {},
     "output_type": "execute_result"
    }
   ],
   "source": [
    "# Then we generate a support DataSet merging the movie and movies_to_genre datasets on id and movie_id columns\n",
    "movies_support = movies.merge(movie_to_genres, how ='inner', left_on= 'id', right_on= 'movie_id')\n",
    "movies_support.head(2)"
   ]
  },
  {
   "cell_type": "code",
   "execution_count": 23,
   "id": "7677e9e8-13ab-4127-b811-6f871b7bc32d",
   "metadata": {},
   "outputs": [],
   "source": [
    "# Now we can create the pop_movies datasets by subseting the movies_support dataset\n",
    "pop_movies = movies_support[movies_support['popularity'] > 203.000000]\\\n",
    "[['id','title','popularity','release_date']]\\\n",
    ".drop_duplicates('id').sort_values('popularity', ascending = False)"
   ]
  },
  {
   "cell_type": "code",
   "execution_count": 24,
   "id": "50634566-f523-4504-89bc-09ce9b6e2174",
   "metadata": {},
   "outputs": [
    {
     "data": {
      "text/html": [
       "<div>\n",
       "<style scoped>\n",
       "    .dataframe tbody tr th:only-of-type {\n",
       "        vertical-align: middle;\n",
       "    }\n",
       "\n",
       "    .dataframe tbody tr th {\n",
       "        vertical-align: top;\n",
       "    }\n",
       "\n",
       "    .dataframe thead th {\n",
       "        text-align: right;\n",
       "    }\n",
       "</style>\n",
       "<table border=\"1\" class=\"dataframe\">\n",
       "  <thead>\n",
       "    <tr style=\"text-align: right;\">\n",
       "      <th></th>\n",
       "      <th>id</th>\n",
       "      <th>title</th>\n",
       "      <th>popularity</th>\n",
       "      <th>release_date</th>\n",
       "    </tr>\n",
       "  </thead>\n",
       "  <tbody>\n",
       "    <tr>\n",
       "      <th>11502</th>\n",
       "      <td>211672</td>\n",
       "      <td>Minions</td>\n",
       "      <td>875.581305</td>\n",
       "      <td>2015-06-17</td>\n",
       "    </tr>\n",
       "    <tr>\n",
       "      <th>10954</th>\n",
       "      <td>157336</td>\n",
       "      <td>Interstellar</td>\n",
       "      <td>724.247784</td>\n",
       "      <td>2014-11-05</td>\n",
       "    </tr>\n",
       "    <tr>\n",
       "      <th>4978</th>\n",
       "      <td>293660</td>\n",
       "      <td>Deadpool</td>\n",
       "      <td>514.569956</td>\n",
       "      <td>2016-02-09</td>\n",
       "    </tr>\n",
       "    <tr>\n",
       "      <th>6130</th>\n",
       "      <td>118340</td>\n",
       "      <td>Guardians of the Galaxy</td>\n",
       "      <td>481.098624</td>\n",
       "      <td>2014-07-30</td>\n",
       "    </tr>\n",
       "    <tr>\n",
       "      <th>10641</th>\n",
       "      <td>76341</td>\n",
       "      <td>Mad Max: Fury Road</td>\n",
       "      <td>434.278564</td>\n",
       "      <td>2015-05-13</td>\n",
       "    </tr>\n",
       "    <tr>\n",
       "      <th>4731</th>\n",
       "      <td>135397</td>\n",
       "      <td>Jurassic World</td>\n",
       "      <td>418.708552</td>\n",
       "      <td>2015-06-09</td>\n",
       "    </tr>\n",
       "    <tr>\n",
       "      <th>11043</th>\n",
       "      <td>22</td>\n",
       "      <td>Pirates of the Caribbean: The Curse of the Bla...</td>\n",
       "      <td>271.972889</td>\n",
       "      <td>2003-07-09</td>\n",
       "    </tr>\n",
       "    <tr>\n",
       "      <th>2795</th>\n",
       "      <td>119450</td>\n",
       "      <td>Dawn of the Planet of the Apes</td>\n",
       "      <td>243.791743</td>\n",
       "      <td>2014-06-26</td>\n",
       "    </tr>\n",
       "    <tr>\n",
       "      <th>10630</th>\n",
       "      <td>131631</td>\n",
       "      <td>The Hunger Games: Mockingjay - Part 1</td>\n",
       "      <td>206.227151</td>\n",
       "      <td>2014-11-18</td>\n",
       "    </tr>\n",
       "    <tr>\n",
       "      <th>6612</th>\n",
       "      <td>177572</td>\n",
       "      <td>Big Hero 6</td>\n",
       "      <td>203.734590</td>\n",
       "      <td>2014-10-24</td>\n",
       "    </tr>\n",
       "  </tbody>\n",
       "</table>\n",
       "</div>"
      ],
      "text/plain": [
       "           id                                              title  popularity  \\\n",
       "11502  211672                                            Minions  875.581305   \n",
       "10954  157336                                       Interstellar  724.247784   \n",
       "4978   293660                                           Deadpool  514.569956   \n",
       "6130   118340                            Guardians of the Galaxy  481.098624   \n",
       "10641   76341                                 Mad Max: Fury Road  434.278564   \n",
       "4731   135397                                     Jurassic World  418.708552   \n",
       "11043      22  Pirates of the Caribbean: The Curse of the Bla...  271.972889   \n",
       "2795   119450                     Dawn of the Planet of the Apes  243.791743   \n",
       "10630  131631              The Hunger Games: Mockingjay - Part 1  206.227151   \n",
       "6612   177572                                         Big Hero 6  203.734590   \n",
       "\n",
       "      release_date  \n",
       "11502   2015-06-17  \n",
       "10954   2014-11-05  \n",
       "4978    2016-02-09  \n",
       "6130    2014-07-30  \n",
       "10641   2015-05-13  \n",
       "4731    2015-06-09  \n",
       "11043   2003-07-09  \n",
       "2795    2014-06-26  \n",
       "10630   2014-11-18  \n",
       "6612    2014-10-24  "
      ]
     },
     "execution_count": 24,
     "metadata": {},
     "output_type": "execute_result"
    }
   ],
   "source": [
    "pop_movies"
   ]
  },
  {
   "cell_type": "markdown",
   "id": "bec65b66-0257-405b-a4d6-4b98331c8a26",
   "metadata": {},
   "source": [
    "### Instructions\n",
    "- Merge `movie_to_genres` and `pop_movies` using a right join. Save the results as `genres_movies`.\n",
    "- Group `genres_movies` by `genre` and count the number of `id` values."
   ]
  },
  {
   "cell_type": "code",
   "execution_count": 67,
   "id": "3b124a9a-b34d-4260-9d6e-920fc18fc577",
   "metadata": {},
   "outputs": [
    {
     "data": {
      "text/html": [
       "<div>\n",
       "<style scoped>\n",
       "    .dataframe tbody tr th:only-of-type {\n",
       "        vertical-align: middle;\n",
       "    }\n",
       "\n",
       "    .dataframe tbody tr th {\n",
       "        vertical-align: top;\n",
       "    }\n",
       "\n",
       "    .dataframe thead th {\n",
       "        text-align: right;\n",
       "    }\n",
       "</style>\n",
       "<table border=\"1\" class=\"dataframe\">\n",
       "  <thead>\n",
       "    <tr style=\"text-align: right;\">\n",
       "      <th></th>\n",
       "      <th>movie_id</th>\n",
       "      <th>genre</th>\n",
       "      <th>id</th>\n",
       "      <th>title</th>\n",
       "      <th>popularity</th>\n",
       "      <th>release_date</th>\n",
       "    </tr>\n",
       "  </thead>\n",
       "  <tbody>\n",
       "    <tr>\n",
       "      <th>0</th>\n",
       "      <td>211672</td>\n",
       "      <td>Comedy</td>\n",
       "      <td>211672</td>\n",
       "      <td>Minions</td>\n",
       "      <td>875.581305</td>\n",
       "      <td>2015-06-17</td>\n",
       "    </tr>\n",
       "    <tr>\n",
       "      <th>1</th>\n",
       "      <td>211672</td>\n",
       "      <td>Adventure</td>\n",
       "      <td>211672</td>\n",
       "      <td>Minions</td>\n",
       "      <td>875.581305</td>\n",
       "      <td>2015-06-17</td>\n",
       "    </tr>\n",
       "    <tr>\n",
       "      <th>2</th>\n",
       "      <td>211672</td>\n",
       "      <td>Animation</td>\n",
       "      <td>211672</td>\n",
       "      <td>Minions</td>\n",
       "      <td>875.581305</td>\n",
       "      <td>2015-06-17</td>\n",
       "    </tr>\n",
       "    <tr>\n",
       "      <th>3</th>\n",
       "      <td>211672</td>\n",
       "      <td>Family</td>\n",
       "      <td>211672</td>\n",
       "      <td>Minions</td>\n",
       "      <td>875.581305</td>\n",
       "      <td>2015-06-17</td>\n",
       "    </tr>\n",
       "    <tr>\n",
       "      <th>4</th>\n",
       "      <td>157336</td>\n",
       "      <td>Drama</td>\n",
       "      <td>157336</td>\n",
       "      <td>Interstellar</td>\n",
       "      <td>724.247784</td>\n",
       "      <td>2014-11-05</td>\n",
       "    </tr>\n",
       "  </tbody>\n",
       "</table>\n",
       "</div>"
      ],
      "text/plain": [
       "   movie_id      genre      id         title  popularity release_date\n",
       "0    211672     Comedy  211672       Minions  875.581305   2015-06-17\n",
       "1    211672  Adventure  211672       Minions  875.581305   2015-06-17\n",
       "2    211672  Animation  211672       Minions  875.581305   2015-06-17\n",
       "3    211672     Family  211672       Minions  875.581305   2015-06-17\n",
       "4    157336      Drama  157336  Interstellar  724.247784   2014-11-05"
      ]
     },
     "execution_count": 67,
     "metadata": {},
     "output_type": "execute_result"
    }
   ],
   "source": [
    "genres_movies = movie_to_genres.merge(pop_movies, how = 'right', left_on= 'movie_id', right_on= 'id')\n",
    "genres_movies.head()"
   ]
  },
  {
   "cell_type": "code",
   "execution_count": 26,
   "id": "b92e5053-843a-471d-baef-bc1c3343514c",
   "metadata": {},
   "outputs": [],
   "source": [
    "import matplotlib.pyplot as plt"
   ]
  },
  {
   "cell_type": "code",
   "execution_count": 27,
   "id": "9b4c4dcf-2467-4fad-9a8a-acccc13f06e5",
   "metadata": {},
   "outputs": [
    {
     "data": {
      "text/plain": [
       "<function matplotlib.pyplot.show(close=None, block=None)>"
      ]
     },
     "execution_count": 27,
     "metadata": {},
     "output_type": "execute_result"
    },
    {
     "data": {
      "image/png": "[encoded data removed]",
      "text/plain": [
       "<Figure size 432x288 with 1 Axes>"
      ]
     },
     "metadata": {
      "needs_background": "light"
     },
     "output_type": "display_data"
    }
   ],
   "source": [
    "genre_counts = genres_movies.groupby('genre').agg({'id':'count'})\n",
    "genre_counts.plot(kind = 'bar')\n",
    "plt.show"
   ]
  },
  {
   "cell_type": "markdown",
   "id": "d956f3be-1e98-458a-a648-e9be32a5ade0",
   "metadata": {},
   "source": [
    "The right join ensured that you were analyzing all of the pop_movies. You see from the results that adventure and action are the most popular genres"
   ]
  },
  {
   "attachments": {
    "0f0b4923-62aa-471b-bb17-26964c7dc6e7.png": {
     "image/png": "[encoded data removed]"
    }
   },
   "cell_type": "markdown",
   "id": "b36315c5-7991-4a8e-974e-9f6718e42756",
   "metadata": {},
   "source": [
    "## Using outer join to select actors\n",
    "\n",
    "One cool aspect of using an outer join is that, because it returns all rows from both merged tables and null where they do not match, you can use it to find rows that do not have a match in the other table. To try for yourself, you have been given two tables with a list of actors from two popular movies: Iron Man 1 and Iron Man 2. Most of the actors played in both movies. Use an outer join to find actors who did not act in both movies.\n",
    "\n",
    "The Iron Man 1 table is called `iron_1_actors`, and Iron Man 2 table is called `iron_2_actors`. Both tables have been loaded for you and a few rows printed so you can see the structure.\n",
    "\n",
    "![image.png](attachment:0f0b4923-62aa-471b-bb17-26964c7dc6e7.png)"
   ]
  },
  {
   "cell_type": "code",
   "execution_count": 28,
   "id": "6dfa77c4-5eef-4f3e-a918-54f2fb85c897",
   "metadata": {},
   "outputs": [],
   "source": [
    "iron_1_actors = pd.read_csv('datasets/iron_1_actors.csv', index_col=0)\n",
    "iron_2_actors = pd.read_csv('datasets/iron_2_actors.csv', index_col=0)"
   ]
  },
  {
   "cell_type": "markdown",
   "id": "b528ca5e-bf7c-4994-b77d-e2c337b6376c",
   "metadata": {},
   "source": [
    "### Instructions\n",
    "- Save to `iron_1_and_2` the merge of `iron_1_actors` (left) with `iron_2_actors` tables with an outer join on the `id` column, and set `suffixes` to `('_1','_2')`.\n",
    "- Create an index that returns `True` if `name_1` or `name_2` are null, and `False` otherwise."
   ]
  },
  {
   "cell_type": "code",
   "execution_count": 29,
   "id": "36894bae-b67f-4762-a4d1-f842ef29f230",
   "metadata": {},
   "outputs": [
    {
     "data": {
      "text/html": [
       "<div>\n",
       "<style scoped>\n",
       "    .dataframe tbody tr th:only-of-type {\n",
       "        vertical-align: middle;\n",
       "    }\n",
       "\n",
       "    .dataframe tbody tr th {\n",
       "        vertical-align: top;\n",
       "    }\n",
       "\n",
       "    .dataframe thead th {\n",
       "        text-align: right;\n",
       "    }\n",
       "</style>\n",
       "<table border=\"1\" class=\"dataframe\">\n",
       "  <thead>\n",
       "    <tr style=\"text-align: right;\">\n",
       "      <th></th>\n",
       "      <th>character_1</th>\n",
       "      <th>id</th>\n",
       "      <th>name_1</th>\n",
       "      <th>character_2</th>\n",
       "      <th>name_2</th>\n",
       "    </tr>\n",
       "  </thead>\n",
       "  <tbody>\n",
       "    <tr>\n",
       "      <th>0</th>\n",
       "      <td>Yinsen</td>\n",
       "      <td>17857</td>\n",
       "      <td>Shaun Toub</td>\n",
       "      <td>NaN</td>\n",
       "      <td>NaN</td>\n",
       "    </tr>\n",
       "    <tr>\n",
       "      <th>1</th>\n",
       "      <td>Virginia \"Pepper\" Potts</td>\n",
       "      <td>12052</td>\n",
       "      <td>Gwyneth Paltrow</td>\n",
       "      <td>Virginia \"Pepper\" Potts</td>\n",
       "      <td>Gwyneth Paltrow</td>\n",
       "    </tr>\n",
       "    <tr>\n",
       "      <th>2</th>\n",
       "      <td>Obadiah Stane / Iron Monger</td>\n",
       "      <td>1229</td>\n",
       "      <td>Jeff Bridges</td>\n",
       "      <td>NaN</td>\n",
       "      <td>NaN</td>\n",
       "    </tr>\n",
       "    <tr>\n",
       "      <th>3</th>\n",
       "      <td>War Machine</td>\n",
       "      <td>18288</td>\n",
       "      <td>Terrence Howard</td>\n",
       "      <td>NaN</td>\n",
       "      <td>NaN</td>\n",
       "    </tr>\n",
       "    <tr>\n",
       "      <th>4</th>\n",
       "      <td>Christine Everhart</td>\n",
       "      <td>57451</td>\n",
       "      <td>Leslie Bibb</td>\n",
       "      <td>Christine Everhart</td>\n",
       "      <td>Leslie Bibb</td>\n",
       "    </tr>\n",
       "    <tr>\n",
       "      <th>...</th>\n",
       "      <td>...</td>\n",
       "      <td>...</td>\n",
       "      <td>...</td>\n",
       "      <td>...</td>\n",
       "      <td>...</td>\n",
       "    </tr>\n",
       "    <tr>\n",
       "      <th>186</th>\n",
       "      <td>NaN</td>\n",
       "      <td>92189</td>\n",
       "      <td>NaN</td>\n",
       "      <td>Party Guest (uncredited)</td>\n",
       "      <td>Doug Swander</td>\n",
       "    </tr>\n",
       "    <tr>\n",
       "      <th>187</th>\n",
       "      <td>NaN</td>\n",
       "      <td>1265840</td>\n",
       "      <td>NaN</td>\n",
       "      <td>US Senator (uncredited)</td>\n",
       "      <td>Michael A. Templeton</td>\n",
       "    </tr>\n",
       "    <tr>\n",
       "      <th>188</th>\n",
       "      <td>NaN</td>\n",
       "      <td>1265841</td>\n",
       "      <td>NaN</td>\n",
       "      <td>Background (uncredited)</td>\n",
       "      <td>Rosa Tyabji</td>\n",
       "    </tr>\n",
       "    <tr>\n",
       "      <th>189</th>\n",
       "      <td>NaN</td>\n",
       "      <td>1122811</td>\n",
       "      <td>NaN</td>\n",
       "      <td>Tony Stark Usher (uncredited)</td>\n",
       "      <td>Peter Sebastian Wrobel</td>\n",
       "    </tr>\n",
       "    <tr>\n",
       "      <th>190</th>\n",
       "      <td>NaN</td>\n",
       "      <td>1205141</td>\n",
       "      <td>NaN</td>\n",
       "      <td>Expo Attendee (uncredited)</td>\n",
       "      <td>Maria Zambrana</td>\n",
       "    </tr>\n",
       "  </tbody>\n",
       "</table>\n",
       "<p>191 rows × 5 columns</p>\n",
       "</div>"
      ],
      "text/plain": [
       "                     character_1       id           name_1  \\\n",
       "0                         Yinsen    17857       Shaun Toub   \n",
       "1        Virginia \"Pepper\" Potts    12052  Gwyneth Paltrow   \n",
       "2    Obadiah Stane / Iron Monger     1229     Jeff Bridges   \n",
       "3                    War Machine    18288  Terrence Howard   \n",
       "4             Christine Everhart    57451      Leslie Bibb   \n",
       "..                           ...      ...              ...   \n",
       "186                          NaN    92189              NaN   \n",
       "187                          NaN  1265840              NaN   \n",
       "188                          NaN  1265841              NaN   \n",
       "189                          NaN  1122811              NaN   \n",
       "190                          NaN  1205141              NaN   \n",
       "\n",
       "                       character_2                  name_2  \n",
       "0                              NaN                     NaN  \n",
       "1          Virginia \"Pepper\" Potts         Gwyneth Paltrow  \n",
       "2                              NaN                     NaN  \n",
       "3                              NaN                     NaN  \n",
       "4               Christine Everhart             Leslie Bibb  \n",
       "..                             ...                     ...  \n",
       "186       Party Guest (uncredited)            Doug Swander  \n",
       "187        US Senator (uncredited)    Michael A. Templeton  \n",
       "188        Background (uncredited)             Rosa Tyabji  \n",
       "189  Tony Stark Usher (uncredited)  Peter Sebastian Wrobel  \n",
       "190     Expo Attendee (uncredited)          Maria Zambrana  \n",
       "\n",
       "[191 rows x 5 columns]"
      ]
     },
     "execution_count": 29,
     "metadata": {},
     "output_type": "execute_result"
    }
   ],
   "source": [
    "iron_1_and_2 = iron_1_actors.merge(iron_2_actors, how = 'outer', on = 'id', suffixes=(['_1','_2']))\n",
    "iron_1_and_2"
   ]
  },
  {
   "cell_type": "code",
   "execution_count": 30,
   "id": "50e3649e-3cdd-4e21-ab73-902d0de25104",
   "metadata": {},
   "outputs": [],
   "source": [
    "m = ((iron_1_and_2['name_1'].isna()) | (iron_1_and_2['name_2'].isna())) # \"|\" is the \"logica or\" operator for non scalar"
   ]
  },
  {
   "cell_type": "code",
   "execution_count": 31,
   "id": "8e2a8a47-cc09-49df-a299-00920c666eca",
   "metadata": {},
   "outputs": [
    {
     "data": {
      "text/html": [
       "<div>\n",
       "<style scoped>\n",
       "    .dataframe tbody tr th:only-of-type {\n",
       "        vertical-align: middle;\n",
       "    }\n",
       "\n",
       "    .dataframe tbody tr th {\n",
       "        vertical-align: top;\n",
       "    }\n",
       "\n",
       "    .dataframe thead th {\n",
       "        text-align: right;\n",
       "    }\n",
       "</style>\n",
       "<table border=\"1\" class=\"dataframe\">\n",
       "  <thead>\n",
       "    <tr style=\"text-align: right;\">\n",
       "      <th></th>\n",
       "      <th>character_1</th>\n",
       "      <th>id</th>\n",
       "      <th>name_1</th>\n",
       "      <th>character_2</th>\n",
       "      <th>name_2</th>\n",
       "    </tr>\n",
       "  </thead>\n",
       "  <tbody>\n",
       "    <tr>\n",
       "      <th>0</th>\n",
       "      <td>Yinsen</td>\n",
       "      <td>17857</td>\n",
       "      <td>Shaun Toub</td>\n",
       "      <td>NaN</td>\n",
       "      <td>NaN</td>\n",
       "    </tr>\n",
       "    <tr>\n",
       "      <th>2</th>\n",
       "      <td>Obadiah Stane / Iron Monger</td>\n",
       "      <td>1229</td>\n",
       "      <td>Jeff Bridges</td>\n",
       "      <td>NaN</td>\n",
       "      <td>NaN</td>\n",
       "    </tr>\n",
       "    <tr>\n",
       "      <th>3</th>\n",
       "      <td>War Machine</td>\n",
       "      <td>18288</td>\n",
       "      <td>Terrence Howard</td>\n",
       "      <td>NaN</td>\n",
       "      <td>NaN</td>\n",
       "    </tr>\n",
       "    <tr>\n",
       "      <th>5</th>\n",
       "      <td>Raza</td>\n",
       "      <td>57452</td>\n",
       "      <td>Faran Tahir</td>\n",
       "      <td>NaN</td>\n",
       "      <td>NaN</td>\n",
       "    </tr>\n",
       "    <tr>\n",
       "      <th>8</th>\n",
       "      <td>Abu Bakaar</td>\n",
       "      <td>173810</td>\n",
       "      <td>Sayed Badreya</td>\n",
       "      <td>NaN</td>\n",
       "      <td>NaN</td>\n",
       "    </tr>\n",
       "  </tbody>\n",
       "</table>\n",
       "</div>"
      ],
      "text/plain": [
       "                   character_1      id           name_1 character_2 name_2\n",
       "0                       Yinsen   17857       Shaun Toub         NaN    NaN\n",
       "2  Obadiah Stane / Iron Monger    1229     Jeff Bridges         NaN    NaN\n",
       "3                  War Machine   18288  Terrence Howard         NaN    NaN\n",
       "5                         Raza   57452      Faran Tahir         NaN    NaN\n",
       "8                   Abu Bakaar  173810    Sayed Badreya         NaN    NaN"
      ]
     },
     "execution_count": 31,
     "metadata": {},
     "output_type": "execute_result"
    }
   ],
   "source": [
    "iron_1_and_2[m].head()"
   ]
  },
  {
   "cell_type": "markdown",
   "id": "3a89dbbf-e634-47a8-bbe3-12742f143b6a",
   "metadata": {},
   "source": [
    "## Self join\n",
    "\n",
    "Merging a table to itself can be useful when you want to compare values in a column to other values in the same column. In this exercise, you will practice this by creating a table that for each movie will list the movie director and a member of the crew on one row. You have been given a table called `crews`, which has columns `id`, `job`, and `name`. First, merge the table to itself using the movie ID. This merge will give you a larger table where for each movie, every job is matched against each other. Then select only those rows with a director in the left table, and avoid having a row where the director's job is listed in both the left and right tables. This filtering will remove job combinations that aren't with the director.\n",
    "\n",
    "The `crews` table has been loaded for you."
   ]
  },
  {
   "cell_type": "code",
   "execution_count": 32,
   "id": "a19bcf6f-0f37-4dbc-8131-fdedabfc571b",
   "metadata": {},
   "outputs": [],
   "source": [
    "crews = pd.read_pickle('datasets/crews.p')"
   ]
  },
  {
   "cell_type": "markdown",
   "id": "72a5dc8f-8129-4d1e-b1fd-6c0660a29ed1",
   "metadata": {},
   "source": [
    "### Instructsion 1/3\n",
    "To a variable called `crews_self_merged`, merge the `crews` table to itself on the `id` column using an inner join, setting the suffixes to `'_dir'` and `'_crew'` for the left and right tables respectively."
   ]
  },
  {
   "cell_type": "code",
   "execution_count": 33,
   "id": "36aca226-327b-4ec9-80af-6217545118fb",
   "metadata": {},
   "outputs": [
    {
     "data": {
      "text/html": [
       "<div>\n",
       "<style scoped>\n",
       "    .dataframe tbody tr th:only-of-type {\n",
       "        vertical-align: middle;\n",
       "    }\n",
       "\n",
       "    .dataframe tbody tr th {\n",
       "        vertical-align: top;\n",
       "    }\n",
       "\n",
       "    .dataframe thead th {\n",
       "        text-align: right;\n",
       "    }\n",
       "</style>\n",
       "<table border=\"1\" class=\"dataframe\">\n",
       "  <thead>\n",
       "    <tr style=\"text-align: right;\">\n",
       "      <th></th>\n",
       "      <th>id</th>\n",
       "      <th>department_dir</th>\n",
       "      <th>job_dir</th>\n",
       "      <th>name_dir</th>\n",
       "      <th>department_crew</th>\n",
       "      <th>job_crew</th>\n",
       "      <th>name_crew</th>\n",
       "    </tr>\n",
       "  </thead>\n",
       "  <tbody>\n",
       "    <tr>\n",
       "      <th>0</th>\n",
       "      <td>19995</td>\n",
       "      <td>Editing</td>\n",
       "      <td>Editor</td>\n",
       "      <td>Stephen E. Rivkin</td>\n",
       "      <td>Editing</td>\n",
       "      <td>Editor</td>\n",
       "      <td>Stephen E. Rivkin</td>\n",
       "    </tr>\n",
       "    <tr>\n",
       "      <th>1</th>\n",
       "      <td>19995</td>\n",
       "      <td>Editing</td>\n",
       "      <td>Editor</td>\n",
       "      <td>Stephen E. Rivkin</td>\n",
       "      <td>Sound</td>\n",
       "      <td>Sound Designer</td>\n",
       "      <td>Christopher Boyes</td>\n",
       "    </tr>\n",
       "    <tr>\n",
       "      <th>2</th>\n",
       "      <td>19995</td>\n",
       "      <td>Editing</td>\n",
       "      <td>Editor</td>\n",
       "      <td>Stephen E. Rivkin</td>\n",
       "      <td>Production</td>\n",
       "      <td>Casting</td>\n",
       "      <td>Mali Finn</td>\n",
       "    </tr>\n",
       "    <tr>\n",
       "      <th>3</th>\n",
       "      <td>19995</td>\n",
       "      <td>Editing</td>\n",
       "      <td>Editor</td>\n",
       "      <td>Stephen E. Rivkin</td>\n",
       "      <td>Directing</td>\n",
       "      <td>Director</td>\n",
       "      <td>James Cameron</td>\n",
       "    </tr>\n",
       "    <tr>\n",
       "      <th>4</th>\n",
       "      <td>19995</td>\n",
       "      <td>Editing</td>\n",
       "      <td>Editor</td>\n",
       "      <td>Stephen E. Rivkin</td>\n",
       "      <td>Writing</td>\n",
       "      <td>Writer</td>\n",
       "      <td>James Cameron</td>\n",
       "    </tr>\n",
       "    <tr>\n",
       "      <th>...</th>\n",
       "      <td>...</td>\n",
       "      <td>...</td>\n",
       "      <td>...</td>\n",
       "      <td>...</td>\n",
       "      <td>...</td>\n",
       "      <td>...</td>\n",
       "      <td>...</td>\n",
       "    </tr>\n",
       "    <tr>\n",
       "      <th>834189</th>\n",
       "      <td>25975</td>\n",
       "      <td>Directing</td>\n",
       "      <td>Director</td>\n",
       "      <td>Jon Gunn</td>\n",
       "      <td>Directing</td>\n",
       "      <td>Director</td>\n",
       "      <td>Brett Winn</td>\n",
       "    </tr>\n",
       "    <tr>\n",
       "      <th>834190</th>\n",
       "      <td>25975</td>\n",
       "      <td>Directing</td>\n",
       "      <td>Director</td>\n",
       "      <td>Brett Winn</td>\n",
       "      <td>Production</td>\n",
       "      <td>Executive Producer</td>\n",
       "      <td>Clark Peterson</td>\n",
       "    </tr>\n",
       "    <tr>\n",
       "      <th>834191</th>\n",
       "      <td>25975</td>\n",
       "      <td>Directing</td>\n",
       "      <td>Director</td>\n",
       "      <td>Brett Winn</td>\n",
       "      <td>Directing</td>\n",
       "      <td>Director</td>\n",
       "      <td>Brian Herzlinger</td>\n",
       "    </tr>\n",
       "    <tr>\n",
       "      <th>834192</th>\n",
       "      <td>25975</td>\n",
       "      <td>Directing</td>\n",
       "      <td>Director</td>\n",
       "      <td>Brett Winn</td>\n",
       "      <td>Directing</td>\n",
       "      <td>Director</td>\n",
       "      <td>Jon Gunn</td>\n",
       "    </tr>\n",
       "    <tr>\n",
       "      <th>834193</th>\n",
       "      <td>25975</td>\n",
       "      <td>Directing</td>\n",
       "      <td>Director</td>\n",
       "      <td>Brett Winn</td>\n",
       "      <td>Directing</td>\n",
       "      <td>Director</td>\n",
       "      <td>Brett Winn</td>\n",
       "    </tr>\n",
       "  </tbody>\n",
       "</table>\n",
       "<p>834194 rows × 7 columns</p>\n",
       "</div>"
      ],
      "text/plain": [
       "           id department_dir   job_dir           name_dir department_crew  \\\n",
       "0       19995        Editing    Editor  Stephen E. Rivkin         Editing   \n",
       "1       19995        Editing    Editor  Stephen E. Rivkin           Sound   \n",
       "2       19995        Editing    Editor  Stephen E. Rivkin      Production   \n",
       "3       19995        Editing    Editor  Stephen E. Rivkin       Directing   \n",
       "4       19995        Editing    Editor  Stephen E. Rivkin         Writing   \n",
       "...       ...            ...       ...                ...             ...   \n",
       "834189  25975      Directing  Director           Jon Gunn       Directing   \n",
       "834190  25975      Directing  Director         Brett Winn      Production   \n",
       "834191  25975      Directing  Director         Brett Winn       Directing   \n",
       "834192  25975      Directing  Director         Brett Winn       Directing   \n",
       "834193  25975      Directing  Director         Brett Winn       Directing   \n",
       "\n",
       "                  job_crew          name_crew  \n",
       "0                   Editor  Stephen E. Rivkin  \n",
       "1           Sound Designer  Christopher Boyes  \n",
       "2                  Casting          Mali Finn  \n",
       "3                 Director      James Cameron  \n",
       "4                   Writer      James Cameron  \n",
       "...                    ...                ...  \n",
       "834189            Director         Brett Winn  \n",
       "834190  Executive Producer     Clark Peterson  \n",
       "834191            Director   Brian Herzlinger  \n",
       "834192            Director           Jon Gunn  \n",
       "834193            Director         Brett Winn  \n",
       "\n",
       "[834194 rows x 7 columns]"
      ]
     },
     "execution_count": 33,
     "metadata": {},
     "output_type": "execute_result"
    }
   ],
   "source": [
    "crews_self_merged = crews.merge(crews, on = 'id', suffixes=(['_dir','_crew']))\n",
    "crews_self_merged"
   ]
  },
  {
   "cell_type": "markdown",
   "id": "10e17a96-3b3b-427a-b128-3239ef849d4e",
   "metadata": {},
   "source": [
    "### Instructions 2/3\n",
    "Create a Boolean index, named `boolean_filter`, that selects rows from the left table with the job of `'Director'` and avoids rows with the job of `'Director'` in the right table."
   ]
  },
  {
   "cell_type": "code",
   "execution_count": 34,
   "id": "abf44cfc-8d8d-402f-a75b-d6bcab02daaf",
   "metadata": {},
   "outputs": [],
   "source": [
    "boolean_filter = ((crews_self_merged['job_dir'] == 'Director') & (crews_self_merged['job_crew'] != 'Director'))\n",
    "direct_crews = crews_self_merged[boolean_filter]"
   ]
  },
  {
   "cell_type": "markdown",
   "id": "708b0fc8-7e33-40a9-a3f9-81441629932a",
   "metadata": {},
   "source": [
    "### Instructions 3/3\n",
    "Use the `.head()` method to print the first few rows of `direct_crews`."
   ]
  },
  {
   "cell_type": "code",
   "execution_count": 35,
   "id": "8f20f4f6-b19d-472c-b830-43afa3e6731a",
   "metadata": {},
   "outputs": [
    {
     "data": {
      "text/html": [
       "<div>\n",
       "<style scoped>\n",
       "    .dataframe tbody tr th:only-of-type {\n",
       "        vertical-align: middle;\n",
       "    }\n",
       "\n",
       "    .dataframe tbody tr th {\n",
       "        vertical-align: top;\n",
       "    }\n",
       "\n",
       "    .dataframe thead th {\n",
       "        text-align: right;\n",
       "    }\n",
       "</style>\n",
       "<table border=\"1\" class=\"dataframe\">\n",
       "  <thead>\n",
       "    <tr style=\"text-align: right;\">\n",
       "      <th></th>\n",
       "      <th>id</th>\n",
       "      <th>department_dir</th>\n",
       "      <th>job_dir</th>\n",
       "      <th>name_dir</th>\n",
       "      <th>department_crew</th>\n",
       "      <th>job_crew</th>\n",
       "      <th>name_crew</th>\n",
       "    </tr>\n",
       "  </thead>\n",
       "  <tbody>\n",
       "    <tr>\n",
       "      <th>156</th>\n",
       "      <td>19995</td>\n",
       "      <td>Directing</td>\n",
       "      <td>Director</td>\n",
       "      <td>James Cameron</td>\n",
       "      <td>Editing</td>\n",
       "      <td>Editor</td>\n",
       "      <td>Stephen E. Rivkin</td>\n",
       "    </tr>\n",
       "    <tr>\n",
       "      <th>157</th>\n",
       "      <td>19995</td>\n",
       "      <td>Directing</td>\n",
       "      <td>Director</td>\n",
       "      <td>James Cameron</td>\n",
       "      <td>Sound</td>\n",
       "      <td>Sound Designer</td>\n",
       "      <td>Christopher Boyes</td>\n",
       "    </tr>\n",
       "    <tr>\n",
       "      <th>158</th>\n",
       "      <td>19995</td>\n",
       "      <td>Directing</td>\n",
       "      <td>Director</td>\n",
       "      <td>James Cameron</td>\n",
       "      <td>Production</td>\n",
       "      <td>Casting</td>\n",
       "      <td>Mali Finn</td>\n",
       "    </tr>\n",
       "    <tr>\n",
       "      <th>160</th>\n",
       "      <td>19995</td>\n",
       "      <td>Directing</td>\n",
       "      <td>Director</td>\n",
       "      <td>James Cameron</td>\n",
       "      <td>Writing</td>\n",
       "      <td>Writer</td>\n",
       "      <td>James Cameron</td>\n",
       "    </tr>\n",
       "    <tr>\n",
       "      <th>161</th>\n",
       "      <td>19995</td>\n",
       "      <td>Directing</td>\n",
       "      <td>Director</td>\n",
       "      <td>James Cameron</td>\n",
       "      <td>Art</td>\n",
       "      <td>Set Designer</td>\n",
       "      <td>Richard F. Mays</td>\n",
       "    </tr>\n",
       "  </tbody>\n",
       "</table>\n",
       "</div>"
      ],
      "text/plain": [
       "        id department_dir   job_dir       name_dir department_crew  \\\n",
       "156  19995      Directing  Director  James Cameron         Editing   \n",
       "157  19995      Directing  Director  James Cameron           Sound   \n",
       "158  19995      Directing  Director  James Cameron      Production   \n",
       "160  19995      Directing  Director  James Cameron         Writing   \n",
       "161  19995      Directing  Director  James Cameron             Art   \n",
       "\n",
       "           job_crew          name_crew  \n",
       "156          Editor  Stephen E. Rivkin  \n",
       "157  Sound Designer  Christopher Boyes  \n",
       "158         Casting          Mali Finn  \n",
       "160          Writer      James Cameron  \n",
       "161    Set Designer    Richard F. Mays  "
      ]
     },
     "execution_count": 35,
     "metadata": {},
     "output_type": "execute_result"
    }
   ],
   "source": [
    "direct_crews.head()"
   ]
  },
  {
   "cell_type": "markdown",
   "id": "52a4d774-f8b6-4410-b59f-8e45c9a6c970",
   "metadata": {},
   "source": [
    "By merging the table to itself, you compared the value of the director from the `jobs` column to other values from the `jobs` column. With the output, you can quickly see different movie directors and the people they worked with in the same movie.\n",
    "\n",
    "**Pandas** treats a merge of a table to itself the same as any other merge. Therefore, it **does not limit you from chaining multiple `.merge()` methods together**."
   ]
  },
  {
   "cell_type": "markdown",
   "id": "381bb1df-5a22-4c34-bb09-e6170ab458c5",
   "metadata": {},
   "source": [
    "## Index merge for movie ratings\n",
    "\n",
    "To practice merging on indexes, you will merge `movies` and a table called `ratings` that holds info about movie ratings. Make sure your merge returns all of the rows from the movies table and not all the rows of ratings table need to be included in the result.\n",
    "\n",
    "The `movies` and `ratings` tables have been loaded for you."
   ]
  },
  {
   "cell_type": "code",
   "execution_count": 36,
   "id": "a6eae288-6ba1-4083-bcdb-05b8a02b896e",
   "metadata": {},
   "outputs": [],
   "source": [
    "movies = pd.read_pickle('datasets/movies.p').set_index('id')\n",
    "ratings = pd.read_pickle('datasets/ratings.p').set_index('id')"
   ]
  },
  {
   "cell_type": "markdown",
   "id": "8366ea70-75d7-498f-8bf9-66cb87765af6",
   "metadata": {},
   "source": [
    "### Instructions\n",
    "Merge `movies` and `ratings` on the index and save to a variable called `movies_ratings`, ensuring that all of the rows from the `movies` table are returned."
   ]
  },
  {
   "cell_type": "code",
   "execution_count": 37,
   "id": "e6c6f726-d012-446a-8b11-6b5a15078be7",
   "metadata": {},
   "outputs": [
    {
     "name": "stdout",
     "output_type": "stream",
     "text": [
      "                      title  popularity release_date\n",
      "id                                                  \n",
      "257            Oliver Twist   20.415572   2005-09-23\n",
      "14290  Better Luck Tomorrow    3.877036   2002-01-12 \n",
      "\n",
      "Movies shape is: (4803, 3) \n",
      " ──────────────────────────────────────────────────\n",
      "       vote_average  vote_count\n",
      "id                             \n",
      "19995           7.2     11800.0\n",
      "285             6.9      4500.0 \n",
      "\n",
      "Ratings shape is: (4803, 2)\n"
     ]
    }
   ],
   "source": [
    "print(movies.head(2),'\\n')\n",
    "print('Movies shape is:',movies.shape,'\\n','─' * 50)\n",
    "print(ratings.head(2),'\\n')\n",
    "print('Ratings shape is:',ratings.shape)"
   ]
  },
  {
   "cell_type": "code",
   "execution_count": 38,
   "id": "e2903408-0d45-4dc9-918f-8db7be423597",
   "metadata": {},
   "outputs": [
    {
     "data": {
      "text/html": [
       "<div>\n",
       "<style scoped>\n",
       "    .dataframe tbody tr th:only-of-type {\n",
       "        vertical-align: middle;\n",
       "    }\n",
       "\n",
       "    .dataframe tbody tr th {\n",
       "        vertical-align: top;\n",
       "    }\n",
       "\n",
       "    .dataframe thead th {\n",
       "        text-align: right;\n",
       "    }\n",
       "</style>\n",
       "<table border=\"1\" class=\"dataframe\">\n",
       "  <thead>\n",
       "    <tr style=\"text-align: right;\">\n",
       "      <th></th>\n",
       "      <th>title</th>\n",
       "      <th>popularity</th>\n",
       "      <th>release_date</th>\n",
       "      <th>vote_average</th>\n",
       "      <th>vote_count</th>\n",
       "    </tr>\n",
       "    <tr>\n",
       "      <th>id</th>\n",
       "      <th></th>\n",
       "      <th></th>\n",
       "      <th></th>\n",
       "      <th></th>\n",
       "      <th></th>\n",
       "    </tr>\n",
       "  </thead>\n",
       "  <tbody>\n",
       "    <tr>\n",
       "      <th>257</th>\n",
       "      <td>Oliver Twist</td>\n",
       "      <td>20.415572</td>\n",
       "      <td>2005-09-23</td>\n",
       "      <td>6.7</td>\n",
       "      <td>274.0</td>\n",
       "    </tr>\n",
       "    <tr>\n",
       "      <th>14290</th>\n",
       "      <td>Better Luck Tomorrow</td>\n",
       "      <td>3.877036</td>\n",
       "      <td>2002-01-12</td>\n",
       "      <td>6.5</td>\n",
       "      <td>27.0</td>\n",
       "    </tr>\n",
       "    <tr>\n",
       "      <th>38365</th>\n",
       "      <td>Grown Ups</td>\n",
       "      <td>38.864027</td>\n",
       "      <td>2010-06-24</td>\n",
       "      <td>6.0</td>\n",
       "      <td>1705.0</td>\n",
       "    </tr>\n",
       "    <tr>\n",
       "      <th>9672</th>\n",
       "      <td>Infamous</td>\n",
       "      <td>3.680896</td>\n",
       "      <td>2006-11-16</td>\n",
       "      <td>6.4</td>\n",
       "      <td>60.0</td>\n",
       "    </tr>\n",
       "    <tr>\n",
       "      <th>12819</th>\n",
       "      <td>Alpha and Omega</td>\n",
       "      <td>12.300789</td>\n",
       "      <td>2010-09-17</td>\n",
       "      <td>5.3</td>\n",
       "      <td>124.0</td>\n",
       "    </tr>\n",
       "  </tbody>\n",
       "</table>\n",
       "</div>"
      ],
      "text/plain": [
       "                      title  popularity release_date  vote_average  vote_count\n",
       "id                                                                            \n",
       "257            Oliver Twist   20.415572   2005-09-23           6.7       274.0\n",
       "14290  Better Luck Tomorrow    3.877036   2002-01-12           6.5        27.0\n",
       "38365             Grown Ups   38.864027   2010-06-24           6.0      1705.0\n",
       "9672               Infamous    3.680896   2006-11-16           6.4        60.0\n",
       "12819       Alpha and Omega   12.300789   2010-09-17           5.3       124.0"
      ]
     },
     "execution_count": 38,
     "metadata": {},
     "output_type": "execute_result"
    }
   ],
   "source": [
    "movies_ratings = movies.merge(ratings, on = 'id')\n",
    "movies_ratings.head()"
   ]
  },
  {
   "cell_type": "markdown",
   "id": "828dc02c-3bef-46b6-b854-4052be705eec",
   "metadata": {},
   "source": [
    "Merging on indexes is just like merging on columns, so if you need to merge based on indexes, there's no need to turn the indexes into columns first."
   ]
  },
  {
   "cell_type": "markdown",
   "id": "bd30812f-83d7-45e2-a016-a9b190468610",
   "metadata": {},
   "source": [
    "## Do sequels earn more?\n",
    "\n",
    "It is time to put together many of the aspects that you have learned in this chapter. In this exercise, you'll find out which movie sequels earned the most compared to the original movie. To answer this question, you will merge a modified version of the `sequels` and `financials` tables where their index is the movie ID. You will need to choose a merge type that will return all of the rows from the sequels table and not all the rows of financials table need to be included in the result. From there, you will join the resulting table to itself so that you can compare the revenue values of the original movie to the sequel. Next, you will calculate the difference between the two revenues and sort the resulting dataset.\n",
    "\n",
    "The `sequels` and `financials` tables have been provided."
   ]
  },
  {
   "cell_type": "code",
   "execution_count": 39,
   "id": "86e51510-c735-440a-80d1-e7a5b877a030",
   "metadata": {},
   "outputs": [],
   "source": [
    "# For both dataframe we need to set the index on id column. \n",
    "# Moreove for sequels dataframe we need to change the sequel column type from int, to float otherwise self join won't work\n",
    "sequels = pd.read_pickle('datasets/sequels.p').set_index('id').astype({'sequel':float})\n",
    "financials = pd.read_pickle('datasets/financials.p').set_index('id')"
   ]
  },
  {
   "cell_type": "code",
   "execution_count": 40,
   "id": "b627f509-e79c-45e8-a9ed-d21281a1c838",
   "metadata": {},
   "outputs": [
    {
     "name": "stdout",
     "output_type": "stream",
     "text": [
      "(4803, 2) (3229, 2)\n"
     ]
    }
   ],
   "source": [
    "print(sequels.shape, financials.shape)"
   ]
  },
  {
   "cell_type": "code",
   "execution_count": 41,
   "id": "6a9a2f02-39de-4ed0-884f-c4d3e9705eb0",
   "metadata": {},
   "outputs": [],
   "source": [
    "# Tried to save both dataframe as CSV to do dome test on self-join\n",
    "# sequels.to_csv('datasets/sequels.csv')\n",
    "# financials.to_csv('datasets/financials.csv')"
   ]
  },
  {
   "cell_type": "markdown",
   "id": "c7356d7c-7a95-4572-bea0-35a274754a25",
   "metadata": {},
   "source": [
    "### ~Preparation~ **No more needed**\n",
    "~As we can see, the `sequel`column has some problems because misses information.~"
   ]
  },
  {
   "cell_type": "code",
   "execution_count": 42,
   "id": "cf47d7fd-88ab-41de-b648-44e1a82cabfd",
   "metadata": {},
   "outputs": [],
   "source": [
    "# sequels = pd.read_csv('datasets/sequels.csv', keep_default_na=True, index_col='id')\n",
    "# financials = pd.read_csv('datasets/financials.csv', keep_default_na=True, index_col='id')"
   ]
  },
  {
   "cell_type": "code",
   "execution_count": 43,
   "id": "d8a0e497-2d2e-4529-aaab-ecd26ed18991",
   "metadata": {},
   "outputs": [],
   "source": [
    "# sequels.head()"
   ]
  },
  {
   "cell_type": "code",
   "execution_count": 44,
   "id": "ab8f4720-4f23-4ae6-a3e9-de722f62c88f",
   "metadata": {},
   "outputs": [],
   "source": [
    "# financials.head()"
   ]
  },
  {
   "cell_type": "code",
   "execution_count": 45,
   "id": "a8340fc4-3bf4-43a3-b9c9-12fa5e9714ec",
   "metadata": {},
   "outputs": [],
   "source": [
    "# sequels = sequels.fillna(0)"
   ]
  },
  {
   "cell_type": "code",
   "execution_count": 46,
   "id": "1fd0c26f-c924-4e7b-a0b5-e16756641761",
   "metadata": {},
   "outputs": [],
   "source": [
    "# sequels.info()"
   ]
  },
  {
   "cell_type": "code",
   "execution_count": 47,
   "id": "6bd8e595-080c-4d42-b3c1-548df085e1c6",
   "metadata": {},
   "outputs": [],
   "source": [
    "# financials.info()"
   ]
  },
  {
   "cell_type": "markdown",
   "id": "c2d220a0-e011-41fb-9ae6-7866b1dff18b",
   "metadata": {},
   "source": [
    "### Instructions 1/4\n",
    "With the `sequels` table on the left, merge to it the `financials` table on index named `id`, ensuring that all the rows from the `sequels` are returned and some rows from the other table may not be returned, Save the results to `sequels_fin`."
   ]
  },
  {
   "cell_type": "code",
   "execution_count": 48,
   "id": "57eeddf1-b5f6-4ab4-bac9-e121f1cab672",
   "metadata": {},
   "outputs": [
    {
     "data": {
      "text/plain": [
       "(4803, 4)"
      ]
     },
     "execution_count": 48,
     "metadata": {},
     "output_type": "execute_result"
    }
   ],
   "source": [
    "sequels_fin = sequels.merge(financials, how = 'left', on = 'id')\n",
    "sequels_fin.shape"
   ]
  },
  {
   "cell_type": "code",
   "execution_count": 49,
   "id": "9d5c6d7e-3085-4dcc-ba89-3468c779e392",
   "metadata": {},
   "outputs": [
    {
     "data": {
      "text/html": [
       "<div>\n",
       "<style scoped>\n",
       "    .dataframe tbody tr th:only-of-type {\n",
       "        vertical-align: middle;\n",
       "    }\n",
       "\n",
       "    .dataframe tbody tr th {\n",
       "        vertical-align: top;\n",
       "    }\n",
       "\n",
       "    .dataframe thead th {\n",
       "        text-align: right;\n",
       "    }\n",
       "</style>\n",
       "<table border=\"1\" class=\"dataframe\">\n",
       "  <thead>\n",
       "    <tr style=\"text-align: right;\">\n",
       "      <th></th>\n",
       "      <th>title</th>\n",
       "      <th>sequel</th>\n",
       "      <th>budget</th>\n",
       "      <th>revenue</th>\n",
       "    </tr>\n",
       "    <tr>\n",
       "      <th>id</th>\n",
       "      <th></th>\n",
       "      <th></th>\n",
       "      <th></th>\n",
       "      <th></th>\n",
       "    </tr>\n",
       "  </thead>\n",
       "  <tbody>\n",
       "    <tr>\n",
       "      <th>19995</th>\n",
       "      <td>Avatar</td>\n",
       "      <td>NaN</td>\n",
       "      <td>237000000.0</td>\n",
       "      <td>2.787965e+09</td>\n",
       "    </tr>\n",
       "    <tr>\n",
       "      <th>862</th>\n",
       "      <td>Toy Story</td>\n",
       "      <td>863.0</td>\n",
       "      <td>30000000.0</td>\n",
       "      <td>3.735540e+08</td>\n",
       "    </tr>\n",
       "    <tr>\n",
       "      <th>863</th>\n",
       "      <td>Toy Story 2</td>\n",
       "      <td>10193.0</td>\n",
       "      <td>90000000.0</td>\n",
       "      <td>4.973669e+08</td>\n",
       "    </tr>\n",
       "    <tr>\n",
       "      <th>597</th>\n",
       "      <td>Titanic</td>\n",
       "      <td>NaN</td>\n",
       "      <td>200000000.0</td>\n",
       "      <td>1.845034e+09</td>\n",
       "    </tr>\n",
       "    <tr>\n",
       "      <th>24428</th>\n",
       "      <td>The Avengers</td>\n",
       "      <td>NaN</td>\n",
       "      <td>220000000.0</td>\n",
       "      <td>1.519558e+09</td>\n",
       "    </tr>\n",
       "  </tbody>\n",
       "</table>\n",
       "</div>"
      ],
      "text/plain": [
       "              title   sequel       budget       revenue\n",
       "id                                                     \n",
       "19995        Avatar      NaN  237000000.0  2.787965e+09\n",
       "862       Toy Story    863.0   30000000.0  3.735540e+08\n",
       "863     Toy Story 2  10193.0   90000000.0  4.973669e+08\n",
       "597         Titanic      NaN  200000000.0  1.845034e+09\n",
       "24428  The Avengers      NaN  220000000.0  1.519558e+09"
      ]
     },
     "execution_count": 49,
     "metadata": {},
     "output_type": "execute_result"
    }
   ],
   "source": [
    "sequels_fin.head()"
   ]
  },
  {
   "cell_type": "markdown",
   "id": "91b75f03-6e42-4b3e-a751-0e12e5ce712e",
   "metadata": {},
   "source": [
    "### Instructions 2/4\n",
    "Merge the `sequels_fin` table to itself with an inner join, where the left and right tables merge on `sequel` and `id` respectively with suffixes equal to (`'_org','_seq'`), saving to `orig_seq`."
   ]
  },
  {
   "cell_type": "code",
   "execution_count": 50,
   "id": "1d9f5592-c76d-49c3-8f83-fefbc72c99a7",
   "metadata": {},
   "outputs": [
    {
     "data": {
      "text/html": [
       "<div>\n",
       "<style scoped>\n",
       "    .dataframe tbody tr th:only-of-type {\n",
       "        vertical-align: middle;\n",
       "    }\n",
       "\n",
       "    .dataframe tbody tr th {\n",
       "        vertical-align: top;\n",
       "    }\n",
       "\n",
       "    .dataframe thead th {\n",
       "        text-align: right;\n",
       "    }\n",
       "</style>\n",
       "<table border=\"1\" class=\"dataframe\">\n",
       "  <thead>\n",
       "    <tr style=\"text-align: right;\">\n",
       "      <th></th>\n",
       "      <th>title</th>\n",
       "      <th>sequel</th>\n",
       "      <th>budget</th>\n",
       "      <th>revenue</th>\n",
       "    </tr>\n",
       "    <tr>\n",
       "      <th>id</th>\n",
       "      <th></th>\n",
       "      <th></th>\n",
       "      <th></th>\n",
       "      <th></th>\n",
       "    </tr>\n",
       "  </thead>\n",
       "  <tbody>\n",
       "    <tr>\n",
       "      <th>19995</th>\n",
       "      <td>Avatar</td>\n",
       "      <td>NaN</td>\n",
       "      <td>237000000.0</td>\n",
       "      <td>2.787965e+09</td>\n",
       "    </tr>\n",
       "    <tr>\n",
       "      <th>862</th>\n",
       "      <td>Toy Story</td>\n",
       "      <td>863.0</td>\n",
       "      <td>30000000.0</td>\n",
       "      <td>3.735540e+08</td>\n",
       "    </tr>\n",
       "  </tbody>\n",
       "</table>\n",
       "</div>"
      ],
      "text/plain": [
       "           title  sequel       budget       revenue\n",
       "id                                                 \n",
       "19995     Avatar     NaN  237000000.0  2.787965e+09\n",
       "862    Toy Story   863.0   30000000.0  3.735540e+08"
      ]
     },
     "execution_count": 50,
     "metadata": {},
     "output_type": "execute_result"
    }
   ],
   "source": [
    "sequels_fin.head(2)"
   ]
  },
  {
   "cell_type": "code",
   "execution_count": 51,
   "id": "7c1ceb6d-7f23-498e-aaf7-616455c03ff8",
   "metadata": {},
   "outputs": [
    {
     "data": {
      "text/html": [
       "<div>\n",
       "<style scoped>\n",
       "    .dataframe tbody tr th:only-of-type {\n",
       "        vertical-align: middle;\n",
       "    }\n",
       "\n",
       "    .dataframe tbody tr th {\n",
       "        vertical-align: top;\n",
       "    }\n",
       "\n",
       "    .dataframe thead th {\n",
       "        text-align: right;\n",
       "    }\n",
       "</style>\n",
       "<table border=\"1\" class=\"dataframe\">\n",
       "  <thead>\n",
       "    <tr style=\"text-align: right;\">\n",
       "      <th></th>\n",
       "      <th>sequel</th>\n",
       "      <th>title_org</th>\n",
       "      <th>sequel_org</th>\n",
       "      <th>budget_org</th>\n",
       "      <th>revenue_org</th>\n",
       "      <th>title_seq</th>\n",
       "      <th>sequel_seq</th>\n",
       "      <th>budget_seq</th>\n",
       "      <th>revenue_seq</th>\n",
       "    </tr>\n",
       "    <tr>\n",
       "      <th>id</th>\n",
       "      <th></th>\n",
       "      <th></th>\n",
       "      <th></th>\n",
       "      <th></th>\n",
       "      <th></th>\n",
       "      <th></th>\n",
       "      <th></th>\n",
       "      <th></th>\n",
       "      <th></th>\n",
       "    </tr>\n",
       "  </thead>\n",
       "  <tbody>\n",
       "    <tr>\n",
       "      <th>862</th>\n",
       "      <td>863.0</td>\n",
       "      <td>Toy Story</td>\n",
       "      <td>863.0</td>\n",
       "      <td>30000000.0</td>\n",
       "      <td>373554033.0</td>\n",
       "      <td>Toy Story 2</td>\n",
       "      <td>10193.0</td>\n",
       "      <td>90000000.0</td>\n",
       "      <td>4.973669e+08</td>\n",
       "    </tr>\n",
       "    <tr>\n",
       "      <th>863</th>\n",
       "      <td>10193.0</td>\n",
       "      <td>Toy Story 2</td>\n",
       "      <td>10193.0</td>\n",
       "      <td>90000000.0</td>\n",
       "      <td>497366869.0</td>\n",
       "      <td>Toy Story 3</td>\n",
       "      <td>NaN</td>\n",
       "      <td>200000000.0</td>\n",
       "      <td>1.066970e+09</td>\n",
       "    </tr>\n",
       "    <tr>\n",
       "      <th>675</th>\n",
       "      <td>767.0</td>\n",
       "      <td>Harry Potter and the Order of the Phoenix</td>\n",
       "      <td>767.0</td>\n",
       "      <td>150000000.0</td>\n",
       "      <td>938212738.0</td>\n",
       "      <td>Harry Potter and the Half-Blood Prince</td>\n",
       "      <td>NaN</td>\n",
       "      <td>250000000.0</td>\n",
       "      <td>9.339592e+08</td>\n",
       "    </tr>\n",
       "    <tr>\n",
       "      <th>121</th>\n",
       "      <td>122.0</td>\n",
       "      <td>The Lord of the Rings: The Two Towers</td>\n",
       "      <td>122.0</td>\n",
       "      <td>79000000.0</td>\n",
       "      <td>926287400.0</td>\n",
       "      <td>The Lord of the Rings: The Return of the King</td>\n",
       "      <td>NaN</td>\n",
       "      <td>94000000.0</td>\n",
       "      <td>1.118889e+09</td>\n",
       "    </tr>\n",
       "    <tr>\n",
       "      <th>120</th>\n",
       "      <td>121.0</td>\n",
       "      <td>The Lord of the Rings: The Fellowship of the Ring</td>\n",
       "      <td>121.0</td>\n",
       "      <td>93000000.0</td>\n",
       "      <td>871368364.0</td>\n",
       "      <td>The Lord of the Rings: The Two Towers</td>\n",
       "      <td>122.0</td>\n",
       "      <td>79000000.0</td>\n",
       "      <td>9.262874e+08</td>\n",
       "    </tr>\n",
       "  </tbody>\n",
       "</table>\n",
       "</div>"
      ],
      "text/plain": [
       "      sequel                                          title_org  sequel_org  \\\n",
       "id                                                                            \n",
       "862    863.0                                          Toy Story       863.0   \n",
       "863  10193.0                                        Toy Story 2     10193.0   \n",
       "675    767.0          Harry Potter and the Order of the Phoenix       767.0   \n",
       "121    122.0              The Lord of the Rings: The Two Towers       122.0   \n",
       "120    121.0  The Lord of the Rings: The Fellowship of the Ring       121.0   \n",
       "\n",
       "      budget_org  revenue_org                                      title_seq  \\\n",
       "id                                                                             \n",
       "862   30000000.0  373554033.0                                    Toy Story 2   \n",
       "863   90000000.0  497366869.0                                    Toy Story 3   \n",
       "675  150000000.0  938212738.0         Harry Potter and the Half-Blood Prince   \n",
       "121   79000000.0  926287400.0  The Lord of the Rings: The Return of the King   \n",
       "120   93000000.0  871368364.0          The Lord of the Rings: The Two Towers   \n",
       "\n",
       "     sequel_seq   budget_seq   revenue_seq  \n",
       "id                                          \n",
       "862     10193.0   90000000.0  4.973669e+08  \n",
       "863         NaN  200000000.0  1.066970e+09  \n",
       "675         NaN  250000000.0  9.339592e+08  \n",
       "121         NaN   94000000.0  1.118889e+09  \n",
       "120       122.0   79000000.0  9.262874e+08  "
      ]
     },
     "execution_count": 51,
     "metadata": {},
     "output_type": "execute_result"
    }
   ],
   "source": [
    "orig_seq = sequels_fin.merge(sequels_fin, how = 'inner', left_on= 'sequel', right_on='id', right_index = True, suffixes=(['_org','_seq']))\n",
    "orig_seq.head()"
   ]
  },
  {
   "cell_type": "markdown",
   "id": "31c0186f-7af5-4340-9b7c-8c1cf01a5791",
   "metadata": {},
   "source": [
    "As we can see, by self joining the `sequels_fin`table is possible do a comparison between the original movie and the sequel."
   ]
  },
  {
   "cell_type": "code",
   "execution_count": 52,
   "id": "02d1eabf-5e96-4a32-84d8-db14b3f8e3f7",
   "metadata": {},
   "outputs": [
    {
     "data": {
      "text/html": [
       "<div>\n",
       "<style scoped>\n",
       "    .dataframe tbody tr th:only-of-type {\n",
       "        vertical-align: middle;\n",
       "    }\n",
       "\n",
       "    .dataframe tbody tr th {\n",
       "        vertical-align: top;\n",
       "    }\n",
       "\n",
       "    .dataframe thead th {\n",
       "        text-align: right;\n",
       "    }\n",
       "</style>\n",
       "<table border=\"1\" class=\"dataframe\">\n",
       "  <thead>\n",
       "    <tr style=\"text-align: right;\">\n",
       "      <th></th>\n",
       "      <th>sequel</th>\n",
       "      <th>title_org</th>\n",
       "      <th>sequel_org</th>\n",
       "      <th>budget_org</th>\n",
       "      <th>revenue_org</th>\n",
       "      <th>title_seq</th>\n",
       "      <th>sequel_seq</th>\n",
       "      <th>budget_seq</th>\n",
       "      <th>revenue_seq</th>\n",
       "      <th>diff</th>\n",
       "    </tr>\n",
       "    <tr>\n",
       "      <th>id</th>\n",
       "      <th></th>\n",
       "      <th></th>\n",
       "      <th></th>\n",
       "      <th></th>\n",
       "      <th></th>\n",
       "      <th></th>\n",
       "      <th></th>\n",
       "      <th></th>\n",
       "      <th></th>\n",
       "      <th></th>\n",
       "    </tr>\n",
       "  </thead>\n",
       "  <tbody>\n",
       "    <tr>\n",
       "      <th>862</th>\n",
       "      <td>863.0</td>\n",
       "      <td>Toy Story</td>\n",
       "      <td>863.0</td>\n",
       "      <td>30000000.0</td>\n",
       "      <td>373554033.0</td>\n",
       "      <td>Toy Story 2</td>\n",
       "      <td>10193.0</td>\n",
       "      <td>90000000.0</td>\n",
       "      <td>4.973669e+08</td>\n",
       "      <td>123812836.0</td>\n",
       "    </tr>\n",
       "    <tr>\n",
       "      <th>863</th>\n",
       "      <td>10193.0</td>\n",
       "      <td>Toy Story 2</td>\n",
       "      <td>10193.0</td>\n",
       "      <td>90000000.0</td>\n",
       "      <td>497366869.0</td>\n",
       "      <td>Toy Story 3</td>\n",
       "      <td>NaN</td>\n",
       "      <td>200000000.0</td>\n",
       "      <td>1.066970e+09</td>\n",
       "      <td>569602834.0</td>\n",
       "    </tr>\n",
       "    <tr>\n",
       "      <th>675</th>\n",
       "      <td>767.0</td>\n",
       "      <td>Harry Potter and the Order of the Phoenix</td>\n",
       "      <td>767.0</td>\n",
       "      <td>150000000.0</td>\n",
       "      <td>938212738.0</td>\n",
       "      <td>Harry Potter and the Half-Blood Prince</td>\n",
       "      <td>NaN</td>\n",
       "      <td>250000000.0</td>\n",
       "      <td>9.339592e+08</td>\n",
       "      <td>-4253541.0</td>\n",
       "    </tr>\n",
       "    <tr>\n",
       "      <th>121</th>\n",
       "      <td>122.0</td>\n",
       "      <td>The Lord of the Rings: The Two Towers</td>\n",
       "      <td>122.0</td>\n",
       "      <td>79000000.0</td>\n",
       "      <td>926287400.0</td>\n",
       "      <td>The Lord of the Rings: The Return of the King</td>\n",
       "      <td>NaN</td>\n",
       "      <td>94000000.0</td>\n",
       "      <td>1.118889e+09</td>\n",
       "      <td>192601579.0</td>\n",
       "    </tr>\n",
       "    <tr>\n",
       "      <th>120</th>\n",
       "      <td>121.0</td>\n",
       "      <td>The Lord of the Rings: The Fellowship of the Ring</td>\n",
       "      <td>121.0</td>\n",
       "      <td>93000000.0</td>\n",
       "      <td>871368364.0</td>\n",
       "      <td>The Lord of the Rings: The Two Towers</td>\n",
       "      <td>122.0</td>\n",
       "      <td>79000000.0</td>\n",
       "      <td>9.262874e+08</td>\n",
       "      <td>54919036.0</td>\n",
       "    </tr>\n",
       "  </tbody>\n",
       "</table>\n",
       "</div>"
      ],
      "text/plain": [
       "      sequel                                          title_org  sequel_org  \\\n",
       "id                                                                            \n",
       "862    863.0                                          Toy Story       863.0   \n",
       "863  10193.0                                        Toy Story 2     10193.0   \n",
       "675    767.0          Harry Potter and the Order of the Phoenix       767.0   \n",
       "121    122.0              The Lord of the Rings: The Two Towers       122.0   \n",
       "120    121.0  The Lord of the Rings: The Fellowship of the Ring       121.0   \n",
       "\n",
       "      budget_org  revenue_org                                      title_seq  \\\n",
       "id                                                                             \n",
       "862   30000000.0  373554033.0                                    Toy Story 2   \n",
       "863   90000000.0  497366869.0                                    Toy Story 3   \n",
       "675  150000000.0  938212738.0         Harry Potter and the Half-Blood Prince   \n",
       "121   79000000.0  926287400.0  The Lord of the Rings: The Return of the King   \n",
       "120   93000000.0  871368364.0          The Lord of the Rings: The Two Towers   \n",
       "\n",
       "     sequel_seq   budget_seq   revenue_seq         diff  \n",
       "id                                                       \n",
       "862     10193.0   90000000.0  4.973669e+08  123812836.0  \n",
       "863         NaN  200000000.0  1.066970e+09  569602834.0  \n",
       "675         NaN  250000000.0  9.339592e+08   -4253541.0  \n",
       "121         NaN   94000000.0  1.118889e+09  192601579.0  \n",
       "120       122.0   79000000.0  9.262874e+08   54919036.0  "
      ]
     },
     "execution_count": 52,
     "metadata": {},
     "output_type": "execute_result"
    }
   ],
   "source": [
    "orig_seq['diff'] = orig_seq['revenue_seq'] - orig_seq['revenue_org']\n",
    "orig_seq.head()"
   ]
  },
  {
   "cell_type": "markdown",
   "id": "2c2a2e7b-734c-4c6f-a005-63b39c93dabd",
   "metadata": {},
   "source": [
    "### Instructions 3/4\n",
    "Select the `title_org`, `title_seq`, and `diff` columns of orig_seq and save this as `titles_diff`."
   ]
  },
  {
   "cell_type": "code",
   "execution_count": 53,
   "id": "9a05981f-906e-4c40-a66d-b1526a780340",
   "metadata": {},
   "outputs": [
    {
     "data": {
      "text/html": [
       "<div>\n",
       "<style scoped>\n",
       "    .dataframe tbody tr th:only-of-type {\n",
       "        vertical-align: middle;\n",
       "    }\n",
       "\n",
       "    .dataframe tbody tr th {\n",
       "        vertical-align: top;\n",
       "    }\n",
       "\n",
       "    .dataframe thead th {\n",
       "        text-align: right;\n",
       "    }\n",
       "</style>\n",
       "<table border=\"1\" class=\"dataframe\">\n",
       "  <thead>\n",
       "    <tr style=\"text-align: right;\">\n",
       "      <th></th>\n",
       "      <th>title_org</th>\n",
       "      <th>title_seq</th>\n",
       "      <th>diff</th>\n",
       "    </tr>\n",
       "    <tr>\n",
       "      <th>id</th>\n",
       "      <th></th>\n",
       "      <th></th>\n",
       "      <th></th>\n",
       "    </tr>\n",
       "  </thead>\n",
       "  <tbody>\n",
       "    <tr>\n",
       "      <th>862</th>\n",
       "      <td>Toy Story</td>\n",
       "      <td>Toy Story 2</td>\n",
       "      <td>123812836.0</td>\n",
       "    </tr>\n",
       "    <tr>\n",
       "      <th>863</th>\n",
       "      <td>Toy Story 2</td>\n",
       "      <td>Toy Story 3</td>\n",
       "      <td>569602834.0</td>\n",
       "    </tr>\n",
       "    <tr>\n",
       "      <th>675</th>\n",
       "      <td>Harry Potter and the Order of the Phoenix</td>\n",
       "      <td>Harry Potter and the Half-Blood Prince</td>\n",
       "      <td>-4253541.0</td>\n",
       "    </tr>\n",
       "    <tr>\n",
       "      <th>121</th>\n",
       "      <td>The Lord of the Rings: The Two Towers</td>\n",
       "      <td>The Lord of the Rings: The Return of the King</td>\n",
       "      <td>192601579.0</td>\n",
       "    </tr>\n",
       "    <tr>\n",
       "      <th>120</th>\n",
       "      <td>The Lord of the Rings: The Fellowship of the Ring</td>\n",
       "      <td>The Lord of the Rings: The Two Towers</td>\n",
       "      <td>54919036.0</td>\n",
       "    </tr>\n",
       "  </tbody>\n",
       "</table>\n",
       "</div>"
      ],
      "text/plain": [
       "                                             title_org  \\\n",
       "id                                                       \n",
       "862                                          Toy Story   \n",
       "863                                        Toy Story 2   \n",
       "675          Harry Potter and the Order of the Phoenix   \n",
       "121              The Lord of the Rings: The Two Towers   \n",
       "120  The Lord of the Rings: The Fellowship of the Ring   \n",
       "\n",
       "                                         title_seq         diff  \n",
       "id                                                               \n",
       "862                                    Toy Story 2  123812836.0  \n",
       "863                                    Toy Story 3  569602834.0  \n",
       "675         Harry Potter and the Half-Blood Prince   -4253541.0  \n",
       "121  The Lord of the Rings: The Return of the King  192601579.0  \n",
       "120          The Lord of the Rings: The Two Towers   54919036.0  "
      ]
     },
     "execution_count": 53,
     "metadata": {},
     "output_type": "execute_result"
    }
   ],
   "source": [
    "titles_diff = orig_seq[['title_org','title_seq','diff']]\n",
    "titles_diff.head()"
   ]
  },
  {
   "cell_type": "markdown",
   "id": "ce6db6a5-8533-4cd7-b312-46838c005edd",
   "metadata": {},
   "source": [
    "### Instructions 4/4\n",
    "Sort by `titles_diff` by `diff` in descending order and print the first few rows."
   ]
  },
  {
   "cell_type": "code",
   "execution_count": 54,
   "id": "97bd6232-a48f-4554-bcc7-6aa266456b6b",
   "metadata": {},
   "outputs": [
    {
     "name": "stdout",
     "output_type": "stream",
     "text": [
      "               title_org        title_seq          diff\n",
      "id                                                     \n",
      "331    Jurassic Park III   Jurassic World  1.144748e+09\n",
      "272        Batman Begins  The Dark Knight  6.303398e+08\n",
      "10138         Iron Man 2       Iron Man 3  5.915067e+08\n",
      "863          Toy Story 2      Toy Story 3  5.696028e+08\n",
      "10764  Quantum of Solace          Skyfall  5.224703e+08\n"
     ]
    }
   ],
   "source": [
    "print(titles_diff.sort_values('diff',ascending=False).head())"
   ]
  },
  {
   "cell_type": "markdown",
   "id": "39bfc8e0-2598-4024-8fe2-bf346f4a4b03",
   "metadata": {},
   "source": [
    "To complete this exercise, you needed to merge tables on their index and merge another table to itself. After the calculations were added and sub-select specific columns, the data was sorted. You found out that Jurassic World had one of the highest of all, improvement in revenue compared to the original movie."
   ]
  },
  {
   "cell_type": "code",
   "execution_count": null,
   "id": "ca20faa3-3145-42c5-bcda-50b8512f89cb",
   "metadata": {},
   "outputs": [],
   "source": []
  }
 ],
 "metadata": {
  "kernelspec": {
   "display_name": "Python 3 (ipykernel)",
   "language": "python",
   "name": "python3"
  },
  "language_info": {
   "codemirror_mode": {
    "name": "ipython",
    "version": 3
   },
   "file_extension": ".py",
   "mimetype": "text/x-python",
   "name": "python",
   "nbconvert_exporter": "python",
   "pygments_lexer": "ipython3",
   "version": "3.9.9"
  }
 },
 "nbformat": 4,
 "nbformat_minor": 5
}
