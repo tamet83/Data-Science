{
 "cells": [
  {
   "cell_type": "markdown",
   "id": "b3a4fab2-17d7-46be-b0b6-2a4e75862e44",
   "metadata": {},
   "source": [
    "# Dictionaries & Pandas"
   ]
  },
  {
   "cell_type": "markdown",
   "id": "121c0e9e-66e4-40d6-9ed8-15256c12e32d",
   "metadata": {},
   "source": [
    "## Motivation for dictionaries\n",
    "\n",
    "To see why dictionaries are useful, have a look at the two lists defined in the script. `countries` contains the names of some European countries. `capitals` lists the corresponding names of their capital."
   ]
  },
  {
   "cell_type": "markdown",
   "id": "08772a94-8ccb-4092-92fc-7fed7a427d08",
   "metadata": {},
   "source": [
    "### Instructions\n",
    "- Use the `index()` method on countries to find the index of `'germany'`. Store this index as `ind_ger`.\n",
    "- Use `ind_ger` to access the capital of Germany from the `capitals` list. Print it out."
   ]
  },
  {
   "cell_type": "code",
   "execution_count": 1,
   "id": "9053c88c-7a5d-4bde-8fb7-9e98aa188ad2",
   "metadata": {},
   "outputs": [
    {
     "name": "stdout",
     "output_type": "stream",
     "text": [
      "berlin\n"
     ]
    }
   ],
   "source": [
    "# Definition of countries and capital\n",
    "countries = ['spain', 'france', 'germany', 'norway']\n",
    "capitals = ['madrid', 'paris', 'berlin', 'oslo']\n",
    "\n",
    "# Get index of 'germany': ind_ger\n",
    "ind_ger = countries.index('germany')\n",
    "\n",
    "# Use ind_ger to print out capital of Germany\n",
    "print(capitals[ind_ger])"
   ]
  },
  {
   "cell_type": "markdown",
   "id": "7d19dbd8-dd15-4199-aad5-b1fe776a07a8",
   "metadata": {},
   "source": [
    "## Create dictionary\n",
    "\n",
    "The `countries` and `capitals` lists are again available in the script. It's your job to convert this data to a dictionary where the country names are the keys and the capitals are the corresponding values. As a refresher, here is a recipe for creating a dictionary:\n",
    "```\n",
    "my_dict = {\n",
    "   \"key1\":\"value1\",\n",
    "   \"key2\":\"value2\",\n",
    "}\n",
    "```\n",
    "In this recipe, both the keys and the values are strings. This will also be the case for this exercise."
   ]
  },
  {
   "cell_type": "markdown",
   "id": "355b9481-fb6f-41f2-af74-01a85e7238ad",
   "metadata": {},
   "source": [
    "### Instructions\n",
    "- With the strings in `countries` and `capitals`, create a dictionary called `europe` with 4 key:value pairs. Beware of capitalization! Make sure you use lowercase characters everywhere.\n",
    "- Print out `europe` to see if the result is what you expected."
   ]
  },
  {
   "cell_type": "code",
   "execution_count": 2,
   "id": "2bb4cf93-c3fb-4d16-9aee-94b5baefef68",
   "metadata": {},
   "outputs": [
    {
     "name": "stdout",
     "output_type": "stream",
     "text": [
      "{'spain': 'madrid', 'france': 'paris', 'germany': 'berlin', 'norway': 'oslo'}\n"
     ]
    }
   ],
   "source": [
    "# Definition of countries and capital\n",
    "countries = ['spain', 'france', 'germany', 'norway']\n",
    "capitals = ['madrid', 'paris', 'berlin', 'oslo']\n",
    "\n",
    "# From string in countries and capitals, create dictionary europe\n",
    "europe = { 'spain':'madrid', 'france':'paris', 'germany':'berlin', 'norway':'oslo' }\n",
    "\n",
    "# Print europe\n",
    "print(europe)"
   ]
  },
  {
   "cell_type": "markdown",
   "id": "50d9a9e2-074c-4183-8a6f-d0659624b7a4",
   "metadata": {},
   "source": [
    "## Access dictionary\n",
    "\n",
    "If the keys of a dictionary are chosen wisely, accessing the values in a dictionary is easy and intuitive. For example, to get the capital for France from `europe` you can use:\n",
    "```python\n",
    "europe['france']\n",
    "```\n",
    "Here, `'france'` is the key and `'paris'` the value is returned."
   ]
  },
  {
   "cell_type": "markdown",
   "id": "6cb8a1cc-b06b-458a-a8b6-f79bd588e626",
   "metadata": {},
   "source": [
    "### Instructions\n",
    "- Check out which keys are in `europe` by calling the `keys()` method on `europe`. Print out the result.\n",
    "- Print out the value that belongs to the key `'norway'`."
   ]
  },
  {
   "cell_type": "code",
   "execution_count": 3,
   "id": "77ba024a-e539-4fb5-b708-98d938638b35",
   "metadata": {},
   "outputs": [
    {
     "name": "stdout",
     "output_type": "stream",
     "text": [
      "dict_keys(['spain', 'france', 'germany', 'norway'])\n",
      "oslo\n"
     ]
    }
   ],
   "source": [
    "# Definition of dictionary\n",
    "europe = {'spain':'madrid', 'france':'paris', 'germany':'berlin', 'norway':'oslo' }\n",
    "\n",
    "# Print out the keys in europe\n",
    "print(europe.keys())\n",
    "\n",
    "# Print out value that belongs to key 'norway'\n",
    "print(europe['norway'])"
   ]
  },
  {
   "cell_type": "markdown",
   "id": "d83f55bd-d123-4089-a5f4-255f8ba2be89",
   "metadata": {},
   "source": [
    "## Dictionary Manipulation (1)\n",
    "\n",
    "If you know how to access a dictionary, you can also assign a new value to it. To add a new key-value pair to europe you can use something like this:\n",
    "```Python\n",
    "europe['iceland'] = 'reykjavik'\n",
    "```"
   ]
  },
  {
   "cell_type": "markdown",
   "id": "ecdd397a-7545-4340-b511-0f12a08bf4fe",
   "metadata": {},
   "source": [
    "### Instructions\n",
    "- Add the key `'italy'` with the value `'rome'` to europe.\n",
    "- To assert that `'italy'` is now a key in `europe`, print out `'italy'` in europe.\n",
    "- Add another key:value pair to `europe`: `'poland'` is the key, `'warsaw'` is the corresponding value.\n",
    "- Print out `europe`."
   ]
  },
  {
   "cell_type": "code",
   "execution_count": 4,
   "id": "96afa6a2-5654-499d-afd1-90603498bf49",
   "metadata": {},
   "outputs": [
    {
     "name": "stdout",
     "output_type": "stream",
     "text": [
      "True\n",
      "True\n",
      "{'spain': 'madrid', 'france': 'paris', 'germany': 'berlin', 'norway': 'oslo', 'italy': 'rome', 'poland': 'warsaw'}\n"
     ]
    }
   ],
   "source": [
    "# Definition of dictionary\n",
    "europe = {'spain':'madrid', 'france':'paris', 'germany':'berlin', 'norway':'oslo' }\n",
    "\n",
    "# Add italy to europe\n",
    "europe['italy'] = 'rome'\n",
    "\n",
    "# Print out italy in europe\n",
    "print('italy' in europe)\n",
    "\n",
    "# Add poland to europe\n",
    "europe['poland'] = 'warsaw'\n",
    "\n",
    "# Print out poland in europe\n",
    "print('poland' in europe)\n",
    "print(europe)"
   ]
  },
  {
   "cell_type": "markdown",
   "id": "0927c91b-cbef-45e4-9a07-f64659f4462e",
   "metadata": {},
   "source": [
    "## Dictionary Manipulation (2)\n",
    "\n",
    "Somebody thought it would be funny to mess with your accurately generated dictionary. An adapted version of the europe dictionary is available in the script.\\\n",
    "Can you clean up? Do not do this by adapting the definition of europe, but by adding Python commands to the script to update and remove key:value pairs."
   ]
  },
  {
   "cell_type": "markdown",
   "id": "a3cf4f0f-3c1a-47d4-8fc8-5ba0ecec14fe",
   "metadata": {},
   "source": [
    "### Instructions\n",
    "- The capital of Germany is not `'bonn'`; it's `'berlin'`. Update its value.\n",
    "- Australia is not in Europe, Austria is! Remove the key `'australia'` from `europe`.\n",
    "- Print out `europe` to see if your cleaning work paid off."
   ]
  },
  {
   "cell_type": "code",
   "execution_count": 5,
   "id": "e90a6a99-14f3-454d-960b-c98df4b8c1f8",
   "metadata": {},
   "outputs": [
    {
     "name": "stdout",
     "output_type": "stream",
     "text": [
      "{'spain': 'madrid', 'france': 'paris', 'germany': 'berlin', 'norway': 'oslo', 'italy': 'rome', 'poland': 'warsaw'}\n"
     ]
    }
   ],
   "source": [
    "# Definition of dictionary\n",
    "europe = {'spain':'madrid', 'france':'paris', 'germany':'bonn',\n",
    "          'norway':'oslo', 'italy':'rome', 'poland':'warsaw',\n",
    "          'australia':'vienna' }\n",
    "\n",
    "# Update capital of germany\n",
    "europe['germany']='berlin'\n",
    "\n",
    "# Remove australia\n",
    "del(europe['australia'])\n",
    "\n",
    "# Print europe\n",
    "print(europe)"
   ]
  },
  {
   "cell_type": "markdown",
   "id": "ff4e58fb-7910-45da-9c79-11d4e7a742cc",
   "metadata": {},
   "source": [
    "## Dictionariception\n",
    "\n",
    "Remember lists? They could contain anything, even other lists. Well, for dictionaries the same holds. Dictionaries can contain key:value pairs where the values are again dictionaries.\n",
    "As an example, have a look at the script where another version of europe - the dictionary you've been working with all along - is coded. The keys are still the country names, but the values are dictionaries that contain more information than just the capital.\n",
    "It's perfectly possible to chain square brackets to select elements. To fetch the population for Spain from europe, for example, you need:\n",
    "```python\n",
    "europe['spain']['population']\n",
    "```"
   ]
  },
  {
   "cell_type": "markdown",
   "id": "0d894b60-e0b0-4bea-a52f-9828affe8185",
   "metadata": {},
   "source": [
    "### Instructions\n",
    "- Use chained square brackets to select and print out the capital of France.\n",
    "- Create a dictionary, named `data`, with the keys `'capital'` and `'population'`. Set them to `'rome'` and `59.83`, respectively.\n",
    "- Add a new key-value pair to `europe`; the key is `'italy'` and the value is `data`, the dictionary you just built."
   ]
  },
  {
   "cell_type": "code",
   "execution_count": 6,
   "id": "f694a9f1-7050-46f1-ab7c-48594ff9a867",
   "metadata": {},
   "outputs": [
    {
     "name": "stdout",
     "output_type": "stream",
     "text": [
      "paris\n",
      "{'spain': {'capital': 'madrid', 'population': 46.77}, 'france': {'capital': 'paris', 'population': 66.03}, 'germany': {'capital': 'berlin', 'population': 80.62}, 'norway': {'capital': 'oslo', 'population': 5.084}, 'italy': {'capital': 'rome', 'population': 59.83}}\n"
     ]
    }
   ],
   "source": [
    "# Dictionary of dictionaries\n",
    "europe = { 'spain': { 'capital':'madrid', 'population':46.77 },\n",
    "           'france': { 'capital':'paris', 'population':66.03 },\n",
    "           'germany': { 'capital':'berlin', 'population':80.62 },\n",
    "           'norway': { 'capital':'oslo', 'population':5.084 } }\n",
    "\n",
    "\n",
    "# Print out the capital of France\n",
    "print(europe['france']['capital'])\n",
    "\n",
    "# Create sub-dictionary data\n",
    "data = {'capital':'rome','population':59.83}\n",
    "\n",
    "# Add data to europe under key 'italy'\n",
    "europe['italy'] = data\n",
    "\n",
    "# Print europe\n",
    "print(europe)"
   ]
  },
  {
   "cell_type": "markdown",
   "id": "015d7156-6264-4aa9-b65f-5c160144881c",
   "metadata": {},
   "source": [
    "## Dictionary to DataFrame (1)\n",
    "\n",
    "Pandas is an open source library, providing high-performance, easy-to-use data structures and data analysis tools for Python. Sounds promising!\n",
    "\n",
    "The DataFrame is one of Pandas' most important data structures. It's basically a way to store tabular data where you can label the rows and the columns. One way to build a DataFrame is from a dictionary.\n",
    "\n",
    "In the exercises that follow you will be working with vehicle data from different countries. Each observation corresponds to a country and the columns give information about the number of vehicles per capita, whether people drive left or right, and so on.\n",
    "\n",
    "Three lists are defined in the script:\n",
    "\n",
    "   - `names`, containing the country names for which data is available.\n",
    "   - `dr`, a list with booleans that tells whether people drive left or right in the corresponding country.\n",
    "   - `cpc`, the number of motor vehicles per 1000 people in the corresponding country.\n",
    "    \n",
    "Each dictionary key is a column label and each value is a list which contains the column elements."
   ]
  },
  {
   "cell_type": "markdown",
   "id": "ba446295-66c6-498e-9f4d-45de57be630d",
   "metadata": {},
   "source": [
    "### Instructions\n",
    "- Import pandas as pd.\n",
    "- Use the pre-defined lists to create a dictionary called `my_dict`. There should be three key value pairs:\n",
    "    - key `'country'` and value `names`.\n",
    "    - key `'drives_right'` and value `dr`.\n",
    "    - key `'cars_per_cap'` and value `cpc`.\n",
    "- Use `pd.DataFrame()` to turn your dict into a DataFrame called `cars`.\n",
    "- Print out `cars` and see how beautiful it is."
   ]
  },
  {
   "cell_type": "code",
   "execution_count": 7,
   "id": "974554aa-8ce2-48f3-9d2b-383da2f40d44",
   "metadata": {},
   "outputs": [
    {
     "data": {
      "text/html": [
       "<div>\n",
       "<style scoped>\n",
       "    .dataframe tbody tr th:only-of-type {\n",
       "        vertical-align: middle;\n",
       "    }\n",
       "\n",
       "    .dataframe tbody tr th {\n",
       "        vertical-align: top;\n",
       "    }\n",
       "\n",
       "    .dataframe thead th {\n",
       "        text-align: right;\n",
       "    }\n",
       "</style>\n",
       "<table border=\"1\" class=\"dataframe\">\n",
       "  <thead>\n",
       "    <tr style=\"text-align: right;\">\n",
       "      <th></th>\n",
       "      <th>country</th>\n",
       "      <th>drives_right</th>\n",
       "      <th>cars_per_cap</th>\n",
       "    </tr>\n",
       "  </thead>\n",
       "  <tbody>\n",
       "    <tr>\n",
       "      <th>0</th>\n",
       "      <td>United States</td>\n",
       "      <td>True</td>\n",
       "      <td>809</td>\n",
       "    </tr>\n",
       "    <tr>\n",
       "      <th>1</th>\n",
       "      <td>Australia</td>\n",
       "      <td>False</td>\n",
       "      <td>731</td>\n",
       "    </tr>\n",
       "    <tr>\n",
       "      <th>2</th>\n",
       "      <td>Japan</td>\n",
       "      <td>False</td>\n",
       "      <td>588</td>\n",
       "    </tr>\n",
       "    <tr>\n",
       "      <th>3</th>\n",
       "      <td>India</td>\n",
       "      <td>False</td>\n",
       "      <td>18</td>\n",
       "    </tr>\n",
       "    <tr>\n",
       "      <th>4</th>\n",
       "      <td>Russia</td>\n",
       "      <td>True</td>\n",
       "      <td>200</td>\n",
       "    </tr>\n",
       "    <tr>\n",
       "      <th>5</th>\n",
       "      <td>Morocco</td>\n",
       "      <td>True</td>\n",
       "      <td>70</td>\n",
       "    </tr>\n",
       "    <tr>\n",
       "      <th>6</th>\n",
       "      <td>Egypt</td>\n",
       "      <td>True</td>\n",
       "      <td>45</td>\n",
       "    </tr>\n",
       "  </tbody>\n",
       "</table>\n",
       "</div>"
      ],
      "text/plain": [
       "         country  drives_right  cars_per_cap\n",
       "0  United States          True           809\n",
       "1      Australia         False           731\n",
       "2          Japan         False           588\n",
       "3          India         False            18\n",
       "4         Russia          True           200\n",
       "5        Morocco          True            70\n",
       "6          Egypt          True            45"
      ]
     },
     "execution_count": 7,
     "metadata": {},
     "output_type": "execute_result"
    }
   ],
   "source": [
    "import pandas as pd\n",
    "\n",
    "# Pre-defined lists\n",
    "names = ['United States', 'Australia', 'Japan', 'India', 'Russia', 'Morocco', 'Egypt']\n",
    "dr =  [True, False, False, False, True, True, True]\n",
    "cpc = [809, 731, 588, 18, 200, 70, 45]\n",
    "\n",
    "my_dict = {\n",
    "    'country': names,\n",
    "    'drives_right' : dr,\n",
    "    'cars_per_cap' : cpc\n",
    "}\n",
    "\n",
    "cars = pd.DataFrame(my_dict)\n",
    "\n",
    "cars"
   ]
  },
  {
   "cell_type": "markdown",
   "id": "0254c408-9780-4625-93dd-2008e8e27734",
   "metadata": {},
   "source": [
    "## Dictionary to DataFrame (2)\n",
    "\n",
    "The Python code that solves the previous exercise is included in the script. Have you noticed that the row labels (i.e. the labels for the different observations) were automatically set to integers from 0 up to 6?\n",
    "To solve this a list `row_labels` has been created. You can use it to specify the row labels of the `cars` DataFrame. You do this by setting the `index` attribute of `cars`, that you can access as `cars.index`."
   ]
  },
  {
   "cell_type": "markdown",
   "id": "1e96552b-3553-466a-8f7a-52e24cd1f356",
   "metadata": {},
   "source": [
    "### Instructions\n",
    "- Hit Run Code to see that, indeed, the row labels are not correctly set.\n",
    "- Specify the row labels by setting `cars.index` equal to `row_labels`.\n",
    "- Print out `cars` again and check if the row labels are correct this time."
   ]
  },
  {
   "cell_type": "code",
   "execution_count": 8,
   "id": "b31f5af3-4ebc-40c9-a3b4-87644b514cfd",
   "metadata": {},
   "outputs": [
    {
     "data": {
      "text/html": [
       "<div>\n",
       "<style scoped>\n",
       "    .dataframe tbody tr th:only-of-type {\n",
       "        vertical-align: middle;\n",
       "    }\n",
       "\n",
       "    .dataframe tbody tr th {\n",
       "        vertical-align: top;\n",
       "    }\n",
       "\n",
       "    .dataframe thead th {\n",
       "        text-align: right;\n",
       "    }\n",
       "</style>\n",
       "<table border=\"1\" class=\"dataframe\">\n",
       "  <thead>\n",
       "    <tr style=\"text-align: right;\">\n",
       "      <th></th>\n",
       "      <th>country</th>\n",
       "      <th>drives_right</th>\n",
       "      <th>cars_per_cap</th>\n",
       "    </tr>\n",
       "  </thead>\n",
       "  <tbody>\n",
       "    <tr>\n",
       "      <th>0</th>\n",
       "      <td>United States</td>\n",
       "      <td>True</td>\n",
       "      <td>809</td>\n",
       "    </tr>\n",
       "    <tr>\n",
       "      <th>1</th>\n",
       "      <td>Australia</td>\n",
       "      <td>False</td>\n",
       "      <td>731</td>\n",
       "    </tr>\n",
       "    <tr>\n",
       "      <th>2</th>\n",
       "      <td>Japan</td>\n",
       "      <td>False</td>\n",
       "      <td>588</td>\n",
       "    </tr>\n",
       "    <tr>\n",
       "      <th>3</th>\n",
       "      <td>India</td>\n",
       "      <td>False</td>\n",
       "      <td>18</td>\n",
       "    </tr>\n",
       "    <tr>\n",
       "      <th>4</th>\n",
       "      <td>Russia</td>\n",
       "      <td>True</td>\n",
       "      <td>200</td>\n",
       "    </tr>\n",
       "    <tr>\n",
       "      <th>5</th>\n",
       "      <td>Morocco</td>\n",
       "      <td>True</td>\n",
       "      <td>70</td>\n",
       "    </tr>\n",
       "    <tr>\n",
       "      <th>6</th>\n",
       "      <td>Egypt</td>\n",
       "      <td>True</td>\n",
       "      <td>45</td>\n",
       "    </tr>\n",
       "  </tbody>\n",
       "</table>\n",
       "</div>"
      ],
      "text/plain": [
       "         country  drives_right  cars_per_cap\n",
       "0  United States          True           809\n",
       "1      Australia         False           731\n",
       "2          Japan         False           588\n",
       "3          India         False            18\n",
       "4         Russia          True           200\n",
       "5        Morocco          True            70\n",
       "6          Egypt          True            45"
      ]
     },
     "execution_count": 8,
     "metadata": {},
     "output_type": "execute_result"
    }
   ],
   "source": [
    "cars"
   ]
  },
  {
   "cell_type": "code",
   "execution_count": 9,
   "id": "7c349996-03b4-4f6b-9245-57a439976db2",
   "metadata": {},
   "outputs": [
    {
     "data": {
      "text/html": [
       "<div>\n",
       "<style scoped>\n",
       "    .dataframe tbody tr th:only-of-type {\n",
       "        vertical-align: middle;\n",
       "    }\n",
       "\n",
       "    .dataframe tbody tr th {\n",
       "        vertical-align: top;\n",
       "    }\n",
       "\n",
       "    .dataframe thead th {\n",
       "        text-align: right;\n",
       "    }\n",
       "</style>\n",
       "<table border=\"1\" class=\"dataframe\">\n",
       "  <thead>\n",
       "    <tr style=\"text-align: right;\">\n",
       "      <th></th>\n",
       "      <th>country</th>\n",
       "      <th>drives_right</th>\n",
       "      <th>cars_per_cap</th>\n",
       "    </tr>\n",
       "  </thead>\n",
       "  <tbody>\n",
       "    <tr>\n",
       "      <th>US</th>\n",
       "      <td>United States</td>\n",
       "      <td>True</td>\n",
       "      <td>809</td>\n",
       "    </tr>\n",
       "    <tr>\n",
       "      <th>AUS</th>\n",
       "      <td>Australia</td>\n",
       "      <td>False</td>\n",
       "      <td>731</td>\n",
       "    </tr>\n",
       "    <tr>\n",
       "      <th>JPN</th>\n",
       "      <td>Japan</td>\n",
       "      <td>False</td>\n",
       "      <td>588</td>\n",
       "    </tr>\n",
       "    <tr>\n",
       "      <th>IN</th>\n",
       "      <td>India</td>\n",
       "      <td>False</td>\n",
       "      <td>18</td>\n",
       "    </tr>\n",
       "    <tr>\n",
       "      <th>RU</th>\n",
       "      <td>Russia</td>\n",
       "      <td>True</td>\n",
       "      <td>200</td>\n",
       "    </tr>\n",
       "    <tr>\n",
       "      <th>MOR</th>\n",
       "      <td>Morocco</td>\n",
       "      <td>True</td>\n",
       "      <td>70</td>\n",
       "    </tr>\n",
       "    <tr>\n",
       "      <th>EG</th>\n",
       "      <td>Egypt</td>\n",
       "      <td>True</td>\n",
       "      <td>45</td>\n",
       "    </tr>\n",
       "  </tbody>\n",
       "</table>\n",
       "</div>"
      ],
      "text/plain": [
       "           country  drives_right  cars_per_cap\n",
       "US   United States          True           809\n",
       "AUS      Australia         False           731\n",
       "JPN          Japan         False           588\n",
       "IN           India         False            18\n",
       "RU          Russia          True           200\n",
       "MOR        Morocco          True            70\n",
       "EG           Egypt          True            45"
      ]
     },
     "execution_count": 9,
     "metadata": {},
     "output_type": "execute_result"
    }
   ],
   "source": [
    "# Definition of row_labels\n",
    "row_labels = ['US', 'AUS', 'JPN', 'IN', 'RU', 'MOR', 'EG']\n",
    "\n",
    "# Specify row labels of cars\n",
    "cars.index = row_labels\n",
    "\n",
    "# Print cars again\n",
    "cars"
   ]
  },
  {
   "cell_type": "markdown",
   "id": "e9c471c3-4afe-4f95-b22f-eb5af1d43c84",
   "metadata": {},
   "source": [
    "## CSV to DataFrame (1)\n",
    "\n",
    "Putting data in a dictionary and then building a DataFrame works, but it's not very efficient. What if you're dealing with millions of observations? In those cases, the data is typically available as files with a regular structure. One of those file types is the CSV file, which is short for \"comma-separated values\".\n",
    "\n",
    "To import CSV data into Python as a Pandas DataFrame you can use `read_csv()`.\n",
    "\n",
    "Let's explore this function with the same cars data from the previous exercises. This time, however, the data is available in a CSV file, named `cars.csv`. It is available in your current working directory, so the path to the file is simply 'cars.csv'."
   ]
  },
  {
   "cell_type": "markdown",
   "id": "24393783-7a73-44a0-9136-1f0e3f5f687b",
   "metadata": {},
   "source": [
    "### Instructions\n",
    "- To import CSV files you still need the `pandas` package: import it as `pd`.\n",
    "- Use `pd.read_csv()` to import `cars.csv` data as a DataFrame. Store this DataFrame as `cars`.\n",
    "- Print out `cars`. Does everything look OK?"
   ]
  },
  {
   "cell_type": "code",
   "execution_count": 10,
   "id": "ac30b4e8-d081-4288-b1a7-f21a60aae6bf",
   "metadata": {},
   "outputs": [
    {
     "data": {
      "text/html": [
       "<div>\n",
       "<style scoped>\n",
       "    .dataframe tbody tr th:only-of-type {\n",
       "        vertical-align: middle;\n",
       "    }\n",
       "\n",
       "    .dataframe tbody tr th {\n",
       "        vertical-align: top;\n",
       "    }\n",
       "\n",
       "    .dataframe thead th {\n",
       "        text-align: right;\n",
       "    }\n",
       "</style>\n",
       "<table border=\"1\" class=\"dataframe\">\n",
       "  <thead>\n",
       "    <tr style=\"text-align: right;\">\n",
       "      <th></th>\n",
       "      <th>Unnamed: 0</th>\n",
       "      <th>cars_per_cap</th>\n",
       "      <th>country</th>\n",
       "      <th>drives_right</th>\n",
       "    </tr>\n",
       "  </thead>\n",
       "  <tbody>\n",
       "    <tr>\n",
       "      <th>0</th>\n",
       "      <td>US</td>\n",
       "      <td>809</td>\n",
       "      <td>United States</td>\n",
       "      <td>True</td>\n",
       "    </tr>\n",
       "    <tr>\n",
       "      <th>1</th>\n",
       "      <td>AUS</td>\n",
       "      <td>731</td>\n",
       "      <td>Australia</td>\n",
       "      <td>False</td>\n",
       "    </tr>\n",
       "    <tr>\n",
       "      <th>2</th>\n",
       "      <td>JAP</td>\n",
       "      <td>588</td>\n",
       "      <td>Japan</td>\n",
       "      <td>False</td>\n",
       "    </tr>\n",
       "    <tr>\n",
       "      <th>3</th>\n",
       "      <td>IN</td>\n",
       "      <td>18</td>\n",
       "      <td>India</td>\n",
       "      <td>False</td>\n",
       "    </tr>\n",
       "    <tr>\n",
       "      <th>4</th>\n",
       "      <td>RU</td>\n",
       "      <td>200</td>\n",
       "      <td>Russia</td>\n",
       "      <td>True</td>\n",
       "    </tr>\n",
       "    <tr>\n",
       "      <th>5</th>\n",
       "      <td>MOR</td>\n",
       "      <td>70</td>\n",
       "      <td>Morocco</td>\n",
       "      <td>True</td>\n",
       "    </tr>\n",
       "    <tr>\n",
       "      <th>6</th>\n",
       "      <td>EG</td>\n",
       "      <td>45</td>\n",
       "      <td>Egypt</td>\n",
       "      <td>True</td>\n",
       "    </tr>\n",
       "  </tbody>\n",
       "</table>\n",
       "</div>"
      ],
      "text/plain": [
       "  Unnamed: 0  cars_per_cap        country  drives_right\n",
       "0         US           809  United States          True\n",
       "1        AUS           731      Australia         False\n",
       "2        JAP           588          Japan         False\n",
       "3         IN            18          India         False\n",
       "4         RU           200         Russia          True\n",
       "5        MOR            70        Morocco          True\n",
       "6         EG            45          Egypt          True"
      ]
     },
     "execution_count": 10,
     "metadata": {},
     "output_type": "execute_result"
    }
   ],
   "source": [
    "import pandas as pd\n",
    "\n",
    "cars = pd.read_csv('dataset/cars.csv')\n",
    "cars"
   ]
  },
  {
   "cell_type": "markdown",
   "id": "dee76fa1-82cb-4292-a75c-b8e01d42a6b7",
   "metadata": {},
   "source": [
    "## CSV to DataFrame (2)\n",
    "\n",
    "Your `read_csv()` call to import the CSV data didn't generate an error, but the output is not entirely what we wanted. The row labels were imported as another column without a name.\n",
    "\n",
    "Remember `index_col`, an **argument** of `read_csv()`, that you can use to specify which column in the CSV file should be used as a row label? Well, that's exactly what you need here!\n",
    "\n",
    "Python code that solves the previous exercise is already included; can you make the appropriate changes to fix the data import?"
   ]
  },
  {
   "cell_type": "markdown",
   "id": "84443204-529d-4fb9-b88b-3b144be9873b",
   "metadata": {},
   "source": [
    "### Instructions\n",
    "- Run the code with Run Code and assert that the first column should actually be used as row labels.\n",
    "- Specify the `index_col` argument inside `pd.read_csv()`: set it to `0`, so that the first column is used as row labels.\n",
    "- Has the printout of `cars` improved now?"
   ]
  },
  {
   "cell_type": "code",
   "execution_count": 11,
   "id": "1bbfa5dd-ed4d-41f4-a62e-e5bce78f8025",
   "metadata": {},
   "outputs": [
    {
     "data": {
      "text/html": [
       "<div>\n",
       "<style scoped>\n",
       "    .dataframe tbody tr th:only-of-type {\n",
       "        vertical-align: middle;\n",
       "    }\n",
       "\n",
       "    .dataframe tbody tr th {\n",
       "        vertical-align: top;\n",
       "    }\n",
       "\n",
       "    .dataframe thead th {\n",
       "        text-align: right;\n",
       "    }\n",
       "</style>\n",
       "<table border=\"1\" class=\"dataframe\">\n",
       "  <thead>\n",
       "    <tr style=\"text-align: right;\">\n",
       "      <th></th>\n",
       "      <th>cars_per_cap</th>\n",
       "      <th>country</th>\n",
       "      <th>drives_right</th>\n",
       "    </tr>\n",
       "  </thead>\n",
       "  <tbody>\n",
       "    <tr>\n",
       "      <th>US</th>\n",
       "      <td>809</td>\n",
       "      <td>United States</td>\n",
       "      <td>True</td>\n",
       "    </tr>\n",
       "    <tr>\n",
       "      <th>AUS</th>\n",
       "      <td>731</td>\n",
       "      <td>Australia</td>\n",
       "      <td>False</td>\n",
       "    </tr>\n",
       "    <tr>\n",
       "      <th>JAP</th>\n",
       "      <td>588</td>\n",
       "      <td>Japan</td>\n",
       "      <td>False</td>\n",
       "    </tr>\n",
       "    <tr>\n",
       "      <th>IN</th>\n",
       "      <td>18</td>\n",
       "      <td>India</td>\n",
       "      <td>False</td>\n",
       "    </tr>\n",
       "    <tr>\n",
       "      <th>RU</th>\n",
       "      <td>200</td>\n",
       "      <td>Russia</td>\n",
       "      <td>True</td>\n",
       "    </tr>\n",
       "    <tr>\n",
       "      <th>MOR</th>\n",
       "      <td>70</td>\n",
       "      <td>Morocco</td>\n",
       "      <td>True</td>\n",
       "    </tr>\n",
       "    <tr>\n",
       "      <th>EG</th>\n",
       "      <td>45</td>\n",
       "      <td>Egypt</td>\n",
       "      <td>True</td>\n",
       "    </tr>\n",
       "  </tbody>\n",
       "</table>\n",
       "</div>"
      ],
      "text/plain": [
       "     cars_per_cap        country  drives_right\n",
       "US            809  United States          True\n",
       "AUS           731      Australia         False\n",
       "JAP           588          Japan         False\n",
       "IN             18          India         False\n",
       "RU            200         Russia          True\n",
       "MOR            70        Morocco          True\n",
       "EG             45          Egypt          True"
      ]
     },
     "execution_count": 11,
     "metadata": {},
     "output_type": "execute_result"
    }
   ],
   "source": [
    "cars = pd.read_csv('dataset/cars.csv', index_col = 0)\n",
    "cars"
   ]
  },
  {
   "cell_type": "markdown",
   "id": "9122e6ae-065d-47f0-b955-cf20c1c7f4a5",
   "metadata": {},
   "source": [
    "## Square Brackets (1)\n",
    "\n",
    "In the video, you saw that you can index and select Pandas DataFrames in many different ways. The simplest, but not the most powerful way, is to use square brackets.\n",
    "\n",
    "In the sample code, the same cars data is imported from a CSV files as a Pandas DataFrame. To select only the `cars_per_cap` column `from` cars, you can use:\n",
    "```python\n",
    "cars['cars_per_cap']\n",
    "cars[['cars_per_cap']]\n",
    "```\n",
    "The single bracket version gives a Pandas Series, the double bracket version gives a Pandas DataFrame."
   ]
  },
  {
   "cell_type": "markdown",
   "id": "230277c5-e001-4ed4-b55b-3fe08b06888e",
   "metadata": {},
   "source": [
    "### Instructions\n",
    "- Use single square brackets to print out the country column of cars as a Pandas Series.\n",
    "- Use double square brackets to print out the country column of cars as a Pandas DataFrame.\n",
    "- Use double square brackets to print out a DataFrame with both the country and drives_right columns of cars, in this order."
   ]
  },
  {
   "cell_type": "code",
   "execution_count": 15,
   "id": "dfb49309-c563-4506-a414-04a0ff98d1e0",
   "metadata": {},
   "outputs": [
    {
     "name": "stdout",
     "output_type": "stream",
     "text": [
      "<class 'pandas.core.series.Series'>\n",
      "US     United States\n",
      "AUS        Australia\n",
      "JAP            Japan\n",
      "IN             India\n",
      "RU            Russia\n",
      "MOR          Morocco\n",
      "EG             Egypt\n",
      "Name: country, dtype: object\n"
     ]
    }
   ],
   "source": [
    "# Single square brackets\n",
    "print(type(cars['country']))\n",
    "print(cars['country'])"
   ]
  },
  {
   "cell_type": "code",
   "execution_count": 16,
   "id": "dbe2af48-1920-44b2-89ce-a8fff7389ae9",
   "metadata": {},
   "outputs": [
    {
     "name": "stdout",
     "output_type": "stream",
     "text": [
      "<class 'pandas.core.frame.DataFrame'>\n",
      "           country\n",
      "US   United States\n",
      "AUS      Australia\n",
      "JAP          Japan\n",
      "IN           India\n",
      "RU          Russia\n",
      "MOR        Morocco\n",
      "EG           Egypt\n"
     ]
    }
   ],
   "source": [
    "# Double square brackets\n",
    "print(type(cars[['country']]))\n",
    "print(cars[['country']])"
   ]
  },
  {
   "cell_type": "code",
   "execution_count": 17,
   "id": "c49c9f73-aa58-4766-811f-57c00801225b",
   "metadata": {},
   "outputs": [
    {
     "data": {
      "text/html": [
       "<div>\n",
       "<style scoped>\n",
       "    .dataframe tbody tr th:only-of-type {\n",
       "        vertical-align: middle;\n",
       "    }\n",
       "\n",
       "    .dataframe tbody tr th {\n",
       "        vertical-align: top;\n",
       "    }\n",
       "\n",
       "    .dataframe thead th {\n",
       "        text-align: right;\n",
       "    }\n",
       "</style>\n",
       "<table border=\"1\" class=\"dataframe\">\n",
       "  <thead>\n",
       "    <tr style=\"text-align: right;\">\n",
       "      <th></th>\n",
       "      <th>country</th>\n",
       "      <th>drives_right</th>\n",
       "    </tr>\n",
       "  </thead>\n",
       "  <tbody>\n",
       "    <tr>\n",
       "      <th>US</th>\n",
       "      <td>United States</td>\n",
       "      <td>True</td>\n",
       "    </tr>\n",
       "    <tr>\n",
       "      <th>AUS</th>\n",
       "      <td>Australia</td>\n",
       "      <td>False</td>\n",
       "    </tr>\n",
       "    <tr>\n",
       "      <th>JAP</th>\n",
       "      <td>Japan</td>\n",
       "      <td>False</td>\n",
       "    </tr>\n",
       "    <tr>\n",
       "      <th>IN</th>\n",
       "      <td>India</td>\n",
       "      <td>False</td>\n",
       "    </tr>\n",
       "    <tr>\n",
       "      <th>RU</th>\n",
       "      <td>Russia</td>\n",
       "      <td>True</td>\n",
       "    </tr>\n",
       "    <tr>\n",
       "      <th>MOR</th>\n",
       "      <td>Morocco</td>\n",
       "      <td>True</td>\n",
       "    </tr>\n",
       "    <tr>\n",
       "      <th>EG</th>\n",
       "      <td>Egypt</td>\n",
       "      <td>True</td>\n",
       "    </tr>\n",
       "  </tbody>\n",
       "</table>\n",
       "</div>"
      ],
      "text/plain": [
       "           country  drives_right\n",
       "US   United States          True\n",
       "AUS      Australia         False\n",
       "JAP          Japan         False\n",
       "IN           India         False\n",
       "RU          Russia          True\n",
       "MOR        Morocco          True\n",
       "EG           Egypt          True"
      ]
     },
     "execution_count": 17,
     "metadata": {},
     "output_type": "execute_result"
    }
   ],
   "source": [
    "cars[['country','drives_right']]"
   ]
  },
  {
   "cell_type": "markdown",
   "id": "2aa12c62-fe02-4185-925d-be1d895c98d3",
   "metadata": {},
   "source": [
    "## Square Brackets (2)\n",
    "\n",
    "Square brackets can do more than just selecting columns. You can also use them to get rows, or observations, from a DataFrame. The following call selects the first five rows from the cars DataFrame:\n",
    "```Python\n",
    "cars[0:5]\n",
    "```\n",
    "The result is another DataFrame containing only the rows you specified.\n",
    "\n",
    "Pay attention: You can only select rows using square brackets if you specify a slice, like 0:4. Also, you're using the integer indexes of the rows here, not the row labels!"
   ]
  },
  {
   "cell_type": "markdown",
   "id": "efc9c057-68c9-4681-bd18-c70ae2b18752",
   "metadata": {},
   "source": [
    "### Instructions\n",
    "- Select the first 3 observations from `cars` and print them out.\n",
    "- Select the fourth, fifth and sixth observation, corresponding to row indexes 3, 4 and 5, and print them out`"
   ]
  },
  {
   "cell_type": "code",
   "execution_count": 19,
   "id": "d3b55e5b-7cb5-49e6-8222-22c768e0ad6c",
   "metadata": {},
   "outputs": [
    {
     "data": {
      "text/html": [
       "<div>\n",
       "<style scoped>\n",
       "    .dataframe tbody tr th:only-of-type {\n",
       "        vertical-align: middle;\n",
       "    }\n",
       "\n",
       "    .dataframe tbody tr th {\n",
       "        vertical-align: top;\n",
       "    }\n",
       "\n",
       "    .dataframe thead th {\n",
       "        text-align: right;\n",
       "    }\n",
       "</style>\n",
       "<table border=\"1\" class=\"dataframe\">\n",
       "  <thead>\n",
       "    <tr style=\"text-align: right;\">\n",
       "      <th></th>\n",
       "      <th>cars_per_cap</th>\n",
       "      <th>country</th>\n",
       "      <th>drives_right</th>\n",
       "    </tr>\n",
       "  </thead>\n",
       "  <tbody>\n",
       "    <tr>\n",
       "      <th>US</th>\n",
       "      <td>809</td>\n",
       "      <td>United States</td>\n",
       "      <td>True</td>\n",
       "    </tr>\n",
       "    <tr>\n",
       "      <th>AUS</th>\n",
       "      <td>731</td>\n",
       "      <td>Australia</td>\n",
       "      <td>False</td>\n",
       "    </tr>\n",
       "    <tr>\n",
       "      <th>JAP</th>\n",
       "      <td>588</td>\n",
       "      <td>Japan</td>\n",
       "      <td>False</td>\n",
       "    </tr>\n",
       "  </tbody>\n",
       "</table>\n",
       "</div>"
      ],
      "text/plain": [
       "     cars_per_cap        country  drives_right\n",
       "US            809  United States          True\n",
       "AUS           731      Australia         False\n",
       "JAP           588          Japan         False"
      ]
     },
     "execution_count": 19,
     "metadata": {},
     "output_type": "execute_result"
    }
   ],
   "source": [
    "cars[:3]"
   ]
  },
  {
   "cell_type": "code",
   "execution_count": 22,
   "id": "9631fc71-d84b-4e83-954a-cf72dd9f508a",
   "metadata": {},
   "outputs": [
    {
     "data": {
      "text/html": [
       "<div>\n",
       "<style scoped>\n",
       "    .dataframe tbody tr th:only-of-type {\n",
       "        vertical-align: middle;\n",
       "    }\n",
       "\n",
       "    .dataframe tbody tr th {\n",
       "        vertical-align: top;\n",
       "    }\n",
       "\n",
       "    .dataframe thead th {\n",
       "        text-align: right;\n",
       "    }\n",
       "</style>\n",
       "<table border=\"1\" class=\"dataframe\">\n",
       "  <thead>\n",
       "    <tr style=\"text-align: right;\">\n",
       "      <th></th>\n",
       "      <th>cars_per_cap</th>\n",
       "      <th>country</th>\n",
       "      <th>drives_right</th>\n",
       "    </tr>\n",
       "  </thead>\n",
       "  <tbody>\n",
       "    <tr>\n",
       "      <th>IN</th>\n",
       "      <td>18</td>\n",
       "      <td>India</td>\n",
       "      <td>False</td>\n",
       "    </tr>\n",
       "    <tr>\n",
       "      <th>RU</th>\n",
       "      <td>200</td>\n",
       "      <td>Russia</td>\n",
       "      <td>True</td>\n",
       "    </tr>\n",
       "    <tr>\n",
       "      <th>MOR</th>\n",
       "      <td>70</td>\n",
       "      <td>Morocco</td>\n",
       "      <td>True</td>\n",
       "    </tr>\n",
       "  </tbody>\n",
       "</table>\n",
       "</div>"
      ],
      "text/plain": [
       "     cars_per_cap  country  drives_right\n",
       "IN             18    India         False\n",
       "RU            200   Russia          True\n",
       "MOR            70  Morocco          True"
      ]
     },
     "execution_count": 22,
     "metadata": {},
     "output_type": "execute_result"
    }
   ],
   "source": [
    "cars[3:6]"
   ]
  },
  {
   "cell_type": "markdown",
   "id": "5a87f48a-b61a-4187-b9c2-ec0a6110e1f5",
   "metadata": {},
   "source": [
    "## loc and iloc (1)\n",
    "\n",
    "With `loc` and `iloc` you can do practically any data selection operation on DataFrames you can think of. loc is label-based, which means that you have to specify rows and columns based on their row and column labels. iloc is integer index based, so you have to specify rows and columns by their integer index like you did in the previous exercise.\n",
    "\n",
    "Try out the following commands in the IPython Shell to experiment with `loc` and `iloc` to select observations. Each pair of commands here gives the same result.\n",
    "```Python\n",
    "cars.loc['RU']\n",
    "cars.iloc[4]\n",
    "\n",
    "cars.loc[['RU']]\n",
    "cars.iloc[[4]]\n",
    "\n",
    "cars.loc[['RU', 'AUS']]\n",
    "cars.iloc[[4, 1]]\n",
    "```\n",
    "As before, code is included that imports the cars data as a Pandas DataFrame."
   ]
  },
  {
   "cell_type": "markdown",
   "id": "5e68258f-dded-4575-a2c7-4d1caedc8b3b",
   "metadata": {},
   "source": [
    "### Instructions\n",
    "- Use `loc` or `iloc` to select the observation corresponding to Japan as a Series. The label of this row is `JAP`, the index is `2`. Make sure to print the resulting Series.\n",
    "- Use `loc` or `iloc` to select the observations for Australia and Egypt as a DataFrame. You can find out about the labels/indexes of these rows by inspecting `cars` in the IPython Shell. Make sure to print the resulting DataFrame."
   ]
  },
  {
   "cell_type": "code",
   "execution_count": 23,
   "id": "347c289d-f9b5-4fb9-9c6e-1081ea5241b2",
   "metadata": {},
   "outputs": [
    {
     "data": {
      "text/html": [
       "<div>\n",
       "<style scoped>\n",
       "    .dataframe tbody tr th:only-of-type {\n",
       "        vertical-align: middle;\n",
       "    }\n",
       "\n",
       "    .dataframe tbody tr th {\n",
       "        vertical-align: top;\n",
       "    }\n",
       "\n",
       "    .dataframe thead th {\n",
       "        text-align: right;\n",
       "    }\n",
       "</style>\n",
       "<table border=\"1\" class=\"dataframe\">\n",
       "  <thead>\n",
       "    <tr style=\"text-align: right;\">\n",
       "      <th></th>\n",
       "      <th>cars_per_cap</th>\n",
       "      <th>country</th>\n",
       "      <th>drives_right</th>\n",
       "    </tr>\n",
       "  </thead>\n",
       "  <tbody>\n",
       "    <tr>\n",
       "      <th>US</th>\n",
       "      <td>809</td>\n",
       "      <td>United States</td>\n",
       "      <td>True</td>\n",
       "    </tr>\n",
       "    <tr>\n",
       "      <th>AUS</th>\n",
       "      <td>731</td>\n",
       "      <td>Australia</td>\n",
       "      <td>False</td>\n",
       "    </tr>\n",
       "    <tr>\n",
       "      <th>JAP</th>\n",
       "      <td>588</td>\n",
       "      <td>Japan</td>\n",
       "      <td>False</td>\n",
       "    </tr>\n",
       "    <tr>\n",
       "      <th>IN</th>\n",
       "      <td>18</td>\n",
       "      <td>India</td>\n",
       "      <td>False</td>\n",
       "    </tr>\n",
       "    <tr>\n",
       "      <th>RU</th>\n",
       "      <td>200</td>\n",
       "      <td>Russia</td>\n",
       "      <td>True</td>\n",
       "    </tr>\n",
       "    <tr>\n",
       "      <th>MOR</th>\n",
       "      <td>70</td>\n",
       "      <td>Morocco</td>\n",
       "      <td>True</td>\n",
       "    </tr>\n",
       "    <tr>\n",
       "      <th>EG</th>\n",
       "      <td>45</td>\n",
       "      <td>Egypt</td>\n",
       "      <td>True</td>\n",
       "    </tr>\n",
       "  </tbody>\n",
       "</table>\n",
       "</div>"
      ],
      "text/plain": [
       "     cars_per_cap        country  drives_right\n",
       "US            809  United States          True\n",
       "AUS           731      Australia         False\n",
       "JAP           588          Japan         False\n",
       "IN             18          India         False\n",
       "RU            200         Russia          True\n",
       "MOR            70        Morocco          True\n",
       "EG             45          Egypt          True"
      ]
     },
     "execution_count": 23,
     "metadata": {},
     "output_type": "execute_result"
    }
   ],
   "source": [
    "cars"
   ]
  },
  {
   "cell_type": "code",
   "execution_count": 25,
   "id": "49680a6d-77eb-4a89-965c-1a70b5eb1b59",
   "metadata": {},
   "outputs": [
    {
     "name": "stdout",
     "output_type": "stream",
     "text": [
      "     cars_per_cap country  drives_right\n",
      "JAP           588   Japan         False\n",
      "     cars_per_cap country  drives_right\n",
      "JAP           588   Japan         False\n"
     ]
    }
   ],
   "source": [
    "print(cars.loc[['JAP']])\n",
    "print(cars.iloc[[2]])"
   ]
  },
  {
   "cell_type": "code",
   "execution_count": 26,
   "id": "defe3be8-436f-49d5-9a25-4842ddb457dc",
   "metadata": {},
   "outputs": [
    {
     "name": "stdout",
     "output_type": "stream",
     "text": [
      "     cars_per_cap    country  drives_right\n",
      "AUS           731  Australia         False\n",
      "EG             45      Egypt          True\n",
      "     cars_per_cap    country  drives_right\n",
      "AUS           731  Australia         False\n",
      "EG             45      Egypt          True\n"
     ]
    }
   ],
   "source": [
    "print(cars.loc[['AUS','EG']])\n",
    "print(cars.iloc[[1,6]])"
   ]
  },
  {
   "cell_type": "markdown",
   "id": "c6ccd6a0-7b76-4799-8b58-5c49cbc416f9",
   "metadata": {},
   "source": [
    "## loc and iloc (2)\n",
    "\n",
    "`loc` and `iloc` also allow you to select both rows and columns from a DataFrame. To experiment, try out the following commands in the IPython Shell. Again, paired commands produce the same result.\n",
    "```Python\n",
    "cars.loc['IN', 'cars_per_cap']\n",
    "cars.iloc[3, 0]\n",
    "\n",
    "cars.loc[['IN', 'RU'], 'cars_per_cap']\n",
    "cars.iloc[[3, 4], 0]\n",
    "\n",
    "cars.loc[['IN', 'RU'], ['cars_per_cap', 'country']]\n",
    "cars.iloc[[3, 4], [0, 1]]\n",
    "```"
   ]
  },
  {
   "cell_type": "markdown",
   "id": "f9fd90f3-09e7-4f04-a998-eb02196b155f",
   "metadata": {},
   "source": [
    "### Instructions\n",
    "- Print out the `drives_right` value of the row corresponding to Morocco (its row label is `MOR`)\n",
    "- Print out a sub-DataFrame, containing the observations for Russia and Morocco and the columns `country` and `drives_right`."
   ]
  },
  {
   "cell_type": "code",
   "execution_count": 28,
   "id": "4e79ea65-5018-44e1-a8c4-9e0bdaf80fb6",
   "metadata": {},
   "outputs": [
    {
     "data": {
      "text/html": [
       "<div>\n",
       "<style scoped>\n",
       "    .dataframe tbody tr th:only-of-type {\n",
       "        vertical-align: middle;\n",
       "    }\n",
       "\n",
       "    .dataframe tbody tr th {\n",
       "        vertical-align: top;\n",
       "    }\n",
       "\n",
       "    .dataframe thead th {\n",
       "        text-align: right;\n",
       "    }\n",
       "</style>\n",
       "<table border=\"1\" class=\"dataframe\">\n",
       "  <thead>\n",
       "    <tr style=\"text-align: right;\">\n",
       "      <th></th>\n",
       "      <th>drives_right</th>\n",
       "    </tr>\n",
       "  </thead>\n",
       "  <tbody>\n",
       "    <tr>\n",
       "      <th>MOR</th>\n",
       "      <td>True</td>\n",
       "    </tr>\n",
       "  </tbody>\n",
       "</table>\n",
       "</div>"
      ],
      "text/plain": [
       "     drives_right\n",
       "MOR          True"
      ]
     },
     "execution_count": 28,
     "metadata": {},
     "output_type": "execute_result"
    }
   ],
   "source": [
    "cars.loc[['MOR'],['drives_right']]"
   ]
  },
  {
   "cell_type": "code",
   "execution_count": 29,
   "id": "a38311cf-e04e-4408-b74c-d91aaeea070d",
   "metadata": {},
   "outputs": [
    {
     "data": {
      "text/html": [
       "<div>\n",
       "<style scoped>\n",
       "    .dataframe tbody tr th:only-of-type {\n",
       "        vertical-align: middle;\n",
       "    }\n",
       "\n",
       "    .dataframe tbody tr th {\n",
       "        vertical-align: top;\n",
       "    }\n",
       "\n",
       "    .dataframe thead th {\n",
       "        text-align: right;\n",
       "    }\n",
       "</style>\n",
       "<table border=\"1\" class=\"dataframe\">\n",
       "  <thead>\n",
       "    <tr style=\"text-align: right;\">\n",
       "      <th></th>\n",
       "      <th>country</th>\n",
       "      <th>drives_right</th>\n",
       "    </tr>\n",
       "  </thead>\n",
       "  <tbody>\n",
       "    <tr>\n",
       "      <th>RU</th>\n",
       "      <td>Russia</td>\n",
       "      <td>True</td>\n",
       "    </tr>\n",
       "    <tr>\n",
       "      <th>MOR</th>\n",
       "      <td>Morocco</td>\n",
       "      <td>True</td>\n",
       "    </tr>\n",
       "  </tbody>\n",
       "</table>\n",
       "</div>"
      ],
      "text/plain": [
       "     country  drives_right\n",
       "RU    Russia          True\n",
       "MOR  Morocco          True"
      ]
     },
     "execution_count": 29,
     "metadata": {},
     "output_type": "execute_result"
    }
   ],
   "source": [
    "cars.loc[['RU','MOR'],['country','drives_right']]"
   ]
  },
  {
   "cell_type": "markdown",
   "id": "fcea70b1-d2a2-4f63-8474-5a1142a95a9a",
   "metadata": {},
   "source": [
    "## loc and iloc (3)\n",
    "\n",
    "It's also possible to select only columns with loc and iloc. In both cases, you simply put a slice going from beginning to end in front of the comma:\n",
    "```Python\n",
    "cars.loc[:, 'country']\n",
    "cars.iloc[:, 1]\n",
    "\n",
    "cars.loc[:, ['country','drives_right']]\n",
    "cars.iloc[:, [1, 2]]\n",
    "```"
   ]
  },
  {
   "cell_type": "markdown",
   "id": "3bf40b5d-b755-47a6-af2d-33b8d9f9f68d",
   "metadata": {},
   "source": [
    "### Instructions\n",
    "- Print out the `drives_right` column as a `Series` using loc or iloc.\n",
    "- Print out the `drives_right` column as a `DataFrame` using loc or iloc.\n",
    "- Print out both the `cars_per_cap` and `drives_right` column as a `DataFrame` using loc or iloc."
   ]
  },
  {
   "cell_type": "code",
   "execution_count": 34,
   "id": "966686bc-b005-453e-afed-724a71ac2c10",
   "metadata": {},
   "outputs": [
    {
     "name": "stdout",
     "output_type": "stream",
     "text": [
      "US      True\n",
      "AUS    False\n",
      "JAP    False\n",
      "IN     False\n",
      "RU      True\n",
      "MOR     True\n",
      "EG      True\n",
      "Name: drives_right, dtype: bool\n",
      "US      True\n",
      "AUS    False\n",
      "JAP    False\n",
      "IN     False\n",
      "RU      True\n",
      "MOR     True\n",
      "EG      True\n",
      "Name: drives_right, dtype: bool\n"
     ]
    }
   ],
   "source": [
    "print(cars.loc[:,'drives_right'])\n",
    "print(cars.iloc[:,2])"
   ]
  },
  {
   "cell_type": "code",
   "execution_count": 37,
   "id": "b76f824a-25a8-4482-b654-9a0f1ab39ae4",
   "metadata": {},
   "outputs": [
    {
     "name": "stdout",
     "output_type": "stream",
     "text": [
      "     drives_right\n",
      "US           True\n",
      "AUS         False\n",
      "JAP         False\n",
      "IN          False\n",
      "RU           True\n",
      "MOR          True\n",
      "EG           True\n",
      "     drives_right\n",
      "US           True\n",
      "AUS         False\n",
      "JAP         False\n",
      "IN          False\n",
      "RU           True\n",
      "MOR          True\n",
      "EG           True\n"
     ]
    }
   ],
   "source": [
    "print(cars.loc[:, ['drives_right']])\n",
    "print(cars.iloc[:, [2]])"
   ]
  },
  {
   "cell_type": "code",
   "execution_count": 39,
   "id": "2b903ea9-6289-44d4-affd-aa527ee5ca08",
   "metadata": {},
   "outputs": [
    {
     "name": "stdout",
     "output_type": "stream",
     "text": [
      "     cars_per_cap  drives_right\n",
      "US            809          True\n",
      "AUS           731         False\n",
      "JAP           588         False\n",
      "IN             18         False\n",
      "RU            200          True\n",
      "MOR            70          True\n",
      "EG             45          True\n",
      "     cars_per_cap  drives_right\n",
      "US            809          True\n",
      "AUS           731         False\n",
      "JAP           588         False\n",
      "IN             18         False\n",
      "RU            200          True\n",
      "MOR            70          True\n",
      "EG             45          True\n"
     ]
    }
   ],
   "source": [
    "print(cars.loc[:,['cars_per_cap','drives_right']])\n",
    "print(cars.iloc[:,[0,2]])"
   ]
  },
  {
   "cell_type": "code",
   "execution_count": null,
   "id": "d0d16c71-fa43-4713-af1c-1e5446e0e995",
   "metadata": {},
   "outputs": [],
   "source": []
  }
 ],
 "metadata": {
  "kernelspec": {
   "display_name": "Python 3 (ipykernel)",
   "language": "python",
   "name": "python3"
  },
  "language_info": {
   "codemirror_mode": {
    "name": "ipython",
    "version": 3
   },
   "file_extension": ".py",
   "mimetype": "text/x-python",
   "name": "python",
   "nbconvert_exporter": "python",
   "pygments_lexer": "ipython3",
   "version": "3.9.9"
  }
 },
 "nbformat": 4,
 "nbformat_minor": 5
}
