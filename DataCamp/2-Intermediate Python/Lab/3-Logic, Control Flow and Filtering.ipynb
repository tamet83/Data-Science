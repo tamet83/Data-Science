{
 "cells": [
  {
   "cell_type": "markdown",
   "id": "d6ee080f-7fd9-4e59-adab-0924e2ae769b",
   "metadata": {},
   "source": [
    "# Logic, Control Flow and Filtering"
   ]
  },
  {
   "cell_type": "markdown",
   "id": "6e02a6ae-d7ba-4553-bc06-f4e7958f0f18",
   "metadata": {},
   "source": [
    "## Equality\n",
    "\n",
    "To check if two Python values, or variables, are equal you can use `==`. To check for inequality, you need `!=`. As a refresher, have a look at the following examples that all result in True. Feel free to try them out in the IPython Shell.\n",
    "```Python\n",
    "2 == (1 + 1)\n",
    "\"intermediate\" != \"python\"\n",
    "True != False\n",
    "\"Python\" != \"python\"\n",
    "```\n",
    "When you write these comparisons in a script, you will need to wrap a `print()` function around them to see the output."
   ]
  },
  {
   "cell_type": "markdown",
   "id": "e2322083-16d2-4865-b1d8-e25bf31a3d14",
   "metadata": {},
   "source": [
    "### Instructions\n",
    "- In the editor on the right, write code to see if `True` equals `False`.\n",
    "- Write Python code to check if `-5 * 15` is not equal to `75`.\n",
    "- Ask Python whether the strings `\"pyscript\"` and `\"PyScript\"` are equal.\n",
    "- What happens if you compare booleans and integers? Write code to see if `True` and `1` are equal."
   ]
  },
  {
   "cell_type": "code",
   "execution_count": 1,
   "id": "e196146e-0dfe-4184-a634-97dac1668a09",
   "metadata": {},
   "outputs": [
    {
     "name": "stdout",
     "output_type": "stream",
     "text": [
      "False\n",
      "True\n",
      "False\n",
      "True\n"
     ]
    }
   ],
   "source": [
    "# Comparison of booleans\n",
    "print(True==False)\n",
    "\n",
    "# Comparison of integers\n",
    "print(-5*15 != 75)\n",
    "\n",
    "# Comparison of strings\n",
    "print('pyscript' == 'PyScript')\n",
    "\n",
    "# Compare a boolean with an integer\n",
    "print(True==1)"
   ]
  },
  {
   "cell_type": "markdown",
   "id": "f8cae84b-d94f-4b1f-9321-fbc15b6b3c8d",
   "metadata": {},
   "source": [
    "### Greater and less than\n",
    "\n",
    "In the video, Hugo also talked about the less than and greater than signs, `<` and `>` in Python. You can combine them with an equals sign: `<=` and `>=`. Pay attention: `<=` is valid syntax, but `=<` is not.\n",
    "\n",
    "All Python expressions in the following code chunk evaluate to True:\n",
    "```Python\n",
    "3 < 4\n",
    "3 <= 4\n",
    "\"alpha\" <= \"beta\"\n",
    "```\n",
    "Remember that for string comparison, Python determines the relationship based on alphabetical order."
   ]
  },
  {
   "cell_type": "markdown",
   "id": "ff14a508-a45a-4b9c-87e9-00e5a4f7af62",
   "metadata": {},
   "source": [
    "### Instructions\n",
    "- Write Python expressions, wrapped in a `print()` function, to check whether:\n",
    "- x is greater than or equal to `-10`. `x` has already been defined for you.\n",
    "- `\"test\"` is less than or equal to `y`. `y` has already been defined for you.\n",
    "- `True` is greater than `False`."
   ]
  },
  {
   "cell_type": "code",
   "execution_count": 2,
   "id": "0d71026f-9916-4834-af93-1b8468513a59",
   "metadata": {},
   "outputs": [
    {
     "name": "stdout",
     "output_type": "stream",
     "text": [
      "False\n",
      "True\n",
      "True\n"
     ]
    }
   ],
   "source": [
    "# Comparison of integers\n",
    "x = -3 * 6\n",
    "print(x>=-10)\n",
    "\n",
    "# Comparison of strings\n",
    "y = \"test\"\n",
    "print('test'<=y)\n",
    "\n",
    "# Comparison of booleans\n",
    "print(True>False)"
   ]
  },
  {
   "cell_type": "markdown",
   "id": "215d0f0e-d4a8-4125-bb23-2b9aada9f0d2",
   "metadata": {},
   "source": [
    "## Compare arrays\n",
    "\n",
    "Out of the box, you can also use comparison operators with NumPy arrays.\n",
    "\n",
    "Remember `areas`, the list of area measurements for different rooms in your house from Introduction to Python? This time there's two NumPy arrays: `my_house` and `your_house`. They both contain the areas for the kitchen, living room, bedroom and bathroom in the same order, so you can compare them."
   ]
  },
  {
   "cell_type": "markdown",
   "id": "c24c14e1-004e-4589-b3af-6b9a35a1941e",
   "metadata": {},
   "source": [
    "### Instructions\n",
    "Using comparison operators, generate boolean arrays that answer the following questions:\n",
    "\n",
    "- Which areas in `my_house` are greater than or equal to - Which areas in `my_house` are greater than or equal to `18`?\n",
    "- You can also compare two NumPy arrays element-wise. Which areas in `my_house` are smaller than the ones in `your_house`?\n",
    "- Make sure to wrap both commands in a `print()` statement so that you can inspect the output!"
   ]
  },
  {
   "cell_type": "code",
   "execution_count": 7,
   "id": "7ecd4943-f75c-4a96-844d-e2f4d9074085",
   "metadata": {},
   "outputs": [
    {
     "name": "stdout",
     "output_type": "stream",
     "text": [
      "[ True  True False False]\n",
      "[False  True  True False]\n"
     ]
    }
   ],
   "source": [
    "# Create arrays\n",
    "import numpy as np\n",
    "my_house = np.array([18.0, 20.0, 10.75, 9.50])\n",
    "your_house = np.array([14.0, 24.0, 14.25, 9.0])\n",
    "\n",
    "# my_house greater than or equal to 18\n",
    "print(my_house >= 18)\n",
    "\n",
    "# my_house less than your_house\n",
    "print(my_house<your_house)"
   ]
  },
  {
   "cell_type": "markdown",
   "id": "455579c2-68ac-4185-8a60-f377f14f60c9",
   "metadata": {},
   "source": [
    "## and, or, not (1)\n",
    "\n",
    "A boolean is either `1` or `0`, `True` or `False`. With boolean operators such as `and`, `or` and `not`, you can combine these booleans to perform more advanced queries on your data.\n",
    "\n",
    "In the sample code, two variables are defined: `my_kitchen` and `your_kitchen`, representing areas."
   ]
  },
  {
   "cell_type": "markdown",
   "id": "04713a59-818a-43c1-af1e-4172395be587",
   "metadata": {},
   "source": [
    "### Instructions\n",
    "- Write Python expressions, wrapped in a print() function, to check whether:\n",
    "    - `my_kitchen` is bigger than `10` and smaller than `18`.\n",
    "    - `my_kitchen` is smaller than `14` or bigger than `17`.\n",
    "    - double the area of `my_kitchen` is smaller than triple the area of `your_kitchen`."
   ]
  },
  {
   "cell_type": "code",
   "execution_count": 8,
   "id": "bf6857da-5ec9-4101-8fdd-c7910dd77fa1",
   "metadata": {},
   "outputs": [
    {
     "name": "stdout",
     "output_type": "stream",
     "text": [
      "False\n",
      "True\n",
      "True\n"
     ]
    }
   ],
   "source": [
    "# Define variables\n",
    "my_kitchen = 18.0\n",
    "your_kitchen = 14.0\n",
    "\n",
    "# my_kitchen bigger than 10 and smaller than 18?\n",
    "print(my_kitchen>10 and my_kitchen<18)\n",
    "\n",
    "# my_kitchen smaller than 14 or bigger than 17?\n",
    "print(my_kitchen<14 or my_kitchen>17)\n",
    "\n",
    "# Double my_kitchen smaller than triple your_kitchen?\n",
    "print(2*my_kitchen<3*your_kitchen)"
   ]
  },
  {
   "cell_type": "markdown",
   "id": "97b54adf-ec49-43f6-abc7-5b4e67cd10bd",
   "metadata": {},
   "source": [
    "## and, or, not (2)\n",
    "\n",
    "To see if you completely understood the boolean operators, have a look at the following piece of Python code:\n",
    "```Python\n",
    "x = 8\n",
    "y = 9\n",
    "not(not(x < 3) and not(y > 14 or y > 10))\n",
    "```\n",
    "What will the result be if you execute these three commands in the IPython Shell?\n",
    "\n",
    "NB: Notice that not has a higher priority than and and or, it is executed first."
   ]
  },
  {
   "cell_type": "code",
   "execution_count": 9,
   "id": "a5c9dfa9-031d-46a4-a02b-877f93bcd555",
   "metadata": {},
   "outputs": [
    {
     "data": {
      "text/plain": [
       "False"
      ]
     },
     "execution_count": 9,
     "metadata": {},
     "output_type": "execute_result"
    }
   ],
   "source": [
    "x = 8\n",
    "y = 9\n",
    "not(not(x < 3) and not(y > 14 or y > 10))"
   ]
  },
  {
   "cell_type": "markdown",
   "id": "c755f95b-a26b-423f-a2f7-98f047f5f07b",
   "metadata": {},
   "source": [
    "## Boolean operators with NumPy\n",
    "\n",
    "Before, the operational operators like `<` and `>=` worked with NumPy arrays out of the box. Unfortunately, this is not true for the boolean operators `and`, `or`, and `not`.\n",
    "\n",
    "To use these operators with NumPy, you will need `np.logical_and()`, `np.logical_or()` and `np.logical_not()`. Here's an example on the my_house and your_house arrays from before to give you an idea:\n",
    "```Python\n",
    "np.logical_and(my_house > 13, \n",
    "               your_house < 15)\n",
    "```"
   ]
  },
  {
   "cell_type": "markdown",
   "id": "3213cbc2-31d4-438c-ad02-28efaaa2ea99",
   "metadata": {},
   "source": [
    "### Instructions\n",
    "Generate boolean arrays that answer the following questions:\n",
    "- Which areas in `my_house` are greater than `18.5` or smaller than `10`?\n",
    "- Which areas are smaller than `11` in both `my_house` and `your_house`? Make sure to wrap both commands in `print()` statement, so that you can inspect the output."
   ]
  },
  {
   "cell_type": "code",
   "execution_count": 10,
   "id": "cec46477-2053-4b12-9f3b-df633328a25a",
   "metadata": {},
   "outputs": [
    {
     "name": "stdout",
     "output_type": "stream",
     "text": [
      "[False  True False  True]\n",
      "[False False False  True]\n"
     ]
    }
   ],
   "source": [
    "# Create arrays\n",
    "import numpy as np\n",
    "my_house = np.array([18.0, 20.0, 10.75, 9.50])\n",
    "your_house = np.array([14.0, 24.0, 14.25, 9.0])\n",
    "\n",
    "# my_house greater than 18.5 or smaller than 10\n",
    "print(np.logical_or(my_house>18.5,my_house<10))\n",
    "\n",
    "# Both my_house and your_house smaller than 11\n",
    "print(np.logical_and(my_house<11,your_house<11))"
   ]
  },
  {
   "cell_type": "markdown",
   "id": "39c326f1-0af6-4e9e-b163-ecfab9dabc9a",
   "metadata": {},
   "source": [
    "## if\n",
    "\n",
    "It's time to take a closer look around in your house. Two variables are defined in the sample code: `room`, a string that tells you which room of the house we're looking at, and `area`, the area of that room."
   ]
  },
  {
   "cell_type": "markdown",
   "id": "6c3dea86-faea-4d45-8738-d7dd5f7c2d37",
   "metadata": {},
   "source": [
    "### Instructions\n",
    "- Examine the `if` statement that prints out `\"Looking around in the kitchen.\"` if room equals `\"kit\"`.\n",
    "- Write another `if` statement that prints out `\"big place!\"` if area is greater than `15`."
   ]
  },
  {
   "cell_type": "code",
   "execution_count": 12,
   "id": "d2a1ff34-aa8e-45df-8513-65ac4ad88015",
   "metadata": {},
   "outputs": [
    {
     "name": "stdout",
     "output_type": "stream",
     "text": [
      "looking around in the kitchen.\n"
     ]
    }
   ],
   "source": [
    "# Define variables\n",
    "room = \"kit\"\n",
    "area = 14.0\n",
    "\n",
    "# if statement for room\n",
    "if room == \"kit\" :\n",
    "    print(\"looking around in the kitchen.\")\n",
    "\n",
    "# if statement for area\n",
    "if area > 15:\n",
    "    print('big place!')"
   ]
  },
  {
   "cell_type": "markdown",
   "id": "a8c71daf-9809-4568-9d27-0760b67acb11",
   "metadata": {},
   "source": [
    "## Add else\n",
    "\n",
    "In the script, the `if` construct for `room` has been extended with an `else` statement so that \"looking around elsewhere.\" is printed if the condition `room == \"kit\"` evaluates to `False`.\n",
    "\n",
    "Can you do a similar thing to add more functionality to the `if` construct for `area`?"
   ]
  },
  {
   "cell_type": "markdown",
   "id": "d41f057a-e6da-4d5d-a553-aafd7c060f44",
   "metadata": {},
   "source": [
    "### Instructions\n",
    "Add an `else` statement to the second control structure so that `\"pretty small.\"` is printed out `if area > 15` evaluates to False."
   ]
  },
  {
   "cell_type": "code",
   "execution_count": 13,
   "id": "08b8aefe-e9ca-4ebc-8edf-16269559e4b8",
   "metadata": {},
   "outputs": [
    {
     "name": "stdout",
     "output_type": "stream",
     "text": [
      "looking around in the kitchen.\n",
      "pretty small.\n"
     ]
    }
   ],
   "source": [
    "# Define variables\n",
    "room = \"kit\"\n",
    "area = 14.0\n",
    "\n",
    "# if-else construct for room\n",
    "if room == \"kit\" :\n",
    "    print(\"looking around in the kitchen.\")\n",
    "else :\n",
    "    print(\"looking around elsewhere.\")\n",
    "\n",
    "# if-else construct for area\n",
    "if area > 15 :\n",
    "    print(\"big place!\")\n",
    "else:\n",
    "    print('pretty small.')"
   ]
  },
  {
   "cell_type": "markdown",
   "id": "6a21d702-a3a6-49fd-a00a-88ffce0e219c",
   "metadata": {},
   "source": [
    "## Customize further: elif\n",
    "\n",
    "It's also possible to have a look around in the bedroom. The sample code contains an `elif` part that checks if `room` equals \"bed\". In that case, \"looking around in the bedroom.\" is printed out.\n",
    "\n",
    "It's up to you now! Make a similar addition to the second control structure to further customize the messages for different values of `area`."
   ]
  },
  {
   "cell_type": "markdown",
   "id": "1e2683a0-5da2-447f-9452-90638cd6ee03",
   "metadata": {},
   "source": [
    "### Instructions\n",
    "Add an `elif` to the second control structure such that `\"medium size, nice!\"` is printed out if `area` is greater than `10`."
   ]
  },
  {
   "cell_type": "code",
   "execution_count": 14,
   "id": "baca5a5c-3be1-4835-932d-da2c5f398527",
   "metadata": {},
   "outputs": [
    {
     "name": "stdout",
     "output_type": "stream",
     "text": [
      "looking around in the bedroom.\n",
      "medium size, nice!\n"
     ]
    }
   ],
   "source": [
    "# Define variables\n",
    "room = \"bed\"\n",
    "area = 14.0\n",
    "\n",
    "# if-elif-else construct for room\n",
    "if room == \"kit\" :\n",
    "    print(\"looking around in the kitchen.\")\n",
    "elif room == \"bed\":\n",
    "    print(\"looking around in the bedroom.\")\n",
    "else :\n",
    "    print(\"looking around elsewhere.\")\n",
    "\n",
    "# if-elif-else construct for area\n",
    "if area > 15 :\n",
    "    print(\"big place!\")\n",
    "elif area > 10:\n",
    "    print('medium size, nice!')\n",
    "else :\n",
    "    print(\"pretty small.\")"
   ]
  },
  {
   "cell_type": "markdown",
   "id": "4b0c8e0a-61d8-4e6f-8643-b800d438ca1b",
   "metadata": {},
   "source": [
    "## Driving right (1)\n",
    "\n",
    "Remember that cars dataset, containing the `cars` per 1000 people (`cars_per_cap`) and whether people drive right (`drives_right`) for different countries (`country`)? The code that imports this data in CSV format into Python as a DataFrame is included in the script.\n",
    "\n",
    "In the video, you saw a step-by-step approach to filter observations from a DataFrame based on boolean arrays. Let's start simple and try to find all observations in `cars` where `drives_right` is `True`.\n",
    "\n",
    "`drives_right` is a boolean column, so you'll have to extract it as a Series and then use this boolean Series to select observations from `cars`."
   ]
  },
  {
   "cell_type": "markdown",
   "id": "497473c7-1630-4220-8113-06c4454d0a21",
   "metadata": {},
   "source": [
    "### Instructions\n",
    "- Extract the `drives_right` column as a Pandas Series and store it as `dr`.\n",
    "- Use `dr`, a boolean Series, to subset the `cars` DataFrame. Store the resulting selection in `sel`.\n",
    "- Print sel, and assert that `drives_right` is True for all observations."
   ]
  },
  {
   "cell_type": "code",
   "execution_count": 19,
   "id": "ebf246c4-2b5f-435b-b20a-9b9094a1bbf9",
   "metadata": {},
   "outputs": [
    {
     "data": {
      "text/html": [
       "<div>\n",
       "<style scoped>\n",
       "    .dataframe tbody tr th:only-of-type {\n",
       "        vertical-align: middle;\n",
       "    }\n",
       "\n",
       "    .dataframe tbody tr th {\n",
       "        vertical-align: top;\n",
       "    }\n",
       "\n",
       "    .dataframe thead th {\n",
       "        text-align: right;\n",
       "    }\n",
       "</style>\n",
       "<table border=\"1\" class=\"dataframe\">\n",
       "  <thead>\n",
       "    <tr style=\"text-align: right;\">\n",
       "      <th></th>\n",
       "      <th>cars_per_cap</th>\n",
       "      <th>country</th>\n",
       "      <th>drives_right</th>\n",
       "    </tr>\n",
       "  </thead>\n",
       "  <tbody>\n",
       "    <tr>\n",
       "      <th>US</th>\n",
       "      <td>809</td>\n",
       "      <td>United States</td>\n",
       "      <td>True</td>\n",
       "    </tr>\n",
       "    <tr>\n",
       "      <th>RU</th>\n",
       "      <td>200</td>\n",
       "      <td>Russia</td>\n",
       "      <td>True</td>\n",
       "    </tr>\n",
       "    <tr>\n",
       "      <th>MOR</th>\n",
       "      <td>70</td>\n",
       "      <td>Morocco</td>\n",
       "      <td>True</td>\n",
       "    </tr>\n",
       "    <tr>\n",
       "      <th>EG</th>\n",
       "      <td>45</td>\n",
       "      <td>Egypt</td>\n",
       "      <td>True</td>\n",
       "    </tr>\n",
       "  </tbody>\n",
       "</table>\n",
       "</div>"
      ],
      "text/plain": [
       "     cars_per_cap        country  drives_right\n",
       "US            809  United States          True\n",
       "RU            200         Russia          True\n",
       "MOR            70        Morocco          True\n",
       "EG             45          Egypt          True"
      ]
     },
     "execution_count": 19,
     "metadata": {},
     "output_type": "execute_result"
    }
   ],
   "source": [
    "# Import cars data\n",
    "import pandas as pd\n",
    "cars = pd.read_csv('dataset/cars.csv', index_col = 0)\n",
    "\n",
    "dr = cars['drives_right']\n",
    "sel = cars[dr]\n",
    "sel"
   ]
  },
  {
   "cell_type": "markdown",
   "id": "0266ca1c-87ff-4233-aaec-32a8e8e7970d",
   "metadata": {},
   "source": [
    "## Driving right (2)\n",
    "\n",
    "The code in the previous example worked fine, but you actually unnecessarily created a new variable dr. You can achieve the same result without this intermediate variable. Put the code that computes dr straight into the square brackets that select observations from cars."
   ]
  },
  {
   "cell_type": "markdown",
   "id": "9378ee2c-9204-4b20-900e-902825c215c9",
   "metadata": {},
   "source": [
    "### Instructions\n",
    "Convert the code to a one-liner that calculates the variable sel as before."
   ]
  },
  {
   "cell_type": "code",
   "execution_count": 20,
   "id": "46b691c8-676d-4907-8aae-60fcf53f3be5",
   "metadata": {},
   "outputs": [
    {
     "data": {
      "text/html": [
       "<div>\n",
       "<style scoped>\n",
       "    .dataframe tbody tr th:only-of-type {\n",
       "        vertical-align: middle;\n",
       "    }\n",
       "\n",
       "    .dataframe tbody tr th {\n",
       "        vertical-align: top;\n",
       "    }\n",
       "\n",
       "    .dataframe thead th {\n",
       "        text-align: right;\n",
       "    }\n",
       "</style>\n",
       "<table border=\"1\" class=\"dataframe\">\n",
       "  <thead>\n",
       "    <tr style=\"text-align: right;\">\n",
       "      <th></th>\n",
       "      <th>cars_per_cap</th>\n",
       "      <th>country</th>\n",
       "      <th>drives_right</th>\n",
       "    </tr>\n",
       "  </thead>\n",
       "  <tbody>\n",
       "    <tr>\n",
       "      <th>US</th>\n",
       "      <td>809</td>\n",
       "      <td>United States</td>\n",
       "      <td>True</td>\n",
       "    </tr>\n",
       "    <tr>\n",
       "      <th>RU</th>\n",
       "      <td>200</td>\n",
       "      <td>Russia</td>\n",
       "      <td>True</td>\n",
       "    </tr>\n",
       "    <tr>\n",
       "      <th>MOR</th>\n",
       "      <td>70</td>\n",
       "      <td>Morocco</td>\n",
       "      <td>True</td>\n",
       "    </tr>\n",
       "    <tr>\n",
       "      <th>EG</th>\n",
       "      <td>45</td>\n",
       "      <td>Egypt</td>\n",
       "      <td>True</td>\n",
       "    </tr>\n",
       "  </tbody>\n",
       "</table>\n",
       "</div>"
      ],
      "text/plain": [
       "     cars_per_cap        country  drives_right\n",
       "US            809  United States          True\n",
       "RU            200         Russia          True\n",
       "MOR            70        Morocco          True\n",
       "EG             45          Egypt          True"
      ]
     },
     "execution_count": 20,
     "metadata": {},
     "output_type": "execute_result"
    }
   ],
   "source": [
    "sel = cars[cars['drives_right']]\n",
    "sel"
   ]
  },
  {
   "cell_type": "markdown",
   "id": "5a765e94-4a6a-4059-bc03-99991e0dc9af",
   "metadata": {},
   "source": [
    "## Cars per capita (1)\n",
    "\n",
    "Let's stick to the cars data some more. This time you want to find out which countries have a high cars per capita figure. In other words, in which countries do many people have a car, or maybe multiple cars.\n",
    "\n",
    "Similar to the previous example, you'll want to build up a boolean Series, that you can then use to subset the cars DataFrame to select certain observations. If you want to do this in a one-liner, that's perfectly fine!"
   ]
  },
  {
   "cell_type": "markdown",
   "id": "09374cb3-7f8b-41ae-9c93-7e02574d00dc",
   "metadata": {},
   "source": [
    "### Instructions\n",
    "- Select the `cars_per_cap` column from `cars` as a Pandas Series and store it as `cpc`.\n",
    "- Use `cpc` in combination with a comparison operator and `500`. You want to end up with a boolean Series that's `True` if the corresponding country has a `cars_per_cap` of more than `500` and `False` otherwise. Store this boolean Series as `many_cars`.\n",
    "- Use `many_cars` to subset `cars`, similar to what you did before. Store the result as `car_maniac`.\n",
    "- Print out `car_maniac` to see if you got it right."
   ]
  },
  {
   "cell_type": "code",
   "execution_count": 23,
   "id": "2e9b9511-f578-4b11-a37b-d56ee305e4d2",
   "metadata": {},
   "outputs": [
    {
     "data": {
      "text/plain": [
       "US     809\n",
       "AUS    731\n",
       "JAP    588\n",
       "IN      18\n",
       "RU     200\n",
       "MOR     70\n",
       "EG      45\n",
       "Name: cars_per_cap, dtype: int64"
      ]
     },
     "execution_count": 23,
     "metadata": {},
     "output_type": "execute_result"
    }
   ],
   "source": [
    "cpc = cars['cars_per_cap']\n",
    "cpc"
   ]
  },
  {
   "cell_type": "code",
   "execution_count": 24,
   "id": "df8d3ae7-e035-4637-b4f9-d7be35048f3c",
   "metadata": {},
   "outputs": [
    {
     "data": {
      "text/plain": [
       "US      True\n",
       "AUS     True\n",
       "JAP     True\n",
       "IN     False\n",
       "RU     False\n",
       "MOR    False\n",
       "EG     False\n",
       "Name: cars_per_cap, dtype: bool"
      ]
     },
     "execution_count": 24,
     "metadata": {},
     "output_type": "execute_result"
    }
   ],
   "source": [
    "cpc = cpc > 500\n",
    "cpc"
   ]
  },
  {
   "cell_type": "code",
   "execution_count": 25,
   "id": "ca5620ec-30ac-42f0-b0c6-ec95c76b0b3f",
   "metadata": {},
   "outputs": [
    {
     "data": {
      "text/html": [
       "<div>\n",
       "<style scoped>\n",
       "    .dataframe tbody tr th:only-of-type {\n",
       "        vertical-align: middle;\n",
       "    }\n",
       "\n",
       "    .dataframe tbody tr th {\n",
       "        vertical-align: top;\n",
       "    }\n",
       "\n",
       "    .dataframe thead th {\n",
       "        text-align: right;\n",
       "    }\n",
       "</style>\n",
       "<table border=\"1\" class=\"dataframe\">\n",
       "  <thead>\n",
       "    <tr style=\"text-align: right;\">\n",
       "      <th></th>\n",
       "      <th>cars_per_cap</th>\n",
       "      <th>country</th>\n",
       "      <th>drives_right</th>\n",
       "    </tr>\n",
       "  </thead>\n",
       "  <tbody>\n",
       "    <tr>\n",
       "      <th>US</th>\n",
       "      <td>809</td>\n",
       "      <td>United States</td>\n",
       "      <td>True</td>\n",
       "    </tr>\n",
       "    <tr>\n",
       "      <th>AUS</th>\n",
       "      <td>731</td>\n",
       "      <td>Australia</td>\n",
       "      <td>False</td>\n",
       "    </tr>\n",
       "    <tr>\n",
       "      <th>JAP</th>\n",
       "      <td>588</td>\n",
       "      <td>Japan</td>\n",
       "      <td>False</td>\n",
       "    </tr>\n",
       "  </tbody>\n",
       "</table>\n",
       "</div>"
      ],
      "text/plain": [
       "     cars_per_cap        country  drives_right\n",
       "US            809  United States          True\n",
       "AUS           731      Australia         False\n",
       "JAP           588          Japan         False"
      ]
     },
     "execution_count": 25,
     "metadata": {},
     "output_type": "execute_result"
    }
   ],
   "source": [
    "many_cars = cars[cpc]\n",
    "many_cars"
   ]
  },
  {
   "cell_type": "code",
   "execution_count": 27,
   "id": "f3e77a8f-bb45-4852-924d-42fbc20d7f4d",
   "metadata": {},
   "outputs": [
    {
     "data": {
      "text/html": [
       "<div>\n",
       "<style scoped>\n",
       "    .dataframe tbody tr th:only-of-type {\n",
       "        vertical-align: middle;\n",
       "    }\n",
       "\n",
       "    .dataframe tbody tr th {\n",
       "        vertical-align: top;\n",
       "    }\n",
       "\n",
       "    .dataframe thead th {\n",
       "        text-align: right;\n",
       "    }\n",
       "</style>\n",
       "<table border=\"1\" class=\"dataframe\">\n",
       "  <thead>\n",
       "    <tr style=\"text-align: right;\">\n",
       "      <th></th>\n",
       "      <th>cars_per_cap</th>\n",
       "      <th>country</th>\n",
       "      <th>drives_right</th>\n",
       "    </tr>\n",
       "  </thead>\n",
       "  <tbody>\n",
       "    <tr>\n",
       "      <th>US</th>\n",
       "      <td>809</td>\n",
       "      <td>United States</td>\n",
       "      <td>True</td>\n",
       "    </tr>\n",
       "    <tr>\n",
       "      <th>AUS</th>\n",
       "      <td>731</td>\n",
       "      <td>Australia</td>\n",
       "      <td>False</td>\n",
       "    </tr>\n",
       "    <tr>\n",
       "      <th>JAP</th>\n",
       "      <td>588</td>\n",
       "      <td>Japan</td>\n",
       "      <td>False</td>\n",
       "    </tr>\n",
       "  </tbody>\n",
       "</table>\n",
       "</div>"
      ],
      "text/plain": [
       "     cars_per_cap        country  drives_right\n",
       "US            809  United States          True\n",
       "AUS           731      Australia         False\n",
       "JAP           588          Japan         False"
      ]
     },
     "execution_count": 27,
     "metadata": {},
     "output_type": "execute_result"
    }
   ],
   "source": [
    "# In just one line of code\n",
    "many_cars = cars[cars['cars_per_cap'] > 500]\n",
    "many_cars"
   ]
  },
  {
   "cell_type": "markdown",
   "id": "0a02dfdf-c262-4cf2-9833-2b73dfe0f0bc",
   "metadata": {},
   "source": [
    "## Cars per capita (2)\n",
    "\n",
    "Remember about `np.logical_and()`, `np.logical_or()` and `np.logical_not()`, the NumPy variants of the `and`, `or` and `not` operators? You can also use them on Pandas Series to do more advanced filtering operations.\n",
    "\n",
    "Take this example that selects the observations that have a cars_per_cap between 10 and 80. Try out these lines of code step by step to see what's happening.\n",
    "```Python\n",
    "cpc = cars['cars_per_cap']\n",
    "between = np.logical_and(cpc > 10, cpc < 80)\n",
    "medium = cars[between]\n",
    "```"
   ]
  },
  {
   "cell_type": "markdown",
   "id": "95677c58-c008-40a9-bc20-cf3f60663626",
   "metadata": {},
   "source": [
    "### Instructions\n",
    "- Use the code sample provided to create a DataFrame `medium`, that includes all the observations of `cars` that have a `cars_per_cap` between `100` and `500`.\n",
    "- Print out `medium`."
   ]
  },
  {
   "cell_type": "code",
   "execution_count": 30,
   "id": "e31e3670-1503-43a1-a813-d588f028eda4",
   "metadata": {},
   "outputs": [
    {
     "data": {
      "text/html": [
       "<div>\n",
       "<style scoped>\n",
       "    .dataframe tbody tr th:only-of-type {\n",
       "        vertical-align: middle;\n",
       "    }\n",
       "\n",
       "    .dataframe tbody tr th {\n",
       "        vertical-align: top;\n",
       "    }\n",
       "\n",
       "    .dataframe thead th {\n",
       "        text-align: right;\n",
       "    }\n",
       "</style>\n",
       "<table border=\"1\" class=\"dataframe\">\n",
       "  <thead>\n",
       "    <tr style=\"text-align: right;\">\n",
       "      <th></th>\n",
       "      <th>cars_per_cap</th>\n",
       "      <th>country</th>\n",
       "      <th>drives_right</th>\n",
       "    </tr>\n",
       "  </thead>\n",
       "  <tbody>\n",
       "    <tr>\n",
       "      <th>RU</th>\n",
       "      <td>200</td>\n",
       "      <td>Russia</td>\n",
       "      <td>True</td>\n",
       "    </tr>\n",
       "  </tbody>\n",
       "</table>\n",
       "</div>"
      ],
      "text/plain": [
       "    cars_per_cap country  drives_right\n",
       "RU           200  Russia          True"
      ]
     },
     "execution_count": 30,
     "metadata": {},
     "output_type": "execute_result"
    }
   ],
   "source": [
    "medium = cars[np.logical_and(cars['cars_per_cap'] > 100, cars['cars_per_cap'] < 500)]\n",
    "medium"
   ]
  }
 ],
 "metadata": {
  "kernelspec": {
   "display_name": "Python 3 (ipykernel)",
   "language": "python",
   "name": "python3"
  },
  "language_info": {
   "codemirror_mode": {
    "name": "ipython",
    "version": 3
   },
   "file_extension": ".py",
   "mimetype": "text/x-python",
   "name": "python",
   "nbconvert_exporter": "python",
   "pygments_lexer": "ipython3",
   "version": "3.9.9"
  }
 },
 "nbformat": 4,
 "nbformat_minor": 5
}
