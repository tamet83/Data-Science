{
 "cells": [
  {
   "cell_type": "markdown",
   "id": "26bc3a3c-25d4-4a17-9268-f38b42f304b4",
   "metadata": {},
   "source": [
    "# Writing your own functions\n",
    "In this chapter, you'll learn how to write simple functions, as well as functions that accept multiple arguments and return multiple values. You'll also have the opportunity to apply these new skills to questions commonly encountered by data scientists."
   ]
  },
  {
   "cell_type": "markdown",
   "id": "a50e41bb-8461-42ea-b5f9-fc8057ee8cc2",
   "metadata": {},
   "source": [
    "---\n",
    "## Strings in Python\n",
    "\n",
    "In the video, you learned of another standard Python datatype, strings. Recall that these represent textual data. To assign the string `'DataCamp'` to a variable `company`, you execute:\n",
    "```python\n",
    "company = 'DataCamp'\n",
    "```\n",
    "You've also learned to use the operations `+` and `*` with strings. Unlike with numeric types such as ints and floats, the `+` operator concatenates strings together, while the `*` concatenates multiple copies of a string together. In this exercise, you will use the `+` and `*` operations on strings to answer the question below. Execute the following code in the shell:\n",
    "\n",
    "```python\n",
    "object1 = \"data\" + \"analysis\" + \"visualization\"\n",
    "object2 = 1 * 3\n",
    "object3 = \"1\" * 3\n",
    "```\n",
    "What are the values in `object1`, `object2`, and `object3`, respectively?"
   ]
  },
  {
   "cell_type": "code",
   "execution_count": 1,
   "id": "ba584ade-8619-44a0-8969-e24babe216fb",
   "metadata": {},
   "outputs": [
    {
     "name": "stdout",
     "output_type": "stream",
     "text": [
      "1 - dataanalysisvisualization\n",
      "2 - 3\n",
      "3 - 111\n"
     ]
    }
   ],
   "source": [
    "object1 = \"data\" + \"analysis\" + \"visualization\"\n",
    "object2 = 1 * 3\n",
    "object3 = \"1\" * 3\n",
    "\n",
    "print('1 -',object1)\n",
    "print('2 -',object2)\n",
    "print('3 -',object3)"
   ]
  },
  {
   "cell_type": "markdown",
   "id": "5ac5c588-262b-4ca6-aa3e-db5fa67eb402",
   "metadata": {},
   "source": [
    "---\n",
    "## Write a simple function\n",
    "\n",
    "In the last video, Hugo described the basics of how to define a function. You will now write your own function!\n",
    "\n",
    "Define a function, `shout()`, which simply prints out a string with three exclamation marks '!!!' at the end. The code for the `square()` function that we wrote earlier is found below. You can use it as a pattern to define `shout()`.\n",
    "```python\n",
    "def square():\n",
    "    new_value = 4 ** 2\n",
    "    return new_value\n",
    "```\n",
    "Note that the function body is indented 4 spaces already for you. Function bodies need to be indented by a consistent number of spaces and the choice of 4 is common.\n",
    "\n",
    "This course touches on a lot of concepts you may have forgotten, so if you ever need a quick refresher, download the [Python for Data Science Cheat Sheet](https://datacamp-community-prod.s3.amazonaws.com/0eff0330-e87d-4c34-88d5-73e80cb955f2) and keep it handy!"
   ]
  },
  {
   "cell_type": "markdown",
   "id": "d4536118-eaad-432d-b3be-932f8bd35f6c",
   "metadata": {},
   "source": [
    "### Instructions\n",
    "- Complete the function header by adding the appropriate function name, `shout`.\n",
    "- In the function body, concatenate the string, `'congratulations'` with another string, `'!!!'`. Assign the result to `shout_word`.\n",
    "- Print the value of `shout_word`.\n",
    "- Call the `shout` function."
   ]
  },
  {
   "cell_type": "code",
   "execution_count": 2,
   "id": "ff9c7dc7-04dc-4650-9f32-30a006779975",
   "metadata": {},
   "outputs": [
    {
     "data": {
      "text/plain": [
       "'congratulations!!!'"
      ]
     },
     "execution_count": 2,
     "metadata": {},
     "output_type": "execute_result"
    }
   ],
   "source": [
    "# Define the function shout\n",
    "def shout():\n",
    "    \"\"\"Print a string with three exclamation marks\"\"\"\n",
    "    # Concatenate the strings: shout_word\n",
    "    shout_word = 'congratulations' + '!!!'\n",
    "    return shout_word\n",
    "\n",
    "    # Print shout_word\n",
    "    print(shout_word)\n",
    "\n",
    "# Call shout\n",
    "shout()"
   ]
  },
  {
   "cell_type": "markdown",
   "id": "cc060fdf-5324-4cee-9769-f780e187069a",
   "metadata": {},
   "source": [
    "---\n",
    "## Single-parameter functions\n",
    "\n",
    "Congratulations! You have successfully defined and called your own function! That's pretty cool.\n",
    "\n",
    "In the previous exercise, you defined and called the function `shout()`, which printed out a string concatenated with``'!!!'`. You will now update `shout()` by adding a parameter so that it can accept and process any string argument passed to it. Also note that `shout(word)`, the part of the header that specifies the function name and parameter(s), is known as the signature of the function. You may encounter this term in the wild!"
   ]
  },
  {
   "cell_type": "markdown",
   "id": "19e289c4-85f8-496e-be94-64584d383a5e",
   "metadata": {},
   "source": [
    "### Instructions\n",
    "- Complete the function header by adding the parameter name, `word`.\n",
    "- Assign the result of concatenating `word` with `'!!!'` to `shout_word`.\n",
    "- Print the value of `shout_word`.\n",
    "- Call the `shout()` function, passing to it the string, `'congratulations'`."
   ]
  },
  {
   "cell_type": "code",
   "execution_count": 3,
   "id": "5596b6d5-bd71-421c-8f7f-9fe786ab310f",
   "metadata": {},
   "outputs": [
    {
     "name": "stdout",
     "output_type": "stream",
     "text": [
      "congratulations!!!\n"
     ]
    }
   ],
   "source": [
    "# Define shout with the parameter, word\n",
    "def shout(word):\n",
    "    \"\"\"Print a string with three exclamation marks\"\"\"\n",
    "    # Concatenate the strings: shout_word\n",
    "    shout_word = word + '!!!'\n",
    "\n",
    "    # Print shout_word\n",
    "    print(shout_word)\n",
    "\n",
    "# Call shout with the string 'congratulations'\n",
    "shout('congratulations')"
   ]
  },
  {
   "cell_type": "markdown",
   "id": "195fb2b5-51df-4ba3-affb-9d4a15429fad",
   "metadata": {},
   "source": [
    "---\n",
    "## Functions that return single values\n",
    "\n",
    "You're getting very good at this! Try your hand at another modification to the `shout()` function so that it now returns a single value instead of printing within the function. Recall that the return keyword lets you `return` values from functions. Parts of the function `shout()`, which you wrote earlier, are shown. Returning values is generally more desirable than printing them out because, as you saw earlier, a `print()` call assigned to a variable has type `NoneType`."
   ]
  },
  {
   "cell_type": "markdown",
   "id": "700fa5d4-74a2-4aa7-b79b-679019cf3d9b",
   "metadata": {},
   "source": [
    "### Instructions\n",
    "- In the function body, concatenate the string in `word` with `'!!!'` and assign to `shout_word`.\n",
    "- Replace the `print()` statement with the appropriate `return` statement.\n",
    "- Call the `shout()` function, passing to it the string, `'congratulations'`, and assigning the call to the variable, `yell`.\n",
    "- To check if `yell` contains the value returned by `shout()`, print the value of yell."
   ]
  },
  {
   "cell_type": "code",
   "execution_count": 4,
   "id": "30315558-0c9a-46a6-b407-092fe9f535b2",
   "metadata": {},
   "outputs": [
    {
     "name": "stdout",
     "output_type": "stream",
     "text": [
      "congratulations!!!\n"
     ]
    }
   ],
   "source": [
    "# Define shout with the parameter, word\n",
    "def shout(word):\n",
    "    \"\"\"Return a string with three exclamation marks\"\"\"\n",
    "    # Concatenate the strings: shout_word\n",
    "    shout_word = word + '!!!'\n",
    "\n",
    "    # Replace print with return\n",
    "    return shout_word\n",
    "\n",
    "# Pass 'congratulations' to shout: yell\n",
    "yell = shout('congratulations')\n",
    "\n",
    "# Print yell\n",
    "print(yell)"
   ]
  },
  {
   "cell_type": "markdown",
   "id": "5e68983b-d9c7-4c03-9b23-869fbd0345b2",
   "metadata": {},
   "source": [
    "Here it made sense to assign the output of shout('congratulations') to a variable yell because the function shout actually returns a value, it does not merely print one."
   ]
  },
  {
   "cell_type": "markdown",
   "id": "3bf6f257-40d7-40da-be26-11ba7eb6b173",
   "metadata": {},
   "source": [
    "---\n",
    "## Functions with multiple parameters\n",
    "\n",
    "Hugo discussed the use of multiple parameters in defining functions in the last lecture. You are now going to use what you've learned to modify the `shout()` function further. Here, you will modify `shout()` to accept two arguments. Parts of the function `shout()`, which you wrote earlier, are shown."
   ]
  },
  {
   "cell_type": "markdown",
   "id": "a0fee5db-dbfa-4baf-8947-96c68a6bf7dd",
   "metadata": {},
   "source": [
    "### Instructions\n",
    "- Modify the function header such that it accepts two parameters, `word1` and `word2`, in that order.\n",
    "- Concatenate each of `word1` and `word2` with `'!!!'` and assign to `shout1` and `shout2`, respectively.\n",
    "- Concatenate `shout1` and `shout2` together, in that order, and assign to `new_shout`.\n",
    "- Pass the strings `'congratulations'` and `'you'`, in that order, to a call to `shout()`. Assign the return value to `yell`."
   ]
  },
  {
   "cell_type": "code",
   "execution_count": 5,
   "id": "c9ae19a4-5b06-4887-a122-cbd53f786d70",
   "metadata": {},
   "outputs": [
    {
     "name": "stdout",
     "output_type": "stream",
     "text": [
      "congratulations!!!you!!!\n"
     ]
    }
   ],
   "source": [
    "# Define shout with parameters word1 and word2\n",
    "def shout(word1, word2):\n",
    "    \"\"\"Concatenate strings with three exclamation marks\"\"\"\n",
    "    # Concatenate word1 with '!!!': shout1\n",
    "    shout1 = word1 + '!!!'\n",
    "    \n",
    "    # Concatenate word2 with '!!!': shout2\n",
    "    shout2 = word2 + '!!!'\n",
    "    \n",
    "    # Concatenate shout1 with shout2: new_shout\n",
    "    new_shout = shout1 + shout2\n",
    "\n",
    "    # Return new_shout\n",
    "    return new_shout\n",
    "\n",
    "# Pass 'congratulations' and 'you' to shout(): yell\n",
    "yell = shout('congratulations', 'you')\n",
    "\n",
    "# Print yell\n",
    "print(yell)"
   ]
  },
  {
   "cell_type": "markdown",
   "id": "6a990084-3e47-4c24-9f16-88b7f75e31a7",
   "metadata": {},
   "source": [
    "---\n",
    "## A brief introduction to tuples\n",
    "\n",
    "Alongside learning about functions, you've also learned about tuples! Here, you will practice what you've learned about tuples: how to construct, unpack, and access tuple elements. Recall how Hugo unpacked the tuple `even_nums` in the video:\n",
    "```python\n",
    "a, b, c = even_nums\n",
    "```\n",
    "\n",
    "A three-element tuple named `nums` has been preloaded for this exercise. Before completing the script, perform the following:\n",
    "\n",
    "- Print out the value of `nums` in the IPython shell. Note the elements in the tuple.\n",
    "- In the IPython shell, try to change the first element of nums to the value 2 by doing an assignment: `nums[0] = 2`. What happens?"
   ]
  },
  {
   "cell_type": "code",
   "execution_count": 6,
   "id": "829c66c5-0a96-442c-97ef-771aaf9f05f1",
   "metadata": {},
   "outputs": [],
   "source": [
    "nums = (3,4,5)"
   ]
  },
  {
   "cell_type": "code",
   "execution_count": 7,
   "id": "6fbff8bc-2fba-4009-bb0e-532531687a46",
   "metadata": {},
   "outputs": [
    {
     "ename": "TypeError",
     "evalue": "'tuple' object does not support item assignment",
     "output_type": "error",
     "traceback": [
      "\u001b[0;31m---------------------------------------------------------------------------\u001b[0m",
      "\u001b[0;31mTypeError\u001b[0m                                 Traceback (most recent call last)",
      "Input \u001b[0;32mIn [7]\u001b[0m, in \u001b[0;36m<module>\u001b[0;34m\u001b[0m\n\u001b[0;32m----> 1\u001b[0m nums[\u001b[38;5;241m0\u001b[39m] \u001b[38;5;241m=\u001b[39m \u001b[38;5;241m2\u001b[39m\n",
      "\u001b[0;31mTypeError\u001b[0m: 'tuple' object does not support item assignment"
     ]
    }
   ],
   "source": [
    "nums[0] = 2"
   ]
  },
  {
   "cell_type": "markdown",
   "id": "45d12b84-04c3-47c9-b62f-35a5f6763c4b",
   "metadata": {},
   "source": [
    "### Instructions\n",
    "- Unpack `nums` to the variables `num1`, `num2`, and `num3`.\n",
    "- Construct a new tuple, `even_nums` composed of the same elements in `nums`, but with the 1st element replaced with the value, 2."
   ]
  },
  {
   "cell_type": "code",
   "execution_count": 8,
   "id": "a88fd596-4cc2-467e-b001-c12881b44001",
   "metadata": {},
   "outputs": [],
   "source": [
    "# Unpack nums into num1, num2, and num3\n",
    "num1, num2 , num3 = nums\n",
    "\n",
    "# Construct even_nums\n",
    "even_nums = (2,num2,num3)"
   ]
  },
  {
   "cell_type": "markdown",
   "id": "beaf8467-f7c3-466c-b539-f3a855ceef69",
   "metadata": {},
   "source": [
    "---\n",
    "## Functions that return multiple values\n",
    "\n",
    "In the previous exercise, you constructed tuples, assigned tuples to variables, and unpacked tuples. Here you will return multiple values from a function using tuples. Let's now update our `shout()` function to return multiple values. Instead of returning just one string, we will return two strings with the string `!!!` concatenated to each.\n",
    "\n",
    "Note that the return statement `return x, y` has the same result as `return (x, y)`: the former actually packs `x` and `y` into a tuple under the hood!"
   ]
  },
  {
   "cell_type": "markdown",
   "id": "bf94e756-1a60-4560-b7a9-255492c679fa",
   "metadata": {},
   "source": [
    "### Instructions\n",
    "- Modify the function header such that the function name is now `shout_all`, and it accepts two parameters,`word1` and `word2`, in that order.\n",
    "- Concatenate the string `'!!!'` to each of `word1` and `word2` and assign to `shout1` and `shout2`, respectively.\n",
    "- Construct a tuple `shout_words`, composed of `shout1` and `shout2`.\n",
    "- Call `shout_all()` with the strings `'congratulations'` and `'you'` and assign the result to `yell1` and `yell2` (remember, `shout_all()` returns 2 variables!)."
   ]
  },
  {
   "cell_type": "code",
   "execution_count": 9,
   "id": "5a7e1dbf-40ac-4004-818d-caf7d7cad854",
   "metadata": {},
   "outputs": [
    {
     "name": "stdout",
     "output_type": "stream",
     "text": [
      "congratulations!!!\n",
      "you!!!\n"
     ]
    }
   ],
   "source": [
    "# Define shout_all with parameters word1 and word2\n",
    "def shout_all(word1, word2):\n",
    "    \n",
    "    # Concatenate word1 with '!!!': shout1\n",
    "    shout1 = word1 + '!!!'\n",
    "    \n",
    "    # Concatenate word2 with '!!!': shout2\n",
    "    shout2 = word2 + '!!!'\n",
    "    \n",
    "    # Construct a tuple with shout1 and shout2: shout_words\n",
    "    shout_words = (shout1, shout2)\n",
    "\n",
    "    # Return shout_words\n",
    "    return shout_words\n",
    "\n",
    "# Pass 'congratulations' and 'you' to shout_all(): yell1, yell2\n",
    "yell1, yell2 = shout_all('congratulations','you')\n",
    "\n",
    "# Print yell1 and yell2\n",
    "print(yell1)\n",
    "print(yell2)"
   ]
  },
  {
   "cell_type": "markdown",
   "id": "134c606a-c762-4b20-8023-59c0c75ae314",
   "metadata": {},
   "source": [
    "---\n",
    "## Bringing it all together (1)\n",
    "\n",
    "You've got your first taste of writing your own functions in the previous exercises. You've learned how to add parameters to your own function definitions, return a value or multiple values with tuples, and how to call the functions you've defined.\n",
    "\n",
    "In this and the following exercise, you will bring together all these concepts and apply them to a simple data science problem. You will load a dataset and develop functionalities to extract simple insights from the data.\n",
    "\n",
    "For this exercise, your goal is to recall how to load a dataset into a DataFrame. The dataset contains Twitter data and you will iterate over entries in a column to build a dictionary in which the keys are the names of languages and the values are the number of tweets in the given language. The file `tweets.csv` is available in your current directory.\n",
    "\n",
    "Be aware that this is real data from Twitter and as such there is always a risk that it may contain profanity or other offensive content (in this exercise, and any following exercises that also use real Twitter data)."
   ]
  },
  {
   "cell_type": "code",
   "execution_count": 10,
   "id": "1fe743f4-04e4-4a5a-bd43-3bb60e231f66",
   "metadata": {},
   "outputs": [
    {
     "data": {
      "text/html": [
       "<div>\n",
       "<style scoped>\n",
       "    .dataframe tbody tr th:only-of-type {\n",
       "        vertical-align: middle;\n",
       "    }\n",
       "\n",
       "    .dataframe tbody tr th {\n",
       "        vertical-align: top;\n",
       "    }\n",
       "\n",
       "    .dataframe thead th {\n",
       "        text-align: right;\n",
       "    }\n",
       "</style>\n",
       "<table border=\"1\" class=\"dataframe\">\n",
       "  <thead>\n",
       "    <tr style=\"text-align: right;\">\n",
       "      <th></th>\n",
       "      <th>contributors</th>\n",
       "      <th>coordinates</th>\n",
       "      <th>created_at</th>\n",
       "      <th>entities</th>\n",
       "      <th>extended_entities</th>\n",
       "      <th>favorite_count</th>\n",
       "      <th>favorited</th>\n",
       "      <th>filter_level</th>\n",
       "      <th>geo</th>\n",
       "      <th>id</th>\n",
       "      <th>...</th>\n",
       "      <th>quoted_status_id</th>\n",
       "      <th>quoted_status_id_str</th>\n",
       "      <th>retweet_count</th>\n",
       "      <th>retweeted</th>\n",
       "      <th>retweeted_status</th>\n",
       "      <th>source</th>\n",
       "      <th>text</th>\n",
       "      <th>timestamp_ms</th>\n",
       "      <th>truncated</th>\n",
       "      <th>user</th>\n",
       "    </tr>\n",
       "  </thead>\n",
       "  <tbody>\n",
       "    <tr>\n",
       "      <th>0</th>\n",
       "      <td>NaN</td>\n",
       "      <td>NaN</td>\n",
       "      <td>Tue Mar 29 23:40:17 +0000 2016</td>\n",
       "      <td>{'hashtags': [], 'user_mentions': [{'screen_na...</td>\n",
       "      <td>{'media': [{'sizes': {'large': {'w': 1024, 'h'...</td>\n",
       "      <td>0</td>\n",
       "      <td>False</td>\n",
       "      <td>low</td>\n",
       "      <td>NaN</td>\n",
       "      <td>714960401759387648</td>\n",
       "      <td>...</td>\n",
       "      <td>NaN</td>\n",
       "      <td>NaN</td>\n",
       "      <td>0</td>\n",
       "      <td>False</td>\n",
       "      <td>{'retweeted': False, 'text': \".@krollbondratin...</td>\n",
       "      <td>&lt;a href=\"http://twitter.com\" rel=\"nofollow\"&gt;Tw...</td>\n",
       "      <td>RT @bpolitics: .@krollbondrating's Christopher...</td>\n",
       "      <td>1459294817758</td>\n",
       "      <td>False</td>\n",
       "      <td>{'utc_offset': 3600, 'profile_image_url_https'...</td>\n",
       "    </tr>\n",
       "    <tr>\n",
       "      <th>1</th>\n",
       "      <td>NaN</td>\n",
       "      <td>NaN</td>\n",
       "      <td>Tue Mar 29 23:40:17 +0000 2016</td>\n",
       "      <td>{'hashtags': [{'text': 'cruzsexscandal', 'indi...</td>\n",
       "      <td>{'media': [{'sizes': {'large': {'w': 500, 'h':...</td>\n",
       "      <td>0</td>\n",
       "      <td>False</td>\n",
       "      <td>low</td>\n",
       "      <td>NaN</td>\n",
       "      <td>714960401977319424</td>\n",
       "      <td>...</td>\n",
       "      <td>NaN</td>\n",
       "      <td>NaN</td>\n",
       "      <td>0</td>\n",
       "      <td>False</td>\n",
       "      <td>{'retweeted': False, 'text': '@dmartosko Cruz ...</td>\n",
       "      <td>&lt;a href=\"http://twitter.com\" rel=\"nofollow\"&gt;Tw...</td>\n",
       "      <td>RT @HeidiAlpine: @dmartosko Cruz video found.....</td>\n",
       "      <td>1459294817810</td>\n",
       "      <td>False</td>\n",
       "      <td>{'utc_offset': None, 'profile_image_url_https'...</td>\n",
       "    </tr>\n",
       "  </tbody>\n",
       "</table>\n",
       "<p>2 rows × 31 columns</p>\n",
       "</div>"
      ],
      "text/plain": [
       "   contributors  coordinates                      created_at  \\\n",
       "0           NaN          NaN  Tue Mar 29 23:40:17 +0000 2016   \n",
       "1           NaN          NaN  Tue Mar 29 23:40:17 +0000 2016   \n",
       "\n",
       "                                            entities  \\\n",
       "0  {'hashtags': [], 'user_mentions': [{'screen_na...   \n",
       "1  {'hashtags': [{'text': 'cruzsexscandal', 'indi...   \n",
       "\n",
       "                                   extended_entities  favorite_count  \\\n",
       "0  {'media': [{'sizes': {'large': {'w': 1024, 'h'...               0   \n",
       "1  {'media': [{'sizes': {'large': {'w': 500, 'h':...               0   \n",
       "\n",
       "   favorited filter_level  geo                  id  ...  quoted_status_id  \\\n",
       "0      False          low  NaN  714960401759387648  ...               NaN   \n",
       "1      False          low  NaN  714960401977319424  ...               NaN   \n",
       "\n",
       "  quoted_status_id_str  retweet_count  retweeted  \\\n",
       "0                  NaN              0      False   \n",
       "1                  NaN              0      False   \n",
       "\n",
       "                                    retweeted_status  \\\n",
       "0  {'retweeted': False, 'text': \".@krollbondratin...   \n",
       "1  {'retweeted': False, 'text': '@dmartosko Cruz ...   \n",
       "\n",
       "                                              source  \\\n",
       "0  <a href=\"http://twitter.com\" rel=\"nofollow\">Tw...   \n",
       "1  <a href=\"http://twitter.com\" rel=\"nofollow\">Tw...   \n",
       "\n",
       "                                                text   timestamp_ms truncated  \\\n",
       "0  RT @bpolitics: .@krollbondrating's Christopher...  1459294817758     False   \n",
       "1  RT @HeidiAlpine: @dmartosko Cruz video found.....  1459294817810     False   \n",
       "\n",
       "                                                user  \n",
       "0  {'utc_offset': 3600, 'profile_image_url_https'...  \n",
       "1  {'utc_offset': None, 'profile_image_url_https'...  \n",
       "\n",
       "[2 rows x 31 columns]"
      ]
     },
     "execution_count": 10,
     "metadata": {},
     "output_type": "execute_result"
    }
   ],
   "source": [
    "import pandas as pd\n",
    "df = pd.read_csv('datasets/tweets.csv')\n",
    "df.head(2)"
   ]
  },
  {
   "cell_type": "code",
   "execution_count": 11,
   "id": "18d6d95b-a063-4f8e-a717-97db5fbbe7a1",
   "metadata": {},
   "outputs": [
    {
     "data": {
      "text/plain": [
       "Index(['contributors', 'coordinates', 'created_at', 'entities',\n",
       "       'extended_entities', 'favorite_count', 'favorited', 'filter_level',\n",
       "       'geo', 'id', 'id_str', 'in_reply_to_screen_name',\n",
       "       'in_reply_to_status_id', 'in_reply_to_status_id_str',\n",
       "       'in_reply_to_user_id', 'in_reply_to_user_id_str', 'is_quote_status',\n",
       "       'lang', 'place', 'possibly_sensitive', 'quoted_status',\n",
       "       'quoted_status_id', 'quoted_status_id_str', 'retweet_count',\n",
       "       'retweeted', 'retweeted_status', 'source', 'text', 'timestamp_ms',\n",
       "       'truncated', 'user'],\n",
       "      dtype='object')"
      ]
     },
     "execution_count": 11,
     "metadata": {},
     "output_type": "execute_result"
    }
   ],
   "source": [
    "df.columns"
   ]
  },
  {
   "cell_type": "markdown",
   "id": "17ffc05e-aa82-4736-9620-e21cda1c9d01",
   "metadata": {},
   "source": [
    "### Dictionaries review (for excercise)\n",
    "Following a short recap for dictionaries, necessary to do the excercise."
   ]
  },
  {
   "cell_type": "code",
   "execution_count": 12,
   "id": "7914a569-0189-4ed3-aef8-4113bf796a0e",
   "metadata": {},
   "outputs": [],
   "source": [
    "# Define a dictionary\n",
    "dict = {'home':1, 'dog':3, 'bike':10}"
   ]
  },
  {
   "cell_type": "code",
   "execution_count": 13,
   "id": "bc47cf27-b618-433c-9f82-ad96c337dae4",
   "metadata": {},
   "outputs": [
    {
     "data": {
      "text/plain": [
       "dict_keys(['home', 'dog', 'bike'])"
      ]
     },
     "execution_count": 13,
     "metadata": {},
     "output_type": "execute_result"
    }
   ],
   "source": [
    "# Extract keys\n",
    "dict.keys()"
   ]
  },
  {
   "cell_type": "code",
   "execution_count": 14,
   "id": "f9e53978-f4b3-4e99-aa29-071db663cd2d",
   "metadata": {},
   "outputs": [
    {
     "data": {
      "text/plain": [
       "{'home': 2, 'dog': 3, 'bike': 10}"
      ]
     },
     "execution_count": 14,
     "metadata": {},
     "output_type": "execute_result"
    }
   ],
   "source": [
    "# Add value to a key:\n",
    "dict['home'] += 1\n",
    "dict"
   ]
  },
  {
   "cell_type": "code",
   "execution_count": 15,
   "id": "3b45ab13-7074-4443-b102-9b22d992ac27",
   "metadata": {},
   "outputs": [
    {
     "data": {
      "text/plain": [
       "{'home': 2, 'dog': 3, 'bike': 10, 'test': 1}"
      ]
     },
     "execution_count": 15,
     "metadata": {},
     "output_type": "execute_result"
    }
   ],
   "source": [
    "# Add a key to dictionary\n",
    "dict['test'] = 1\n",
    "dict"
   ]
  },
  {
   "cell_type": "markdown",
   "id": "89941a11-a730-42b1-8c64-d4892f2edf96",
   "metadata": {},
   "source": [
    "### Instructions\n",
    "\n",
    "- Import the pandas package with the alias `pd`.\n",
    "- Import the file `'tweets.csv'` using the pandas function `read_csv()`. Assign the resulting DataFrame to `df`.\n",
    "- Complete the `for` loop by iterating over `col`, the `'lang'` column in the DataFrame df.\n",
    "- Complete the bodies of the `if-else` statements in the for loop: if the key is in the dictionary `langs_count`, add `1` to the value corresponding to this key in the dictionary, `else` add the key to `langs_count` and set the corresponding value to `1`. Use the loop variable `entry` in your code."
   ]
  },
  {
   "cell_type": "code",
   "execution_count": 16,
   "id": "a1a445ed-762e-4706-b1f7-18492a8738da",
   "metadata": {},
   "outputs": [
    {
     "name": "stdout",
     "output_type": "stream",
     "text": [
      "{'en': 97, 'et': 1, 'und': 2}\n"
     ]
    }
   ],
   "source": [
    "# Initialize an empty dictionary: langs_count\n",
    "langs_count = {}\n",
    "\n",
    "# Extract column from DataFrame: col\n",
    "col = df['lang']\n",
    "\n",
    "# Iterate over lang column in DataFrame\n",
    "for entry in col:\n",
    "\n",
    "    # If the language is in langs_count, add 1 \n",
    "    if entry in langs_count.keys():\n",
    "        langs_count[entry] += 1\n",
    "    # Else add the language to langs_count, set the value to 1\n",
    "    else:\n",
    "        langs_count[entry] = 1\n",
    "\n",
    "# Print the populated dictionary\n",
    "print(langs_count)"
   ]
  },
  {
   "cell_type": "markdown",
   "id": "e90ac5fa-a7f6-4b81-9640-9f9f9fd59b23",
   "metadata": {},
   "source": [
    "---\n",
    "## Bringing it all together (2)\n",
    "\n",
    "Great job! You've now defined the functionality for iterating over entries in a column and building a dictionary with keys the names of languages and values the number of tweets in the given language.\n",
    "\n",
    "In this exercise, you will define a function with the functionality you developed in the previous exercise, return the resulting dictionary from within the function, and call the function with the appropriate arguments.\n",
    "\n",
    "For your convenience, the pandas package has been imported as `pd` and the `'tweets.csv'` file has been imported into the `tweets_df` variable."
   ]
  },
  {
   "cell_type": "markdown",
   "id": "f4ea59e2-9f3c-46fe-9e88-24e86e9d78f3",
   "metadata": {},
   "source": [
    "### Instructions\n",
    "- Define the function `count_entries()`, which has two parameters. The first parameter is `df` for the DataFrame and the second is `col_name` for the column name.\n",
    "- Complete the bodies of the `if-else` statements in the `for` loop: if the key is in the dictionary `langs_count`, add `1` to its current value, `else` add the key to `langs_count` and set its value to `1`. Use the loop variable entry in your code.\n",
    "- Return the `langs_count` dictionary from inside the `count_entries()` function.\n",
    "- Call the `count_entries()` function by passing to it `tweets_df` and the name of the column, `'lang'`. Assign the result of the call to the variable `result`."
   ]
  },
  {
   "cell_type": "code",
   "execution_count": 17,
   "id": "d556bc49-7094-448a-a512-a276f32c8cb9",
   "metadata": {},
   "outputs": [],
   "source": [
    "tweets_df = df"
   ]
  },
  {
   "cell_type": "code",
   "execution_count": 19,
   "id": "2b86662c-644f-4861-a611-c83af15dbbda",
   "metadata": {},
   "outputs": [],
   "source": [
    "# Define count_entries()\n",
    "def count_entries(df, col_name):\n",
    "    \"\"\"Return a dictionary with counts of \n",
    "    occurrences as value for each key.\"\"\"\n",
    "\n",
    "    # Initialize an empty dictionary: langs_count\n",
    "    langs_count = {}\n",
    "    \n",
    "    # Extract column from DataFrame: col\n",
    "    col = df[col_name]\n",
    "    \n",
    "    # Iterate over lang column in DataFrame\n",
    "    for entry in col:\n",
    "\n",
    "        # If the language is in langs_count, add 1\n",
    "        if entry in langs_count.keys():\n",
    "            langs_count[entry] += 1\n",
    "        # Else add the language to langs_count, set the value to 1\n",
    "        else:\n",
    "            langs_count[entry] = 1\n",
    "\n",
    "    # Return the langs_count dictionary\n",
    "    return langs_count"
   ]
  },
  {
   "cell_type": "code",
   "execution_count": 20,
   "id": "7ef9b4d9-b72a-47a8-b69b-434befd7d7c7",
   "metadata": {},
   "outputs": [
    {
     "name": "stdout",
     "output_type": "stream",
     "text": [
      "{'en': 97, 'et': 1, 'und': 2}\n"
     ]
    }
   ],
   "source": [
    "# Call count_entries(): result\n",
    "result = count_entries(tweets_df, 'lang')\n",
    "\n",
    "# Print the result\n",
    "print(result)"
   ]
  },
  {
   "cell_type": "code",
   "execution_count": null,
   "id": "1e4682e6-fbd5-4d39-a365-b3bd90e04459",
   "metadata": {},
   "outputs": [],
   "source": []
  }
 ],
 "metadata": {
  "kernelspec": {
   "display_name": "Python 3 (ipykernel)",
   "language": "python",
   "name": "python3"
  },
  "language_info": {
   "codemirror_mode": {
    "name": "ipython",
    "version": 3
   },
   "file_extension": ".py",
   "mimetype": "text/x-python",
   "name": "python",
   "nbconvert_exporter": "python",
   "pygments_lexer": "ipython3",
   "version": "3.9.10"
  }
 },
 "nbformat": 4,
 "nbformat_minor": 5
}
