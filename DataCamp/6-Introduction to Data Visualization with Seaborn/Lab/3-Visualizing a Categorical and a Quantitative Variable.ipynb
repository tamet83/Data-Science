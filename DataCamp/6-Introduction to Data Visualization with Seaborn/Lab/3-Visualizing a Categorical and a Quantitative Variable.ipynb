{
 "cells": [
  {
   "cell_type": "markdown",
   "id": "010c31b5-cd57-4fe5-84d3-7dfb4b5850e7",
   "metadata": {},
   "source": [
    "# Visualizing a Categorical and a Quantitative Variable\n",
    "Categorical variables are present in nearly every dataset, but they are especially prominent in survey data. In this chapter, you will learn how to create and customize categorical plots such as box plots, bar plots, count plots, and point plots. Along the way, you will explore survey data from young people about their interests, students about their study habits, and adult men about their feelings about masculinity."
   ]
  },
  {
   "cell_type": "markdown",
   "id": "2d8e7cf7-744a-4026-b30a-18ea2ec64d85",
   "metadata": {},
   "source": [
    "---\n",
    "## Count plots\n",
    "\n",
    "In this exercise, we'll return to exploring our dataset that contains the responses to a survey sent out to young people. We might suspect that young people spend a lot of time on the internet, but how much do they report using the internet each day? Let's use a count plot to break down the number of survey responses in each category and then explore whether it changes based on age.\n",
    "\n",
    "As a reminder, to create a count plot, we'll use the `catplot()` function and specify the name of the categorical variable to count (`x=____`), the pandas DataFrame to use (`data=____`), and the type of plot (`kind=\"count\"`).\n",
    "\n",
    "Seaborn has been imported as `sns` and `matplotlib.pyplot` has been imported as `plt`."
   ]
  },
  {
   "cell_type": "code",
   "execution_count": 1,
   "id": "e6b42c83-7d14-4ebc-8e24-7081db8fbd8f",
   "metadata": {},
   "outputs": [
    {
     "data": {
      "text/html": [
       "<div>\n",
       "<style scoped>\n",
       "    .dataframe tbody tr th:only-of-type {\n",
       "        vertical-align: middle;\n",
       "    }\n",
       "\n",
       "    .dataframe tbody tr th {\n",
       "        vertical-align: top;\n",
       "    }\n",
       "\n",
       "    .dataframe thead th {\n",
       "        text-align: right;\n",
       "    }\n",
       "</style>\n",
       "<table border=\"1\" class=\"dataframe\">\n",
       "  <thead>\n",
       "    <tr style=\"text-align: right;\">\n",
       "      <th></th>\n",
       "      <th>Music</th>\n",
       "      <th>Techno</th>\n",
       "      <th>Movies</th>\n",
       "      <th>History</th>\n",
       "      <th>Mathematics</th>\n",
       "      <th>Pets</th>\n",
       "      <th>Spiders</th>\n",
       "      <th>Loneliness</th>\n",
       "      <th>Parents' advice</th>\n",
       "      <th>Internet usage</th>\n",
       "      <th>Finances</th>\n",
       "      <th>Age</th>\n",
       "      <th>Siblings</th>\n",
       "      <th>Gender</th>\n",
       "      <th>Village - town</th>\n",
       "    </tr>\n",
       "  </thead>\n",
       "  <tbody>\n",
       "    <tr>\n",
       "      <th>0</th>\n",
       "      <td>5.0</td>\n",
       "      <td>1.0</td>\n",
       "      <td>5.0</td>\n",
       "      <td>1.0</td>\n",
       "      <td>3.0</td>\n",
       "      <td>4.0</td>\n",
       "      <td>1.0</td>\n",
       "      <td>3.0</td>\n",
       "      <td>4.0</td>\n",
       "      <td>few hours a day</td>\n",
       "      <td>3.0</td>\n",
       "      <td>20.0</td>\n",
       "      <td>1.0</td>\n",
       "      <td>female</td>\n",
       "      <td>village</td>\n",
       "    </tr>\n",
       "    <tr>\n",
       "      <th>1</th>\n",
       "      <td>4.0</td>\n",
       "      <td>1.0</td>\n",
       "      <td>5.0</td>\n",
       "      <td>1.0</td>\n",
       "      <td>5.0</td>\n",
       "      <td>5.0</td>\n",
       "      <td>1.0</td>\n",
       "      <td>2.0</td>\n",
       "      <td>2.0</td>\n",
       "      <td>few hours a day</td>\n",
       "      <td>3.0</td>\n",
       "      <td>19.0</td>\n",
       "      <td>2.0</td>\n",
       "      <td>female</td>\n",
       "      <td>city</td>\n",
       "    </tr>\n",
       "  </tbody>\n",
       "</table>\n",
       "</div>"
      ],
      "text/plain": [
       "   Music  Techno  Movies  History  Mathematics  Pets  Spiders  Loneliness  \\\n",
       "0    5.0     1.0     5.0      1.0          3.0   4.0      1.0         3.0   \n",
       "1    4.0     1.0     5.0      1.0          5.0   5.0      1.0         2.0   \n",
       "\n",
       "   Parents' advice   Internet usage  Finances   Age  Siblings  Gender  \\\n",
       "0              4.0  few hours a day       3.0  20.0       1.0  female   \n",
       "1              2.0  few hours a day       3.0  19.0       2.0  female   \n",
       "\n",
       "  Village - town  \n",
       "0        village  \n",
       "1           city  "
      ]
     },
     "execution_count": 1,
     "metadata": {},
     "output_type": "execute_result"
    }
   ],
   "source": [
    "import matplotlib.pyplot as plt\n",
    "import pandas as pd\n",
    "import seaborn as sns\n",
    "import numpy as np\n",
    "\n",
    "survey_data = pd.read_csv('dataset/young-people-survey-responses.csv', index_col=0)\n",
    "#survey_data['Age category'] = np.nan\n",
    "survey_data.head(2)"
   ]
  },
  {
   "cell_type": "markdown",
   "id": "c3d8891a-803b-443b-893c-c218ed8fa39f",
   "metadata": {},
   "source": [
    "### Instructions 1/3\n",
    "Use `sns.catplot()` to create a count plot using the `survey_data` DataFrame with `\"Internet usage\"` on the `x-axis`."
   ]
  },
  {
   "cell_type": "code",
   "execution_count": 2,
   "id": "fc1b36fe-63e0-4764-a6e2-8a80a5b07a96",
   "metadata": {},
   "outputs": [
    {
     "data": {
      "text/plain": [
       "<seaborn.axisgrid.FacetGrid at 0x13fcae220>"
      ]
     },
     "execution_count": 2,
     "metadata": {},
     "output_type": "execute_result"
    },
    {
     "data": {
      "image/png": "[encoded data removed]",
      "text/plain": [
       "<Figure size 675x360 with 1 Axes>"
      ]
     },
     "metadata": {
      "needs_background": "light"
     },
     "output_type": "display_data"
    }
   ],
   "source": [
    "sns.catplot(data=survey_data, x='Internet usage', kind='count', aspect=15/8)\n",
    "plt.show()"
   ]
  },
  {
   "cell_type": "markdown",
   "id": "290ab7d6-978d-44a2-a76e-7fc4e8161036",
   "metadata": {},
   "source": [
    "### Instructions 2/3\n",
    "Make the bars horizontal instead of vertical."
   ]
  },
  {
   "cell_type": "code",
   "execution_count": 3,
   "id": "17fbcbb7-1bf4-4712-a086-64774fdf0988",
   "metadata": {},
   "outputs": [
    {
     "data": {
      "text/plain": [
       "<seaborn.axisgrid.FacetGrid at 0x14e0a57f0>"
      ]
     },
     "execution_count": 3,
     "metadata": {},
     "output_type": "execute_result"
    },
    {
     "data": {
      "image/png": "[encoded data removed]",
      "text/plain": [
       "<Figure size 675x360 with 1 Axes>"
      ]
     },
     "metadata": {
      "needs_background": "light"
     },
     "output_type": "display_data"
    }
   ],
   "source": [
    "sns.catplot(data=survey_data, y='Internet usage', kind='count', aspect=15/8)\n",
    "plt.show()"
   ]
  },
  {
   "cell_type": "markdown",
   "id": "24265d35-4ec2-471c-b938-b810777319f5",
   "metadata": {},
   "source": [
    "### Instructions 3/3\n",
    "Separate this plot into two side-by-side column subplots based on \"Age Category\", which separates respondents into those that are younger than 21 vs. 21 and older."
   ]
  },
  {
   "cell_type": "code",
   "execution_count": 4,
   "id": "f199ecd0-a410-425b-90a0-4b72f9ff9a94",
   "metadata": {},
   "outputs": [],
   "source": [
    "row=0\n",
    "for row in survey_data.index:\n",
    "    if survey_data.loc[row,'Age'] >= 21:\n",
    "        survey_data.loc[row,'Age Category'] = '21+'\n",
    "    else:\n",
    "        survey_data.loc[row,'Age Category'] = 'Less than 21'"
   ]
  },
  {
   "cell_type": "code",
   "execution_count": 5,
   "id": "cbade320-240b-49a0-8ce2-02f5a788f33e",
   "metadata": {},
   "outputs": [
    {
     "data": {
      "text/plain": [
       "<seaborn.axisgrid.FacetGrid at 0x107d307c0>"
      ]
     },
     "execution_count": 5,
     "metadata": {},
     "output_type": "execute_result"
    },
    {
     "data": {
      "image/png": "[encoded data removed]",
      "text/plain": [
       "<Figure size 1350x360 with 2 Axes>"
      ]
     },
     "metadata": {
      "needs_background": "light"
     },
     "output_type": "display_data"
    }
   ],
   "source": [
    "sns.catplot(data=survey_data, x='Internet usage', kind='count', col='Age Category',aspect=15/8)\n",
    "plt.show()"
   ]
  },
  {
   "cell_type": "markdown",
   "id": "72c43bd3-9ccd-4ec0-9a51-c0982dafb9b0",
   "metadata": {},
   "source": [
    "---\n",
    "## Bar plots with percentages\n",
    "\n",
    "Let's continue exploring the responses to a survey sent out to young people. The variable `\"Interested in Math\"` is `True` if the person reported being interested or very interested in mathematics, and `False` otherwise. What percentage of young people report being interested in math, and does this vary based on gender? Let's use a bar plot to find out.\n",
    "\n",
    "As a reminder, we'll create a bar plot using the `catplot()` function, providing the name of categorical variable to put on the x-axis (`x=____`), the name of the quantitative variable to summarize on the y-axis (`y=____`), the pandas DataFrame to use (`data=____`), and the type of categorical plot (`kind=\"bar\"`).\n",
    "\n",
    "Seaborn has been imported as sns and matplotlib.pyplot has been imported as plt."
   ]
  },
  {
   "cell_type": "code",
   "execution_count": 6,
   "id": "190edfaf-30bf-4ef6-97c7-261a3cb50e09",
   "metadata": {},
   "outputs": [
    {
     "data": {
      "text/html": [
       "<div>\n",
       "<style scoped>\n",
       "    .dataframe tbody tr th:only-of-type {\n",
       "        vertical-align: middle;\n",
       "    }\n",
       "\n",
       "    .dataframe tbody tr th {\n",
       "        vertical-align: top;\n",
       "    }\n",
       "\n",
       "    .dataframe thead th {\n",
       "        text-align: right;\n",
       "    }\n",
       "</style>\n",
       "<table border=\"1\" class=\"dataframe\">\n",
       "  <thead>\n",
       "    <tr style=\"text-align: right;\">\n",
       "      <th></th>\n",
       "      <th>Music</th>\n",
       "      <th>Techno</th>\n",
       "      <th>Movies</th>\n",
       "      <th>History</th>\n",
       "      <th>Mathematics</th>\n",
       "      <th>Pets</th>\n",
       "      <th>Spiders</th>\n",
       "      <th>Loneliness</th>\n",
       "      <th>Parents' advice</th>\n",
       "      <th>Internet usage</th>\n",
       "      <th>Finances</th>\n",
       "      <th>Age</th>\n",
       "      <th>Siblings</th>\n",
       "      <th>Gender</th>\n",
       "      <th>Village - town</th>\n",
       "      <th>Age Category</th>\n",
       "      <th>Interested in Math</th>\n",
       "    </tr>\n",
       "  </thead>\n",
       "  <tbody>\n",
       "    <tr>\n",
       "      <th>0</th>\n",
       "      <td>5.0</td>\n",
       "      <td>1.0</td>\n",
       "      <td>5.0</td>\n",
       "      <td>1.0</td>\n",
       "      <td>3.0</td>\n",
       "      <td>4.0</td>\n",
       "      <td>1.0</td>\n",
       "      <td>3.0</td>\n",
       "      <td>4.0</td>\n",
       "      <td>few hours a day</td>\n",
       "      <td>3.0</td>\n",
       "      <td>20.0</td>\n",
       "      <td>1.0</td>\n",
       "      <td>female</td>\n",
       "      <td>village</td>\n",
       "      <td>Less than 21</td>\n",
       "      <td>False</td>\n",
       "    </tr>\n",
       "    <tr>\n",
       "      <th>1</th>\n",
       "      <td>4.0</td>\n",
       "      <td>1.0</td>\n",
       "      <td>5.0</td>\n",
       "      <td>1.0</td>\n",
       "      <td>5.0</td>\n",
       "      <td>5.0</td>\n",
       "      <td>1.0</td>\n",
       "      <td>2.0</td>\n",
       "      <td>2.0</td>\n",
       "      <td>few hours a day</td>\n",
       "      <td>3.0</td>\n",
       "      <td>19.0</td>\n",
       "      <td>2.0</td>\n",
       "      <td>female</td>\n",
       "      <td>city</td>\n",
       "      <td>Less than 21</td>\n",
       "      <td>True</td>\n",
       "    </tr>\n",
       "  </tbody>\n",
       "</table>\n",
       "</div>"
      ],
      "text/plain": [
       "   Music  Techno  Movies  History  Mathematics  Pets  Spiders  Loneliness  \\\n",
       "0    5.0     1.0     5.0      1.0          3.0   4.0      1.0         3.0   \n",
       "1    4.0     1.0     5.0      1.0          5.0   5.0      1.0         2.0   \n",
       "\n",
       "   Parents' advice   Internet usage  Finances   Age  Siblings  Gender  \\\n",
       "0              4.0  few hours a day       3.0  20.0       1.0  female   \n",
       "1              2.0  few hours a day       3.0  19.0       2.0  female   \n",
       "\n",
       "  Village - town  Age Category  Interested in Math  \n",
       "0        village  Less than 21               False  \n",
       "1           city  Less than 21                True  "
      ]
     },
     "execution_count": 6,
     "metadata": {},
     "output_type": "execute_result"
    }
   ],
   "source": [
    "math = [False, True, True, True, False, False, False, False, False, False, False, False, False, False, False, False, False, False, True, False, False, False, False, False, False, False, False, False, False, False, False, False, False, False, False, False, False, False, False, False, False, True, True, False, False, True, False, False, False, False, True, True, False, False, False, False, True, False, False, False, True, False, True, False, False, False, True, True, True, False, False, False, False, False, False, False, False, False, False, False, False, False, False, False, False, True, True, False, False, False, False, False, False, True, False, False, False, True, False, True, False, False, True, False, False, False, False, False, False, False, False, False, False, False, False, False, False, True, True, True, True, True, False, False, False, False, False, False, False, False, False, False, True, False, False, False, False, False, False, False, False, True, False, False, False, False, False, True, True, True, False, False, False, False, False, False, False, False, False, False, True, False, False, False, False, False, False, False, False, False, True, False, False, True, False, False, True, False, False, False, True, False, False, False, False, True, False, False, False, False, True, False, False, False, False, False, False, False, False, False, False, False, False, False, True, False, True, False, False, True, True, False, True, False, False, False, False, False, False, False, False, True, False, False, False, True, False, False, False, True, False, False, True, False, True, False, False, True, False, False, False, True, False, True, False, False, True, False, False, False, False, False, False, False, False, False, False, True, True, False, False, True, False, False, False, False, True, False, True, False, False, False, False, False, False, False, False, False, False, False, False, False, False, True, True, False, False, False, False, False, False, False, False, True, False, False, True, False, False, False, False, False, False, True, False, True, True, True, False, False, False, False, False, False, True, False, False, False, False, False, False, False, False, False, False, False, True, False, True, False, False, False, True, False, False, False, True, True, False, False, False, False, True, False, False, False, False, False, False, False, False, True, False, False, True, True, True, False, False, False, True, False, False, False, False, False, True, False, False, True, False, True, False, False, False, False, False, True, True, False, False, False, False, True, True, False, False, False, True, False, False, True, False, False, True, True, True, True, True, True, True, False, False, False, False, False, False, False, False, False, True, False, False, False, False, False, True, True, False, False, False, True, False, False, False, False, False, False, False, False, False, True, False, True, False, False, False, False, False, False, False, False, False, False, True, False, False, False, True, False, False, False, False, False, False, False, True, True, False, False, False, False, False, False, False, False, False, False, True, False, False, False, True, False, True, False, False, True, False, False, False, False, True, True, True, False, False, False, False, False, False, False, False, False, True, False, False, False, False, False, False, True, False, True, True, False, False, False, False, False, False, True, False, True, False, True, False, False, False, False, False, False, False, False, False, False, True, True, True, False, False, False, False, False, False, False, False, False, False, False, False, False, False, False, False, False, True, False, False, False, False, False, False, False, True, False, False, False, False, False, False, False, False, False, False, False, False, False, False, False, False, True, False, False, False, False, False, True, False, True, False, False, False, False, False, False, False, False, False, False, True, False, False, False, False, False, False, False, False, True, False, False, False, False, False, False, False, False, True, True, False, False, False, False, False, False, False, False, False, True, False, False, False, False, False, False, False, False, True, False, False, True, False, False, False, False, False, True, False, False, False, False, True, False, True, False, False, False, False, False, True, False, True, False, False, False, True, False, True, False, False, False, True, False, False, False, False, False, True, False, False, False, False, False, False, False, False, True, False, False, False, False, True, False, False, False, False, False, False, False, False, False, False, False, True, False, False, True, False, False, False, False, True, False, False, True, False, False, False, False, True, False, False, False, False, False, True, False, False, True, False, False, False, False, False, False, False, False, True, True, False, True, False, True, True, False, False, False, True, True, False, True, True, False, False, True, True, False, False, False, True, False, False, False, True, True, False, False, False, True, False, False, False, False, False, False, False, False, False, True, False, False, False, False, False, False, False, False, False, False, True, False, False, False, False, False, False, False, False, False, False, False, False, True, False, True, True, False, False, True, True, False, False, False, False, False, False, False, False, False, False, False, False, False, False, True, False, False, False, False, False, False, False, False, False, False, False, False, False, False, True, False, False, False, False, True, False, True, False, False, False, False, False, False, True, False, False, False, False, True, False, True, False, False, False, True, True, False, False, False, False, False, True, False, False, False, False, False, False, False, False, True, False, False, False, False, True, False, True, True, False, False, False, False, True, False, True, False, False, False, True, False, True, False, False, False, False, True, False, False, False, False, False, True, False, False, False, False, False, False, True, True, False, False, False, False, False, False, False, False, False, False, False, False, False, False, False, False, False, False, False, False, False, False, False, False, False, True, True, False, False, False, False, True, False, True, False, False, True, False, False, False, True, False, True, True, False, False, False, False, False, True, False, False, False, False, False, True, True, False, True, False, False, False, True, False, True, False, False, False, False, False, False, False, False, False, True, False, True, False, False, False, True, False, False, True, False, False, True, True, False, False, False, False, False, False, True, False, False, False]\n",
    "survey_data['Interested in Math'] = math\n",
    "survey_data.head(2)"
   ]
  },
  {
   "cell_type": "markdown",
   "id": "b41fcdd7-ecf6-4b34-ae47-f65def241076",
   "metadata": {},
   "source": [
    "### Instructions\n",
    "Use the `survey_data` DataFrame and `sns.catplot()` to create a bar plot with `\"Gender\"` on the x-axis and `\"Interested in Math\"` on the y-axis."
   ]
  },
  {
   "cell_type": "code",
   "execution_count": 7,
   "id": "cc40adc3-38f7-4db8-8495-d4e125d3fa1a",
   "metadata": {},
   "outputs": [
    {
     "data": {
      "text/plain": [
       "<seaborn.axisgrid.FacetGrid at 0x14e1d8370>"
      ]
     },
     "execution_count": 7,
     "metadata": {},
     "output_type": "execute_result"
    },
    {
     "data": {
      "image/png": "[encoded data removed]",
      "text/plain": [
       "<Figure size 360x360 with 1 Axes>"
      ]
     },
     "metadata": {
      "needs_background": "light"
     },
     "output_type": "display_data"
    }
   ],
   "source": [
    "sns.catplot(data=survey_data, x='Gender', y='Interested in Math', kind='bar')\n",
    "plt.show()"
   ]
  },
  {
   "cell_type": "markdown",
   "id": "8dbe3203-0be6-4aff-bca1-27a37428cd4a",
   "metadata": {},
   "source": [
    "---\n",
    "## Customizing bar plots\n",
    "\n",
    "In this exercise, we'll explore data from students in secondary school. The `\"study_time\"` variable records each student's reported weekly study time as one of the following categories: `\"<2 hours\"`, `\"2 to 5 hours\"`, `\"5 to 10 hours\"`, or `\">10 hours\"`. Do students who report higher amounts of studying tend to get better final grades? Let's compare the average final grade among students in each category using a bar plot.\n",
    "\n",
    "Seaborn has been imported as sns and matplotlib.pyplot has been imported as plt."
   ]
  },
  {
   "cell_type": "code",
   "execution_count": 31,
   "id": "55a10124-1e50-4da2-beb2-f01aafdd7a47",
   "metadata": {},
   "outputs": [
    {
     "data": {
      "text/html": [
       "<div>\n",
       "<style scoped>\n",
       "    .dataframe tbody tr th:only-of-type {\n",
       "        vertical-align: middle;\n",
       "    }\n",
       "\n",
       "    .dataframe tbody tr th {\n",
       "        vertical-align: top;\n",
       "    }\n",
       "\n",
       "    .dataframe thead th {\n",
       "        text-align: right;\n",
       "    }\n",
       "</style>\n",
       "<table border=\"1\" class=\"dataframe\">\n",
       "  <thead>\n",
       "    <tr style=\"text-align: right;\">\n",
       "      <th></th>\n",
       "      <th>Unnamed: 0</th>\n",
       "      <th>school</th>\n",
       "      <th>sex</th>\n",
       "      <th>age</th>\n",
       "      <th>famsize</th>\n",
       "      <th>Pstatus</th>\n",
       "      <th>Medu</th>\n",
       "      <th>Fedu</th>\n",
       "      <th>traveltime</th>\n",
       "      <th>failures</th>\n",
       "      <th>...</th>\n",
       "      <th>goout</th>\n",
       "      <th>Dalc</th>\n",
       "      <th>Walc</th>\n",
       "      <th>health</th>\n",
       "      <th>absences</th>\n",
       "      <th>G1</th>\n",
       "      <th>G2</th>\n",
       "      <th>G3</th>\n",
       "      <th>location</th>\n",
       "      <th>study_time</th>\n",
       "    </tr>\n",
       "  </thead>\n",
       "  <tbody>\n",
       "    <tr>\n",
       "      <th>0</th>\n",
       "      <td>0</td>\n",
       "      <td>GP</td>\n",
       "      <td>F</td>\n",
       "      <td>18</td>\n",
       "      <td>GT3</td>\n",
       "      <td>A</td>\n",
       "      <td>4</td>\n",
       "      <td>4</td>\n",
       "      <td>2</td>\n",
       "      <td>0</td>\n",
       "      <td>...</td>\n",
       "      <td>4</td>\n",
       "      <td>1</td>\n",
       "      <td>1</td>\n",
       "      <td>3</td>\n",
       "      <td>6</td>\n",
       "      <td>5</td>\n",
       "      <td>6</td>\n",
       "      <td>6</td>\n",
       "      <td>Urban</td>\n",
       "      <td>2 to 5 hours</td>\n",
       "    </tr>\n",
       "    <tr>\n",
       "      <th>1</th>\n",
       "      <td>1</td>\n",
       "      <td>GP</td>\n",
       "      <td>F</td>\n",
       "      <td>17</td>\n",
       "      <td>GT3</td>\n",
       "      <td>T</td>\n",
       "      <td>1</td>\n",
       "      <td>1</td>\n",
       "      <td>1</td>\n",
       "      <td>0</td>\n",
       "      <td>...</td>\n",
       "      <td>3</td>\n",
       "      <td>1</td>\n",
       "      <td>1</td>\n",
       "      <td>3</td>\n",
       "      <td>4</td>\n",
       "      <td>5</td>\n",
       "      <td>5</td>\n",
       "      <td>6</td>\n",
       "      <td>Urban</td>\n",
       "      <td>2 to 5 hours</td>\n",
       "    </tr>\n",
       "  </tbody>\n",
       "</table>\n",
       "<p>2 rows × 30 columns</p>\n",
       "</div>"
      ],
      "text/plain": [
       "   Unnamed: 0 school sex  age famsize Pstatus  Medu  Fedu  traveltime  \\\n",
       "0           0     GP   F   18     GT3       A     4     4           2   \n",
       "1           1     GP   F   17     GT3       T     1     1           1   \n",
       "\n",
       "   failures  ... goout Dalc Walc health absences G1 G2 G3  location  \\\n",
       "0         0  ...     4    1    1      3        6  5  6  6     Urban   \n",
       "1         0  ...     3    1    1      3        4  5  5  6     Urban   \n",
       "\n",
       "     study_time  \n",
       "0  2 to 5 hours  \n",
       "1  2 to 5 hours  \n",
       "\n",
       "[2 rows x 30 columns]"
      ]
     },
     "execution_count": 31,
     "metadata": {},
     "output_type": "execute_result"
    }
   ],
   "source": [
    "student_data = pd.read_csv('dataset/student-alcohol-consumption.csv')\n",
    "student_data.head(2)"
   ]
  },
  {
   "cell_type": "code",
   "execution_count": 9,
   "id": "1478cf90-9053-41cb-9930-fd03762f0c9f",
   "metadata": {},
   "outputs": [
    {
     "data": {
      "text/plain": [
       "Index(['Unnamed: 0', 'school', 'sex', 'age', 'famsize', 'Pstatus', 'Medu',\n",
       "       'Fedu', 'traveltime', 'failures', 'schoolsup', 'famsup', 'paid',\n",
       "       'activities', 'nursery', 'higher', 'internet', 'romantic', 'famrel',\n",
       "       'freetime', 'goout', 'Dalc', 'Walc', 'health', 'absences', 'G1', 'G2',\n",
       "       'G3', 'location', 'study_time'],\n",
       "      dtype='object')"
      ]
     },
     "execution_count": 9,
     "metadata": {},
     "output_type": "execute_result"
    }
   ],
   "source": [
    "student_data.columns"
   ]
  },
  {
   "cell_type": "markdown",
   "id": "73c5bb4a-bef0-4c04-a4f6-1efe98ef40f5",
   "metadata": {},
   "source": [
    "### Instructions 1/3\n",
    "Use `sns.catplot()` to create a bar plot with `\"study_time\"` on the x-axis and final grade `(\"G3\")` on the y-axis, using the student_data DataFrame."
   ]
  },
  {
   "cell_type": "code",
   "execution_count": 10,
   "id": "52f27e13-a757-4cc5-b3dd-5a7fd8306cac",
   "metadata": {},
   "outputs": [
    {
     "data": {
      "text/plain": [
       "<seaborn.axisgrid.FacetGrid at 0x107d30580>"
      ]
     },
     "execution_count": 10,
     "metadata": {},
     "output_type": "execute_result"
    },
    {
     "data": {
      "image/png": "[encoded data removed]",
      "text/plain": [
       "<Figure size 360x360 with 1 Axes>"
      ]
     },
     "metadata": {
      "needs_background": "light"
     },
     "output_type": "display_data"
    }
   ],
   "source": [
    "sns.catplot(data=student_data, x='study_time', y='G3', kind='bar')\n",
    "plt.show()"
   ]
  },
  {
   "cell_type": "markdown",
   "id": "d54f28ee-3034-4256-b376-2eab10ec2ef7",
   "metadata": {},
   "source": [
    "### Instructions 2/3\n",
    "Using the `order` parameter and the `category_order` list that is provided, rearrange the bars so that they are in order from lowest study time to highest."
   ]
  },
  {
   "cell_type": "code",
   "execution_count": 11,
   "id": "06a4b61b-4acb-43f2-9c6d-a938209dc519",
   "metadata": {},
   "outputs": [
    {
     "data": {
      "text/plain": [
       "<seaborn.axisgrid.FacetGrid at 0x14e3689a0>"
      ]
     },
     "execution_count": 11,
     "metadata": {},
     "output_type": "execute_result"
    },
    {
     "data": {
      "image/png": "[encoded data removed]",
      "text/plain": [
       "<Figure size 360x360 with 1 Axes>"
      ]
     },
     "metadata": {
      "needs_background": "light"
     },
     "output_type": "display_data"
    }
   ],
   "source": [
    "category_order = [\"<2 hours\", \n",
    "                  \"2 to 5 hours\", \n",
    "                  \"5 to 10 hours\", \n",
    "                  \">10 hours\"]\n",
    "sns.catplot(data=student_data, x='study_time', y='G3', kind='bar',order=category_order)\n",
    "plt.show()"
   ]
  },
  {
   "cell_type": "markdown",
   "id": "1e17e844-168a-4de6-a76f-0a26b4b79725",
   "metadata": {},
   "source": [
    "### Instructions 3/3\n",
    "Update the plot so that it no longer displays confidence intervals"
   ]
  },
  {
   "cell_type": "code",
   "execution_count": 12,
   "id": "a82d1a84-4337-45bb-b3ed-83f4f057588c",
   "metadata": {},
   "outputs": [
    {
     "data": {
      "text/plain": [
       "<seaborn.axisgrid.FacetGrid at 0x14e17cf40>"
      ]
     },
     "execution_count": 12,
     "metadata": {},
     "output_type": "execute_result"
    },
    {
     "data": {
      "image/png": "[encoded data removed]",
      "text/plain": [
       "<Figure size 360x360 with 1 Axes>"
      ]
     },
     "metadata": {
      "needs_background": "light"
     },
     "output_type": "display_data"
    }
   ],
   "source": [
    "sns.catplot(data=student_data, x='study_time', y='G3', kind='bar',order=category_order, ci=None)\n",
    "plt.show()"
   ]
  },
  {
   "cell_type": "markdown",
   "id": "656ba180-8e1f-4a25-8ac3-964d7e3fe9ad",
   "metadata": {},
   "source": [
    "---\n",
    "## Create and interpret a box plot\n",
    "\n",
    "Let's continue using the `student_data` dataset. In an earlier exercise, we explored the relationship between studying and final grade by using a bar plot to compare the average final grade (`\"G3\"`) among students in different categories of `\"study_time\"`.\n",
    "\n",
    "In this exercise, we'll try using a box plot look at this relationship instead. As a reminder, to create a box plot you'll need to use the `catplot()` function and specify the name of the categorical variable to put on the x-axis (`x=____`), the name of the quantitative variable to summarize on the y-axis (`y=____`), the pandas DataFrame to use (`data=____`), and the type of plot (`kind=\"box\"`).\n",
    "\n",
    "We have already imported `matplotlib.pyplot` as `plt` and `seaborn` as `sns`."
   ]
  },
  {
   "cell_type": "markdown",
   "id": "64fab162-e0f4-4414-8049-4b92bee8a436",
   "metadata": {},
   "source": [
    "### Instructions\n",
    "Use `sns.catplot()` and the `student_data` DataFrame to create a box plot with `\"study_time\"` on the x-axis and `\"G3\"` on the y-axis. Set the ordering of the categories to `study_time_order`."
   ]
  },
  {
   "cell_type": "code",
   "execution_count": 13,
   "id": "ecce70cc-2300-4177-acf7-b1efeb686cef",
   "metadata": {},
   "outputs": [
    {
     "data": {
      "text/plain": [
       "<seaborn.axisgrid.FacetGrid at 0x14e076f70>"
      ]
     },
     "execution_count": 13,
     "metadata": {},
     "output_type": "execute_result"
    },
    {
     "data": {
      "image/png": "[encoded data removed]",
      "text/plain": [
       "<Figure size 600x360 with 1 Axes>"
      ]
     },
     "metadata": {
      "needs_background": "light"
     },
     "output_type": "display_data"
    }
   ],
   "source": [
    "# Specify the category ordering\n",
    "study_time_order = [\"<2 hours\", \"2 to 5 hours\", \n",
    "                    \"5 to 10 hours\", \">10 hours\"]\n",
    "\n",
    "# Create a box plot and set the order of the categories\n",
    "sns.catplot(data=student_data, x='study_time', y='G3', kind='box', order=study_time_order, aspect=15/9)\n",
    "plt.show()"
   ]
  },
  {
   "cell_type": "markdown",
   "id": "557e7229-02b4-42bd-a874-8387ec8ce359",
   "metadata": {},
   "source": [
    "---\n",
    "## Omitting outliers\n",
    "\n",
    "Now let's use the `student_data` dataset to compare the distribution of final grades (`\"G3\"`) between students who have `internet access` at home and those who don't. To do this, we'll use the \"internet\" variable, which is a binary (yes/no) indicator of whether the student has internet access at home.\n",
    "\n",
    "Since internet may be less accessible in rural areas, we'll add subgroups based on where the student lives. For this, we can use the `\"location\"` variable, which is an indicator of whether a student lives in an urban (\"Urban\") or rural (\"Rural\") location.\n",
    "\n",
    "`Seaborn` has already been imported as `sns` and `matplotlib.pyplot` has been imported as `plt`. As a reminder, you can omit outliers in box plots by setting the `sym` parameter equal to an empty string (`\"\"`)."
   ]
  },
  {
   "cell_type": "markdown",
   "id": "6eca5441-7b4e-44a5-af9b-92e3b0a80769",
   "metadata": {},
   "source": [
    "### Instructions\n",
    "- Use `sns.catplot()` to create a `box plot` with the `student_data` DataFrame, putting `\"internet\"` on the x-axis and `\"G3\"` on the y-axis.\n",
    "- Add `subgroups` so each box plot is colored based on `\"location\"`.\n",
    "- Do not display the outliers."
   ]
  },
  {
   "cell_type": "code",
   "execution_count": 14,
   "id": "7387954b-6385-478a-8f09-5d346ff8c7c0",
   "metadata": {},
   "outputs": [
    {
     "data": {
      "text/plain": [
       "<seaborn.axisgrid.FacetGrid at 0x14e43af10>"
      ]
     },
     "execution_count": 14,
     "metadata": {},
     "output_type": "execute_result"
    },
    {
     "data": {
      "image/png": "[encoded data removed]",
      "text/plain": [
       "<Figure size 741.25x360 with 1 Axes>"
      ]
     },
     "metadata": {
      "needs_background": "light"
     },
     "output_type": "display_data"
    }
   ],
   "source": [
    "sns.catplot(data=student_data, x='internet', y='G3', kind= 'box', hue='location',sym='', aspect=15/8)\n",
    "plt.show()"
   ]
  },
  {
   "cell_type": "markdown",
   "id": "dea0b8be-090e-47c3-bf91-64f104cfed59",
   "metadata": {},
   "source": [
    "---\n",
    "## Adjusting the whiskers\n",
    "\n",
    "In the lesson we saw that there are multiple ways to define the whiskers in a box plot. In this set of exercises, we'll continue to use the `student_data` dataset to compare the distribution of final grades (`\"G3\"`) between students who are in a romantic relationship and those that are not. We'll use the `\"romantic\"` variable, which is a yes/no indicator of whether the student is in a romantic relationship.\n",
    "\n",
    "Let's create a box plot to look at this relationship and try different ways to define the whiskers.\n",
    "\n",
    "We've already imported Seaborn as `sns` and `matplotlib.pyplot` as `plt`."
   ]
  },
  {
   "cell_type": "markdown",
   "id": "35cdba9d-4284-4032-86ac-279cde165857",
   "metadata": {},
   "source": [
    "### Instructions 1/3\n",
    "Adjust the code to make the box plot whiskers to extend to 0.5 * IQR. Recall: the IQR is the interquartile range."
   ]
  },
  {
   "cell_type": "code",
   "execution_count": 15,
   "id": "1b11d7ac-c4ad-41f6-a0d4-84cbafb14434",
   "metadata": {},
   "outputs": [
    {
     "data": {
      "text/plain": [
       "<seaborn.axisgrid.FacetGrid at 0x14e5293a0>"
      ]
     },
     "execution_count": 15,
     "metadata": {},
     "output_type": "execute_result"
    },
    {
     "data": {
      "image/png": "[encoded data removed]",
      "text/plain": [
       "<Figure size 450x360 with 1 Axes>"
      ]
     },
     "metadata": {
      "needs_background": "light"
     },
     "output_type": "display_data"
    }
   ],
   "source": [
    "sns.catplot(data= student_data, kind= 'box', x='romantic', y='G3', aspect=10/8, whis=0.5)\n",
    "plt.show()"
   ]
  },
  {
   "cell_type": "markdown",
   "id": "62ab805e-b1bc-4321-a21a-413bbe82f7b0",
   "metadata": {},
   "source": [
    "### Instructions 2/3\n",
    "Change the code to set the whiskers to extend to the 5th and 95th percentiles."
   ]
  },
  {
   "cell_type": "code",
   "execution_count": 16,
   "id": "9f02bd23-1de5-452d-9924-eb87ced08519",
   "metadata": {},
   "outputs": [
    {
     "data": {
      "text/plain": [
       "<seaborn.axisgrid.FacetGrid at 0x107d30970>"
      ]
     },
     "execution_count": 16,
     "metadata": {},
     "output_type": "execute_result"
    },
    {
     "data": {
      "image/png": "[encoded data removed]",
      "text/plain": [
       "<Figure size 450x360 with 1 Axes>"
      ]
     },
     "metadata": {
      "needs_background": "light"
     },
     "output_type": "display_data"
    }
   ],
   "source": [
    "sns.catplot(data= student_data, kind= 'box', x='romantic', y='G3', aspect=10/8, whis=[5,95])\n",
    "plt.show()"
   ]
  },
  {
   "cell_type": "markdown",
   "id": "29ce7815-7ccd-4a27-9efc-866b5b45322c",
   "metadata": {},
   "source": [
    "### Instructions 3/3\n",
    "Change the code to set the whiskers to extend to the min and max values."
   ]
  },
  {
   "cell_type": "code",
   "execution_count": 17,
   "id": "3f44137d-5e7c-49e1-860b-f1cacfc74f1d",
   "metadata": {},
   "outputs": [
    {
     "data": {
      "text/plain": [
       "<seaborn.axisgrid.FacetGrid at 0x14e48cd90>"
      ]
     },
     "execution_count": 17,
     "metadata": {},
     "output_type": "execute_result"
    },
    {
     "data": {
      "image/png": "[encoded data removed]",
      "text/plain": [
       "<Figure size 450x360 with 1 Axes>"
      ]
     },
     "metadata": {
      "needs_background": "light"
     },
     "output_type": "display_data"
    }
   ],
   "source": [
    "sns.catplot(data= student_data, kind= 'box', x='romantic', y='G3', aspect=10/8, whis=[0,100])\n",
    "plt.show()"
   ]
  },
  {
   "cell_type": "markdown",
   "id": "ced6ed83-6226-42a2-972d-06effb4f0a85",
   "metadata": {},
   "source": [
    "---\n",
    "## Customizing point plots\n",
    "\n",
    "Let's continue to look at data from students in secondary school, this time using a point plot to answer the question: does the quality of the student's family relationship influence the number of absences the student has in school? Here, we'll use the `\"famrel\"` variable, which describes the quality of a student's family relationship from 1 (very bad) to 5 (very good).\n",
    "\n",
    "As a reminder, to create a point plot, use the `catplot()` function and specify the name of the `categorical` variable to put on the x-axis (`x=____`), the name of the `quantitative` variable to summarize on the y-axis (`y=____`), the pandas DataFrame to use (`data=____`), and the type of categorical plot (`kind=\"point\"`).\n",
    "\n",
    "We've already imported Seaborn as sns and matplotlib.pyplot as plt."
   ]
  },
  {
   "cell_type": "markdown",
   "id": "f05d5d25-e6fa-4f27-97fb-acba8167f789",
   "metadata": {},
   "source": [
    "### Instructions 1/3\n",
    "Use `sns.catplot()` and the `student_data` DataFrame to create a point plot with `\"famrel\"` on the x-axis and number of absences (`\"absences\"`) on the y-axis."
   ]
  },
  {
   "cell_type": "code",
   "execution_count": 18,
   "id": "bd1bedd5-b051-4fc4-a6e5-fe3f25c616f4",
   "metadata": {},
   "outputs": [
    {
     "data": {
      "text/plain": [
       "<seaborn.axisgrid.FacetGrid at 0x14f050280>"
      ]
     },
     "execution_count": 18,
     "metadata": {},
     "output_type": "execute_result"
    },
    {
     "data": {
      "image/png": "[encoded data removed]",
      "text/plain": [
       "<Figure size 675x360 with 1 Axes>"
      ]
     },
     "metadata": {
      "needs_background": "light"
     },
     "output_type": "display_data"
    }
   ],
   "source": [
    "sns.catplot(data=student_data, kind='point', x= 'famrel', y='absences', aspect=15/8)\n",
    "plt.show()"
   ]
  },
  {
   "cell_type": "markdown",
   "id": "452555e8-ab3d-4e68-a100-75629cca6c74",
   "metadata": {},
   "source": [
    "### Instructions 2/3\n",
    "Add `\"caps\"` to the end of the confidence intervals with size `0.2`."
   ]
  },
  {
   "cell_type": "code",
   "execution_count": 23,
   "id": "4ae90d6d-361f-456e-9605-a961af7a8431",
   "metadata": {},
   "outputs": [
    {
     "data": {
      "text/plain": [
       "<seaborn.axisgrid.FacetGrid at 0x14ec8f430>"
      ]
     },
     "execution_count": 23,
     "metadata": {},
     "output_type": "execute_result"
    },
    {
     "data": {
      "image/png": "[encoded data removed]",
      "text/plain": [
       "<Figure size 675x360 with 1 Axes>"
      ]
     },
     "metadata": {
      "needs_background": "light"
     },
     "output_type": "display_data"
    }
   ],
   "source": [
    "sns.catplot(data=student_data, kind='point', x= 'famrel', y='absences', capsize= 0.2,aspect=15/8)\n",
    "plt.show()"
   ]
  },
  {
   "cell_type": "markdown",
   "id": "2f31257d-ea53-4b20-8c80-fb2b4545b8bb",
   "metadata": {},
   "source": [
    "### Instructions 3/3\n",
    "Remove the lines joining the points in each category."
   ]
  },
  {
   "cell_type": "code",
   "execution_count": 24,
   "id": "388b4e51-5aa6-4d3a-9d30-974e172329af",
   "metadata": {},
   "outputs": [
    {
     "data": {
      "text/plain": [
       "<seaborn.axisgrid.FacetGrid at 0x14ed8c700>"
      ]
     },
     "execution_count": 24,
     "metadata": {},
     "output_type": "execute_result"
    },
    {
     "data": {
      "image/png": "[encoded data removed]",
      "text/plain": [
       "<Figure size 675x360 with 1 Axes>"
      ]
     },
     "metadata": {
      "needs_background": "light"
     },
     "output_type": "display_data"
    }
   ],
   "source": [
    "sns.catplot(data=student_data, kind='point', x= 'famrel', y='absences', capsize= 0.2, join=False,aspect=15/8)\n",
    "plt.show()"
   ]
  },
  {
   "cell_type": "markdown",
   "id": "5e146878-5565-4047-beca-f623b19ed0ab",
   "metadata": {},
   "source": [
    "While the average number of absences is slightly smaller among students with higher-quality family relationships, the large confidence intervals tell us that we can't be sure there is an actual association here."
   ]
  },
  {
   "cell_type": "markdown",
   "id": "e7be241b-2e5b-4590-887b-4bcd976ab694",
   "metadata": {},
   "source": [
    "## Point plots with subgroups\n",
    "\n",
    "Let's continue exploring the dataset of students in secondary school. This time, we'll ask the question: is being in a romantic relationship associated with higher or lower school attendance? And does this association differ by which school the students attend? Let's find out using a point plot.\n",
    "\n",
    "We've already imported Seaborn as `sns` and `matplotlib.pyplot` as plt."
   ]
  },
  {
   "cell_type": "markdown",
   "id": "bafa91dd-9a00-49d5-a0e2-fe09d2cbb4cc",
   "metadata": {},
   "source": [
    "### Instructions 1/3\n",
    "Use `sns.catplot()` and the `student_data` DataFrame to create a point plot with relationship status (`\"romantic\"`) on the x-axis and number of absences (`\"absences\"`) on the y-axis. Color the points based on the school that they attend (`\"school\"`)."
   ]
  },
  {
   "cell_type": "code",
   "execution_count": 25,
   "id": "6e8980d9-0ad4-4500-bc10-09501d6358c5",
   "metadata": {},
   "outputs": [
    {
     "data": {
      "text/plain": [
       "<seaborn.axisgrid.FacetGrid at 0x14f0f9700>"
      ]
     },
     "execution_count": 25,
     "metadata": {},
     "output_type": "execute_result"
    },
    {
     "data": {
      "image/png": "[encoded data removed]",
      "text/plain": [
       "<Figure size 410.875x360 with 1 Axes>"
      ]
     },
     "metadata": {
      "needs_background": "light"
     },
     "output_type": "display_data"
    }
   ],
   "source": [
    "sns.catplot(data=student_data, kind='point', x='romantic', y='absences', hue='school')\n",
    "plt.show()"
   ]
  },
  {
   "cell_type": "markdown",
   "id": "fdc02aee-7265-4730-ba7b-bfe1fda22250",
   "metadata": {},
   "source": [
    "### Instructions 2/3\n",
    "Turn off the confidence intervals for the plot."
   ]
  },
  {
   "cell_type": "code",
   "execution_count": 27,
   "id": "462c46ad-b978-4565-aaeb-e8b403fc1c94",
   "metadata": {},
   "outputs": [
    {
     "data": {
      "text/plain": [
       "<seaborn.axisgrid.FacetGrid at 0x14f556070>"
      ]
     },
     "execution_count": 27,
     "metadata": {},
     "output_type": "execute_result"
    },
    {
     "data": {
      "image/png": "[encoded data removed]",
      "text/plain": [
       "<Figure size 410.875x360 with 1 Axes>"
      ]
     },
     "metadata": {
      "needs_background": "light"
     },
     "output_type": "display_data"
    }
   ],
   "source": [
    "sns.catplot(data=student_data, kind='point', x='romantic', y='absences', hue='school', ci=None)\n",
    "plt.show()"
   ]
  },
  {
   "cell_type": "markdown",
   "id": "672da40d-c87d-4aa4-b55d-d44b8799d2b8",
   "metadata": {},
   "source": [
    "### Instructions 3/3\n",
    "Since there may be outliers of students with many absences, use the median function that we've imported from numpy to display the median number of absences instead of the average."
   ]
  },
  {
   "cell_type": "code",
   "execution_count": 29,
   "id": "1a5bba00-9f82-42a9-9da4-4091361578ef",
   "metadata": {},
   "outputs": [
    {
     "data": {
      "text/plain": [
       "<seaborn.axisgrid.FacetGrid at 0x14f5936d0>"
      ]
     },
     "execution_count": 29,
     "metadata": {},
     "output_type": "execute_result"
    },
    {
     "data": {
      "image/png": "[encoded data removed]",
      "text/plain": [
       "<Figure size 410.875x360 with 1 Axes>"
      ]
     },
     "metadata": {
      "needs_background": "light"
     },
     "output_type": "display_data"
    }
   ],
   "source": [
    "from numpy import median\n",
    "\n",
    "sns.catplot(data=student_data, kind='point', x='romantic', y='absences', hue='school', ci=None, estimator=median)\n",
    "plt.show()"
   ]
  },
  {
   "cell_type": "markdown",
   "id": "7ac9b85d-a08a-4dbc-8bbf-37cca8777e6e",
   "metadata": {},
   "source": [
    "It looks like students in romantic relationships have a higher average and median number of absences in the GP school, but this association does not hold for the MS school."
   ]
  }
 ],
 "metadata": {
  "kernelspec": {
   "display_name": "Python 3 (ipykernel)",
   "language": "python",
   "name": "python3"
  },
  "language_info": {
   "codemirror_mode": {
    "name": "ipython",
    "version": 3
   },
   "file_extension": ".py",
   "mimetype": "text/x-python",
   "name": "python",
   "nbconvert_exporter": "python",
   "pygments_lexer": "ipython3",
   "version": "3.9.10"
  }
 },
 "nbformat": 4,
 "nbformat_minor": 5
}
