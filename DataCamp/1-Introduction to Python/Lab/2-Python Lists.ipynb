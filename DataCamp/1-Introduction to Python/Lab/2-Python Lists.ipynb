{
 "cells": [
  {
   "cell_type": "markdown",
   "id": "08d501aa-902c-4923-be47-021f54be5390",
   "metadata": {},
   "source": [
    "# Python Basics"
   ]
  },
  {
   "cell_type": "markdown",
   "id": "879a8dd1-d0ab-4c1f-97a6-47be1bc794d1",
   "metadata": {},
   "source": [
    "## Create a list\n",
    "\n",
    "As opposed to `int`, `bool` etc., a list is a compound data type; you can group values together:\n",
    "```\n",
    "a = \"is\"\n",
    "b = \"nice\"\n",
    "my_list = [\"my\", \"list\", a, b]\n",
    "```\n",
    "After measuring the height of your family, you decide to collect some information on the house you're living in. The areas of the different parts of your house are stored in separate variables for now, as shown in the script."
   ]
  },
  {
   "cell_type": "markdown",
   "id": "75ad0ac5-75cf-475d-940a-3f59fdfa9a93",
   "metadata": {},
   "source": [
    "**1.** Create a list, `areas`, that contains the area of the hallway (`hall`), kitchen (`kit`), living room (`liv`), bedroom (`bed`) and bathroom (`bath`), in this order. Use the predefined variables."
   ]
  },
  {
   "cell_type": "code",
   "execution_count": 1,
   "id": "e586f476-6cad-42c0-8cf7-0b84862c6a8f",
   "metadata": {},
   "outputs": [
    {
     "name": "stdout",
     "output_type": "stream",
     "text": [
      "[11.25, 18.0, 20.0, 10.75, 9.5]\n"
     ]
    }
   ],
   "source": [
    "# area variables (in square meters)\n",
    "hall = 11.25\n",
    "kit = 18.0\n",
    "liv = 20.0\n",
    "bed = 10.75\n",
    "bath = 9.50\n",
    "\n",
    "# Create list areas\n",
    "areas = [hall, kit, liv, bed, bath]\n",
    "\n",
    "# Print areas\n",
    "print(areas)"
   ]
  },
  {
   "cell_type": "markdown",
   "id": "0b73cc94-c6a1-4b18-87f2-2cbc601b2c27",
   "metadata": {},
   "source": [
    "## Create list with different types\n",
    "\n",
    "A list can contain any Python type. Although it's not really common, a list can also contain a mix of Python types including strings, floats, booleans, etc.\\\n",
    "The printout of the previous exercise wasn't really satisfying. It's just a list of numbers representing the areas, but you can't tell which area corresponds to which part of your house.\\\n",
    "The code in the editor is the start of a solution. For some of the areas, the name of the corresponding room is already placed in front. Pay attention here! `\"bathroom\"` is a string, while `bath` is a variable that represents the float `9.50` you specified earlier."
   ]
  },
  {
   "cell_type": "code",
   "execution_count": 2,
   "id": "900fa7c6-d9f0-4526-908e-51da60278548",
   "metadata": {},
   "outputs": [
    {
     "name": "stdout",
     "output_type": "stream",
     "text": [
      "['hallway', 11.25, 'kitchen', 18.0, 'living room', 20.0, 'bedroom', 10.75, 'bathroom', 9.5]\n"
     ]
    }
   ],
   "source": [
    "# area variables (in square meters)\n",
    "hall = 11.25\n",
    "kit = 18.0\n",
    "liv = 20.0\n",
    "bed = 10.75\n",
    "bath = 9.50\n",
    "\n",
    "# Adapt list areas\n",
    "areas = [\"hallway\", hall, \"kitchen\", kit, \"living room\",liv, \"bedroom\",bed, \"bathroom\", bath]\n",
    "\n",
    "# Print areas\n",
    "print(areas)"
   ]
  },
  {
   "cell_type": "markdown",
   "id": "298a9709-4425-4372-9f3b-f4f6330b33f2",
   "metadata": {},
   "source": [
    "## List of lists\n",
    "\n",
    "As a data scientist, you'll often be dealing with a lot of data, and it will make sense to group some of this data.\n",
    "\n",
    "Instead of creating a flat list containing strings and floats, representing the names and areas of the rooms in your house, you can create a list of lists. The script in the editor can already give you an idea.\n",
    "\n",
    "Don't get confused here: `\"hallway\"` is a string, while `hall` is a variable that represents the float `11.25` you specified earlier."
   ]
  },
  {
   "cell_type": "markdown",
   "id": "dffc3325-b26a-4f67-a9bf-488b05120051",
   "metadata": {},
   "source": [
    "- Finish the list of lists so that it also contains the bedroom and bathroom data. Make sure you enter these in order!\n",
    "- Print out `house`; does this way of structuring your data make more sense?\n",
    "- Print out the type of `house`. Are you still dealing with a list?"
   ]
  },
  {
   "cell_type": "code",
   "execution_count": 3,
   "id": "d99cfed0-9a3f-4adf-960d-addc604155bc",
   "metadata": {},
   "outputs": [
    {
     "name": "stdout",
     "output_type": "stream",
     "text": [
      "[['hallway', 11.25], ['kitchen', 18.0], ['living room', 20.0], ['bedroom', 10.75], ['bathroom', 9.5]]\n",
      "<class 'list'>\n"
     ]
    }
   ],
   "source": [
    "# area variables (in square meters)\n",
    "hall = 11.25\n",
    "kit = 18.0\n",
    "liv = 20.0\n",
    "bed = 10.75\n",
    "bath = 9.50\n",
    "\n",
    "# house information as list of lists\n",
    "house = [[\"hallway\", hall],\n",
    "         [\"kitchen\", kit],\n",
    "         [\"living room\", liv],\n",
    "         [\"bedroom\", bed],\n",
    "         [\"bathroom\", bath]]\n",
    "\n",
    "# Print out house\n",
    "print(house)\n",
    "\n",
    "# Print out the type of house\n",
    "print(type(house))"
   ]
  },
  {
   "cell_type": "markdown",
   "id": "1b147415-e550-4ad4-9bec-427a4de2fca9",
   "metadata": {},
   "source": [
    "## Subset and conquer\n",
    "\n",
    "Subsetting Python lists is a piece of cake. Take the code sample below, which creates a list `x` and then selects \"b\" from it. Remember that this is the second element, so it has index 1. You can also use negative indexing.\n",
    "```\n",
    "x = [\"a\", \"b\", \"c\", \"d\"]\n",
    "x[1]\n",
    "x[-3] # same result!\n",
    "```\n",
    "Remember the `areas` list from before, containing both strings and floats? Its definition is already in the script. Can you add the correct code to do some Python subsetting?"
   ]
  },
  {
   "cell_type": "markdown",
   "id": "1b258def-f4c3-41bd-8b81-bf5350993ea3",
   "metadata": {},
   "source": [
    "- Print out the second element from the `areas` list (it has the value `11.25`).\n",
    "- Subset and print out the last element of `areas`, being `9.50`. Using a negative index makes sense here!\n",
    "- Select the number representing the area of the living room (`20.0`) and print it out."
   ]
  },
  {
   "cell_type": "code",
   "execution_count": 4,
   "id": "1ee6fac2-e9be-4384-8126-2d5cb57334ca",
   "metadata": {},
   "outputs": [
    {
     "name": "stdout",
     "output_type": "stream",
     "text": [
      "11.25\n",
      "9.5\n",
      "20.0\n"
     ]
    }
   ],
   "source": [
    "# Create the areas list\n",
    "areas = [\"hallway\", 11.25, \"kitchen\", 18.0, \"living room\", 20.0, \"bedroom\", 10.75, \"bathroom\", 9.50]\n",
    "\n",
    "# Print out second element from areas\n",
    "print(areas[1])\n",
    "\n",
    "# Print out last element from areas\n",
    "print(areas[-1])\n",
    "\n",
    "# Print out the area of the living room\n",
    "print(areas[5])"
   ]
  },
  {
   "cell_type": "markdown",
   "id": "8c87e1b8-3fc4-49ab-822d-21e8a84c51e8",
   "metadata": {},
   "source": [
    "## Subset and calculate\n",
    "\n",
    "After you've extracted values from a list, you can use them to perform additional calculations. Take this example, where the second and fourth element of a list x are extracted. The strings that result are pasted together using the + operator:\n",
    "```\n",
    "x = [\"a\", \"b\", \"c\", \"d\"]\n",
    "print(x[1] + x[3])\n",
    "```"
   ]
  },
  {
   "cell_type": "markdown",
   "id": "f63c9272-85c5-45ed-967c-aafb088a43aa",
   "metadata": {},
   "source": [
    "- Using a combination of list subsetting and variable assignment, create a new variable, `eat_sleep_area`, that contains the sum of the area of the kitchen and the area of the bedroom.\n",
    "- Print the new variable `eat_sleep_area`."
   ]
  },
  {
   "cell_type": "code",
   "execution_count": 5,
   "id": "4fdb6dc8-b946-419b-9582-3d6e47654cd8",
   "metadata": {},
   "outputs": [
    {
     "name": "stdout",
     "output_type": "stream",
     "text": [
      "28.75\n"
     ]
    }
   ],
   "source": [
    "# Create the areas list\n",
    "areas = [\"hallway\", 11.25, \"kitchen\", 18.0, \"living room\", 20.0, \"bedroom\", 10.75, \"bathroom\", 9.50]\n",
    "\n",
    "# Sum of kitchen and bedroom area: eat_sleep_area\n",
    "eat_sleep_area = areas[3]+areas[-3]\n",
    "\n",
    "\n",
    "# Print the variable eat_sleep_area\n",
    "print(eat_sleep_area)"
   ]
  },
  {
   "cell_type": "markdown",
   "id": "41a07410-508f-45f6-9da9-b4fdabca62a7",
   "metadata": {},
   "source": [
    "## Slicing and dicing\n",
    "\n",
    "Selecting single values from a list is just one part of the story. It's also possible to slice your list, which means selecting multiple elements from your list. Use the following syntax:\n",
    "```\n",
    "my_list[start:end]\n",
    "```\n",
    "The start index will be included, while the end index is not.\n",
    "\n",
    "The code sample below shows an example. A list with \"b\" and \"c\", corresponding to indexes 1 and 2, are selected from a list x:\n",
    "```\n",
    "x = [\"a\", \"b\", \"c\", \"d\"]\n",
    "x[1:3]\n",
    "```\n",
    "The elements with index 1 and 2 are included, while the element with index 3 is not`"
   ]
  },
  {
   "cell_type": "markdown",
   "id": "36622ae4-3dc8-4bd6-b45b-3363c1b71936",
   "metadata": {},
   "source": [
    "- Use slicing to create a list, `downstairs`, that contains the first 6 elements of `areas`.\n",
    "- Do a similar thing to create a new variable, `upstairs`, that contains the last 4 elements of `areas`.\n",
    "- Print both `downstairs` and `upstairs` using `print()`."
   ]
  },
  {
   "cell_type": "code",
   "execution_count": 6,
   "id": "c8ed7b5e-ad49-4612-ba0e-ae922f6cf646",
   "metadata": {},
   "outputs": [
    {
     "name": "stdout",
     "output_type": "stream",
     "text": [
      "['hallway', 11.25, 'kitchen', 18.0, 'living room', 20.0] ['bedroom', 10.75, 'bathroom', 9.5]\n"
     ]
    }
   ],
   "source": [
    "# Create the areas list\n",
    "areas = [\"hallway\", 11.25, \"kitchen\", 18.0, \"living room\", 20.0, \"bedroom\", 10.75, \"bathroom\", 9.50]\n",
    "\n",
    "# Use slicing to create downstairs\n",
    "downstairs = areas[:6]\n",
    "\n",
    "# Use slicing to create upstairs\n",
    "upstairs = areas[6:]\n",
    "\n",
    "# Print out downstairs and upstairs\n",
    "print(downstairs,upstairs)"
   ]
  },
  {
   "cell_type": "markdown",
   "id": "b87de622-c627-4b43-8ff2-51d5177e89c9",
   "metadata": {},
   "source": [
    "## Slicing and dicing (2)\n",
    "\n",
    "In the video, Hugo first discussed the syntax where you specify both where to begin and end the slice of your list:\n",
    "```\n",
    "my_list[begin:end]\n",
    "```\n",
    "However, it's also possible not to specify these indexes. If you don't specify the begin index, Python figures out that you want to start your slice at the beginning of your list. If you don't specify the end index, the slice will go all the way to the last element of your list. To experiment with this, try the following commands in the IPython Shell:\n",
    "```\n",
    "x = [\"a\", \"b\", \"c\", \"d\"]\n",
    "x[:2]\n",
    "x[2:]\n",
    "x[:]\n",
    "```"
   ]
  },
  {
   "cell_type": "markdown",
   "id": "abe589a6-7555-4835-acc2-469b8463c41b",
   "metadata": {},
   "source": [
    "- Create `downstairs` again, as the first 6 elements of `areas`. This time, simplify the slicing by omitting the begin index.\n",
    "- Create `upstairs` again, as the last 4 elements of `areas`. This time, simplify the slicing by omitting the end index."
   ]
  },
  {
   "cell_type": "code",
   "execution_count": 7,
   "id": "9dce439b-ea7c-4ea6-aa98-92fd07c0c46f",
   "metadata": {},
   "outputs": [],
   "source": [
    "# Create the areas list\n",
    "areas = [\"hallway\", 11.25, \"kitchen\", 18.0, \"living room\", 20.0, \"bedroom\", 10.75, \"bathroom\", 9.50]\n",
    "\n",
    "# Alternative slicing to create downstairs\n",
    "downstairs = areas[:6]\n",
    "\n",
    "# Alternative slicing to create upstairs\n",
    "upstairs = areas[6:]"
   ]
  },
  {
   "cell_type": "markdown",
   "id": "8fdc35c1-2130-48fa-91ed-a4d0de5b7b8b",
   "metadata": {},
   "source": [
    "## Subsetting lists of lists\n",
    "\n",
    "You saw before that a Python list can contain practically anything; even other lists! To subset lists of lists, you can use the same technique as before: square brackets. Try out the commands in the following code sample in the IPython Shell:\n",
    "```\n",
    "x = [[\"a\", \"b\", \"c\"],\n",
    "     [\"d\", \"e\", \"f\"],\n",
    "     [\"g\", \"h\", \"i\"]]\n",
    "x[2][0]\n",
    "x[2][:2]\n",
    "```\n",
    "`x[2]` results in a list, that you can subset again by adding additional square brackets.\n",
    "\n",
    "What will `house[-1][1]` return? house, the list of lists that you created before, is already defined for you in the workspace. You can experiment with it in the IPython Shell."
   ]
  },
  {
   "cell_type": "markdown",
   "id": "3c8def5d-dfab-4062-9183-49de5ba14954",
   "metadata": {},
   "source": [
    "## Replace list elements\n",
    "\n",
    "Replacing list elements is pretty easy. Simply subset the list and assign new values to the subset. You can select single elements or you can change entire list slices at once.\n",
    "\n",
    "Use the IPython Shell to experiment with the commands below. Can you tell what's happening and why?\n",
    "```\n",
    "x = [\"a\", \"b\", \"c\", \"d\"]\n",
    "x[1] = \"r\"\n",
    "x[2:] = [\"s\", \"t\"`\n",
    "```\n",
    "For this and the following exercises, you'll continue working on the areas list that contains the names and `areas` of different rooms in a house."
   ]
  },
  {
   "cell_type": "markdown",
   "id": "12c82d6e-4aff-4d07-921c-067c9dc33a49",
   "metadata": {},
   "source": [
    "- Update the area of the bathroom area to be 10.50 square meters instead of 9.50.\n",
    "- Make the areas list more trendy! Change \"living room\" to \"chill zone\"."
   ]
  },
  {
   "cell_type": "code",
   "execution_count": 8,
   "id": "70ed71a7-cfff-40b7-b324-136617a1f177",
   "metadata": {},
   "outputs": [],
   "source": [
    "# Create the areas list\n",
    "areas = [\"hallway\", 11.25, \"kitchen\", 18.0, \"living room\", 20.0, \"bedroom\", 10.75, \"bathroom\", 9.50]\n",
    "\n",
    "# Correct the bathroom area\n",
    "areas[-1]=10.5\n",
    "\n",
    "# Change \"living room\" to \"chill zone\"\n",
    "areas[4]=\"chill zone\""
   ]
  },
  {
   "cell_type": "markdown",
   "id": "de6896f4-7104-4a83-8a67-ccfde3a4ddc8",
   "metadata": {},
   "source": [
    "## Extend a list\n",
    "\n",
    "If you can change elements in a list, you sure want to be able to add elements to it, right? You can use the + operator:\n",
    "```\n",
    "x = [\"a\", \"b\", \"c\", \"d\"]\n",
    "y = x + [\"e\", \"f\"]\n",
    "```\n",
    "You just won the lottery, awesome! You decide to build a poolhouse and a garage. Can you add the information to the areas list?"
   ]
  },
  {
   "cell_type": "markdown",
   "id": "ce23e35f-6d0c-4151-8e2a-cb40e7dad149",
   "metadata": {},
   "source": [
    "- Use the `+` operator to paste the list `[\"poolhouse\", 24.5]` to the end of the `areas` list. Store the resulting list as `areas_1`.\n",
    "- Further extend `areas_1` by adding data on your garage. Add the string `\"garage\"` and float `15.45`. Name the resulting list `areas_2`."
   ]
  },
  {
   "cell_type": "code",
   "execution_count": 9,
   "id": "3e5edca7-e06c-43e4-919d-5902b2170784",
   "metadata": {},
   "outputs": [],
   "source": [
    "# Create the areas list and make some changes\n",
    "areas = [\"hallway\", 11.25, \"kitchen\", 18.0, \"chill zone\", 20.0,\n",
    "         \"bedroom\", 10.75, \"bathroom\", 10.50]\n",
    "\n",
    "# Add poolhouse data to areas, new list is areas_1\n",
    "areas_1 = areas + ['poolhouse', 24.5]\n",
    "\n",
    "# Add garage data to areas_1, new list is areas_2\n",
    "areas_2 = areas_1 + ['garage',15.45]"
   ]
  },
  {
   "cell_type": "markdown",
   "id": "a5a1f1fe-899b-4a65-9bc5-246a8bec39ba",
   "metadata": {},
   "source": [
    "## Delete list elements\n",
    "\n",
    "Finally, you can also remove elements from your list. You can do this with the del statement:\n",
    "```\n",
    "x = [\"a\", \"b\", \"c\", \"d\"]\n",
    "del(x[1])\n",
    "```\n",
    "Pay attention here: as soon as you remove an element from a list, the indexes of the elements that come after the deleted element all change!\n",
    "\n",
    "The updated and extended version of `areas` that you've built in the previous exercises is coded below. You can copy and paste this into the IPython Shell to play around with the result.\n",
    "```\n",
    "areas = [\"hallway\", 11.25, \"kitchen\", 18.0,\n",
    "        \"chill zone\", 20.0, \"bedroom\", 10.75,\n",
    "         \"bathroom\", 10.50, \"poolhouse\", 24.5,\n",
    "         \"garage\", 15.45]\n",
    "```\n",
    "There was a mistake! The amount you won with the lottery is not that big after all and it looks like the poolhouse isn't going to happen. You decide to remove the corresponding string and float from the `areas` list.\n",
    "\n",
    "The `;` sign is used to place commands on the same line. The following two code chunks are equivalent:\n",
    "\n",
    "```\n",
    "# Same line\n",
    "command1; command2\n",
    "\n",
    "# Separate lines\n",
    "command1\n",
    "command`\n",
    "```\n",
    "Which of the code chunks will do the job for us?"
   ]
  },
  {
   "cell_type": "code",
   "execution_count": 10,
   "id": "7f2bc166-7f47-4c71-9e5b-fb3ed00afc72",
   "metadata": {},
   "outputs": [],
   "source": [
    "del(areas[-4:-2])"
   ]
  },
  {
   "cell_type": "markdown",
   "id": "586b5127-c681-4d57-b5b5-94c0217e2e48",
   "metadata": {},
   "source": [
    "## Inner workings of lists\n",
    "\n",
    "At the end of the video, Hugo explained how Python lists work behind the scenes. In this exercise you'll get some hands-on experience with this.\n",
    "\n",
    "The Python code in the script already creates a list with the name `areas` and a copy named `areas_copy`. Next, the first element in the `areas_copy` list is changed and the `areas` list is printed out. If you hit Run Code you'll see that, although you've changed `areas_copy`, the change also takes effect in the `areas` list. That's because areas and `areas_copy` point to the same list.\n",
    "\n",
    "If you want to prevent changes in `areas_copy` from also taking effect in `areas`, you'll have to do a more explicit copy of the `areas` list. You can do this with `list()` or by using `[:]`."
   ]
  },
  {
   "cell_type": "markdown",
   "id": "67199a83-8090-4d2f-880e-c35e08a5a609",
   "metadata": {},
   "source": [
    "Change the second command, that creates the variable `areas_copy`, such that `areas_copy` is an explicit copy of `areas`. After your edit, changes made to `areas_copy` shouldn't affect areas. Submit the answer to check this."
   ]
  },
  {
   "cell_type": "code",
   "execution_count": 11,
   "id": "3608c10e-6089-40c2-9d93-78ec207fffc1",
   "metadata": {},
   "outputs": [
    {
     "name": "stdout",
     "output_type": "stream",
     "text": [
      "[11.25, 18.0, 20.0, 10.75, 9.5]\n"
     ]
    }
   ],
   "source": [
    "# Create list areas\n",
    "areas = [11.25, 18.0, 20.0, 10.75, 9.50]\n",
    "\n",
    "# Create areas_copy\n",
    "areas_copy = areas[:]\n",
    "\n",
    "# Change areas_copy\n",
    "areas_copy[0] = 5.0\n",
    "\n",
    "# Print areas\n",
    "print(areas)"
   ]
  },
  {
   "cell_type": "code",
   "execution_count": null,
   "id": "5f8e470d-4d59-4209-9a0b-126f5bf6131d",
   "metadata": {},
   "outputs": [],
   "source": []
  }
 ],
 "metadata": {
  "kernelspec": {
   "display_name": "Python 3 (ipykernel)",
   "language": "python",
   "name": "python3"
  },
  "language_info": {
   "codemirror_mode": {
    "name": "ipython",
    "version": 3
   },
   "file_extension": ".py",
   "mimetype": "text/x-python",
   "name": "python",
   "nbconvert_exporter": "python",
   "pygments_lexer": "ipython3",
   "version": "3.8.9"
  }
 },
 "nbformat": 4,
 "nbformat_minor": 5
}
