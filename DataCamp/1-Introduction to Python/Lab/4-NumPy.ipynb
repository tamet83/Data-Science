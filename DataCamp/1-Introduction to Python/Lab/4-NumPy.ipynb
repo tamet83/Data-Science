{
 "cells": [
  {
   "cell_type": "markdown",
   "id": "2b23241b-75eb-4727-a7c7-15fca9c05bcd",
   "metadata": {},
   "source": [
    "# NumPy"
   ]
  },
  {
   "cell_type": "markdown",
   "id": "0434ddd2-c930-4518-bde1-a685ef1bcee5",
   "metadata": {},
   "source": [
    "## Your First NumPy Array\n",
    "\n",
    "In this chapter, we're going to dive into the world of baseball. Along the way, you'll get comfortable with the basics of `numpy`, a powerful package to do data science.\\\n",
    "A list `baseball` has already been defined in the Python script, representing the height of some baseball players in centimeters. Can you add some code here and there to create a `numpy` array from it?"
   ]
  },
  {
   "cell_type": "markdown",
   "id": "55386ab7-98b2-46b2-8f11-0f4b87e8aa43",
   "metadata": {},
   "source": [
    "- Import the `numpy` package as `np`, so that you can refer to numpy with np.\n",
    "- Use `np.array()` to create a `numpy` array from `baseball`. Name this array np_baseball.\n",
    "- Print out the type of `np_baseball` to check that you got it right."
   ]
  },
  {
   "cell_type": "code",
   "execution_count": 1,
   "id": "b32c36c1-2f38-49b6-96e9-6bf9abc7e23e",
   "metadata": {},
   "outputs": [
    {
     "name": "stdout",
     "output_type": "stream",
     "text": [
      "<class 'numpy.ndarray'>\n"
     ]
    }
   ],
   "source": [
    "# Create list baseball\n",
    "baseball = [180, 215, 210, 210, 188, 176, 209, 200]\n",
    "\n",
    "# Import the numpy package as np\n",
    "import numpy as np\n",
    "\n",
    "# Create a numpy array from baseball: np_baseball\n",
    "np_baseball = np.array(baseball)\n",
    "\n",
    "# Print out type of np_baseball\n",
    "np_baseball\n",
    "print(type(np_baseball))"
   ]
  },
  {
   "cell_type": "markdown",
   "id": "6f3c32fc-56f5-4b5b-a9df-1ee88d92ec78",
   "metadata": {},
   "source": [
    "## Baseball players' height\n",
    "\n",
    "You are a huge baseball fan. You decide to call the MLB (Major League Baseball) and ask around for some more statistics on the height of the main players. They pass along data on more than a thousand players, which is stored as a regular Python list: `height_in`. The height is expressed in inches. Can you make a `numpy` array out of it and convert the units to meters?\n",
    "\n",
    "`height_in` is already available and the `numpy` package is loaded, so you can start straight away (Source: stat.ucla.edu)."
   ]
  },
  {
   "cell_type": "code",
   "execution_count": 2,
   "id": "b817237a-0b49-462d-9ee1-4f5f78c08bda",
   "metadata": {},
   "outputs": [
    {
     "data": {
      "text/html": [
       "<div>\n",
       "<style scoped>\n",
       "    .dataframe tbody tr th:only-of-type {\n",
       "        vertical-align: middle;\n",
       "    }\n",
       "\n",
       "    .dataframe tbody tr th {\n",
       "        vertical-align: top;\n",
       "    }\n",
       "\n",
       "    .dataframe thead th {\n",
       "        text-align: right;\n",
       "    }\n",
       "</style>\n",
       "<table border=\"1\" class=\"dataframe\">\n",
       "  <thead>\n",
       "    <tr style=\"text-align: right;\">\n",
       "      <th></th>\n",
       "      <th>Name</th>\n",
       "      <th>Team</th>\n",
       "      <th>Position</th>\n",
       "      <th>Height</th>\n",
       "      <th>Weight</th>\n",
       "      <th>Age</th>\n",
       "      <th>PosCategory</th>\n",
       "    </tr>\n",
       "  </thead>\n",
       "  <tbody>\n",
       "    <tr>\n",
       "      <th>0</th>\n",
       "      <td>Adam_Donachie</td>\n",
       "      <td>BAL</td>\n",
       "      <td>Catcher</td>\n",
       "      <td>74</td>\n",
       "      <td>180</td>\n",
       "      <td>22.99</td>\n",
       "      <td>Catcher</td>\n",
       "    </tr>\n",
       "    <tr>\n",
       "      <th>1</th>\n",
       "      <td>Paul_Bako</td>\n",
       "      <td>BAL</td>\n",
       "      <td>Catcher</td>\n",
       "      <td>74</td>\n",
       "      <td>215</td>\n",
       "      <td>34.69</td>\n",
       "      <td>Catcher</td>\n",
       "    </tr>\n",
       "    <tr>\n",
       "      <th>2</th>\n",
       "      <td>Ramon_Hernandez</td>\n",
       "      <td>BAL</td>\n",
       "      <td>Catcher</td>\n",
       "      <td>72</td>\n",
       "      <td>210</td>\n",
       "      <td>30.78</td>\n",
       "      <td>Catcher</td>\n",
       "    </tr>\n",
       "    <tr>\n",
       "      <th>3</th>\n",
       "      <td>Kevin_Millar</td>\n",
       "      <td>BAL</td>\n",
       "      <td>First_Baseman</td>\n",
       "      <td>72</td>\n",
       "      <td>210</td>\n",
       "      <td>35.43</td>\n",
       "      <td>Infielder</td>\n",
       "    </tr>\n",
       "    <tr>\n",
       "      <th>4</th>\n",
       "      <td>Chris_Gomez</td>\n",
       "      <td>BAL</td>\n",
       "      <td>First_Baseman</td>\n",
       "      <td>73</td>\n",
       "      <td>188</td>\n",
       "      <td>35.71</td>\n",
       "      <td>Infielder</td>\n",
       "    </tr>\n",
       "  </tbody>\n",
       "</table>\n",
       "</div>"
      ],
      "text/plain": [
       "              Name Team       Position  Height  Weight    Age PosCategory\n",
       "0    Adam_Donachie  BAL        Catcher      74     180  22.99     Catcher\n",
       "1        Paul_Bako  BAL        Catcher      74     215  34.69     Catcher\n",
       "2  Ramon_Hernandez  BAL        Catcher      72     210  30.78     Catcher\n",
       "3     Kevin_Millar  BAL  First_Baseman      72     210  35.43   Infielder\n",
       "4      Chris_Gomez  BAL  First_Baseman      73     188  35.71   Infielder"
      ]
     },
     "execution_count": 2,
     "metadata": {},
     "output_type": "execute_result"
    }
   ],
   "source": [
    "import pandas as pd\n",
    "import numpy as np\n",
    "baseball = pd.read_csv('datasets/baseball.csv')\n",
    "baseball.head()"
   ]
  },
  {
   "cell_type": "markdown",
   "id": "78197a10-0d72-404d-9a44-83fb21770f77",
   "metadata": {},
   "source": [
    "### Instructions\n",
    "- Create a `numpy` array from `height_in`. Name this new array `np_height_in`.\n",
    "- Print `np_height_in`.\n",
    "- Multiply `np_height_in` with `0.0254` to convert all height measurements from inches to meters. Store the new values in a new array, `np_height_m`.\n",
    "- Print out `np_height_m` and check if the output makes sense."
   ]
  },
  {
   "cell_type": "code",
   "execution_count": 3,
   "id": "6377f40d-ee95-4d84-80db-3d5bae92147a",
   "metadata": {},
   "outputs": [
    {
     "data": {
      "text/plain": [
       "array([74, 74, 72, ..., 75, 75, 73])"
      ]
     },
     "execution_count": 3,
     "metadata": {},
     "output_type": "execute_result"
    }
   ],
   "source": [
    "height_in = baseball['Height'].values\n",
    "height_in"
   ]
  },
  {
   "cell_type": "code",
   "execution_count": 4,
   "id": "a1a0a29d-cfa2-4a87-a7e2-a160f84473ff",
   "metadata": {},
   "outputs": [
    {
     "name": "stdout",
     "output_type": "stream",
     "text": [
      "[74 74 72 ... 75 75 73]\n"
     ]
    }
   ],
   "source": [
    "np_height_in = np.array(height_in)\n",
    "print(np_height_in)"
   ]
  },
  {
   "cell_type": "code",
   "execution_count": 5,
   "id": "4b205850-7cc7-46f2-8df0-27a2534e0092",
   "metadata": {},
   "outputs": [
    {
     "name": "stdout",
     "output_type": "stream",
     "text": [
      "[1.8796 1.8796 1.8288 ... 1.905  1.905  1.8542]\n"
     ]
    }
   ],
   "source": [
    "np_height_m = np_height_in*0.0254\n",
    "print(np_height_m)"
   ]
  },
  {
   "cell_type": "markdown",
   "id": "eb932163-b2c5-456a-a2e1-c6d8fc44fde0",
   "metadata": {},
   "source": [
    "## Baseball player's BMI\n",
    "\n",
    "The MLB also offers to let you analyze their weight data. Again, both are available as regular Python lists: `height_in` and `weight_lb`. `height_in` is in inches and `weight_lb` is in pounds.\n",
    "\n",
    "It's now possible to calculate the BMI of each baseball player. Python code to convert `height_in` to a numpy array with the correct units is already available in the workspace. Follow the instructions step by step and finish the game!"
   ]
  },
  {
   "cell_type": "code",
   "execution_count": 6,
   "id": "c1f44699-496c-4ea3-bd6a-c038fd741ed0",
   "metadata": {},
   "outputs": [
    {
     "data": {
      "text/plain": [
       "array([180, 215, 210, ..., 205, 190, 195])"
      ]
     },
     "execution_count": 6,
     "metadata": {},
     "output_type": "execute_result"
    }
   ],
   "source": [
    "weight_lb = baseball['Weight'].values\n",
    "weight_lb"
   ]
  },
  {
   "cell_type": "markdown",
   "id": "07bb9781-8823-4599-8cde-1d1ef58b86b8",
   "metadata": {},
   "source": [
    "### Instructions\n",
    "- Create a `numpy` array from the `weight_lb` list with the correct units. Multiply by `0.453592` to go from pounds to kilograms. Store the resulting `numpy` array as `np_weight_kg`.\n",
    "- Use `np_height_m` and `np_weight_kg` to calculate the BMI of each player. Use the following equation:\n",
    "\n",
    "\\begin{equation}\n",
    "BMI = \\frac{weight(kg)}{height(m)^2}\n",
    "\\end{equation}\n",
    "\n",
    "    Save the resulting numpy array as bmi.\n",
    "- Print out `bmi`"
   ]
  },
  {
   "cell_type": "code",
   "execution_count": 7,
   "id": "6f9c17de-109c-4e6c-bff6-2027233fdd1a",
   "metadata": {},
   "outputs": [
    {
     "data": {
      "text/plain": [
       "array([81.64656, 97.52228, 95.25432, ..., 92.98636, 86.18248, 88.45044])"
      ]
     },
     "execution_count": 7,
     "metadata": {},
     "output_type": "execute_result"
    }
   ],
   "source": [
    "np_weight_kg = np.array(weight_lb)*0.453592\n",
    "np_weight_kg"
   ]
  },
  {
   "cell_type": "code",
   "execution_count": 8,
   "id": "08967a58-6a9e-4920-9295-0f35236d9872",
   "metadata": {},
   "outputs": [
    {
     "data": {
      "text/plain": [
       "array([23.11037639, 27.60406069, 28.48080465, ..., 25.62295933,\n",
       "       23.74810865, 25.72686361])"
      ]
     },
     "execution_count": 8,
     "metadata": {},
     "output_type": "execute_result"
    }
   ],
   "source": [
    "bmi = np_weight_kg/np_height_m**2\n",
    "bmi"
   ]
  },
  {
   "cell_type": "markdown",
   "id": "e188bb6d-1244-4923-bfd4-75153b07ef8e",
   "metadata": {},
   "source": [
    "## Lightweight baseball players\n",
    "\n",
    "To subset both regular Python lists and numpy arrays, you can use square brackets:\n",
    "```\n",
    "x = [4 , 9 , 6, 3, 1]\n",
    "x[1]\n",
    "import numpy as np\n",
    "y = np.array(x)\n",
    "y[1]\n",
    "```\n",
    "For `numpy` specifically, you can also use boolean `numpy` arrays:\n",
    "```\n",
    "high = y > 5\n",
    "y[high]\n",
    "```\n",
    "The code that calculates the BMI of all baseball players is already included. Follow the instructions and reveal interesting things from the data!"
   ]
  },
  {
   "cell_type": "markdown",
   "id": "0d24cd26-d759-4df8-be7d-f6f8e8ebd72d",
   "metadata": {},
   "source": [
    "### Instructions\n",
    "- Create a boolean `numpy` array: the element of the array should be `True` if the corresponding baseball player's BMI is below `21`. You can use the `<` operator for this. Name the array `light`.\n",
    "- Print the array `light`.\n",
    "- Print out a `numpy` array with the BMIs of all baseball players whose BMI is below 21. Use `light` inside square brackets to do a selection on the `bmi` array."
   ]
  },
  {
   "cell_type": "code",
   "execution_count": 9,
   "id": "3778a6b6-1db6-48f0-acbb-74107cf2142c",
   "metadata": {},
   "outputs": [
    {
     "data": {
      "text/plain": [
       "array([False, False, False, ..., False, False, False])"
      ]
     },
     "execution_count": 9,
     "metadata": {},
     "output_type": "execute_result"
    }
   ],
   "source": [
    "light = bmi < 21\n",
    "light"
   ]
  },
  {
   "cell_type": "code",
   "execution_count": 10,
   "id": "085b74d9-c852-4815-8ba2-52f1864d4211",
   "metadata": {},
   "outputs": [
    {
     "data": {
      "text/plain": [
       "array([20.54255679, 20.54255679, 20.69282047, 20.69282047, 20.34343189,\n",
       "       20.34343189, 20.69282047, 20.15883472, 19.4984471 , 20.69282047,\n",
       "       20.9205219 ])"
      ]
     },
     "execution_count": 10,
     "metadata": {},
     "output_type": "execute_result"
    }
   ],
   "source": [
    "bmi[light]"
   ]
  },
  {
   "cell_type": "markdown",
   "id": "8e758489-44f5-4df3-b38a-42eed413707d",
   "metadata": {},
   "source": [
    "## Subsetting NumPy Arrays\n",
    "\n",
    "You've seen it with your own eyes: Python lists and `numpy` arrays sometimes behave differently. Luckily, there are still certainties in this world. For example, subsetting (using the square bracket notation on lists or arrays) works exactly the same. To see this for yourself, try the following lines of code in the IPython Shell:\n",
    "```\n",
    "x = [\"a\", \"b\", \"c\"]\n",
    "x[1]\n",
    "```\n",
    "```\n",
    "np_x = np.array(x)\n",
    "np_x[1]\n",
    "```\n",
    "The script in the editor already contains code that imports `numpy` as `np`, and stores both the height and weight of the MLB players as `numpy` arrays."
   ]
  },
  {
   "cell_type": "markdown",
   "id": "c7a63312-e2d6-4be8-9d99-a982c6a87db7",
   "metadata": {},
   "source": [
    "### Instructions\n",
    "- Subset `np_weight_lb` by printing out the element at index 50.\n",
    "- Print out a sub-array of `np_height_in` that contains the elements at index 100 up to and including index 110."
   ]
  },
  {
   "cell_type": "code",
   "execution_count": 11,
   "id": "ca6e478d-8ea7-462d-81dc-8287f3df6e34",
   "metadata": {},
   "outputs": [
    {
     "name": "stdout",
     "output_type": "stream",
     "text": [
      "200\n"
     ]
    }
   ],
   "source": [
    "np_weight_lb = np.array(weight_lb)\n",
    "print(np_weight_lb[50])"
   ]
  },
  {
   "cell_type": "code",
   "execution_count": 12,
   "id": "1bdea858-7f08-4658-bbab-510f193e1a8f",
   "metadata": {},
   "outputs": [
    {
     "name": "stdout",
     "output_type": "stream",
     "text": [
      "[73 74 72 73 69 72 73 75 75 73 72]\n"
     ]
    }
   ],
   "source": [
    "print(np_height_in[100:111])"
   ]
  },
  {
   "cell_type": "markdown",
   "id": "f2d327f9-31af-40f3-bdc5-da0756a55cb8",
   "metadata": {},
   "source": [
    "## Your First 2D NumPy Array\n",
    "\n",
    "Before working on the actual MLB data, let's try to create a 2D `numpy` array from a small list of lists.\n",
    "\n",
    "In this exercise, `baseball` is a list of lists. The main list contains 4 elements. Each of these elements is a list containing the height and the weight of 4 `baseball` players, in this order. baseball is already coded for you in the script."
   ]
  },
  {
   "cell_type": "markdown",
   "id": "889ee79e-95d5-4aa0-bd33-3d75fddaaaaa",
   "metadata": {},
   "source": [
    "## Instructions\n",
    "- Use `np.array()` to create a 2D numpy array from `baseball`. Name it `np_baseball`.\n",
    "- Print out the `type`\n",
    " of `np_baseball`.\n",
    "- Print out the shape attribute of `np_baseball`. Use `np_baseball.shape`."
   ]
  },
  {
   "cell_type": "code",
   "execution_count": 13,
   "id": "84be55ca-0aa4-4b34-b65b-6a23bc613c68",
   "metadata": {},
   "outputs": [
    {
     "name": "stdout",
     "output_type": "stream",
     "text": [
      "<class 'numpy.ndarray'>\n",
      "(4, 2)\n"
     ]
    }
   ],
   "source": [
    "# Create baseball, a list of lists\n",
    "baseball = [[180, 78.4],\n",
    "            [215, 102.7],\n",
    "            [210, 98.5],\n",
    "            [188, 75.2]]\n",
    "\n",
    "np_baseball = np.array(baseball)\n",
    "\n",
    "print(type(np_baseball))\n",
    "print(np_baseball.shape)\n"
   ]
  },
  {
   "cell_type": "markdown",
   "id": "0e6a5206-46bb-4f6e-a56f-814f70191d95",
   "metadata": {},
   "source": [
    "## Baseball data in 2D form\n",
    "\n",
    "You have another look at the MLB data and realize that it makes more sense to restructure all this information in a 2D numpy array. This array should have 1015 rows, corresponding to the 1015 baseball players you have information on, and 2 columns (for height and weight).\n",
    "\n",
    "The MLB was, again, very helpful and passed you the data in a different structure, a Python list of lists. In this list of lists, each sublist represents the height and weight of a single baseball player. The name of this embedded list is baseball.\n",
    "\n",
    "Can you store the data as a 2D array to unlock numpy's extra functionality?"
   ]
  },
  {
   "cell_type": "markdown",
   "id": "81443ffe-18ff-4a63-b103-66fb1f182ff4",
   "metadata": {},
   "source": [
    "### Instructions\n",
    "- Use `np.array()` to create a 2D numpy array from baseball. Name it `np_baseball`.\n",
    "- Print out the `shape` attribute of `np_baseball`."
   ]
  },
  {
   "cell_type": "code",
   "execution_count": 14,
   "id": "b1bb3584-5306-4eeb-9afe-5137fc7e9182",
   "metadata": {},
   "outputs": [],
   "source": [
    "baseball_df = pd.read_csv('datasets/baseball.csv')\n",
    "baseball = baseball_df[['Height','Weight']].to_numpy()\n"
   ]
  },
  {
   "cell_type": "code",
   "execution_count": 15,
   "id": "a7e83ad6-e68b-4d91-9239-4c7a8e497d30",
   "metadata": {},
   "outputs": [
    {
     "name": "stdout",
     "output_type": "stream",
     "text": [
      "(1015, 2)\n"
     ]
    }
   ],
   "source": [
    "baseball_df = pd.read_csv('datasets/baseball.csv')\n",
    "baseball = baseball_df[['Height','Weight']].to_numpy()\n",
    "\n",
    "# Create a 2D numpy array from baseball: np_baseball\n",
    "np_baseball = np.array(baseball)\n",
    "\n",
    "# Print out the shape of np_baseball\n",
    "print(np_baseball.shape)"
   ]
  },
  {
   "cell_type": "markdown",
   "id": "9d54d4d4-7e09-4c66-882c-2f29caa5db60",
   "metadata": {},
   "source": [
    "## Subsetting 2D NumPy Arrays\n",
    "\n",
    "If your 2D numpy array has a regular structure, i.e. each row and column has a fixed number of values, complicated ways of subsetting become very easy. Have a look at the code below where the elements `\"a\"` and `\"c\"` are extracted from a list of lists.\n",
    "```Python\n",
    "# regular list of lists\n",
    "x = [[\"a\", \"b\"], [\"c\", \"d\"]]\n",
    "[x[0][0], x[1][0]]\n",
    "\n",
    "# numpy\n",
    "import numpy as np\n",
    "np_x = np.array(x)\n",
    "np_x[:,0]\n",
    "```\n",
    "For regular Python lists, this is a real pain. For 2D numpy arrays, however, it's pretty intuitive! The indexes before the comma refer to the rows, while those after the comma refer to the columns. The : is for slicing; in this example, it tells Python to include all rows.\n",
    "\n",
    "The code that converts the pre-loaded `baseball` list to a 2D numpy array is already in the script. The first column contains the players' height in inches and the second column holds player weight, in pounds. Add some lines to make the correct selections. Remember that in Python, the first element is at index "
   ]
  },
  {
   "cell_type": "markdown",
   "id": "01509a03-dc88-49d3-a56e-8028944969f3",
   "metadata": {},
   "source": [
    "## Instructions\n",
    "- Print out the 50th row of `np_baseball`.\n",
    "- Make a new variable, `np_weight_lb`, containing the entire second column of `np_baseball`.\n",
    "- Select the height (first column) of the 124th baseball player in `np_baseball` and print it out."
   ]
  },
  {
   "cell_type": "code",
   "execution_count": 16,
   "id": "749ebf46-e6d7-4435-858d-7ecd896ee32c",
   "metadata": {},
   "outputs": [
    {
     "data": {
      "text/plain": [
       "array([ 70, 195])"
      ]
     },
     "execution_count": 16,
     "metadata": {},
     "output_type": "execute_result"
    }
   ],
   "source": [
    "np_baseball[49]"
   ]
  },
  {
   "cell_type": "code",
   "execution_count": 17,
   "id": "184e10cc-4bec-4a4e-90fb-2bb065681475",
   "metadata": {},
   "outputs": [],
   "source": [
    "np_weight_lb = np_baseball[:,1]"
   ]
  },
  {
   "cell_type": "code",
   "execution_count": 18,
   "id": "3785ce02-1dec-4a63-bcd5-8ce3c7727cbe",
   "metadata": {},
   "outputs": [
    {
     "data": {
      "text/plain": [
       "75"
      ]
     },
     "execution_count": 18,
     "metadata": {},
     "output_type": "execute_result"
    }
   ],
   "source": [
    "np_baseball[123,0]"
   ]
  },
  {
   "cell_type": "markdown",
   "id": "4f2ac335-b8ef-4df0-bd34-f68875b7d81a",
   "metadata": {},
   "source": [
    "## 2D Arithmetic\n",
    "\n",
    "Remember how you calculated the Body Mass Index for all baseball players? numpy was able to perform all calculations element-wise (i.e. element by element). For 2D numpy arrays this isn't any different! You can combine matrices with single numbers, with vectors, and with other matrices.\n",
    "\n",
    "Execute the code below in the IPython shell and see if you understand:\n",
    "```Python\n",
    "import numpy as np\n",
    "np_mat = np.array([[1, 2],\n",
    "                   [3, 4],\n",
    "                   [5, 6]])\n",
    "np_mat * 2\n",
    "np_mat + np.array([10, 10])\n",
    "np_mat + np_mat\n",
    "```\n",
    "`np_baseball` is coded for you; it's again a 2D numpy array with 3 columns representing height (in inches), weight (in pounds) and age (in years)."
   ]
  },
  {
   "cell_type": "markdown",
   "id": "bc22cada-347d-44ff-836e-395ed749d2ec",
   "metadata": {},
   "source": [
    "### Instructions\n",
    "- You managed to get hold of the changes in height, weight and age of all baseball players. It is available as a 2D numpy array, updated. Add `np_baseball`.\n",
    "- You want to convert the units of height and weight to metric (meters and kilograms respectively). As a first step, create a numpy array with three values: `0.0254`, `0.453592` and `1`. Name this array `conversion`.\n",
    "- Multiply `np_baseball` with `conversion` and print out the result."
   ]
  },
  {
   "cell_type": "code",
   "execution_count": 19,
   "id": "359f0262-c9b3-47d9-a183-48b4c6685aba",
   "metadata": {},
   "outputs": [
    {
     "data": {
      "text/plain": [
       "array([[ 74.  , 180.  ,  22.99],\n",
       "       [ 74.  , 215.  ,  34.69],\n",
       "       [ 72.  , 210.  ,  30.78],\n",
       "       ...,\n",
       "       [ 75.  , 205.  ,  25.19],\n",
       "       [ 75.  , 190.  ,  31.01],\n",
       "       [ 73.  , 195.  ,  27.92]])"
      ]
     },
     "execution_count": 19,
     "metadata": {},
     "output_type": "execute_result"
    }
   ],
   "source": [
    "baseball_df = pd.read_csv('datasets/baseball.csv')\n",
    "np_baseball = baseball_df[['Height','Weight','Age']].to_numpy()\n",
    "np_baseball"
   ]
  },
  {
   "cell_type": "code",
   "execution_count": 20,
   "id": "6ff3ce9d-c9b2-48e6-acc5-063bb050422c",
   "metadata": {},
   "outputs": [],
   "source": [
    "conversion=[0.0254,0.453592,1]"
   ]
  },
  {
   "cell_type": "code",
   "execution_count": 21,
   "id": "3a75ad94-3dcd-462c-bbc3-0f38060260c2",
   "metadata": {},
   "outputs": [
    {
     "data": {
      "text/plain": [
       "array([[ 1.8796 , 81.64656, 22.99   ],\n",
       "       [ 1.8796 , 97.52228, 34.69   ],\n",
       "       [ 1.8288 , 95.25432, 30.78   ],\n",
       "       ...,\n",
       "       [ 1.905  , 92.98636, 25.19   ],\n",
       "       [ 1.905  , 86.18248, 31.01   ],\n",
       "       [ 1.8542 , 88.45044, 27.92   ]])"
      ]
     },
     "execution_count": 21,
     "metadata": {},
     "output_type": "execute_result"
    }
   ],
   "source": [
    "np_baseball = np_baseball*conversion\n",
    "np_baseball"
   ]
  },
  {
   "cell_type": "markdown",
   "id": "8e71c8bd-a3bc-4491-b228-263809e3f9b3",
   "metadata": {},
   "source": [
    "## Average versus median\n",
    "\n",
    "You now know how to use numpy functions to get a better feeling for your data. It basically comes down to importing numpy and then calling several simple functions on the numpy arrays:\n",
    "```Python\n",
    "import numpy as np\n",
    "x = [1, 4, 8, 10, 12]\n",
    "np.mean(x)\n",
    "np.median(x)\n",
    "```\n",
    "The baseball data is available as a 2D numpy array with 3 columns (height, weight, age) and 1015 rows. The name of this numpy array is `np_baseball`. After restructuring the data, however, you notice that some height values are abnormally high. Follow the instructions and discover which summary statistic is best suited if you're dealing with so-called outliers."
   ]
  },
  {
   "cell_type": "markdown",
   "id": "114faccd-8b76-4757-b458-290bb47ec678",
   "metadata": {},
   "source": [
    "### Instructions\n",
    "- Create numpy array `np_height_in` that is equal to first column of `np_baseball`.\n",
    "- Print out the mean of `np_height_in`.\n",
    "- Print out the median of `np_height_in`."
   ]
  },
  {
   "cell_type": "code",
   "execution_count": 22,
   "id": "85da7710-6188-41b3-9027-144c55a007d7",
   "metadata": {},
   "outputs": [],
   "source": [
    "baseball_df = pd.read_csv('datasets/baseball.csv')\n",
    "np_baseball = baseball_df[['Height','Weight']].to_numpy()\n",
    "np_height_in = np_baseball[:,0]"
   ]
  },
  {
   "cell_type": "code",
   "execution_count": 23,
   "id": "f053b1e0-f6e9-4fe8-a44c-ad7d72312275",
   "metadata": {},
   "outputs": [
    {
     "data": {
      "text/plain": [
       "73.6896551724138"
      ]
     },
     "execution_count": 23,
     "metadata": {},
     "output_type": "execute_result"
    }
   ],
   "source": [
    "np.mean(np_height_in)"
   ]
  },
  {
   "cell_type": "code",
   "execution_count": 24,
   "id": "c38739b9-1000-42cf-94df-88018c139427",
   "metadata": {},
   "outputs": [
    {
     "data": {
      "text/plain": [
       "74.0"
      ]
     },
     "execution_count": 24,
     "metadata": {},
     "output_type": "execute_result"
    }
   ],
   "source": [
    "np.median(np_height_in)"
   ]
  },
  {
   "cell_type": "markdown",
   "id": "a55e7f39-9d73-4a94-889f-29252669cf0c",
   "metadata": {},
   "source": [
    "## Explore the baseball data\n",
    "\n",
    "Because the mean and median are so far apart, you decide to complain to the MLB. They find the error and send the corrected data over to you. It's again available as a 2D Numpy array `np_baseball`, with three columns. The Python script in the editor already includes code to print out informative messages with the different summary statistics. Can you finish the job?"
   ]
  },
  {
   "cell_type": "markdown",
   "id": "ab8ba0ae-29b4-4ea8-a2d2-659e6b63d87e",
   "metadata": {},
   "source": [
    "### Instructions\n",
    "- The code to print out the mean height is already included. Complete the code for the median height. Replace `None` with the correct code.\n",
    "- Use `np.std()` on the first column of `np_baseball` to calculate `stddev`. Replace `None` with the correct code.\n",
    "- Do big players tend to be heavier? Use `np.corrcoef()` to store the correlation between the first and second column of `np_baseball` in `corr`. Replace None with the correct code."
   ]
  },
  {
   "cell_type": "code",
   "execution_count": 25,
   "id": "fbee37cf-51c7-43e2-9e54-dfd622cf8b75",
   "metadata": {},
   "outputs": [
    {
     "name": "stdout",
     "output_type": "stream",
     "text": [
      "The average: 73.6896551724138\n"
     ]
    }
   ],
   "source": [
    "avg = np.mean(np_baseball[:,0])\n",
    "print('The average: ' + str(avg))"
   ]
  },
  {
   "cell_type": "code",
   "execution_count": 26,
   "id": "03114c8a-ad18-4e30-b2cd-9a1715fa2a55",
   "metadata": {},
   "outputs": [
    {
     "name": "stdout",
     "output_type": "stream",
     "text": [
      "Median: 73.6896551724138\n"
     ]
    }
   ],
   "source": [
    "med = np.mean(np_baseball[:,0])\n",
    "print('Median: ' + str(med))"
   ]
  },
  {
   "cell_type": "code",
   "execution_count": 27,
   "id": "7ab75304-c73d-451d-92fa-ff24bd09cb4a",
   "metadata": {},
   "outputs": [
    {
     "name": "stdout",
     "output_type": "stream",
     "text": [
      "Standard Deviation: 2.312791881046546\n"
     ]
    }
   ],
   "source": [
    "stddev = np.std(np_baseball[:,0])\n",
    "print('Standard Deviation: ' + str(stddev))"
   ]
  },
  {
   "cell_type": "code",
   "execution_count": 28,
   "id": "6f9e01db-4b52-420d-bc7b-b1fe2a329553",
   "metadata": {},
   "outputs": [
    {
     "name": "stdout",
     "output_type": "stream",
     "text": [
      "Correlation: [[1.         0.53153932]\n",
      " [0.53153932 1.        ]]\n"
     ]
    }
   ],
   "source": [
    "corr = np.corrcoef(np_baseball[:,0],np_baseball[:,1])\n",
    "print('Correlation: ' + str(corr))"
   ]
  },
  {
   "cell_type": "markdown",
   "id": "6cdd33c1-946a-433b-a0ba-5d6fbb099276",
   "metadata": {},
   "source": [
    "## Blend it all together\n",
    "\n",
    "In the last few exercises you've learned everything there is to know about heights and weights of baseball players. Now it's time to dive into another sport: soccer.\n",
    "\n",
    "You've contacted FIFA for some data and they handed you two lists. The lists are the following:\n",
    "```Python\n",
    "positions = ['GK', 'M', 'A', 'D', ...]\n",
    "heights = [191, 184, 185, 180, ...]\n",
    "```\n",
    "Each element in the lists corresponds to a player. The first list, positions, contains strings representing each player's `position`. The possible positions are: `'GK'` (goalkeeper), `'M'` (midfield), `'A'` (attack) and `'D'` (defense). The second list, `heights`, contains integers representing the height of the player in cm. The first player in the lists is a goalkeeper and is pretty tall (191 cm).\n",
    "\n",
    "You're fairly confident that the median height of goalkeepers is higher than that of other players on the soccer field. Some of your friends don't believe you, so you are determined to show them using the data you received from FIFA and your newly acquired Python skills."
   ]
  },
  {
   "cell_type": "markdown",
   "id": "77b9c8e4-89b1-404b-af7e-225e032f2187",
   "metadata": {},
   "source": [
    "### Instructions\n",
    "- Convert `heights` and `positions`, which are regular lists, to numpy arrays. Call them `np_heights` and `np_positions`.\n",
    "- Extract all the heights of the goalkeepers. You can use a little trick here: use `np_positions == 'GK'` as an index for `np_heights`. Assign the result to `gk_heights`.\n",
    "- Extract all the heights of all the other players. This time use `np_positions != 'GK'` as an index for `np_heights`. Assign the result to `other_heights`.\n",
    "- Print out the median height of the goalkeepers using `np.median()`. Replace `None` with the correct code.\n",
    "- Do the same for the other players. Print out their median height. Replace `None` with the correct code."
   ]
  },
  {
   "cell_type": "code",
   "execution_count": 86,
   "id": "2bf4ba7e-869a-4d16-ad41-cf3929537032",
   "metadata": {},
   "outputs": [
    {
     "data": {
      "text/html": [
       "<div>\n",
       "<style scoped>\n",
       "    .dataframe tbody tr th:only-of-type {\n",
       "        vertical-align: middle;\n",
       "    }\n",
       "\n",
       "    .dataframe tbody tr th {\n",
       "        vertical-align: top;\n",
       "    }\n",
       "\n",
       "    .dataframe thead th {\n",
       "        text-align: right;\n",
       "    }\n",
       "</style>\n",
       "<table border=\"1\" class=\"dataframe\">\n",
       "  <thead>\n",
       "    <tr style=\"text-align: right;\">\n",
       "      <th></th>\n",
       "      <th>id</th>\n",
       "      <th>name</th>\n",
       "      <th>rating</th>\n",
       "      <th>position</th>\n",
       "      <th>height</th>\n",
       "      <th>foot</th>\n",
       "      <th>rare</th>\n",
       "      <th>pace</th>\n",
       "      <th>shooting</th>\n",
       "      <th>passing</th>\n",
       "      <th>dribbling</th>\n",
       "      <th>defending</th>\n",
       "      <th>heading</th>\n",
       "      <th>diving</th>\n",
       "      <th>handling</th>\n",
       "      <th>kicking</th>\n",
       "      <th>reflexes</th>\n",
       "      <th>speed</th>\n",
       "      <th>positioning</th>\n",
       "    </tr>\n",
       "  </thead>\n",
       "  <tbody>\n",
       "    <tr>\n",
       "      <th>0</th>\n",
       "      <td>1001</td>\n",
       "      <td>Gábor Király</td>\n",
       "      <td>69</td>\n",
       "      <td>GK</td>\n",
       "      <td>191</td>\n",
       "      <td>Right</td>\n",
       "      <td>0</td>\n",
       "      <td></td>\n",
       "      <td></td>\n",
       "      <td></td>\n",
       "      <td></td>\n",
       "      <td></td>\n",
       "      <td></td>\n",
       "      <td>70</td>\n",
       "      <td>66</td>\n",
       "      <td>63</td>\n",
       "      <td>74</td>\n",
       "      <td>35</td>\n",
       "      <td>66.0</td>\n",
       "    </tr>\n",
       "    <tr>\n",
       "      <th>1</th>\n",
       "      <td>100143</td>\n",
       "      <td>Frederik Boi</td>\n",
       "      <td>65</td>\n",
       "      <td>M</td>\n",
       "      <td>184</td>\n",
       "      <td>Right</td>\n",
       "      <td>0</td>\n",
       "      <td>61</td>\n",
       "      <td>65</td>\n",
       "      <td>63</td>\n",
       "      <td>59</td>\n",
       "      <td>62</td>\n",
       "      <td>62</td>\n",
       "      <td></td>\n",
       "      <td></td>\n",
       "      <td></td>\n",
       "      <td></td>\n",
       "      <td></td>\n",
       "      <td>NaN</td>\n",
       "    </tr>\n",
       "  </tbody>\n",
       "</table>\n",
       "</div>"
      ],
      "text/plain": [
       "       id           name  rating position  height    foot  rare pace shooting  \\\n",
       "0    1001   Gábor Király      69       GK     191   Right     0                 \n",
       "1  100143   Frederik Boi      65        M     184   Right     0   61       65   \n",
       "\n",
       "  passing dribbling defending heading diving handling kicking reflexes speed  \\\n",
       "0                                         70       66      63       74    35   \n",
       "1      63        59        62      62                                          \n",
       "\n",
       "   positioning  \n",
       "0         66.0  \n",
       "1          NaN  "
      ]
     },
     "execution_count": 86,
     "metadata": {},
     "output_type": "execute_result"
    }
   ],
   "source": [
    "fifa = pd.read_csv('datasets/fifa.csv') # CSV columns name contains spaces (nice to know -_-)\n",
    "fifa.columns = fifa.columns.str.replace(' ','') # Remove spaces from columns name\n",
    "fifa['position']=fifa['position'].str.replace(' ','') # Remove spaces from column 'position'\n",
    "fifa.head(2)"
   ]
  },
  {
   "cell_type": "code",
   "execution_count": 85,
   "id": "289915e5-875f-43d3-8455-ffe99a5cb071",
   "metadata": {},
   "outputs": [
    {
     "data": {
      "text/plain": [
       "array([['GK'],\n",
       "       ['M'],\n",
       "       ['A'],\n",
       "       ...,\n",
       "       ['D'],\n",
       "       ['D'],\n",
       "       ['M']], dtype=object)"
      ]
     },
     "execution_count": 85,
     "metadata": {},
     "output_type": "execute_result"
    }
   ],
   "source": [
    "np_positions = fifa[['position']].to_numpy()\n",
    "np_positions"
   ]
  },
  {
   "cell_type": "code",
   "execution_count": 62,
   "id": "264023d8-70c4-4905-b2b4-a2d1c7f6b681",
   "metadata": {},
   "outputs": [
    {
     "data": {
      "text/plain": [
       "array([[191],\n",
       "       [184],\n",
       "       [185],\n",
       "       ...,\n",
       "       [183],\n",
       "       [179],\n",
       "       [179]])"
      ]
     },
     "execution_count": 62,
     "metadata": {},
     "output_type": "execute_result"
    }
   ],
   "source": [
    "np_heights = fifa[['height']].to_numpy()\n",
    "np_heights"
   ]
  },
  {
   "cell_type": "code",
   "execution_count": 87,
   "id": "371aaba8-9e80-4806-b298-ef1b9ff613c0",
   "metadata": {},
   "outputs": [],
   "source": [
    "gk_heights = np_heights[np_positions == 'GK']"
   ]
  },
  {
   "cell_type": "code",
   "execution_count": 88,
   "id": "e13b1b5c-cca2-4c63-a85e-b8e1bbc12feb",
   "metadata": {},
   "outputs": [],
   "source": [
    "other_heights = np_heights[np_positions != 'GK']"
   ]
  },
  {
   "cell_type": "code",
   "execution_count": 89,
   "id": "51a37d8b-4169-490a-9d9a-11215f21376b",
   "metadata": {},
   "outputs": [
    {
     "data": {
      "text/plain": [
       "188.0"
      ]
     },
     "execution_count": 89,
     "metadata": {},
     "output_type": "execute_result"
    }
   ],
   "source": [
    "np.median(gk_heights)"
   ]
  },
  {
   "cell_type": "code",
   "execution_count": 90,
   "id": "3d01ba1e-0e05-4e1f-8c0e-3d4b3f521a09",
   "metadata": {},
   "outputs": [
    {
     "data": {
      "text/plain": [
       "181.0"
      ]
     },
     "execution_count": 90,
     "metadata": {},
     "output_type": "execute_result"
    }
   ],
   "source": [
    "np.median(other_heights)"
   ]
  },
  {
   "cell_type": "code",
   "execution_count": null,
   "id": "1769be26-59b7-4fd1-b6c3-6a24b11acd0f",
   "metadata": {},
   "outputs": [],
   "source": []
  }
 ],
 "metadata": {
  "kernelspec": {
   "display_name": "Python 3 (ipykernel)",
   "language": "python",
   "name": "python3"
  },
  "language_info": {
   "codemirror_mode": {
    "name": "ipython",
    "version": 3
   },
   "file_extension": ".py",
   "mimetype": "text/x-python",
   "name": "python",
   "nbconvert_exporter": "python",
   "pygments_lexer": "ipython3",
   "version": "3.9.9"
  }
 },
 "nbformat": 4,
 "nbformat_minor": 5
}
