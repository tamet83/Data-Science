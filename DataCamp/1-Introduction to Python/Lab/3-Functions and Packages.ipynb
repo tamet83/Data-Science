{
 "cells": [
  {
   "cell_type": "markdown",
   "id": "6862451d-6ed2-4b0c-a83a-9cae4c0f2f6f",
   "metadata": {},
   "source": [
    "# Functions and Packages"
   ]
  },
  {
   "cell_type": "markdown",
   "id": "4fb1fe3c-4827-443c-a4ce-50abbbe6c5d4",
   "metadata": {},
   "source": [
    "Familiar functions\n",
    "\n",
    "Out of the box, Python offers a bunch of built-in functions to make your life as a data scientist easier. You already know two such functions: `print()` and `type()`. You've also used the functions `str()`, `int()`, `bool()` and `float()` to switch between data types. These are built-in functions as well.\n",
    "\n",
    "Calling a function is easy. To get the type of 3.0 and store the output as a new variable, result, you can use the following:\n",
    "```\n",
    "result = type(3.0)\n",
    "```\n",
    "The general recipe for calling functions and saving the result to a variable is thus:\n",
    "```\n",
    "output = function_name(input)\n",
    "```"
   ]
  },
  {
   "cell_type": "markdown",
   "id": "38721ec4-dcdf-4a1d-9534-a439d63df993",
   "metadata": {},
   "source": [
    "- Use `print()` in combination with `type()` to print out the type of `var1`.\n",
    "- Use `len()` to get the length of the list `var1`. Wrap it in a `print()` call to directly print it out.\n",
    "- Use `int()` to convert `var2` to an integer. Store the output as `out2`."
   ]
  },
  {
   "cell_type": "code",
   "execution_count": 1,
   "id": "a62249f6-fb59-460e-ac7c-a75ffd4f3c14",
   "metadata": {},
   "outputs": [
    {
     "name": "stdout",
     "output_type": "stream",
     "text": [
      "<class 'list'>\n",
      "4\n"
     ]
    }
   ],
   "source": [
    "# Create variables var1 and var2\n",
    "var1 = [1, 2, 3, 4]\n",
    "var2 = True\n",
    "\n",
    "# Print out type of var1\n",
    "print(type(var1))\n",
    "\n",
    "# Print out length of var1\n",
    "print(len(var1))\n",
    "\n",
    "# Convert var2 to an integer: out2\n",
    "out2 = int(var2)"
   ]
  },
  {
   "cell_type": "markdown",
   "id": "6fe8784b-b7b5-4ac7-84cd-8dd0f35caad1",
   "metadata": {},
   "source": [
    "## Multiple arguments\n",
    "\n",
    "In the previous exercise, the square brackets around imag in the documentation showed us that the imag argument is optional. But Python also uses a different way to tell users about arguments being optional.\n",
    "\n",
    "Have a look at the documentation of `sorted()` by typing `help(sorted)` in the IPython Shell.\n",
    "\n",
    "You'll see that `sorted()` takes three arguments: `iterable`, `key` and `reverse`.\n",
    "\n",
    "`key=None` means that if you don't specify the `key` argument, it will be `None`. `reverse=False` means that if you don't specify the reverse argument, it will be False.\n",
    "\n",
    "In this exercise, you'll only have to specify iterable and reverse, not key. The first input you pass to `sorted()` will be matched to the iterable argument, but what about the second input? To tell Python you want to specify reverse without changing anything about key, you can use =:\n",
    "\n",
    "```\n",
    "sorted(___, reverse = ___)\n",
    "```"
   ]
  },
  {
   "cell_type": "markdown",
   "id": "4c6fdd3d-abdf-4959-a4b6-6de923cba072",
   "metadata": {},
   "source": [
    "- Use `+` to merge the contents of `first` and `second` into a new list: `full`.\n",
    "- Call `sorted()` on full and specify the `reverse` argument to be `True`. Save the sorted list as `full_sorted`.\n",
    "- Finish off by printing out `full_sorted`."
   ]
  },
  {
   "cell_type": "code",
   "execution_count": 3,
   "id": "46b2302f-fd28-43b7-8923-acdd5355f0c9",
   "metadata": {},
   "outputs": [
    {
     "name": "stdout",
     "output_type": "stream",
     "text": [
      "[20.0, 18.0, 11.25, 10.75, 9.5]\n"
     ]
    }
   ],
   "source": [
    "# Create lists first and second\n",
    "first = [11.25, 18.0, 20.0]\n",
    "second = [10.75, 9.50]\n",
    "\n",
    "# Paste together first and second: full\n",
    "full = first + second\n",
    "\n",
    "# Sort full in descending order: full_sorted\n",
    "full_sorted = sorted(full, reverse = True)\n",
    "\n",
    "# Print out full_sorted\n",
    "print(full_sorted)"
   ]
  },
  {
   "cell_type": "markdown",
   "id": "599cbbf1-b1f8-4389-995d-2d87f1366d20",
   "metadata": {},
   "source": [
    "## String Methods\n",
    "\n",
    "Strings come with a bunch of methods. Follow the instructions closely to discover some of them. If you want to discover them in more detail, you can always type `help(str)` in the IPython Shell.\n",
    "\n",
    "A string place has already been created for you to experiment with."
   ]
  },
  {
   "cell_type": "markdown",
   "id": "76d3eb0a-d26f-4d75-98d4-1ba6faf28bf3",
   "metadata": {},
   "source": [
    "- Use the `upper()` method on `place` and store the result in `place_up`. Use the syntax for calling methods that you learned in the previous video.\n",
    "- Print out place and `place_up`. Did both change?\n",
    "- Print out the number of o's on the variable `place` by calling `count()` on place and passing the letter `'o'` as an input to the method. We're talking about the variable `place`, not the word `\"place\"`!"
   ]
  },
  {
   "cell_type": "code",
   "execution_count": 4,
   "id": "59d444cc-3531-411c-830a-e18dbdcb03ba",
   "metadata": {},
   "outputs": [
    {
     "name": "stdout",
     "output_type": "stream",
     "text": [
      "poolhouse\n",
      "POOLHOUSE\n",
      "3\n"
     ]
    }
   ],
   "source": [
    "# string to experiment with: place\n",
    "place = \"poolhouse\"\n",
    "\n",
    "# Use upper() on place: place_up\n",
    "place_up = place.upper()\n",
    "\n",
    "# Print out place and place_up\n",
    "print(place)\n",
    "print(place_up)\n",
    "\n",
    "# Print out the number of o's in place\n",
    "print(place.count('o'))"
   ]
  },
  {
   "cell_type": "markdown",
   "id": "e866e752-e5ed-44df-b8df-e9acb84e9f26",
   "metadata": {},
   "source": [
    "## List Methods\n",
    "\n",
    "Strings are not the only Python types that have methods associated with them. Lists, floats, integers and booleans are also types that come packaged with a bunch of useful methods. In this exercise, you'll be experimenting with:\n",
    "\n",
    "    - `index()`, to get the index of the first element of a list that matches its input and\n",
    "    - `count()`, to get the number of times an element appears in a list.\n",
    "\n",
    "You'll be working on the list with the area of different parts of a house: `areas`."
   ]
  },
  {
   "cell_type": "markdown",
   "id": "2473ec85-5e55-41ee-a9c1-a335ab469bc8",
   "metadata": {},
   "source": [
    "- Use the `index()` method to get the index of the element in `areas` that is equal to `20.0`. Print out this index.\n",
    "- Call `count()` on `areas` to find out how many times `9.50` appears in the list. Again, simply print out this number."
   ]
  },
  {
   "cell_type": "code",
   "execution_count": 5,
   "id": "0615eb83-7ebf-49f6-939b-9cce9861f800",
   "metadata": {},
   "outputs": [
    {
     "name": "stdout",
     "output_type": "stream",
     "text": [
      "2\n",
      "1\n"
     ]
    }
   ],
   "source": [
    "# Create list areas\n",
    "areas = [11.25, 18.0, 20.0, 10.75, 9.50]\n",
    "\n",
    "# Print out the index of the element 20.0\n",
    "print(areas.index(20.0))\n",
    "\n",
    "# Print out how often 9.50 appears in areas\n",
    "print(areas.count(9.50))"
   ]
  },
  {
   "cell_type": "markdown",
   "id": "c559e72c-afcb-4136-bb74-7620a1d952c8",
   "metadata": {},
   "source": [
    "## List Methods (2)\n",
    "\n",
    "Most list methods will change the list they're called on. Examples are:\n",
    "\n",
    "    - `append()`, that adds an element to the list it is called on,\n",
    "    - `remove()`, that removes the first element of a list that matches the input, and\n",
    "    - `reverse()`, that reverses the order of the elements in the list it is called on.\n",
    "\n",
    "You'll be working on the list with the area of different parts of the house: `areas`."
   ]
  },
  {
   "cell_type": "markdown",
   "id": "333e28bb-de05-46ee-860b-0c2d822defd0",
   "metadata": {},
   "source": [
    "- Use `append()` twice to add the size of the poolhouse and the garage again: `24.5` and `15.45`, respectively. Make sure to add them in this order.\n",
    "- Print out `areas`\n",
    "- Use the `reverse()` method to reverse the order of the elements in `areas`.\n",
    "- Print out `areas` once more."
   ]
  },
  {
   "cell_type": "code",
   "execution_count": 6,
   "id": "cdbd0c78-b0c5-4671-a7b0-dc462f515299",
   "metadata": {},
   "outputs": [
    {
     "name": "stdout",
     "output_type": "stream",
     "text": [
      "[11.25, 18.0, 20.0, 10.75, 9.5, 24.5, 15.45]\n",
      "[15.45, 24.5, 9.5, 10.75, 20.0, 18.0, 11.25]\n"
     ]
    }
   ],
   "source": [
    "# Create list areas\n",
    "areas = [11.25, 18.0, 20.0, 10.75, 9.50]\n",
    "\n",
    "# Use append twice to add poolhouse and garage size\n",
    "areas.append(24.5)\n",
    "areas.append(15.45)\n",
    "\n",
    "\n",
    "# Print out areas\n",
    "print(areas)\n",
    "\n",
    "# Reverse the orders of the elements in areas\n",
    "areas.reverse()\n",
    "\n",
    "# Print out areas\n",
    "print(areas)"
   ]
  },
  {
   "cell_type": "markdown",
   "id": "3877e53e-b3d4-4e81-a0a9-392dd8417b1d",
   "metadata": {},
   "source": [
    "## Import package\n",
    "\n",
    "As a data scientist, some notions of geometry never hurt. Let's refresh some of the basics.\n",
    "\n",
    "For a fancy clustering algorithm, you want to find the circumference, C, and area, A, of a circle. When the radius of the circle is `r`, you can calculate C and A as:\n",
    "```\n",
    "C = 2πr\n",
    "A = πr^2\n",
    "```\n",
    "To use the constant `pi`, you'll need the `math` package. A variable `r` is already coded in the script. Fill in the code to calculate `C` and `A` and see how the `print()` functions create some nice printouts."
   ]
  },
  {
   "cell_type": "markdown",
   "id": "999588e2-7c56-4410-9b23-364bbb6a1f21",
   "metadata": {},
   "source": [
    "- Import the `math` package. Now you can access the constant pi with math.pi.\n",
    "- Calculate the circumference of the circle and store it in `C`.\n",
    "- Calculate the area of the circle and store it in `A`."
   ]
  },
  {
   "cell_type": "code",
   "execution_count": 7,
   "id": "73cfcf7c-c880-4701-915a-2f80f327f9c5",
   "metadata": {},
   "outputs": [
    {
     "name": "stdout",
     "output_type": "stream",
     "text": [
      "Circumference: 2.701769682087222\n",
      "Area: 0.5808804816487527\n"
     ]
    }
   ],
   "source": [
    "# Definition of radius\n",
    "r = 0.43\n",
    "\n",
    "# Import the math package\n",
    "import math\n",
    "\n",
    "# Calculate C\n",
    "C = 2*math.pi*r\n",
    "\n",
    "# Calculate A\n",
    "A = math.pi*r**2\n",
    "\n",
    "# Build printout\n",
    "print(\"Circumference: \" + str(C))\n",
    "print(\"Area: \" + str(A))"
   ]
  },
  {
   "cell_type": "markdown",
   "id": "87a54fbc-e43e-4ec7-9c28-0a224bc7cea5",
   "metadata": {},
   "source": [
    "## Selective import\n",
    "\n",
    "General imports, like `import math`, make all functionality from the `math` package available to you. However, if you decide to only use a specific part of a package, you can always make your import more selective:\n",
    "```Python\n",
    "from math import pi\n",
    "```\n",
    "Let's say the Moon's orbit around planet Earth is a perfect circle, with a radius `r` (in km) that is defined in the script."
   ]
  },
  {
   "cell_type": "markdown",
   "id": "2ebe7581-a12f-4ee3-97ec-5bf028ed9912",
   "metadata": {},
   "source": [
    "- Perform a selective import from the `math` package where you only import the `radians` function.\n",
    "- Calculate the distance travelled by the Moon over 12 degrees of its orbit. Assign the result to `dist`. You can calculate this as `r * phi`, where `r` is the radius and `phi` is the angle in radians. To convert an angle in degrees to an angle in `radians`, use the radians() function, which you just imported.\n",
    "- Print out dist."
   ]
  },
  {
   "cell_type": "code",
   "execution_count": 8,
   "id": "9a79f4da-0efd-4ed0-8576-5e54567377e3",
   "metadata": {},
   "outputs": [
    {
     "name": "stdout",
     "output_type": "stream",
     "text": [
      "40317.10572106901\n"
     ]
    }
   ],
   "source": [
    "# Definition of radius\n",
    "r = 192500\n",
    "\n",
    "# Import radians function of math package\n",
    "from math import radians\n",
    "\n",
    "# Travel distance of Moon over 12 degrees. Store in dist.\n",
    "phi = 12\n",
    "dist = r * radians(phi)\n",
    "\n",
    "# Print out dist\n",
    "print(dist)"
   ]
  },
  {
   "cell_type": "markdown",
   "id": "0c35c79e-a0e4-47f6-ab53-9fb41b837209",
   "metadata": {},
   "source": [
    "## Different ways of importing\n",
    "\n",
    "There are several ways to import packages and modules into Python. Depending on the import call, you'll have to use different Python code.\n",
    "\n",
    "Suppose you want to use the function `inv()`, which is in the `linalg` subpackage of the scipy package. You want to be able to use this function as follows:\n",
    "```Python\n",
    "my_inv([[1,2], [3,4]])\n",
    "```\n",
    "Which `import` statement will you need in order to run the above code without an error?"
   ]
  },
  {
   "cell_type": "code",
   "execution_count": 9,
   "id": "0942fcf3-8f67-4c71-8c76-8471cd67db7e",
   "metadata": {},
   "outputs": [],
   "source": [
    "from scipy.linalg import inv as my_inv"
   ]
  }
 ],
 "metadata": {
  "kernelspec": {
   "display_name": "Python 3 (ipykernel)",
   "language": "python",
   "name": "python3"
  },
  "language_info": {
   "codemirror_mode": {
    "name": "ipython",
    "version": 3
   },
   "file_extension": ".py",
   "mimetype": "text/x-python",
   "name": "python",
   "nbconvert_exporter": "python",
   "pygments_lexer": "ipython3",
   "version": "3.9.9"
  }
 },
 "nbformat": 4,
 "nbformat_minor": 5
}
