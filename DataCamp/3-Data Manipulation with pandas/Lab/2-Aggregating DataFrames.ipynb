{
 "cells": [
  {
   "cell_type": "markdown",
   "id": "04c7c7d2-5c8a-4fd6-b0c7-d8ffcf066dd6",
   "metadata": {},
   "source": [
    "# Aggregating DataFrames"
   ]
  },
  {
   "cell_type": "markdown",
   "id": "ba452444-c159-422c-85d1-d39a10bef2d8",
   "metadata": {},
   "source": [
    "## Mean and median\n",
    "\n",
    "Summary statistics are exactly what they sound like - they summarize many numbers in one statistic. For example, mean, median, minimum, maximum, and standard deviation are summary statistics. Calculating summary statistics allows you to get a better sense of your data, even if there's a lot of it."
   ]
  },
  {
   "cell_type": "markdown",
   "id": "51ff2e63-c0d3-453b-a925-4c4ddc790b49",
   "metadata": {},
   "source": [
    "### Instructions\n",
    "- Explore your new DataFrame first by printing the first few rows of the `sales` DataFrame.\n",
    "- Print information about the columns in `sales`.\n",
    "- Print the `mean` of the `weekly_sales` column.\n",
    "- Print the `median` of the `weekly_sales` column."
   ]
  },
  {
   "cell_type": "code",
   "execution_count": 26,
   "id": "3772a84e-1790-46c2-a7ad-47037e897595",
   "metadata": {},
   "outputs": [
    {
     "data": {
      "text/html": [
       "<div>\n",
       "<style scoped>\n",
       "    .dataframe tbody tr th:only-of-type {\n",
       "        vertical-align: middle;\n",
       "    }\n",
       "\n",
       "    .dataframe tbody tr th {\n",
       "        vertical-align: top;\n",
       "    }\n",
       "\n",
       "    .dataframe thead th {\n",
       "        text-align: right;\n",
       "    }\n",
       "</style>\n",
       "<table border=\"1\" class=\"dataframe\">\n",
       "  <thead>\n",
       "    <tr style=\"text-align: right;\">\n",
       "      <th></th>\n",
       "      <th>store</th>\n",
       "      <th>type</th>\n",
       "      <th>department</th>\n",
       "      <th>date</th>\n",
       "      <th>weekly_sales</th>\n",
       "      <th>is_holiday</th>\n",
       "      <th>temperature_c</th>\n",
       "      <th>fuel_price_usd_per_l</th>\n",
       "      <th>unemployment</th>\n",
       "    </tr>\n",
       "  </thead>\n",
       "  <tbody>\n",
       "    <tr>\n",
       "      <th>0</th>\n",
       "      <td>1</td>\n",
       "      <td>A</td>\n",
       "      <td>1</td>\n",
       "      <td>2010-02-05</td>\n",
       "      <td>24924.50</td>\n",
       "      <td>False</td>\n",
       "      <td>5.727778</td>\n",
       "      <td>0.679451</td>\n",
       "      <td>8.106</td>\n",
       "    </tr>\n",
       "    <tr>\n",
       "      <th>1</th>\n",
       "      <td>1</td>\n",
       "      <td>A</td>\n",
       "      <td>1</td>\n",
       "      <td>2010-03-05</td>\n",
       "      <td>21827.90</td>\n",
       "      <td>False</td>\n",
       "      <td>8.055556</td>\n",
       "      <td>0.693452</td>\n",
       "      <td>8.106</td>\n",
       "    </tr>\n",
       "    <tr>\n",
       "      <th>2</th>\n",
       "      <td>1</td>\n",
       "      <td>A</td>\n",
       "      <td>1</td>\n",
       "      <td>2010-04-02</td>\n",
       "      <td>57258.43</td>\n",
       "      <td>False</td>\n",
       "      <td>16.816667</td>\n",
       "      <td>0.718284</td>\n",
       "      <td>7.808</td>\n",
       "    </tr>\n",
       "    <tr>\n",
       "      <th>3</th>\n",
       "      <td>1</td>\n",
       "      <td>A</td>\n",
       "      <td>1</td>\n",
       "      <td>2010-05-07</td>\n",
       "      <td>17413.94</td>\n",
       "      <td>False</td>\n",
       "      <td>22.527778</td>\n",
       "      <td>0.748928</td>\n",
       "      <td>7.808</td>\n",
       "    </tr>\n",
       "    <tr>\n",
       "      <th>4</th>\n",
       "      <td>1</td>\n",
       "      <td>A</td>\n",
       "      <td>1</td>\n",
       "      <td>2010-06-04</td>\n",
       "      <td>17558.09</td>\n",
       "      <td>False</td>\n",
       "      <td>27.050000</td>\n",
       "      <td>0.714586</td>\n",
       "      <td>7.808</td>\n",
       "    </tr>\n",
       "  </tbody>\n",
       "</table>\n",
       "</div>"
      ],
      "text/plain": [
       "   store type  department       date  weekly_sales  is_holiday  temperature_c  \\\n",
       "0      1    A           1 2010-02-05      24924.50       False       5.727778   \n",
       "1      1    A           1 2010-03-05      21827.90       False       8.055556   \n",
       "2      1    A           1 2010-04-02      57258.43       False      16.816667   \n",
       "3      1    A           1 2010-05-07      17413.94       False      22.527778   \n",
       "4      1    A           1 2010-06-04      17558.09       False      27.050000   \n",
       "\n",
       "   fuel_price_usd_per_l  unemployment  \n",
       "0              0.679451         8.106  \n",
       "1              0.693452         8.106  \n",
       "2              0.718284         7.808  \n",
       "3              0.748928         7.808  \n",
       "4              0.714586         7.808  "
      ]
     },
     "execution_count": 26,
     "metadata": {},
     "output_type": "execute_result"
    }
   ],
   "source": [
    "import pandas as pd\n",
    "import numpy as np\n",
    "sales = pd.read_csv('dataset/sales_subset.csv', index_col = 0, parse_dates=['date'])\n",
    "sales.head()"
   ]
  },
  {
   "cell_type": "code",
   "execution_count": 15,
   "id": "06fc52a7-36bd-40e8-82e4-4bbde2da5102",
   "metadata": {},
   "outputs": [
    {
     "name": "stdout",
     "output_type": "stream",
     "text": [
      "<class 'pandas.core.frame.DataFrame'>\n",
      "Int64Index: 10774 entries, 0 to 10773\n",
      "Data columns (total 9 columns):\n",
      " #   Column                Non-Null Count  Dtype         \n",
      "---  ------                --------------  -----         \n",
      " 0   store                 10774 non-null  int64         \n",
      " 1   type                  10774 non-null  object        \n",
      " 2   department            10774 non-null  int64         \n",
      " 3   date                  10774 non-null  datetime64[ns]\n",
      " 4   weekly_sales          10774 non-null  float64       \n",
      " 5   is_holiday            10774 non-null  bool          \n",
      " 6   temperature_c         10774 non-null  float64       \n",
      " 7   fuel_price_usd_per_l  10774 non-null  float64       \n",
      " 8   unemployment          10774 non-null  float64       \n",
      "dtypes: bool(1), datetime64[ns](1), float64(4), int64(2), object(1)\n",
      "memory usage: 768.1+ KB\n"
     ]
    }
   ],
   "source": [
    "sales.info()"
   ]
  },
  {
   "cell_type": "code",
   "execution_count": 16,
   "id": "a45506e0-122d-4b0c-bb57-0dd3bd0b3455",
   "metadata": {},
   "outputs": [
    {
     "data": {
      "text/plain": [
       "23843.95014850566"
      ]
     },
     "execution_count": 16,
     "metadata": {},
     "output_type": "execute_result"
    }
   ],
   "source": [
    "sales['weekly_sales'].mean()"
   ]
  },
  {
   "cell_type": "code",
   "execution_count": 17,
   "id": "d07d51b9-8ab0-4063-a8a0-c609e27d2a45",
   "metadata": {},
   "outputs": [
    {
     "data": {
      "text/plain": [
       "12049.064999999999"
      ]
     },
     "execution_count": 17,
     "metadata": {},
     "output_type": "execute_result"
    }
   ],
   "source": [
    "sales['weekly_sales'].median()"
   ]
  },
  {
   "cell_type": "markdown",
   "id": "c1d2600d-6696-4ae7-b139-8571e499aa3a",
   "metadata": {},
   "source": [
    "## Summarizing dates\n",
    "\n",
    "Summary statistics can also be calculated on date columns that have values with the data type `datetime64`. Some summary statistics — like mean — don't make a ton of sense on dates, but others are super helpful, for example, minimum and maximum, which allow you to see what time range your data covers"
   ]
  },
  {
   "cell_type": "markdown",
   "id": "434b41d5-932f-42dc-89fa-5ff525c1c327",
   "metadata": {},
   "source": [
    "### Instructions\n",
    "- Print the `maximum` of the date column.\n",
    "- Print the `minimum` of the date column."
   ]
  },
  {
   "cell_type": "code",
   "execution_count": 18,
   "id": "9c618b37-2d10-4c63-800d-5d78432dfa6a",
   "metadata": {},
   "outputs": [
    {
     "name": "stdout",
     "output_type": "stream",
     "text": [
      "2012-10-26 00:00:00\n"
     ]
    }
   ],
   "source": [
    "print(sales['date'].max())"
   ]
  },
  {
   "cell_type": "code",
   "execution_count": 19,
   "id": "43f2fd33-187f-4d99-81dc-5bd68b215f0d",
   "metadata": {},
   "outputs": [
    {
     "name": "stdout",
     "output_type": "stream",
     "text": [
      "2010-02-05 00:00:00\n"
     ]
    }
   ],
   "source": [
    "print(sales['date'].min())"
   ]
  },
  {
   "cell_type": "markdown",
   "id": "104c38de-9376-4ec8-803f-98e56a47b9b8",
   "metadata": {},
   "source": [
    "## Efficient summaries\n",
    "\n",
    "While `pandas` and `NumPy` have tons of functions, sometimes, you may need a different function to summarize your data.\n",
    "\n",
    "The `.agg()` method allows you to apply your own custom functions to a DataFrame, as well as apply functions to more than one column of a DataFrame at once, making your aggregations super-efficient. For example,\n",
    "```Python\n",
    "df['column'].agg(function)\n",
    "```\n",
    "In the custom function for this exercise, \"IQR\" is short for inter-quartile range, which is the 75th percentile minus the 25th percentile. It's an alternative to standard deviation that is helpful if your data contains outliers."
   ]
  },
  {
   "cell_type": "markdown",
   "id": "5d2210b1-e410-41aa-a6b4-07821d83a48e",
   "metadata": {},
   "source": [
    "### Instructions 1/3\n",
    "Use the custom `iqr` function defined for you along with `.agg()` to print the IQR of the `temperature_c` column of sales."
   ]
  },
  {
   "cell_type": "code",
   "execution_count": 21,
   "id": "793c16e7-b5b2-4280-94cd-f183615e48f7",
   "metadata": {},
   "outputs": [
    {
     "data": {
      "text/plain": [
       "16.583333333333336"
      ]
     },
     "execution_count": 21,
     "metadata": {},
     "output_type": "execute_result"
    }
   ],
   "source": [
    "# A custom IQR function\n",
    "def iqr(column):\n",
    "    return column.quantile(0.75) - column.quantile(0.25)\n",
    "\n",
    "sales['temperature_c'].agg(iqr)"
   ]
  },
  {
   "cell_type": "markdown",
   "id": "ad832173-eb62-40e4-b0ef-d89765dc08d0",
   "metadata": {},
   "source": [
    "### Instructions 2/3\n",
    "Update the column selection to use the custom `iqr` function with `.agg()` to print the IQR of `temperature_c`, `fuel_price_usd_per_l`, and `unemployment`, in that order."
   ]
  },
  {
   "cell_type": "code",
   "execution_count": 23,
   "id": "4d1d42cb-b45b-46eb-b050-375e075c4b8e",
   "metadata": {},
   "outputs": [
    {
     "data": {
      "text/plain": [
       "temperature_c           16.583333\n",
       "fuel_price_usd_per_l     0.073176\n",
       "unemployment             0.565000\n",
       "dtype: float64"
      ]
     },
     "execution_count": 23,
     "metadata": {},
     "output_type": "execute_result"
    }
   ],
   "source": [
    "sales[['temperature_c','fuel_price_usd_per_l','unemployment']].agg(iqr)"
   ]
  },
  {
   "cell_type": "markdown",
   "id": "30029dc0-b71d-4777-8949-cef15345bddc",
   "metadata": {},
   "source": [
    "### Instructions 3/3\n",
    "Update the aggregation functions called by `.agg()`: include `iqr` and `np.median` in that order."
   ]
  },
  {
   "cell_type": "code",
   "execution_count": 28,
   "id": "5348c38d-75dd-41cd-a72f-64e48a789c83",
   "metadata": {},
   "outputs": [
    {
     "data": {
      "text/html": [
       "<div>\n",
       "<style scoped>\n",
       "    .dataframe tbody tr th:only-of-type {\n",
       "        vertical-align: middle;\n",
       "    }\n",
       "\n",
       "    .dataframe tbody tr th {\n",
       "        vertical-align: top;\n",
       "    }\n",
       "\n",
       "    .dataframe thead th {\n",
       "        text-align: right;\n",
       "    }\n",
       "</style>\n",
       "<table border=\"1\" class=\"dataframe\">\n",
       "  <thead>\n",
       "    <tr style=\"text-align: right;\">\n",
       "      <th></th>\n",
       "      <th>temperature_c</th>\n",
       "      <th>fuel_price_usd_per_l</th>\n",
       "      <th>unemployment</th>\n",
       "    </tr>\n",
       "  </thead>\n",
       "  <tbody>\n",
       "    <tr>\n",
       "      <th>iqr</th>\n",
       "      <td>16.583333</td>\n",
       "      <td>0.073176</td>\n",
       "      <td>0.565</td>\n",
       "    </tr>\n",
       "    <tr>\n",
       "      <th>median</th>\n",
       "      <td>16.966667</td>\n",
       "      <td>0.743381</td>\n",
       "      <td>8.099</td>\n",
       "    </tr>\n",
       "  </tbody>\n",
       "</table>\n",
       "</div>"
      ],
      "text/plain": [
       "        temperature_c  fuel_price_usd_per_l  unemployment\n",
       "iqr         16.583333              0.073176         0.565\n",
       "median      16.966667              0.743381         8.099"
      ]
     },
     "execution_count": 28,
     "metadata": {},
     "output_type": "execute_result"
    }
   ],
   "source": [
    "sales[['temperature_c','fuel_price_usd_per_l','unemployment']].agg([iqr,np.median])"
   ]
  },
  {
   "cell_type": "markdown",
   "id": "7237f56f-e089-4954-8a32-228e191d9564",
   "metadata": {},
   "source": [
    "## Cumulative statistics\n",
    "\n",
    "Cumulative statistics can also be helpful in tracking summary statistics over time. In this exercise, you'll calculate the cumulative sum and cumulative max of a department's weekly sales, which will allow you to identify what the total sales were so far as well as what the highest weekly sales were so far."
   ]
  },
  {
   "cell_type": "markdown",
   "id": "ed052e0f-75d9-49d1-bcc4-5508662151e5",
   "metadata": {},
   "source": [
    "A DataFrame called `sales_1_1` has been created for you, which contains the sales data for department `1` of store 1."
   ]
  },
  {
   "cell_type": "code",
   "execution_count": 38,
   "id": "f5ec5c66-8b4f-49c0-abcc-f35ef43413e5",
   "metadata": {},
   "outputs": [],
   "source": [
    "sales_1_1 = sales[sales['department'] == 1] # Create the subset from sales DF\n",
    "sales_1_1.to_csv('dataset/sales_1_1.csv') # Store the subset in a new file to avoid errors in following manipulation"
   ]
  },
  {
   "cell_type": "markdown",
   "id": "77d61e37-7b01-45bb-a5dd-3a8b0a7fb62a",
   "metadata": {},
   "source": [
    "### Instructions\n",
    "- Sort the rows of `sales_1_1` by the `date` column in `ascending` order.\n",
    "- Get the `cumulative` sum of `weekly_sales` and add it as a new column of `sales_1_1` called `cum_weekly_sales`.\n",
    "- Get the `cumulative` maximum of `weekly_sales`, and add it as a column called `cum_max_sales`.\n",
    "- Print the date, `weekly_sales`, `cum_weekly_sales`, and `cum_max_sales` columns."
   ]
  },
  {
   "cell_type": "code",
   "execution_count": 44,
   "id": "a7f6c83b-20fd-4e86-97d4-c970659f8e30",
   "metadata": {},
   "outputs": [
    {
     "data": {
      "text/html": [
       "<div>\n",
       "<style scoped>\n",
       "    .dataframe tbody tr th:only-of-type {\n",
       "        vertical-align: middle;\n",
       "    }\n",
       "\n",
       "    .dataframe tbody tr th {\n",
       "        vertical-align: top;\n",
       "    }\n",
       "\n",
       "    .dataframe thead th {\n",
       "        text-align: right;\n",
       "    }\n",
       "</style>\n",
       "<table border=\"1\" class=\"dataframe\">\n",
       "  <thead>\n",
       "    <tr style=\"text-align: right;\">\n",
       "      <th></th>\n",
       "      <th>store</th>\n",
       "      <th>type</th>\n",
       "      <th>department</th>\n",
       "      <th>date</th>\n",
       "      <th>weekly_sales</th>\n",
       "      <th>is_holiday</th>\n",
       "      <th>temperature_c</th>\n",
       "      <th>fuel_price_usd_per_l</th>\n",
       "      <th>unemployment</th>\n",
       "    </tr>\n",
       "  </thead>\n",
       "  <tbody>\n",
       "    <tr>\n",
       "      <th>0</th>\n",
       "      <td>1</td>\n",
       "      <td>A</td>\n",
       "      <td>1</td>\n",
       "      <td>2010-02-05</td>\n",
       "      <td>24924.50</td>\n",
       "      <td>False</td>\n",
       "      <td>5.727778</td>\n",
       "      <td>0.679451</td>\n",
       "      <td>8.106</td>\n",
       "    </tr>\n",
       "    <tr>\n",
       "      <th>9009</th>\n",
       "      <td>31</td>\n",
       "      <td>A</td>\n",
       "      <td>1</td>\n",
       "      <td>2010-02-05</td>\n",
       "      <td>18187.71</td>\n",
       "      <td>False</td>\n",
       "      <td>3.916667</td>\n",
       "      <td>0.679451</td>\n",
       "      <td>8.324</td>\n",
       "    </tr>\n",
       "    <tr>\n",
       "      <th>8109</th>\n",
       "      <td>27</td>\n",
       "      <td>A</td>\n",
       "      <td>1</td>\n",
       "      <td>2010-02-05</td>\n",
       "      <td>32313.79</td>\n",
       "      <td>False</td>\n",
       "      <td>-2.672222</td>\n",
       "      <td>0.780365</td>\n",
       "      <td>8.237</td>\n",
       "    </tr>\n",
       "    <tr>\n",
       "      <th>7199</th>\n",
       "      <td>20</td>\n",
       "      <td>A</td>\n",
       "      <td>1</td>\n",
       "      <td>2010-02-05</td>\n",
       "      <td>46021.21</td>\n",
       "      <td>False</td>\n",
       "      <td>-3.377778</td>\n",
       "      <td>0.735455</td>\n",
       "      <td>8.187</td>\n",
       "    </tr>\n",
       "    <tr>\n",
       "      <th>6293</th>\n",
       "      <td>19</td>\n",
       "      <td>A</td>\n",
       "      <td>1</td>\n",
       "      <td>2010-02-05</td>\n",
       "      <td>21500.58</td>\n",
       "      <td>False</td>\n",
       "      <td>-6.133333</td>\n",
       "      <td>0.780365</td>\n",
       "      <td>8.350</td>\n",
       "    </tr>\n",
       "    <tr>\n",
       "      <th>...</th>\n",
       "      <td>...</td>\n",
       "      <td>...</td>\n",
       "      <td>...</td>\n",
       "      <td>...</td>\n",
       "      <td>...</td>\n",
       "      <td>...</td>\n",
       "      <td>...</td>\n",
       "      <td>...</td>\n",
       "      <td>...</td>\n",
       "    </tr>\n",
       "    <tr>\n",
       "      <th>1809</th>\n",
       "      <td>4</td>\n",
       "      <td>A</td>\n",
       "      <td>1</td>\n",
       "      <td>2011-01-07</td>\n",
       "      <td>25293.64</td>\n",
       "      <td>False</td>\n",
       "      <td>4.077778</td>\n",
       "      <td>0.787233</td>\n",
       "      <td>6.510</td>\n",
       "    </tr>\n",
       "    <tr>\n",
       "      <th>912</th>\n",
       "      <td>2</td>\n",
       "      <td>A</td>\n",
       "      <td>1</td>\n",
       "      <td>2011-01-07</td>\n",
       "      <td>19092.94</td>\n",
       "      <td>False</td>\n",
       "      <td>7.050000</td>\n",
       "      <td>0.786176</td>\n",
       "      <td>8.028</td>\n",
       "    </tr>\n",
       "    <tr>\n",
       "      <th>11</th>\n",
       "      <td>1</td>\n",
       "      <td>A</td>\n",
       "      <td>1</td>\n",
       "      <td>2011-01-07</td>\n",
       "      <td>15984.24</td>\n",
       "      <td>False</td>\n",
       "      <td>9.038889</td>\n",
       "      <td>0.786176</td>\n",
       "      <td>7.742</td>\n",
       "    </tr>\n",
       "    <tr>\n",
       "      <th>9020</th>\n",
       "      <td>31</td>\n",
       "      <td>A</td>\n",
       "      <td>1</td>\n",
       "      <td>2011-01-07</td>\n",
       "      <td>11953.28</td>\n",
       "      <td>False</td>\n",
       "      <td>6.800000</td>\n",
       "      <td>0.786176</td>\n",
       "      <td>8.028</td>\n",
       "    </tr>\n",
       "    <tr>\n",
       "      <th>9910</th>\n",
       "      <td>39</td>\n",
       "      <td>A</td>\n",
       "      <td>1</td>\n",
       "      <td>2011-01-07</td>\n",
       "      <td>11141.04</td>\n",
       "      <td>False</td>\n",
       "      <td>11.522222</td>\n",
       "      <td>0.786176</td>\n",
       "      <td>8.395</td>\n",
       "    </tr>\n",
       "  </tbody>\n",
       "</table>\n",
       "<p>144 rows × 9 columns</p>\n",
       "</div>"
      ],
      "text/plain": [
       "      store type  department        date  weekly_sales  is_holiday  \\\n",
       "0         1    A           1  2010-02-05      24924.50       False   \n",
       "9009     31    A           1  2010-02-05      18187.71       False   \n",
       "8109     27    A           1  2010-02-05      32313.79       False   \n",
       "7199     20    A           1  2010-02-05      46021.21       False   \n",
       "6293     19    A           1  2010-02-05      21500.58       False   \n",
       "...     ...  ...         ...         ...           ...         ...   \n",
       "1809      4    A           1  2011-01-07      25293.64       False   \n",
       "912       2    A           1  2011-01-07      19092.94       False   \n",
       "11        1    A           1  2011-01-07      15984.24       False   \n",
       "9020     31    A           1  2011-01-07      11953.28       False   \n",
       "9910     39    A           1  2011-01-07      11141.04       False   \n",
       "\n",
       "      temperature_c  fuel_price_usd_per_l  unemployment  \n",
       "0          5.727778              0.679451         8.106  \n",
       "9009       3.916667              0.679451         8.324  \n",
       "8109      -2.672222              0.780365         8.237  \n",
       "7199      -3.377778              0.735455         8.187  \n",
       "6293      -6.133333              0.780365         8.350  \n",
       "...             ...                   ...           ...  \n",
       "1809       4.077778              0.787233         6.510  \n",
       "912        7.050000              0.786176         8.028  \n",
       "11         9.038889              0.786176         7.742  \n",
       "9020       6.800000              0.786176         8.028  \n",
       "9910      11.522222              0.786176         8.395  \n",
       "\n",
       "[144 rows x 9 columns]"
      ]
     },
     "execution_count": 44,
     "metadata": {},
     "output_type": "execute_result"
    }
   ],
   "source": [
    "sales_1_1 = pd.read_csv('dataset/sales_1_1.csv',index_col = 0)\n",
    "sales_1_1.sort_values('date')"
   ]
  },
  {
   "cell_type": "code",
   "execution_count": 45,
   "id": "7f4f1407-426f-476f-954c-9c9199e01cb0",
   "metadata": {},
   "outputs": [
    {
     "data": {
      "text/html": [
       "<div>\n",
       "<style scoped>\n",
       "    .dataframe tbody tr th:only-of-type {\n",
       "        vertical-align: middle;\n",
       "    }\n",
       "\n",
       "    .dataframe tbody tr th {\n",
       "        vertical-align: top;\n",
       "    }\n",
       "\n",
       "    .dataframe thead th {\n",
       "        text-align: right;\n",
       "    }\n",
       "</style>\n",
       "<table border=\"1\" class=\"dataframe\">\n",
       "  <thead>\n",
       "    <tr style=\"text-align: right;\">\n",
       "      <th></th>\n",
       "      <th>store</th>\n",
       "      <th>type</th>\n",
       "      <th>department</th>\n",
       "      <th>date</th>\n",
       "      <th>weekly_sales</th>\n",
       "      <th>is_holiday</th>\n",
       "      <th>temperature_c</th>\n",
       "      <th>fuel_price_usd_per_l</th>\n",
       "      <th>unemployment</th>\n",
       "      <th>cum_weekly_sales</th>\n",
       "    </tr>\n",
       "  </thead>\n",
       "  <tbody>\n",
       "    <tr>\n",
       "      <th>0</th>\n",
       "      <td>1</td>\n",
       "      <td>A</td>\n",
       "      <td>1</td>\n",
       "      <td>2010-02-05</td>\n",
       "      <td>24924.50</td>\n",
       "      <td>False</td>\n",
       "      <td>5.727778</td>\n",
       "      <td>0.679451</td>\n",
       "      <td>8.106</td>\n",
       "      <td>24924.50</td>\n",
       "    </tr>\n",
       "    <tr>\n",
       "      <th>1</th>\n",
       "      <td>1</td>\n",
       "      <td>A</td>\n",
       "      <td>1</td>\n",
       "      <td>2010-03-05</td>\n",
       "      <td>21827.90</td>\n",
       "      <td>False</td>\n",
       "      <td>8.055556</td>\n",
       "      <td>0.693452</td>\n",
       "      <td>8.106</td>\n",
       "      <td>46752.40</td>\n",
       "    </tr>\n",
       "    <tr>\n",
       "      <th>2</th>\n",
       "      <td>1</td>\n",
       "      <td>A</td>\n",
       "      <td>1</td>\n",
       "      <td>2010-04-02</td>\n",
       "      <td>57258.43</td>\n",
       "      <td>False</td>\n",
       "      <td>16.816667</td>\n",
       "      <td>0.718284</td>\n",
       "      <td>7.808</td>\n",
       "      <td>104010.83</td>\n",
       "    </tr>\n",
       "    <tr>\n",
       "      <th>3</th>\n",
       "      <td>1</td>\n",
       "      <td>A</td>\n",
       "      <td>1</td>\n",
       "      <td>2010-05-07</td>\n",
       "      <td>17413.94</td>\n",
       "      <td>False</td>\n",
       "      <td>22.527778</td>\n",
       "      <td>0.748928</td>\n",
       "      <td>7.808</td>\n",
       "      <td>121424.77</td>\n",
       "    </tr>\n",
       "    <tr>\n",
       "      <th>4</th>\n",
       "      <td>1</td>\n",
       "      <td>A</td>\n",
       "      <td>1</td>\n",
       "      <td>2010-06-04</td>\n",
       "      <td>17558.09</td>\n",
       "      <td>False</td>\n",
       "      <td>27.050000</td>\n",
       "      <td>0.714586</td>\n",
       "      <td>7.808</td>\n",
       "      <td>138982.86</td>\n",
       "    </tr>\n",
       "  </tbody>\n",
       "</table>\n",
       "</div>"
      ],
      "text/plain": [
       "   store type  department        date  weekly_sales  is_holiday  \\\n",
       "0      1    A           1  2010-02-05      24924.50       False   \n",
       "1      1    A           1  2010-03-05      21827.90       False   \n",
       "2      1    A           1  2010-04-02      57258.43       False   \n",
       "3      1    A           1  2010-05-07      17413.94       False   \n",
       "4      1    A           1  2010-06-04      17558.09       False   \n",
       "\n",
       "   temperature_c  fuel_price_usd_per_l  unemployment  cum_weekly_sales  \n",
       "0       5.727778              0.679451         8.106          24924.50  \n",
       "1       8.055556              0.693452         8.106          46752.40  \n",
       "2      16.816667              0.718284         7.808         104010.83  \n",
       "3      22.527778              0.748928         7.808         121424.77  \n",
       "4      27.050000              0.714586         7.808         138982.86  "
      ]
     },
     "execution_count": 45,
     "metadata": {},
     "output_type": "execute_result"
    }
   ],
   "source": [
    "sales_1_1['cum_weekly_sales'] = sales_1_1['weekly_sales'].cumsum()\n",
    "sales_1_1.head()"
   ]
  },
  {
   "cell_type": "code",
   "execution_count": 46,
   "id": "bcea1ec7-8e5c-44c4-8645-bfa39599ae5d",
   "metadata": {},
   "outputs": [
    {
     "data": {
      "text/html": [
       "<div>\n",
       "<style scoped>\n",
       "    .dataframe tbody tr th:only-of-type {\n",
       "        vertical-align: middle;\n",
       "    }\n",
       "\n",
       "    .dataframe tbody tr th {\n",
       "        vertical-align: top;\n",
       "    }\n",
       "\n",
       "    .dataframe thead th {\n",
       "        text-align: right;\n",
       "    }\n",
       "</style>\n",
       "<table border=\"1\" class=\"dataframe\">\n",
       "  <thead>\n",
       "    <tr style=\"text-align: right;\">\n",
       "      <th></th>\n",
       "      <th>store</th>\n",
       "      <th>type</th>\n",
       "      <th>department</th>\n",
       "      <th>date</th>\n",
       "      <th>weekly_sales</th>\n",
       "      <th>is_holiday</th>\n",
       "      <th>temperature_c</th>\n",
       "      <th>fuel_price_usd_per_l</th>\n",
       "      <th>unemployment</th>\n",
       "      <th>cum_weekly_sales</th>\n",
       "      <th>cum_max_sales</th>\n",
       "    </tr>\n",
       "  </thead>\n",
       "  <tbody>\n",
       "    <tr>\n",
       "      <th>0</th>\n",
       "      <td>1</td>\n",
       "      <td>A</td>\n",
       "      <td>1</td>\n",
       "      <td>2010-02-05</td>\n",
       "      <td>24924.50</td>\n",
       "      <td>False</td>\n",
       "      <td>5.727778</td>\n",
       "      <td>0.679451</td>\n",
       "      <td>8.106</td>\n",
       "      <td>24924.50</td>\n",
       "      <td>24924.50</td>\n",
       "    </tr>\n",
       "    <tr>\n",
       "      <th>1</th>\n",
       "      <td>1</td>\n",
       "      <td>A</td>\n",
       "      <td>1</td>\n",
       "      <td>2010-03-05</td>\n",
       "      <td>21827.90</td>\n",
       "      <td>False</td>\n",
       "      <td>8.055556</td>\n",
       "      <td>0.693452</td>\n",
       "      <td>8.106</td>\n",
       "      <td>46752.40</td>\n",
       "      <td>24924.50</td>\n",
       "    </tr>\n",
       "    <tr>\n",
       "      <th>2</th>\n",
       "      <td>1</td>\n",
       "      <td>A</td>\n",
       "      <td>1</td>\n",
       "      <td>2010-04-02</td>\n",
       "      <td>57258.43</td>\n",
       "      <td>False</td>\n",
       "      <td>16.816667</td>\n",
       "      <td>0.718284</td>\n",
       "      <td>7.808</td>\n",
       "      <td>104010.83</td>\n",
       "      <td>57258.43</td>\n",
       "    </tr>\n",
       "    <tr>\n",
       "      <th>3</th>\n",
       "      <td>1</td>\n",
       "      <td>A</td>\n",
       "      <td>1</td>\n",
       "      <td>2010-05-07</td>\n",
       "      <td>17413.94</td>\n",
       "      <td>False</td>\n",
       "      <td>22.527778</td>\n",
       "      <td>0.748928</td>\n",
       "      <td>7.808</td>\n",
       "      <td>121424.77</td>\n",
       "      <td>57258.43</td>\n",
       "    </tr>\n",
       "    <tr>\n",
       "      <th>4</th>\n",
       "      <td>1</td>\n",
       "      <td>A</td>\n",
       "      <td>1</td>\n",
       "      <td>2010-06-04</td>\n",
       "      <td>17558.09</td>\n",
       "      <td>False</td>\n",
       "      <td>27.050000</td>\n",
       "      <td>0.714586</td>\n",
       "      <td>7.808</td>\n",
       "      <td>138982.86</td>\n",
       "      <td>57258.43</td>\n",
       "    </tr>\n",
       "  </tbody>\n",
       "</table>\n",
       "</div>"
      ],
      "text/plain": [
       "   store type  department        date  weekly_sales  is_holiday  \\\n",
       "0      1    A           1  2010-02-05      24924.50       False   \n",
       "1      1    A           1  2010-03-05      21827.90       False   \n",
       "2      1    A           1  2010-04-02      57258.43       False   \n",
       "3      1    A           1  2010-05-07      17413.94       False   \n",
       "4      1    A           1  2010-06-04      17558.09       False   \n",
       "\n",
       "   temperature_c  fuel_price_usd_per_l  unemployment  cum_weekly_sales  \\\n",
       "0       5.727778              0.679451         8.106          24924.50   \n",
       "1       8.055556              0.693452         8.106          46752.40   \n",
       "2      16.816667              0.718284         7.808         104010.83   \n",
       "3      22.527778              0.748928         7.808         121424.77   \n",
       "4      27.050000              0.714586         7.808         138982.86   \n",
       "\n",
       "   cum_max_sales  \n",
       "0       24924.50  \n",
       "1       24924.50  \n",
       "2       57258.43  \n",
       "3       57258.43  \n",
       "4       57258.43  "
      ]
     },
     "execution_count": 46,
     "metadata": {},
     "output_type": "execute_result"
    }
   ],
   "source": [
    "sales_1_1['cum_max_sales'] = sales_1_1['weekly_sales'].cummax()\n",
    "sales_1_1.head()"
   ]
  },
  {
   "cell_type": "code",
   "execution_count": 47,
   "id": "3b1872b5-7b9c-43ff-b0db-90e6b7192e79",
   "metadata": {},
   "outputs": [
    {
     "data": {
      "text/html": [
       "<div>\n",
       "<style scoped>\n",
       "    .dataframe tbody tr th:only-of-type {\n",
       "        vertical-align: middle;\n",
       "    }\n",
       "\n",
       "    .dataframe tbody tr th {\n",
       "        vertical-align: top;\n",
       "    }\n",
       "\n",
       "    .dataframe thead th {\n",
       "        text-align: right;\n",
       "    }\n",
       "</style>\n",
       "<table border=\"1\" class=\"dataframe\">\n",
       "  <thead>\n",
       "    <tr style=\"text-align: right;\">\n",
       "      <th></th>\n",
       "      <th>weekly_sales</th>\n",
       "      <th>cum_weekly_sales</th>\n",
       "      <th>cum_max_sales</th>\n",
       "    </tr>\n",
       "  </thead>\n",
       "  <tbody>\n",
       "    <tr>\n",
       "      <th>0</th>\n",
       "      <td>24924.50</td>\n",
       "      <td>24924.50</td>\n",
       "      <td>24924.50</td>\n",
       "    </tr>\n",
       "    <tr>\n",
       "      <th>1</th>\n",
       "      <td>21827.90</td>\n",
       "      <td>46752.40</td>\n",
       "      <td>24924.50</td>\n",
       "    </tr>\n",
       "    <tr>\n",
       "      <th>2</th>\n",
       "      <td>57258.43</td>\n",
       "      <td>104010.83</td>\n",
       "      <td>57258.43</td>\n",
       "    </tr>\n",
       "    <tr>\n",
       "      <th>3</th>\n",
       "      <td>17413.94</td>\n",
       "      <td>121424.77</td>\n",
       "      <td>57258.43</td>\n",
       "    </tr>\n",
       "    <tr>\n",
       "      <th>4</th>\n",
       "      <td>17558.09</td>\n",
       "      <td>138982.86</td>\n",
       "      <td>57258.43</td>\n",
       "    </tr>\n",
       "    <tr>\n",
       "      <th>...</th>\n",
       "      <td>...</td>\n",
       "      <td>...</td>\n",
       "      <td>...</td>\n",
       "    </tr>\n",
       "    <tr>\n",
       "      <th>9906</th>\n",
       "      <td>15019.76</td>\n",
       "      <td>4529148.85</td>\n",
       "      <td>149743.97</td>\n",
       "    </tr>\n",
       "    <tr>\n",
       "      <th>9907</th>\n",
       "      <td>18819.37</td>\n",
       "      <td>4547968.22</td>\n",
       "      <td>149743.97</td>\n",
       "    </tr>\n",
       "    <tr>\n",
       "      <th>9908</th>\n",
       "      <td>31729.41</td>\n",
       "      <td>4579697.63</td>\n",
       "      <td>149743.97</td>\n",
       "    </tr>\n",
       "    <tr>\n",
       "      <th>9909</th>\n",
       "      <td>24716.60</td>\n",
       "      <td>4604414.23</td>\n",
       "      <td>149743.97</td>\n",
       "    </tr>\n",
       "    <tr>\n",
       "      <th>9910</th>\n",
       "      <td>11141.04</td>\n",
       "      <td>4615555.27</td>\n",
       "      <td>149743.97</td>\n",
       "    </tr>\n",
       "  </tbody>\n",
       "</table>\n",
       "<p>144 rows × 3 columns</p>\n",
       "</div>"
      ],
      "text/plain": [
       "      weekly_sales  cum_weekly_sales  cum_max_sales\n",
       "0         24924.50          24924.50       24924.50\n",
       "1         21827.90          46752.40       24924.50\n",
       "2         57258.43         104010.83       57258.43\n",
       "3         17413.94         121424.77       57258.43\n",
       "4         17558.09         138982.86       57258.43\n",
       "...            ...               ...            ...\n",
       "9906      15019.76        4529148.85      149743.97\n",
       "9907      18819.37        4547968.22      149743.97\n",
       "9908      31729.41        4579697.63      149743.97\n",
       "9909      24716.60        4604414.23      149743.97\n",
       "9910      11141.04        4615555.27      149743.97\n",
       "\n",
       "[144 rows x 3 columns]"
      ]
     },
     "execution_count": 47,
     "metadata": {},
     "output_type": "execute_result"
    }
   ],
   "source": [
    "sales_1_1[['weekly_sales','cum_weekly_sales','cum_max_sales']]"
   ]
  },
  {
   "cell_type": "markdown",
   "id": "851f7fec-0abe-4f47-9b3b-04f0cd9b937c",
   "metadata": {},
   "source": [
    "## Dropping duplicates\n",
    "\n",
    "Removing duplicates is an essential skill to get accurate counts because often, you don't want to count the same thing multiple times. In this exercise, you'll create some new DataFrames using unique values from sales."
   ]
  },
  {
   "cell_type": "markdown",
   "id": "2baf3152-5d62-4162-8a5b-d78d21a2797f",
   "metadata": {},
   "source": [
    "### Instructions\n",
    "- Remove rows of `sales` with duplicate pairs of `store` and `type` and save as `store_types` and print the head.\n",
    "- Remove rows of `sales` with duplicate pairs of `store` and `department` and save as `store_depts` and print the head.\n",
    "- Subset the rows that are holiday weeks using the `is_holiday` column, and drop the duplicate dates, saving as `holiday_dates`.\n",
    "- Select the date column of `holiday_dates`, and print."
   ]
  },
  {
   "cell_type": "code",
   "execution_count": 48,
   "id": "d604e903-3378-49d5-8288-6ff1ccd1def0",
   "metadata": {},
   "outputs": [
    {
     "data": {
      "text/html": [
       "<div>\n",
       "<style scoped>\n",
       "    .dataframe tbody tr th:only-of-type {\n",
       "        vertical-align: middle;\n",
       "    }\n",
       "\n",
       "    .dataframe tbody tr th {\n",
       "        vertical-align: top;\n",
       "    }\n",
       "\n",
       "    .dataframe thead th {\n",
       "        text-align: right;\n",
       "    }\n",
       "</style>\n",
       "<table border=\"1\" class=\"dataframe\">\n",
       "  <thead>\n",
       "    <tr style=\"text-align: right;\">\n",
       "      <th></th>\n",
       "      <th>store</th>\n",
       "      <th>type</th>\n",
       "      <th>department</th>\n",
       "      <th>date</th>\n",
       "      <th>weekly_sales</th>\n",
       "      <th>is_holiday</th>\n",
       "      <th>temperature_c</th>\n",
       "      <th>fuel_price_usd_per_l</th>\n",
       "      <th>unemployment</th>\n",
       "    </tr>\n",
       "  </thead>\n",
       "  <tbody>\n",
       "    <tr>\n",
       "      <th>0</th>\n",
       "      <td>1</td>\n",
       "      <td>A</td>\n",
       "      <td>1</td>\n",
       "      <td>2010-02-05</td>\n",
       "      <td>24924.50</td>\n",
       "      <td>False</td>\n",
       "      <td>5.727778</td>\n",
       "      <td>0.679451</td>\n",
       "      <td>8.106</td>\n",
       "    </tr>\n",
       "    <tr>\n",
       "      <th>901</th>\n",
       "      <td>2</td>\n",
       "      <td>A</td>\n",
       "      <td>1</td>\n",
       "      <td>2010-02-05</td>\n",
       "      <td>35034.06</td>\n",
       "      <td>False</td>\n",
       "      <td>4.550000</td>\n",
       "      <td>0.679451</td>\n",
       "      <td>8.324</td>\n",
       "    </tr>\n",
       "    <tr>\n",
       "      <th>1798</th>\n",
       "      <td>4</td>\n",
       "      <td>A</td>\n",
       "      <td>1</td>\n",
       "      <td>2010-02-05</td>\n",
       "      <td>38724.42</td>\n",
       "      <td>False</td>\n",
       "      <td>6.533333</td>\n",
       "      <td>0.686319</td>\n",
       "      <td>8.623</td>\n",
       "    </tr>\n",
       "    <tr>\n",
       "      <th>2699</th>\n",
       "      <td>6</td>\n",
       "      <td>A</td>\n",
       "      <td>1</td>\n",
       "      <td>2010-02-05</td>\n",
       "      <td>25619.00</td>\n",
       "      <td>False</td>\n",
       "      <td>4.683333</td>\n",
       "      <td>0.679451</td>\n",
       "      <td>7.259</td>\n",
       "    </tr>\n",
       "    <tr>\n",
       "      <th>3593</th>\n",
       "      <td>10</td>\n",
       "      <td>B</td>\n",
       "      <td>1</td>\n",
       "      <td>2010-02-05</td>\n",
       "      <td>40212.84</td>\n",
       "      <td>False</td>\n",
       "      <td>12.411111</td>\n",
       "      <td>0.782478</td>\n",
       "      <td>9.765</td>\n",
       "    </tr>\n",
       "  </tbody>\n",
       "</table>\n",
       "</div>"
      ],
      "text/plain": [
       "      store type  department       date  weekly_sales  is_holiday  \\\n",
       "0         1    A           1 2010-02-05      24924.50       False   \n",
       "901       2    A           1 2010-02-05      35034.06       False   \n",
       "1798      4    A           1 2010-02-05      38724.42       False   \n",
       "2699      6    A           1 2010-02-05      25619.00       False   \n",
       "3593     10    B           1 2010-02-05      40212.84       False   \n",
       "\n",
       "      temperature_c  fuel_price_usd_per_l  unemployment  \n",
       "0          5.727778              0.679451         8.106  \n",
       "901        4.550000              0.679451         8.324  \n",
       "1798       6.533333              0.686319         8.623  \n",
       "2699       4.683333              0.679451         7.259  \n",
       "3593      12.411111              0.782478         9.765  "
      ]
     },
     "execution_count": 48,
     "metadata": {},
     "output_type": "execute_result"
    }
   ],
   "source": [
    "store_types = sales.drop_duplicates(subset = ['store','type'])\n",
    "store_types.head()"
   ]
  },
  {
   "cell_type": "code",
   "execution_count": 49,
   "id": "8e5e2fbb-050b-4718-a49d-cdb3f28563f1",
   "metadata": {},
   "outputs": [
    {
     "data": {
      "text/html": [
       "<div>\n",
       "<style scoped>\n",
       "    .dataframe tbody tr th:only-of-type {\n",
       "        vertical-align: middle;\n",
       "    }\n",
       "\n",
       "    .dataframe tbody tr th {\n",
       "        vertical-align: top;\n",
       "    }\n",
       "\n",
       "    .dataframe thead th {\n",
       "        text-align: right;\n",
       "    }\n",
       "</style>\n",
       "<table border=\"1\" class=\"dataframe\">\n",
       "  <thead>\n",
       "    <tr style=\"text-align: right;\">\n",
       "      <th></th>\n",
       "      <th>store</th>\n",
       "      <th>type</th>\n",
       "      <th>department</th>\n",
       "      <th>date</th>\n",
       "      <th>weekly_sales</th>\n",
       "      <th>is_holiday</th>\n",
       "      <th>temperature_c</th>\n",
       "      <th>fuel_price_usd_per_l</th>\n",
       "      <th>unemployment</th>\n",
       "    </tr>\n",
       "  </thead>\n",
       "  <tbody>\n",
       "    <tr>\n",
       "      <th>0</th>\n",
       "      <td>1</td>\n",
       "      <td>A</td>\n",
       "      <td>1</td>\n",
       "      <td>2010-02-05</td>\n",
       "      <td>24924.50</td>\n",
       "      <td>False</td>\n",
       "      <td>5.727778</td>\n",
       "      <td>0.679451</td>\n",
       "      <td>8.106</td>\n",
       "    </tr>\n",
       "    <tr>\n",
       "      <th>12</th>\n",
       "      <td>1</td>\n",
       "      <td>A</td>\n",
       "      <td>2</td>\n",
       "      <td>2010-02-05</td>\n",
       "      <td>50605.27</td>\n",
       "      <td>False</td>\n",
       "      <td>5.727778</td>\n",
       "      <td>0.679451</td>\n",
       "      <td>8.106</td>\n",
       "    </tr>\n",
       "    <tr>\n",
       "      <th>24</th>\n",
       "      <td>1</td>\n",
       "      <td>A</td>\n",
       "      <td>3</td>\n",
       "      <td>2010-02-05</td>\n",
       "      <td>13740.12</td>\n",
       "      <td>False</td>\n",
       "      <td>5.727778</td>\n",
       "      <td>0.679451</td>\n",
       "      <td>8.106</td>\n",
       "    </tr>\n",
       "    <tr>\n",
       "      <th>36</th>\n",
       "      <td>1</td>\n",
       "      <td>A</td>\n",
       "      <td>4</td>\n",
       "      <td>2010-02-05</td>\n",
       "      <td>39954.04</td>\n",
       "      <td>False</td>\n",
       "      <td>5.727778</td>\n",
       "      <td>0.679451</td>\n",
       "      <td>8.106</td>\n",
       "    </tr>\n",
       "    <tr>\n",
       "      <th>48</th>\n",
       "      <td>1</td>\n",
       "      <td>A</td>\n",
       "      <td>5</td>\n",
       "      <td>2010-02-05</td>\n",
       "      <td>32229.38</td>\n",
       "      <td>False</td>\n",
       "      <td>5.727778</td>\n",
       "      <td>0.679451</td>\n",
       "      <td>8.106</td>\n",
       "    </tr>\n",
       "  </tbody>\n",
       "</table>\n",
       "</div>"
      ],
      "text/plain": [
       "    store type  department       date  weekly_sales  is_holiday  \\\n",
       "0       1    A           1 2010-02-05      24924.50       False   \n",
       "12      1    A           2 2010-02-05      50605.27       False   \n",
       "24      1    A           3 2010-02-05      13740.12       False   \n",
       "36      1    A           4 2010-02-05      39954.04       False   \n",
       "48      1    A           5 2010-02-05      32229.38       False   \n",
       "\n",
       "    temperature_c  fuel_price_usd_per_l  unemployment  \n",
       "0        5.727778              0.679451         8.106  \n",
       "12       5.727778              0.679451         8.106  \n",
       "24       5.727778              0.679451         8.106  \n",
       "36       5.727778              0.679451         8.106  \n",
       "48       5.727778              0.679451         8.106  "
      ]
     },
     "execution_count": 49,
     "metadata": {},
     "output_type": "execute_result"
    }
   ],
   "source": [
    "store_depts = sales.drop_duplicates(subset = ['store','department'])\n",
    "store_depts.head()"
   ]
  },
  {
   "cell_type": "code",
   "execution_count": 50,
   "id": "701f4adf-af1f-4088-9063-6999cc8313be",
   "metadata": {},
   "outputs": [
    {
     "data": {
      "text/html": [
       "<div>\n",
       "<style scoped>\n",
       "    .dataframe tbody tr th:only-of-type {\n",
       "        vertical-align: middle;\n",
       "    }\n",
       "\n",
       "    .dataframe tbody tr th {\n",
       "        vertical-align: top;\n",
       "    }\n",
       "\n",
       "    .dataframe thead th {\n",
       "        text-align: right;\n",
       "    }\n",
       "</style>\n",
       "<table border=\"1\" class=\"dataframe\">\n",
       "  <thead>\n",
       "    <tr style=\"text-align: right;\">\n",
       "      <th></th>\n",
       "      <th>date</th>\n",
       "    </tr>\n",
       "  </thead>\n",
       "  <tbody>\n",
       "    <tr>\n",
       "      <th>498</th>\n",
       "      <td>2010-09-10</td>\n",
       "    </tr>\n",
       "    <tr>\n",
       "      <th>691</th>\n",
       "      <td>2011-11-25</td>\n",
       "    </tr>\n",
       "    <tr>\n",
       "      <th>2315</th>\n",
       "      <td>2010-02-12</td>\n",
       "    </tr>\n",
       "    <tr>\n",
       "      <th>6735</th>\n",
       "      <td>2012-09-07</td>\n",
       "    </tr>\n",
       "    <tr>\n",
       "      <th>6810</th>\n",
       "      <td>2010-12-31</td>\n",
       "    </tr>\n",
       "    <tr>\n",
       "      <th>6815</th>\n",
       "      <td>2012-02-10</td>\n",
       "    </tr>\n",
       "    <tr>\n",
       "      <th>6820</th>\n",
       "      <td>2011-09-09</td>\n",
       "    </tr>\n",
       "  </tbody>\n",
       "</table>\n",
       "</div>"
      ],
      "text/plain": [
       "           date\n",
       "498  2010-09-10\n",
       "691  2011-11-25\n",
       "2315 2010-02-12\n",
       "6735 2012-09-07\n",
       "6810 2010-12-31\n",
       "6815 2012-02-10\n",
       "6820 2011-09-09"
      ]
     },
     "execution_count": 50,
     "metadata": {},
     "output_type": "execute_result"
    }
   ],
   "source": [
    "holiday_dates = sales[sales['is_holiday'] == True].drop_duplicates(subset = 'date')\n",
    "holiday_dates[['date']]"
   ]
  },
  {
   "cell_type": "markdown",
   "id": "27ad93b3-ff8b-4d46-a4ce-e41692d6505f",
   "metadata": {},
   "source": [
    "## Counting categorical variables\n",
    "\n",
    "Counting is a great way to get an overview of your data and to spot curiosities that you might not notice otherwise. In this exercise, you'll count the number of each type of store and the number of each department number using the DataFrames you created in the previous exercise:\n",
    "```Python\n",
    "# Drop duplicate store/type combinations\n",
    "store_types = sales.drop_duplicates(subset=[\"store\", \"type\"])\n",
    "\n",
    "# Drop duplicate store/department combinations\n",
    "store_depts = sales.drop_duplicates(subset=[\"store\", \"department\"])\n",
    "```\n",
    "The `store_types` and `store_depts` DataFrames you created in the last exercise are available, and pandas is imported as pd."
   ]
  },
  {
   "cell_type": "markdown",
   "id": "47a5968a-4fe2-4f7a-b6e2-390636336b6a",
   "metadata": {},
   "source": [
    "### Instructions\n",
    "- Count the number of stores of each store `type` in `store_types`.\n",
    "- Count the proportion of stores of each store `type` in `store_types`.\n",
    "- Count the number of different `departments` in `store_depts`, sorting the counts in descending order.\n",
    "- Count the proportion of different `departments` in `store_depts`, sorting the proportions in descending order."
   ]
  },
  {
   "cell_type": "code",
   "execution_count": 51,
   "id": "b1d8a230-a201-42ce-958d-0390fb65929c",
   "metadata": {},
   "outputs": [
    {
     "data": {
      "text/plain": [
       "A    11\n",
       "B     1\n",
       "Name: type, dtype: int64"
      ]
     },
     "execution_count": 51,
     "metadata": {},
     "output_type": "execute_result"
    }
   ],
   "source": [
    "store_counts = store_types['type'].value_counts()\n",
    "store_counts"
   ]
  },
  {
   "cell_type": "code",
   "execution_count": 52,
   "id": "b0fc964f-7602-4574-a136-00ef0c9e92d8",
   "metadata": {},
   "outputs": [
    {
     "data": {
      "text/plain": [
       "A    0.916667\n",
       "B    0.083333\n",
       "Name: type, dtype: float64"
      ]
     },
     "execution_count": 52,
     "metadata": {},
     "output_type": "execute_result"
    }
   ],
   "source": [
    "store_props = store_types['type'].value_counts(normalize = True)\n",
    "store_props"
   ]
  },
  {
   "cell_type": "code",
   "execution_count": 53,
   "id": "fb2a802d-af57-43a8-8534-d9358d551e4d",
   "metadata": {},
   "outputs": [
    {
     "data": {
      "text/plain": [
       "1     12\n",
       "55    12\n",
       "72    12\n",
       "71    12\n",
       "67    12\n",
       "      ..\n",
       "37    10\n",
       "48     8\n",
       "50     6\n",
       "39     4\n",
       "43     2\n",
       "Name: department, Length: 80, dtype: int64"
      ]
     },
     "execution_count": 53,
     "metadata": {},
     "output_type": "execute_result"
    }
   ],
   "source": [
    "dept_counts_sorted = store_depts['department'].value_counts(sort = True)\n",
    "dept_counts_sorted"
   ]
  },
  {
   "cell_type": "code",
   "execution_count": 57,
   "id": "aee11e1b-10cd-4a93-bcf5-d1dbb28953a0",
   "metadata": {},
   "outputs": [
    {
     "data": {
      "text/plain": [
       "1     0.012917\n",
       "55    0.012917\n",
       "72    0.012917\n",
       "71    0.012917\n",
       "67    0.012917\n",
       "        ...   \n",
       "37    0.010764\n",
       "48    0.008611\n",
       "50    0.006459\n",
       "39    0.004306\n",
       "43    0.002153\n",
       "Name: department, Length: 80, dtype: float64"
      ]
     },
     "execution_count": 57,
     "metadata": {},
     "output_type": "execute_result"
    }
   ],
   "source": [
    "dept_props_sorted = store_depts['department'].value_counts(sort = True, normalize = True)\n",
    "dept_props_sorted"
   ]
  },
  {
   "cell_type": "markdown",
   "id": "10cf5188-db42-4d3e-a5a8-3d87f90e57ee",
   "metadata": {},
   "source": [
    "## What percent of sales occurred at each store type?\n",
    "\n",
    "While `.groupby()` is useful, you can calculate grouped summary statistics without it.\n",
    "\n",
    "Walmart distinguishes three types of stores: \"supercenters,\" \"discount stores,\" and \"neighborhood markets,\" encoded in this dataset as type \"A,\" \"B,\" and \"C.\" In this exercise, you'll calculate the total sales made at each store type, without using .groupby(). You can then use these numbers to see what proportion of Walmart's total sales were made at each type."
   ]
  },
  {
   "cell_type": "markdown",
   "id": "4b3382b4-68cd-41fa-9058-223c9a52ce5b",
   "metadata": {},
   "source": [
    "### Instructions\n",
    "- Calculate the total `weekly_sales` over the whole dataset.\n",
    "- Subset for `type` `\"A\"` stores, and calculate their total weekly sales.\n",
    "- Do the same for `type` `\"B\"` and type `\"C\"` stores.\n",
    "- Combine the `A/B/C` results into a list, and divide by `sales_all` to get the proportion of sales by type."
   ]
  },
  {
   "cell_type": "code",
   "execution_count": 60,
   "id": "f61fd43a-18c5-44f0-9411-8a6546bdc20e",
   "metadata": {},
   "outputs": [
    {
     "data": {
      "text/html": [
       "<div>\n",
       "<style scoped>\n",
       "    .dataframe tbody tr th:only-of-type {\n",
       "        vertical-align: middle;\n",
       "    }\n",
       "\n",
       "    .dataframe tbody tr th {\n",
       "        vertical-align: top;\n",
       "    }\n",
       "\n",
       "    .dataframe thead th {\n",
       "        text-align: right;\n",
       "    }\n",
       "</style>\n",
       "<table border=\"1\" class=\"dataframe\">\n",
       "  <thead>\n",
       "    <tr style=\"text-align: right;\">\n",
       "      <th></th>\n",
       "      <th>store</th>\n",
       "      <th>type</th>\n",
       "      <th>department</th>\n",
       "      <th>date</th>\n",
       "      <th>weekly_sales</th>\n",
       "      <th>is_holiday</th>\n",
       "      <th>temperature_c</th>\n",
       "      <th>fuel_price_usd_per_l</th>\n",
       "      <th>unemployment</th>\n",
       "    </tr>\n",
       "  </thead>\n",
       "  <tbody>\n",
       "    <tr>\n",
       "      <th>0</th>\n",
       "      <td>1</td>\n",
       "      <td>A</td>\n",
       "      <td>1</td>\n",
       "      <td>2010-02-05</td>\n",
       "      <td>24924.5</td>\n",
       "      <td>False</td>\n",
       "      <td>5.727778</td>\n",
       "      <td>0.679451</td>\n",
       "      <td>8.106</td>\n",
       "    </tr>\n",
       "    <tr>\n",
       "      <th>1</th>\n",
       "      <td>1</td>\n",
       "      <td>A</td>\n",
       "      <td>1</td>\n",
       "      <td>2010-03-05</td>\n",
       "      <td>21827.9</td>\n",
       "      <td>False</td>\n",
       "      <td>8.055556</td>\n",
       "      <td>0.693452</td>\n",
       "      <td>8.106</td>\n",
       "    </tr>\n",
       "  </tbody>\n",
       "</table>\n",
       "</div>"
      ],
      "text/plain": [
       "   store type  department       date  weekly_sales  is_holiday  temperature_c  \\\n",
       "0      1    A           1 2010-02-05       24924.5       False       5.727778   \n",
       "1      1    A           1 2010-03-05       21827.9       False       8.055556   \n",
       "\n",
       "   fuel_price_usd_per_l  unemployment  \n",
       "0              0.679451         8.106  \n",
       "1              0.693452         8.106  "
      ]
     },
     "execution_count": 60,
     "metadata": {},
     "output_type": "execute_result"
    }
   ],
   "source": [
    "sales.head(2)"
   ]
  },
  {
   "cell_type": "code",
   "execution_count": 59,
   "id": "2a564f46-80b2-4a80-b0da-c44915374cd5",
   "metadata": {},
   "outputs": [
    {
     "data": {
      "text/plain": [
       "256894718.89999998"
      ]
     },
     "execution_count": 59,
     "metadata": {},
     "output_type": "execute_result"
    }
   ],
   "source": [
    "sales_all = sales['weekly_sales'].sum()\n",
    "sales_all"
   ]
  },
  {
   "cell_type": "code",
   "execution_count": 61,
   "id": "aed98bef-491b-4180-a46f-56e684f8410b",
   "metadata": {},
   "outputs": [
    {
     "data": {
      "text/plain": [
       "233716315.01"
      ]
     },
     "execution_count": 61,
     "metadata": {},
     "output_type": "execute_result"
    }
   ],
   "source": [
    "sales_A = sales[sales['type'] == 'A']['weekly_sales'].sum()\n",
    "sales_A"
   ]
  },
  {
   "cell_type": "code",
   "execution_count": 62,
   "id": "d00b0df9-2961-4c2a-ad4e-dc9d2631e93e",
   "metadata": {},
   "outputs": [
    {
     "data": {
      "text/plain": [
       "23178403.89"
      ]
     },
     "execution_count": 62,
     "metadata": {},
     "output_type": "execute_result"
    }
   ],
   "source": [
    "sales_B = sales[sales['type'] == 'B']['weekly_sales'].sum()\n",
    "sales_B"
   ]
  },
  {
   "cell_type": "code",
   "execution_count": 63,
   "id": "325a78d0-009c-43e9-89ae-432cb55b650a",
   "metadata": {},
   "outputs": [
    {
     "data": {
      "text/plain": [
       "0.0"
      ]
     },
     "execution_count": 63,
     "metadata": {},
     "output_type": "execute_result"
    }
   ],
   "source": [
    "sales_C = sales[sales['type'] == 'C']['weekly_sales'].sum()\n",
    "sales_C"
   ]
  },
  {
   "cell_type": "code",
   "execution_count": 65,
   "id": "af3b4b28-cb54-4406-b022-38d36185d67c",
   "metadata": {},
   "outputs": [
    {
     "name": "stdout",
     "output_type": "stream",
     "text": [
      "[0.9097747 0.0902253 0.       ]\n"
     ]
    }
   ],
   "source": [
    "sales_propn_by_type = [sales_A, sales_B, sales_C]/sales_all\n",
    "print(sales_propn_by_type)"
   ]
  },
  {
   "cell_type": "markdown",
   "id": "603073f2-a522-4f94-8a90-063cd7c01535",
   "metadata": {},
   "source": [
    "## Calculations with .groupby()\n",
    "\n",
    "The `.groupby()` method makes life much easier. In this exercise, you'll perform the same calculations as last time, except you'll use the `.groupby()` method. You'll also perform calculations on data grouped by two variables to see if sales differ by store type depending on if it's a holiday week or not."
   ]
  },
  {
   "cell_type": "markdown",
   "id": "4022adff-8788-4b71-a504-d15fa9cbc5be",
   "metadata": {},
   "source": [
    "### Instructions 1/2\n",
    "- Group sales by `\"type\"`, take the sum of `\"weekly_sales\"`, and store as `sales_by_type`.\n",
    "- Calculate the proportion of sales at each store type by dividing by the sum of `sales_by_type`. Assign to `sales_propn_by_type`."
   ]
  },
  {
   "cell_type": "code",
   "execution_count": 67,
   "id": "a4c99d15-5ec4-4ba9-b3d4-620e06005f1f",
   "metadata": {},
   "outputs": [
    {
     "data": {
      "text/plain": [
       "type\n",
       "A    2.337163e+08\n",
       "B    2.317840e+07\n",
       "Name: weekly_sales, dtype: float64"
      ]
     },
     "execution_count": 67,
     "metadata": {},
     "output_type": "execute_result"
    }
   ],
   "source": [
    "sales_by_type = sales.groupby('type')['weekly_sales'].sum()\n",
    "sales_by_type"
   ]
  },
  {
   "cell_type": "markdown",
   "id": "940b7894-67f7-473d-93d0-ccf5c1cb55ee",
   "metadata": {},
   "source": [
    "### Instructions 2/2\n",
    "Group sales by `\"type\"` and `\"is_holiday\"`, take the sum of `weekly_sales`, and store as `sales_by_type_is_holiday`."
   ]
  },
  {
   "cell_type": "code",
   "execution_count": 68,
   "id": "c54c0f84-0cd7-4bdc-85ea-60cf7b06468b",
   "metadata": {},
   "outputs": [
    {
     "data": {
      "text/plain": [
       "type  is_holiday\n",
       "A     False         2.336927e+08\n",
       "      True          2.360181e+04\n",
       "B     False         2.317678e+07\n",
       "      True          1.621410e+03\n",
       "Name: weekly_sales, dtype: float64"
      ]
     },
     "execution_count": 68,
     "metadata": {},
     "output_type": "execute_result"
    }
   ],
   "source": [
    "sales_by_type_is_holiday = sales.groupby(['type','is_holiday'])['weekly_sales'].sum()\n",
    "sales_by_type_is_holiday"
   ]
  },
  {
   "cell_type": "markdown",
   "id": "57fd8e7b-77b9-4beb-8c13-b37bc26547f5",
   "metadata": {},
   "source": [
    "## Multiple grouped summaries\n",
    "\n",
    "Earlier in this chapter, you saw that the `.agg()` method is useful to compute multiple statistics on multiple variables. It also works with grouped data. NumPy, which is imported as `np`, has many different summary statistics functions, including: `np.min`, `np.max`, `np.mean`, and `np.median`."
   ]
  },
  {
   "cell_type": "markdown",
   "id": "ab1b5def-826e-41d2-9ac4-cb4cd8da80af",
   "metadata": {},
   "source": [
    "### Instructions\n",
    "- Import `numpy` with the alias `np`.\n",
    "- Get the min, max, mean, and median of `weekly_sales` for each store type using `.groupby()` and `.agg()`. Store this as `sales_stats`. Make sure to use numpy functions!\n",
    "- Get the min, max, mean, and median of `unemployment` and `fuel_price_usd_per_l` for each store type. Store this as `unemp_fuel_stats`."
   ]
  },
  {
   "cell_type": "code",
   "execution_count": 70,
   "id": "1b86b7e3-3e12-45f4-bc50-337b3dfaff79",
   "metadata": {},
   "outputs": [
    {
     "data": {
      "text/html": [
       "<div>\n",
       "<style scoped>\n",
       "    .dataframe tbody tr th:only-of-type {\n",
       "        vertical-align: middle;\n",
       "    }\n",
       "\n",
       "    .dataframe tbody tr th {\n",
       "        vertical-align: top;\n",
       "    }\n",
       "\n",
       "    .dataframe thead th {\n",
       "        text-align: right;\n",
       "    }\n",
       "</style>\n",
       "<table border=\"1\" class=\"dataframe\">\n",
       "  <thead>\n",
       "    <tr style=\"text-align: right;\">\n",
       "      <th></th>\n",
       "      <th>amin</th>\n",
       "      <th>amax</th>\n",
       "      <th>mean</th>\n",
       "    </tr>\n",
       "    <tr>\n",
       "      <th>type</th>\n",
       "      <th></th>\n",
       "      <th></th>\n",
       "      <th></th>\n",
       "    </tr>\n",
       "  </thead>\n",
       "  <tbody>\n",
       "    <tr>\n",
       "      <th>A</th>\n",
       "      <td>-1098.0</td>\n",
       "      <td>293966.05</td>\n",
       "      <td>23674.667242</td>\n",
       "    </tr>\n",
       "    <tr>\n",
       "      <th>B</th>\n",
       "      <td>-798.0</td>\n",
       "      <td>232558.51</td>\n",
       "      <td>25696.678370</td>\n",
       "    </tr>\n",
       "  </tbody>\n",
       "</table>\n",
       "</div>"
      ],
      "text/plain": [
       "        amin       amax          mean\n",
       "type                                 \n",
       "A    -1098.0  293966.05  23674.667242\n",
       "B     -798.0  232558.51  25696.678370"
      ]
     },
     "execution_count": 70,
     "metadata": {},
     "output_type": "execute_result"
    }
   ],
   "source": [
    "import numpy as np\n",
    "sales_stats = sales.groupby('type')['weekly_sales'].agg([np.min,np.max,np.mean])\n",
    "sales_stats"
   ]
  },
  {
   "cell_type": "code",
   "execution_count": 73,
   "id": "e051af77-5e95-4783-ac14-4a6fb3f9e970",
   "metadata": {},
   "outputs": [
    {
     "data": {
      "text/html": [
       "<div>\n",
       "<style scoped>\n",
       "    .dataframe tbody tr th:only-of-type {\n",
       "        vertical-align: middle;\n",
       "    }\n",
       "\n",
       "    .dataframe tbody tr th {\n",
       "        vertical-align: top;\n",
       "    }\n",
       "\n",
       "    .dataframe thead tr th {\n",
       "        text-align: left;\n",
       "    }\n",
       "\n",
       "    .dataframe thead tr:last-of-type th {\n",
       "        text-align: right;\n",
       "    }\n",
       "</style>\n",
       "<table border=\"1\" class=\"dataframe\">\n",
       "  <thead>\n",
       "    <tr>\n",
       "      <th></th>\n",
       "      <th colspan=\"4\" halign=\"left\">unemployment</th>\n",
       "      <th colspan=\"4\" halign=\"left\">fuel_price_usd_per_l</th>\n",
       "    </tr>\n",
       "    <tr>\n",
       "      <th></th>\n",
       "      <th>amin</th>\n",
       "      <th>amax</th>\n",
       "      <th>mean</th>\n",
       "      <th>median</th>\n",
       "      <th>amin</th>\n",
       "      <th>amax</th>\n",
       "      <th>mean</th>\n",
       "      <th>median</th>\n",
       "    </tr>\n",
       "    <tr>\n",
       "      <th>type</th>\n",
       "      <th></th>\n",
       "      <th></th>\n",
       "      <th></th>\n",
       "      <th></th>\n",
       "      <th></th>\n",
       "      <th></th>\n",
       "      <th></th>\n",
       "      <th></th>\n",
       "    </tr>\n",
       "  </thead>\n",
       "  <tbody>\n",
       "    <tr>\n",
       "      <th>A</th>\n",
       "      <td>3.879</td>\n",
       "      <td>8.992</td>\n",
       "      <td>7.972611</td>\n",
       "      <td>8.067</td>\n",
       "      <td>0.664129</td>\n",
       "      <td>1.107410</td>\n",
       "      <td>0.744619</td>\n",
       "      <td>0.735455</td>\n",
       "    </tr>\n",
       "    <tr>\n",
       "      <th>B</th>\n",
       "      <td>7.170</td>\n",
       "      <td>9.765</td>\n",
       "      <td>9.279323</td>\n",
       "      <td>9.199</td>\n",
       "      <td>0.760023</td>\n",
       "      <td>1.107674</td>\n",
       "      <td>0.805858</td>\n",
       "      <td>0.803348</td>\n",
       "    </tr>\n",
       "  </tbody>\n",
       "</table>\n",
       "</div>"
      ],
      "text/plain": [
       "     unemployment                         fuel_price_usd_per_l            \\\n",
       "             amin   amax      mean median                 amin      amax   \n",
       "type                                                                       \n",
       "A           3.879  8.992  7.972611  8.067             0.664129  1.107410   \n",
       "B           7.170  9.765  9.279323  9.199             0.760023  1.107674   \n",
       "\n",
       "                          \n",
       "          mean    median  \n",
       "type                      \n",
       "A     0.744619  0.735455  \n",
       "B     0.805858  0.803348  "
      ]
     },
     "execution_count": 73,
     "metadata": {},
     "output_type": "execute_result"
    }
   ],
   "source": [
    "unemp_fuel_stats = sales.groupby('type')[['unemployment','fuel_price_usd_per_l']].agg([np.min,np.max,np.mean,np.median])\n",
    "unemp_fuel_stats"
   ]
  },
  {
   "cell_type": "markdown",
   "id": "e7d961e4-514d-4bf0-abfb-c9a38d2287c3",
   "metadata": {},
   "source": [
    "## Pivoting on one variable\n",
    "\n",
    "Pivot tables are the standard way of aggregating data in spreadsheets. In pandas, pivot tables are essentially just another way of performing grouped calculations. That is, the `.pivot_table()` method is just an alternative to `.groupby()`.\n",
    "\n",
    "In this exercise, you'll perform calculations using `.pivot_table()` to replicate the calculations you performed in the last lesson using `.groupby()`.\n",
    "\n",
    "sales is available and pandas is imported as pd."
   ]
  },
  {
   "cell_type": "markdown",
   "id": "2149a5b3-6b1c-4c34-b8ff-a97d7e569de9",
   "metadata": {},
   "source": [
    "### Instructions 1/3\n",
    "Get the mean `weekly_sales` by type using `.pivot_table()` and store as `mean_sales_by_type`."
   ]
  },
  {
   "cell_type": "code",
   "execution_count": 76,
   "id": "faf3aa93-7976-413a-8ce2-287c6ea74f05",
   "metadata": {},
   "outputs": [
    {
     "data": {
      "text/html": [
       "<div>\n",
       "<style scoped>\n",
       "    .dataframe tbody tr th:only-of-type {\n",
       "        vertical-align: middle;\n",
       "    }\n",
       "\n",
       "    .dataframe tbody tr th {\n",
       "        vertical-align: top;\n",
       "    }\n",
       "\n",
       "    .dataframe thead th {\n",
       "        text-align: right;\n",
       "    }\n",
       "</style>\n",
       "<table border=\"1\" class=\"dataframe\">\n",
       "  <thead>\n",
       "    <tr style=\"text-align: right;\">\n",
       "      <th></th>\n",
       "      <th>weekly_sales</th>\n",
       "    </tr>\n",
       "    <tr>\n",
       "      <th>type</th>\n",
       "      <th></th>\n",
       "    </tr>\n",
       "  </thead>\n",
       "  <tbody>\n",
       "    <tr>\n",
       "      <th>A</th>\n",
       "      <td>23674.667242</td>\n",
       "    </tr>\n",
       "    <tr>\n",
       "      <th>B</th>\n",
       "      <td>25696.678370</td>\n",
       "    </tr>\n",
       "  </tbody>\n",
       "</table>\n",
       "</div>"
      ],
      "text/plain": [
       "      weekly_sales\n",
       "type              \n",
       "A     23674.667242\n",
       "B     25696.678370"
      ]
     },
     "execution_count": 76,
     "metadata": {},
     "output_type": "execute_result"
    }
   ],
   "source": [
    "mean_sales_by_type = sales.pivot_table(values = 'weekly_sales', index = 'type')\n",
    "mean_sales_by_type"
   ]
  },
  {
   "cell_type": "markdown",
   "id": "6af32268-45f7-44e8-b108-1b737da8f422",
   "metadata": {},
   "source": [
    "### Instructions 2/3\n",
    "Get the `mean` and `median` (using NumPy functions) of `weekly_sales` by `type` using `.pivot_table()` and store as `mean_med_sales_by_type`."
   ]
  },
  {
   "cell_type": "code",
   "execution_count": 78,
   "id": "fa525496-41fa-412c-b374-2d2917750a97",
   "metadata": {},
   "outputs": [
    {
     "data": {
      "text/html": [
       "<div>\n",
       "<style scoped>\n",
       "    .dataframe tbody tr th:only-of-type {\n",
       "        vertical-align: middle;\n",
       "    }\n",
       "\n",
       "    .dataframe tbody tr th {\n",
       "        vertical-align: top;\n",
       "    }\n",
       "\n",
       "    .dataframe thead tr th {\n",
       "        text-align: left;\n",
       "    }\n",
       "\n",
       "    .dataframe thead tr:last-of-type th {\n",
       "        text-align: right;\n",
       "    }\n",
       "</style>\n",
       "<table border=\"1\" class=\"dataframe\">\n",
       "  <thead>\n",
       "    <tr>\n",
       "      <th></th>\n",
       "      <th>mean</th>\n",
       "      <th>median</th>\n",
       "    </tr>\n",
       "    <tr>\n",
       "      <th></th>\n",
       "      <th>weekly_sales</th>\n",
       "      <th>weekly_sales</th>\n",
       "    </tr>\n",
       "    <tr>\n",
       "      <th>type</th>\n",
       "      <th></th>\n",
       "      <th></th>\n",
       "    </tr>\n",
       "  </thead>\n",
       "  <tbody>\n",
       "    <tr>\n",
       "      <th>A</th>\n",
       "      <td>23674.667242</td>\n",
       "      <td>11943.92</td>\n",
       "    </tr>\n",
       "    <tr>\n",
       "      <th>B</th>\n",
       "      <td>25696.678370</td>\n",
       "      <td>13336.08</td>\n",
       "    </tr>\n",
       "  </tbody>\n",
       "</table>\n",
       "</div>"
      ],
      "text/plain": [
       "              mean       median\n",
       "      weekly_sales weekly_sales\n",
       "type                           \n",
       "A     23674.667242     11943.92\n",
       "B     25696.678370     13336.08"
      ]
     },
     "execution_count": 78,
     "metadata": {},
     "output_type": "execute_result"
    }
   ],
   "source": [
    "mean_med_sales_by_type = sales.pivot_table(values = 'weekly_sales', index = 'type', aggfunc=([np.mean,np.median]))\n",
    "mean_med_sales_by_type"
   ]
  },
  {
   "cell_type": "markdown",
   "id": "14273178-d617-478c-8012-cc497c79b877",
   "metadata": {},
   "source": [
    "### Instructions 3/3\n",
    "Get the mean of `weekly_sales` by `type` and `is_holiday` using `.pivot_table()` and store as `mean_sales_by_type_holiday`."
   ]
  },
  {
   "cell_type": "code",
   "execution_count": 79,
   "id": "9cfc0c4d-534b-45d8-9026-927940690df0",
   "metadata": {},
   "outputs": [
    {
     "data": {
      "text/html": [
       "<div>\n",
       "<style scoped>\n",
       "    .dataframe tbody tr th:only-of-type {\n",
       "        vertical-align: middle;\n",
       "    }\n",
       "\n",
       "    .dataframe tbody tr th {\n",
       "        vertical-align: top;\n",
       "    }\n",
       "\n",
       "    .dataframe thead th {\n",
       "        text-align: right;\n",
       "    }\n",
       "</style>\n",
       "<table border=\"1\" class=\"dataframe\">\n",
       "  <thead>\n",
       "    <tr style=\"text-align: right;\">\n",
       "      <th>is_holiday</th>\n",
       "      <th>False</th>\n",
       "      <th>True</th>\n",
       "    </tr>\n",
       "    <tr>\n",
       "      <th>type</th>\n",
       "      <th></th>\n",
       "      <th></th>\n",
       "    </tr>\n",
       "  </thead>\n",
       "  <tbody>\n",
       "    <tr>\n",
       "      <th>A</th>\n",
       "      <td>23768.583523</td>\n",
       "      <td>590.04525</td>\n",
       "    </tr>\n",
       "    <tr>\n",
       "      <th>B</th>\n",
       "      <td>25751.980533</td>\n",
       "      <td>810.70500</td>\n",
       "    </tr>\n",
       "  </tbody>\n",
       "</table>\n",
       "</div>"
      ],
      "text/plain": [
       "is_holiday         False       True\n",
       "type                               \n",
       "A           23768.583523  590.04525\n",
       "B           25751.980533  810.70500"
      ]
     },
     "execution_count": 79,
     "metadata": {},
     "output_type": "execute_result"
    }
   ],
   "source": [
    "mean_sales_by_type_holiday = sales.pivot_table(values = 'weekly_sales', index = 'type', columns = 'is_holiday')\n",
    "mean_sales_by_type_holiday"
   ]
  },
  {
   "cell_type": "markdown",
   "id": "b795c27c-d033-4601-9289-e2a94292e4bc",
   "metadata": {},
   "source": [
    "## Fill in missing values and sum values with pivot tables\n",
    "\n",
    "The `.pivot_table()` method has several useful arguments, including `fill_value` and `margins`.\n",
    "\n",
    "   - `fill_value` replaces missing values with a real value (known as imputation). What to replace missing values with is a topic big enough to have its own course (Dealing with Missing Data in Python), but the simplest thing to do is to substitute a dummy value.\n",
    "   - `margins` is a shortcut for when you pivoted by two variables, but also wanted to pivot by each of those variables separately: it gives the row and column totals of the pivot table contents.\n",
    "In this exercise, you'll practice using these arguments to up your pivot table skills, which will help you crunch numbers more efficiently!"
   ]
  },
  {
   "cell_type": "markdown",
   "id": "834a93c1-295d-473a-a5ab-20e15fc54d15",
   "metadata": {},
   "source": [
    "### Instructions 1/2\n",
    "Print the mean `weekly_sales` by `department` and `type`, filling in any missing values with `0`."
   ]
  },
  {
   "cell_type": "code",
   "execution_count": 80,
   "id": "8140d468-8dc1-47ce-9e37-4aa79d72e0ae",
   "metadata": {},
   "outputs": [
    {
     "data": {
      "text/html": [
       "<div>\n",
       "<style scoped>\n",
       "    .dataframe tbody tr th:only-of-type {\n",
       "        vertical-align: middle;\n",
       "    }\n",
       "\n",
       "    .dataframe tbody tr th {\n",
       "        vertical-align: top;\n",
       "    }\n",
       "\n",
       "    .dataframe thead th {\n",
       "        text-align: right;\n",
       "    }\n",
       "</style>\n",
       "<table border=\"1\" class=\"dataframe\">\n",
       "  <thead>\n",
       "    <tr style=\"text-align: right;\">\n",
       "      <th>type</th>\n",
       "      <th>A</th>\n",
       "      <th>B</th>\n",
       "    </tr>\n",
       "    <tr>\n",
       "      <th>department</th>\n",
       "      <th></th>\n",
       "      <th></th>\n",
       "    </tr>\n",
       "  </thead>\n",
       "  <tbody>\n",
       "    <tr>\n",
       "      <th>1</th>\n",
       "      <td>30961.725379</td>\n",
       "      <td>44050.626667</td>\n",
       "    </tr>\n",
       "    <tr>\n",
       "      <th>2</th>\n",
       "      <td>67600.158788</td>\n",
       "      <td>112958.526667</td>\n",
       "    </tr>\n",
       "    <tr>\n",
       "      <th>3</th>\n",
       "      <td>17160.002955</td>\n",
       "      <td>30580.655000</td>\n",
       "    </tr>\n",
       "    <tr>\n",
       "      <th>4</th>\n",
       "      <td>44285.399091</td>\n",
       "      <td>51219.654167</td>\n",
       "    </tr>\n",
       "    <tr>\n",
       "      <th>5</th>\n",
       "      <td>34821.011364</td>\n",
       "      <td>63236.875000</td>\n",
       "    </tr>\n",
       "    <tr>\n",
       "      <th>...</th>\n",
       "      <td>...</td>\n",
       "      <td>...</td>\n",
       "    </tr>\n",
       "    <tr>\n",
       "      <th>95</th>\n",
       "      <td>123933.787121</td>\n",
       "      <td>77082.102500</td>\n",
       "    </tr>\n",
       "    <tr>\n",
       "      <th>96</th>\n",
       "      <td>21367.042857</td>\n",
       "      <td>9528.538333</td>\n",
       "    </tr>\n",
       "    <tr>\n",
       "      <th>97</th>\n",
       "      <td>28471.266970</td>\n",
       "      <td>5828.873333</td>\n",
       "    </tr>\n",
       "    <tr>\n",
       "      <th>98</th>\n",
       "      <td>12875.423182</td>\n",
       "      <td>217.428333</td>\n",
       "    </tr>\n",
       "    <tr>\n",
       "      <th>99</th>\n",
       "      <td>379.123659</td>\n",
       "      <td>0.000000</td>\n",
       "    </tr>\n",
       "  </tbody>\n",
       "</table>\n",
       "<p>80 rows × 2 columns</p>\n",
       "</div>"
      ],
      "text/plain": [
       "type                    A              B\n",
       "department                              \n",
       "1            30961.725379   44050.626667\n",
       "2            67600.158788  112958.526667\n",
       "3            17160.002955   30580.655000\n",
       "4            44285.399091   51219.654167\n",
       "5            34821.011364   63236.875000\n",
       "...                   ...            ...\n",
       "95          123933.787121   77082.102500\n",
       "96           21367.042857    9528.538333\n",
       "97           28471.266970    5828.873333\n",
       "98           12875.423182     217.428333\n",
       "99             379.123659       0.000000\n",
       "\n",
       "[80 rows x 2 columns]"
      ]
     },
     "execution_count": 80,
     "metadata": {},
     "output_type": "execute_result"
    }
   ],
   "source": [
    "sales.pivot_table(values='weekly_sales',index='department',columns='type',fill_value=0)"
   ]
  },
  {
   "cell_type": "markdown",
   "id": "c6add1db-2a53-4165-82f0-a6eaba93a6d4",
   "metadata": {},
   "source": [
    "### Instructions 2/2\n",
    "Print the mean `weekly_sales` by `department` and `type`, filling in any missing values with 0 and summing all rows and columns."
   ]
  },
  {
   "cell_type": "code",
   "execution_count": 81,
   "id": "33f8f02d-4b85-49f7-8501-4fb3f5f80b4e",
   "metadata": {},
   "outputs": [
    {
     "data": {
      "text/html": [
       "<div>\n",
       "<style scoped>\n",
       "    .dataframe tbody tr th:only-of-type {\n",
       "        vertical-align: middle;\n",
       "    }\n",
       "\n",
       "    .dataframe tbody tr th {\n",
       "        vertical-align: top;\n",
       "    }\n",
       "\n",
       "    .dataframe thead th {\n",
       "        text-align: right;\n",
       "    }\n",
       "</style>\n",
       "<table border=\"1\" class=\"dataframe\">\n",
       "  <thead>\n",
       "    <tr style=\"text-align: right;\">\n",
       "      <th>type</th>\n",
       "      <th>A</th>\n",
       "      <th>B</th>\n",
       "      <th>All</th>\n",
       "    </tr>\n",
       "    <tr>\n",
       "      <th>department</th>\n",
       "      <th></th>\n",
       "      <th></th>\n",
       "      <th></th>\n",
       "    </tr>\n",
       "  </thead>\n",
       "  <tbody>\n",
       "    <tr>\n",
       "      <th>1</th>\n",
       "      <td>30961.725379</td>\n",
       "      <td>44050.626667</td>\n",
       "      <td>32052.467153</td>\n",
       "    </tr>\n",
       "    <tr>\n",
       "      <th>2</th>\n",
       "      <td>67600.158788</td>\n",
       "      <td>112958.526667</td>\n",
       "      <td>71380.022778</td>\n",
       "    </tr>\n",
       "    <tr>\n",
       "      <th>3</th>\n",
       "      <td>17160.002955</td>\n",
       "      <td>30580.655000</td>\n",
       "      <td>18278.390625</td>\n",
       "    </tr>\n",
       "    <tr>\n",
       "      <th>4</th>\n",
       "      <td>44285.399091</td>\n",
       "      <td>51219.654167</td>\n",
       "      <td>44863.253681</td>\n",
       "    </tr>\n",
       "    <tr>\n",
       "      <th>5</th>\n",
       "      <td>34821.011364</td>\n",
       "      <td>63236.875000</td>\n",
       "      <td>37189.000000</td>\n",
       "    </tr>\n",
       "    <tr>\n",
       "      <th>...</th>\n",
       "      <td>...</td>\n",
       "      <td>...</td>\n",
       "      <td>...</td>\n",
       "    </tr>\n",
       "    <tr>\n",
       "      <th>96</th>\n",
       "      <td>21367.042857</td>\n",
       "      <td>9528.538333</td>\n",
       "      <td>20337.607681</td>\n",
       "    </tr>\n",
       "    <tr>\n",
       "      <th>97</th>\n",
       "      <td>28471.266970</td>\n",
       "      <td>5828.873333</td>\n",
       "      <td>26584.400833</td>\n",
       "    </tr>\n",
       "    <tr>\n",
       "      <th>98</th>\n",
       "      <td>12875.423182</td>\n",
       "      <td>217.428333</td>\n",
       "      <td>11820.590278</td>\n",
       "    </tr>\n",
       "    <tr>\n",
       "      <th>99</th>\n",
       "      <td>379.123659</td>\n",
       "      <td>0.000000</td>\n",
       "      <td>379.123659</td>\n",
       "    </tr>\n",
       "    <tr>\n",
       "      <th>All</th>\n",
       "      <td>23674.667242</td>\n",
       "      <td>25696.678370</td>\n",
       "      <td>23843.950149</td>\n",
       "    </tr>\n",
       "  </tbody>\n",
       "</table>\n",
       "<p>81 rows × 3 columns</p>\n",
       "</div>"
      ],
      "text/plain": [
       "type                   A              B           All\n",
       "department                                           \n",
       "1           30961.725379   44050.626667  32052.467153\n",
       "2           67600.158788  112958.526667  71380.022778\n",
       "3           17160.002955   30580.655000  18278.390625\n",
       "4           44285.399091   51219.654167  44863.253681\n",
       "5           34821.011364   63236.875000  37189.000000\n",
       "...                  ...            ...           ...\n",
       "96          21367.042857    9528.538333  20337.607681\n",
       "97          28471.266970    5828.873333  26584.400833\n",
       "98          12875.423182     217.428333  11820.590278\n",
       "99            379.123659       0.000000    379.123659\n",
       "All         23674.667242   25696.678370  23843.950149\n",
       "\n",
       "[81 rows x 3 columns]"
      ]
     },
     "execution_count": 81,
     "metadata": {},
     "output_type": "execute_result"
    }
   ],
   "source": [
    "sales.pivot_table(values=\"weekly_sales\", index=\"department\", columns=\"type\", fill_value=0,margins=True)"
   ]
  }
 ],
 "metadata": {
  "kernelspec": {
   "display_name": "Python 3 (ipykernel)",
   "language": "python",
   "name": "python3"
  },
  "language_info": {
   "codemirror_mode": {
    "name": "ipython",
    "version": 3
   },
   "file_extension": ".py",
   "mimetype": "text/x-python",
   "name": "python",
   "nbconvert_exporter": "python",
   "pygments_lexer": "ipython3",
   "version": "3.9.9"
  }
 },
 "nbformat": 4,
 "nbformat_minor": 5
}
