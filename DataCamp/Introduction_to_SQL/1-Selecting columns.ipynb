{
 "cells": [
  {
   "cell_type": "markdown",
   "id": "2289b9ad-a874-478d-9ce8-24a2f4863dd3",
   "metadata": {},
   "source": [
    "# Selecting columns\n",
    "This chapter provides a brief introduction to working with relational databases. You'll learn about their structure, how to talk about them using database lingo, and how to begin an analysis using simple SQL commands to select and summarize columns from database tables."
   ]
  },
  {
   "cell_type": "markdown",
   "id": "8ced3311-058f-435e-b696-a8811488e406",
   "metadata": {},
   "source": [
    "---"
   ]
  },
  {
   "cell_type": "markdown",
   "id": "f6fd69bd-8fd4-414c-a6bb-cba516caa2c9",
   "metadata": {},
   "source": [
    "## Onboarding | Tables\n",
    "\n",
    "The DataCamp interface for SQL courses contains a few unique features you should be aware of.\n",
    "\n",
    "For this course, you'll be using a database containing information on almost 5000 films. To the right, underneath the editor, you can see the data in this database by clicking through the tabs.\n",
    "\n",
    "From looking at the tabs, who is the first person listed in the people table?"
   ]
  },
  {
   "cell_type": "code",
   "execution_count": 1,
   "id": "2209d68f-8043-4c9c-88d6-0ae99fc7559d",
   "metadata": {},
   "outputs": [
    {
     "name": "stdout",
     "output_type": "stream",
     "text": [
      "['films', 'people', 'reviews', 'roles']\n"
     ]
    }
   ],
   "source": [
    "from sqlalchemy import create_engine, inspect\n",
    "import os\n",
    "\n",
    "current_directory = os.getcwd()\n",
    "\n",
    "engine = create_engine(f'sqlite:///{current_directory}/films.db')\n",
    "inspector = inspect(engine)\n",
    "\n",
    "table_names = inspector.get_table_names()\n",
    "print(table_names)"
   ]
  },
  {
   "cell_type": "code",
   "execution_count": 2,
   "id": "3135c496-635a-4c27-9226-5e02c0d055bd",
   "metadata": {},
   "outputs": [],
   "source": [
    "from sqlalchemy import create_engine, inspect\n",
    "import os\n",
    "\n",
    "current_directory = os.getcwd()\n",
    "\n",
    "%load_ext sql\n",
    "%sql sqlite:///{current_directory}/films.db\n"
   ]
  },
  {
   "cell_type": "markdown",
   "id": "73c3cfea-ebce-4fa9-b1e1-16bd3a0ae7da",
   "metadata": {},
   "source": [
    "---"
   ]
  },
  {
   "cell_type": "markdown",
   "id": "5c6b2134-8166-4a5d-916d-e84e2976aace",
   "metadata": {},
   "source": [
    "## Onboarding | Query Result\n",
    "Notice the query result tab in the bottom right corner of your screen. This is where the results of your SQL queries will be displayed.\n",
    "\n",
    "Run this query in the editor and check out the resulting table in the query result tab!\n",
    "```SQL\n",
    "SELECT name FROM people;\n",
    "```\n",
    "Who is the second person listed in the query result?"
   ]
  },
  {
   "cell_type": "code",
   "execution_count": 3,
   "id": "a63325cf-0819-4346-a1c8-50bd7d615f9a",
   "metadata": {},
   "outputs": [
    {
     "name": "stdout",
     "output_type": "stream",
     "text": [
      " * sqlite:////Users/matteo/Nextcloud/2-Documenti/Corsi/DataScience/DataCamp/Introduction_to_SQL/films.db\n",
      "Done.\n"
     ]
    },
    {
     "data": {
      "text/html": [
       "<table>\n",
       "    <tr>\n",
       "        <th>name</th>\n",
       "    </tr>\n",
       "    <tr>\n",
       "        <td>50 Cent</td>\n",
       "    </tr>\n",
       "    <tr>\n",
       "        <td>A. Michael Baldwin</td>\n",
       "    </tr>\n",
       "    <tr>\n",
       "        <td>A. Raven Cruz</td>\n",
       "    </tr>\n",
       "    <tr>\n",
       "        <td>A.J. Buckley</td>\n",
       "    </tr>\n",
       "    <tr>\n",
       "        <td>A.J. DeLucia</td>\n",
       "    </tr>\n",
       "</table>"
      ],
      "text/plain": [
       "[('50 Cent',),\n",
       " ('A. Michael Baldwin',),\n",
       " ('A. Raven Cruz',),\n",
       " ('A.J. Buckley',),\n",
       " ('A.J. DeLucia',)]"
      ]
     },
     "execution_count": 3,
     "metadata": {},
     "output_type": "execute_result"
    }
   ],
   "source": [
    "%%sql\n",
    "SELECT name\n",
    "FROM people\n",
    "limit 5;"
   ]
  },
  {
   "cell_type": "markdown",
   "id": "4207251f-4cfa-434e-a4a9-5d8b80a7d9a6",
   "metadata": {},
   "source": [
    "---"
   ]
  },
  {
   "cell_type": "markdown",
   "id": "d080397d-54d8-4a96-b161-b6f71c66aa6b",
   "metadata": {},
   "source": [
    "## Onboarding | Errors\n",
    "If you submit the code to the right, you'll see that you get two types of errors.\n",
    "\n",
    "SQL errors are shown below the editor. These are errors returned by the SQL engine. You should see:\n",
    "```SQL\n",
    "syntax error at or near \"'DataCamp <3 SQL'\" LINE 2: 'DataCamp <3 SQL' ^\n",
    "```\n",
    "DataCamp errors are shown in the Instructions box. These will let you know in plain English where you went wrong in your code! You should see:\n",
    "```SQL\n",
    "You need to add SELECT at the start of line 2`\n",
    "```"
   ]
  },
  {
   "cell_type": "code",
   "execution_count": 4,
   "id": "4510e7a7-abfa-4706-bdbc-9670395fe4c8",
   "metadata": {},
   "outputs": [
    {
     "name": "stdout",
     "output_type": "stream",
     "text": [
      " * sqlite:////Users/matteo/Nextcloud/2-Documenti/Corsi/DataScience/DataCamp/Introduction_to_SQL/films.db\n",
      "Done.\n"
     ]
    },
    {
     "data": {
      "text/html": [
       "<table>\n",
       "    <tr>\n",
       "        <th>result</th>\n",
       "    </tr>\n",
       "    <tr>\n",
       "        <td>DataCamp &lt;3 SQL</td>\n",
       "    </tr>\n",
       "</table>"
      ],
      "text/plain": [
       "[('DataCamp <3 SQL',)]"
      ]
     },
     "execution_count": 4,
     "metadata": {},
     "output_type": "execute_result"
    }
   ],
   "source": [
    "%%sql\n",
    "-- Try running me!\n",
    "SELECT 'DataCamp <3 SQL'\n",
    "AS result;"
   ]
  },
  {
   "cell_type": "markdown",
   "id": "8f413ebe-fabc-4b44-ae66-1093f0fb62e2",
   "metadata": {},
   "source": [
    "---"
   ]
  },
  {
   "cell_type": "markdown",
   "id": "8c1dd36b-4343-4db8-9bcf-16103213512c",
   "metadata": {},
   "source": [
    "## Onboarding | Multi-step Exercises\n",
    "The following multi-step exercise allows you to practice a new concept through repetition. Check it out!"
   ]
  },
  {
   "cell_type": "code",
   "execution_count": 5,
   "id": "1700008b-7a63-4276-b564-b7c01955430b",
   "metadata": {},
   "outputs": [
    {
     "name": "stdout",
     "output_type": "stream",
     "text": [
      " * sqlite:////Users/matteo/Nextcloud/2-Documenti/Corsi/DataScience/DataCamp/Introduction_to_SQL/films.db\n",
      "Done.\n"
     ]
    },
    {
     "data": {
      "text/html": [
       "<table>\n",
       "    <tr>\n",
       "        <th>result</th>\n",
       "    </tr>\n",
       "    <tr>\n",
       "        <td>SQL</td>\n",
       "    </tr>\n",
       "</table>"
      ],
      "text/plain": [
       "[('SQL',)]"
      ]
     },
     "execution_count": 5,
     "metadata": {},
     "output_type": "execute_result"
    }
   ],
   "source": [
    "%%sql\n",
    "SELECT 'SQL'\n",
    "AS result;"
   ]
  },
  {
   "cell_type": "code",
   "execution_count": 6,
   "id": "0b957584-4c42-4aad-9987-34e6ccb008d9",
   "metadata": {},
   "outputs": [
    {
     "name": "stdout",
     "output_type": "stream",
     "text": [
      " * sqlite:////Users/matteo/Nextcloud/2-Documenti/Corsi/DataScience/DataCamp/Introduction_to_SQL/films.db\n",
      "Done.\n"
     ]
    },
    {
     "data": {
      "text/html": [
       "<table>\n",
       "    <tr>\n",
       "        <th>result</th>\n",
       "    </tr>\n",
       "    <tr>\n",
       "        <td>SQL is</td>\n",
       "    </tr>\n",
       "</table>"
      ],
      "text/plain": [
       "[('SQL is',)]"
      ]
     },
     "execution_count": 6,
     "metadata": {},
     "output_type": "execute_result"
    }
   ],
   "source": [
    "%%sql\n",
    "SELECT 'SQL is'\n",
    "AS result;"
   ]
  },
  {
   "cell_type": "code",
   "execution_count": 7,
   "id": "de2de7eb-1fab-446e-bfd6-4ee1a5e580c1",
   "metadata": {},
   "outputs": [
    {
     "name": "stdout",
     "output_type": "stream",
     "text": [
      " * sqlite:////Users/matteo/Nextcloud/2-Documenti/Corsi/DataScience/DataCamp/Introduction_to_SQL/films.db\n",
      "Done.\n"
     ]
    },
    {
     "data": {
      "text/html": [
       "<table>\n",
       "    <tr>\n",
       "        <th>result</th>\n",
       "    </tr>\n",
       "    <tr>\n",
       "        <td>SQL is cool</td>\n",
       "    </tr>\n",
       "</table>"
      ],
      "text/plain": [
       "[('SQL is cool',)]"
      ]
     },
     "execution_count": 7,
     "metadata": {},
     "output_type": "execute_result"
    }
   ],
   "source": [
    "%%sql\n",
    "SELECT 'SQL is cool'\n",
    "AS result;"
   ]
  },
  {
   "cell_type": "markdown",
   "id": "08ab9d96-d5c1-46c9-8a7e-1d098b912deb",
   "metadata": {},
   "source": [
    "---"
   ]
  },
  {
   "cell_type": "markdown",
   "id": "283abd93-622b-4d81-89f4-7c4cfbb4caba",
   "metadata": {},
   "source": [
    "## Beginning your SQL journey\n",
    "Now that you're familiar with the interface, let's get straight into it.\n",
    "\n",
    "SQL, which stands for Structured Query Language, is a language for interacting with data stored in something called a relational database.\n",
    "\n",
    "You can think of a relational database as a collection of tables. A table is just a set of rows and columns, like a spreadsheet, which represents exactly one type of entity. For example, a table might represent employees in a company or purchases made, but not both.\n",
    "\n",
    "Each row, or record, of a table contains information about a single entity. For example, in a table representing employees, each row represents a single person. Each column, or field, of a table contains a single attribute for all rows in the table. For example, in a table representing employees, we might have a column containing first and last names for all employees.\n",
    "\n",
    "The table of employees might look something like this:\n",
    "\n",
    "|id|name|age|nationality|\n",
    "|-|-|-|-|\n",
    "1|Jessica|22|Ireland\n",
    "2|Gabriel|48|France\n",
    "3|Laura|36|USA"
   ]
  },
  {
   "cell_type": "markdown",
   "id": "86733522-51f3-4298-8d98-1035cfee7a11",
   "metadata": {
    "tags": []
   },
   "source": [
    "## SELECTing single columns\n",
    "While SQL can be used to create and modify databases, the focus of this course will be querying databases. A query is a request for data from a database table (or combination of tables). Querying is an essential skill for a data scientist, since the data you need for your analyses will often live in databases.\n",
    "\n",
    "In SQL, you can select data from a table using a `SELECT` statement. For example, the following query selects the `name` column from the `people` table:\n",
    "```sql\n",
    "SELECT name\n",
    "FROM people;\n",
    "```\n",
    "In this query, SELECT and FROM are called keywords. In SQL, keywords are not case-sensitive, which means you can write the same query as:\n",
    "\n",
    "```sql\n",
    "select name\n",
    "from people;\n",
    "```\n",
    "That said, it's good practice to make SQL keywords uppercase to distinguish them from other parts of your query, like column and table names.\n",
    "\n",
    "It's also good practice (but not necessary for the exercises in this course) to include a semicolon at the end of your query. This tells SQL where the end of your query is!\n",
    "\n",
    "Remember, you can see the results of executing your query in the query tab!"
   ]
  },
  {
   "cell_type": "markdown",
   "id": "f2373d5f-6050-484f-980d-55f69c2a3859",
   "metadata": {},
   "source": [
    "### Instructions\n",
    "Select the title column from the films table."
   ]
  },
  {
   "cell_type": "code",
   "execution_count": 8,
   "id": "448bae2c-e811-45ff-bf43-71e7f19fb1e7",
   "metadata": {},
   "outputs": [
    {
     "name": "stdout",
     "output_type": "stream",
     "text": [
      " * sqlite:////Users/matteo/Nextcloud/2-Documenti/Corsi/DataScience/DataCamp/Introduction_to_SQL/films.db\n",
      "Done.\n"
     ]
    },
    {
     "data": {
      "text/html": [
       "<table>\n",
       "    <tr>\n",
       "        <th>title</th>\n",
       "    </tr>\n",
       "    <tr>\n",
       "        <td>Intolerance: Love&#x27;s Struggle Throughout the Ages</td>\n",
       "    </tr>\n",
       "    <tr>\n",
       "        <td>Over the Hill to the Poorhouse</td>\n",
       "    </tr>\n",
       "    <tr>\n",
       "        <td>The Big Parade</td>\n",
       "    </tr>\n",
       "    <tr>\n",
       "        <td>Metropolis</td>\n",
       "    </tr>\n",
       "    <tr>\n",
       "        <td>Pandora&#x27;s Box</td>\n",
       "    </tr>\n",
       "</table>"
      ],
      "text/plain": [
       "[(\"Intolerance: Love's Struggle Throughout the Ages\",),\n",
       " ('Over the Hill to the Poorhouse',),\n",
       " ('The Big Parade',),\n",
       " ('Metropolis',),\n",
       " (\"Pandora's Box\",)]"
      ]
     },
     "execution_count": 8,
     "metadata": {},
     "output_type": "execute_result"
    }
   ],
   "source": [
    "%%sql\n",
    "SELECT title\n",
    "FROM films\n",
    "limit 5;"
   ]
  },
  {
   "cell_type": "markdown",
   "id": "625272d0-06ca-470e-ac71-220ebc3dc6f0",
   "metadata": {},
   "source": [
    "Select the `release_year` column from the films table."
   ]
  },
  {
   "cell_type": "code",
   "execution_count": 9,
   "id": "74628538-0741-4fe2-9ef5-bcc6a2283946",
   "metadata": {},
   "outputs": [
    {
     "name": "stdout",
     "output_type": "stream",
     "text": [
      " * sqlite:////Users/matteo/Nextcloud/2-Documenti/Corsi/DataScience/DataCamp/Introduction_to_SQL/films.db\n",
      "Done.\n"
     ]
    },
    {
     "data": {
      "text/html": [
       "<table>\n",
       "    <tr>\n",
       "        <th>release_year</th>\n",
       "    </tr>\n",
       "    <tr>\n",
       "        <td>1916</td>\n",
       "    </tr>\n",
       "    <tr>\n",
       "        <td>1920</td>\n",
       "    </tr>\n",
       "    <tr>\n",
       "        <td>1925</td>\n",
       "    </tr>\n",
       "    <tr>\n",
       "        <td>1927</td>\n",
       "    </tr>\n",
       "    <tr>\n",
       "        <td>1929</td>\n",
       "    </tr>\n",
       "</table>"
      ],
      "text/plain": [
       "[(1916,), (1920,), (1925,), (1927,), (1929,)]"
      ]
     },
     "execution_count": 9,
     "metadata": {},
     "output_type": "execute_result"
    }
   ],
   "source": [
    "%%sql\n",
    "SELECT release_year \n",
    "FROM films\n",
    "limit 5;"
   ]
  },
  {
   "cell_type": "markdown",
   "id": "ec3baec9-4249-4249-9466-58657115b905",
   "metadata": {},
   "source": [
    "Select the `name` of each person in the `people` table."
   ]
  },
  {
   "cell_type": "code",
   "execution_count": 10,
   "id": "d716974d-4d5d-4c27-8f1d-0d2b716abe3b",
   "metadata": {},
   "outputs": [
    {
     "name": "stdout",
     "output_type": "stream",
     "text": [
      " * sqlite:////Users/matteo/Nextcloud/2-Documenti/Corsi/DataScience/DataCamp/Introduction_to_SQL/films.db\n",
      "Done.\n"
     ]
    },
    {
     "data": {
      "text/html": [
       "<table>\n",
       "    <tr>\n",
       "        <th>name</th>\n",
       "    </tr>\n",
       "    <tr>\n",
       "        <td>50 Cent</td>\n",
       "    </tr>\n",
       "    <tr>\n",
       "        <td>A. Michael Baldwin</td>\n",
       "    </tr>\n",
       "    <tr>\n",
       "        <td>A. Raven Cruz</td>\n",
       "    </tr>\n",
       "    <tr>\n",
       "        <td>A.J. Buckley</td>\n",
       "    </tr>\n",
       "    <tr>\n",
       "        <td>A.J. DeLucia</td>\n",
       "    </tr>\n",
       "</table>"
      ],
      "text/plain": [
       "[('50 Cent',),\n",
       " ('A. Michael Baldwin',),\n",
       " ('A. Raven Cruz',),\n",
       " ('A.J. Buckley',),\n",
       " ('A.J. DeLucia',)]"
      ]
     },
     "execution_count": 10,
     "metadata": {},
     "output_type": "execute_result"
    }
   ],
   "source": [
    "%%sql\n",
    "SELECT name \n",
    "FROM people\n",
    "limit 5;"
   ]
  },
  {
   "cell_type": "markdown",
   "id": "e85469b4-c131-4e87-b5e5-58cef1e93bcf",
   "metadata": {},
   "source": [
    "---"
   ]
  },
  {
   "cell_type": "markdown",
   "id": "9d88b8a6-7126-4ebe-843d-2b0b46160f99",
   "metadata": {},
   "source": [
    "## SELECTing multiple columns\n",
    "Well done! Now you know how to select single columns.\n",
    "\n",
    "In the real world, you will often want to select multiple columns. Luckily, SQL makes this really easy. To select multiple columns from a table, simply separate the column names with commas!\n",
    "\n",
    "For example, this query selects two columns, `name` and `birthdate`, from the `people` table:\n",
    "```sql\n",
    "SELECT name, birthdate\n",
    "FROM people;\n",
    "```\n",
    "Sometimes, you may want to select all columns from a table. Typing out every column name would be a pain, so there's a handy shortcut:\n",
    "```sql\n",
    "SELECT *\n",
    "FROM people;\n",
    "```\n",
    "If you only want to return a certain number of results, you can use the `LIMIT` keyword to limit the number of rows returned:\n",
    "```sql\n",
    "SELECT *\n",
    "FROM people\n",
    "LIMIT 10;\n",
    "```\n",
    "Before getting started with the instructions below, check out the column names in the `films` table!"
   ]
  },
  {
   "cell_type": "code",
   "execution_count": 11,
   "id": "93892ac5-ec19-4102-83f9-97bde8ca0bd8",
   "metadata": {},
   "outputs": [
    {
     "name": "stdout",
     "output_type": "stream",
     "text": [
      " * sqlite:////Users/matteo/Nextcloud/2-Documenti/Corsi/DataScience/DataCamp/Introduction_to_SQL/films.db\n",
      "Done.\n"
     ]
    },
    {
     "data": {
      "text/html": [
       "<table>\n",
       "    <tr>\n",
       "        <th>title</th>\n",
       "    </tr>\n",
       "    <tr>\n",
       "        <td>Intolerance: Love&#x27;s Struggle Throughout the Ages</td>\n",
       "    </tr>\n",
       "    <tr>\n",
       "        <td>Over the Hill to the Poorhouse</td>\n",
       "    </tr>\n",
       "    <tr>\n",
       "        <td>The Big Parade</td>\n",
       "    </tr>\n",
       "    <tr>\n",
       "        <td>Metropolis</td>\n",
       "    </tr>\n",
       "    <tr>\n",
       "        <td>Pandora&#x27;s Box</td>\n",
       "    </tr>\n",
       "</table>"
      ],
      "text/plain": [
       "[(\"Intolerance: Love's Struggle Throughout the Ages\",),\n",
       " ('Over the Hill to the Poorhouse',),\n",
       " ('The Big Parade',),\n",
       " ('Metropolis',),\n",
       " (\"Pandora's Box\",)]"
      ]
     },
     "execution_count": 11,
     "metadata": {},
     "output_type": "execute_result"
    }
   ],
   "source": [
    "%%sql\n",
    "SELECT title \n",
    "FROM films\n",
    "LIMIT 5;"
   ]
  },
  {
   "cell_type": "code",
   "execution_count": 12,
   "id": "9c718a20-4ca3-40c9-8331-e107a7dd7ba3",
   "metadata": {},
   "outputs": [
    {
     "name": "stdout",
     "output_type": "stream",
     "text": [
      " * sqlite:////Users/matteo/Nextcloud/2-Documenti/Corsi/DataScience/DataCamp/Introduction_to_SQL/films.db\n",
      "Done.\n"
     ]
    },
    {
     "data": {
      "text/html": [
       "<table>\n",
       "    <tr>\n",
       "        <th>title</th>\n",
       "        <th>release_year</th>\n",
       "    </tr>\n",
       "    <tr>\n",
       "        <td>Intolerance: Love&#x27;s Struggle Throughout the Ages</td>\n",
       "        <td>1916</td>\n",
       "    </tr>\n",
       "    <tr>\n",
       "        <td>Over the Hill to the Poorhouse</td>\n",
       "        <td>1920</td>\n",
       "    </tr>\n",
       "    <tr>\n",
       "        <td>The Big Parade</td>\n",
       "        <td>1925</td>\n",
       "    </tr>\n",
       "    <tr>\n",
       "        <td>Metropolis</td>\n",
       "        <td>1927</td>\n",
       "    </tr>\n",
       "    <tr>\n",
       "        <td>Pandora&#x27;s Box</td>\n",
       "        <td>1929</td>\n",
       "    </tr>\n",
       "</table>"
      ],
      "text/plain": [
       "[(\"Intolerance: Love's Struggle Throughout the Ages\", 1916),\n",
       " ('Over the Hill to the Poorhouse', 1920),\n",
       " ('The Big Parade', 1925),\n",
       " ('Metropolis', 1927),\n",
       " (\"Pandora's Box\", 1929)]"
      ]
     },
     "execution_count": 12,
     "metadata": {},
     "output_type": "execute_result"
    }
   ],
   "source": [
    "%%sql\n",
    "SELECT title, release_year\n",
    "FROM films\n",
    "LIMIT 5;"
   ]
  },
  {
   "cell_type": "code",
   "execution_count": 13,
   "id": "223af405-be94-4c73-9d35-1454ad53235d",
   "metadata": {},
   "outputs": [
    {
     "name": "stdout",
     "output_type": "stream",
     "text": [
      " * sqlite:////Users/matteo/Nextcloud/2-Documenti/Corsi/DataScience/DataCamp/Introduction_to_SQL/films.db\n",
      "Done.\n"
     ]
    },
    {
     "data": {
      "text/html": [
       "<table>\n",
       "    <tr>\n",
       "        <th>title</th>\n",
       "        <th>release_year</th>\n",
       "        <th>country</th>\n",
       "    </tr>\n",
       "    <tr>\n",
       "        <td>Intolerance: Love&#x27;s Struggle Throughout the Ages</td>\n",
       "        <td>1916</td>\n",
       "        <td>USA</td>\n",
       "    </tr>\n",
       "    <tr>\n",
       "        <td>Over the Hill to the Poorhouse</td>\n",
       "        <td>1920</td>\n",
       "        <td>USA</td>\n",
       "    </tr>\n",
       "    <tr>\n",
       "        <td>The Big Parade</td>\n",
       "        <td>1925</td>\n",
       "        <td>USA</td>\n",
       "    </tr>\n",
       "    <tr>\n",
       "        <td>Metropolis</td>\n",
       "        <td>1927</td>\n",
       "        <td>Germany</td>\n",
       "    </tr>\n",
       "    <tr>\n",
       "        <td>Pandora&#x27;s Box</td>\n",
       "        <td>1929</td>\n",
       "        <td>Germany</td>\n",
       "    </tr>\n",
       "</table>"
      ],
      "text/plain": [
       "[(\"Intolerance: Love's Struggle Throughout the Ages\", 1916, 'USA'),\n",
       " ('Over the Hill to the Poorhouse', 1920, 'USA'),\n",
       " ('The Big Parade', 1925, 'USA'),\n",
       " ('Metropolis', 1927, 'Germany'),\n",
       " (\"Pandora's Box\", 1929, 'Germany')]"
      ]
     },
     "execution_count": 13,
     "metadata": {},
     "output_type": "execute_result"
    }
   ],
   "source": [
    "%%sql\n",
    "SELECT title, release_year, country\n",
    "FROM films\n",
    "LIMIT 5;"
   ]
  },
  {
   "cell_type": "code",
   "execution_count": 14,
   "id": "74f052a3-e946-4247-9d7a-e6615ea9949f",
   "metadata": {},
   "outputs": [
    {
     "name": "stdout",
     "output_type": "stream",
     "text": [
      " * sqlite:////Users/matteo/Nextcloud/2-Documenti/Corsi/DataScience/DataCamp/Introduction_to_SQL/films.db\n",
      "Done.\n"
     ]
    },
    {
     "data": {
      "text/html": [
       "<table>\n",
       "    <tr>\n",
       "        <th>id</th>\n",
       "        <th>title</th>\n",
       "        <th>release_year</th>\n",
       "        <th>country</th>\n",
       "        <th>duration</th>\n",
       "        <th>language</th>\n",
       "        <th>certification</th>\n",
       "        <th>gross</th>\n",
       "        <th>budget</th>\n",
       "    </tr>\n",
       "    <tr>\n",
       "        <td>1</td>\n",
       "        <td>Intolerance: Love&#x27;s Struggle Throughout the Ages</td>\n",
       "        <td>1916</td>\n",
       "        <td>USA</td>\n",
       "        <td>123</td>\n",
       "        <td>None</td>\n",
       "        <td>Not Rated</td>\n",
       "        <td>None</td>\n",
       "        <td>385907</td>\n",
       "    </tr>\n",
       "    <tr>\n",
       "        <td>2</td>\n",
       "        <td>Over the Hill to the Poorhouse</td>\n",
       "        <td>1920</td>\n",
       "        <td>USA</td>\n",
       "        <td>110</td>\n",
       "        <td>None</td>\n",
       "        <td>None</td>\n",
       "        <td>3000000</td>\n",
       "        <td>100000</td>\n",
       "    </tr>\n",
       "    <tr>\n",
       "        <td>3</td>\n",
       "        <td>The Big Parade</td>\n",
       "        <td>1925</td>\n",
       "        <td>USA</td>\n",
       "        <td>151</td>\n",
       "        <td>None</td>\n",
       "        <td>Not Rated</td>\n",
       "        <td>None</td>\n",
       "        <td>245000</td>\n",
       "    </tr>\n",
       "    <tr>\n",
       "        <td>4</td>\n",
       "        <td>Metropolis</td>\n",
       "        <td>1927</td>\n",
       "        <td>Germany</td>\n",
       "        <td>145</td>\n",
       "        <td>German</td>\n",
       "        <td>Not Rated</td>\n",
       "        <td>26435</td>\n",
       "        <td>6000000</td>\n",
       "    </tr>\n",
       "    <tr>\n",
       "        <td>5</td>\n",
       "        <td>Pandora&#x27;s Box</td>\n",
       "        <td>1929</td>\n",
       "        <td>Germany</td>\n",
       "        <td>110</td>\n",
       "        <td>German</td>\n",
       "        <td>Not Rated</td>\n",
       "        <td>9950</td>\n",
       "        <td>None</td>\n",
       "    </tr>\n",
       "</table>"
      ],
      "text/plain": [
       "[(1, \"Intolerance: Love's Struggle Throughout the Ages\", 1916, 'USA', 123, None, 'Not Rated', None, 385907),\n",
       " (2, 'Over the Hill to the Poorhouse', 1920, 'USA', 110, None, None, 3000000, 100000),\n",
       " (3, 'The Big Parade', 1925, 'USA', 151, None, 'Not Rated', None, 245000),\n",
       " (4, 'Metropolis', 1927, 'Germany', 145, 'German', 'Not Rated', 26435, 6000000),\n",
       " (5, \"Pandora's Box\", 1929, 'Germany', 110, 'German', 'Not Rated', 9950, None)]"
      ]
     },
     "execution_count": 14,
     "metadata": {},
     "output_type": "execute_result"
    }
   ],
   "source": [
    "%%sql\n",
    "SELECT *\n",
    "FROM films\n",
    "LIMIT 5;"
   ]
  },
  {
   "cell_type": "markdown",
   "id": "e9700bc3-f5d6-4673-89bb-6fb42048d251",
   "metadata": {},
   "source": [
    "---"
   ]
  },
  {
   "cell_type": "markdown",
   "id": "9695bf6f-69ef-414e-acd0-5ab1adcf0a06",
   "metadata": {},
   "source": [
    "## SELECT DISTINCT\n",
    "Often your results will include many duplicate values. If you want to select all the unique values from a column, you can use the `DISTINCT` keyword.\n",
    "\n",
    "This might be useful if, for example, you're interested in knowing which languages are represented in the `films` table:\n",
    "```sql\n",
    "SELECT DISTINCT language\n",
    "FROM films;\n",
    "```\n",
    "Remember, you can check out the data in the tables by clicking on the table name!"
   ]
  },
  {
   "cell_type": "code",
   "execution_count": 15,
   "id": "2ce83bdf-1724-4733-bf5f-273cd49bebdf",
   "metadata": {},
   "outputs": [
    {
     "name": "stdout",
     "output_type": "stream",
     "text": [
      " * sqlite:////Users/matteo/Nextcloud/2-Documenti/Corsi/DataScience/DataCamp/Introduction_to_SQL/films.db\n",
      "Done.\n"
     ]
    },
    {
     "data": {
      "text/html": [
       "<table>\n",
       "    <tr>\n",
       "        <th>country</th>\n",
       "    </tr>\n",
       "    <tr>\n",
       "        <td>USA</td>\n",
       "    </tr>\n",
       "    <tr>\n",
       "        <td>Germany</td>\n",
       "    </tr>\n",
       "    <tr>\n",
       "        <td>Japan</td>\n",
       "    </tr>\n",
       "    <tr>\n",
       "        <td>Denmark</td>\n",
       "    </tr>\n",
       "    <tr>\n",
       "        <td>UK</td>\n",
       "    </tr>\n",
       "</table>"
      ],
      "text/plain": [
       "[('USA',), ('Germany',), ('Japan',), ('Denmark',), ('UK',)]"
      ]
     },
     "execution_count": 15,
     "metadata": {},
     "output_type": "execute_result"
    }
   ],
   "source": [
    "%%sql\n",
    "SELECT DISTINCT country \n",
    "FROM films\n",
    "LIMIT 5;"
   ]
  },
  {
   "cell_type": "code",
   "execution_count": 16,
   "id": "9a5489cb-f595-4ccc-ad32-0f504bbc6a9d",
   "metadata": {},
   "outputs": [
    {
     "name": "stdout",
     "output_type": "stream",
     "text": [
      " * sqlite:////Users/matteo/Nextcloud/2-Documenti/Corsi/DataScience/DataCamp/Introduction_to_SQL/films.db\n",
      "Done.\n"
     ]
    },
    {
     "data": {
      "text/html": [
       "<table>\n",
       "    <tr>\n",
       "        <th>certification</th>\n",
       "    </tr>\n",
       "    <tr>\n",
       "        <td>Not Rated</td>\n",
       "    </tr>\n",
       "    <tr>\n",
       "        <td>None</td>\n",
       "    </tr>\n",
       "    <tr>\n",
       "        <td>Passed</td>\n",
       "    </tr>\n",
       "    <tr>\n",
       "        <td>Unrated</td>\n",
       "    </tr>\n",
       "    <tr>\n",
       "        <td>Approved</td>\n",
       "    </tr>\n",
       "</table>"
      ],
      "text/plain": [
       "[('Not Rated',), (None,), ('Passed',), ('Unrated',), ('Approved',)]"
      ]
     },
     "execution_count": 16,
     "metadata": {},
     "output_type": "execute_result"
    }
   ],
   "source": [
    "%%sql\n",
    "SELECT DISTINCT certification \n",
    "FROM films\n",
    "LIMIT 5;"
   ]
  },
  {
   "cell_type": "markdown",
   "id": "c531c362-9300-488c-93b1-194dcb43f584",
   "metadata": {},
   "source": [
    "---"
   ]
  },
  {
   "cell_type": "markdown",
   "id": "60afebbb-baae-400b-94f5-b9c500395bf7",
   "metadata": {},
   "source": [
    "## Learning to COUNT\n",
    "What if you want to count the number of employees in your employees table? The `COUNT()` function lets you do this by returning the number of rows in one or more columns.\n",
    "\n",
    "For example, this code gives the number of rows in the `people` table:\n",
    "```sql\n",
    "SELECT COUNT(*)\n",
    "FROM people;\n",
    "```\n",
    "How many records are contained in the `reviews` table?"
   ]
  },
  {
   "cell_type": "code",
   "execution_count": 17,
   "id": "80fb6f81-c860-4f62-8abb-9d92b89be0a6",
   "metadata": {},
   "outputs": [
    {
     "name": "stdout",
     "output_type": "stream",
     "text": [
      " * sqlite:////Users/matteo/Nextcloud/2-Documenti/Corsi/DataScience/DataCamp/Introduction_to_SQL/films.db\n",
      "Done.\n"
     ]
    },
    {
     "data": {
      "text/html": [
       "<table>\n",
       "    <tr>\n",
       "        <th>COUNT(*)</th>\n",
       "    </tr>\n",
       "    <tr>\n",
       "        <td>8397</td>\n",
       "    </tr>\n",
       "</table>"
      ],
      "text/plain": [
       "[(8397,)]"
      ]
     },
     "execution_count": 17,
     "metadata": {},
     "output_type": "execute_result"
    }
   ],
   "source": [
    "%%sql\n",
    "SELECT COUNT(*)\n",
    "FROM people;"
   ]
  },
  {
   "cell_type": "markdown",
   "id": "c3cff8b4-1af9-42b4-8ab9-3956e7091590",
   "metadata": {},
   "source": [
    "---"
   ]
  },
  {
   "cell_type": "markdown",
   "id": "327bf698-e420-49c1-b843-392d842e9682",
   "metadata": {},
   "source": [
    "## Practice with COUNT\n",
    "As you've seen, `COUNT(*)` tells you how many rows are in a table. However, if you want to count the number of non-missing values in a particular column, you can call `COUNT()` on just that column.\n",
    "\n",
    "For example, to count the number of birth dates present in the `people` table:\n",
    "```sql\n",
    "SELECT COUNT(birthdate)\n",
    "FROM people;\n",
    "```\n",
    "It's also common to combine `COUNT()` with `DISTINCT` to count the number of distinct values in a column.\n",
    "\n",
    "For example, this query counts the number of distinct birth dates contained in the `people` table:\n",
    "```sql\n",
    "SELECT COUNT(DISTINCT birthdate)\n",
    "FROM people;\n",
    "```\n",
    "Let's get some practice with `COUNT()`!"
   ]
  },
  {
   "cell_type": "code",
   "execution_count": 18,
   "id": "936d5975-41d3-468e-a148-aab6969a3e4f",
   "metadata": {},
   "outputs": [
    {
     "name": "stdout",
     "output_type": "stream",
     "text": [
      " * sqlite:////Users/matteo/Nextcloud/2-Documenti/Corsi/DataScience/DataCamp/Introduction_to_SQL/films.db\n",
      "Done.\n"
     ]
    },
    {
     "data": {
      "text/html": [
       "<table>\n",
       "    <tr>\n",
       "        <th>COUNT(*)</th>\n",
       "    </tr>\n",
       "    <tr>\n",
       "        <td>8397</td>\n",
       "    </tr>\n",
       "</table>"
      ],
      "text/plain": [
       "[(8397,)]"
      ]
     },
     "execution_count": 18,
     "metadata": {},
     "output_type": "execute_result"
    }
   ],
   "source": [
    "%%sql\n",
    "SELECT COUNT(*) \n",
    "FROM people;"
   ]
  },
  {
   "cell_type": "code",
   "execution_count": 19,
   "id": "cea3cc2d-af5c-47fe-8aef-ae1828ed073c",
   "metadata": {},
   "outputs": [
    {
     "name": "stdout",
     "output_type": "stream",
     "text": [
      " * sqlite:////Users/matteo/Nextcloud/2-Documenti/Corsi/DataScience/DataCamp/Introduction_to_SQL/films.db\n",
      "Done.\n"
     ]
    },
    {
     "data": {
      "text/html": [
       "<table>\n",
       "    <tr>\n",
       "        <th>COUNT(birthdate)</th>\n",
       "    </tr>\n",
       "    <tr>\n",
       "        <td>6152</td>\n",
       "    </tr>\n",
       "</table>"
      ],
      "text/plain": [
       "[(6152,)]"
      ]
     },
     "execution_count": 19,
     "metadata": {},
     "output_type": "execute_result"
    }
   ],
   "source": [
    "%%sql\n",
    "SELECT COUNT(birthdate)\n",
    "FROM people;"
   ]
  },
  {
   "cell_type": "code",
   "execution_count": 20,
   "id": "9c752fbb-3a88-4fc4-9017-36a64f7535b8",
   "metadata": {},
   "outputs": [
    {
     "name": "stdout",
     "output_type": "stream",
     "text": [
      " * sqlite:////Users/matteo/Nextcloud/2-Documenti/Corsi/DataScience/DataCamp/Introduction_to_SQL/films.db\n",
      "Done.\n"
     ]
    },
    {
     "data": {
      "text/html": [
       "<table>\n",
       "    <tr>\n",
       "        <th>COUNT(DISTINCT birthdate)</th>\n",
       "    </tr>\n",
       "    <tr>\n",
       "        <td>5398</td>\n",
       "    </tr>\n",
       "</table>"
      ],
      "text/plain": [
       "[(5398,)]"
      ]
     },
     "execution_count": 20,
     "metadata": {},
     "output_type": "execute_result"
    }
   ],
   "source": [
    "%%sql\n",
    "SELECT COUNT(DISTINCT birthdate)\n",
    "FROM people;"
   ]
  },
  {
   "cell_type": "code",
   "execution_count": 21,
   "id": "806d313f-5c55-4311-9c46-16f2de686a31",
   "metadata": {},
   "outputs": [
    {
     "name": "stdout",
     "output_type": "stream",
     "text": [
      " * sqlite:////Users/matteo/Nextcloud/2-Documenti/Corsi/DataScience/DataCamp/Introduction_to_SQL/films.db\n",
      "Done.\n"
     ]
    },
    {
     "data": {
      "text/html": [
       "<table>\n",
       "    <tr>\n",
       "        <th>COUNT(DISTINCT language)</th>\n",
       "    </tr>\n",
       "    <tr>\n",
       "        <td>47</td>\n",
       "    </tr>\n",
       "</table>"
      ],
      "text/plain": [
       "[(47,)]"
      ]
     },
     "execution_count": 21,
     "metadata": {},
     "output_type": "execute_result"
    }
   ],
   "source": [
    "%%sql\n",
    "SELECT COUNT(DISTINCT language) \n",
    "FROM films;"
   ]
  },
  {
   "cell_type": "code",
   "execution_count": 22,
   "id": "11e64cae-beea-4c43-903b-e2b0f7693420",
   "metadata": {},
   "outputs": [
    {
     "name": "stdout",
     "output_type": "stream",
     "text": [
      " * sqlite:////Users/matteo/Nextcloud/2-Documenti/Corsi/DataScience/DataCamp/Introduction_to_SQL/films.db\n",
      "Done.\n"
     ]
    },
    {
     "data": {
      "text/html": [
       "<table>\n",
       "    <tr>\n",
       "        <th>COUNT(DISTINCT country)</th>\n",
       "    </tr>\n",
       "    <tr>\n",
       "        <td>64</td>\n",
       "    </tr>\n",
       "</table>"
      ],
      "text/plain": [
       "[(64,)]"
      ]
     },
     "execution_count": 22,
     "metadata": {},
     "output_type": "execute_result"
    }
   ],
   "source": [
    "%%sql\n",
    "SELECT COUNT(DISTINCT country) \n",
    "FROM films;"
   ]
  },
  {
   "cell_type": "markdown",
   "id": "55e86add-a80e-409b-9277-aa68dc693e57",
   "metadata": {},
   "source": [
    "---"
   ]
  },
  {
   "cell_type": "code",
   "execution_count": 23,
   "id": "eac52a4f-2402-47b7-8482-625727047329",
   "metadata": {
    "scrolled": true
   },
   "outputs": [
    {
     "name": "stdout",
     "output_type": "stream",
     "text": [
      " * sqlite:////Users/matteo/Nextcloud/2-Documenti/Corsi/DataScience/DataCamp/Introduction_to_SQL/films.db\n",
      "Done.\n"
     ]
    },
    {
     "data": {
      "text/html": [
       "<table>\n",
       "    <tr>\n",
       "        <th>title</th>\n",
       "    </tr>\n",
       "    <tr>\n",
       "        <td>15 Minutes</td>\n",
       "    </tr>\n",
       "    <tr>\n",
       "        <td>3000 Miles to Graceland</td>\n",
       "    </tr>\n",
       "    <tr>\n",
       "        <td>A Beautiful Mind</td>\n",
       "    </tr>\n",
       "    <tr>\n",
       "        <td>A Knight&#x27;s Tale</td>\n",
       "    </tr>\n",
       "    <tr>\n",
       "        <td>A.I. Artificial Intelligence</td>\n",
       "    </tr>\n",
       "</table>"
      ],
      "text/plain": [
       "[('15 Minutes',),\n",
       " ('3000 Miles to Graceland',),\n",
       " ('A Beautiful Mind',),\n",
       " (\"A Knight's Tale\",),\n",
       " ('A.I. Artificial Intelligence',)]"
      ]
     },
     "execution_count": 23,
     "metadata": {},
     "output_type": "execute_result"
    }
   ],
   "source": [
    "%%sql\n",
    "SELECT title\n",
    "FROM films\n",
    "WHERE release_year > 2000\n",
    "LIMIT 5;"
   ]
  },
  {
   "cell_type": "markdown",
   "id": "e4f132e8-3e13-4d2b-be87-c5d5206e7d9d",
   "metadata": {},
   "source": [
    "---"
   ]
  },
  {
   "cell_type": "code",
   "execution_count": 24,
   "id": "5d1ac580-356d-4d94-a37d-27a0338fbc15",
   "metadata": {
    "scrolled": true
   },
   "outputs": [
    {
     "name": "stdout",
     "output_type": "stream",
     "text": [
      " * sqlite:////Users/matteo/Nextcloud/2-Documenti/Corsi/DataScience/DataCamp/Introduction_to_SQL/films.db\n",
      "Done.\n"
     ]
    },
    {
     "data": {
      "text/html": [
       "<table>\n",
       "    <tr>\n",
       "        <th>id</th>\n",
       "        <th>title</th>\n",
       "        <th>release_year</th>\n",
       "        <th>country</th>\n",
       "        <th>duration</th>\n",
       "        <th>language</th>\n",
       "        <th>certification</th>\n",
       "        <th>gross</th>\n",
       "        <th>budget</th>\n",
       "    </tr>\n",
       "    <tr>\n",
       "        <td>4821</td>\n",
       "        <td>10 Cloverfield Lane</td>\n",
       "        <td>2016</td>\n",
       "        <td>USA</td>\n",
       "        <td>104</td>\n",
       "        <td>English</td>\n",
       "        <td>PG-13</td>\n",
       "        <td>71897215</td>\n",
       "        <td>15000000</td>\n",
       "    </tr>\n",
       "    <tr>\n",
       "        <td>4822</td>\n",
       "        <td>13 Hours</td>\n",
       "        <td>2016</td>\n",
       "        <td>USA</td>\n",
       "        <td>144</td>\n",
       "        <td>English</td>\n",
       "        <td>R</td>\n",
       "        <td>52822418</td>\n",
       "        <td>50000000</td>\n",
       "    </tr>\n",
       "    <tr>\n",
       "        <td>4823</td>\n",
       "        <td>A Beginner&#x27;s Guide to Snuff</td>\n",
       "        <td>2016</td>\n",
       "        <td>USA</td>\n",
       "        <td>87</td>\n",
       "        <td>English</td>\n",
       "        <td>None</td>\n",
       "        <td>None</td>\n",
       "        <td>None</td>\n",
       "    </tr>\n",
       "    <tr>\n",
       "        <td>4824</td>\n",
       "        <td>Airlift</td>\n",
       "        <td>2016</td>\n",
       "        <td>India</td>\n",
       "        <td>130</td>\n",
       "        <td>Hindi</td>\n",
       "        <td>None</td>\n",
       "        <td>None</td>\n",
       "        <td>4400000</td>\n",
       "    </tr>\n",
       "    <tr>\n",
       "        <td>4825</td>\n",
       "        <td>Alice Through the Looking Glass</td>\n",
       "        <td>2016</td>\n",
       "        <td>USA</td>\n",
       "        <td>113</td>\n",
       "        <td>English</td>\n",
       "        <td>PG</td>\n",
       "        <td>76846624</td>\n",
       "        <td>170000000</td>\n",
       "    </tr>\n",
       "</table>"
      ],
      "text/plain": [
       "[(4821, '10 Cloverfield Lane', 2016, 'USA', 104, 'English', 'PG-13', 71897215, 15000000),\n",
       " (4822, '13 Hours', 2016, 'USA', 144, 'English', 'R', 52822418, 50000000),\n",
       " (4823, \"A Beginner's Guide to Snuff\", 2016, 'USA', 87, 'English', None, None, None),\n",
       " (4824, 'Airlift', 2016, 'India', 130, 'Hindi', None, None, 4400000),\n",
       " (4825, 'Alice Through the Looking Glass', 2016, 'USA', 113, 'English', 'PG', 76846624, 170000000)]"
      ]
     },
     "execution_count": 24,
     "metadata": {},
     "output_type": "execute_result"
    }
   ],
   "source": [
    "%%sql\n",
    "SELECT * \n",
    "FROM films \n",
    "WHERE release_year = 2016\n",
    "LIMIT 5;"
   ]
  },
  {
   "cell_type": "code",
   "execution_count": 25,
   "id": "0c2e3efc-8af5-44e4-b015-61a5d311cb58",
   "metadata": {
    "scrolled": true
   },
   "outputs": [
    {
     "name": "stdout",
     "output_type": "stream",
     "text": [
      " * sqlite:////Users/matteo/Nextcloud/2-Documenti/Corsi/DataScience/DataCamp/Introduction_to_SQL/films.db\n",
      "Done.\n"
     ]
    },
    {
     "data": {
      "text/html": [
       "<table>\n",
       "    <tr>\n",
       "        <th>COUNT(title)</th>\n",
       "    </tr>\n",
       "    <tr>\n",
       "        <td>1337</td>\n",
       "    </tr>\n",
       "</table>"
      ],
      "text/plain": [
       "[(1337,)]"
      ]
     },
     "execution_count": 25,
     "metadata": {},
     "output_type": "execute_result"
    }
   ],
   "source": [
    "%%sql\n",
    "SELECT COUNT(title) \n",
    "FROM films \n",
    "WHERE release_year < 2000\n",
    "LIMIT 5;"
   ]
  },
  {
   "cell_type": "code",
   "execution_count": 26,
   "id": "22c2caf7-b977-4bf7-bca9-33fbeb3f081b",
   "metadata": {
    "scrolled": true
   },
   "outputs": [
    {
     "name": "stdout",
     "output_type": "stream",
     "text": [
      " * sqlite:////Users/matteo/Nextcloud/2-Documenti/Corsi/DataScience/DataCamp/Introduction_to_SQL/films.db\n",
      "Done.\n"
     ]
    },
    {
     "data": {
      "text/html": [
       "<table>\n",
       "    <tr>\n",
       "        <th>title</th>\n",
       "        <th>release_year</th>\n",
       "    </tr>\n",
       "    <tr>\n",
       "        <td>15 Minutes</td>\n",
       "        <td>2001</td>\n",
       "    </tr>\n",
       "    <tr>\n",
       "        <td>3000 Miles to Graceland</td>\n",
       "        <td>2001</td>\n",
       "    </tr>\n",
       "    <tr>\n",
       "        <td>A Beautiful Mind</td>\n",
       "        <td>2001</td>\n",
       "    </tr>\n",
       "    <tr>\n",
       "        <td>A Knight&#x27;s Tale</td>\n",
       "        <td>2001</td>\n",
       "    </tr>\n",
       "    <tr>\n",
       "        <td>A.I. Artificial Intelligence</td>\n",
       "        <td>2001</td>\n",
       "    </tr>\n",
       "</table>"
      ],
      "text/plain": [
       "[('15 Minutes', 2001),\n",
       " ('3000 Miles to Graceland', 2001),\n",
       " ('A Beautiful Mind', 2001),\n",
       " (\"A Knight's Tale\", 2001),\n",
       " ('A.I. Artificial Intelligence', 2001)]"
      ]
     },
     "execution_count": 26,
     "metadata": {},
     "output_type": "execute_result"
    }
   ],
   "source": [
    "%%sql\n",
    "SELECT title, release_year \n",
    "FROM films \n",
    "WHERE release_year > 2000\n",
    "LIMIT 5;"
   ]
  },
  {
   "cell_type": "markdown",
   "id": "5e2022fe-150e-4add-88c8-250e2c9fee49",
   "metadata": {},
   "source": [
    "---"
   ]
  }
 ],
 "metadata": {
  "kernelspec": {
   "display_name": "Python 3 (ipykernel)",
   "language": "python",
   "name": "python3"
  },
  "language_info": {
   "codemirror_mode": {
    "name": "ipython",
    "version": 3
   },
   "file_extension": ".py",
   "mimetype": "text/x-python",
   "name": "python",
   "nbconvert_exporter": "python",
   "pygments_lexer": "ipython3",
   "version": "3.9.10"
  }
 },
 "nbformat": 4,
 "nbformat_minor": 5
}
