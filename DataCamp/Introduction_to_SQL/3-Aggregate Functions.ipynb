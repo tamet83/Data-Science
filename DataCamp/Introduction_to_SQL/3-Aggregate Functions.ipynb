{
 "cells": [
  {
   "cell_type": "markdown",
   "id": "3caf6e12-c016-41b6-8b55-7c9faaefee1d",
   "metadata": {},
   "source": [
    "# Aggregate Functions\n",
    "This chapter teaches you how to use aggregate functions to summarize data and gain useful insights. You'll also learn about arithmetic in SQL and how to use aliases to make your results more readable."
   ]
  },
  {
   "cell_type": "code",
   "execution_count": 1,
   "id": "9f739c3a-d981-4150-9a7e-cbb710e67de3",
   "metadata": {
    "tags": []
   },
   "outputs": [],
   "source": [
    "from sqlalchemy import create_engine, inspect\n",
    "import os\n",
    "\n",
    "current_directory = os.getcwd()\n",
    "\n",
    "%load_ext sql\n",
    "%sql sqlite:///{current_directory}/films.db"
   ]
  },
  {
   "cell_type": "markdown",
   "id": "be26acd8-f4ae-424b-bc65-98fc868c8239",
   "metadata": {},
   "source": [
    "---"
   ]
  },
  {
   "cell_type": "markdown",
   "id": "b2c146cf-2535-4605-9106-b9503af5f976",
   "metadata": {},
   "source": [
    "## Aggregate functions\n",
    "Often, you will want to perform some calculation on the data in a database. SQL provides a few functions, called aggregate functions, to help you out with this.\n",
    "\n",
    "For example,\n",
    "```sql\n",
    "SELECT AVG(budget)\n",
    "FROM films;\n",
    "```\n",
    "gives you the average value from the `budget` column of the `films` table. Similarly, the `MAX()` function returns the highest budget:\n",
    "```sql\n",
    "SELECT MAX(budget)\n",
    "FROM films;\n",
    "```\n",
    "The `SUM()` function returns the result of adding up the numeric values in a column:\n",
    "```sql\n",
    "SELECT SUM(budget)\n",
    "FROM films;\n",
    "```\n",
    "You can probably guess what the `MIN()` function does! Now it's your turn to try out some SQL functions."
   ]
  },
  {
   "cell_type": "code",
   "execution_count": 2,
   "id": "9f3f0898-8af7-411e-a0c0-1867f1d311bd",
   "metadata": {},
   "outputs": [
    {
     "name": "stdout",
     "output_type": "stream",
     "text": [
      " * sqlite:////Users/matteo/Nextcloud/2-Documenti/Corsi/DataScience/DataCamp/Introduction_to_SQL/films.db\n",
      "Done.\n"
     ]
    },
    {
     "data": {
      "text/html": [
       "<table>\n",
       "    <tr>\n",
       "        <th>SUM(duration)</th>\n",
       "    </tr>\n",
       "    <tr>\n",
       "        <td>534882</td>\n",
       "    </tr>\n",
       "</table>"
      ],
      "text/plain": [
       "[(534882,)]"
      ]
     },
     "execution_count": 2,
     "metadata": {},
     "output_type": "execute_result"
    }
   ],
   "source": [
    "%%sql \n",
    "SELECT SUM(duration)\n",
    "FROM films;"
   ]
  },
  {
   "cell_type": "code",
   "execution_count": 3,
   "id": "52684392-5bcc-4dd1-a8ee-f61af869293d",
   "metadata": {},
   "outputs": [
    {
     "name": "stdout",
     "output_type": "stream",
     "text": [
      " * sqlite:////Users/matteo/Nextcloud/2-Documenti/Corsi/DataScience/DataCamp/Introduction_to_SQL/films.db\n",
      "Done.\n"
     ]
    },
    {
     "data": {
      "text/html": [
       "<table>\n",
       "    <tr>\n",
       "        <th>AVG(duration)</th>\n",
       "    </tr>\n",
       "    <tr>\n",
       "        <td>107.94793138244198</td>\n",
       "    </tr>\n",
       "</table>"
      ],
      "text/plain": [
       "[(107.94793138244198,)]"
      ]
     },
     "execution_count": 3,
     "metadata": {},
     "output_type": "execute_result"
    }
   ],
   "source": [
    "%%sql\n",
    "SELECT AVG(duration)\n",
    "FROM films;"
   ]
  },
  {
   "cell_type": "code",
   "execution_count": 4,
   "id": "ffc630d0-f195-4350-8715-6f14796b59e5",
   "metadata": {},
   "outputs": [
    {
     "name": "stdout",
     "output_type": "stream",
     "text": [
      " * sqlite:////Users/matteo/Nextcloud/2-Documenti/Corsi/DataScience/DataCamp/Introduction_to_SQL/films.db\n",
      "Done.\n"
     ]
    },
    {
     "data": {
      "text/html": [
       "<table>\n",
       "    <tr>\n",
       "        <th>MIN(duration)</th>\n",
       "    </tr>\n",
       "    <tr>\n",
       "        <td>7</td>\n",
       "    </tr>\n",
       "</table>"
      ],
      "text/plain": [
       "[(7,)]"
      ]
     },
     "execution_count": 4,
     "metadata": {},
     "output_type": "execute_result"
    }
   ],
   "source": [
    "%%sql\n",
    "SELECT MIN(duration)\n",
    "FROM films;"
   ]
  },
  {
   "cell_type": "code",
   "execution_count": 5,
   "id": "14a2ec04-12b9-4729-95e8-8e6f560bed12",
   "metadata": {},
   "outputs": [
    {
     "name": "stdout",
     "output_type": "stream",
     "text": [
      " * sqlite:////Users/matteo/Nextcloud/2-Documenti/Corsi/DataScience/DataCamp/Introduction_to_SQL/films.db\n",
      "Done.\n"
     ]
    },
    {
     "data": {
      "text/html": [
       "<table>\n",
       "    <tr>\n",
       "        <th>MAX(duration)</th>\n",
       "    </tr>\n",
       "    <tr>\n",
       "        <td>334</td>\n",
       "    </tr>\n",
       "</table>"
      ],
      "text/plain": [
       "[(334,)]"
      ]
     },
     "execution_count": 5,
     "metadata": {},
     "output_type": "execute_result"
    }
   ],
   "source": [
    "%%sql\n",
    "SELECT MAX(duration)\n",
    "FROM films;"
   ]
  },
  {
   "cell_type": "markdown",
   "id": "461f4392-948b-42b1-98eb-ada49274dfb6",
   "metadata": {},
   "source": [
    "---"
   ]
  },
  {
   "cell_type": "markdown",
   "id": "3bcedf72-1d29-4ecc-bd64-966520cf5463",
   "metadata": {},
   "source": [
    "## Aggregate functions practice\n",
    "Good work. Aggregate functions are important to understand, so let's get some more practice!"
   ]
  },
  {
   "cell_type": "code",
   "execution_count": 6,
   "id": "1951a7d8-e698-484c-a766-0216745b4bce",
   "metadata": {},
   "outputs": [
    {
     "name": "stdout",
     "output_type": "stream",
     "text": [
      " * sqlite:////Users/matteo/Nextcloud/2-Documenti/Corsi/DataScience/DataCamp/Introduction_to_SQL/films.db\n",
      "Done.\n"
     ]
    },
    {
     "data": {
      "text/html": [
       "<table>\n",
       "    <tr>\n",
       "        <th>SUM(gross)</th>\n",
       "    </tr>\n",
       "    <tr>\n",
       "        <td>202515840134</td>\n",
       "    </tr>\n",
       "</table>"
      ],
      "text/plain": [
       "[(202515840134,)]"
      ]
     },
     "execution_count": 6,
     "metadata": {},
     "output_type": "execute_result"
    }
   ],
   "source": [
    "%%sql\n",
    "SELECT SUM(gross)\n",
    "FROM films;"
   ]
  },
  {
   "cell_type": "code",
   "execution_count": 7,
   "id": "8fee7dbc-d0f0-420f-b79f-1b1c65766d38",
   "metadata": {},
   "outputs": [
    {
     "name": "stdout",
     "output_type": "stream",
     "text": [
      " * sqlite:////Users/matteo/Nextcloud/2-Documenti/Corsi/DataScience/DataCamp/Introduction_to_SQL/films.db\n",
      "Done.\n"
     ]
    },
    {
     "data": {
      "text/html": [
       "<table>\n",
       "    <tr>\n",
       "        <th>AVG(gross)</th>\n",
       "    </tr>\n",
       "    <tr>\n",
       "        <td>48705108.25733526</td>\n",
       "    </tr>\n",
       "</table>"
      ],
      "text/plain": [
       "[(48705108.25733526,)]"
      ]
     },
     "execution_count": 7,
     "metadata": {},
     "output_type": "execute_result"
    }
   ],
   "source": [
    "%%sql\n",
    "SELECT AVG(gross)\n",
    "FROM films;"
   ]
  },
  {
   "cell_type": "code",
   "execution_count": 8,
   "id": "cc08e399-f7b0-4234-b3d2-e9506265baaa",
   "metadata": {},
   "outputs": [
    {
     "name": "stdout",
     "output_type": "stream",
     "text": [
      " * sqlite:////Users/matteo/Nextcloud/2-Documenti/Corsi/DataScience/DataCamp/Introduction_to_SQL/films.db\n",
      "Done.\n"
     ]
    },
    {
     "data": {
      "text/html": [
       "<table>\n",
       "    <tr>\n",
       "        <th>MIN(gross)</th>\n",
       "    </tr>\n",
       "    <tr>\n",
       "        <td>162</td>\n",
       "    </tr>\n",
       "</table>"
      ],
      "text/plain": [
       "[(162,)]"
      ]
     },
     "execution_count": 8,
     "metadata": {},
     "output_type": "execute_result"
    }
   ],
   "source": [
    "%%sql\n",
    "SELECT MIN(gross)\n",
    "FROM films;"
   ]
  },
  {
   "cell_type": "code",
   "execution_count": 9,
   "id": "5639a958-a132-4715-9535-48c7ce591460",
   "metadata": {},
   "outputs": [
    {
     "name": "stdout",
     "output_type": "stream",
     "text": [
      " * sqlite:////Users/matteo/Nextcloud/2-Documenti/Corsi/DataScience/DataCamp/Introduction_to_SQL/films.db\n",
      "Done.\n"
     ]
    },
    {
     "data": {
      "text/html": [
       "<table>\n",
       "    <tr>\n",
       "        <th>MAX(gross)</th>\n",
       "    </tr>\n",
       "    <tr>\n",
       "        <td>936627416</td>\n",
       "    </tr>\n",
       "</table>"
      ],
      "text/plain": [
       "[(936627416,)]"
      ]
     },
     "execution_count": 9,
     "metadata": {},
     "output_type": "execute_result"
    }
   ],
   "source": [
    "%%sql\n",
    "SELECT MAX(gross)\n",
    "FROM films;"
   ]
  },
  {
   "cell_type": "markdown",
   "id": "b3cf52e9-26e5-448c-be1b-a7c592425123",
   "metadata": {},
   "source": [
    "---"
   ]
  },
  {
   "cell_type": "markdown",
   "id": "acaec68f-7b23-4928-b414-9895838bb06b",
   "metadata": {},
   "source": [
    "## Combining aggregate functions with WHERE\n",
    "Aggregate functions can be combined with the `WHERE` clause to gain further insights from your data.\n",
    "\n",
    "For example, to get the total budget of movies made in the year 2010 or later:\n",
    "```sql\n",
    "SELECT SUM(budget)\n",
    "FROM films\n",
    "WHERE release_year >= 2010;\n",
    "```"
   ]
  },
  {
   "cell_type": "code",
   "execution_count": 10,
   "id": "612062eb-c38a-4311-b00c-eae2f4446d8b",
   "metadata": {},
   "outputs": [
    {
     "name": "stdout",
     "output_type": "stream",
     "text": [
      " * sqlite:////Users/matteo/Nextcloud/2-Documenti/Corsi/DataScience/DataCamp/Introduction_to_SQL/films.db\n",
      "Done.\n"
     ]
    },
    {
     "data": {
      "text/html": [
       "<table>\n",
       "    <tr>\n",
       "        <th>sum(gross)</th>\n",
       "    </tr>\n",
       "    <tr>\n",
       "        <td>150900926358</td>\n",
       "    </tr>\n",
       "</table>"
      ],
      "text/plain": [
       "[(150900926358,)]"
      ]
     },
     "execution_count": 10,
     "metadata": {},
     "output_type": "execute_result"
    }
   ],
   "source": [
    "%%sql\n",
    "SELECT sum(gross)\n",
    "FROM films\n",
    "WHERE release_year >= 2000;"
   ]
  },
  {
   "cell_type": "code",
   "execution_count": 11,
   "id": "03f0ab56-6d7c-47ed-888c-0697110ee3a7",
   "metadata": {},
   "outputs": [
    {
     "name": "stdout",
     "output_type": "stream",
     "text": [
      " * sqlite:////Users/matteo/Nextcloud/2-Documenti/Corsi/DataScience/DataCamp/Introduction_to_SQL/films.db\n",
      "Done.\n"
     ]
    },
    {
     "data": {
      "text/html": [
       "<table>\n",
       "    <tr>\n",
       "        <th>AVG(gross)</th>\n",
       "    </tr>\n",
       "    <tr>\n",
       "        <td>47893236.42248062</td>\n",
       "    </tr>\n",
       "</table>"
      ],
      "text/plain": [
       "[(47893236.42248062,)]"
      ]
     },
     "execution_count": 11,
     "metadata": {},
     "output_type": "execute_result"
    }
   ],
   "source": [
    "%%sql\n",
    "SELECT AVG(gross)\n",
    "FROM films\n",
    "WHERE title LIKE 'A%'"
   ]
  },
  {
   "cell_type": "code",
   "execution_count": 12,
   "id": "9b3d152d-147f-408b-bd95-1a0907ec119c",
   "metadata": {},
   "outputs": [
    {
     "name": "stdout",
     "output_type": "stream",
     "text": [
      " * sqlite:////Users/matteo/Nextcloud/2-Documenti/Corsi/DataScience/DataCamp/Introduction_to_SQL/films.db\n",
      "Done.\n"
     ]
    },
    {
     "data": {
      "text/html": [
       "<table>\n",
       "    <tr>\n",
       "        <th>MIN(gross)</th>\n",
       "    </tr>\n",
       "    <tr>\n",
       "        <td>125169</td>\n",
       "    </tr>\n",
       "</table>"
      ],
      "text/plain": [
       "[(125169,)]"
      ]
     },
     "execution_count": 12,
     "metadata": {},
     "output_type": "execute_result"
    }
   ],
   "source": [
    "%%sql\n",
    "SELECT MIN(gross)\n",
    "FROM films\n",
    "WHERE release_year = 1994"
   ]
  },
  {
   "cell_type": "code",
   "execution_count": 13,
   "id": "368fe1e6-07fa-4f18-8715-20a4c5218dc9",
   "metadata": {},
   "outputs": [
    {
     "name": "stdout",
     "output_type": "stream",
     "text": [
      " * sqlite:////Users/matteo/Nextcloud/2-Documenti/Corsi/DataScience/DataCamp/Introduction_to_SQL/films.db\n",
      "Done.\n"
     ]
    },
    {
     "data": {
      "text/html": [
       "<table>\n",
       "    <tr>\n",
       "        <th>MAX(gross)</th>\n",
       "    </tr>\n",
       "    <tr>\n",
       "        <td>760505847</td>\n",
       "    </tr>\n",
       "</table>"
      ],
      "text/plain": [
       "[(760505847,)]"
      ]
     },
     "execution_count": 13,
     "metadata": {},
     "output_type": "execute_result"
    }
   ],
   "source": [
    "%%sql\n",
    "SELECT MAX(gross)\n",
    "FROM films\n",
    "WHERE release_year BETWEEN 2000 AND 2012;"
   ]
  },
  {
   "cell_type": "markdown",
   "id": "15fdf58a-2a24-4abe-b1ae-8b65f73e8d2e",
   "metadata": {
    "tags": []
   },
   "source": [
    "---"
   ]
  },
  {
   "cell_type": "markdown",
   "id": "5e7073c9-9da5-4f4f-88c4-03bbf073dd90",
   "metadata": {},
   "source": [
    "## A note on arithmetic\n",
    "In addition to using aggregate functions, you can perform basic arithmetic with symbols like `+`, `-`, `*`, and `/`.\n",
    "\n",
    "So, for example, this gives a result of `12`:\n",
    "```sql\n",
    "SELECT (4 * 3);\n",
    "```\n",
    "However, the following gives a result of `1`:\n",
    "```sql\n",
    "SELECT (4 / 3);\n",
    "```\n",
    "What's going on here?\n",
    "\n",
    "SQL assumes that if you divide an integer by an integer, you want to get an integer back. So be careful when dividing!\n",
    "\n",
    "If you want more precision when dividing, you can add decimal places to your numbers. For example,\n",
    "```sql\n",
    "SELECT (4.0 / 3.0) AS result;\n",
    "```\n",
    "gives you the result you would expect: `1.333`."
   ]
  },
  {
   "cell_type": "markdown",
   "id": "427d07e0-9db9-4d5b-bc40-51677c8e271d",
   "metadata": {},
   "source": [
    "---"
   ]
  },
  {
   "cell_type": "markdown",
   "id": "2dd343c0-b217-4914-a909-392670e74fe7",
   "metadata": {},
   "source": [
    "## It's AS simple AS aliasing\n",
    "You may have noticed in the first exercise of this chapter that the column name of your result was just the name of the function you used. For example,\n",
    "```sql\n",
    "SELECT MAX(budget)\n",
    "FROM films;\n",
    "```\n",
    "gives you a result with one column, named `max`. But what if you use two functions like this?\n",
    "```sql\n",
    "SELECT MAX(budget), MAX(duration)\n",
    "FROM films;\n",
    "```\n",
    "Well, then you'd have two columns named `max`, which isn't very useful!\n",
    "\n",
    "To avoid situations like this, SQL allows you to do something called aliasing. Aliasing simply means you assign a temporary name to something. To alias, you use the AS keyword, which you've already seen earlier in this course.\n",
    "\n",
    "For example, in the above example we could use aliases to make the result clearer:\n",
    "```sql\n",
    "SELECT MAX(budget) AS max_budget,\n",
    "       MAX(duration) AS max_duration\n",
    "FROM films;\n",
    "```\n",
    "Aliases are helpful for making results more readable!"
   ]
  },
  {
   "cell_type": "code",
   "execution_count": 14,
   "id": "9a3b6507-7d64-46a4-8ed2-ed63fa8598d5",
   "metadata": {},
   "outputs": [
    {
     "name": "stdout",
     "output_type": "stream",
     "text": [
      " * sqlite:////Users/matteo/Nextcloud/2-Documenti/Corsi/DataScience/DataCamp/Introduction_to_SQL/films.db\n",
      "Done.\n"
     ]
    },
    {
     "data": {
      "text/html": [
       "<table>\n",
       "    <tr>\n",
       "        <th>title</th>\n",
       "        <th>net_profit</th>\n",
       "    </tr>\n",
       "    <tr>\n",
       "        <td>Intolerance: Love&#x27;s Struggle Throughout the Ages</td>\n",
       "        <td>None</td>\n",
       "    </tr>\n",
       "    <tr>\n",
       "        <td>Over the Hill to the Poorhouse</td>\n",
       "        <td>2900000</td>\n",
       "    </tr>\n",
       "    <tr>\n",
       "        <td>The Big Parade</td>\n",
       "        <td>None</td>\n",
       "    </tr>\n",
       "    <tr>\n",
       "        <td>Metropolis</td>\n",
       "        <td>-5973565</td>\n",
       "    </tr>\n",
       "    <tr>\n",
       "        <td>Pandora&#x27;s Box</td>\n",
       "        <td>None</td>\n",
       "    </tr>\n",
       "</table>"
      ],
      "text/plain": [
       "[(\"Intolerance: Love's Struggle Throughout the Ages\", None),\n",
       " ('Over the Hill to the Poorhouse', 2900000),\n",
       " ('The Big Parade', None),\n",
       " ('Metropolis', -5973565),\n",
       " (\"Pandora's Box\", None)]"
      ]
     },
     "execution_count": 14,
     "metadata": {},
     "output_type": "execute_result"
    }
   ],
   "source": [
    "%%sql\n",
    "SELECT title,\n",
    "        (gross - budget) AS net_profit\n",
    "FROM films\n",
    "LIMIT 5;"
   ]
  },
  {
   "cell_type": "code",
   "execution_count": 15,
   "id": "2095d055-66e0-44f1-a177-a00058fd7f72",
   "metadata": {},
   "outputs": [
    {
     "name": "stdout",
     "output_type": "stream",
     "text": [
      " * sqlite:////Users/matteo/Nextcloud/2-Documenti/Corsi/DataScience/DataCamp/Introduction_to_SQL/films.db\n",
      "Done.\n"
     ]
    },
    {
     "data": {
      "text/html": [
       "<table>\n",
       "    <tr>\n",
       "        <th>title</th>\n",
       "        <th>duration_hours</th>\n",
       "    </tr>\n",
       "    <tr>\n",
       "        <td>Intolerance: Love&#x27;s Struggle Throughout the Ages</td>\n",
       "        <td>2.05</td>\n",
       "    </tr>\n",
       "    <tr>\n",
       "        <td>Over the Hill to the Poorhouse</td>\n",
       "        <td>1.8333333333333333</td>\n",
       "    </tr>\n",
       "    <tr>\n",
       "        <td>The Big Parade</td>\n",
       "        <td>2.5166666666666666</td>\n",
       "    </tr>\n",
       "    <tr>\n",
       "        <td>Metropolis</td>\n",
       "        <td>2.4166666666666665</td>\n",
       "    </tr>\n",
       "    <tr>\n",
       "        <td>Pandora&#x27;s Box</td>\n",
       "        <td>1.8333333333333333</td>\n",
       "    </tr>\n",
       "</table>"
      ],
      "text/plain": [
       "[(\"Intolerance: Love's Struggle Throughout the Ages\", 2.05),\n",
       " ('Over the Hill to the Poorhouse', 1.8333333333333333),\n",
       " ('The Big Parade', 2.5166666666666666),\n",
       " ('Metropolis', 2.4166666666666665),\n",
       " (\"Pandora's Box\", 1.8333333333333333)]"
      ]
     },
     "execution_count": 15,
     "metadata": {},
     "output_type": "execute_result"
    }
   ],
   "source": [
    "%%sql\n",
    "SELECT title,\n",
    "        duration / 60.0 AS duration_hours\n",
    "FROM films\n",
    "LIMIT 5;"
   ]
  },
  {
   "cell_type": "code",
   "execution_count": 16,
   "id": "afd5fe94-9b82-454c-828b-8443502c45ef",
   "metadata": {},
   "outputs": [
    {
     "name": "stdout",
     "output_type": "stream",
     "text": [
      " * sqlite:////Users/matteo/Nextcloud/2-Documenti/Corsi/DataScience/DataCamp/Introduction_to_SQL/films.db\n",
      "Done.\n"
     ]
    },
    {
     "data": {
      "text/html": [
       "<table>\n",
       "    <tr>\n",
       "        <th>avg_duration_hours</th>\n",
       "    </tr>\n",
       "    <tr>\n",
       "        <td>1.7991321897073662</td>\n",
       "    </tr>\n",
       "</table>"
      ],
      "text/plain": [
       "[(1.7991321897073662,)]"
      ]
     },
     "execution_count": 16,
     "metadata": {},
     "output_type": "execute_result"
    }
   ],
   "source": [
    "%%sql\n",
    "SELECT AVG(duration)/60.00 AS avg_duration_hours\n",
    "FROM films;"
   ]
  },
  {
   "cell_type": "markdown",
   "id": "d7d55a1c-27d4-46cc-918c-37eb4f397287",
   "metadata": {},
   "source": [
    "## Even more aliasing\n",
    "Let's practice your newfound aliasing skills some more before moving on!\n",
    "\n",
    "**Recall**: SQL assumes that if you divide an integer by an integer, you want to get an integer back.\n",
    "\n",
    "This means that the following will erroneously result in `400.0`:\n",
    "```sql\n",
    "SELECT 45 / 10 * 100.0;\n",
    "```\n",
    "This is because `45 / 10` evaluates to an integer `(4)`, and not a decimal number like we would expect.\n",
    "\n",
    "So when you're dividing make sure at least one of your numbers has a decimal place:\n",
    "```sql\n",
    "SELECT 45 * 100.0 / 10;\n",
    "```\n",
    "The above now gives the correct answer of `450.0` since the numerator `(45 * 100.0)` of the division is now a decimal!"
   ]
  },
  {
   "cell_type": "code",
   "execution_count": 17,
   "id": "763dcf25-efef-4f6e-acde-b0549f8440d7",
   "metadata": {},
   "outputs": [
    {
     "name": "stdout",
     "output_type": "stream",
     "text": [
      " * sqlite:////Users/matteo/Nextcloud/2-Documenti/Corsi/DataScience/DataCamp/Introduction_to_SQL/films.db\n",
      "Done.\n"
     ]
    },
    {
     "data": {
      "text/html": [
       "<table>\n",
       "    <tr>\n",
       "        <th>percentage_dead</th>\n",
       "    </tr>\n",
       "    <tr>\n",
       "        <td>9.372394902941526</td>\n",
       "    </tr>\n",
       "</table>"
      ],
      "text/plain": [
       "[(9.372394902941526,)]"
      ]
     },
     "execution_count": 17,
     "metadata": {},
     "output_type": "execute_result"
    }
   ],
   "source": [
    "%%sql\n",
    "SELECT COUNT(deathdate)*100.0/COUNT(*) AS percentage_dead\n",
    "FROM people;"
   ]
  },
  {
   "cell_type": "code",
   "execution_count": 18,
   "id": "1bf94500-0080-44f9-a298-36350e42a2db",
   "metadata": {},
   "outputs": [
    {
     "name": "stdout",
     "output_type": "stream",
     "text": [
      " * sqlite:////Users/matteo/Nextcloud/2-Documenti/Corsi/DataScience/DataCamp/Introduction_to_SQL/films.db\n",
      "Done.\n"
     ]
    },
    {
     "data": {
      "text/html": [
       "<table>\n",
       "    <tr>\n",
       "        <th>difference</th>\n",
       "    </tr>\n",
       "    <tr>\n",
       "        <td>100</td>\n",
       "    </tr>\n",
       "</table>"
      ],
      "text/plain": [
       "[(100,)]"
      ]
     },
     "execution_count": 18,
     "metadata": {},
     "output_type": "execute_result"
    }
   ],
   "source": [
    "%%sql\n",
    "SELECT max(release_year) - min(release_year) AS difference\n",
    "FROM films;"
   ]
  },
  {
   "cell_type": "code",
   "execution_count": 19,
   "id": "3011c69a-9ec4-457f-b7de-8b736a02c85a",
   "metadata": {},
   "outputs": [
    {
     "name": "stdout",
     "output_type": "stream",
     "text": [
      " * sqlite:////Users/matteo/Nextcloud/2-Documenti/Corsi/DataScience/DataCamp/Introduction_to_SQL/films.db\n",
      "Done.\n"
     ]
    },
    {
     "data": {
      "text/html": [
       "<table>\n",
       "    <tr>\n",
       "        <th>number_of_decades</th>\n",
       "    </tr>\n",
       "    <tr>\n",
       "        <td>10</td>\n",
       "    </tr>\n",
       "</table>"
      ],
      "text/plain": [
       "[(10,)]"
      ]
     },
     "execution_count": 19,
     "metadata": {},
     "output_type": "execute_result"
    }
   ],
   "source": [
    "%%sql\n",
    "SELECT (MAX(release_year)-MIN(release_year))/10 AS number_of_decades\n",
    "FROM films;"
   ]
  }
 ],
 "metadata": {
  "kernelspec": {
   "display_name": "Python 3 (ipykernel)",
   "language": "python",
   "name": "python3"
  },
  "language_info": {
   "codemirror_mode": {
    "name": "ipython",
    "version": 3
   },
   "file_extension": ".py",
   "mimetype": "text/x-python",
   "name": "python",
   "nbconvert_exporter": "python",
   "pygments_lexer": "ipython3",
   "version": "3.9.10"
  }
 },
 "nbformat": 4,
 "nbformat_minor": 5
}
