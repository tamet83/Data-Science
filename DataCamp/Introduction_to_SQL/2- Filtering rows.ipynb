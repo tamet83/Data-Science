{
 "cells": [
  {
   "cell_type": "markdown",
   "id": "5b5731c7-ba59-45aa-97e4-fb2484897828",
   "metadata": {},
   "source": [
    "# Filtering rows\n",
    "This chapter builds on the first by teaching you how to filter tables for rows satisfying some criteria of interest. You'll learn how to use basic comparison operators, combine multiple criteria, match patterns in text, and much more."
   ]
  },
  {
   "cell_type": "code",
   "execution_count": 1,
   "id": "6486eb6d-95be-4dde-93f9-1fa682d74992",
   "metadata": {},
   "outputs": [],
   "source": [
    "from sqlalchemy import create_engine, inspect\n",
    "import os\n",
    "\n",
    "current_directory = os.getcwd()\n",
    "\n",
    "%load_ext sql\n",
    "%sql sqlite:///{current_directory}/films.db"
   ]
  },
  {
   "cell_type": "markdown",
   "id": "ff3d7fc0-bfd5-4652-9569-01df4d3e5ae9",
   "metadata": {},
   "source": [
    "## Filtering results\n",
    "Congrats on finishing the first chapter! You now know how to select columns and perform basic counts. This chapter will focus on filtering your results.\n",
    "\n",
    "In SQL, the `WHERE` keyword allows you to filter based on both text and numeric values in a table. There are a few different comparison operators you can use:\n",
    "\n",
    "- `=` equal\n",
    "- `<>` not equal\n",
    "- `<` less than\n",
    "- `>` greater than\n",
    "- `<=` less than or equal to\n",
    "- `>=` greater than or equal to\n",
    "For example, you can filter text records such as `title`. The following code returns all films with the title `'Metropolis'`:\n",
    "```sql\n",
    "SELECT title\n",
    "FROM films\n",
    "WHERE title = 'Metropolis';\n",
    "```\n",
    "Notice that the `WHERE` clause always comes after the `FROM` statement!\n",
    "\n",
    "**Note that in this course we will use `<>` and not `!=` for the not equal operator, as per the SQL standard.**\n",
    "\n",
    "What does the following query return?\n",
    "```sql\n",
    "SELECT title\n",
    "FROM films\n",
    "WHERE release_year > 2000;\n",
    "```"
   ]
  },
  {
   "cell_type": "code",
   "execution_count": 2,
   "id": "cdaf0d01-7cca-421a-9e22-3542d3fd91a4",
   "metadata": {},
   "outputs": [
    {
     "name": "stdout",
     "output_type": "stream",
     "text": [
      " * sqlite:////Users/matteo/Nextcloud/2-Documenti/Corsi/DataScience/DataCamp/Introduction_to_SQL/films.db\n",
      "Done.\n"
     ]
    },
    {
     "data": {
      "text/html": [
       "<table>\n",
       "    <tr>\n",
       "        <th>title</th>\n",
       "    </tr>\n",
       "    <tr>\n",
       "        <td>15 Minutes</td>\n",
       "    </tr>\n",
       "    <tr>\n",
       "        <td>3000 Miles to Graceland</td>\n",
       "    </tr>\n",
       "    <tr>\n",
       "        <td>A Beautiful Mind</td>\n",
       "    </tr>\n",
       "    <tr>\n",
       "        <td>A Knight&#x27;s Tale</td>\n",
       "    </tr>\n",
       "    <tr>\n",
       "        <td>A.I. Artificial Intelligence</td>\n",
       "    </tr>\n",
       "</table>"
      ],
      "text/plain": [
       "[('15 Minutes',),\n",
       " ('3000 Miles to Graceland',),\n",
       " ('A Beautiful Mind',),\n",
       " (\"A Knight's Tale\",),\n",
       " ('A.I. Artificial Intelligence',)]"
      ]
     },
     "execution_count": 2,
     "metadata": {},
     "output_type": "execute_result"
    }
   ],
   "source": [
    "%%sql\n",
    "SELECT title\n",
    "FROM films\n",
    "WHERE release_year > 2000\n",
    "LIMIT 5;"
   ]
  },
  {
   "cell_type": "markdown",
   "id": "0caf00bb-691e-4d0f-a831-2c41e91473e0",
   "metadata": {},
   "source": [
    "---"
   ]
  },
  {
   "cell_type": "markdown",
   "id": "feb54164-c178-4e79-81cd-2037a8acb45f",
   "metadata": {},
   "source": [
    "## Simple filtering of numeric values\n",
    "As you learned in the previous exercise, the `WHERE` clause can also be used to filter numeric records, such as years or ages.\n",
    "\n",
    "For example, the following query selects all details for films with a budget over ten thousand dollars:\n",
    "```sql\n",
    "SELECT *\n",
    "FROM films\n",
    "WHERE budget > 10000;\n",
    "```\n",
    "Now it's your turn to use the `WHERE` clause to filter numeric values!"
   ]
  },
  {
   "cell_type": "code",
   "execution_count": 3,
   "id": "a8c6237a-c2ef-4980-a932-fd2e3189c27d",
   "metadata": {},
   "outputs": [
    {
     "name": "stdout",
     "output_type": "stream",
     "text": [
      " * sqlite:////Users/matteo/Nextcloud/2-Documenti/Corsi/DataScience/DataCamp/Introduction_to_SQL/films.db\n",
      "Done.\n"
     ]
    },
    {
     "data": {
      "text/html": [
       "<table>\n",
       "    <tr>\n",
       "        <th>id</th>\n",
       "        <th>title</th>\n",
       "        <th>release_year</th>\n",
       "        <th>country</th>\n",
       "        <th>duration</th>\n",
       "        <th>language</th>\n",
       "        <th>certification</th>\n",
       "        <th>gross</th>\n",
       "        <th>budget</th>\n",
       "    </tr>\n",
       "    <tr>\n",
       "        <td>4821</td>\n",
       "        <td>10 Cloverfield Lane</td>\n",
       "        <td>2016</td>\n",
       "        <td>USA</td>\n",
       "        <td>104</td>\n",
       "        <td>English</td>\n",
       "        <td>PG-13</td>\n",
       "        <td>71897215</td>\n",
       "        <td>15000000</td>\n",
       "    </tr>\n",
       "    <tr>\n",
       "        <td>4822</td>\n",
       "        <td>13 Hours</td>\n",
       "        <td>2016</td>\n",
       "        <td>USA</td>\n",
       "        <td>144</td>\n",
       "        <td>English</td>\n",
       "        <td>R</td>\n",
       "        <td>52822418</td>\n",
       "        <td>50000000</td>\n",
       "    </tr>\n",
       "    <tr>\n",
       "        <td>4823</td>\n",
       "        <td>A Beginner&#x27;s Guide to Snuff</td>\n",
       "        <td>2016</td>\n",
       "        <td>USA</td>\n",
       "        <td>87</td>\n",
       "        <td>English</td>\n",
       "        <td>None</td>\n",
       "        <td>None</td>\n",
       "        <td>None</td>\n",
       "    </tr>\n",
       "    <tr>\n",
       "        <td>4824</td>\n",
       "        <td>Airlift</td>\n",
       "        <td>2016</td>\n",
       "        <td>India</td>\n",
       "        <td>130</td>\n",
       "        <td>Hindi</td>\n",
       "        <td>None</td>\n",
       "        <td>None</td>\n",
       "        <td>4400000</td>\n",
       "    </tr>\n",
       "    <tr>\n",
       "        <td>4825</td>\n",
       "        <td>Alice Through the Looking Glass</td>\n",
       "        <td>2016</td>\n",
       "        <td>USA</td>\n",
       "        <td>113</td>\n",
       "        <td>English</td>\n",
       "        <td>PG</td>\n",
       "        <td>76846624</td>\n",
       "        <td>170000000</td>\n",
       "    </tr>\n",
       "</table>"
      ],
      "text/plain": [
       "[(4821, '10 Cloverfield Lane', 2016, 'USA', 104, 'English', 'PG-13', 71897215, 15000000),\n",
       " (4822, '13 Hours', 2016, 'USA', 144, 'English', 'R', 52822418, 50000000),\n",
       " (4823, \"A Beginner's Guide to Snuff\", 2016, 'USA', 87, 'English', None, None, None),\n",
       " (4824, 'Airlift', 2016, 'India', 130, 'Hindi', None, None, 4400000),\n",
       " (4825, 'Alice Through the Looking Glass', 2016, 'USA', 113, 'English', 'PG', 76846624, 170000000)]"
      ]
     },
     "execution_count": 3,
     "metadata": {},
     "output_type": "execute_result"
    }
   ],
   "source": [
    "%%sql\n",
    "SELECT * \n",
    "FROM films \n",
    "WHERE release_year = 2016\n",
    "LIMIT 5;"
   ]
  },
  {
   "cell_type": "code",
   "execution_count": 4,
   "id": "7749f6a0-907a-43bd-aca9-a20162184700",
   "metadata": {},
   "outputs": [
    {
     "name": "stdout",
     "output_type": "stream",
     "text": [
      " * sqlite:////Users/matteo/Nextcloud/2-Documenti/Corsi/DataScience/DataCamp/Introduction_to_SQL/films.db\n",
      "Done.\n"
     ]
    },
    {
     "data": {
      "text/html": [
       "<table>\n",
       "    <tr>\n",
       "        <th>COUNT(title)</th>\n",
       "    </tr>\n",
       "    <tr>\n",
       "        <td>1337</td>\n",
       "    </tr>\n",
       "</table>"
      ],
      "text/plain": [
       "[(1337,)]"
      ]
     },
     "execution_count": 4,
     "metadata": {},
     "output_type": "execute_result"
    }
   ],
   "source": [
    "%%sql\n",
    "SELECT COUNT(title) \n",
    "FROM films \n",
    "WHERE release_year < 2000\n",
    "LIMIT 5;"
   ]
  },
  {
   "cell_type": "code",
   "execution_count": 5,
   "id": "809f8945-867e-4834-a9c5-51b56264d5f6",
   "metadata": {},
   "outputs": [
    {
     "name": "stdout",
     "output_type": "stream",
     "text": [
      " * sqlite:////Users/matteo/Nextcloud/2-Documenti/Corsi/DataScience/DataCamp/Introduction_to_SQL/films.db\n",
      "Done.\n"
     ]
    },
    {
     "data": {
      "text/html": [
       "<table>\n",
       "    <tr>\n",
       "        <th>title</th>\n",
       "        <th>release_year</th>\n",
       "    </tr>\n",
       "    <tr>\n",
       "        <td>15 Minutes</td>\n",
       "        <td>2001</td>\n",
       "    </tr>\n",
       "    <tr>\n",
       "        <td>3000 Miles to Graceland</td>\n",
       "        <td>2001</td>\n",
       "    </tr>\n",
       "    <tr>\n",
       "        <td>A Beautiful Mind</td>\n",
       "        <td>2001</td>\n",
       "    </tr>\n",
       "    <tr>\n",
       "        <td>A Knight&#x27;s Tale</td>\n",
       "        <td>2001</td>\n",
       "    </tr>\n",
       "    <tr>\n",
       "        <td>A.I. Artificial Intelligence</td>\n",
       "        <td>2001</td>\n",
       "    </tr>\n",
       "</table>"
      ],
      "text/plain": [
       "[('15 Minutes', 2001),\n",
       " ('3000 Miles to Graceland', 2001),\n",
       " ('A Beautiful Mind', 2001),\n",
       " (\"A Knight's Tale\", 2001),\n",
       " ('A.I. Artificial Intelligence', 2001)]"
      ]
     },
     "execution_count": 5,
     "metadata": {},
     "output_type": "execute_result"
    }
   ],
   "source": [
    "%%sql\n",
    "SELECT title, release_year \n",
    "FROM films \n",
    "WHERE release_year > 2000\n",
    "LIMIT 5;"
   ]
  },
  {
   "cell_type": "markdown",
   "id": "f97a4613-1191-4353-9cad-e889dd59f95d",
   "metadata": {},
   "source": [
    "---"
   ]
  },
  {
   "cell_type": "markdown",
   "id": "f7311585-cdd4-4ffe-bfee-f63c4e553412",
   "metadata": {},
   "source": [
    "## Simple filtering of text\n",
    "Remember, the `WHERE` clause can also be used to filter text results, such as names or countries.\n",
    "\n",
    "For example, this query gets the titles of all films which were filmed in China:\n",
    "```sql\n",
    "SELECT title\n",
    "FROM films\n",
    "WHERE country = 'China';\n",
    "```\n",
    "Now it's your turn to practice using `WHERE` with text values!\n",
    "\n",
    "**Important: in PostgreSQL (the version of SQL we're using), you must use single quotes with WHERE.))**"
   ]
  },
  {
   "cell_type": "code",
   "execution_count": 6,
   "id": "2479e956-8043-4edd-b270-2e6f9ea70025",
   "metadata": {},
   "outputs": [
    {
     "name": "stdout",
     "output_type": "stream",
     "text": [
      " * sqlite:////Users/matteo/Nextcloud/2-Documenti/Corsi/DataScience/DataCamp/Introduction_to_SQL/films.db\n",
      "Done.\n"
     ]
    },
    {
     "data": {
      "text/html": [
       "<table>\n",
       "    <tr>\n",
       "        <th>id</th>\n",
       "        <th>title</th>\n",
       "        <th>release_year</th>\n",
       "        <th>country</th>\n",
       "        <th>duration</th>\n",
       "        <th>language</th>\n",
       "        <th>certification</th>\n",
       "        <th>gross</th>\n",
       "        <th>budget</th>\n",
       "    </tr>\n",
       "    <tr>\n",
       "        <td>108</td>\n",
       "        <td>Une Femme Mariée</td>\n",
       "        <td>1964</td>\n",
       "        <td>France</td>\n",
       "        <td>94</td>\n",
       "        <td>French</td>\n",
       "        <td>None</td>\n",
       "        <td>None</td>\n",
       "        <td>120000</td>\n",
       "    </tr>\n",
       "    <tr>\n",
       "        <td>111</td>\n",
       "        <td>Pierrot le Fou</td>\n",
       "        <td>1965</td>\n",
       "        <td>France</td>\n",
       "        <td>110</td>\n",
       "        <td>French</td>\n",
       "        <td>Not Rated</td>\n",
       "        <td>None</td>\n",
       "        <td>300000</td>\n",
       "    </tr>\n",
       "    <tr>\n",
       "        <td>140</td>\n",
       "        <td>Mississippi Mermaid</td>\n",
       "        <td>1969</td>\n",
       "        <td>France</td>\n",
       "        <td>123</td>\n",
       "        <td>French</td>\n",
       "        <td>R</td>\n",
       "        <td>26893</td>\n",
       "        <td>1600000</td>\n",
       "    </tr>\n",
       "    <tr>\n",
       "        <td>423</td>\n",
       "        <td>Subway</td>\n",
       "        <td>1985</td>\n",
       "        <td>France</td>\n",
       "        <td>98</td>\n",
       "        <td>French</td>\n",
       "        <td>R</td>\n",
       "        <td>None</td>\n",
       "        <td>17000000</td>\n",
       "    </tr>\n",
       "    <tr>\n",
       "        <td>662</td>\n",
       "        <td>Les visiteurs</td>\n",
       "        <td>1993</td>\n",
       "        <td>France</td>\n",
       "        <td>107</td>\n",
       "        <td>French</td>\n",
       "        <td>R</td>\n",
       "        <td>700000</td>\n",
       "        <td>50000000</td>\n",
       "    </tr>\n",
       "</table>"
      ],
      "text/plain": [
       "[(108, 'Une Femme Mariée', 1964, 'France', 94, 'French', None, None, 120000),\n",
       " (111, 'Pierrot le Fou', 1965, 'France', 110, 'French', 'Not Rated', None, 300000),\n",
       " (140, 'Mississippi Mermaid', 1969, 'France', 123, 'French', 'R', 26893, 1600000),\n",
       " (423, 'Subway', 1985, 'France', 98, 'French', 'R', None, 17000000),\n",
       " (662, 'Les visiteurs', 1993, 'France', 107, 'French', 'R', 700000, 50000000)]"
      ]
     },
     "execution_count": 6,
     "metadata": {},
     "output_type": "execute_result"
    }
   ],
   "source": [
    "%%sql\n",
    "SELECT * \n",
    "FROM films \n",
    "WHERE language = 'French'\n",
    "LIMIT 5;"
   ]
  },
  {
   "cell_type": "code",
   "execution_count": 7,
   "id": "2876131f-9d15-41c5-9643-8ef76892293d",
   "metadata": {},
   "outputs": [
    {
     "name": "stdout",
     "output_type": "stream",
     "text": [
      " * sqlite:////Users/matteo/Nextcloud/2-Documenti/Corsi/DataScience/DataCamp/Introduction_to_SQL/films.db\n",
      "Done.\n"
     ]
    },
    {
     "data": {
      "text/html": [
       "<table>\n",
       "    <tr>\n",
       "        <th>name</th>\n",
       "        <th>birthdate</th>\n",
       "    </tr>\n",
       "    <tr>\n",
       "        <td>Leonardo DiCaprio</td>\n",
       "        <td>1974-11-11</td>\n",
       "    </tr>\n",
       "</table>"
      ],
      "text/plain": [
       "[('Leonardo DiCaprio', '1974-11-11')]"
      ]
     },
     "execution_count": 7,
     "metadata": {},
     "output_type": "execute_result"
    }
   ],
   "source": [
    "%%sql\n",
    "SELECT name, birthdate \n",
    "FROM people \n",
    "WHERE birthdate = '1974-11-11';"
   ]
  },
  {
   "cell_type": "code",
   "execution_count": 8,
   "id": "8a11f0ae-1620-4062-856a-1ae86f965744",
   "metadata": {},
   "outputs": [
    {
     "name": "stdout",
     "output_type": "stream",
     "text": [
      " * sqlite:////Users/matteo/Nextcloud/2-Documenti/Corsi/DataScience/DataCamp/Introduction_to_SQL/films.db\n",
      "Done.\n"
     ]
    },
    {
     "data": {
      "text/html": [
       "<table>\n",
       "    <tr>\n",
       "        <th>COUNT(title)</th>\n",
       "    </tr>\n",
       "    <tr>\n",
       "        <td>28</td>\n",
       "    </tr>\n",
       "</table>"
      ],
      "text/plain": [
       "[(28,)]"
      ]
     },
     "execution_count": 8,
     "metadata": {},
     "output_type": "execute_result"
    }
   ],
   "source": [
    "%%sql\n",
    "SELECT COUNT(title) \n",
    "FROM films \n",
    "WHERE language = 'Hindi';"
   ]
  },
  {
   "cell_type": "code",
   "execution_count": 9,
   "id": "6f8c99c3-da0e-43b9-b7b0-8c195032e56f",
   "metadata": {},
   "outputs": [
    {
     "name": "stdout",
     "output_type": "stream",
     "text": [
      " * sqlite:////Users/matteo/Nextcloud/2-Documenti/Corsi/DataScience/DataCamp/Introduction_to_SQL/films.db\n",
      "Done.\n"
     ]
    },
    {
     "data": {
      "text/html": [
       "<table>\n",
       "    <tr>\n",
       "        <th>id</th>\n",
       "        <th>title</th>\n",
       "        <th>release_year</th>\n",
       "        <th>country</th>\n",
       "        <th>duration</th>\n",
       "        <th>language</th>\n",
       "        <th>certification</th>\n",
       "        <th>gross</th>\n",
       "        <th>budget</th>\n",
       "    </tr>\n",
       "    <tr>\n",
       "        <td>76</td>\n",
       "        <td>Psycho</td>\n",
       "        <td>1960</td>\n",
       "        <td>USA</td>\n",
       "        <td>108</td>\n",
       "        <td>English</td>\n",
       "        <td>R</td>\n",
       "        <td>32000000</td>\n",
       "        <td>806947</td>\n",
       "    </tr>\n",
       "    <tr>\n",
       "        <td>99</td>\n",
       "        <td>A Fistful of Dollars</td>\n",
       "        <td>1964</td>\n",
       "        <td>Italy</td>\n",
       "        <td>99</td>\n",
       "        <td>Italian</td>\n",
       "        <td>R</td>\n",
       "        <td>3500000</td>\n",
       "        <td>200000</td>\n",
       "    </tr>\n",
       "    <tr>\n",
       "        <td>134</td>\n",
       "        <td>Rosemary&#x27;s Baby</td>\n",
       "        <td>1968</td>\n",
       "        <td>USA</td>\n",
       "        <td>136</td>\n",
       "        <td>English</td>\n",
       "        <td>R</td>\n",
       "        <td>None</td>\n",
       "        <td>2300000</td>\n",
       "    </tr>\n",
       "    <tr>\n",
       "        <td>140</td>\n",
       "        <td>Mississippi Mermaid</td>\n",
       "        <td>1969</td>\n",
       "        <td>France</td>\n",
       "        <td>123</td>\n",
       "        <td>French</td>\n",
       "        <td>R</td>\n",
       "        <td>26893</td>\n",
       "        <td>1600000</td>\n",
       "    </tr>\n",
       "    <tr>\n",
       "        <td>145</td>\n",
       "        <td>The Wild Bunch</td>\n",
       "        <td>1969</td>\n",
       "        <td>USA</td>\n",
       "        <td>144</td>\n",
       "        <td>English</td>\n",
       "        <td>R</td>\n",
       "        <td>None</td>\n",
       "        <td>6244087</td>\n",
       "    </tr>\n",
       "</table>"
      ],
      "text/plain": [
       "[(76, 'Psycho', 1960, 'USA', 108, 'English', 'R', 32000000, 806947),\n",
       " (99, 'A Fistful of Dollars', 1964, 'Italy', 99, 'Italian', 'R', 3500000, 200000),\n",
       " (134, \"Rosemary's Baby\", 1968, 'USA', 136, 'English', 'R', None, 2300000),\n",
       " (140, 'Mississippi Mermaid', 1969, 'France', 123, 'French', 'R', 26893, 1600000),\n",
       " (145, 'The Wild Bunch', 1969, 'USA', 144, 'English', 'R', None, 6244087)]"
      ]
     },
     "execution_count": 9,
     "metadata": {},
     "output_type": "execute_result"
    }
   ],
   "source": [
    "%%sql\n",
    "SELECT * \n",
    "FROM films \n",
    "WHERE certification = 'R'\n",
    "LIMIT 5;"
   ]
  },
  {
   "cell_type": "markdown",
   "id": "9dbff679-01f3-4e22-b935-b31e6b992ef2",
   "metadata": {},
   "source": [
    "---"
   ]
  },
  {
   "cell_type": "markdown",
   "id": "c75ef724-b81e-4a63-87f9-2e412b4a858e",
   "metadata": {},
   "source": [
    "## WHERE AND\n",
    "Often, you'll want to select data based on multiple conditions. You can build up your `WHERE` queries by combining multiple conditions with the `AND` keyword.\n",
    "\n",
    "For example,\n",
    "```sql\n",
    "SELECT title\n",
    "FROM films\n",
    "WHERE release_year > 1994\n",
    "AND release_year < 2000;\n",
    "```\n",
    "gives you the titles of films released between 1994 and 2000.\n",
    "\n",
    "Note that you need to specify the column name separately for every `AND` condition, so the following would be invalid:\n",
    "\n",
    "```sql\n",
    "SELECT title\n",
    "FROM films\n",
    "WHERE release_year > 1994 AND < 2000;\n",
    "```\n",
    "You can add as many `AND` conditions as you need!"
   ]
  },
  {
   "cell_type": "code",
   "execution_count": 10,
   "id": "f42c2357-a5a1-44b7-8358-c6c6a9b712d3",
   "metadata": {},
   "outputs": [
    {
     "name": "stdout",
     "output_type": "stream",
     "text": [
      " * sqlite:////Users/matteo/Nextcloud/2-Documenti/Corsi/DataScience/DataCamp/Introduction_to_SQL/films.db\n",
      "Done.\n"
     ]
    },
    {
     "data": {
      "text/html": [
       "<table>\n",
       "    <tr>\n",
       "        <th>title</th>\n",
       "        <th>release_year</th>\n",
       "    </tr>\n",
       "    <tr>\n",
       "        <td>El Mariachi</td>\n",
       "        <td>1992</td>\n",
       "    </tr>\n",
       "    <tr>\n",
       "        <td>La otra conquista</td>\n",
       "        <td>1998</td>\n",
       "    </tr>\n",
       "    <tr>\n",
       "        <td>Tango</td>\n",
       "        <td>1998</td>\n",
       "    </tr>\n",
       "</table>"
      ],
      "text/plain": [
       "[('El Mariachi', 1992), ('La otra conquista', 1998), ('Tango', 1998)]"
      ]
     },
     "execution_count": 10,
     "metadata": {},
     "output_type": "execute_result"
    }
   ],
   "source": [
    "%%sql\n",
    "SELECT title, release_year \n",
    "FROM films \n",
    "WHERE language = 'Spanish'\n",
    "AND release_year < 2000;"
   ]
  },
  {
   "cell_type": "code",
   "execution_count": 11,
   "id": "c8bd5693-6260-45b5-a1e8-4c5ec479c596",
   "metadata": {},
   "outputs": [
    {
     "name": "stdout",
     "output_type": "stream",
     "text": [
      " * sqlite:////Users/matteo/Nextcloud/2-Documenti/Corsi/DataScience/DataCamp/Introduction_to_SQL/films.db\n",
      "Done.\n"
     ]
    },
    {
     "data": {
      "text/html": [
       "<table>\n",
       "    <tr>\n",
       "        <th>id</th>\n",
       "        <th>title</th>\n",
       "        <th>release_year</th>\n",
       "        <th>country</th>\n",
       "        <th>duration</th>\n",
       "        <th>language</th>\n",
       "        <th>certification</th>\n",
       "        <th>gross</th>\n",
       "        <th>budget</th>\n",
       "    </tr>\n",
       "    <tr>\n",
       "        <td>1695</td>\n",
       "        <td>Y Tu Mamá También</td>\n",
       "        <td>2001</td>\n",
       "        <td>Mexico</td>\n",
       "        <td>106</td>\n",
       "        <td>Spanish</td>\n",
       "        <td>R</td>\n",
       "        <td>13622333</td>\n",
       "        <td>2000000</td>\n",
       "    </tr>\n",
       "    <tr>\n",
       "        <td>1757</td>\n",
       "        <td>El crimen del padre Amaro</td>\n",
       "        <td>2002</td>\n",
       "        <td>Mexico</td>\n",
       "        <td>118</td>\n",
       "        <td>Spanish</td>\n",
       "        <td>R</td>\n",
       "        <td>5709616</td>\n",
       "        <td>1800000</td>\n",
       "    </tr>\n",
       "    <tr>\n",
       "        <td>1807</td>\n",
       "        <td>Mondays in the Sun</td>\n",
       "        <td>2002</td>\n",
       "        <td>Spain</td>\n",
       "        <td>113</td>\n",
       "        <td>Spanish</td>\n",
       "        <td>R</td>\n",
       "        <td>146402</td>\n",
       "        <td>4000000</td>\n",
       "    </tr>\n",
       "    <tr>\n",
       "        <td>2173</td>\n",
       "        <td>Live-In Maid</td>\n",
       "        <td>2004</td>\n",
       "        <td>Argentina</td>\n",
       "        <td>83</td>\n",
       "        <td>Spanish</td>\n",
       "        <td>Unrated</td>\n",
       "        <td>None</td>\n",
       "        <td>800000</td>\n",
       "    </tr>\n",
       "    <tr>\n",
       "        <td>2175</td>\n",
       "        <td>Maria Full of Grace</td>\n",
       "        <td>2004</td>\n",
       "        <td>Colombia</td>\n",
       "        <td>101</td>\n",
       "        <td>Spanish</td>\n",
       "        <td>R</td>\n",
       "        <td>6517198</td>\n",
       "        <td>3000000</td>\n",
       "    </tr>\n",
       "</table>"
      ],
      "text/plain": [
       "[(1695, 'Y Tu Mamá También', 2001, 'Mexico', 106, 'Spanish', 'R', 13622333, 2000000),\n",
       " (1757, 'El crimen del padre Amaro', 2002, 'Mexico', 118, 'Spanish', 'R', 5709616, 1800000),\n",
       " (1807, 'Mondays in the Sun', 2002, 'Spain', 113, 'Spanish', 'R', 146402, 4000000),\n",
       " (2173, 'Live-In Maid', 2004, 'Argentina', 83, 'Spanish', 'Unrated', None, 800000),\n",
       " (2175, 'Maria Full of Grace', 2004, 'Colombia', 101, 'Spanish', 'R', 6517198, 3000000)]"
      ]
     },
     "execution_count": 11,
     "metadata": {},
     "output_type": "execute_result"
    }
   ],
   "source": [
    "%%sql\n",
    "SELECT *\n",
    "FROM films\n",
    "WHERE language = 'Spanish'\n",
    "AND release_year > 2000\n",
    "LIMIT 5;"
   ]
  },
  {
   "cell_type": "code",
   "execution_count": 12,
   "id": "72d97683-15b5-41aa-90e9-f7456f6e0941",
   "metadata": {},
   "outputs": [
    {
     "name": "stdout",
     "output_type": "stream",
     "text": [
      " * sqlite:////Users/matteo/Nextcloud/2-Documenti/Corsi/DataScience/DataCamp/Introduction_to_SQL/films.db\n",
      "Done.\n"
     ]
    },
    {
     "data": {
      "text/html": [
       "<table>\n",
       "    <tr>\n",
       "        <th>id</th>\n",
       "        <th>title</th>\n",
       "        <th>release_year</th>\n",
       "        <th>country</th>\n",
       "        <th>duration</th>\n",
       "        <th>language</th>\n",
       "        <th>certification</th>\n",
       "        <th>gross</th>\n",
       "        <th>budget</th>\n",
       "    </tr>\n",
       "    <tr>\n",
       "        <td>1695</td>\n",
       "        <td>Y Tu Mamá También</td>\n",
       "        <td>2001</td>\n",
       "        <td>Mexico</td>\n",
       "        <td>106</td>\n",
       "        <td>Spanish</td>\n",
       "        <td>R</td>\n",
       "        <td>13622333</td>\n",
       "        <td>2000000</td>\n",
       "    </tr>\n",
       "    <tr>\n",
       "        <td>1757</td>\n",
       "        <td>El crimen del padre Amaro</td>\n",
       "        <td>2002</td>\n",
       "        <td>Mexico</td>\n",
       "        <td>118</td>\n",
       "        <td>Spanish</td>\n",
       "        <td>R</td>\n",
       "        <td>5709616</td>\n",
       "        <td>1800000</td>\n",
       "    </tr>\n",
       "    <tr>\n",
       "        <td>1807</td>\n",
       "        <td>Mondays in the Sun</td>\n",
       "        <td>2002</td>\n",
       "        <td>Spain</td>\n",
       "        <td>113</td>\n",
       "        <td>Spanish</td>\n",
       "        <td>R</td>\n",
       "        <td>146402</td>\n",
       "        <td>4000000</td>\n",
       "    </tr>\n",
       "    <tr>\n",
       "        <td>2173</td>\n",
       "        <td>Live-In Maid</td>\n",
       "        <td>2004</td>\n",
       "        <td>Argentina</td>\n",
       "        <td>83</td>\n",
       "        <td>Spanish</td>\n",
       "        <td>Unrated</td>\n",
       "        <td>None</td>\n",
       "        <td>800000</td>\n",
       "    </tr>\n",
       "    <tr>\n",
       "        <td>2175</td>\n",
       "        <td>Maria Full of Grace</td>\n",
       "        <td>2004</td>\n",
       "        <td>Colombia</td>\n",
       "        <td>101</td>\n",
       "        <td>Spanish</td>\n",
       "        <td>R</td>\n",
       "        <td>6517198</td>\n",
       "        <td>3000000</td>\n",
       "    </tr>\n",
       "</table>"
      ],
      "text/plain": [
       "[(1695, 'Y Tu Mamá También', 2001, 'Mexico', 106, 'Spanish', 'R', 13622333, 2000000),\n",
       " (1757, 'El crimen del padre Amaro', 2002, 'Mexico', 118, 'Spanish', 'R', 5709616, 1800000),\n",
       " (1807, 'Mondays in the Sun', 2002, 'Spain', 113, 'Spanish', 'R', 146402, 4000000),\n",
       " (2173, 'Live-In Maid', 2004, 'Argentina', 83, 'Spanish', 'Unrated', None, 800000),\n",
       " (2175, 'Maria Full of Grace', 2004, 'Colombia', 101, 'Spanish', 'R', 6517198, 3000000)]"
      ]
     },
     "execution_count": 12,
     "metadata": {},
     "output_type": "execute_result"
    }
   ],
   "source": [
    "%%sql\n",
    "SELECT *\n",
    "FROM films\n",
    "WHERE language = 'Spanish'\n",
    "AND release_year > 2000\n",
    "AND release_year < 2010\n",
    "LIMIT 5;"
   ]
  },
  {
   "cell_type": "markdown",
   "id": "d48d714e-3c16-4834-ad49-0f8300c503e3",
   "metadata": {},
   "source": [
    "---"
   ]
  },
  {
   "cell_type": "markdown",
   "id": "a4f69f9e-8177-445c-a65c-c92c75fc7ffb",
   "metadata": {},
   "source": [
    "## WHERE AND OR\n",
    "What if you want to select rows based on multiple conditions where some but not all of the conditions need to be met? For this, SQL has the `OR` operator.\n",
    "\n",
    "For example, the following returns all films released in either 1994 or 2000:\n",
    "```sql\n",
    "SELECT title\n",
    "FROM films\n",
    "WHERE release_year = 1994\n",
    "OR release_year = 2000;\n",
    "```\n",
    "Note that you need to specify the column for every `OR` condition, so the following is invalid:\n",
    "```sql\n",
    "SELECT title\n",
    "FROM films\n",
    "WHERE release_year = 1994 OR 2000;\n",
    "```\n",
    "When combining `AND` and `OR`, be sure to enclose the individual clauses in parentheses, like so:\n",
    "```sql\n",
    "SELECT title\n",
    "FROM films\n",
    "WHERE (release_year = 1994 OR release_year = 1995)\n",
    "AND (certification = 'PG' OR certification = 'R');\n",
    "```\n",
    "Otherwise, due to SQL's precedence rules, you may not get the results you're expecting!"
   ]
  },
  {
   "cell_type": "markdown",
   "id": "4aa01968-ce6b-457e-99bd-9335ddffe0ad",
   "metadata": {},
   "source": [
    "---"
   ]
  },
  {
   "cell_type": "markdown",
   "id": "eae7cde8-ced1-4c2c-beb2-94260d1193ea",
   "metadata": {},
   "source": [
    "## WHERE AND OR (2)\n",
    "You now know how to select rows that meet some but not all conditions by combining `AND` and `OR`.\n",
    "\n",
    "For example, the following query selects all films that were released in 1994 or 1995 which had a rating of PG or R.\n",
    "```sql\n",
    "SELECT title\n",
    "FROM films\n",
    "WHERE (release_year = 1994 OR release_year = 1995)\n",
    "AND (certification = 'PG' OR certification = 'R');\n",
    "```\n",
    "Now you'll write a query to get the title and release year of films released in the 90s which were in French or Spanish and which took in more than $2M gross."
   ]
  },
  {
   "cell_type": "code",
   "execution_count": 13,
   "id": "fd8d373f-55ff-4e30-9152-a40c60aedc29",
   "metadata": {},
   "outputs": [
    {
     "name": "stdout",
     "output_type": "stream",
     "text": [
      " * sqlite:////Users/matteo/Nextcloud/2-Documenti/Corsi/DataScience/DataCamp/Introduction_to_SQL/films.db\n",
      "Done.\n"
     ]
    },
    {
     "data": {
      "text/html": [
       "<table>\n",
       "    <tr>\n",
       "        <th>title</th>\n",
       "        <th>release_year</th>\n",
       "    </tr>\n",
       "    <tr>\n",
       "        <td>Arachnophobia</td>\n",
       "        <td>1990</td>\n",
       "    </tr>\n",
       "    <tr>\n",
       "        <td>Back to the Future Part III</td>\n",
       "        <td>1990</td>\n",
       "    </tr>\n",
       "    <tr>\n",
       "        <td>Child&#x27;s Play 2</td>\n",
       "        <td>1990</td>\n",
       "    </tr>\n",
       "    <tr>\n",
       "        <td>Dances with Wolves</td>\n",
       "        <td>1990</td>\n",
       "    </tr>\n",
       "    <tr>\n",
       "        <td>Days of Thunder</td>\n",
       "        <td>1990</td>\n",
       "    </tr>\n",
       "</table>"
      ],
      "text/plain": [
       "[('Arachnophobia', 1990),\n",
       " ('Back to the Future Part III', 1990),\n",
       " (\"Child's Play 2\", 1990),\n",
       " ('Dances with Wolves', 1990),\n",
       " ('Days of Thunder', 1990)]"
      ]
     },
     "execution_count": 13,
     "metadata": {},
     "output_type": "execute_result"
    }
   ],
   "source": [
    "%%sql\n",
    "SELECT title, release_year\n",
    "FROM films\n",
    "WHERE release_year >= 1990\n",
    "AND release_year < 2000\n",
    "LIMIT 5;"
   ]
  },
  {
   "cell_type": "code",
   "execution_count": 14,
   "id": "6fe99450-9303-4acb-939a-c864df848c36",
   "metadata": {},
   "outputs": [
    {
     "name": "stdout",
     "output_type": "stream",
     "text": [
      " * sqlite:////Users/matteo/Nextcloud/2-Documenti/Corsi/DataScience/DataCamp/Introduction_to_SQL/films.db\n",
      "Done.\n"
     ]
    },
    {
     "data": {
      "text/html": [
       "<table>\n",
       "    <tr>\n",
       "        <th>title</th>\n",
       "        <th>release_year</th>\n",
       "    </tr>\n",
       "    <tr>\n",
       "        <td>El Mariachi</td>\n",
       "        <td>1992</td>\n",
       "    </tr>\n",
       "    <tr>\n",
       "        <td>Les visiteurs</td>\n",
       "        <td>1993</td>\n",
       "    </tr>\n",
       "    <tr>\n",
       "        <td>The Horseman on the Roof</td>\n",
       "        <td>1995</td>\n",
       "    </tr>\n",
       "    <tr>\n",
       "        <td>When the Cat&#x27;s Away</td>\n",
       "        <td>1996</td>\n",
       "    </tr>\n",
       "    <tr>\n",
       "        <td>The Chambermaid on the Titanic</td>\n",
       "        <td>1997</td>\n",
       "    </tr>\n",
       "</table>"
      ],
      "text/plain": [
       "[('El Mariachi', 1992),\n",
       " ('Les visiteurs', 1993),\n",
       " ('The Horseman on the Roof', 1995),\n",
       " (\"When the Cat's Away\", 1996),\n",
       " ('The Chambermaid on the Titanic', 1997)]"
      ]
     },
     "execution_count": 14,
     "metadata": {},
     "output_type": "execute_result"
    }
   ],
   "source": [
    "%%sql\n",
    "SELECT title, release_year\n",
    "FROM films\n",
    "WHERE (release_year >= 1990 AND release_year < 2000)\n",
    "AND (language = 'French' OR language = 'Spanish')\n",
    "LIMIT 5;"
   ]
  },
  {
   "cell_type": "code",
   "execution_count": 15,
   "id": "c3143363-dc1a-45c0-99a2-be83058417a6",
   "metadata": {
    "tags": []
   },
   "outputs": [
    {
     "name": "stdout",
     "output_type": "stream",
     "text": [
      " * sqlite:////Users/matteo/Nextcloud/2-Documenti/Corsi/DataScience/DataCamp/Introduction_to_SQL/films.db\n",
      "Done.\n"
     ]
    },
    {
     "data": {
      "text/html": [
       "<table>\n",
       "    <tr>\n",
       "        <th>title</th>\n",
       "        <th>release_year</th>\n",
       "    </tr>\n",
       "    <tr>\n",
       "        <td>El Mariachi</td>\n",
       "        <td>1992</td>\n",
       "    </tr>\n",
       "    <tr>\n",
       "        <td>The Red Violin</td>\n",
       "        <td>1998</td>\n",
       "    </tr>\n",
       "</table>"
      ],
      "text/plain": [
       "[('El Mariachi', 1992), ('The Red Violin', 1998)]"
      ]
     },
     "execution_count": 15,
     "metadata": {},
     "output_type": "execute_result"
    }
   ],
   "source": [
    "%%sql\n",
    "SELECT title, release_year\n",
    "FROM films\n",
    "WHERE (release_year >= 1990 AND release_year < 2000)\n",
    "AND (language = 'French' OR language = 'Spanish')\n",
    "AND (gross > 2000000);"
   ]
  },
  {
   "cell_type": "markdown",
   "id": "23eed6c9-0bef-449b-999c-b54ff93676e6",
   "metadata": {},
   "source": [
    "---"
   ]
  },
  {
   "cell_type": "markdown",
   "id": "5b152a7f-63b5-4812-834b-6cc55bbdcd1d",
   "metadata": {},
   "source": [
    "## BETWEEN\n",
    "As you've learned, you can use the following query to get titles of all films released in and between 1994 and 2000:\n",
    "```sql\n",
    "SELECT title\n",
    "FROM films\n",
    "WHERE release_year >= 1994\n",
    "AND release_year <= 2000;\n",
    "```\n",
    "Checking for ranges like this is very common, so in SQL the `BETWEEN` keyword provides a useful shorthand for filtering values within a specified range. This query is equivalent to the one above:\n",
    "```sql\n",
    "SELECT title\n",
    "FROM films\n",
    "WHERE release_year\n",
    "BETWEEN 1994 AND 2000;\n",
    "```\n",
    "It's important to remember that `BETWEEN` is inclusive, meaning the beginning and end values are included in the results!"
   ]
  },
  {
   "cell_type": "markdown",
   "id": "5478ba54-0e3b-472d-b860-aa56d7215c46",
   "metadata": {},
   "source": [
    "## BETWEEN (2)\n",
    "Similar to the `WHERE` clause, the `BETWEEN` clause can be used with multiple `AND` and `OR` operators, so you can build up your queries and make them even more powerful!\n",
    "\n",
    "For example, suppose we have a table called `kids`. We can get the names of all kids between the ages of 2 and 12 from the United States:\n",
    "```sql\n",
    "SELECT name\n",
    "FROM kids\n",
    "WHERE age BETWEEN 2 AND 12\n",
    "AND nationality = 'USA';\n",
    "```\n",
    "Take a go at using `BETWEEN` with `AND` on the films data to get the title and release year of all Spanish language films released between 1990 and 2000 (inclusive) with budgets over $100 million. We have broken the problem into smaller steps so that you can build the query as you go along!"
   ]
  },
  {
   "cell_type": "code",
   "execution_count": 16,
   "id": "92c4a2e9-033c-4c0f-ac9e-774317514900",
   "metadata": {},
   "outputs": [
    {
     "name": "stdout",
     "output_type": "stream",
     "text": [
      " * sqlite:////Users/matteo/Nextcloud/2-Documenti/Corsi/DataScience/DataCamp/Introduction_to_SQL/films.db\n",
      "Done.\n"
     ]
    },
    {
     "data": {
      "text/html": [
       "<table>\n",
       "    <tr>\n",
       "        <th>title</th>\n",
       "        <th>release_year</th>\n",
       "    </tr>\n",
       "    <tr>\n",
       "        <td>Arachnophobia</td>\n",
       "        <td>1990</td>\n",
       "    </tr>\n",
       "    <tr>\n",
       "        <td>Back to the Future Part III</td>\n",
       "        <td>1990</td>\n",
       "    </tr>\n",
       "    <tr>\n",
       "        <td>Child&#x27;s Play 2</td>\n",
       "        <td>1990</td>\n",
       "    </tr>\n",
       "    <tr>\n",
       "        <td>Dances with Wolves</td>\n",
       "        <td>1990</td>\n",
       "    </tr>\n",
       "    <tr>\n",
       "        <td>Days of Thunder</td>\n",
       "        <td>1990</td>\n",
       "    </tr>\n",
       "</table>"
      ],
      "text/plain": [
       "[('Arachnophobia', 1990),\n",
       " ('Back to the Future Part III', 1990),\n",
       " (\"Child's Play 2\", 1990),\n",
       " ('Dances with Wolves', 1990),\n",
       " ('Days of Thunder', 1990)]"
      ]
     },
     "execution_count": 16,
     "metadata": {},
     "output_type": "execute_result"
    }
   ],
   "source": [
    "%%sql\n",
    "SELECT title, release_year\n",
    "FROM films\n",
    "WHERE release_year BETWEEN 1990 AND 2000\n",
    "LIMIT 5;"
   ]
  },
  {
   "cell_type": "code",
   "execution_count": 17,
   "id": "9ddd9280-db16-46a4-913e-f00b368e5667",
   "metadata": {},
   "outputs": [
    {
     "name": "stdout",
     "output_type": "stream",
     "text": [
      " * sqlite:////Users/matteo/Nextcloud/2-Documenti/Corsi/DataScience/DataCamp/Introduction_to_SQL/films.db\n",
      "Done.\n"
     ]
    },
    {
     "data": {
      "text/html": [
       "<table>\n",
       "    <tr>\n",
       "        <th>title</th>\n",
       "        <th>release_year</th>\n",
       "    </tr>\n",
       "    <tr>\n",
       "        <td>Terminator 2: Judgment Day</td>\n",
       "        <td>1991</td>\n",
       "    </tr>\n",
       "    <tr>\n",
       "        <td>True Lies</td>\n",
       "        <td>1994</td>\n",
       "    </tr>\n",
       "    <tr>\n",
       "        <td>Waterworld</td>\n",
       "        <td>1995</td>\n",
       "    </tr>\n",
       "    <tr>\n",
       "        <td>Batman &amp; Robin</td>\n",
       "        <td>1997</td>\n",
       "    </tr>\n",
       "    <tr>\n",
       "        <td>Dante&#x27;s Peak</td>\n",
       "        <td>1997</td>\n",
       "    </tr>\n",
       "</table>"
      ],
      "text/plain": [
       "[('Terminator 2: Judgment Day', 1991),\n",
       " ('True Lies', 1994),\n",
       " ('Waterworld', 1995),\n",
       " ('Batman & Robin', 1997),\n",
       " (\"Dante's Peak\", 1997)]"
      ]
     },
     "execution_count": 17,
     "metadata": {},
     "output_type": "execute_result"
    }
   ],
   "source": [
    "%%sql\n",
    "SELECT title, release_year\n",
    "FROM films\n",
    "WHERE release_year BETWEEN 1990 AND 2000\n",
    "AND budget > 100000000\n",
    "LIMIT 5;"
   ]
  },
  {
   "cell_type": "code",
   "execution_count": 18,
   "id": "b0c0e45f-4e04-4403-995f-95753f1c1253",
   "metadata": {},
   "outputs": [
    {
     "name": "stdout",
     "output_type": "stream",
     "text": [
      " * sqlite:////Users/matteo/Nextcloud/2-Documenti/Corsi/DataScience/DataCamp/Introduction_to_SQL/films.db\n",
      "Done.\n"
     ]
    },
    {
     "data": {
      "text/html": [
       "<table>\n",
       "    <tr>\n",
       "        <th>title</th>\n",
       "        <th>release_year</th>\n",
       "    </tr>\n",
       "    <tr>\n",
       "        <td>Tango</td>\n",
       "        <td>1998</td>\n",
       "    </tr>\n",
       "</table>"
      ],
      "text/plain": [
       "[('Tango', 1998)]"
      ]
     },
     "execution_count": 18,
     "metadata": {},
     "output_type": "execute_result"
    }
   ],
   "source": [
    "%%sql\n",
    "SELECT title, release_year\n",
    "FROM films\n",
    "WHERE release_year BETWEEN 1990 AND 2000\n",
    "AND budget > 100000000\n",
    "AND language = 'Spanish'\n",
    "LIMIT 5;"
   ]
  },
  {
   "cell_type": "code",
   "execution_count": 19,
   "id": "98ab8b90-41b5-4c7a-b76c-f57929c191f6",
   "metadata": {},
   "outputs": [
    {
     "name": "stdout",
     "output_type": "stream",
     "text": [
      " * sqlite:////Users/matteo/Nextcloud/2-Documenti/Corsi/DataScience/DataCamp/Introduction_to_SQL/films.db\n",
      "Done.\n"
     ]
    },
    {
     "data": {
      "text/html": [
       "<table>\n",
       "    <tr>\n",
       "        <th>title</th>\n",
       "        <th>release_year</th>\n",
       "    </tr>\n",
       "    <tr>\n",
       "        <td>Les couloirs du temps: Les visiteurs II</td>\n",
       "        <td>1998</td>\n",
       "    </tr>\n",
       "    <tr>\n",
       "        <td>Tango</td>\n",
       "        <td>1998</td>\n",
       "    </tr>\n",
       "</table>"
      ],
      "text/plain": [
       "[('Les couloirs du temps: Les visiteurs II', 1998), ('Tango', 1998)]"
      ]
     },
     "execution_count": 19,
     "metadata": {},
     "output_type": "execute_result"
    }
   ],
   "source": [
    "%%sql\n",
    "SELECT title, release_year\n",
    "FROM films\n",
    "WHERE release_year BETWEEN 1990 AND 2000\n",
    "AND budget > 100000000\n",
    "AND (language = 'Spanish' OR language = 'French');"
   ]
  },
  {
   "cell_type": "markdown",
   "id": "d4d4026e-5f3c-40c3-81d3-142617935d2f",
   "metadata": {},
   "source": [
    "---"
   ]
  },
  {
   "cell_type": "markdown",
   "id": "8e29c928-50aa-4675-98a9-5920643bf852",
   "metadata": {},
   "source": [
    "## WHERE IN\n",
    "As you've seen, `WHERE` is very useful for filtering results. However, if you want to filter based on many conditions, `WHERE` can get unwieldy. For example:\n",
    "```sql\n",
    "SELECT name\n",
    "FROM kids\n",
    "WHERE age = 2\n",
    "OR age = 4\n",
    "OR age = 6\n",
    "OR age = 8\n",
    "OR age = 10;\n",
    "```\n",
    "Enter the `IN` operator! The `IN` operator allows you to specify multiple values in a `WHERE` clause, making it easier and quicker to specify multiple `OR` conditions! Neat, right?\n",
    "\n",
    "So, the above example would become simply:\n",
    "```sql\n",
    "SELECT name\n",
    "FROM kids\n",
    "WHERE age IN (2, 4, 6, 8, 10);\n",
    "```\n",
    "Try using the IN operator yourself!"
   ]
  },
  {
   "cell_type": "code",
   "execution_count": 20,
   "id": "030be58f-33a6-4d38-9f9f-337060f4c9f1",
   "metadata": {},
   "outputs": [
    {
     "name": "stdout",
     "output_type": "stream",
     "text": [
      " * sqlite:////Users/matteo/Nextcloud/2-Documenti/Corsi/DataScience/DataCamp/Introduction_to_SQL/films.db\n",
      "Done.\n"
     ]
    },
    {
     "data": {
      "text/html": [
       "<table>\n",
       "    <tr>\n",
       "        <th>title</th>\n",
       "        <th>release_year</th>\n",
       "    </tr>\n",
       "    <tr>\n",
       "        <td>Dances with Wolves</td>\n",
       "        <td>1990</td>\n",
       "    </tr>\n",
       "    <tr>\n",
       "        <td>Die Hard 2</td>\n",
       "        <td>1990</td>\n",
       "    </tr>\n",
       "    <tr>\n",
       "        <td>Ghost</td>\n",
       "        <td>1990</td>\n",
       "    </tr>\n",
       "    <tr>\n",
       "        <td>Goodfellas</td>\n",
       "        <td>1990</td>\n",
       "    </tr>\n",
       "    <tr>\n",
       "        <td>Mo&#x27; Better Blues</td>\n",
       "        <td>1990</td>\n",
       "    </tr>\n",
       "</table>"
      ],
      "text/plain": [
       "[('Dances with Wolves', 1990),\n",
       " ('Die Hard 2', 1990),\n",
       " ('Ghost', 1990),\n",
       " ('Goodfellas', 1990),\n",
       " (\"Mo' Better Blues\", 1990)]"
      ]
     },
     "execution_count": 20,
     "metadata": {},
     "output_type": "execute_result"
    }
   ],
   "source": [
    "%%sql\n",
    "SELECT title, release_year\n",
    "FROM films\n",
    "WHERE release_year IN (1990, 2000)\n",
    "AND duration > 120\n",
    "LIMIT 5;"
   ]
  },
  {
   "cell_type": "code",
   "execution_count": 21,
   "id": "550bb32e-0edc-4da3-96c2-9b907469a38f",
   "metadata": {},
   "outputs": [
    {
     "name": "stdout",
     "output_type": "stream",
     "text": [
      " * sqlite:////Users/matteo/Nextcloud/2-Documenti/Corsi/DataScience/DataCamp/Introduction_to_SQL/films.db\n",
      "Done.\n"
     ]
    },
    {
     "data": {
      "text/html": [
       "<table>\n",
       "    <tr>\n",
       "        <th>title</th>\n",
       "        <th>language</th>\n",
       "    </tr>\n",
       "    <tr>\n",
       "        <td>The Broadway Melody</td>\n",
       "        <td>English</td>\n",
       "    </tr>\n",
       "    <tr>\n",
       "        <td>Hell&#x27;s Angels</td>\n",
       "        <td>English</td>\n",
       "    </tr>\n",
       "    <tr>\n",
       "        <td>A Farewell to Arms</td>\n",
       "        <td>English</td>\n",
       "    </tr>\n",
       "    <tr>\n",
       "        <td>42nd Street</td>\n",
       "        <td>English</td>\n",
       "    </tr>\n",
       "    <tr>\n",
       "        <td>She Done Him Wrong</td>\n",
       "        <td>English</td>\n",
       "    </tr>\n",
       "</table>"
      ],
      "text/plain": [
       "[('The Broadway Melody', 'English'),\n",
       " (\"Hell's Angels\", 'English'),\n",
       " ('A Farewell to Arms', 'English'),\n",
       " ('42nd Street', 'English'),\n",
       " ('She Done Him Wrong', 'English')]"
      ]
     },
     "execution_count": 21,
     "metadata": {},
     "output_type": "execute_result"
    }
   ],
   "source": [
    "%%sql\n",
    "SELECT title, language\n",
    "FROM films\n",
    "WHERE language IN ('English', 'Spanish', 'French')\n",
    "LIMIT 5;"
   ]
  },
  {
   "cell_type": "code",
   "execution_count": 22,
   "id": "4e63cb4a-4666-4233-a101-b813863c95c4",
   "metadata": {},
   "outputs": [
    {
     "name": "stdout",
     "output_type": "stream",
     "text": [
      " * sqlite:////Users/matteo/Nextcloud/2-Documenti/Corsi/DataScience/DataCamp/Introduction_to_SQL/films.db\n",
      "Done.\n"
     ]
    },
    {
     "data": {
      "text/html": [
       "<table>\n",
       "    <tr>\n",
       "        <th>title</th>\n",
       "        <th>certification</th>\n",
       "    </tr>\n",
       "    <tr>\n",
       "        <td>Psycho</td>\n",
       "        <td>R</td>\n",
       "    </tr>\n",
       "    <tr>\n",
       "        <td>A Fistful of Dollars</td>\n",
       "        <td>R</td>\n",
       "    </tr>\n",
       "    <tr>\n",
       "        <td>Rosemary&#x27;s Baby</td>\n",
       "        <td>R</td>\n",
       "    </tr>\n",
       "    <tr>\n",
       "        <td>Mississippi Mermaid</td>\n",
       "        <td>R</td>\n",
       "    </tr>\n",
       "    <tr>\n",
       "        <td>The Wild Bunch</td>\n",
       "        <td>R</td>\n",
       "    </tr>\n",
       "</table>"
      ],
      "text/plain": [
       "[('Psycho', 'R'),\n",
       " ('A Fistful of Dollars', 'R'),\n",
       " (\"Rosemary's Baby\", 'R'),\n",
       " ('Mississippi Mermaid', 'R'),\n",
       " ('The Wild Bunch', 'R')]"
      ]
     },
     "execution_count": 22,
     "metadata": {},
     "output_type": "execute_result"
    }
   ],
   "source": [
    "%%sql\n",
    "SELECT title, certification\n",
    "FROM films\n",
    "WHERE certification IN ('NC-17', 'R')\n",
    "LIMIT 5;"
   ]
  },
  {
   "cell_type": "markdown",
   "id": "5de9d27a-5893-42d8-a599-f0d2fb6cfeff",
   "metadata": {},
   "source": [
    "---"
   ]
  },
  {
   "cell_type": "markdown",
   "id": "f881faba-964b-43d4-9367-512bab5dcccb",
   "metadata": {},
   "source": [
    "## Introduction to NULL and IS NULL\n",
    "In SQL, `NULL` represents a missing or unknown value. You can check for `NULL` values using the expression `IS NULL`. For example, to count the number of missing birth dates in the `people` table:\n",
    "```sql\n",
    "SELECT COUNT(*)\n",
    "FROM people\n",
    "WHERE birthdate IS NULL;\n",
    "```\n",
    "As you can see, `IS NULL` is useful when combined with `WHERE` to figure out what data you're missing.\n",
    "\n",
    "Sometimes, you'll want to filter out missing values so you only get results which are not `NULL`. To do this, you can use the `IS NOT NULL` operator.\n",
    "\n",
    "For example, this query gives the names of all people whose birth dates are not missing in the `people` table.\n",
    "```sql\n",
    "SELECT name\n",
    "FROM people\n",
    "WHERE birthdate IS NOT NULL;\n",
    "```"
   ]
  },
  {
   "cell_type": "markdown",
   "id": "f77a55ff-ff8f-4234-bdef-794dd797acdd",
   "metadata": {},
   "source": [
    "## NULL and IS NULL\n",
    "Now that you know what `NULL` is and what it's used for, it's time for some practice!"
   ]
  },
  {
   "cell_type": "code",
   "execution_count": 23,
   "id": "326d12c0-5f4a-4d41-8e60-2a9a50a07506",
   "metadata": {},
   "outputs": [
    {
     "name": "stdout",
     "output_type": "stream",
     "text": [
      " * sqlite:////Users/matteo/Nextcloud/2-Documenti/Corsi/DataScience/DataCamp/Introduction_to_SQL/films.db\n",
      "Done.\n"
     ]
    },
    {
     "data": {
      "text/html": [
       "<table>\n",
       "    <tr>\n",
       "        <th>name</th>\n",
       "    </tr>\n",
       "    <tr>\n",
       "        <td>50 Cent</td>\n",
       "    </tr>\n",
       "    <tr>\n",
       "        <td>A. Michael Baldwin</td>\n",
       "    </tr>\n",
       "    <tr>\n",
       "        <td>A. Raven Cruz</td>\n",
       "    </tr>\n",
       "    <tr>\n",
       "        <td>A.J. Buckley</td>\n",
       "    </tr>\n",
       "    <tr>\n",
       "        <td>A.J. DeLucia</td>\n",
       "    </tr>\n",
       "</table>"
      ],
      "text/plain": [
       "[('50 Cent',),\n",
       " ('A. Michael Baldwin',),\n",
       " ('A. Raven Cruz',),\n",
       " ('A.J. Buckley',),\n",
       " ('A.J. DeLucia',)]"
      ]
     },
     "execution_count": 23,
     "metadata": {},
     "output_type": "execute_result"
    }
   ],
   "source": [
    "%%sql\n",
    "SELECT name\n",
    "FROM people\n",
    "WHERE deathdate IS NULL\n",
    "LIMIT 5;"
   ]
  },
  {
   "cell_type": "code",
   "execution_count": 24,
   "id": "2e6bb9ea-fe56-4875-842e-97fb25666a6b",
   "metadata": {},
   "outputs": [
    {
     "name": "stdout",
     "output_type": "stream",
     "text": [
      " * sqlite:////Users/matteo/Nextcloud/2-Documenti/Corsi/DataScience/DataCamp/Introduction_to_SQL/films.db\n",
      "Done.\n"
     ]
    },
    {
     "data": {
      "text/html": [
       "<table>\n",
       "    <tr>\n",
       "        <th>title</th>\n",
       "    </tr>\n",
       "    <tr>\n",
       "        <td>Pandora&#x27;s Box</td>\n",
       "    </tr>\n",
       "    <tr>\n",
       "        <td>The Prisoner of Zenda</td>\n",
       "    </tr>\n",
       "    <tr>\n",
       "        <td>The Blue Bird</td>\n",
       "    </tr>\n",
       "    <tr>\n",
       "        <td>Bambi</td>\n",
       "    </tr>\n",
       "    <tr>\n",
       "        <td>State Fair</td>\n",
       "    </tr>\n",
       "</table>"
      ],
      "text/plain": [
       "[(\"Pandora's Box\",),\n",
       " ('The Prisoner of Zenda',),\n",
       " ('The Blue Bird',),\n",
       " ('Bambi',),\n",
       " ('State Fair',)]"
      ]
     },
     "execution_count": 24,
     "metadata": {},
     "output_type": "execute_result"
    }
   ],
   "source": [
    "%%sql\n",
    "SELECT title\n",
    "FROM films\n",
    "WHERE budget IS NULL\n",
    "LIMIT 5;"
   ]
  },
  {
   "cell_type": "code",
   "execution_count": 25,
   "id": "41bbe463-96e2-4733-b333-efdff119adc2",
   "metadata": {},
   "outputs": [
    {
     "name": "stdout",
     "output_type": "stream",
     "text": [
      " * sqlite:////Users/matteo/Nextcloud/2-Documenti/Corsi/DataScience/DataCamp/Introduction_to_SQL/films.db\n",
      "Done.\n"
     ]
    },
    {
     "data": {
      "text/html": [
       "<table>\n",
       "    <tr>\n",
       "        <th>COUNT(title)</th>\n",
       "    </tr>\n",
       "    <tr>\n",
       "        <td>11</td>\n",
       "    </tr>\n",
       "</table>"
      ],
      "text/plain": [
       "[(11,)]"
      ]
     },
     "execution_count": 25,
     "metadata": {},
     "output_type": "execute_result"
    }
   ],
   "source": [
    "%%sql\n",
    "SELECT COUNT(title)\n",
    "FROM films\n",
    "WHERE language IS NULL;"
   ]
  },
  {
   "cell_type": "markdown",
   "id": "d965a187-4001-4283-abfe-9aa914902099",
   "metadata": {},
   "source": [
    "## LIKE and NOT LIKE\n",
    "As you've seen, the `WHERE` clause can be used to filter text data. However, so far you've only been able to filter by specifying the exact text you're interested in. In the real world, often you'll want to search for a pattern rather than a specific text string.\n",
    "\n",
    "In SQL, the `LIKE` operator can be used in a `WHERE` clause to search for a pattern in a column. To accomplish this, you use something called a wildcard as a placeholder for some other values. There are two wildcards you can use with `LIKE`:\n",
    "\n",
    "The `%` wildcard will match zero, one, or many characters in text. For example, the following query matches companies like 'Data', `'DataC'`, `'DataCamp'`, `'DataMind'`, and so on:\n",
    "```sql\n",
    "SELECT name\n",
    "FROM companies\n",
    "WHERE name LIKE 'Data%';\n",
    "```\n",
    "The `_` wildcard will match a single character. For example, the following query matches companies like `'DataCamp'`, `'DataComp'`, and so on:\n",
    "```sql\n",
    "SELECT name\n",
    "FROM companies\n",
    "WHERE name LIKE 'DataC_mp';\n",
    "```\n",
    "You can also use the `NOT LIKE` operator to find records that don't match the pattern you specify."
   ]
  },
  {
   "cell_type": "code",
   "execution_count": 26,
   "id": "c5d238d4-cd4d-4fca-8088-4a1ba65139b5",
   "metadata": {},
   "outputs": [
    {
     "name": "stdout",
     "output_type": "stream",
     "text": [
      " * sqlite:////Users/matteo/Nextcloud/2-Documenti/Corsi/DataScience/DataCamp/Introduction_to_SQL/films.db\n",
      "Done.\n"
     ]
    },
    {
     "data": {
      "text/html": [
       "<table>\n",
       "    <tr>\n",
       "        <th>name</th>\n",
       "    </tr>\n",
       "    <tr>\n",
       "        <td>B.J. Novak</td>\n",
       "    </tr>\n",
       "    <tr>\n",
       "        <td>Babak Najafi</td>\n",
       "    </tr>\n",
       "    <tr>\n",
       "        <td>Babar Ahmed</td>\n",
       "    </tr>\n",
       "    <tr>\n",
       "        <td>Bahare Seddiqi</td>\n",
       "    </tr>\n",
       "    <tr>\n",
       "        <td>Bai Ling</td>\n",
       "    </tr>\n",
       "</table>"
      ],
      "text/plain": [
       "[('B.J. Novak',),\n",
       " ('Babak Najafi',),\n",
       " ('Babar Ahmed',),\n",
       " ('Bahare Seddiqi',),\n",
       " ('Bai Ling',)]"
      ]
     },
     "execution_count": 26,
     "metadata": {},
     "output_type": "execute_result"
    }
   ],
   "source": [
    "%%sql\n",
    "SELECT name\n",
    "FROM people\n",
    "WHERE name LIKE 'B%'\n",
    "LIMIT 5;"
   ]
  },
  {
   "cell_type": "code",
   "execution_count": 27,
   "id": "0138f9cd-a6f3-48f1-afd4-f83ca30ff33b",
   "metadata": {},
   "outputs": [
    {
     "name": "stdout",
     "output_type": "stream",
     "text": [
      " * sqlite:////Users/matteo/Nextcloud/2-Documenti/Corsi/DataScience/DataCamp/Introduction_to_SQL/films.db\n",
      "Done.\n"
     ]
    },
    {
     "data": {
      "text/html": [
       "<table>\n",
       "    <tr>\n",
       "        <th>name</th>\n",
       "    </tr>\n",
       "    <tr>\n",
       "        <td>Ara Celi</td>\n",
       "    </tr>\n",
       "    <tr>\n",
       "        <td>Aramis Knight</td>\n",
       "    </tr>\n",
       "    <tr>\n",
       "        <td>Arben Bajraktaraj</td>\n",
       "    </tr>\n",
       "    <tr>\n",
       "        <td>Arcelia Ramírez</td>\n",
       "    </tr>\n",
       "    <tr>\n",
       "        <td>Archie Kao</td>\n",
       "    </tr>\n",
       "</table>"
      ],
      "text/plain": [
       "[('Ara Celi',),\n",
       " ('Aramis Knight',),\n",
       " ('Arben Bajraktaraj',),\n",
       " ('Arcelia Ramírez',),\n",
       " ('Archie Kao',)]"
      ]
     },
     "execution_count": 27,
     "metadata": {},
     "output_type": "execute_result"
    }
   ],
   "source": [
    "%%sql\n",
    "SELECT name\n",
    "FROM people\n",
    "WHERE name LIKE '_r%'\n",
    "LIMIT 5;"
   ]
  },
  {
   "cell_type": "code",
   "execution_count": 28,
   "id": "549de0b6-3cfe-4a6f-a517-33624e094540",
   "metadata": {},
   "outputs": [
    {
     "name": "stdout",
     "output_type": "stream",
     "text": [
      " * sqlite:////Users/matteo/Nextcloud/2-Documenti/Corsi/DataScience/DataCamp/Introduction_to_SQL/films.db\n",
      "Done.\n"
     ]
    },
    {
     "data": {
      "text/html": [
       "<table>\n",
       "    <tr>\n",
       "        <th>name</th>\n",
       "    </tr>\n",
       "    <tr>\n",
       "        <td>50 Cent</td>\n",
       "    </tr>\n",
       "    <tr>\n",
       "        <td>Álex Angulo</td>\n",
       "    </tr>\n",
       "    <tr>\n",
       "        <td>Álex de la Iglesia</td>\n",
       "    </tr>\n",
       "    <tr>\n",
       "        <td>Ángela Molina</td>\n",
       "    </tr>\n",
       "    <tr>\n",
       "        <td>B.J. Novak</td>\n",
       "    </tr>\n",
       "</table>"
      ],
      "text/plain": [
       "[('50 Cent',),\n",
       " ('Álex Angulo',),\n",
       " ('Álex de la Iglesia',),\n",
       " ('Ángela Molina',),\n",
       " ('B.J. Novak',)]"
      ]
     },
     "execution_count": 28,
     "metadata": {},
     "output_type": "execute_result"
    }
   ],
   "source": [
    "%%sql\n",
    "SELECT name\n",
    "FROM people\n",
    "WHERE name NOT LIKE 'A%'\n",
    "LIMIT 5;"
   ]
  },
  {
   "cell_type": "code",
   "execution_count": null,
   "id": "5318e37a-95d5-4686-8612-8b9e8b7716c2",
   "metadata": {},
   "outputs": [],
   "source": []
  }
 ],
 "metadata": {
  "kernelspec": {
   "display_name": "Python 3 (ipykernel)",
   "language": "python",
   "name": "python3"
  },
  "language_info": {
   "codemirror_mode": {
    "name": "ipython",
    "version": 3
   },
   "file_extension": ".py",
   "mimetype": "text/x-python",
   "name": "python",
   "nbconvert_exporter": "python",
   "pygments_lexer": "ipython3",
   "version": "3.9.10"
  }
 },
 "nbformat": 4,
 "nbformat_minor": 5
}
