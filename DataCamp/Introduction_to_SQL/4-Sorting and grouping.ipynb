{
 "cells": [
  {
   "cell_type": "markdown",
   "id": "db412be1-ab73-4f05-84a1-830de20e6fa5",
   "metadata": {},
   "source": [
    "# Sorting and grouping\n",
    "This chapter provides a brief introduction to sorting and grouping your results."
   ]
  },
  {
   "cell_type": "code",
   "execution_count": 1,
   "id": "e39d625e-988f-40c0-ba25-8c3d2de0ab16",
   "metadata": {},
   "outputs": [],
   "source": [
    "from sqlalchemy import create_engine, inspect\n",
    "import os\n",
    "\n",
    "current_directory = os.getcwd()\n",
    "\n",
    "%load_ext sql\n",
    "%sql sqlite:///{current_directory}/films.db"
   ]
  },
  {
   "cell_type": "markdown",
   "id": "f2244de8-90eb-45ca-aeab-9610afb80838",
   "metadata": {},
   "source": [
    "## ORDER BY\n",
    "Congratulations on making it this far! You now know how to select and filter your results.\n",
    "\n",
    "In this chapter you'll learn how to sort and group your results to gain further insight. Let's go!\n",
    "\n",
    "In SQL, the `ORDER BY` keyword is used to sort results in ascending or descending order according to the values of one or more columns.\n",
    "\n",
    "By default `ORDER BY` will sort in ascending order. If you want to sort the results in descending order, you can use the DESC keyword. For example,\n",
    "```sql\n",
    "SELECT title\n",
    "FROM films\n",
    "ORDER BY release_year DESC;\n",
    "```\n",
    "gives you the titles of films sorted by release year, from newest to oldest."
   ]
  },
  {
   "cell_type": "markdown",
   "id": "b82345c8-5426-40c6-97a0-674069feac1b",
   "metadata": {},
   "source": [
    "## Sorting single columns\n",
    "Now that you understand how ORDER BY works, give these exercises a go!"
   ]
  },
  {
   "cell_type": "code",
   "execution_count": 2,
   "id": "3a750c66-3dad-4df2-a991-1cdccd724c30",
   "metadata": {},
   "outputs": [
    {
     "name": "stdout",
     "output_type": "stream",
     "text": [
      " * sqlite:////Users/matteo/Nextcloud/2-Documenti/Corsi/DataScience/DataCamp/Introduction_to_SQL/films.db\n",
      "Done.\n"
     ]
    },
    {
     "data": {
      "text/html": [
       "<table>\n",
       "    <tr>\n",
       "        <th>name</th>\n",
       "    </tr>\n",
       "    <tr>\n",
       "        <td>50 Cent</td>\n",
       "    </tr>\n",
       "    <tr>\n",
       "        <td>A. Michael Baldwin</td>\n",
       "    </tr>\n",
       "    <tr>\n",
       "        <td>A. Raven Cruz</td>\n",
       "    </tr>\n",
       "    <tr>\n",
       "        <td>A.J. Buckley</td>\n",
       "    </tr>\n",
       "    <tr>\n",
       "        <td>A.J. DeLucia</td>\n",
       "    </tr>\n",
       "</table>"
      ],
      "text/plain": [
       "[('50 Cent',),\n",
       " ('A. Michael Baldwin',),\n",
       " ('A. Raven Cruz',),\n",
       " ('A.J. Buckley',),\n",
       " ('A.J. DeLucia',)]"
      ]
     },
     "execution_count": 2,
     "metadata": {},
     "output_type": "execute_result"
    }
   ],
   "source": [
    "%%sql\n",
    "SELECT name\n",
    "FROM people\n",
    "ORDER BY name\n",
    "LIMIT 5;"
   ]
  },
  {
   "cell_type": "code",
   "execution_count": 3,
   "id": "a4548024-2342-46a8-bfe3-c0fe317a8480",
   "metadata": {},
   "outputs": [
    {
     "name": "stdout",
     "output_type": "stream",
     "text": [
      " * sqlite:////Users/matteo/Nextcloud/2-Documenti/Corsi/DataScience/DataCamp/Introduction_to_SQL/films.db\n",
      "Done.\n"
     ]
    },
    {
     "data": {
      "text/html": [
       "<table>\n",
       "    <tr>\n",
       "        <th>name</th>\n",
       "    </tr>\n",
       "    <tr>\n",
       "        <td>A. Raven Cruz</td>\n",
       "    </tr>\n",
       "    <tr>\n",
       "        <td>A.J. DeLucia</td>\n",
       "    </tr>\n",
       "    <tr>\n",
       "        <td>Aaron Hann</td>\n",
       "    </tr>\n",
       "    <tr>\n",
       "        <td>Aaron Hughes</td>\n",
       "    </tr>\n",
       "    <tr>\n",
       "        <td>Aaron Schneider</td>\n",
       "    </tr>\n",
       "</table>"
      ],
      "text/plain": [
       "[('A. Raven Cruz',),\n",
       " ('A.J. DeLucia',),\n",
       " ('Aaron Hann',),\n",
       " ('Aaron Hughes',),\n",
       " ('Aaron Schneider',)]"
      ]
     },
     "execution_count": 3,
     "metadata": {},
     "output_type": "execute_result"
    }
   ],
   "source": [
    "%%sql\n",
    "SELECT name\n",
    "FROM people\n",
    "ORDER BY birthdate\n",
    "LIMIT 5;"
   ]
  },
  {
   "cell_type": "code",
   "execution_count": 4,
   "id": "b7c8ddd2-e05d-4be4-bd6f-e86784d954d1",
   "metadata": {},
   "outputs": [
    {
     "name": "stdout",
     "output_type": "stream",
     "text": [
      " * sqlite:////Users/matteo/Nextcloud/2-Documenti/Corsi/DataScience/DataCamp/Introduction_to_SQL/films.db\n",
      "Done.\n"
     ]
    },
    {
     "data": {
      "text/html": [
       "<table>\n",
       "    <tr>\n",
       "        <th>name</th>\n",
       "        <th>birthdate</th>\n",
       "    </tr>\n",
       "    <tr>\n",
       "        <td>A. Raven Cruz</td>\n",
       "        <td>None</td>\n",
       "    </tr>\n",
       "    <tr>\n",
       "        <td>A.J. DeLucia</td>\n",
       "        <td>None</td>\n",
       "    </tr>\n",
       "    <tr>\n",
       "        <td>Aaron Hann</td>\n",
       "        <td>None</td>\n",
       "    </tr>\n",
       "    <tr>\n",
       "        <td>Aaron Hughes</td>\n",
       "        <td>None</td>\n",
       "    </tr>\n",
       "    <tr>\n",
       "        <td>Aaron Schneider</td>\n",
       "        <td>None</td>\n",
       "    </tr>\n",
       "</table>"
      ],
      "text/plain": [
       "[('A. Raven Cruz', None),\n",
       " ('A.J. DeLucia', None),\n",
       " ('Aaron Hann', None),\n",
       " ('Aaron Hughes', None),\n",
       " ('Aaron Schneider', None)]"
      ]
     },
     "execution_count": 4,
     "metadata": {},
     "output_type": "execute_result"
    }
   ],
   "source": [
    "%%sql\n",
    "SELECT name, birthdate\n",
    "FROM people\n",
    "ORDER BY birthdate\n",
    "LIMIT 5;"
   ]
  },
  {
   "cell_type": "markdown",
   "id": "9b3f2ae4-3e3c-4bcb-a91c-9032fc56bb21",
   "metadata": {},
   "source": [
    "---\n",
    "## Sorting single columns (2)\n",
    "Let's get some more practice with ORDER BY!"
   ]
  },
  {
   "cell_type": "code",
   "execution_count": 5,
   "id": "82c5332c-5f82-411b-87f6-b8414a1dae8f",
   "metadata": {},
   "outputs": [
    {
     "name": "stdout",
     "output_type": "stream",
     "text": [
      " * sqlite:////Users/matteo/Nextcloud/2-Documenti/Corsi/DataScience/DataCamp/Introduction_to_SQL/films.db\n",
      "Done.\n"
     ]
    },
    {
     "data": {
      "text/html": [
       "<table>\n",
       "    <tr>\n",
       "        <th>title</th>\n",
       "    </tr>\n",
       "    <tr>\n",
       "        <td>102 Dalmatians</td>\n",
       "    </tr>\n",
       "    <tr>\n",
       "        <td>28 Days</td>\n",
       "    </tr>\n",
       "    <tr>\n",
       "        <td>3 Strikes</td>\n",
       "    </tr>\n",
       "    <tr>\n",
       "        <td>Aberdeen</td>\n",
       "    </tr>\n",
       "    <tr>\n",
       "        <td>All the Pretty Horses</td>\n",
       "    </tr>\n",
       "</table>"
      ],
      "text/plain": [
       "[('102 Dalmatians',),\n",
       " ('28 Days',),\n",
       " ('3 Strikes',),\n",
       " ('Aberdeen',),\n",
       " ('All the Pretty Horses',)]"
      ]
     },
     "execution_count": 5,
     "metadata": {},
     "output_type": "execute_result"
    }
   ],
   "source": [
    "%%sql\n",
    "SELECT title\n",
    "FROM films\n",
    "WHERE release_year IN (2012,2000)\n",
    "ORDER BY release_year\n",
    "LIMIT 5;"
   ]
  },
  {
   "cell_type": "code",
   "execution_count": 6,
   "id": "6b02ae50-538a-40d5-aada-44854b5f318b",
   "metadata": {},
   "outputs": [
    {
     "name": "stdout",
     "output_type": "stream",
     "text": [
      " * sqlite:////Users/matteo/Nextcloud/2-Documenti/Corsi/DataScience/DataCamp/Introduction_to_SQL/films.db\n",
      "Done.\n"
     ]
    },
    {
     "data": {
      "text/html": [
       "<table>\n",
       "    <tr>\n",
       "        <th>id</th>\n",
       "        <th>title</th>\n",
       "        <th>release_year</th>\n",
       "        <th>country</th>\n",
       "        <th>duration</th>\n",
       "        <th>language</th>\n",
       "        <th>certification</th>\n",
       "        <th>gross</th>\n",
       "        <th>budget</th>\n",
       "    </tr>\n",
       "    <tr>\n",
       "        <td>1398</td>\n",
       "        <td>Hum To Mohabbat Karega</td>\n",
       "        <td>2000</td>\n",
       "        <td>India</td>\n",
       "        <td>None</td>\n",
       "        <td>Hindi</td>\n",
       "        <td>None</td>\n",
       "        <td>None</td>\n",
       "        <td>None</td>\n",
       "    </tr>\n",
       "    <tr>\n",
       "        <td>2326</td>\n",
       "        <td>Dil Jo Bhi Kahey...</td>\n",
       "        <td>2005</td>\n",
       "        <td>India</td>\n",
       "        <td>None</td>\n",
       "        <td>English</td>\n",
       "        <td>None</td>\n",
       "        <td>129319</td>\n",
       "        <td>70000000</td>\n",
       "    </tr>\n",
       "    <tr>\n",
       "        <td>2712</td>\n",
       "        <td>The Naked Ape</td>\n",
       "        <td>2006</td>\n",
       "        <td>USA</td>\n",
       "        <td>None</td>\n",
       "        <td>English</td>\n",
       "        <td>None</td>\n",
       "        <td>None</td>\n",
       "        <td>None</td>\n",
       "    </tr>\n",
       "    <tr>\n",
       "        <td>3208</td>\n",
       "        <td>Black Water Transit</td>\n",
       "        <td>2009</td>\n",
       "        <td>USA</td>\n",
       "        <td>None</td>\n",
       "        <td>English</td>\n",
       "        <td>None</td>\n",
       "        <td>None</td>\n",
       "        <td>23000000</td>\n",
       "    </tr>\n",
       "    <tr>\n",
       "        <td>3504</td>\n",
       "        <td>Harry Potter and the Deathly Hallows: Part I</td>\n",
       "        <td>2010</td>\n",
       "        <td>UK</td>\n",
       "        <td>None</td>\n",
       "        <td>English</td>\n",
       "        <td>None</td>\n",
       "        <td>None</td>\n",
       "        <td>None</td>\n",
       "    </tr>\n",
       "</table>"
      ],
      "text/plain": [
       "[(1398, 'Hum To Mohabbat Karega', 2000, 'India', None, 'Hindi', None, None, None),\n",
       " (2326, 'Dil Jo Bhi Kahey...', 2005, 'India', None, 'English', None, 129319, 70000000),\n",
       " (2712, 'The Naked Ape', 2006, 'USA', None, 'English', None, None, None),\n",
       " (3208, 'Black Water Transit', 2009, 'USA', None, 'English', None, None, 23000000),\n",
       " (3504, 'Harry Potter and the Deathly Hallows: Part I', 2010, 'UK', None, 'English', None, None, None)]"
      ]
     },
     "execution_count": 6,
     "metadata": {},
     "output_type": "execute_result"
    }
   ],
   "source": [
    "%%sql\n",
    "SELECT *\n",
    "FROM films\n",
    "WHERE release_year <> 2015\n",
    "ORDER BY duration\n",
    "LIMIT 5;"
   ]
  },
  {
   "cell_type": "code",
   "execution_count": 7,
   "id": "f75e197a-8fea-481e-9f81-6c4bd708324f",
   "metadata": {},
   "outputs": [
    {
     "name": "stdout",
     "output_type": "stream",
     "text": [
      " * sqlite:////Users/matteo/Nextcloud/2-Documenti/Corsi/DataScience/DataCamp/Introduction_to_SQL/films.db\n",
      "Done.\n"
     ]
    },
    {
     "data": {
      "text/html": [
       "<table>\n",
       "    <tr>\n",
       "        <th>title</th>\n",
       "        <th>gross</th>\n",
       "    </tr>\n",
       "    <tr>\n",
       "        <td>MacGruber</td>\n",
       "        <td>8460995</td>\n",
       "    </tr>\n",
       "    <tr>\n",
       "        <td>Machete</td>\n",
       "        <td>26589953</td>\n",
       "    </tr>\n",
       "    <tr>\n",
       "        <td>Machete Kills</td>\n",
       "        <td>7268659</td>\n",
       "    </tr>\n",
       "    <tr>\n",
       "        <td>Machine Gun McCain</td>\n",
       "        <td>None</td>\n",
       "    </tr>\n",
       "    <tr>\n",
       "        <td>Machine Gun Preacher</td>\n",
       "        <td>537580</td>\n",
       "    </tr>\n",
       "</table>"
      ],
      "text/plain": [
       "[('MacGruber', 8460995),\n",
       " ('Machete', 26589953),\n",
       " ('Machete Kills', 7268659),\n",
       " ('Machine Gun McCain', None),\n",
       " ('Machine Gun Preacher', 537580)]"
      ]
     },
     "execution_count": 7,
     "metadata": {},
     "output_type": "execute_result"
    }
   ],
   "source": [
    "%%sql\n",
    "SELECT title, gross\n",
    "FROM films\n",
    "WHERE title LIKE 'M%'\n",
    "ORDER BY title\n",
    "LIMIT 5;"
   ]
  },
  {
   "cell_type": "markdown",
   "id": "1b924366-5a54-44ef-83b7-ca8d24a0c593",
   "metadata": {},
   "source": [
    "---\n",
    "## Sorting single columns (DESC)\n",
    "To order results in descending order, you can put the keyword `DESC` after your `ORDER BY`. For example, to get all the names in the `people` table, in reverse alphabetical order:\n",
    "```sql\n",
    "SELECT name\n",
    "FROM people\n",
    "ORDER BY name DESC;\n",
    "```\n",
    "Now practice using `ORDER BY` with `DESC` to sort single columns in descending order!"
   ]
  },
  {
   "cell_type": "code",
   "execution_count": 8,
   "id": "50385cd0-a8ef-4e33-a59d-8f5e4c4ca58b",
   "metadata": {},
   "outputs": [
    {
     "name": "stdout",
     "output_type": "stream",
     "text": [
      " * sqlite:////Users/matteo/Nextcloud/2-Documenti/Corsi/DataScience/DataCamp/Introduction_to_SQL/films.db\n",
      "Done.\n"
     ]
    },
    {
     "data": {
      "text/html": [
       "<table>\n",
       "    <tr>\n",
       "        <th>imdb_score</th>\n",
       "        <th>film_id</th>\n",
       "    </tr>\n",
       "    <tr>\n",
       "        <td>9.5</td>\n",
       "        <td>4960</td>\n",
       "    </tr>\n",
       "    <tr>\n",
       "        <td>9.3</td>\n",
       "        <td>742</td>\n",
       "    </tr>\n",
       "    <tr>\n",
       "        <td>9.2</td>\n",
       "        <td>178</td>\n",
       "    </tr>\n",
       "    <tr>\n",
       "        <td>9.1</td>\n",
       "        <td>4866</td>\n",
       "    </tr>\n",
       "    <tr>\n",
       "        <td>9.0</td>\n",
       "        <td>3110</td>\n",
       "    </tr>\n",
       "</table>"
      ],
      "text/plain": [
       "[(9.5, 4960), (9.3, 742), (9.2, 178), (9.1, 4866), (9.0, 3110)]"
      ]
     },
     "execution_count": 8,
     "metadata": {},
     "output_type": "execute_result"
    }
   ],
   "source": [
    "%%sql\n",
    "SELECT imdb_score, film_id\n",
    "FROM reviews\n",
    "ORDER BY imdb_score DESC\n",
    "LIMIT 5;"
   ]
  },
  {
   "cell_type": "code",
   "execution_count": 9,
   "id": "762fb3df-560d-45fe-92bd-58247f556db9",
   "metadata": {},
   "outputs": [
    {
     "name": "stdout",
     "output_type": "stream",
     "text": [
      " * sqlite:////Users/matteo/Nextcloud/2-Documenti/Corsi/DataScience/DataCamp/Introduction_to_SQL/films.db\n",
      "Done.\n"
     ]
    },
    {
     "data": {
      "text/html": [
       "<table>\n",
       "    <tr>\n",
       "        <th>title</th>\n",
       "    </tr>\n",
       "    <tr>\n",
       "        <td>Æon Flux</td>\n",
       "    </tr>\n",
       "    <tr>\n",
       "        <td>xXx: State of the Union</td>\n",
       "    </tr>\n",
       "    <tr>\n",
       "        <td>xXx</td>\n",
       "    </tr>\n",
       "    <tr>\n",
       "        <td>eXistenZ</td>\n",
       "    </tr>\n",
       "    <tr>\n",
       "        <td>[Rec] 2</td>\n",
       "    </tr>\n",
       "</table>"
      ],
      "text/plain": [
       "[('Æon Flux',),\n",
       " ('xXx: State of the Union',),\n",
       " ('xXx',),\n",
       " ('eXistenZ',),\n",
       " ('[Rec] 2',)]"
      ]
     },
     "execution_count": 9,
     "metadata": {},
     "output_type": "execute_result"
    }
   ],
   "source": [
    "%%sql\n",
    "SELECT title\n",
    "FROM films\n",
    "ORDER BY title DESC\n",
    "LIMIT 5;"
   ]
  },
  {
   "cell_type": "code",
   "execution_count": 10,
   "id": "f0cfe4dc-3d06-4f7b-9b28-0cc1e3180872",
   "metadata": {},
   "outputs": [
    {
     "name": "stdout",
     "output_type": "stream",
     "text": [
      " * sqlite:////Users/matteo/Nextcloud/2-Documenti/Corsi/DataScience/DataCamp/Introduction_to_SQL/films.db\n",
      "Done.\n"
     ]
    },
    {
     "data": {
      "text/html": [
       "<table>\n",
       "    <tr>\n",
       "        <th>title</th>\n",
       "        <th>duration</th>\n",
       "    </tr>\n",
       "    <tr>\n",
       "        <td>Carlos</td>\n",
       "        <td>334</td>\n",
       "    </tr>\n",
       "    <tr>\n",
       "        <td>Blood In, Blood Out</td>\n",
       "        <td>330</td>\n",
       "    </tr>\n",
       "    <tr>\n",
       "        <td>Heaven&#x27;s Gate</td>\n",
       "        <td>325</td>\n",
       "    </tr>\n",
       "    <tr>\n",
       "        <td>The Legend of Suriyothai</td>\n",
       "        <td>300</td>\n",
       "    </tr>\n",
       "    <tr>\n",
       "        <td>Das Boot</td>\n",
       "        <td>293</td>\n",
       "    </tr>\n",
       "</table>"
      ],
      "text/plain": [
       "[('Carlos', 334),\n",
       " ('Blood In, Blood Out', 330),\n",
       " (\"Heaven's Gate\", 325),\n",
       " ('The Legend of Suriyothai', 300),\n",
       " ('Das Boot', 293)]"
      ]
     },
     "execution_count": 10,
     "metadata": {},
     "output_type": "execute_result"
    }
   ],
   "source": [
    "%%sql\n",
    "SELECT title, duration\n",
    "FROM films\n",
    "ORDER BY duration DESC\n",
    "LIMIT 5;"
   ]
  },
  {
   "cell_type": "markdown",
   "id": "9cb8ea0e-9af9-49a4-9435-710e918f6f0c",
   "metadata": {},
   "source": [
    "---\n",
    "## Sorting multiple columns\n",
    "`ORDER BY` can also be used to `sort` on multiple columns. It will sort by the first column specified, then sort by the next, then the next, and so on. For example,\n",
    "```sql\n",
    "SELECT birthdate, name\n",
    "FROM people\n",
    "ORDER BY birthdate, name;\n",
    "```\n",
    "sorts on birth dates first (oldest to newest) and then sorts on the names in alphabetical order. **The order of columns is important!**\n",
    "\n",
    "Try using `ORDER BY` to sort multiple columns! Remember, to specify multiple columns you separate the column names with a comma."
   ]
  },
  {
   "cell_type": "code",
   "execution_count": 11,
   "id": "c64da13c-930b-4486-a53a-384df118fd68",
   "metadata": {},
   "outputs": [
    {
     "name": "stdout",
     "output_type": "stream",
     "text": [
      " * sqlite:////Users/matteo/Nextcloud/2-Documenti/Corsi/DataScience/DataCamp/Introduction_to_SQL/films.db\n",
      "Done.\n"
     ]
    },
    {
     "data": {
      "text/html": [
       "<table>\n",
       "    <tr>\n",
       "        <th>name</th>\n",
       "        <th>birthdate</th>\n",
       "    </tr>\n",
       "    <tr>\n",
       "        <td>A. Raven Cruz</td>\n",
       "        <td>None</td>\n",
       "    </tr>\n",
       "    <tr>\n",
       "        <td>A.J. DeLucia</td>\n",
       "        <td>None</td>\n",
       "    </tr>\n",
       "    <tr>\n",
       "        <td>Aaron Hann</td>\n",
       "        <td>None</td>\n",
       "    </tr>\n",
       "    <tr>\n",
       "        <td>Aaron Hughes</td>\n",
       "        <td>None</td>\n",
       "    </tr>\n",
       "    <tr>\n",
       "        <td>Aaron Schneider</td>\n",
       "        <td>None</td>\n",
       "    </tr>\n",
       "</table>"
      ],
      "text/plain": [
       "[('A. Raven Cruz', None),\n",
       " ('A.J. DeLucia', None),\n",
       " ('Aaron Hann', None),\n",
       " ('Aaron Hughes', None),\n",
       " ('Aaron Schneider', None)]"
      ]
     },
     "execution_count": 11,
     "metadata": {},
     "output_type": "execute_result"
    }
   ],
   "source": [
    "%%sql\n",
    "SELECT name, birthdate\n",
    "FROM people\n",
    "ORDER BY birthdate, name\n",
    "LIMIT 5;"
   ]
  },
  {
   "cell_type": "code",
   "execution_count": 12,
   "id": "799d37e9-564c-4da9-96d6-4bb2af480011",
   "metadata": {},
   "outputs": [
    {
     "name": "stdout",
     "output_type": "stream",
     "text": [
      " * sqlite:////Users/matteo/Nextcloud/2-Documenti/Corsi/DataScience/DataCamp/Introduction_to_SQL/films.db\n",
      "Done.\n"
     ]
    },
    {
     "data": {
      "text/html": [
       "<table>\n",
       "    <tr>\n",
       "        <th>release_year</th>\n",
       "        <th>duration</th>\n",
       "        <th>title</th>\n",
       "    </tr>\n",
       "    <tr>\n",
       "        <td>None</td>\n",
       "        <td>None</td>\n",
       "        <td>Wolf Creek</td>\n",
       "    </tr>\n",
       "    <tr>\n",
       "        <td>None</td>\n",
       "        <td>22</td>\n",
       "        <td>10,000 B.C.</td>\n",
       "    </tr>\n",
       "    <tr>\n",
       "        <td>None</td>\n",
       "        <td>22</td>\n",
       "        <td>Anger Management</td>\n",
       "    </tr>\n",
       "    <tr>\n",
       "        <td>None</td>\n",
       "        <td>24</td>\n",
       "        <td>Lovesick</td>\n",
       "    </tr>\n",
       "    <tr>\n",
       "        <td>None</td>\n",
       "        <td>24</td>\n",
       "        <td>Yu-Gi-Oh! Duel Monsters</td>\n",
       "    </tr>\n",
       "</table>"
      ],
      "text/plain": [
       "[(None, None, 'Wolf Creek'),\n",
       " (None, 22, '10,000 B.C.'),\n",
       " (None, 22, 'Anger Management'),\n",
       " (None, 24, 'Lovesick'),\n",
       " (None, 24, 'Yu-Gi-Oh! Duel Monsters')]"
      ]
     },
     "execution_count": 12,
     "metadata": {},
     "output_type": "execute_result"
    }
   ],
   "source": [
    "%%sql\n",
    "SELECT release_year, duration, title\n",
    "FROM films\n",
    "ORDER BY release_year,duration\n",
    "LIMIT 5;"
   ]
  },
  {
   "cell_type": "code",
   "execution_count": 13,
   "id": "3de78700-8a9f-48a6-b075-3fca937e6886",
   "metadata": {},
   "outputs": [
    {
     "name": "stdout",
     "output_type": "stream",
     "text": [
      " * sqlite:////Users/matteo/Nextcloud/2-Documenti/Corsi/DataScience/DataCamp/Introduction_to_SQL/films.db\n",
      "Done.\n"
     ]
    },
    {
     "data": {
      "text/html": [
       "<table>\n",
       "    <tr>\n",
       "        <th>certification</th>\n",
       "        <th>release_year</th>\n",
       "        <th>title</th>\n",
       "    </tr>\n",
       "    <tr>\n",
       "        <td>None</td>\n",
       "        <td>None</td>\n",
       "        <td>10,000 B.C.</td>\n",
       "    </tr>\n",
       "    <tr>\n",
       "        <td>None</td>\n",
       "        <td>None</td>\n",
       "        <td>A Touch of Frost</td>\n",
       "    </tr>\n",
       "    <tr>\n",
       "        <td>None</td>\n",
       "        <td>None</td>\n",
       "        <td>Anger Management</td>\n",
       "    </tr>\n",
       "    <tr>\n",
       "        <td>None</td>\n",
       "        <td>None</td>\n",
       "        <td>Animal Kingdom</td>\n",
       "    </tr>\n",
       "    <tr>\n",
       "        <td>None</td>\n",
       "        <td>None</td>\n",
       "        <td>BrainDead</td>\n",
       "    </tr>\n",
       "</table>"
      ],
      "text/plain": [
       "[(None, None, '10,000 B.C.'),\n",
       " (None, None, 'A Touch of Frost'),\n",
       " (None, None, 'Anger Management'),\n",
       " (None, None, 'Animal Kingdom'),\n",
       " (None, None, 'BrainDead')]"
      ]
     },
     "execution_count": 13,
     "metadata": {},
     "output_type": "execute_result"
    }
   ],
   "source": [
    "%%sql\n",
    "SELECT certification, release_year, title\n",
    "FROM films\n",
    "ORDER BY certification, release_year\n",
    "LIMIT 5;"
   ]
  },
  {
   "cell_type": "code",
   "execution_count": 14,
   "id": "47178ec4-a16e-4b5b-8219-a03fd7132ce2",
   "metadata": {},
   "outputs": [
    {
     "name": "stdout",
     "output_type": "stream",
     "text": [
      " * sqlite:////Users/matteo/Nextcloud/2-Documenti/Corsi/DataScience/DataCamp/Introduction_to_SQL/films.db\n",
      "Done.\n"
     ]
    },
    {
     "data": {
      "text/html": [
       "<table>\n",
       "    <tr>\n",
       "        <th>name</th>\n",
       "        <th>birthdate</th>\n",
       "    </tr>\n",
       "    <tr>\n",
       "        <td>50 Cent</td>\n",
       "        <td>1975-07-06</td>\n",
       "    </tr>\n",
       "    <tr>\n",
       "        <td>A. Michael Baldwin</td>\n",
       "        <td>1963-04-04</td>\n",
       "    </tr>\n",
       "    <tr>\n",
       "        <td>A. Raven Cruz</td>\n",
       "        <td>None</td>\n",
       "    </tr>\n",
       "    <tr>\n",
       "        <td>A.J. Buckley</td>\n",
       "        <td>1978-02-09</td>\n",
       "    </tr>\n",
       "    <tr>\n",
       "        <td>A.J. DeLucia</td>\n",
       "        <td>None</td>\n",
       "    </tr>\n",
       "</table>"
      ],
      "text/plain": [
       "[('50 Cent', '1975-07-06'),\n",
       " ('A. Michael Baldwin', '1963-04-04'),\n",
       " ('A. Raven Cruz', None),\n",
       " ('A.J. Buckley', '1978-02-09'),\n",
       " ('A.J. DeLucia', None)]"
      ]
     },
     "execution_count": 14,
     "metadata": {},
     "output_type": "execute_result"
    }
   ],
   "source": [
    "%%sql\n",
    "SELECT name, birthdate\n",
    "FROM people\n",
    "ORDER BY name, birthdate\n",
    "LIMIT 5;"
   ]
  },
  {
   "cell_type": "markdown",
   "id": "5e4b4fdb-0424-4bbc-bb0f-d848b09c6664",
   "metadata": {},
   "source": [
    "---\n",
    "## GROUP BY\n",
    "Now you know how to sort results! Often you'll need to aggregate results. For example, you might want to count the number of male and female employees in your company. Here, what you want is to group all the males together and count them, and group all the females together and count them. In SQL, GROUP BY allows you to group a result by one or more columns, like so:\n",
    "```sql\n",
    "SELECT sex, count(*)\n",
    "FROM employees\n",
    "GROUP BY sex;\n",
    "```\n",
    "This might give, for example:\n",
    "\n",
    "|sex|count|\n",
    "|-|-|\n",
    "|male|15|\n",
    "|female|19|\n",
    "|-|-|\n",
    "\n",
    "Commonly, `GROUP BY` is used with aggregate functions like `COUNT()` or `MAX()`. Note that `GROUP BY` always goes after the `FROM` clause!"
   ]
  },
  {
   "cell_type": "markdown",
   "id": "44a640d0-c3c6-478b-a1bb-09517865990e",
   "metadata": {},
   "source": [
    "## GROUP BY practice\n",
    "As you've just seen, combining aggregate functions with `GROUP BY` can yield some powerful results!\n",
    "\n",
    "A word of warning: SQL will return an error if you try to `SELECT` a field that is not in your `GROUP BY` clause without using it to calculate some kind of value about the entire group.\n",
    "\n",
    "Note that you can combine `GROUP BY` with `ORDER BY` to group your results, calculate something about them, and then order your results. For example,\n",
    "```sql\n",
    "SELECT sex, count(*)\n",
    "FROM employees\n",
    "GROUP BY sex\n",
    "ORDER BY count DESC;\n",
    "```\n",
    "might return something like\n",
    "\n",
    "|sex|count|\n",
    "|-|-|\n",
    "|female|19|\n",
    "|male|15|\n",
    "|-|-|\n",
    "\n",
    "because there are more females at our company than males. Note also that `ORDER BY` always goes after `GROUP BY`. Let's try some exercises!"
   ]
  },
  {
   "cell_type": "code",
   "execution_count": 15,
   "id": "49e9b8d8-34f8-4394-be6e-aa7e35105234",
   "metadata": {},
   "outputs": [
    {
     "name": "stdout",
     "output_type": "stream",
     "text": [
      " * sqlite:////Users/matteo/Nextcloud/2-Documenti/Corsi/DataScience/DataCamp/Introduction_to_SQL/films.db\n",
      "Done.\n"
     ]
    },
    {
     "data": {
      "text/html": [
       "<table>\n",
       "    <tr>\n",
       "        <th>release_year</th>\n",
       "        <th>count(*)</th>\n",
       "    </tr>\n",
       "    <tr>\n",
       "        <td>None</td>\n",
       "        <td>42</td>\n",
       "    </tr>\n",
       "    <tr>\n",
       "        <td>1916</td>\n",
       "        <td>1</td>\n",
       "    </tr>\n",
       "    <tr>\n",
       "        <td>1920</td>\n",
       "        <td>1</td>\n",
       "    </tr>\n",
       "    <tr>\n",
       "        <td>1925</td>\n",
       "        <td>1</td>\n",
       "    </tr>\n",
       "    <tr>\n",
       "        <td>1927</td>\n",
       "        <td>1</td>\n",
       "    </tr>\n",
       "</table>"
      ],
      "text/plain": [
       "[(None, 42), (1916, 1), (1920, 1), (1925, 1), (1927, 1)]"
      ]
     },
     "execution_count": 15,
     "metadata": {},
     "output_type": "execute_result"
    }
   ],
   "source": [
    "%%sql\n",
    "SELECT release_year, count(*)\n",
    "FROM films\n",
    "GROUP BY release_year\n",
    "LIMIT 5;"
   ]
  },
  {
   "cell_type": "code",
   "execution_count": 16,
   "id": "47d643b8-6a23-4cc9-9e3a-42d4a0afc4bd",
   "metadata": {},
   "outputs": [
    {
     "name": "stdout",
     "output_type": "stream",
     "text": [
      " * sqlite:////Users/matteo/Nextcloud/2-Documenti/Corsi/DataScience/DataCamp/Introduction_to_SQL/films.db\n",
      "Done.\n"
     ]
    },
    {
     "data": {
      "text/html": [
       "<table>\n",
       "    <tr>\n",
       "        <th>release_year</th>\n",
       "        <th>AVG(duration)</th>\n",
       "    </tr>\n",
       "    <tr>\n",
       "        <td>None</td>\n",
       "        <td>77.4390243902439</td>\n",
       "    </tr>\n",
       "    <tr>\n",
       "        <td>1916</td>\n",
       "        <td>123.0</td>\n",
       "    </tr>\n",
       "    <tr>\n",
       "        <td>1920</td>\n",
       "        <td>110.0</td>\n",
       "    </tr>\n",
       "    <tr>\n",
       "        <td>1925</td>\n",
       "        <td>151.0</td>\n",
       "    </tr>\n",
       "    <tr>\n",
       "        <td>1927</td>\n",
       "        <td>145.0</td>\n",
       "    </tr>\n",
       "</table>"
      ],
      "text/plain": [
       "[(None, 77.4390243902439),\n",
       " (1916, 123.0),\n",
       " (1920, 110.0),\n",
       " (1925, 151.0),\n",
       " (1927, 145.0)]"
      ]
     },
     "execution_count": 16,
     "metadata": {},
     "output_type": "execute_result"
    }
   ],
   "source": [
    "%%sql\n",
    "SELECT release_year, AVG(duration)\n",
    "FROM films\n",
    "GROUP BY release_year\n",
    "LIMIT 5;"
   ]
  },
  {
   "cell_type": "code",
   "execution_count": 17,
   "id": "aba9cad9-3ab8-41bc-8efe-a74603e2bc75",
   "metadata": {},
   "outputs": [
    {
     "name": "stdout",
     "output_type": "stream",
     "text": [
      " * sqlite:////Users/matteo/Nextcloud/2-Documenti/Corsi/DataScience/DataCamp/Introduction_to_SQL/films.db\n",
      "Done.\n"
     ]
    },
    {
     "data": {
      "text/html": [
       "<table>\n",
       "    <tr>\n",
       "        <th>release_year</th>\n",
       "        <th>MAX(budget)</th>\n",
       "    </tr>\n",
       "    <tr>\n",
       "        <td>None</td>\n",
       "        <td>15000000</td>\n",
       "    </tr>\n",
       "    <tr>\n",
       "        <td>1916</td>\n",
       "        <td>385907</td>\n",
       "    </tr>\n",
       "    <tr>\n",
       "        <td>1920</td>\n",
       "        <td>100000</td>\n",
       "    </tr>\n",
       "    <tr>\n",
       "        <td>1925</td>\n",
       "        <td>245000</td>\n",
       "    </tr>\n",
       "    <tr>\n",
       "        <td>1927</td>\n",
       "        <td>6000000</td>\n",
       "    </tr>\n",
       "</table>"
      ],
      "text/plain": [
       "[(None, 15000000),\n",
       " (1916, 385907),\n",
       " (1920, 100000),\n",
       " (1925, 245000),\n",
       " (1927, 6000000)]"
      ]
     },
     "execution_count": 17,
     "metadata": {},
     "output_type": "execute_result"
    }
   ],
   "source": [
    "%%sql\n",
    "SELECT release_year, MAX(budget)\n",
    "FROM films\n",
    "GROUP BY release_year\n",
    "LIMIT 5;"
   ]
  },
  {
   "cell_type": "code",
   "execution_count": 18,
   "id": "be511628-edae-41f7-8f4b-4f00a79b85d6",
   "metadata": {},
   "outputs": [
    {
     "name": "stdout",
     "output_type": "stream",
     "text": [
      " * sqlite:////Users/matteo/Nextcloud/2-Documenti/Corsi/DataScience/DataCamp/Introduction_to_SQL/films.db\n",
      "Done.\n"
     ]
    },
    {
     "data": {
      "text/html": [
       "<table>\n",
       "    <tr>\n",
       "        <th>imdb_score</th>\n",
       "        <th>COUNT(*)</th>\n",
       "    </tr>\n",
       "    <tr>\n",
       "        <td>1.6</td>\n",
       "        <td>1</td>\n",
       "    </tr>\n",
       "    <tr>\n",
       "        <td>1.7</td>\n",
       "        <td>1</td>\n",
       "    </tr>\n",
       "    <tr>\n",
       "        <td>1.9</td>\n",
       "        <td>3</td>\n",
       "    </tr>\n",
       "    <tr>\n",
       "        <td>2.0</td>\n",
       "        <td>2</td>\n",
       "    </tr>\n",
       "    <tr>\n",
       "        <td>2.1</td>\n",
       "        <td>3</td>\n",
       "    </tr>\n",
       "</table>"
      ],
      "text/plain": [
       "[(1.6, 1), (1.7, 1), (1.9, 3), (2.0, 2), (2.1, 3)]"
      ]
     },
     "execution_count": 18,
     "metadata": {},
     "output_type": "execute_result"
    }
   ],
   "source": [
    "%%sql\n",
    "SELECT imdb_score, COUNT(*)\n",
    "FROM reviews\n",
    "GROUP BY imdb_score\n",
    "LIMIT 5;"
   ]
  },
  {
   "cell_type": "markdown",
   "id": "2c9db762-5514-4c5a-b7f1-3a0afb87ca07",
   "metadata": {},
   "source": [
    "---\n",
    "## GROUP BY practice (2)\n",
    "Now practice your new skills by combining `GROUP BY` and `ORDER BY` with some more aggregate functions!\n",
    "\n",
    "Make sure to always put the `ORDER BY` clause at the end of your query. You can't sort values that you haven't calculated yet!"
   ]
  },
  {
   "cell_type": "code",
   "execution_count": 19,
   "id": "54a544f8-dbd5-4af6-bfda-f688e82995e6",
   "metadata": {},
   "outputs": [
    {
     "name": "stdout",
     "output_type": "stream",
     "text": [
      " * sqlite:////Users/matteo/Nextcloud/2-Documenti/Corsi/DataScience/DataCamp/Introduction_to_SQL/films.db\n",
      "Done.\n"
     ]
    },
    {
     "data": {
      "text/html": [
       "<table>\n",
       "    <tr>\n",
       "        <th>release_year</th>\n",
       "        <th>MIN(gross)</th>\n",
       "    </tr>\n",
       "    <tr>\n",
       "        <td>None</td>\n",
       "        <td>145118</td>\n",
       "    </tr>\n",
       "    <tr>\n",
       "        <td>1916</td>\n",
       "        <td>None</td>\n",
       "    </tr>\n",
       "    <tr>\n",
       "        <td>1920</td>\n",
       "        <td>3000000</td>\n",
       "    </tr>\n",
       "    <tr>\n",
       "        <td>1925</td>\n",
       "        <td>None</td>\n",
       "    </tr>\n",
       "    <tr>\n",
       "        <td>1927</td>\n",
       "        <td>26435</td>\n",
       "    </tr>\n",
       "</table>"
      ],
      "text/plain": [
       "[(None, 145118), (1916, None), (1920, 3000000), (1925, None), (1927, 26435)]"
      ]
     },
     "execution_count": 19,
     "metadata": {},
     "output_type": "execute_result"
    }
   ],
   "source": [
    "%%sql\n",
    "SELECT release_year, MIN(gross)\n",
    "FROM films\n",
    "GROUP BY release_year\n",
    "LIMIT 5;"
   ]
  },
  {
   "cell_type": "code",
   "execution_count": 20,
   "id": "ce457d4f-30ba-4b83-8f55-16d23c994d93",
   "metadata": {},
   "outputs": [
    {
     "name": "stdout",
     "output_type": "stream",
     "text": [
      " * sqlite:////Users/matteo/Nextcloud/2-Documenti/Corsi/DataScience/DataCamp/Introduction_to_SQL/films.db\n",
      "Done.\n"
     ]
    },
    {
     "data": {
      "text/html": [
       "<table>\n",
       "    <tr>\n",
       "        <th>language</th>\n",
       "        <th>SUM(gross)</th>\n",
       "    </tr>\n",
       "    <tr>\n",
       "        <td>None</td>\n",
       "        <td>4319281</td>\n",
       "    </tr>\n",
       "    <tr>\n",
       "        <td>Aboriginal</td>\n",
       "        <td>78680789</td>\n",
       "    </tr>\n",
       "    <tr>\n",
       "        <td>Arabic</td>\n",
       "        <td>1681831</td>\n",
       "    </tr>\n",
       "    <tr>\n",
       "        <td>Aramaic</td>\n",
       "        <td>499263</td>\n",
       "    </tr>\n",
       "    <tr>\n",
       "        <td>Bosnian</td>\n",
       "        <td>301305</td>\n",
       "    </tr>\n",
       "</table>"
      ],
      "text/plain": [
       "[(None, 4319281),\n",
       " ('Aboriginal', 78680789),\n",
       " ('Arabic', 1681831),\n",
       " ('Aramaic', 499263),\n",
       " ('Bosnian', 301305)]"
      ]
     },
     "execution_count": 20,
     "metadata": {},
     "output_type": "execute_result"
    }
   ],
   "source": [
    "%%sql\n",
    "SELECT language, SUM(gross)\n",
    "FROM films\n",
    "GROUP BY language\n",
    "LIMIT 5;"
   ]
  },
  {
   "cell_type": "code",
   "execution_count": 21,
   "id": "37cc60e8-ef9e-45f7-82ff-f446795418b8",
   "metadata": {},
   "outputs": [
    {
     "name": "stdout",
     "output_type": "stream",
     "text": [
      " * sqlite:////Users/matteo/Nextcloud/2-Documenti/Corsi/DataScience/DataCamp/Introduction_to_SQL/films.db\n",
      "Done.\n"
     ]
    },
    {
     "data": {
      "text/html": [
       "<table>\n",
       "    <tr>\n",
       "        <th>country</th>\n",
       "        <th>SUM(budget)</th>\n",
       "    </tr>\n",
       "    <tr>\n",
       "        <td>None</td>\n",
       "        <td>3500000</td>\n",
       "    </tr>\n",
       "    <tr>\n",
       "        <td>Afghanistan</td>\n",
       "        <td>46000</td>\n",
       "    </tr>\n",
       "    <tr>\n",
       "        <td>Argentina</td>\n",
       "        <td>5700000</td>\n",
       "    </tr>\n",
       "    <tr>\n",
       "        <td>Aruba</td>\n",
       "        <td>35000000</td>\n",
       "    </tr>\n",
       "    <tr>\n",
       "        <td>Australia</td>\n",
       "        <td>1558605523</td>\n",
       "    </tr>\n",
       "</table>"
      ],
      "text/plain": [
       "[(None, 3500000),\n",
       " ('Afghanistan', 46000),\n",
       " ('Argentina', 5700000),\n",
       " ('Aruba', 35000000),\n",
       " ('Australia', 1558605523)]"
      ]
     },
     "execution_count": 21,
     "metadata": {},
     "output_type": "execute_result"
    }
   ],
   "source": [
    "%%sql\n",
    "SELECT country, SUM(budget)\n",
    "FROM films\n",
    "GROUP BY country\n",
    "LIMIT 5;"
   ]
  },
  {
   "cell_type": "code",
   "execution_count": 22,
   "id": "327d039d-e29c-41e6-b098-1e6fc648771d",
   "metadata": {},
   "outputs": [
    {
     "name": "stdout",
     "output_type": "stream",
     "text": [
      " * sqlite:////Users/matteo/Nextcloud/2-Documenti/Corsi/DataScience/DataCamp/Introduction_to_SQL/films.db\n",
      "Done.\n"
     ]
    },
    {
     "data": {
      "text/html": [
       "<table>\n",
       "    <tr>\n",
       "        <th>release_year</th>\n",
       "        <th>country</th>\n",
       "        <th>MAX(budget)</th>\n",
       "    </tr>\n",
       "    <tr>\n",
       "        <td>None</td>\n",
       "        <td>None</td>\n",
       "        <td>None</td>\n",
       "    </tr>\n",
       "    <tr>\n",
       "        <td>None</td>\n",
       "        <td>Australia</td>\n",
       "        <td>15000000</td>\n",
       "    </tr>\n",
       "    <tr>\n",
       "        <td>None</td>\n",
       "        <td>Canada</td>\n",
       "        <td>None</td>\n",
       "    </tr>\n",
       "    <tr>\n",
       "        <td>None</td>\n",
       "        <td>France</td>\n",
       "        <td>None</td>\n",
       "    </tr>\n",
       "    <tr>\n",
       "        <td>None</td>\n",
       "        <td>Iceland</td>\n",
       "        <td>None</td>\n",
       "    </tr>\n",
       "</table>"
      ],
      "text/plain": [
       "[(None, None, None),\n",
       " (None, 'Australia', 15000000),\n",
       " (None, 'Canada', None),\n",
       " (None, 'France', None),\n",
       " (None, 'Iceland', None)]"
      ]
     },
     "execution_count": 22,
     "metadata": {},
     "output_type": "execute_result"
    }
   ],
   "source": [
    "%%sql\n",
    "SELECT release_year, country, MAX(budget)\n",
    "FROM films\n",
    "GROUP BY release_year, country\n",
    "ORDER BY release_year, country\n",
    "LIMIT 5;"
   ]
  },
  {
   "cell_type": "code",
   "execution_count": 23,
   "id": "7756da05-e727-4f13-8c6d-223555f640ec",
   "metadata": {},
   "outputs": [
    {
     "name": "stdout",
     "output_type": "stream",
     "text": [
      " * sqlite:////Users/matteo/Nextcloud/2-Documenti/Corsi/DataScience/DataCamp/Introduction_to_SQL/films.db\n",
      "Done.\n"
     ]
    },
    {
     "data": {
      "text/html": [
       "<table>\n",
       "    <tr>\n",
       "        <th>country</th>\n",
       "        <th>release_year</th>\n",
       "        <th>MIN(gross)</th>\n",
       "    </tr>\n",
       "    <tr>\n",
       "        <td>None</td>\n",
       "        <td>None</td>\n",
       "        <td>None</td>\n",
       "    </tr>\n",
       "    <tr>\n",
       "        <td>None</td>\n",
       "        <td>2014</td>\n",
       "        <td>None</td>\n",
       "    </tr>\n",
       "    <tr>\n",
       "        <td>Afghanistan</td>\n",
       "        <td>2003</td>\n",
       "        <td>1127331</td>\n",
       "    </tr>\n",
       "    <tr>\n",
       "        <td>Argentina</td>\n",
       "        <td>2000</td>\n",
       "        <td>1221261</td>\n",
       "    </tr>\n",
       "    <tr>\n",
       "        <td>Argentina</td>\n",
       "        <td>2004</td>\n",
       "        <td>304124</td>\n",
       "    </tr>\n",
       "</table>"
      ],
      "text/plain": [
       "[(None, None, None),\n",
       " (None, 2014, None),\n",
       " ('Afghanistan', 2003, 1127331),\n",
       " ('Argentina', 2000, 1221261),\n",
       " ('Argentina', 2004, 304124)]"
      ]
     },
     "execution_count": 23,
     "metadata": {},
     "output_type": "execute_result"
    }
   ],
   "source": [
    "%%sql\n",
    "SELECT country, release_year, MIN(gross)\n",
    "FROM films\n",
    "GROUP BY release_year,country\n",
    "ORDER BY country, release_year\n",
    "LIMIT 5;"
   ]
  },
  {
   "cell_type": "markdown",
   "id": "544fdffc-2f91-475c-92a8-07d5787dce4f",
   "metadata": {},
   "source": [
    "---\n",
    "## HAVING a great time\n",
    "In SQL, aggregate functions can't be used in `WHERE` clauses. For example, the following query is invalid:\n",
    "```sql\n",
    "SELECT release_year\n",
    "FROM films\n",
    "GROUP BY release_year\n",
    "WHERE COUNT(title) > 10;\n",
    "```\n",
    "This means that if you want to filter based on the result of an aggregate function, you need another way! That's where the `HAVING` clause comes in. For example,\n",
    "```sql\n",
    "SELECT release_year\n",
    "FROM films\n",
    "GROUP BY release_year\n",
    "HAVING COUNT(title) > 10;\n",
    "```\n",
    "shows only those years in which more than 10 films were released."
   ]
  },
  {
   "cell_type": "markdown",
   "id": "83dbc65c-45a8-4dbf-9efb-9b2e6287621b",
   "metadata": {},
   "source": [
    "---\n",
    "## All together now\n",
    "Time to practice using `ORDER BY`, `GROUP BY` and `HAVING` together.\n",
    "\n",
    "Now you're going to write a query that returns the average budget and average gross earnings for films in each year after 1990, if the average budget is greater than $60 million.\n",
    "\n",
    "This is going to be a big query, but you can handle it!"
   ]
  },
  {
   "cell_type": "code",
   "execution_count": 24,
   "id": "7713927e-7049-43ea-9af4-0fe19464f94a",
   "metadata": {},
   "outputs": [
    {
     "name": "stdout",
     "output_type": "stream",
     "text": [
      " * sqlite:////Users/matteo/Nextcloud/2-Documenti/Corsi/DataScience/DataCamp/Introduction_to_SQL/films.db\n",
      "Done.\n"
     ]
    },
    {
     "data": {
      "text/html": [
       "<table>\n",
       "    <tr>\n",
       "        <th>release_year</th>\n",
       "        <th>budget</th>\n",
       "        <th>gross</th>\n",
       "    </tr>\n",
       "    <tr>\n",
       "        <td>1916</td>\n",
       "        <td>385907</td>\n",
       "        <td>None</td>\n",
       "    </tr>\n",
       "    <tr>\n",
       "        <td>1920</td>\n",
       "        <td>100000</td>\n",
       "        <td>3000000</td>\n",
       "    </tr>\n",
       "    <tr>\n",
       "        <td>1925</td>\n",
       "        <td>245000</td>\n",
       "        <td>None</td>\n",
       "    </tr>\n",
       "    <tr>\n",
       "        <td>1927</td>\n",
       "        <td>6000000</td>\n",
       "        <td>26435</td>\n",
       "    </tr>\n",
       "    <tr>\n",
       "        <td>1929</td>\n",
       "        <td>None</td>\n",
       "        <td>9950</td>\n",
       "    </tr>\n",
       "</table>"
      ],
      "text/plain": [
       "[(1916, 385907, None),\n",
       " (1920, 100000, 3000000),\n",
       " (1925, 245000, None),\n",
       " (1927, 6000000, 26435),\n",
       " (1929, None, 9950)]"
      ]
     },
     "execution_count": 24,
     "metadata": {},
     "output_type": "execute_result"
    }
   ],
   "source": [
    "%%sql\n",
    "SELECT release_year, budget, gross\n",
    "FROM films\n",
    "LIMIT 5;"
   ]
  },
  {
   "cell_type": "code",
   "execution_count": 25,
   "id": "f71ba23c-ad7a-4d1a-a099-f6fa8a9d216a",
   "metadata": {},
   "outputs": [
    {
     "name": "stdout",
     "output_type": "stream",
     "text": [
      " * sqlite:////Users/matteo/Nextcloud/2-Documenti/Corsi/DataScience/DataCamp/Introduction_to_SQL/films.db\n",
      "Done.\n"
     ]
    },
    {
     "data": {
      "text/html": [
       "<table>\n",
       "    <tr>\n",
       "        <th>release_year</th>\n",
       "        <th>budget</th>\n",
       "        <th>gross</th>\n",
       "    </tr>\n",
       "    <tr>\n",
       "        <td>1991</td>\n",
       "        <td>6000000</td>\n",
       "        <td>869325</td>\n",
       "    </tr>\n",
       "    <tr>\n",
       "        <td>1991</td>\n",
       "        <td>20000000</td>\n",
       "        <td>38037513</td>\n",
       "    </tr>\n",
       "    <tr>\n",
       "        <td>1991</td>\n",
       "        <td>6000000</td>\n",
       "        <td>57504069</td>\n",
       "    </tr>\n",
       "    <tr>\n",
       "        <td>1991</td>\n",
       "        <td>35000000</td>\n",
       "        <td>79100000</td>\n",
       "    </tr>\n",
       "    <tr>\n",
       "        <td>1991</td>\n",
       "        <td>15000000</td>\n",
       "        <td>30102717</td>\n",
       "    </tr>\n",
       "</table>"
      ],
      "text/plain": [
       "[(1991, 6000000, 869325),\n",
       " (1991, 20000000, 38037513),\n",
       " (1991, 6000000, 57504069),\n",
       " (1991, 35000000, 79100000),\n",
       " (1991, 15000000, 30102717)]"
      ]
     },
     "execution_count": 25,
     "metadata": {},
     "output_type": "execute_result"
    }
   ],
   "source": [
    "%%sql\n",
    "SELECT release_year, budget, gross\n",
    "FROM films\n",
    "WHERE release_year > 1990\n",
    "LIMIT 5;"
   ]
  },
  {
   "cell_type": "markdown",
   "id": "07b0f5cc-132a-4428-917a-debfc18c2492",
   "metadata": {},
   "source": [
    "## All together now (2)\n",
    "Great work! Now try another large query. This time, all in one go!\n",
    "\n",
    "Remember, if you only want to return a certain number of results, you can use the `LIMIT` keyword to limit the number of rows returned."
   ]
  },
  {
   "cell_type": "markdown",
   "id": "4785f412-a616-4a14-8aa5-af5460c3881e",
   "metadata": {},
   "source": [
    "### Instructions\n",
    "Get the country, average budget, and average gross take of countries that have made more than 10 films. Order the result by country name, and limit the number of results displayed to 5. You should alias the averages as avg_budget and avg_gross respectively."
   ]
  },
  {
   "cell_type": "code",
   "execution_count": 26,
   "id": "4c45e5cb-6bbd-4319-ad6c-48bb316f2561",
   "metadata": {},
   "outputs": [
    {
     "name": "stdout",
     "output_type": "stream",
     "text": [
      " * sqlite:////Users/matteo/Nextcloud/2-Documenti/Corsi/DataScience/DataCamp/Introduction_to_SQL/films.db\n",
      "Done.\n"
     ]
    },
    {
     "data": {
      "text/html": [
       "<table>\n",
       "    <tr>\n",
       "        <th>country</th>\n",
       "        <th>avg_budget</th>\n",
       "        <th>avg_gross</th>\n",
       "    </tr>\n",
       "    <tr>\n",
       "        <td>Australia</td>\n",
       "        <td>31172110.46</td>\n",
       "        <td>40205909.571428575</td>\n",
       "    </tr>\n",
       "    <tr>\n",
       "        <td>Canada</td>\n",
       "        <td>14798458.71559633</td>\n",
       "        <td>22432066.680555556</td>\n",
       "    </tr>\n",
       "    <tr>\n",
       "        <td>China</td>\n",
       "        <td>62219000.0</td>\n",
       "        <td>14143040.736842105</td>\n",
       "    </tr>\n",
       "    <tr>\n",
       "        <td>Denmark</td>\n",
       "        <td>13922222.222222222</td>\n",
       "        <td>1418469.111111111</td>\n",
       "    </tr>\n",
       "    <tr>\n",
       "        <td>France</td>\n",
       "        <td>30672034.615384616</td>\n",
       "        <td>16350593.578512397</td>\n",
       "    </tr>\n",
       "</table>"
      ],
      "text/plain": [
       "[('Australia', 31172110.46, 40205909.571428575),\n",
       " ('Canada', 14798458.71559633, 22432066.680555556),\n",
       " ('China', 62219000.0, 14143040.736842105),\n",
       " ('Denmark', 13922222.222222222, 1418469.111111111),\n",
       " ('France', 30672034.615384616, 16350593.578512397)]"
      ]
     },
     "execution_count": 26,
     "metadata": {},
     "output_type": "execute_result"
    }
   ],
   "source": [
    "%%sql\n",
    "SELECT country, AVG(budget) AS avg_budget, AVG(gross) AS avg_gross\n",
    "FROM films\n",
    "GROUP BY country\n",
    "HAVING count(title) > 10\n",
    "ORDER BY country\n",
    "LIMIT 5;"
   ]
  },
  {
   "cell_type": "markdown",
   "id": "af459b4d-2d13-4042-a13f-81532cc98c84",
   "metadata": {},
   "source": [
    "---\n",
    "## A taste of things to come\n",
    "Congrats on making it to the end of the course! By now you should have a good understanding of the basics of SQL.\n",
    "\n",
    "There's one more concept we're going to introduce. You may have noticed that all your results so far have been from just one table, e.g., `films` or `people`.\n",
    "\n",
    "In the real world however, you will often want to query multiple tables. For example, what if you want to see the IMDB score for a particular movie?\n",
    "\n",
    "In this case, you'd want to get the ID of the movie from the `films` table and then use it to get IMDB information from the `reviews` table. In SQL, this concept is known as a join, and a basic join is shown in the editor to the right.\n",
    "\n",
    "The query in the editor gets the IMDB score for the film To Kill a Mockingbird! Cool right?\n",
    "\n",
    "As you can see, joins are incredibly useful and important to understand for anyone using SQL.\n",
    "\n",
    "We have a whole follow-up course dedicated to them called [Joining Data in SQL](https://learn.datacamp.com/courses/joining-data-in-postgresql) for you to hone your database skills further!"
   ]
  },
  {
   "cell_type": "code",
   "execution_count": 27,
   "id": "5ffa920d-4526-412d-87f0-552fedab2a4c",
   "metadata": {},
   "outputs": [
    {
     "name": "stdout",
     "output_type": "stream",
     "text": [
      " * sqlite:////Users/matteo/Nextcloud/2-Documenti/Corsi/DataScience/DataCamp/Introduction_to_SQL/films.db\n",
      "Done.\n"
     ]
    },
    {
     "data": {
      "text/html": [
       "<table>\n",
       "    <tr>\n",
       "        <th>title</th>\n",
       "        <th>imdb_score</th>\n",
       "    </tr>\n",
       "    <tr>\n",
       "        <td>To Kill a Mockingbird</td>\n",
       "        <td>8.4</td>\n",
       "    </tr>\n",
       "</table>"
      ],
      "text/plain": [
       "[('To Kill a Mockingbird', 8.4)]"
      ]
     },
     "execution_count": 27,
     "metadata": {},
     "output_type": "execute_result"
    }
   ],
   "source": [
    "%%sql\n",
    "SELECT title, imdb_score\n",
    "FROM films\n",
    "JOIN reviews\n",
    "ON films.id = reviews.film_id\n",
    "WHERE title = 'To Kill a Mockingbird';"
   ]
  },
  {
   "cell_type": "code",
   "execution_count": null,
   "id": "1d252e60-8f9c-4f83-8fdc-98379315ecf5",
   "metadata": {},
   "outputs": [],
   "source": []
  }
 ],
 "metadata": {
  "kernelspec": {
   "display_name": "Python 3 (ipykernel)",
   "language": "python",
   "name": "python3"
  },
  "language_info": {
   "codemirror_mode": {
    "name": "ipython",
    "version": 3
   },
   "file_extension": ".py",
   "mimetype": "text/x-python",
   "name": "python",
   "nbconvert_exporter": "python",
   "pygments_lexer": "ipython3",
   "version": "3.9.10"
  }
 },
 "nbformat": 4,
 "nbformat_minor": 5
}
