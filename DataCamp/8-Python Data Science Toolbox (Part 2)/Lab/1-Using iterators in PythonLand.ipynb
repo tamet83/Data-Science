{
 "cells": [
  {
   "cell_type": "markdown",
   "id": "d47019ce-ba13-425c-bf34-99b2f3d9fd0b",
   "metadata": {},
   "source": [
    "# Using iterators in PythonLand\n",
    "You'll learn all about iterators and iterables, which you have already worked with when writing for loops. You'll learn some handy functions that will allow you to effectively work with iterators. And you’ll finish the chapter with a use case that is pertinent to the world of data science and dealing with large amounts of data—in this case, data from Twitter that you will load in chunks using iterators."
   ]
  },
  {
   "cell_type": "markdown",
   "id": "6e5aa028-c02e-477a-9f74-4dd6f1377756",
   "metadata": {},
   "source": [
    "---\n",
    "## Iterators vs. Iterables\n",
    "\n",
    "Let's do a quick recall of what you've learned about **iterables** and **iterators**. Recall from the video that an *iterable* is an object that can return an *iterator*, while an *iterator* is an object that keeps state and produces the next value when you call `next()` on it. In this exercise, you will identify which object is an iterable and which is an iterator.\n",
    "\n",
    "The environment has been pre-loaded with the variables `flash1` and `flash2`. Try printing out their values with `print()` and `next()` to figure out which is an iterable and which is an iterator."
   ]
  },
  {
   "cell_type": "code",
   "execution_count": 1,
   "id": "bb430e40-264c-4843-91af-ac0f904bf8fc",
   "metadata": {},
   "outputs": [],
   "source": [
    "flash1 = ['jay garrick', 'barry allen', 'wally west', 'bart allen']\n",
    "flash2 = iter(flash1)"
   ]
  },
  {
   "cell_type": "code",
   "execution_count": 2,
   "id": "62c9261c-2b3e-47cf-abb2-891fbb4fbe2a",
   "metadata": {},
   "outputs": [
    {
     "name": "stdout",
     "output_type": "stream",
     "text": [
      "['jay garrick', 'barry allen', 'wally west', 'bart allen']\n"
     ]
    }
   ],
   "source": [
    "print(flash1)"
   ]
  },
  {
   "cell_type": "code",
   "execution_count": 3,
   "id": "4196acf9-1951-414d-bf02-61a158ff8fd1",
   "metadata": {},
   "outputs": [
    {
     "ename": "TypeError",
     "evalue": "'list' object is not an iterator",
     "output_type": "error",
     "traceback": [
      "\u001b[0;31m---------------------------------------------------------------------------\u001b[0m",
      "\u001b[0;31mTypeError\u001b[0m                                 Traceback (most recent call last)",
      "Input \u001b[0;32mIn [3]\u001b[0m, in \u001b[0;36m<module>\u001b[0;34m\u001b[0m\n\u001b[0;32m----> 1\u001b[0m \u001b[38;5;28;43mnext\u001b[39;49m\u001b[43m(\u001b[49m\u001b[43mflash1\u001b[49m\u001b[43m)\u001b[49m\n",
      "\u001b[0;31mTypeError\u001b[0m: 'list' object is not an iterator"
     ]
    }
   ],
   "source": [
    "next(flash1)"
   ]
  },
  {
   "cell_type": "code",
   "execution_count": 4,
   "id": "36278a71-d0e5-4ac5-8b2f-773958192001",
   "metadata": {},
   "outputs": [
    {
     "data": {
      "text/plain": [
       "'jay garrick'"
      ]
     },
     "execution_count": 4,
     "metadata": {},
     "output_type": "execute_result"
    }
   ],
   "source": [
    "next(flash2)"
   ]
  },
  {
   "cell_type": "code",
   "execution_count": 5,
   "id": "ce6baef2-2dbd-4894-86e2-2a8650dce6d9",
   "metadata": {},
   "outputs": [
    {
     "data": {
      "text/plain": [
       "'barry allen'"
      ]
     },
     "execution_count": 5,
     "metadata": {},
     "output_type": "execute_result"
    }
   ],
   "source": [
    "next(flash2)"
   ]
  },
  {
   "cell_type": "markdown",
   "id": "89388c5b-42c1-4133-91d0-f015ad892eb4",
   "metadata": {},
   "source": [
    "### Conclusion\n",
    "`Flash1` is an *iterable*, which means that we can iterate on it only if we pass it to `iter()` function. \n",
    "Wherease `Flash2` is an *iterator*, which means that we can iterate on it by using the `next()` function."
   ]
  },
  {
   "cell_type": "markdown",
   "id": "10a03e0d-ec52-4040-bdce-85aefe6a6aea",
   "metadata": {},
   "source": [
    "---\n",
    "## Iterating over iterables (1)\n",
    "\n",
    "Great, you're familiar with what iterables and iterators are! In this exercise, you will reinforce your knowledge about these by iterating over and printing from iterables and iterators.\n",
    "\n",
    "You are provided with a list of strings `flash`. You will practice iterating over the list by using a `for` loop. You will also create an iterator for the list and access the values from the iterator."
   ]
  },
  {
   "cell_type": "markdown",
   "id": "66f74542-0570-4388-8fae-6b5f529693a7",
   "metadata": {},
   "source": [
    "### Instructions\n",
    "- Create a `for` loop to loop over `flash` and print the values in the list. Use `person` as the loop variable.\n",
    "- Create an `iterator` for the list `flash` and assign the result to `superhero`.\n",
    "- Print each of the items from `superhero` using `next()` 4 times."
   ]
  },
  {
   "cell_type": "code",
   "execution_count": 6,
   "id": "c141abf5-20ee-43b6-bf0d-c61d6d25874d",
   "metadata": {},
   "outputs": [
    {
     "name": "stdout",
     "output_type": "stream",
     "text": [
      "jay garrick\n",
      "barry allen\n",
      "wally west\n",
      "bart allen\n",
      "---\n",
      "jay garrick\n",
      "barry allen\n",
      "wally west\n",
      "bart allen\n"
     ]
    }
   ],
   "source": [
    "# Create a list of strings: flash\n",
    "flash = ['jay garrick', 'barry allen', 'wally west', 'bart allen']\n",
    "\n",
    "# Print each list item in flash using a for loop\n",
    "for person in flash:\n",
    "    print(person)\n",
    "\n",
    "print('---')\n",
    "# Create an iterator for flash: superhero\n",
    "superhero = iter(flash)\n",
    "\n",
    "# Print each item from the iterator\n",
    "print(next(superhero))\n",
    "print(next(superhero))\n",
    "print(next(superhero))\n",
    "print(next(superhero))\n"
   ]
  },
  {
   "cell_type": "markdown",
   "id": "6869fdc6-675c-40f1-99f8-2b5c3d03f112",
   "metadata": {},
   "source": [
    "---\n",
    "## Iterating over iterables (2)\n",
    "\n",
    "One of the things you learned about in this chapter is that not all iterables are actual lists. A couple of examples that we looked at are strings and the use of the `range()` function. In this exercise, we will focus on the `range()` function.\n",
    "\n",
    "You can use `range()` in a `for` loop as if it's a list to be iterated over:\n",
    "```python\n",
    "for i in range(5):\n",
    "    print(i)\n",
    "```\n",
    "Recall that `range()` doesn't actually create the list; instead, it creates a range object with an iterator that produces the values until it reaches the limit (in the example, until the value 4). If `range()` created the actual list, calling it with a value of $10^{100}$ may not work, especially since a number as big as that may go over a regular computer's memory. The value $10^{100}$ is actually what's called a **Googol** which is a 1 followed by a hundred 0s. That's a huge number!\n",
    "\n",
    "Your task for this exercise is to show that calling `range()` with $10^{100}$ won't actually pre-create the list."
   ]
  },
  {
   "cell_type": "markdown",
   "id": "575b85e3-a4c3-4012-825d-a1ddbdaff4a7",
   "metadata": {},
   "source": [
    "### Instructions\n",
    "- Create an iterator object `small_value` over `range(3)` using the function `iter()`.\n",
    "- Using a `for` loop, iterate over `range(3)`, printing the value for every iteration. Use `num` as the loop variable.\n",
    "- Create an **iterator** object `googol` over range`(10 ** 100)`."
   ]
  },
  {
   "cell_type": "code",
   "execution_count": 7,
   "id": "57bbd7b4-e203-4080-a8d1-01c318a0e8d7",
   "metadata": {},
   "outputs": [
    {
     "name": "stdout",
     "output_type": "stream",
     "text": [
      "Iteration\n",
      "0\n",
      "1\n",
      "2\n",
      "For Loop\n",
      "0\n",
      "1\n",
      "2\n",
      "Googl\n",
      "0\n",
      "1\n",
      "2\n",
      "3\n",
      "4\n"
     ]
    }
   ],
   "source": [
    "# Create an iterator for range(3): small_value\n",
    "small_value = iter(range(3))\n",
    "\n",
    "# Print the values in small_value\n",
    "print('Iteration')\n",
    "print(next(small_value))\n",
    "print(next(small_value))\n",
    "print(next(small_value))\n",
    "\n",
    "\n",
    "# Loop over range(3) and print the values\n",
    "print('For Loop')\n",
    "for num in range(3):\n",
    "    print(num)\n",
    "\n",
    "# Create an iterator for range(10 ** 100): googol\n",
    "print('Googl')\n",
    "googol = iter(range(10**100))\n",
    "\n",
    "# Print the first 5 values from googol\n",
    "print(next(googol))\n",
    "print(next(googol))\n",
    "print(next(googol))\n",
    "print(next(googol))\n",
    "print(next(googol))"
   ]
  },
  {
   "cell_type": "markdown",
   "id": "53cc5c6e-0c79-4c39-829e-966cc2c838bb",
   "metadata": {},
   "source": [
    "---\n",
    "## Iterators as function arguments\n",
    "\n",
    "You've been using the `iter()` function to get an iterator object, as well as the `next()` function to retrieve the values one by one from the iterator object.\n",
    "\n",
    "There are also functions that take iterators and iterables as arguments. For example, the `list()` and `sum()` functions return a list and the sum of elements, respectively.\n",
    "\n",
    "In this exercise, you will use these functions by passing an iterable from `range()` and then printing the results of the function calls."
   ]
  },
  {
   "cell_type": "markdown",
   "id": "b6aee6c9-924c-4b3d-8679-f40b781f802f",
   "metadata": {},
   "source": [
    "### Instructions\n",
    "- Create a `range` object that would produce the values from 10 to 20 using `range()`. Assign the result to values.\n",
    "- Use the `list()` function to create a list of `values` from the range object values. Assign the result to `values_list`.\n",
    "- Use the `sum()` function to get the sum of the values from 10 to 20 from the range object `values`. Assign the result to `values_sum`."
   ]
  },
  {
   "cell_type": "code",
   "execution_count": 8,
   "id": "a3a7cf04-c2de-4551-8163-a060e2cbf357",
   "metadata": {},
   "outputs": [
    {
     "name": "stdout",
     "output_type": "stream",
     "text": [
      "range(10, 21)\n",
      "[10, 11, 12, 13, 14, 15, 16, 17, 18, 19, 20]\n",
      "165\n"
     ]
    }
   ],
   "source": [
    "# Create a range object: values\n",
    "values = range(10,21,1)\n",
    "\n",
    "# Print the range object\n",
    "print(values)\n",
    "\n",
    "# Create a list of integers: values_list\n",
    "values_list = list(values)\n",
    "\n",
    "# Print values_list\n",
    "print(values_list)\n",
    "\n",
    "# Get the sum of values: values_sum\n",
    "values_sum = sum(values)\n",
    "\n",
    "# Print values_sum\n",
    "print(values_sum)\n"
   ]
  },
  {
   "cell_type": "markdown",
   "id": "88260cec-fdbd-4203-bcae-340e82011c84",
   "metadata": {},
   "source": [
    "---\n",
    "## Using enumerate\n",
    "\n",
    "You're really getting the hang of using iterators, great job!\n",
    "\n",
    "You've just gained several new ideas on iterators from the last video and one of them is the `enumerate()` function. Recall that `enumerate()` returns an `enumerate` object that produces a sequence of tuples, and each of the tuples is an index-value pair.\n",
    "\n",
    "In this exercise, you are given a list of strings `mutants` and you will practice using `enumerate()` on it by printing out a list of tuples and unpacking the tuples using a `for` loop."
   ]
  },
  {
   "cell_type": "markdown",
   "id": "a9c48915-be21-4373-9a06-35085ab88f91",
   "metadata": {},
   "source": [
    "### Instructions\n",
    "- Create a list of tuples from `mutants` and assign the result to `mutant_list`. Make sure you generate the tuples using `enumerate()` and turn the result from it into a list using `list()`.\n",
    "- Complete the first `for` loop by unpacking the tuples generated by calling `enumerate()` on mutants. Use `index1` for the index and `value1` for the value when unpacking the tuple.\n",
    "- Complete the second `for` loop similarly as with the first, but this time change the starting index to start from `1` by passing it in as an argument to the `start` parameter of `enumerate()`. Use `index2` for the index and `value2` for the value when unpacking the tuple."
   ]
  },
  {
   "cell_type": "code",
   "execution_count": 9,
   "id": "aca848c7-85bb-4be8-9d65-33197eb94516",
   "metadata": {},
   "outputs": [
    {
     "name": "stdout",
     "output_type": "stream",
     "text": [
      "[(0, 'charles xavier'), (1, 'bobby drake'), (2, 'kurt wagner'), (3, 'max eisenhardt'), (4, 'kitty pryde')]\n",
      "0 charles xavier\n",
      "1 bobby drake\n",
      "2 kurt wagner\n",
      "3 max eisenhardt\n",
      "4 kitty pryde\n",
      "---\n",
      "1 charles xavier\n",
      "2 bobby drake\n",
      "3 kurt wagner\n",
      "4 max eisenhardt\n",
      "5 kitty pryde\n"
     ]
    }
   ],
   "source": [
    "# Create a list of strings: mutants\n",
    "mutants = ['charles xavier', \n",
    "            'bobby drake', \n",
    "            'kurt wagner', \n",
    "            'max eisenhardt', \n",
    "            'kitty pryde']\n",
    "\n",
    "# Create a list of tuples: mutant_list\n",
    "mutant_list = list(enumerate(mutants))\n",
    "\n",
    "# Print the list of tuples\n",
    "print(mutant_list)\n",
    "\n",
    "# Unpack and print the tuple pairs\n",
    "for index1,value1 in enumerate(mutants):\n",
    "    print(index1, value1)\n",
    "\n",
    "print('---')\n",
    "# Change the start index\n",
    "for index2,value2 in enumerate(mutants, start=1):\n",
    "    print(index2, value2)\n"
   ]
  },
  {
   "cell_type": "markdown",
   "id": "cc242a13-343f-4700-bed5-75837c773b30",
   "metadata": {},
   "source": [
    "---\n",
    "## Using zip\n",
    "\n",
    "Another interesting function that you've learned is `zip()`, which takes any number of iterables and returns a `zip` object that is an iterator of tuples. If you wanted to print the values of a `zip` object, you can convert it into a list and then print it. Printing just a `zip` object will not return the values unless you unpack it first. In this exercise, you will explore this for yourself.\n",
    "\n",
    "Three lists of strings are pre-loaded: `mutants`, `aliases`, and `powers`. First, you will use `list()` and `zip()` on these lists to generate a list of tuples. Then, you will create a `zip` object using `zip()`. Finally, you will unpack this zip object in a for loop to print the values in each tuple. Observe the different output generated by printing the list of tuples, then the `zip` object, and finally, the tuple values in the `for` loop.['charles xavier',\n",
    " 'bobby drake',\n",
    " 'kurt wagner',\n",
    " 'max eisenhardt',\n",
    " 'kitty pryde']"
   ]
  },
  {
   "cell_type": "code",
   "execution_count": 10,
   "id": "9c79421b-1d5e-4f34-aab9-c293991af8d2",
   "metadata": {},
   "outputs": [],
   "source": [
    "mutants = ['charles xavier', 'bobby drake', 'kurt wagner', 'max eisenhardt', 'kitty pryde']\n",
    "aliases = ['prof x', 'iceman', 'nightcrawler', 'magneto', 'shadowcat']\n",
    "powers = ['telepathy', 'thermokinesis', 'teleportation', 'magnetokinesis', 'intangibility']"
   ]
  },
  {
   "cell_type": "markdown",
   "id": "5b4e299d-959d-48e7-b325-94373f8ccd9c",
   "metadata": {},
   "source": [
    "### Instructions\n",
    "- Using `zip()` with `list()`, create a list of tuples from the three lists `mutants`, `aliases`, and `powers` (in that order) and assign the result to `mutant_data`.\n",
    "- Using `zip()`, create a zip object called `mutant_zip` from the three lists `mutants`, `aliases`, and `powers`.\n",
    "- Complete the `for` loop by unpacking the `zip` object you created and printing the tuple values. Use `value1`, `value2`, `value3` for the values from each of `mutants`, `aliases`, and `powers`, in that order."
   ]
  },
  {
   "cell_type": "code",
   "execution_count": 11,
   "id": "01b20c36-5a7e-4b54-b64a-a74c5010f1eb",
   "metadata": {},
   "outputs": [
    {
     "name": "stdout",
     "output_type": "stream",
     "text": [
      "[('charles xavier', 'prof x', 'telepathy'), ('bobby drake', 'iceman', 'thermokinesis'), ('kurt wagner', 'nightcrawler', 'teleportation'), ('max eisenhardt', 'magneto', 'magnetokinesis'), ('kitty pryde', 'shadowcat', 'intangibility')]\n",
      "<zip object at 0x1034a26c0>\n",
      "charles xavier prof x telepathy\n",
      "bobby drake iceman thermokinesis\n",
      "kurt wagner nightcrawler teleportation\n",
      "max eisenhardt magneto magnetokinesis\n",
      "kitty pryde shadowcat intangibility\n"
     ]
    }
   ],
   "source": [
    "# Create a list of tuples: mutant_data\n",
    "mutant_data = list(zip(mutants, aliases, powers))\n",
    "\n",
    "# Print the list of tuples\n",
    "print(mutant_data)\n",
    "\n",
    "# Create a zip object using the three lists: mutant_zip\n",
    "mutant_zip = zip(mutants, aliases, powers)\n",
    "\n",
    "# Print the zip object\n",
    "print(mutant_zip)\n",
    "\n",
    "# Unpack the zip object and print the tuple values\n",
    "for value1, value2, value3 in mutant_zip:\n",
    "    print(value1, value2, value3)\n",
    "\n"
   ]
  },
  {
   "cell_type": "markdown",
   "id": "07f1970e-4795-43ed-ab2e-a06617f4390a",
   "metadata": {},
   "source": [
    "---\n",
    "## Using * and zip to 'unzip'\n",
    "\n",
    "You know how to use `zip()` as well as how to print out values from a `zip` object. Excellent!\n",
    "\n",
    "Let's play around with ``zip()` a little more. There is no unzip function for doing the reverse of what `zip()` does. We can, however, reverse what has been `zipped` together by using `zip()` with a little help from `*`! `*` unpacks an iterable such as a list or a tuple into positional arguments in a function call.\n",
    "\n",
    "In this exercise, you will use `*` in a call to `zip()` to unpack the tuples produced by zip().\n",
    "\n",
    "Two tuples of strings, `mutants` and `powers` have been pre-loaded."
   ]
  },
  {
   "cell_type": "code",
   "execution_count": 12,
   "id": "28fd8caf-3dca-4e65-8a74-260e8be400da",
   "metadata": {},
   "outputs": [],
   "source": [
    "mutants = ('charles xavier', 'bobby drake', 'kurt wagner', 'max eisenhardt', 'kitty pryde')\n",
    "powers = ('telepathy', 'thermokinesis', 'teleportation', 'magnetokinesis', 'intangibility')"
   ]
  },
  {
   "cell_type": "markdown",
   "id": "ab722f64-cccd-4f61-a142-c0a08227f8de",
   "metadata": {},
   "source": [
    "### Instructions\n",
    "- Create a `zip` object by using `zip()` on `mutants` and `powers`, in that order. Assign the result to `z1`.\n",
    "- Print the tuples in `z1` by unpacking them into positional arguments using the `*` operator in a `print()` call.\n",
    "- Because the previous `print()` call would have exhausted the elements in `z1`, recreate the `zip` object you defined earlier and assign the result again to `z1`.\n",
    "- 'Unzip' the tuples in `z1` by unpacking them into positional arguments using the `*` operator in a `zip()` call. Assign the results to `result1` and `result2`, in that order.\n",
    "- The last `print()` statements prints the output of comparing `result1` to `mutants` and `result2` to powers. `Click Submit Answer` to see if the unpacked `result1` and `result2` are equivalent to `mutants` and `powers`, respectively."
   ]
  },
  {
   "cell_type": "code",
   "execution_count": 13,
   "id": "9a65d17c-9ca0-41d3-a9b6-092147e54532",
   "metadata": {},
   "outputs": [
    {
     "name": "stdout",
     "output_type": "stream",
     "text": [
      "('charles xavier', 'telepathy') ('bobby drake', 'thermokinesis') ('kurt wagner', 'teleportation') ('max eisenhardt', 'magnetokinesis') ('kitty pryde', 'intangibility')\n",
      "True\n",
      "True\n"
     ]
    }
   ],
   "source": [
    "# Create a zip object from mutants and powers: z1\n",
    "z1 = zip(mutants, powers)\n",
    "\n",
    "# Print the tuples in z1 by unpacking with *\n",
    "print(*z1)\n",
    "\n",
    "# Re-create a zip object from mutants and powers: z1\n",
    "z1 = zip(mutants,powers)\n",
    "\n",
    "# 'Unzip' the tuples in z1 by unpacking with * and zip(): result1, result2\n",
    "result1, result2 = zip(*z1)\n",
    "\n",
    "# Check if unpacked tuples are equivalent to original tuples\n",
    "print(result1 == mutants)\n",
    "print(result2 == powers)\n"
   ]
  },
  {
   "cell_type": "markdown",
   "id": "d5b19154-90d1-4b06-9190-b0ade45dd8ab",
   "metadata": {},
   "source": [
    "---\n",
    "## Processing large amounts of Twitter data\n",
    "\n",
    "Sometimes, the data we have to process reaches a size that is too much for a computer's memory to handle. This is a common problem faced by data scientists. A solution to this is to process an entire data source chunk by chunk, instead of a single go all at once.\n",
    "\n",
    "In this exercise, you will do just that. You will process a large csv file of Twitter data in the same way that you processed `tweets.csv` in [Bringing it all together](https://campus.datacamp.com/courses/python-data-science-toolbox-part-1/writing-your-own-functions?ex=12) exercises of the prequel course, but this time, working on it in chunks of 10 entries at a time.\n",
    "\n",
    "If you are interested in learning how to access Twitter data so you can work with it on your own system, refer to [Part 2](https://www.datacamp.com/courses/importing-data-in-python-part-2) of the DataCamp course on Importing Data in Python.\n",
    "\n",
    "The pandas package has been imported as `pd` and the file `tweets.csv` is in your current directory for your use.\n",
    "\n",
    "Be aware that this is real data from Twitter and as such there is always a risk that it may contain profanity or other offensive content (in this exercise, and any following exercises that also use real Twitter data)."
   ]
  },
  {
   "cell_type": "code",
   "execution_count": 15,
   "id": "a8f64e9f-42c3-410a-a838-cf52343fbe51",
   "metadata": {},
   "outputs": [],
   "source": [
    "import pandas as pd"
   ]
  },
  {
   "cell_type": "markdown",
   "id": "667c806d-14e0-44fa-9cff-e73e111f2be9",
   "metadata": {},
   "source": [
    "### Instructions\n",
    "- Initialize an empty dictionary `counts_dict` for storing the results of processing the Twitter data.\n",
    "- Iterate over the `tweets.csv` file by using a `for` loop. Use the loop variable `chunk` and iterate over the call to `pd.read_csv()` with a `chunksize` of 10.\n",
    "- In the inner loop, iterate over the column `'lang'` in `chunk` by using a `for` loop. Use the loop variable `entry`."
   ]
  },
  {
   "cell_type": "code",
   "execution_count": 22,
   "id": "07e3cfdc-2f2c-4719-a5e0-742aa47568a3",
   "metadata": {},
   "outputs": [
    {
     "name": "stdout",
     "output_type": "stream",
     "text": [
      "{'en': 97, 'et': 1, 'und': 2}\n"
     ]
    }
   ],
   "source": [
    "# Initialize an empty dictionary: counts_dict\n",
    "counts_dict = {}\n",
    "\n",
    "# Iterate over the file chunk by chunk\n",
    "for chunk in pd.read_csv('datasets/tweets.csv', chunksize=10):\n",
    "\n",
    "    # Iterate over the column in DataFrame\n",
    "    for entry in chunk['lang']:\n",
    "        if entry in counts_dict.keys():\n",
    "            counts_dict[entry] += 1\n",
    "        else:\n",
    "            counts_dict[entry] = 1\n",
    "\n",
    "# Print the populated dictionary\n",
    "print(counts_dict)\n"
   ]
  },
  {
   "cell_type": "markdown",
   "id": "bbb15825-9b2e-4a2e-9d97-616ec8ae6e58",
   "metadata": {},
   "source": [
    "---\n",
    "## Extracting information for large amounts of Twitter data\n",
    "\n",
    "Great job chunking out that file in the previous exercise. You now know how to deal with situations where you need to process a very large file and that's a very useful skill to have!\n",
    "\n",
    "It's good to know how to process a file in smaller, more manageable chunks, but it can become very tedious having to write and rewrite the same code for the same task each time. In this exercise, you will be making your code more reusable by putting your work in the last exercise in a function definition.\n",
    "\n",
    "The pandas package has been imported as `pd` and the file `'tweets.csv'` is in your current directory for your use."
   ]
  },
  {
   "cell_type": "markdown",
   "id": "46d40352-f4df-4c50-9c7a-b3e716bbcaeb",
   "metadata": {},
   "source": [
    "### Instructions\n",
    "- Define the function `count_entries()`, which has 3 parameters. The first parameter is `csv_file` for the filename, the second is `c_size` for the chunk size, and the last is `colname` for the column name.\n",
    "- Iterate over the file in `csv_file` file by using a `for` loop. Use the loop variable `chunk` and iterate over the call to `pd.read_csv()`, passing `c_size` to `chunksize`.\n",
    "- In the inner loop, iterate over the column given by `colname` in chunk by using a for loop. Use the loop variable `entry`.\n",
    "- Call the `count_entries()` function by passing to it the filename `'tweets.csv'`, the size of chunks `10`, and the name of the column to count, `'lang'`. Assign the result of the call to the variable `result_counts`."
   ]
  },
  {
   "cell_type": "code",
   "execution_count": 26,
   "id": "861eefbe-0747-4753-9727-41aac03c3a55",
   "metadata": {},
   "outputs": [
    {
     "name": "stdout",
     "output_type": "stream",
     "text": [
      "{'en': 97, 'et': 1, 'und': 2}\n"
     ]
    }
   ],
   "source": [
    "# Define count_entries()\n",
    "def count_entries(csv_file, c_size, colname):\n",
    "    \"\"\"Return a dictionary with counts of\n",
    "    occurrences as value for each key.\"\"\"\n",
    "    \n",
    "    # Initialize an empty dictionary: counts_dict\n",
    "    counts_dict = {}\n",
    "\n",
    "    # Iterate over the file chunk by chunk\n",
    "    for chunk in pd.read_csv(csv_file, chunksize=c_size):\n",
    "\n",
    "        # Iterate over the column in DataFrame\n",
    "        for entry in chunk[colname]:\n",
    "            if entry in counts_dict.keys():\n",
    "                counts_dict[entry] += 1\n",
    "            else:\n",
    "                counts_dict[entry] = 1\n",
    "\n",
    "    # Return counts_dict\n",
    "    return counts_dict\n",
    "\n",
    "# Call count_entries(): result_counts\n",
    "result_counts = count_entries('datasets/tweets.csv',10,'lang')\n",
    "\n",
    "# Print result_counts\n",
    "print(result_counts)\n"
   ]
  }
 ],
 "metadata": {
  "kernelspec": {
   "display_name": "Python 3 (ipykernel)",
   "language": "python",
   "name": "python3"
  },
  "language_info": {
   "codemirror_mode": {
    "name": "ipython",
    "version": 3
   },
   "file_extension": ".py",
   "mimetype": "text/x-python",
   "name": "python",
   "nbconvert_exporter": "python",
   "pygments_lexer": "ipython3",
   "version": "3.9.10"
  }
 },
 "nbformat": 4,
 "nbformat_minor": 5
}
