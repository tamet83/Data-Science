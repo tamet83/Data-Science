{
 "cells": [
  {
   "cell_type": "markdown",
   "metadata": {},
   "source": [
    "# Linear Regression\n",
    "\n",
    "Why use linear regression?\n",
    "\n",
    "1. Easy to use\n",
    "2. Easy to interpret\n",
    "3. Basis for many methods\n",
    "4. Runs fast\n",
    "5. Most people have heard about it :-) \n",
    "\n",
    "### Libraries in Python for Linear Regression\n",
    "\n",
    "The two most popular ones are\n",
    "\n",
    "1. `scikit-learn`\n",
    "2. `statsmodels`\n",
    "\n",
    "We highly recommend learning `scikit-learn` since that's also the machine learning package in Python.\n",
    "\n",
    "## Problem\n",
    "\n",
    "Could we predict price of weed in a state using the demographic information? \n",
    "\n",
    "For this session, let's do this. For January 2015, let's find average price for high quality weed across all the states. Let's assume that we don't know what the prices are for the following states: \n",
    "<br>\n",
    "iowa, kentucky, missouri, nevada, wyoming, south dakota, new jersey, michigan, idaho\n",
    "<br>\n",
    "\n",
    "Those are our **test** set. The remaining states are our **train** set. We need to train the model on the train dataset and predict for the test dataset. \n",
    "\n",
    "Since we also know the actual mean prices for the test states, let's verify how good our models are."
   ]
  },
  {
   "cell_type": "code",
   "execution_count": 1,
   "metadata": {
    "collapsed": true
   },
   "outputs": [],
   "source": [
    "import pandas as pd"
   ]
  },
  {
   "cell_type": "code",
   "execution_count": 2,
   "metadata": {
    "collapsed": true
   },
   "outputs": [],
   "source": [
    "#Load the data\n",
    "weed_pd = pd.read_csv(\"../data/Weed_Price.csv\", parse_dates=[-1])\n",
    "demo_pd = pd.read_csv(\"../data/Demographics_State.csv\")"
   ]
  },
  {
   "cell_type": "code",
   "execution_count": 3,
   "metadata": {
    "collapsed": false
   },
   "outputs": [
    {
     "data": {
      "text/html": [
       "<div>\n",
       "<table border=\"1\" class=\"dataframe\">\n",
       "  <thead>\n",
       "    <tr style=\"text-align: right;\">\n",
       "      <th></th>\n",
       "      <th>State</th>\n",
       "      <th>HighQ</th>\n",
       "      <th>HighQN</th>\n",
       "      <th>MedQ</th>\n",
       "      <th>MedQN</th>\n",
       "      <th>LowQ</th>\n",
       "      <th>LowQN</th>\n",
       "      <th>date</th>\n",
       "    </tr>\n",
       "  </thead>\n",
       "  <tbody>\n",
       "    <tr>\n",
       "      <th>0</th>\n",
       "      <td>Alabama</td>\n",
       "      <td>339.06</td>\n",
       "      <td>1042</td>\n",
       "      <td>198.64</td>\n",
       "      <td>933</td>\n",
       "      <td>149.49</td>\n",
       "      <td>123</td>\n",
       "      <td>2014-01-01</td>\n",
       "    </tr>\n",
       "    <tr>\n",
       "      <th>1</th>\n",
       "      <td>Alaska</td>\n",
       "      <td>288.75</td>\n",
       "      <td>252</td>\n",
       "      <td>260.60</td>\n",
       "      <td>297</td>\n",
       "      <td>388.58</td>\n",
       "      <td>26</td>\n",
       "      <td>2014-01-01</td>\n",
       "    </tr>\n",
       "    <tr>\n",
       "      <th>2</th>\n",
       "      <td>Arizona</td>\n",
       "      <td>303.31</td>\n",
       "      <td>1941</td>\n",
       "      <td>209.35</td>\n",
       "      <td>1625</td>\n",
       "      <td>189.45</td>\n",
       "      <td>222</td>\n",
       "      <td>2014-01-01</td>\n",
       "    </tr>\n",
       "    <tr>\n",
       "      <th>3</th>\n",
       "      <td>Arkansas</td>\n",
       "      <td>361.85</td>\n",
       "      <td>576</td>\n",
       "      <td>185.62</td>\n",
       "      <td>544</td>\n",
       "      <td>125.87</td>\n",
       "      <td>112</td>\n",
       "      <td>2014-01-01</td>\n",
       "    </tr>\n",
       "    <tr>\n",
       "      <th>4</th>\n",
       "      <td>California</td>\n",
       "      <td>248.78</td>\n",
       "      <td>12096</td>\n",
       "      <td>193.56</td>\n",
       "      <td>12812</td>\n",
       "      <td>192.92</td>\n",
       "      <td>778</td>\n",
       "      <td>2014-01-01</td>\n",
       "    </tr>\n",
       "  </tbody>\n",
       "</table>\n",
       "</div>"
      ],
      "text/plain": [
       "        State   HighQ  HighQN    MedQ  MedQN    LowQ  LowQN       date\n",
       "0     Alabama  339.06    1042  198.64    933  149.49    123 2014-01-01\n",
       "1      Alaska  288.75     252  260.60    297  388.58     26 2014-01-01\n",
       "2     Arizona  303.31    1941  209.35   1625  189.45    222 2014-01-01\n",
       "3    Arkansas  361.85     576  185.62    544  125.87    112 2014-01-01\n",
       "4  California  248.78   12096  193.56  12812  192.92    778 2014-01-01"
      ]
     },
     "execution_count": 3,
     "metadata": {},
     "output_type": "execute_result"
    }
   ],
   "source": [
    "weed_pd.head()"
   ]
  },
  {
   "cell_type": "code",
   "execution_count": 4,
   "metadata": {
    "collapsed": false
   },
   "outputs": [
    {
     "data": {
      "text/plain": [
       "State             object\n",
       "HighQ            float64\n",
       "HighQN             int64\n",
       "MedQ             float64\n",
       "MedQN              int64\n",
       "LowQ             float64\n",
       "LowQN              int64\n",
       "date      datetime64[ns]\n",
       "dtype: object"
      ]
     },
     "execution_count": 4,
     "metadata": {},
     "output_type": "execute_result"
    }
   ],
   "source": [
    "weed_pd.dtypes"
   ]
  },
  {
   "cell_type": "code",
   "execution_count": 5,
   "metadata": {
    "collapsed": false
   },
   "outputs": [
    {
     "data": {
      "text/html": [
       "<div>\n",
       "<table border=\"1\" class=\"dataframe\">\n",
       "  <thead>\n",
       "    <tr style=\"text-align: right;\">\n",
       "      <th></th>\n",
       "      <th>region</th>\n",
       "      <th>total_population</th>\n",
       "      <th>percent_white</th>\n",
       "      <th>percent_black</th>\n",
       "      <th>percent_asian</th>\n",
       "      <th>percent_hispanic</th>\n",
       "      <th>per_capita_income</th>\n",
       "      <th>median_rent</th>\n",
       "      <th>median_age</th>\n",
       "    </tr>\n",
       "  </thead>\n",
       "  <tbody>\n",
       "    <tr>\n",
       "      <th>0</th>\n",
       "      <td>alabama</td>\n",
       "      <td>4799277</td>\n",
       "      <td>67</td>\n",
       "      <td>26</td>\n",
       "      <td>1</td>\n",
       "      <td>4</td>\n",
       "      <td>23680</td>\n",
       "      <td>501</td>\n",
       "      <td>38.1</td>\n",
       "    </tr>\n",
       "    <tr>\n",
       "      <th>1</th>\n",
       "      <td>alaska</td>\n",
       "      <td>720316</td>\n",
       "      <td>63</td>\n",
       "      <td>3</td>\n",
       "      <td>5</td>\n",
       "      <td>6</td>\n",
       "      <td>32651</td>\n",
       "      <td>978</td>\n",
       "      <td>33.6</td>\n",
       "    </tr>\n",
       "    <tr>\n",
       "      <th>2</th>\n",
       "      <td>arizona</td>\n",
       "      <td>6479703</td>\n",
       "      <td>57</td>\n",
       "      <td>4</td>\n",
       "      <td>3</td>\n",
       "      <td>30</td>\n",
       "      <td>25358</td>\n",
       "      <td>747</td>\n",
       "      <td>36.3</td>\n",
       "    </tr>\n",
       "    <tr>\n",
       "      <th>3</th>\n",
       "      <td>arkansas</td>\n",
       "      <td>2933369</td>\n",
       "      <td>74</td>\n",
       "      <td>15</td>\n",
       "      <td>1</td>\n",
       "      <td>7</td>\n",
       "      <td>22170</td>\n",
       "      <td>480</td>\n",
       "      <td>37.5</td>\n",
       "    </tr>\n",
       "    <tr>\n",
       "      <th>4</th>\n",
       "      <td>california</td>\n",
       "      <td>37659181</td>\n",
       "      <td>40</td>\n",
       "      <td>6</td>\n",
       "      <td>13</td>\n",
       "      <td>38</td>\n",
       "      <td>29527</td>\n",
       "      <td>1119</td>\n",
       "      <td>35.4</td>\n",
       "    </tr>\n",
       "  </tbody>\n",
       "</table>\n",
       "</div>"
      ],
      "text/plain": [
       "       region  total_population  percent_white  percent_black  percent_asian  \\\n",
       "0     alabama           4799277             67             26              1   \n",
       "1      alaska            720316             63              3              5   \n",
       "2     arizona           6479703             57              4              3   \n",
       "3    arkansas           2933369             74             15              1   \n",
       "4  california          37659181             40              6             13   \n",
       "\n",
       "   percent_hispanic  per_capita_income  median_rent  median_age  \n",
       "0                 4              23680          501        38.1  \n",
       "1                 6              32651          978        33.6  \n",
       "2                30              25358          747        36.3  \n",
       "3                 7              22170          480        37.5  \n",
       "4                38              29527         1119        35.4  "
      ]
     },
     "execution_count": 5,
     "metadata": {},
     "output_type": "execute_result"
    }
   ],
   "source": [
    "demo_pd.head()"
   ]
  },
  {
   "cell_type": "code",
   "execution_count": 6,
   "metadata": {
    "collapsed": false
   },
   "outputs": [
    {
     "data": {
      "text/plain": [
       "region                object\n",
       "total_population       int64\n",
       "percent_white          int64\n",
       "percent_black          int64\n",
       "percent_asian          int64\n",
       "percent_hispanic       int64\n",
       "per_capita_income      int64\n",
       "median_rent            int64\n",
       "median_age           float64\n",
       "dtype: object"
      ]
     },
     "execution_count": 6,
     "metadata": {},
     "output_type": "execute_result"
    }
   ],
   "source": [
    "demo_pd.dtypes"
   ]
  },
  {
   "cell_type": "markdown",
   "metadata": {},
   "source": [
    "As seen above, weed price dataset has states' first alphabet capitalized. \n",
    "The below command will convert it to lower case"
   ]
  },
  {
   "cell_type": "code",
   "execution_count": 7,
   "metadata": {
    "collapsed": false
   },
   "outputs": [
    {
     "data": {
      "text/plain": [
       "'alabama'"
      ]
     },
     "execution_count": 7,
     "metadata": {},
     "output_type": "execute_result"
    }
   ],
   "source": [
    "str.lower(\"Alabama\")"
   ]
  },
  {
   "cell_type": "code",
   "execution_count": null,
   "metadata": {
    "collapsed": true
   },
   "outputs": [],
   "source": [
    "?weed_pd.apply"
   ]
  },
  {
   "cell_type": "code",
   "execution_count": 8,
   "metadata": {
    "collapsed": false
   },
   "outputs": [],
   "source": [
    "weed_pd.State = weed_pd[\"State\"].apply(lambda x: str.lower(x))"
   ]
  },
  {
   "cell_type": "code",
   "execution_count": 9,
   "metadata": {
    "collapsed": false
   },
   "outputs": [
    {
     "data": {
      "text/html": [
       "<div>\n",
       "<table border=\"1\" class=\"dataframe\">\n",
       "  <thead>\n",
       "    <tr style=\"text-align: right;\">\n",
       "      <th></th>\n",
       "      <th>State</th>\n",
       "      <th>HighQ</th>\n",
       "      <th>HighQN</th>\n",
       "      <th>MedQ</th>\n",
       "      <th>MedQN</th>\n",
       "      <th>LowQ</th>\n",
       "      <th>LowQN</th>\n",
       "      <th>date</th>\n",
       "    </tr>\n",
       "  </thead>\n",
       "  <tbody>\n",
       "    <tr>\n",
       "      <th>0</th>\n",
       "      <td>alabama</td>\n",
       "      <td>339.06</td>\n",
       "      <td>1042</td>\n",
       "      <td>198.64</td>\n",
       "      <td>933</td>\n",
       "      <td>149.49</td>\n",
       "      <td>123</td>\n",
       "      <td>2014-01-01</td>\n",
       "    </tr>\n",
       "    <tr>\n",
       "      <th>1</th>\n",
       "      <td>alaska</td>\n",
       "      <td>288.75</td>\n",
       "      <td>252</td>\n",
       "      <td>260.60</td>\n",
       "      <td>297</td>\n",
       "      <td>388.58</td>\n",
       "      <td>26</td>\n",
       "      <td>2014-01-01</td>\n",
       "    </tr>\n",
       "    <tr>\n",
       "      <th>2</th>\n",
       "      <td>arizona</td>\n",
       "      <td>303.31</td>\n",
       "      <td>1941</td>\n",
       "      <td>209.35</td>\n",
       "      <td>1625</td>\n",
       "      <td>189.45</td>\n",
       "      <td>222</td>\n",
       "      <td>2014-01-01</td>\n",
       "    </tr>\n",
       "    <tr>\n",
       "      <th>3</th>\n",
       "      <td>arkansas</td>\n",
       "      <td>361.85</td>\n",
       "      <td>576</td>\n",
       "      <td>185.62</td>\n",
       "      <td>544</td>\n",
       "      <td>125.87</td>\n",
       "      <td>112</td>\n",
       "      <td>2014-01-01</td>\n",
       "    </tr>\n",
       "    <tr>\n",
       "      <th>4</th>\n",
       "      <td>california</td>\n",
       "      <td>248.78</td>\n",
       "      <td>12096</td>\n",
       "      <td>193.56</td>\n",
       "      <td>12812</td>\n",
       "      <td>192.92</td>\n",
       "      <td>778</td>\n",
       "      <td>2014-01-01</td>\n",
       "    </tr>\n",
       "  </tbody>\n",
       "</table>\n",
       "</div>"
      ],
      "text/plain": [
       "        State   HighQ  HighQN    MedQ  MedQN    LowQ  LowQN       date\n",
       "0     alabama  339.06    1042  198.64    933  149.49    123 2014-01-01\n",
       "1      alaska  288.75     252  260.60    297  388.58     26 2014-01-01\n",
       "2     arizona  303.31    1941  209.35   1625  189.45    222 2014-01-01\n",
       "3    arkansas  361.85     576  185.62    544  125.87    112 2014-01-01\n",
       "4  california  248.78   12096  193.56  12812  192.92    778 2014-01-01"
      ]
     },
     "execution_count": 9,
     "metadata": {},
     "output_type": "execute_result"
    }
   ],
   "source": [
    "weed_pd.head()"
   ]
  },
  {
   "cell_type": "code",
   "execution_count": 10,
   "metadata": {
    "collapsed": false
   },
   "outputs": [
    {
     "data": {
      "text/plain": [
       "array(['alabama', 'alaska', 'arizona', 'arkansas', 'california',\n",
       "       'colorado', 'connecticut', 'delaware', 'district of columbia',\n",
       "       'florida', 'georgia', 'hawaii', 'idaho', 'illinois', 'indiana',\n",
       "       'iowa', 'kansas', 'kentucky', 'louisiana', 'maine', 'montana',\n",
       "       'nebraska', 'nevada', 'new hampshire', 'new jersey', 'new mexico',\n",
       "       'new york', 'north carolina', 'north dakota', 'ohio', 'oklahoma',\n",
       "       'oregon', 'maryland', 'massachusetts', 'michigan', 'minnesota',\n",
       "       'mississippi', 'missouri', 'pennsylvania', 'rhode island',\n",
       "       'south carolina', 'south dakota', 'tennessee', 'texas', 'utah',\n",
       "       'vermont', 'virginia', 'washington', 'west virginia', 'wisconsin',\n",
       "       'wyoming'], dtype=object)"
      ]
     },
     "execution_count": 10,
     "metadata": {},
     "output_type": "execute_result"
    }
   ],
   "source": [
    "pd.unique(weed_pd.State)"
   ]
  },
  {
   "cell_type": "code",
   "execution_count": 11,
   "metadata": {
    "collapsed": false
   },
   "outputs": [
    {
     "data": {
      "text/plain": [
       "array(['alabama', 'alaska', 'arizona', 'arkansas', 'california',\n",
       "       'colorado', 'connecticut', 'delaware', 'district of columbia',\n",
       "       'florida', 'georgia', 'hawaii', 'idaho', 'illinois', 'indiana',\n",
       "       'iowa', 'kansas', 'kentucky', 'louisiana', 'maine', 'maryland',\n",
       "       'massachusetts', 'michigan', 'minnesota', 'mississippi', 'missouri',\n",
       "       'montana', 'nebraska', 'nevada', 'new hampshire', 'new jersey',\n",
       "       'new mexico', 'new york', 'north carolina', 'north dakota', 'ohio',\n",
       "       'oklahoma', 'oregon', 'pennsylvania', 'rhode island',\n",
       "       'south carolina', 'south dakota', 'tennessee', 'texas', 'utah',\n",
       "       'vermont', 'virginia', 'washington', 'west virginia', 'wisconsin',\n",
       "       'wyoming'], dtype=object)"
      ]
     },
     "execution_count": 11,
     "metadata": {},
     "output_type": "execute_result"
    }
   ],
   "source": [
    "pd.unique(demo_pd.region)"
   ]
  },
  {
   "cell_type": "code",
   "execution_count": 12,
   "metadata": {
    "collapsed": false
   },
   "outputs": [],
   "source": [
    "#Let's get month and year of the date, so that we can select only Jan 2015 data\n",
    "weed_pd[\"Month\"] = weed_pd[\"date\"].apply(lambda x: x.month)\n",
    "weed_pd[\"Year\"] = weed_pd[\"date\"].apply(lambda x: x.year)"
   ]
  },
  {
   "cell_type": "code",
   "execution_count": 13,
   "metadata": {
    "collapsed": true
   },
   "outputs": [],
   "source": [
    "weed_jan2015_pd = weed_pd.ix[(weed_pd.Year==2015) & (weed_pd.Month==1)]"
   ]
  },
  {
   "cell_type": "code",
   "execution_count": 14,
   "metadata": {
    "collapsed": false
   },
   "outputs": [
    {
     "data": {
      "text/html": [
       "<div>\n",
       "<table border=\"1\" class=\"dataframe\">\n",
       "  <thead>\n",
       "    <tr style=\"text-align: right;\">\n",
       "      <th></th>\n",
       "      <th>State</th>\n",
       "      <th>HighQ</th>\n",
       "      <th>HighQN</th>\n",
       "      <th>MedQ</th>\n",
       "      <th>MedQN</th>\n",
       "      <th>LowQ</th>\n",
       "      <th>LowQN</th>\n",
       "      <th>date</th>\n",
       "      <th>Month</th>\n",
       "      <th>Year</th>\n",
       "    </tr>\n",
       "  </thead>\n",
       "  <tbody>\n",
       "    <tr>\n",
       "      <th>51</th>\n",
       "      <td>alabama</td>\n",
       "      <td>337.54</td>\n",
       "      <td>1539</td>\n",
       "      <td>208.24</td>\n",
       "      <td>1463</td>\n",
       "      <td>NaN</td>\n",
       "      <td>182</td>\n",
       "      <td>2015-01-01</td>\n",
       "      <td>1</td>\n",
       "      <td>2015</td>\n",
       "    </tr>\n",
       "    <tr>\n",
       "      <th>52</th>\n",
       "      <td>alaska</td>\n",
       "      <td>303.02</td>\n",
       "      <td>350</td>\n",
       "      <td>270.45</td>\n",
       "      <td>475</td>\n",
       "      <td>NaN</td>\n",
       "      <td>37</td>\n",
       "      <td>2015-01-01</td>\n",
       "      <td>1</td>\n",
       "      <td>2015</td>\n",
       "    </tr>\n",
       "    <tr>\n",
       "      <th>53</th>\n",
       "      <td>arizona</td>\n",
       "      <td>298.51</td>\n",
       "      <td>2638</td>\n",
       "      <td>209.43</td>\n",
       "      <td>2426</td>\n",
       "      <td>NaN</td>\n",
       "      <td>306</td>\n",
       "      <td>2015-01-01</td>\n",
       "      <td>1</td>\n",
       "      <td>2015</td>\n",
       "    </tr>\n",
       "    <tr>\n",
       "      <th>54</th>\n",
       "      <td>arkansas</td>\n",
       "      <td>341.68</td>\n",
       "      <td>846</td>\n",
       "      <td>207.20</td>\n",
       "      <td>836</td>\n",
       "      <td>NaN</td>\n",
       "      <td>145</td>\n",
       "      <td>2015-01-01</td>\n",
       "      <td>1</td>\n",
       "      <td>2015</td>\n",
       "    </tr>\n",
       "    <tr>\n",
       "      <th>55</th>\n",
       "      <td>california</td>\n",
       "      <td>243.96</td>\n",
       "      <td>16512</td>\n",
       "      <td>189.35</td>\n",
       "      <td>19151</td>\n",
       "      <td>NaN</td>\n",
       "      <td>1096</td>\n",
       "      <td>2015-01-01</td>\n",
       "      <td>1</td>\n",
       "      <td>2015</td>\n",
       "    </tr>\n",
       "  </tbody>\n",
       "</table>\n",
       "</div>"
      ],
      "text/plain": [
       "         State   HighQ  HighQN    MedQ  MedQN  LowQ  LowQN       date  Month  \\\n",
       "51     alabama  337.54    1539  208.24   1463   NaN    182 2015-01-01      1   \n",
       "52      alaska  303.02     350  270.45    475   NaN     37 2015-01-01      1   \n",
       "53     arizona  298.51    2638  209.43   2426   NaN    306 2015-01-01      1   \n",
       "54    arkansas  341.68     846  207.20    836   NaN    145 2015-01-01      1   \n",
       "55  california  243.96   16512  189.35  19151   NaN   1096 2015-01-01      1   \n",
       "\n",
       "    Year  \n",
       "51  2015  \n",
       "52  2015  \n",
       "53  2015  \n",
       "54  2015  \n",
       "55  2015  "
      ]
     },
     "execution_count": 14,
     "metadata": {},
     "output_type": "execute_result"
    }
   ],
   "source": [
    "weed_jan2015_pd.head()"
   ]
  },
  {
   "cell_type": "code",
   "execution_count": 15,
   "metadata": {
    "collapsed": false
   },
   "outputs": [],
   "source": [
    "weed_jan2015_summarized = weed_jan2015_pd[[\"State\", \"HighQ\"]].groupby(\"State\").mean().reset_index()"
   ]
  },
  {
   "cell_type": "code",
   "execution_count": 16,
   "metadata": {
    "collapsed": false
   },
   "outputs": [
    {
     "data": {
      "text/html": [
       "<div>\n",
       "<table border=\"1\" class=\"dataframe\">\n",
       "  <thead>\n",
       "    <tr style=\"text-align: right;\">\n",
       "      <th></th>\n",
       "      <th>State</th>\n",
       "      <th>HighQ</th>\n",
       "    </tr>\n",
       "  </thead>\n",
       "  <tbody>\n",
       "    <tr>\n",
       "      <th>0</th>\n",
       "      <td>alabama</td>\n",
       "      <td>336.504839</td>\n",
       "    </tr>\n",
       "    <tr>\n",
       "      <th>1</th>\n",
       "      <td>alaska</td>\n",
       "      <td>302.972581</td>\n",
       "    </tr>\n",
       "    <tr>\n",
       "      <th>2</th>\n",
       "      <td>arizona</td>\n",
       "      <td>297.782903</td>\n",
       "    </tr>\n",
       "    <tr>\n",
       "      <th>3</th>\n",
       "      <td>arkansas</td>\n",
       "      <td>341.705806</td>\n",
       "    </tr>\n",
       "    <tr>\n",
       "      <th>4</th>\n",
       "      <td>california</td>\n",
       "      <td>243.602258</td>\n",
       "    </tr>\n",
       "    <tr>\n",
       "      <th>5</th>\n",
       "      <td>colorado</td>\n",
       "      <td>243.273226</td>\n",
       "    </tr>\n",
       "    <tr>\n",
       "      <th>6</th>\n",
       "      <td>connecticut</td>\n",
       "      <td>336.442258</td>\n",
       "    </tr>\n",
       "    <tr>\n",
       "      <th>7</th>\n",
       "      <td>delaware</td>\n",
       "      <td>363.908387</td>\n",
       "    </tr>\n",
       "    <tr>\n",
       "      <th>8</th>\n",
       "      <td>district of columbia</td>\n",
       "      <td>348.107097</td>\n",
       "    </tr>\n",
       "    <tr>\n",
       "      <th>9</th>\n",
       "      <td>florida</td>\n",
       "      <td>300.604194</td>\n",
       "    </tr>\n",
       "    <tr>\n",
       "      <th>10</th>\n",
       "      <td>georgia</td>\n",
       "      <td>323.562581</td>\n",
       "    </tr>\n",
       "    <tr>\n",
       "      <th>11</th>\n",
       "      <td>hawaii</td>\n",
       "      <td>306.979677</td>\n",
       "    </tr>\n",
       "    <tr>\n",
       "      <th>12</th>\n",
       "      <td>idaho</td>\n",
       "      <td>274.990323</td>\n",
       "    </tr>\n",
       "    <tr>\n",
       "      <th>13</th>\n",
       "      <td>illinois</td>\n",
       "      <td>353.133226</td>\n",
       "    </tr>\n",
       "    <tr>\n",
       "      <th>14</th>\n",
       "      <td>indiana</td>\n",
       "      <td>332.059677</td>\n",
       "    </tr>\n",
       "    <tr>\n",
       "      <th>15</th>\n",
       "      <td>iowa</td>\n",
       "      <td>364.967742</td>\n",
       "    </tr>\n",
       "    <tr>\n",
       "      <th>16</th>\n",
       "      <td>kansas</td>\n",
       "      <td>349.559032</td>\n",
       "    </tr>\n",
       "    <tr>\n",
       "      <th>17</th>\n",
       "      <td>kentucky</td>\n",
       "      <td>339.014516</td>\n",
       "    </tr>\n",
       "    <tr>\n",
       "      <th>18</th>\n",
       "      <td>louisiana</td>\n",
       "      <td>361.621290</td>\n",
       "    </tr>\n",
       "    <tr>\n",
       "      <th>19</th>\n",
       "      <td>maine</td>\n",
       "      <td>310.723548</td>\n",
       "    </tr>\n",
       "    <tr>\n",
       "      <th>20</th>\n",
       "      <td>maryland</td>\n",
       "      <td>364.671935</td>\n",
       "    </tr>\n",
       "    <tr>\n",
       "      <th>21</th>\n",
       "      <td>massachusetts</td>\n",
       "      <td>344.880323</td>\n",
       "    </tr>\n",
       "    <tr>\n",
       "      <th>22</th>\n",
       "      <td>michigan</td>\n",
       "      <td>287.620000</td>\n",
       "    </tr>\n",
       "    <tr>\n",
       "      <th>23</th>\n",
       "      <td>minnesota</td>\n",
       "      <td>349.167097</td>\n",
       "    </tr>\n",
       "    <tr>\n",
       "      <th>24</th>\n",
       "      <td>mississippi</td>\n",
       "      <td>336.288065</td>\n",
       "    </tr>\n",
       "    <tr>\n",
       "      <th>25</th>\n",
       "      <td>missouri</td>\n",
       "      <td>351.059355</td>\n",
       "    </tr>\n",
       "    <tr>\n",
       "      <th>26</th>\n",
       "      <td>montana</td>\n",
       "      <td>265.517097</td>\n",
       "    </tr>\n",
       "    <tr>\n",
       "      <th>27</th>\n",
       "      <td>nebraska</td>\n",
       "      <td>335.264839</td>\n",
       "    </tr>\n",
       "    <tr>\n",
       "      <th>28</th>\n",
       "      <td>nevada</td>\n",
       "      <td>265.610968</td>\n",
       "    </tr>\n",
       "    <tr>\n",
       "      <th>29</th>\n",
       "      <td>new hampshire</td>\n",
       "      <td>353.643548</td>\n",
       "    </tr>\n",
       "    <tr>\n",
       "      <th>30</th>\n",
       "      <td>new jersey</td>\n",
       "      <td>345.144839</td>\n",
       "    </tr>\n",
       "    <tr>\n",
       "      <th>31</th>\n",
       "      <td>new mexico</td>\n",
       "      <td>288.175161</td>\n",
       "    </tr>\n",
       "    <tr>\n",
       "      <th>32</th>\n",
       "      <td>new york</td>\n",
       "      <td>343.555161</td>\n",
       "    </tr>\n",
       "    <tr>\n",
       "      <th>33</th>\n",
       "      <td>north carolina</td>\n",
       "      <td>344.903871</td>\n",
       "    </tr>\n",
       "    <tr>\n",
       "      <th>34</th>\n",
       "      <td>north dakota</td>\n",
       "      <td>392.652581</td>\n",
       "    </tr>\n",
       "    <tr>\n",
       "      <th>35</th>\n",
       "      <td>ohio</td>\n",
       "      <td>332.440323</td>\n",
       "    </tr>\n",
       "    <tr>\n",
       "      <th>36</th>\n",
       "      <td>oklahoma</td>\n",
       "      <td>353.359677</td>\n",
       "    </tr>\n",
       "    <tr>\n",
       "      <th>37</th>\n",
       "      <td>oregon</td>\n",
       "      <td>205.483226</td>\n",
       "    </tr>\n",
       "    <tr>\n",
       "      <th>38</th>\n",
       "      <td>pennsylvania</td>\n",
       "      <td>362.544194</td>\n",
       "    </tr>\n",
       "    <tr>\n",
       "      <th>39</th>\n",
       "      <td>rhode island</td>\n",
       "      <td>317.085806</td>\n",
       "    </tr>\n",
       "    <tr>\n",
       "      <th>40</th>\n",
       "      <td>south carolina</td>\n",
       "      <td>337.197419</td>\n",
       "    </tr>\n",
       "    <tr>\n",
       "      <th>41</th>\n",
       "      <td>south dakota</td>\n",
       "      <td>357.954516</td>\n",
       "    </tr>\n",
       "    <tr>\n",
       "      <th>42</th>\n",
       "      <td>tennessee</td>\n",
       "      <td>347.931613</td>\n",
       "    </tr>\n",
       "    <tr>\n",
       "      <th>43</th>\n",
       "      <td>texas</td>\n",
       "      <td>333.814194</td>\n",
       "    </tr>\n",
       "    <tr>\n",
       "      <th>44</th>\n",
       "      <td>utah</td>\n",
       "      <td>289.862258</td>\n",
       "    </tr>\n",
       "    <tr>\n",
       "      <th>45</th>\n",
       "      <td>vermont</td>\n",
       "      <td>370.526452</td>\n",
       "    </tr>\n",
       "    <tr>\n",
       "      <th>46</th>\n",
       "      <td>virginia</td>\n",
       "      <td>364.769032</td>\n",
       "    </tr>\n",
       "    <tr>\n",
       "      <th>47</th>\n",
       "      <td>washington</td>\n",
       "      <td>233.028387</td>\n",
       "    </tr>\n",
       "    <tr>\n",
       "      <th>48</th>\n",
       "      <td>west virginia</td>\n",
       "      <td>358.037742</td>\n",
       "    </tr>\n",
       "    <tr>\n",
       "      <th>49</th>\n",
       "      <td>wisconsin</td>\n",
       "      <td>349.942903</td>\n",
       "    </tr>\n",
       "    <tr>\n",
       "      <th>50</th>\n",
       "      <td>wyoming</td>\n",
       "      <td>320.450968</td>\n",
       "    </tr>\n",
       "  </tbody>\n",
       "</table>\n",
       "</div>"
      ],
      "text/plain": [
       "                   State       HighQ\n",
       "0                alabama  336.504839\n",
       "1                 alaska  302.972581\n",
       "2                arizona  297.782903\n",
       "3               arkansas  341.705806\n",
       "4             california  243.602258\n",
       "5               colorado  243.273226\n",
       "6            connecticut  336.442258\n",
       "7               delaware  363.908387\n",
       "8   district of columbia  348.107097\n",
       "9                florida  300.604194\n",
       "10               georgia  323.562581\n",
       "11                hawaii  306.979677\n",
       "12                 idaho  274.990323\n",
       "13              illinois  353.133226\n",
       "14               indiana  332.059677\n",
       "15                  iowa  364.967742\n",
       "16                kansas  349.559032\n",
       "17              kentucky  339.014516\n",
       "18             louisiana  361.621290\n",
       "19                 maine  310.723548\n",
       "20              maryland  364.671935\n",
       "21         massachusetts  344.880323\n",
       "22              michigan  287.620000\n",
       "23             minnesota  349.167097\n",
       "24           mississippi  336.288065\n",
       "25              missouri  351.059355\n",
       "26               montana  265.517097\n",
       "27              nebraska  335.264839\n",
       "28                nevada  265.610968\n",
       "29         new hampshire  353.643548\n",
       "30            new jersey  345.144839\n",
       "31            new mexico  288.175161\n",
       "32              new york  343.555161\n",
       "33        north carolina  344.903871\n",
       "34          north dakota  392.652581\n",
       "35                  ohio  332.440323\n",
       "36              oklahoma  353.359677\n",
       "37                oregon  205.483226\n",
       "38          pennsylvania  362.544194\n",
       "39          rhode island  317.085806\n",
       "40        south carolina  337.197419\n",
       "41          south dakota  357.954516\n",
       "42             tennessee  347.931613\n",
       "43                 texas  333.814194\n",
       "44                  utah  289.862258\n",
       "45               vermont  370.526452\n",
       "46              virginia  364.769032\n",
       "47            washington  233.028387\n",
       "48         west virginia  358.037742\n",
       "49             wisconsin  349.942903\n",
       "50               wyoming  320.450968"
      ]
     },
     "execution_count": 16,
     "metadata": {},
     "output_type": "execute_result"
    }
   ],
   "source": [
    "#The source price dataset for our model \n",
    "weed_jan2015_summarized"
   ]
  },
  {
   "cell_type": "code",
   "execution_count": 17,
   "metadata": {
    "collapsed": true
   },
   "outputs": [],
   "source": [
    "test_states = [\"iowa\", \"kentucky\", \"missouri\", \"nevada\", \"wyoming\", \\\n",
    "               \"south dakota\", \"new jersey\", \"michigan\", \"idaho\" ]"
   ]
  },
  {
   "cell_type": "code",
   "execution_count": 18,
   "metadata": {
    "collapsed": false
   },
   "outputs": [],
   "source": [
    "data_for_model = pd.merge(weed_jan2015_summarized, demo_pd, left_on=\"State\", right_on=\"region\")"
   ]
  },
  {
   "cell_type": "code",
   "execution_count": 19,
   "metadata": {
    "collapsed": false
   },
   "outputs": [
    {
     "data": {
      "text/html": [
       "<div>\n",
       "<table border=\"1\" class=\"dataframe\">\n",
       "  <thead>\n",
       "    <tr style=\"text-align: right;\">\n",
       "      <th></th>\n",
       "      <th>State</th>\n",
       "      <th>HighQ</th>\n",
       "      <th>region</th>\n",
       "      <th>total_population</th>\n",
       "      <th>percent_white</th>\n",
       "      <th>percent_black</th>\n",
       "      <th>percent_asian</th>\n",
       "      <th>percent_hispanic</th>\n",
       "      <th>per_capita_income</th>\n",
       "      <th>median_rent</th>\n",
       "      <th>median_age</th>\n",
       "    </tr>\n",
       "  </thead>\n",
       "  <tbody>\n",
       "    <tr>\n",
       "      <th>0</th>\n",
       "      <td>alabama</td>\n",
       "      <td>336.504839</td>\n",
       "      <td>alabama</td>\n",
       "      <td>4799277</td>\n",
       "      <td>67</td>\n",
       "      <td>26</td>\n",
       "      <td>1</td>\n",
       "      <td>4</td>\n",
       "      <td>23680</td>\n",
       "      <td>501</td>\n",
       "      <td>38.1</td>\n",
       "    </tr>\n",
       "    <tr>\n",
       "      <th>1</th>\n",
       "      <td>alaska</td>\n",
       "      <td>302.972581</td>\n",
       "      <td>alaska</td>\n",
       "      <td>720316</td>\n",
       "      <td>63</td>\n",
       "      <td>3</td>\n",
       "      <td>5</td>\n",
       "      <td>6</td>\n",
       "      <td>32651</td>\n",
       "      <td>978</td>\n",
       "      <td>33.6</td>\n",
       "    </tr>\n",
       "    <tr>\n",
       "      <th>2</th>\n",
       "      <td>arizona</td>\n",
       "      <td>297.782903</td>\n",
       "      <td>arizona</td>\n",
       "      <td>6479703</td>\n",
       "      <td>57</td>\n",
       "      <td>4</td>\n",
       "      <td>3</td>\n",
       "      <td>30</td>\n",
       "      <td>25358</td>\n",
       "      <td>747</td>\n",
       "      <td>36.3</td>\n",
       "    </tr>\n",
       "    <tr>\n",
       "      <th>3</th>\n",
       "      <td>arkansas</td>\n",
       "      <td>341.705806</td>\n",
       "      <td>arkansas</td>\n",
       "      <td>2933369</td>\n",
       "      <td>74</td>\n",
       "      <td>15</td>\n",
       "      <td>1</td>\n",
       "      <td>7</td>\n",
       "      <td>22170</td>\n",
       "      <td>480</td>\n",
       "      <td>37.5</td>\n",
       "    </tr>\n",
       "    <tr>\n",
       "      <th>4</th>\n",
       "      <td>california</td>\n",
       "      <td>243.602258</td>\n",
       "      <td>california</td>\n",
       "      <td>37659181</td>\n",
       "      <td>40</td>\n",
       "      <td>6</td>\n",
       "      <td>13</td>\n",
       "      <td>38</td>\n",
       "      <td>29527</td>\n",
       "      <td>1119</td>\n",
       "      <td>35.4</td>\n",
       "    </tr>\n",
       "  </tbody>\n",
       "</table>\n",
       "</div>"
      ],
      "text/plain": [
       "        State       HighQ      region  total_population  percent_white  \\\n",
       "0     alabama  336.504839     alabama           4799277             67   \n",
       "1      alaska  302.972581      alaska            720316             63   \n",
       "2     arizona  297.782903     arizona           6479703             57   \n",
       "3    arkansas  341.705806    arkansas           2933369             74   \n",
       "4  california  243.602258  california          37659181             40   \n",
       "\n",
       "   percent_black  percent_asian  percent_hispanic  per_capita_income  \\\n",
       "0             26              1                 4              23680   \n",
       "1              3              5                 6              32651   \n",
       "2              4              3                30              25358   \n",
       "3             15              1                 7              22170   \n",
       "4              6             13                38              29527   \n",
       "\n",
       "   median_rent  median_age  \n",
       "0          501        38.1  \n",
       "1          978        33.6  \n",
       "2          747        36.3  \n",
       "3          480        37.5  \n",
       "4         1119        35.4  "
      ]
     },
     "execution_count": 19,
     "metadata": {},
     "output_type": "execute_result"
    }
   ],
   "source": [
    "data_for_model.head()"
   ]
  },
  {
   "cell_type": "code",
   "execution_count": 20,
   "metadata": {
    "collapsed": false
   },
   "outputs": [],
   "source": [
    "#Now, creating train and test dataset\n",
    "criterion = weed_jan2015_summarized[\"State\"].map(lambda x: x in test_states)\n",
    "#Another way to do it\n",
    "#criterion = weed_jan2015_summarized.State.isin(test_states)"
   ]
  },
  {
   "cell_type": "code",
   "execution_count": 21,
   "metadata": {
    "collapsed": false
   },
   "outputs": [
    {
     "name": "stdout",
     "output_type": "stream",
     "text": [
      "Train data labels: \n",
      "0      True\n",
      "1      True\n",
      "2      True\n",
      "3      True\n",
      "4      True\n",
      "5      True\n",
      "6      True\n",
      "7      True\n",
      "8      True\n",
      "9      True\n",
      "10     True\n",
      "11     True\n",
      "12    False\n",
      "13     True\n",
      "14     True\n",
      "15    False\n",
      "16     True\n",
      "17    False\n",
      "18     True\n",
      "19     True\n",
      "20     True\n",
      "21     True\n",
      "22    False\n",
      "23     True\n",
      "24     True\n",
      "25    False\n",
      "26     True\n",
      "27     True\n",
      "28    False\n",
      "29     True\n",
      "30    False\n",
      "31     True\n",
      "32     True\n",
      "33     True\n",
      "34     True\n",
      "35     True\n",
      "36     True\n",
      "37     True\n",
      "38     True\n",
      "39     True\n",
      "40     True\n",
      "41    False\n",
      "42     True\n",
      "43     True\n",
      "44     True\n",
      "45     True\n",
      "46     True\n",
      "47     True\n",
      "48     True\n",
      "49     True\n",
      "50    False\n",
      "Name: State, dtype: bool \n",
      "\n",
      "Test data labels: \n",
      "0     False\n",
      "1     False\n",
      "2     False\n",
      "3     False\n",
      "4     False\n",
      "5     False\n",
      "6     False\n",
      "7     False\n",
      "8     False\n",
      "9     False\n",
      "10    False\n",
      "11    False\n",
      "12     True\n",
      "13    False\n",
      "14    False\n",
      "15     True\n",
      "16    False\n",
      "17     True\n",
      "18    False\n",
      "19    False\n",
      "20    False\n",
      "21    False\n",
      "22     True\n",
      "23    False\n",
      "24    False\n",
      "25     True\n",
      "26    False\n",
      "27    False\n",
      "28     True\n",
      "29    False\n",
      "30     True\n",
      "31    False\n",
      "32    False\n",
      "33    False\n",
      "34    False\n",
      "35    False\n",
      "36    False\n",
      "37    False\n",
      "38    False\n",
      "39    False\n",
      "40    False\n",
      "41     True\n",
      "42    False\n",
      "43    False\n",
      "44    False\n",
      "45    False\n",
      "46    False\n",
      "47    False\n",
      "48    False\n",
      "49    False\n",
      "50     True\n",
      "Name: State, dtype: bool\n"
     ]
    }
   ],
   "source": [
    "print \"Train data labels: \\n\", ~criterion, \"\\n\\n\", \"Test data labels: \\n\", criterion"
   ]
  },
  {
   "cell_type": "code",
   "execution_count": 22,
   "metadata": {
    "collapsed": false
   },
   "outputs": [],
   "source": [
    "train = data_for_model[~criterion]\n",
    "test = data_for_model[criterion]"
   ]
  },
  {
   "cell_type": "code",
   "execution_count": 23,
   "metadata": {
    "collapsed": false
   },
   "outputs": [
    {
     "data": {
      "text/plain": [
       "((42, 11), (9, 11))"
      ]
     },
     "execution_count": 23,
     "metadata": {},
     "output_type": "execute_result"
    }
   ],
   "source": [
    "train.shape, test.shape"
   ]
  },
  {
   "cell_type": "code",
   "execution_count": 24,
   "metadata": {
    "collapsed": false
   },
   "outputs": [
    {
     "data": {
      "text/html": [
       "<div>\n",
       "<table border=\"1\" class=\"dataframe\">\n",
       "  <thead>\n",
       "    <tr style=\"text-align: right;\">\n",
       "      <th></th>\n",
       "      <th>State</th>\n",
       "      <th>HighQ</th>\n",
       "      <th>region</th>\n",
       "      <th>total_population</th>\n",
       "      <th>percent_white</th>\n",
       "      <th>percent_black</th>\n",
       "      <th>percent_asian</th>\n",
       "      <th>percent_hispanic</th>\n",
       "      <th>per_capita_income</th>\n",
       "      <th>median_rent</th>\n",
       "      <th>median_age</th>\n",
       "    </tr>\n",
       "  </thead>\n",
       "  <tbody>\n",
       "    <tr>\n",
       "      <th>0</th>\n",
       "      <td>alabama</td>\n",
       "      <td>336.504839</td>\n",
       "      <td>alabama</td>\n",
       "      <td>4799277</td>\n",
       "      <td>67</td>\n",
       "      <td>26</td>\n",
       "      <td>1</td>\n",
       "      <td>4</td>\n",
       "      <td>23680</td>\n",
       "      <td>501</td>\n",
       "      <td>38.1</td>\n",
       "    </tr>\n",
       "    <tr>\n",
       "      <th>1</th>\n",
       "      <td>alaska</td>\n",
       "      <td>302.972581</td>\n",
       "      <td>alaska</td>\n",
       "      <td>720316</td>\n",
       "      <td>63</td>\n",
       "      <td>3</td>\n",
       "      <td>5</td>\n",
       "      <td>6</td>\n",
       "      <td>32651</td>\n",
       "      <td>978</td>\n",
       "      <td>33.6</td>\n",
       "    </tr>\n",
       "    <tr>\n",
       "      <th>2</th>\n",
       "      <td>arizona</td>\n",
       "      <td>297.782903</td>\n",
       "      <td>arizona</td>\n",
       "      <td>6479703</td>\n",
       "      <td>57</td>\n",
       "      <td>4</td>\n",
       "      <td>3</td>\n",
       "      <td>30</td>\n",
       "      <td>25358</td>\n",
       "      <td>747</td>\n",
       "      <td>36.3</td>\n",
       "    </tr>\n",
       "    <tr>\n",
       "      <th>3</th>\n",
       "      <td>arkansas</td>\n",
       "      <td>341.705806</td>\n",
       "      <td>arkansas</td>\n",
       "      <td>2933369</td>\n",
       "      <td>74</td>\n",
       "      <td>15</td>\n",
       "      <td>1</td>\n",
       "      <td>7</td>\n",
       "      <td>22170</td>\n",
       "      <td>480</td>\n",
       "      <td>37.5</td>\n",
       "    </tr>\n",
       "    <tr>\n",
       "      <th>4</th>\n",
       "      <td>california</td>\n",
       "      <td>243.602258</td>\n",
       "      <td>california</td>\n",
       "      <td>37659181</td>\n",
       "      <td>40</td>\n",
       "      <td>6</td>\n",
       "      <td>13</td>\n",
       "      <td>38</td>\n",
       "      <td>29527</td>\n",
       "      <td>1119</td>\n",
       "      <td>35.4</td>\n",
       "    </tr>\n",
       "    <tr>\n",
       "      <th>5</th>\n",
       "      <td>colorado</td>\n",
       "      <td>243.273226</td>\n",
       "      <td>colorado</td>\n",
       "      <td>5119329</td>\n",
       "      <td>70</td>\n",
       "      <td>4</td>\n",
       "      <td>3</td>\n",
       "      <td>21</td>\n",
       "      <td>31109</td>\n",
       "      <td>825</td>\n",
       "      <td>36.1</td>\n",
       "    </tr>\n",
       "    <tr>\n",
       "      <th>6</th>\n",
       "      <td>connecticut</td>\n",
       "      <td>336.442258</td>\n",
       "      <td>connecticut</td>\n",
       "      <td>3583561</td>\n",
       "      <td>70</td>\n",
       "      <td>9</td>\n",
       "      <td>4</td>\n",
       "      <td>14</td>\n",
       "      <td>37892</td>\n",
       "      <td>880</td>\n",
       "      <td>40.2</td>\n",
       "    </tr>\n",
       "    <tr>\n",
       "      <th>7</th>\n",
       "      <td>delaware</td>\n",
       "      <td>363.908387</td>\n",
       "      <td>delaware</td>\n",
       "      <td>908446</td>\n",
       "      <td>65</td>\n",
       "      <td>21</td>\n",
       "      <td>3</td>\n",
       "      <td>8</td>\n",
       "      <td>29819</td>\n",
       "      <td>828</td>\n",
       "      <td>38.9</td>\n",
       "    </tr>\n",
       "    <tr>\n",
       "      <th>8</th>\n",
       "      <td>district of columbia</td>\n",
       "      <td>348.107097</td>\n",
       "      <td>district of columbia</td>\n",
       "      <td>619371</td>\n",
       "      <td>35</td>\n",
       "      <td>49</td>\n",
       "      <td>3</td>\n",
       "      <td>10</td>\n",
       "      <td>45290</td>\n",
       "      <td>1154</td>\n",
       "      <td>33.8</td>\n",
       "    </tr>\n",
       "    <tr>\n",
       "      <th>9</th>\n",
       "      <td>florida</td>\n",
       "      <td>300.604194</td>\n",
       "      <td>florida</td>\n",
       "      <td>19091156</td>\n",
       "      <td>57</td>\n",
       "      <td>15</td>\n",
       "      <td>2</td>\n",
       "      <td>23</td>\n",
       "      <td>26236</td>\n",
       "      <td>838</td>\n",
       "      <td>41.0</td>\n",
       "    </tr>\n",
       "    <tr>\n",
       "      <th>10</th>\n",
       "      <td>georgia</td>\n",
       "      <td>323.562581</td>\n",
       "      <td>georgia</td>\n",
       "      <td>9810417</td>\n",
       "      <td>55</td>\n",
       "      <td>30</td>\n",
       "      <td>3</td>\n",
       "      <td>9</td>\n",
       "      <td>25182</td>\n",
       "      <td>673</td>\n",
       "      <td>35.6</td>\n",
       "    </tr>\n",
       "    <tr>\n",
       "      <th>11</th>\n",
       "      <td>hawaii</td>\n",
       "      <td>306.979677</td>\n",
       "      <td>hawaii</td>\n",
       "      <td>1376298</td>\n",
       "      <td>23</td>\n",
       "      <td>2</td>\n",
       "      <td>37</td>\n",
       "      <td>9</td>\n",
       "      <td>29305</td>\n",
       "      <td>1220</td>\n",
       "      <td>38.3</td>\n",
       "    </tr>\n",
       "    <tr>\n",
       "      <th>13</th>\n",
       "      <td>illinois</td>\n",
       "      <td>353.133226</td>\n",
       "      <td>illinois</td>\n",
       "      <td>12848554</td>\n",
       "      <td>63</td>\n",
       "      <td>14</td>\n",
       "      <td>5</td>\n",
       "      <td>16</td>\n",
       "      <td>29666</td>\n",
       "      <td>759</td>\n",
       "      <td>36.8</td>\n",
       "    </tr>\n",
       "    <tr>\n",
       "      <th>14</th>\n",
       "      <td>indiana</td>\n",
       "      <td>332.059677</td>\n",
       "      <td>indiana</td>\n",
       "      <td>6514861</td>\n",
       "      <td>81</td>\n",
       "      <td>9</td>\n",
       "      <td>2</td>\n",
       "      <td>6</td>\n",
       "      <td>24635</td>\n",
       "      <td>577</td>\n",
       "      <td>37.1</td>\n",
       "    </tr>\n",
       "    <tr>\n",
       "      <th>16</th>\n",
       "      <td>kansas</td>\n",
       "      <td>349.559032</td>\n",
       "      <td>kansas</td>\n",
       "      <td>2868107</td>\n",
       "      <td>78</td>\n",
       "      <td>6</td>\n",
       "      <td>2</td>\n",
       "      <td>11</td>\n",
       "      <td>26929</td>\n",
       "      <td>551</td>\n",
       "      <td>36.0</td>\n",
       "    </tr>\n",
       "    <tr>\n",
       "      <th>18</th>\n",
       "      <td>louisiana</td>\n",
       "      <td>361.621290</td>\n",
       "      <td>louisiana</td>\n",
       "      <td>4567968</td>\n",
       "      <td>60</td>\n",
       "      <td>32</td>\n",
       "      <td>2</td>\n",
       "      <td>4</td>\n",
       "      <td>24442</td>\n",
       "      <td>610</td>\n",
       "      <td>36.0</td>\n",
       "    </tr>\n",
       "    <tr>\n",
       "      <th>19</th>\n",
       "      <td>maine</td>\n",
       "      <td>310.723548</td>\n",
       "      <td>maine</td>\n",
       "      <td>1328320</td>\n",
       "      <td>94</td>\n",
       "      <td>1</td>\n",
       "      <td>1</td>\n",
       "      <td>1</td>\n",
       "      <td>26824</td>\n",
       "      <td>664</td>\n",
       "      <td>43.2</td>\n",
       "    </tr>\n",
       "    <tr>\n",
       "      <th>20</th>\n",
       "      <td>maryland</td>\n",
       "      <td>364.671935</td>\n",
       "      <td>maryland</td>\n",
       "      <td>5834299</td>\n",
       "      <td>54</td>\n",
       "      <td>29</td>\n",
       "      <td>6</td>\n",
       "      <td>8</td>\n",
       "      <td>36354</td>\n",
       "      <td>1034</td>\n",
       "      <td>38.0</td>\n",
       "    </tr>\n",
       "    <tr>\n",
       "      <th>21</th>\n",
       "      <td>massachusetts</td>\n",
       "      <td>344.880323</td>\n",
       "      <td>massachusetts</td>\n",
       "      <td>6605058</td>\n",
       "      <td>76</td>\n",
       "      <td>6</td>\n",
       "      <td>6</td>\n",
       "      <td>10</td>\n",
       "      <td>35763</td>\n",
       "      <td>936</td>\n",
       "      <td>39.2</td>\n",
       "    </tr>\n",
       "    <tr>\n",
       "      <th>23</th>\n",
       "      <td>minnesota</td>\n",
       "      <td>349.167097</td>\n",
       "      <td>minnesota</td>\n",
       "      <td>5347740</td>\n",
       "      <td>83</td>\n",
       "      <td>5</td>\n",
       "      <td>4</td>\n",
       "      <td>5</td>\n",
       "      <td>30913</td>\n",
       "      <td>734</td>\n",
       "      <td>37.6</td>\n",
       "    </tr>\n",
       "    <tr>\n",
       "      <th>24</th>\n",
       "      <td>mississippi</td>\n",
       "      <td>336.288065</td>\n",
       "      <td>mississippi</td>\n",
       "      <td>2976872</td>\n",
       "      <td>58</td>\n",
       "      <td>37</td>\n",
       "      <td>1</td>\n",
       "      <td>3</td>\n",
       "      <td>20618</td>\n",
       "      <td>510</td>\n",
       "      <td>36.2</td>\n",
       "    </tr>\n",
       "    <tr>\n",
       "      <th>26</th>\n",
       "      <td>montana</td>\n",
       "      <td>265.517097</td>\n",
       "      <td>montana</td>\n",
       "      <td>998554</td>\n",
       "      <td>87</td>\n",
       "      <td>0</td>\n",
       "      <td>1</td>\n",
       "      <td>3</td>\n",
       "      <td>25373</td>\n",
       "      <td>577</td>\n",
       "      <td>39.9</td>\n",
       "    </tr>\n",
       "    <tr>\n",
       "      <th>27</th>\n",
       "      <td>nebraska</td>\n",
       "      <td>335.264839</td>\n",
       "      <td>nebraska</td>\n",
       "      <td>1841625</td>\n",
       "      <td>82</td>\n",
       "      <td>4</td>\n",
       "      <td>2</td>\n",
       "      <td>9</td>\n",
       "      <td>26899</td>\n",
       "      <td>563</td>\n",
       "      <td>36.3</td>\n",
       "    </tr>\n",
       "    <tr>\n",
       "      <th>29</th>\n",
       "      <td>new hampshire</td>\n",
       "      <td>353.643548</td>\n",
       "      <td>new hampshire</td>\n",
       "      <td>1319171</td>\n",
       "      <td>92</td>\n",
       "      <td>1</td>\n",
       "      <td>2</td>\n",
       "      <td>3</td>\n",
       "      <td>33134</td>\n",
       "      <td>878</td>\n",
       "      <td>41.5</td>\n",
       "    </tr>\n",
       "    <tr>\n",
       "      <th>31</th>\n",
       "      <td>new mexico</td>\n",
       "      <td>288.175161</td>\n",
       "      <td>new mexico</td>\n",
       "      <td>2069706</td>\n",
       "      <td>40</td>\n",
       "      <td>2</td>\n",
       "      <td>1</td>\n",
       "      <td>47</td>\n",
       "      <td>23763</td>\n",
       "      <td>635</td>\n",
       "      <td>36.7</td>\n",
       "    </tr>\n",
       "    <tr>\n",
       "      <th>32</th>\n",
       "      <td>new york</td>\n",
       "      <td>343.555161</td>\n",
       "      <td>new york</td>\n",
       "      <td>19487053</td>\n",
       "      <td>58</td>\n",
       "      <td>14</td>\n",
       "      <td>8</td>\n",
       "      <td>18</td>\n",
       "      <td>32382</td>\n",
       "      <td>963</td>\n",
       "      <td>38.1</td>\n",
       "    </tr>\n",
       "    <tr>\n",
       "      <th>33</th>\n",
       "      <td>north carolina</td>\n",
       "      <td>344.903871</td>\n",
       "      <td>north carolina</td>\n",
       "      <td>9651380</td>\n",
       "      <td>65</td>\n",
       "      <td>21</td>\n",
       "      <td>2</td>\n",
       "      <td>9</td>\n",
       "      <td>25284</td>\n",
       "      <td>602</td>\n",
       "      <td>37.6</td>\n",
       "    </tr>\n",
       "    <tr>\n",
       "      <th>34</th>\n",
       "      <td>north dakota</td>\n",
       "      <td>392.652581</td>\n",
       "      <td>north dakota</td>\n",
       "      <td>689781</td>\n",
       "      <td>88</td>\n",
       "      <td>1</td>\n",
       "      <td>1</td>\n",
       "      <td>2</td>\n",
       "      <td>29732</td>\n",
       "      <td>564</td>\n",
       "      <td>36.4</td>\n",
       "    </tr>\n",
       "    <tr>\n",
       "      <th>35</th>\n",
       "      <td>ohio</td>\n",
       "      <td>332.440323</td>\n",
       "      <td>ohio</td>\n",
       "      <td>11549590</td>\n",
       "      <td>81</td>\n",
       "      <td>12</td>\n",
       "      <td>2</td>\n",
       "      <td>3</td>\n",
       "      <td>26046</td>\n",
       "      <td>562</td>\n",
       "      <td>39.0</td>\n",
       "    </tr>\n",
       "    <tr>\n",
       "      <th>36</th>\n",
       "      <td>oklahoma</td>\n",
       "      <td>353.359677</td>\n",
       "      <td>oklahoma</td>\n",
       "      <td>3785742</td>\n",
       "      <td>68</td>\n",
       "      <td>7</td>\n",
       "      <td>2</td>\n",
       "      <td>9</td>\n",
       "      <td>24208</td>\n",
       "      <td>525</td>\n",
       "      <td>36.2</td>\n",
       "    </tr>\n",
       "    <tr>\n",
       "      <th>37</th>\n",
       "      <td>oregon</td>\n",
       "      <td>205.483226</td>\n",
       "      <td>oregon</td>\n",
       "      <td>3868721</td>\n",
       "      <td>78</td>\n",
       "      <td>2</td>\n",
       "      <td>4</td>\n",
       "      <td>12</td>\n",
       "      <td>26809</td>\n",
       "      <td>749</td>\n",
       "      <td>38.7</td>\n",
       "    </tr>\n",
       "    <tr>\n",
       "      <th>38</th>\n",
       "      <td>pennsylvania</td>\n",
       "      <td>362.544194</td>\n",
       "      <td>pennsylvania</td>\n",
       "      <td>12731381</td>\n",
       "      <td>79</td>\n",
       "      <td>10</td>\n",
       "      <td>3</td>\n",
       "      <td>6</td>\n",
       "      <td>28502</td>\n",
       "      <td>652</td>\n",
       "      <td>40.3</td>\n",
       "    </tr>\n",
       "    <tr>\n",
       "      <th>39</th>\n",
       "      <td>rhode island</td>\n",
       "      <td>317.085806</td>\n",
       "      <td>rhode island</td>\n",
       "      <td>1051695</td>\n",
       "      <td>76</td>\n",
       "      <td>5</td>\n",
       "      <td>3</td>\n",
       "      <td>13</td>\n",
       "      <td>30469</td>\n",
       "      <td>781</td>\n",
       "      <td>39.6</td>\n",
       "    </tr>\n",
       "    <tr>\n",
       "      <th>40</th>\n",
       "      <td>south carolina</td>\n",
       "      <td>337.197419</td>\n",
       "      <td>south carolina</td>\n",
       "      <td>4679602</td>\n",
       "      <td>64</td>\n",
       "      <td>28</td>\n",
       "      <td>1</td>\n",
       "      <td>5</td>\n",
       "      <td>23943</td>\n",
       "      <td>582</td>\n",
       "      <td>38.1</td>\n",
       "    </tr>\n",
       "    <tr>\n",
       "      <th>42</th>\n",
       "      <td>tennessee</td>\n",
       "      <td>347.931613</td>\n",
       "      <td>tennessee</td>\n",
       "      <td>6402387</td>\n",
       "      <td>75</td>\n",
       "      <td>17</td>\n",
       "      <td>1</td>\n",
       "      <td>5</td>\n",
       "      <td>24409</td>\n",
       "      <td>568</td>\n",
       "      <td>38.2</td>\n",
       "    </tr>\n",
       "    <tr>\n",
       "      <th>43</th>\n",
       "      <td>texas</td>\n",
       "      <td>333.814194</td>\n",
       "      <td>texas</td>\n",
       "      <td>25639373</td>\n",
       "      <td>45</td>\n",
       "      <td>12</td>\n",
       "      <td>4</td>\n",
       "      <td>38</td>\n",
       "      <td>26019</td>\n",
       "      <td>688</td>\n",
       "      <td>33.8</td>\n",
       "    </tr>\n",
       "    <tr>\n",
       "      <th>44</th>\n",
       "      <td>utah</td>\n",
       "      <td>289.862258</td>\n",
       "      <td>utah</td>\n",
       "      <td>2813673</td>\n",
       "      <td>80</td>\n",
       "      <td>1</td>\n",
       "      <td>2</td>\n",
       "      <td>13</td>\n",
       "      <td>23873</td>\n",
       "      <td>739</td>\n",
       "      <td>29.6</td>\n",
       "    </tr>\n",
       "    <tr>\n",
       "      <th>45</th>\n",
       "      <td>vermont</td>\n",
       "      <td>370.526452</td>\n",
       "      <td>vermont</td>\n",
       "      <td>625904</td>\n",
       "      <td>94</td>\n",
       "      <td>1</td>\n",
       "      <td>1</td>\n",
       "      <td>2</td>\n",
       "      <td>29167</td>\n",
       "      <td>754</td>\n",
       "      <td>42.0</td>\n",
       "    </tr>\n",
       "    <tr>\n",
       "      <th>46</th>\n",
       "      <td>virginia</td>\n",
       "      <td>364.769032</td>\n",
       "      <td>virginia</td>\n",
       "      <td>8100653</td>\n",
       "      <td>64</td>\n",
       "      <td>19</td>\n",
       "      <td>6</td>\n",
       "      <td>8</td>\n",
       "      <td>33493</td>\n",
       "      <td>910</td>\n",
       "      <td>37.5</td>\n",
       "    </tr>\n",
       "    <tr>\n",
       "      <th>47</th>\n",
       "      <td>washington</td>\n",
       "      <td>233.028387</td>\n",
       "      <td>washington</td>\n",
       "      <td>6819579</td>\n",
       "      <td>72</td>\n",
       "      <td>3</td>\n",
       "      <td>7</td>\n",
       "      <td>11</td>\n",
       "      <td>30742</td>\n",
       "      <td>853</td>\n",
       "      <td>37.3</td>\n",
       "    </tr>\n",
       "    <tr>\n",
       "      <th>48</th>\n",
       "      <td>west virginia</td>\n",
       "      <td>358.037742</td>\n",
       "      <td>west virginia</td>\n",
       "      <td>1853619</td>\n",
       "      <td>93</td>\n",
       "      <td>3</td>\n",
       "      <td>1</td>\n",
       "      <td>1</td>\n",
       "      <td>22966</td>\n",
       "      <td>448</td>\n",
       "      <td>41.5</td>\n",
       "    </tr>\n",
       "    <tr>\n",
       "      <th>49</th>\n",
       "      <td>wisconsin</td>\n",
       "      <td>349.942903</td>\n",
       "      <td>wisconsin</td>\n",
       "      <td>5706871</td>\n",
       "      <td>83</td>\n",
       "      <td>6</td>\n",
       "      <td>2</td>\n",
       "      <td>6</td>\n",
       "      <td>27523</td>\n",
       "      <td>636</td>\n",
       "      <td>38.7</td>\n",
       "    </tr>\n",
       "  </tbody>\n",
       "</table>\n",
       "</div>"
      ],
      "text/plain": [
       "                   State       HighQ                region  total_population  \\\n",
       "0                alabama  336.504839               alabama           4799277   \n",
       "1                 alaska  302.972581                alaska            720316   \n",
       "2                arizona  297.782903               arizona           6479703   \n",
       "3               arkansas  341.705806              arkansas           2933369   \n",
       "4             california  243.602258            california          37659181   \n",
       "5               colorado  243.273226              colorado           5119329   \n",
       "6            connecticut  336.442258           connecticut           3583561   \n",
       "7               delaware  363.908387              delaware            908446   \n",
       "8   district of columbia  348.107097  district of columbia            619371   \n",
       "9                florida  300.604194               florida          19091156   \n",
       "10               georgia  323.562581               georgia           9810417   \n",
       "11                hawaii  306.979677                hawaii           1376298   \n",
       "13              illinois  353.133226              illinois          12848554   \n",
       "14               indiana  332.059677               indiana           6514861   \n",
       "16                kansas  349.559032                kansas           2868107   \n",
       "18             louisiana  361.621290             louisiana           4567968   \n",
       "19                 maine  310.723548                 maine           1328320   \n",
       "20              maryland  364.671935              maryland           5834299   \n",
       "21         massachusetts  344.880323         massachusetts           6605058   \n",
       "23             minnesota  349.167097             minnesota           5347740   \n",
       "24           mississippi  336.288065           mississippi           2976872   \n",
       "26               montana  265.517097               montana            998554   \n",
       "27              nebraska  335.264839              nebraska           1841625   \n",
       "29         new hampshire  353.643548         new hampshire           1319171   \n",
       "31            new mexico  288.175161            new mexico           2069706   \n",
       "32              new york  343.555161              new york          19487053   \n",
       "33        north carolina  344.903871        north carolina           9651380   \n",
       "34          north dakota  392.652581          north dakota            689781   \n",
       "35                  ohio  332.440323                  ohio          11549590   \n",
       "36              oklahoma  353.359677              oklahoma           3785742   \n",
       "37                oregon  205.483226                oregon           3868721   \n",
       "38          pennsylvania  362.544194          pennsylvania          12731381   \n",
       "39          rhode island  317.085806          rhode island           1051695   \n",
       "40        south carolina  337.197419        south carolina           4679602   \n",
       "42             tennessee  347.931613             tennessee           6402387   \n",
       "43                 texas  333.814194                 texas          25639373   \n",
       "44                  utah  289.862258                  utah           2813673   \n",
       "45               vermont  370.526452               vermont            625904   \n",
       "46              virginia  364.769032              virginia           8100653   \n",
       "47            washington  233.028387            washington           6819579   \n",
       "48         west virginia  358.037742         west virginia           1853619   \n",
       "49             wisconsin  349.942903             wisconsin           5706871   \n",
       "\n",
       "    percent_white  percent_black  percent_asian  percent_hispanic  \\\n",
       "0              67             26              1                 4   \n",
       "1              63              3              5                 6   \n",
       "2              57              4              3                30   \n",
       "3              74             15              1                 7   \n",
       "4              40              6             13                38   \n",
       "5              70              4              3                21   \n",
       "6              70              9              4                14   \n",
       "7              65             21              3                 8   \n",
       "8              35             49              3                10   \n",
       "9              57             15              2                23   \n",
       "10             55             30              3                 9   \n",
       "11             23              2             37                 9   \n",
       "13             63             14              5                16   \n",
       "14             81              9              2                 6   \n",
       "16             78              6              2                11   \n",
       "18             60             32              2                 4   \n",
       "19             94              1              1                 1   \n",
       "20             54             29              6                 8   \n",
       "21             76              6              6                10   \n",
       "23             83              5              4                 5   \n",
       "24             58             37              1                 3   \n",
       "26             87              0              1                 3   \n",
       "27             82              4              2                 9   \n",
       "29             92              1              2                 3   \n",
       "31             40              2              1                47   \n",
       "32             58             14              8                18   \n",
       "33             65             21              2                 9   \n",
       "34             88              1              1                 2   \n",
       "35             81             12              2                 3   \n",
       "36             68              7              2                 9   \n",
       "37             78              2              4                12   \n",
       "38             79             10              3                 6   \n",
       "39             76              5              3                13   \n",
       "40             64             28              1                 5   \n",
       "42             75             17              1                 5   \n",
       "43             45             12              4                38   \n",
       "44             80              1              2                13   \n",
       "45             94              1              1                 2   \n",
       "46             64             19              6                 8   \n",
       "47             72              3              7                11   \n",
       "48             93              3              1                 1   \n",
       "49             83              6              2                 6   \n",
       "\n",
       "    per_capita_income  median_rent  median_age  \n",
       "0               23680          501        38.1  \n",
       "1               32651          978        33.6  \n",
       "2               25358          747        36.3  \n",
       "3               22170          480        37.5  \n",
       "4               29527         1119        35.4  \n",
       "5               31109          825        36.1  \n",
       "6               37892          880        40.2  \n",
       "7               29819          828        38.9  \n",
       "8               45290         1154        33.8  \n",
       "9               26236          838        41.0  \n",
       "10              25182          673        35.6  \n",
       "11              29305         1220        38.3  \n",
       "13              29666          759        36.8  \n",
       "14              24635          577        37.1  \n",
       "16              26929          551        36.0  \n",
       "18              24442          610        36.0  \n",
       "19              26824          664        43.2  \n",
       "20              36354         1034        38.0  \n",
       "21              35763          936        39.2  \n",
       "23              30913          734        37.6  \n",
       "24              20618          510        36.2  \n",
       "26              25373          577        39.9  \n",
       "27              26899          563        36.3  \n",
       "29              33134          878        41.5  \n",
       "31              23763          635        36.7  \n",
       "32              32382          963        38.1  \n",
       "33              25284          602        37.6  \n",
       "34              29732          564        36.4  \n",
       "35              26046          562        39.0  \n",
       "36              24208          525        36.2  \n",
       "37              26809          749        38.7  \n",
       "38              28502          652        40.3  \n",
       "39              30469          781        39.6  \n",
       "40              23943          582        38.1  \n",
       "42              24409          568        38.2  \n",
       "43              26019          688        33.8  \n",
       "44              23873          739        29.6  \n",
       "45              29167          754        42.0  \n",
       "46              33493          910        37.5  \n",
       "47              30742          853        37.3  \n",
       "48              22966          448        41.5  \n",
       "49              27523          636        38.7  "
      ]
     },
     "execution_count": 24,
     "metadata": {},
     "output_type": "execute_result"
    }
   ],
   "source": [
    "train"
   ]
  },
  {
   "cell_type": "code",
   "execution_count": 25,
   "metadata": {
    "collapsed": false
   },
   "outputs": [
    {
     "data": {
      "text/html": [
       "<div>\n",
       "<table border=\"1\" class=\"dataframe\">\n",
       "  <thead>\n",
       "    <tr style=\"text-align: right;\">\n",
       "      <th></th>\n",
       "      <th>State</th>\n",
       "      <th>HighQ</th>\n",
       "      <th>region</th>\n",
       "      <th>total_population</th>\n",
       "      <th>percent_white</th>\n",
       "      <th>percent_black</th>\n",
       "      <th>percent_asian</th>\n",
       "      <th>percent_hispanic</th>\n",
       "      <th>per_capita_income</th>\n",
       "      <th>median_rent</th>\n",
       "      <th>median_age</th>\n",
       "    </tr>\n",
       "  </thead>\n",
       "  <tbody>\n",
       "    <tr>\n",
       "      <th>12</th>\n",
       "      <td>idaho</td>\n",
       "      <td>274.990323</td>\n",
       "      <td>idaho</td>\n",
       "      <td>1583364</td>\n",
       "      <td>84</td>\n",
       "      <td>1</td>\n",
       "      <td>1</td>\n",
       "      <td>11</td>\n",
       "      <td>22568</td>\n",
       "      <td>607</td>\n",
       "      <td>34.9</td>\n",
       "    </tr>\n",
       "    <tr>\n",
       "      <th>15</th>\n",
       "      <td>iowa</td>\n",
       "      <td>364.967742</td>\n",
       "      <td>iowa</td>\n",
       "      <td>3062553</td>\n",
       "      <td>88</td>\n",
       "      <td>3</td>\n",
       "      <td>2</td>\n",
       "      <td>5</td>\n",
       "      <td>27027</td>\n",
       "      <td>534</td>\n",
       "      <td>38.1</td>\n",
       "    </tr>\n",
       "    <tr>\n",
       "      <th>17</th>\n",
       "      <td>kentucky</td>\n",
       "      <td>339.014516</td>\n",
       "      <td>kentucky</td>\n",
       "      <td>4361333</td>\n",
       "      <td>86</td>\n",
       "      <td>8</td>\n",
       "      <td>1</td>\n",
       "      <td>3</td>\n",
       "      <td>23462</td>\n",
       "      <td>506</td>\n",
       "      <td>38.2</td>\n",
       "    </tr>\n",
       "    <tr>\n",
       "      <th>22</th>\n",
       "      <td>michigan</td>\n",
       "      <td>287.620000</td>\n",
       "      <td>michigan</td>\n",
       "      <td>9886095</td>\n",
       "      <td>76</td>\n",
       "      <td>14</td>\n",
       "      <td>3</td>\n",
       "      <td>5</td>\n",
       "      <td>25681</td>\n",
       "      <td>623</td>\n",
       "      <td>39.1</td>\n",
       "    </tr>\n",
       "    <tr>\n",
       "      <th>25</th>\n",
       "      <td>missouri</td>\n",
       "      <td>351.059355</td>\n",
       "      <td>missouri</td>\n",
       "      <td>6007182</td>\n",
       "      <td>81</td>\n",
       "      <td>11</td>\n",
       "      <td>2</td>\n",
       "      <td>4</td>\n",
       "      <td>25649</td>\n",
       "      <td>549</td>\n",
       "      <td>38.0</td>\n",
       "    </tr>\n",
       "    <tr>\n",
       "      <th>28</th>\n",
       "      <td>nevada</td>\n",
       "      <td>265.610968</td>\n",
       "      <td>nevada</td>\n",
       "      <td>2730066</td>\n",
       "      <td>53</td>\n",
       "      <td>8</td>\n",
       "      <td>7</td>\n",
       "      <td>27</td>\n",
       "      <td>26589</td>\n",
       "      <td>840</td>\n",
       "      <td>36.6</td>\n",
       "    </tr>\n",
       "    <tr>\n",
       "      <th>30</th>\n",
       "      <td>new jersey</td>\n",
       "      <td>345.144839</td>\n",
       "      <td>new jersey</td>\n",
       "      <td>8832406</td>\n",
       "      <td>59</td>\n",
       "      <td>13</td>\n",
       "      <td>9</td>\n",
       "      <td>18</td>\n",
       "      <td>36027</td>\n",
       "      <td>1024</td>\n",
       "      <td>39.1</td>\n",
       "    </tr>\n",
       "    <tr>\n",
       "      <th>41</th>\n",
       "      <td>south dakota</td>\n",
       "      <td>357.954516</td>\n",
       "      <td>south dakota</td>\n",
       "      <td>825198</td>\n",
       "      <td>84</td>\n",
       "      <td>1</td>\n",
       "      <td>1</td>\n",
       "      <td>3</td>\n",
       "      <td>25740</td>\n",
       "      <td>517</td>\n",
       "      <td>36.9</td>\n",
       "    </tr>\n",
       "    <tr>\n",
       "      <th>50</th>\n",
       "      <td>wyoming</td>\n",
       "      <td>320.450968</td>\n",
       "      <td>wyoming</td>\n",
       "      <td>570134</td>\n",
       "      <td>85</td>\n",
       "      <td>1</td>\n",
       "      <td>1</td>\n",
       "      <td>9</td>\n",
       "      <td>28902</td>\n",
       "      <td>647</td>\n",
       "      <td>36.8</td>\n",
       "    </tr>\n",
       "  </tbody>\n",
       "</table>\n",
       "</div>"
      ],
      "text/plain": [
       "           State       HighQ        region  total_population  percent_white  \\\n",
       "12         idaho  274.990323         idaho           1583364             84   \n",
       "15          iowa  364.967742          iowa           3062553             88   \n",
       "17      kentucky  339.014516      kentucky           4361333             86   \n",
       "22      michigan  287.620000      michigan           9886095             76   \n",
       "25      missouri  351.059355      missouri           6007182             81   \n",
       "28        nevada  265.610968        nevada           2730066             53   \n",
       "30    new jersey  345.144839    new jersey           8832406             59   \n",
       "41  south dakota  357.954516  south dakota            825198             84   \n",
       "50       wyoming  320.450968       wyoming            570134             85   \n",
       "\n",
       "    percent_black  percent_asian  percent_hispanic  per_capita_income  \\\n",
       "12              1              1                11              22568   \n",
       "15              3              2                 5              27027   \n",
       "17              8              1                 3              23462   \n",
       "22             14              3                 5              25681   \n",
       "25             11              2                 4              25649   \n",
       "28              8              7                27              26589   \n",
       "30             13              9                18              36027   \n",
       "41              1              1                 3              25740   \n",
       "50              1              1                 9              28902   \n",
       "\n",
       "    median_rent  median_age  \n",
       "12          607        34.9  \n",
       "15          534        38.1  \n",
       "17          506        38.2  \n",
       "22          623        39.1  \n",
       "25          549        38.0  \n",
       "28          840        36.6  \n",
       "30         1024        39.1  \n",
       "41          517        36.9  \n",
       "50          647        36.8  "
      ]
     },
     "execution_count": 25,
     "metadata": {},
     "output_type": "execute_result"
    }
   ],
   "source": [
    "test"
   ]
  },
  {
   "cell_type": "markdown",
   "metadata": {},
   "source": [
    "### Linear regression \n",
    "\n",
    "Let's use `statsmodels` for this workshop. \n",
    "\n",
    "Linear regression is of the form:\n",
    "\n",
    "$y = \\beta_0 + \\beta_1x_1 + \\beta_2x_2 + ... + \\beta_nx_n$\n",
    "\n",
    "- $y$ is what we have the predict/independent variable/response variable\n",
    "- $\\beta_0$ is the intercept/slope\n",
    "- $\\beta_1$ is the coefficient for $x_1$ (the first feature/dependent variable)\n",
    "- $\\beta_n$ is the coefficient for $x_n$ (the nth feature/dependent variable)\n",
    "\n",
    "The $\\beta$ are called *model coefficients*\n",
    "\n",
    "The model coefficients are estimated in this process. (In Machine Learning parlance - the weights are learned using the algorithm). The objective function is least squares method. \n",
    "<br>\n",
    "\n",
    "**Least Squares Method** : To identify the weights so that the overall solution minimizes the sum of the squares of the errors made in the results of every single equation. [Wiki](https://en.wikipedia.org/wiki/Least_squares)\n",
    "\n",
    "![Estimating coefficients](img/leastsquare.gif)\n"
   ]
  },
  {
   "cell_type": "code",
   "execution_count": 26,
   "metadata": {
    "collapsed": true
   },
   "outputs": [],
   "source": [
    "import numpy as np\n",
    "import matplotlib\n",
    "import matplotlib.pyplot as plt\n",
    "from sklearn.linear_model import LinearRegression\n",
    "import seaborn as sns\n",
    "sns.set(color_codes = True)\n",
    "%matplotlib inline"
   ]
  },
  {
   "cell_type": "code",
   "execution_count": 27,
   "metadata": {
    "collapsed": true
   },
   "outputs": [],
   "source": [
    "plt.rcParams['figure.figsize'] = (8, 6)\n",
    "plt.rcParams['font.size'] = 14"
   ]
  },
  {
   "cell_type": "code",
   "execution_count": 28,
   "metadata": {
    "collapsed": true
   },
   "outputs": [],
   "source": [
    "#First step: Let's visualize bivariate plots with  a trend line"
   ]
  },
  {
   "cell_type": "code",
   "execution_count": 29,
   "metadata": {
    "collapsed": false
   },
   "outputs": [
    {
     "data": {
      "text/plain": [
       "<matplotlib.axes._subplots.AxesSubplot at 0x10c01fd90>"
      ]
     },
     "execution_count": 29,
     "metadata": {},
     "output_type": "execute_result"
    },
    {
     "data": {
      "image/png": "[encoded data removed]",
      "text/plain": [
       "<matplotlib.figure.Figure at 0x108847450>"
      ]
     },
     "metadata": {},
     "output_type": "display_data"
    }
   ],
   "source": [
    "sns.regplot(x=\"percent_white\", y = \"HighQ\", data=train)"
   ]
  },
  {
   "cell_type": "code",
   "execution_count": 30,
   "metadata": {
    "collapsed": false
   },
   "outputs": [
    {
     "data": {
      "text/plain": [
       "<matplotlib.axes._subplots.AxesSubplot at 0x10c20af50>"
      ]
     },
     "execution_count": 30,
     "metadata": {},
     "output_type": "execute_result"
    },
    {
     "data": {
      "image/png": "[encoded data removed]",
      "text/plain": [
       "<matplotlib.figure.Figure at 0x10bc50390>"
      ]
     },
     "metadata": {},
     "output_type": "display_data"
    }
   ],
   "source": [
    "sns.regplot(x=\"total_population\", y=\"HighQ\", data=train)"
   ]
  },
  {
   "cell_type": "markdown",
   "metadata": {},
   "source": [
    "**Exercise** Plot for `HighQ` vs `per_capita_income` "
   ]
  },
  {
   "cell_type": "code",
   "execution_count": null,
   "metadata": {
    "collapsed": true
   },
   "outputs": [],
   "source": []
  },
  {
   "cell_type": "markdown",
   "metadata": {},
   "source": [
    "**Fitting another kind of plot/model**"
   ]
  },
  {
   "cell_type": "code",
   "execution_count": null,
   "metadata": {
    "collapsed": true
   },
   "outputs": [],
   "source": [
    "?sns.lmplot"
   ]
  },
  {
   "cell_type": "code",
   "execution_count": 31,
   "metadata": {
    "collapsed": false
   },
   "outputs": [
    {
     "data": {
      "text/plain": [
       "<seaborn.axisgrid.FacetGrid at 0x10d79d490>"
      ]
     },
     "execution_count": 31,
     "metadata": {},
     "output_type": "execute_result"
    },
    {
     "data": {
      "image/png": "[encoded data removed]",
      "text/plain": [
       "<matplotlib.figure.Figure at 0x10d70b090>"
      ]
     },
     "metadata": {},
     "output_type": "display_data"
    }
   ],
   "source": [
    "sns.lmplot(x=\"total_population\", y=\"HighQ\", data=train, order=3)"
   ]
  },
  {
   "cell_type": "code",
   "execution_count": 32,
   "metadata": {
    "collapsed": false
   },
   "outputs": [
    {
     "data": {
      "text/plain": [
       "<matplotlib.axes._subplots.AxesSubplot at 0x10d7dd090>"
      ]
     },
     "execution_count": 32,
     "metadata": {},
     "output_type": "execute_result"
    },
    {
     "data": {
      "image/png": "[encoded data removed]",
      "text/plain": [
       "<matplotlib.figure.Figure at 0x10d74cc10>"
      ]
     },
     "metadata": {},
     "output_type": "display_data"
    }
   ],
   "source": [
    "#More plots.\n",
    "\n",
    "#Visualizing correlation matrix using a heatmap\n",
    "\n",
    "sns.heatmap(train.corr())"
   ]
  },
  {
   "cell_type": "code",
   "execution_count": null,
   "metadata": {
    "collapsed": true
   },
   "outputs": [],
   "source": [
    "?sns.pairplot"
   ]
  },
  {
   "cell_type": "code",
   "execution_count": 33,
   "metadata": {
    "collapsed": false
   },
   "outputs": [
    {
     "data": {
      "text/plain": [
       "<seaborn.axisgrid.PairGrid at 0x10c324590>"
      ]
     },
     "execution_count": 33,
     "metadata": {},
     "output_type": "execute_result"
    },
    {
     "data": {
      "image/png": "[encoded data removed]",
      "text/plain": [
       "<matplotlib.figure.Figure at 0x10c324610>"
      ]
     },
     "metadata": {},
     "output_type": "display_data"
    }
   ],
   "source": [
    "#Multiple scatter plot\n",
    "\n",
    "sns.pairplot(train, x_vars='HighQ', y_vars=['total_population', 'percent_white', 'percent_black', \\\n",
    "                                           'per_capita_income', 'median_rent', 'median_age'], kind='reg')"
   ]
  },
  {
   "cell_type": "markdown",
   "metadata": {},
   "source": [
    "**First, let's build a single variable model.**\n",
    "\n",
    "Let's try to estimate price as a function of population"
   ]
  },
  {
   "cell_type": "code",
   "execution_count": 34,
   "metadata": {
    "collapsed": true
   },
   "outputs": [],
   "source": [
    "feature_columns = [\"total_population\"]\n",
    "train_x = train[feature_columns]\n",
    "train_y = train['HighQ']"
   ]
  },
  {
   "cell_type": "code",
   "execution_count": 35,
   "metadata": {
    "collapsed": false
   },
   "outputs": [
    {
     "data": {
      "text/plain": [
       "LinearRegression(copy_X=True, fit_intercept=True, n_jobs=1, normalize=False)"
      ]
     },
     "execution_count": 35,
     "metadata": {},
     "output_type": "execute_result"
    }
   ],
   "source": [
    "model_1 = LinearRegression()\n",
    "model_1.fit(train_x, train_y)"
   ]
  },
  {
   "cell_type": "code",
   "execution_count": 36,
   "metadata": {
    "collapsed": false
   },
   "outputs": [
    {
     "name": "stdout",
     "output_type": "stream",
     "text": [
      "333.662079418\n",
      "[ -1.04692952e-06]\n"
     ]
    }
   ],
   "source": [
    "print model_1.intercept_\n",
    "print model_1.coef_"
   ]
  },
  {
   "cell_type": "markdown",
   "metadata": {},
   "source": [
    "**Let's use the model for prediction**"
   ]
  },
  {
   "cell_type": "code",
   "execution_count": 37,
   "metadata": {
    "collapsed": true
   },
   "outputs": [],
   "source": [
    "model_1_predict = model_1.predict(test[feature_columns])"
   ]
  },
  {
   "cell_type": "code",
   "execution_count": 38,
   "metadata": {
    "collapsed": false
   },
   "outputs": [],
   "source": [
    "model_1_predict = pd.DataFrame({'States': test.State, 'Actual Price': test.HighQ, 'Predicted Price': model_1_predict})"
   ]
  },
  {
   "cell_type": "code",
   "execution_count": 39,
   "metadata": {
    "collapsed": false
   },
   "outputs": [
    {
     "data": {
      "text/html": [
       "<div>\n",
       "<table border=\"1\" class=\"dataframe\">\n",
       "  <thead>\n",
       "    <tr style=\"text-align: right;\">\n",
       "      <th></th>\n",
       "      <th>Actual Price</th>\n",
       "      <th>Predicted Price</th>\n",
       "      <th>States</th>\n",
       "    </tr>\n",
       "  </thead>\n",
       "  <tbody>\n",
       "    <tr>\n",
       "      <th>12</th>\n",
       "      <td>274.990323</td>\n",
       "      <td>332.004409</td>\n",
       "      <td>idaho</td>\n",
       "    </tr>\n",
       "    <tr>\n",
       "      <th>15</th>\n",
       "      <td>364.967742</td>\n",
       "      <td>330.455802</td>\n",
       "      <td>iowa</td>\n",
       "    </tr>\n",
       "    <tr>\n",
       "      <th>17</th>\n",
       "      <td>339.014516</td>\n",
       "      <td>329.096071</td>\n",
       "      <td>kentucky</td>\n",
       "    </tr>\n",
       "    <tr>\n",
       "      <th>22</th>\n",
       "      <td>287.620000</td>\n",
       "      <td>323.312035</td>\n",
       "      <td>michigan</td>\n",
       "    </tr>\n",
       "    <tr>\n",
       "      <th>25</th>\n",
       "      <td>351.059355</td>\n",
       "      <td>327.372983</td>\n",
       "      <td>missouri</td>\n",
       "    </tr>\n",
       "    <tr>\n",
       "      <th>28</th>\n",
       "      <td>265.610968</td>\n",
       "      <td>330.803893</td>\n",
       "      <td>nevada</td>\n",
       "    </tr>\n",
       "    <tr>\n",
       "      <th>30</th>\n",
       "      <td>345.144839</td>\n",
       "      <td>324.415173</td>\n",
       "      <td>new jersey</td>\n",
       "    </tr>\n",
       "    <tr>\n",
       "      <th>41</th>\n",
       "      <td>357.954516</td>\n",
       "      <td>332.798155</td>\n",
       "      <td>south dakota</td>\n",
       "    </tr>\n",
       "    <tr>\n",
       "      <th>50</th>\n",
       "      <td>320.450968</td>\n",
       "      <td>333.065189</td>\n",
       "      <td>wyoming</td>\n",
       "    </tr>\n",
       "  </tbody>\n",
       "</table>\n",
       "</div>"
      ],
      "text/plain": [
       "    Actual Price  Predicted Price        States\n",
       "12    274.990323       332.004409         idaho\n",
       "15    364.967742       330.455802          iowa\n",
       "17    339.014516       329.096071      kentucky\n",
       "22    287.620000       323.312035      michigan\n",
       "25    351.059355       327.372983      missouri\n",
       "28    265.610968       330.803893        nevada\n",
       "30    345.144839       324.415173    new jersey\n",
       "41    357.954516       332.798155  south dakota\n",
       "50    320.450968       333.065189       wyoming"
      ]
     },
     "execution_count": 39,
     "metadata": {},
     "output_type": "execute_result"
    }
   ],
   "source": [
    "model_1_predict"
   ]
  },
  {
   "cell_type": "markdown",
   "metadata": {},
   "source": [
    "**Computing mean squared error**"
   ]
  },
  {
   "cell_type": "code",
   "execution_count": 40,
   "metadata": {
    "collapsed": false
   },
   "outputs": [
    {
     "data": {
      "text/plain": [
       "36.281030710323748"
      ]
     },
     "execution_count": 40,
     "metadata": {},
     "output_type": "execute_result"
    }
   ],
   "source": [
    "#Root Mean square error on test dataset\n",
    "np.sqrt(np.mean(np.square(model_1_predict['Actual Price'] - \\\n",
    "                         model_1_predict['Predicted Price'])))"
   ]
  },
  {
   "cell_type": "markdown",
   "metadata": {},
   "source": [
    "**Lower the RMSE, better the model **"
   ]
  },
  {
   "cell_type": "markdown",
   "metadata": {},
   "source": [
    "**Exercise: Create model using `total_population` and `per_capita_income` as the features. Report RMSE**"
   ]
  },
  {
   "cell_type": "code",
   "execution_count": null,
   "metadata": {
    "collapsed": true
   },
   "outputs": [],
   "source": []
  },
  {
   "cell_type": "markdown",
   "metadata": {},
   "source": [
    "### Pointers\n",
    "\n",
    "To build the model the right way, the following need to be done. They are left as exercise. \n",
    "\n",
    "1. Scale the features\n",
    "2. Use cross-validation\n",
    "3. As more features are added, the model becomes complicated and would overfit the data. Will need regularization\n",
    "4. Try feature transformation to see if lower RMSE is possible. "
   ]
  },
  {
   "cell_type": "markdown",
   "metadata": {},
   "source": [
    "### Why wasn't **R-square** and **p-value** covered? \n",
    "\n",
    "- Linear models rely upon a lot of assumptions ([here](http://andrewgelman.com/2013/08/04/19470/)). If assumptions are violated, the diagnostics obtained from the model cannot be relied. \n",
    "- Biggest challenge is that adding any feature will increase the R-square. One way to counter this is to use adjusted R-squre.\n",
    "- Take a step back and think - why do we need to report those numbers? We want some estimate of generalization. Cross-validation score provides a general framework for reporting generalization. And this will hold good across all models. And thus, multiple models can be compared. This is the machine learning approach and is widely used in practice."
   ]
  },
  {
   "cell_type": "markdown",
   "metadata": {},
   "source": [
    "### Bonus: R-square and p-value\n",
    "\n",
    "This won't be covered in the worksop, but the code is left here, for experimentation later on.\n",
    "<br>\n",
    "This would be done using `statsmodels`"
   ]
  },
  {
   "cell_type": "code",
   "execution_count": 41,
   "metadata": {
    "collapsed": true
   },
   "outputs": [],
   "source": [
    "import statsmodels.formula.api as smf"
   ]
  },
  {
   "cell_type": "code",
   "execution_count": 42,
   "metadata": {
    "collapsed": false
   },
   "outputs": [
    {
     "data": {
      "text/plain": [
       "Intercept           333.662079\n",
       "total_population     -0.000001\n",
       "dtype: float64"
      ]
     },
     "execution_count": 42,
     "metadata": {},
     "output_type": "execute_result"
    }
   ],
   "source": [
    "#Create the model\n",
    "lm_model_1 = smf.ols(formula='HighQ ~ total_population', data=train).fit()\n",
    "\n",
    "#Coefficients of the model\n",
    "lm_model_1.params"
   ]
  },
  {
   "cell_type": "code",
   "execution_count": 43,
   "metadata": {
    "collapsed": false
   },
   "outputs": [
    {
     "data": {
      "text/plain": [
       "array([ 332.00440891,  330.45580229,  329.09607117,  323.31203475,\n",
       "        327.37298327,  330.80389274,  324.41517287,  332.79815527,\n",
       "        333.0651893 ])"
      ]
     },
     "execution_count": 43,
     "metadata": {},
     "output_type": "execute_result"
    }
   ],
   "source": [
    "lm_model_1.predict(test)"
   ]
  },
  {
   "cell_type": "code",
   "execution_count": 44,
   "metadata": {
    "collapsed": false
   },
   "outputs": [
    {
     "data": {
      "text/html": [
       "<div>\n",
       "<table border=\"1\" class=\"dataframe\">\n",
       "  <thead>\n",
       "    <tr style=\"text-align: right;\">\n",
       "      <th></th>\n",
       "      <th>0</th>\n",
       "      <th>1</th>\n",
       "    </tr>\n",
       "  </thead>\n",
       "  <tbody>\n",
       "    <tr>\n",
       "      <th>Intercept</th>\n",
       "      <td>316.876244</td>\n",
       "      <td>3.504479e+02</td>\n",
       "    </tr>\n",
       "    <tr>\n",
       "      <th>total_population</th>\n",
       "      <td>-0.000003</td>\n",
       "      <td>6.656067e-07</td>\n",
       "    </tr>\n",
       "  </tbody>\n",
       "</table>\n",
       "</div>"
      ],
      "text/plain": [
       "                           0             1\n",
       "Intercept         316.876244  3.504479e+02\n",
       "total_population   -0.000003  6.656067e-07"
      ]
     },
     "execution_count": 44,
     "metadata": {},
     "output_type": "execute_result"
    }
   ],
   "source": [
    "#95% Confidence interval of the model\n",
    "lm_model_1.conf_int()"
   ]
  },
  {
   "cell_type": "markdown",
   "metadata": {},
   "source": [
    "**Exercise: Find the 90% CI **"
   ]
  },
  {
   "cell_type": "code",
   "execution_count": null,
   "metadata": {
    "collapsed": true
   },
   "outputs": [],
   "source": []
  },
  {
   "cell_type": "code",
   "execution_count": 45,
   "metadata": {
    "collapsed": false
   },
   "outputs": [
    {
     "data": {
      "text/plain": [
       "Intercept           5.942308e-34\n",
       "total_population    2.238336e-01\n",
       "dtype: float64"
      ]
     },
     "execution_count": 45,
     "metadata": {},
     "output_type": "execute_result"
    }
   ],
   "source": [
    "# p-value of the model coefficients\n",
    "lm_model_1.pvalues"
   ]
  },
  {
   "cell_type": "code",
   "execution_count": 46,
   "metadata": {
    "collapsed": false
   },
   "outputs": [
    {
     "data": {
      "text/plain": [
       "0.036761583666067521"
      ]
     },
     "execution_count": 46,
     "metadata": {},
     "output_type": "execute_result"
    }
   ],
   "source": [
    "#R-squared for the model\n",
    "lm_model_1.rsquared"
   ]
  },
  {
   "cell_type": "code",
   "execution_count": 47,
   "metadata": {
    "collapsed": false
   },
   "outputs": [
    {
     "data": {
      "text/html": [
       "<table class=\"simpletable\">\n",
       "<caption>OLS Regression Results</caption>\n",
       "<tr>\n",
       "  <th>Dep. Variable:</th>          <td>HighQ</td>      <th>  R-squared:         </th> <td>   0.037</td>\n",
       "</tr>\n",
       "<tr>\n",
       "  <th>Model:</th>                   <td>OLS</td>       <th>  Adj. R-squared:    </th> <td>   0.013</td>\n",
       "</tr>\n",
       "<tr>\n",
       "  <th>Method:</th>             <td>Least Squares</td>  <th>  F-statistic:       </th> <td>   1.527</td>\n",
       "</tr>\n",
       "<tr>\n",
       "  <th>Date:</th>             <td>Fri, 02 Oct 2015</td> <th>  Prob (F-statistic):</th>  <td> 0.224</td> \n",
       "</tr>\n",
       "<tr>\n",
       "  <th>Time:</th>                 <td>22:15:55</td>     <th>  Log-Likelihood:    </th> <td> -213.72</td>\n",
       "</tr>\n",
       "<tr>\n",
       "  <th>No. Observations:</th>      <td>    42</td>      <th>  AIC:               </th> <td>   431.4</td>\n",
       "</tr>\n",
       "<tr>\n",
       "  <th>Df Residuals:</th>          <td>    40</td>      <th>  BIC:               </th> <td>   434.9</td>\n",
       "</tr>\n",
       "<tr>\n",
       "  <th>Df Model:</th>              <td>     1</td>      <th>                     </th>     <td> </td>   \n",
       "</tr>\n",
       "<tr>\n",
       "  <th>Covariance Type:</th>      <td>nonrobust</td>    <th>                     </th>     <td> </td>   \n",
       "</tr>\n",
       "</table>\n",
       "<table class=\"simpletable\">\n",
       "<tr>\n",
       "          <td></td>            <th>coef</th>     <th>std err</th>      <th>t</th>      <th>P>|t|</th> <th>[95.0% Conf. Int.]</th> \n",
       "</tr>\n",
       "<tr>\n",
       "  <th>Intercept</th>        <td>  333.6621</td> <td>    8.305</td> <td>   40.174</td> <td> 0.000</td> <td>  316.876   350.448</td>\n",
       "</tr>\n",
       "<tr>\n",
       "  <th>total_population</th> <td>-1.047e-06</td> <td> 8.47e-07</td> <td>   -1.236</td> <td> 0.224</td> <td>-2.76e-06  6.66e-07</td>\n",
       "</tr>\n",
       "</table>\n",
       "<table class=\"simpletable\">\n",
       "<tr>\n",
       "  <th>Omnibus:</th>       <td>14.136</td> <th>  Durbin-Watson:     </th> <td>   2.338</td>\n",
       "</tr>\n",
       "<tr>\n",
       "  <th>Prob(Omnibus):</th> <td> 0.001</td> <th>  Jarque-Bera (JB):  </th> <td>  14.943</td>\n",
       "</tr>\n",
       "<tr>\n",
       "  <th>Skew:</th>          <td>-1.303</td> <th>  Prob(JB):          </th> <td>0.000569</td>\n",
       "</tr>\n",
       "<tr>\n",
       "  <th>Kurtosis:</th>      <td> 4.323</td> <th>  Cond. No.          </th> <td>1.31e+07</td>\n",
       "</tr>\n",
       "</table>"
      ],
      "text/plain": [
       "<class 'statsmodels.iolib.summary.Summary'>\n",
       "\"\"\"\n",
       "                            OLS Regression Results                            \n",
       "==============================================================================\n",
       "Dep. Variable:                  HighQ   R-squared:                       0.037\n",
       "Model:                            OLS   Adj. R-squared:                  0.013\n",
       "Method:                 Least Squares   F-statistic:                     1.527\n",
       "Date:                Fri, 02 Oct 2015   Prob (F-statistic):              0.224\n",
       "Time:                        22:15:55   Log-Likelihood:                -213.72\n",
       "No. Observations:                  42   AIC:                             431.4\n",
       "Df Residuals:                      40   BIC:                             434.9\n",
       "Df Model:                           1                                         \n",
       "Covariance Type:            nonrobust                                         \n",
       "====================================================================================\n",
       "                       coef    std err          t      P>|t|      [95.0% Conf. Int.]\n",
       "------------------------------------------------------------------------------------\n",
       "Intercept          333.6621      8.305     40.174      0.000       316.876   350.448\n",
       "total_population -1.047e-06   8.47e-07     -1.236      0.224     -2.76e-06  6.66e-07\n",
       "==============================================================================\n",
       "Omnibus:                       14.136   Durbin-Watson:                   2.338\n",
       "Prob(Omnibus):                  0.001   Jarque-Bera (JB):               14.943\n",
       "Skew:                          -1.303   Prob(JB):                     0.000569\n",
       "Kurtosis:                       4.323   Cond. No.                     1.31e+07\n",
       "==============================================================================\n",
       "\n",
       "Warnings:\n",
       "[1] Standard Errors assume that the covariance matrix of the errors is correctly specified.\n",
       "[2] The condition number is large, 1.31e+07. This might indicate that there are\n",
       "strong multicollinearity or other numerical problems.\n",
       "\"\"\""
      ]
     },
     "execution_count": 47,
     "metadata": {},
     "output_type": "execute_result"
    }
   ],
   "source": [
    "#Summary of fitted model\n",
    "lm_model_1.summary()"
   ]
  },
  {
   "cell_type": "code",
   "execution_count": 48,
   "metadata": {
    "collapsed": true
   },
   "outputs": [],
   "source": [
    "#Another model with total_population and per_capita_income\n",
    "lm_model_2 = smf.ols(formula='HighQ ~ total_population + per_capita_income', data=train).fit()"
   ]
  },
  {
   "cell_type": "code",
   "execution_count": 49,
   "metadata": {
    "collapsed": false
   },
   "outputs": [
    {
     "data": {
      "text/html": [
       "<table class=\"simpletable\">\n",
       "<caption>OLS Regression Results</caption>\n",
       "<tr>\n",
       "  <th>Dep. Variable:</th>          <td>HighQ</td>      <th>  R-squared:         </th> <td>   0.047</td>\n",
       "</tr>\n",
       "<tr>\n",
       "  <th>Model:</th>                   <td>OLS</td>       <th>  Adj. R-squared:    </th> <td>  -0.002</td>\n",
       "</tr>\n",
       "<tr>\n",
       "  <th>Method:</th>             <td>Least Squares</td>  <th>  F-statistic:       </th> <td>  0.9559</td>\n",
       "</tr>\n",
       "<tr>\n",
       "  <th>Date:</th>             <td>Fri, 02 Oct 2015</td> <th>  Prob (F-statistic):</th>  <td> 0.393</td> \n",
       "</tr>\n",
       "<tr>\n",
       "  <th>Time:</th>                 <td>22:16:00</td>     <th>  Log-Likelihood:    </th> <td> -213.50</td>\n",
       "</tr>\n",
       "<tr>\n",
       "  <th>No. Observations:</th>      <td>    42</td>      <th>  AIC:               </th> <td>   433.0</td>\n",
       "</tr>\n",
       "<tr>\n",
       "  <th>Df Residuals:</th>          <td>    39</td>      <th>  BIC:               </th> <td>   438.2</td>\n",
       "</tr>\n",
       "<tr>\n",
       "  <th>Df Model:</th>              <td>     2</td>      <th>                     </th>     <td> </td>   \n",
       "</tr>\n",
       "<tr>\n",
       "  <th>Covariance Type:</th>      <td>nonrobust</td>    <th>                     </th>     <td> </td>   \n",
       "</tr>\n",
       "</table>\n",
       "<table class=\"simpletable\">\n",
       "<tr>\n",
       "          <td></td>             <th>coef</th>     <th>std err</th>      <th>t</th>      <th>P>|t|</th> <th>[95.0% Conf. Int.]</th> \n",
       "</tr>\n",
       "<tr>\n",
       "  <th>Intercept</th>         <td>  309.7736</td> <td>   38.330</td> <td>    8.082</td> <td> 0.000</td> <td>  232.244   387.304</td>\n",
       "</tr>\n",
       "<tr>\n",
       "  <th>total_population</th>  <td>-1.034e-06</td> <td> 8.54e-07</td> <td>   -1.211</td> <td> 0.233</td> <td>-2.76e-06  6.93e-07</td>\n",
       "</tr>\n",
       "<tr>\n",
       "  <th>per_capita_income</th> <td>    0.0008</td> <td>    0.001</td> <td>    0.639</td> <td> 0.527</td> <td>   -0.002     0.004</td>\n",
       "</tr>\n",
       "</table>\n",
       "<table class=\"simpletable\">\n",
       "<tr>\n",
       "  <th>Omnibus:</th>       <td>14.699</td> <th>  Durbin-Watson:     </th> <td>   2.341</td>\n",
       "</tr>\n",
       "<tr>\n",
       "  <th>Prob(Omnibus):</th> <td> 0.001</td> <th>  Jarque-Bera (JB):  </th> <td>  15.822</td>\n",
       "</tr>\n",
       "<tr>\n",
       "  <th>Skew:</th>          <td>-1.335</td> <th>  Prob(JB):          </th> <td>0.000367</td>\n",
       "</tr>\n",
       "<tr>\n",
       "  <th>Kurtosis:</th>      <td> 4.383</td> <th>  Cond. No.          </th> <td>6.01e+07</td>\n",
       "</tr>\n",
       "</table>"
      ],
      "text/plain": [
       "<class 'statsmodels.iolib.summary.Summary'>\n",
       "\"\"\"\n",
       "                            OLS Regression Results                            \n",
       "==============================================================================\n",
       "Dep. Variable:                  HighQ   R-squared:                       0.047\n",
       "Model:                            OLS   Adj. R-squared:                 -0.002\n",
       "Method:                 Least Squares   F-statistic:                    0.9559\n",
       "Date:                Fri, 02 Oct 2015   Prob (F-statistic):              0.393\n",
       "Time:                        22:16:00   Log-Likelihood:                -213.50\n",
       "No. Observations:                  42   AIC:                             433.0\n",
       "Df Residuals:                      39   BIC:                             438.2\n",
       "Df Model:                           2                                         \n",
       "Covariance Type:            nonrobust                                         \n",
       "=====================================================================================\n",
       "                        coef    std err          t      P>|t|      [95.0% Conf. Int.]\n",
       "-------------------------------------------------------------------------------------\n",
       "Intercept           309.7736     38.330      8.082      0.000       232.244   387.304\n",
       "total_population  -1.034e-06   8.54e-07     -1.211      0.233     -2.76e-06  6.93e-07\n",
       "per_capita_income     0.0008      0.001      0.639      0.527        -0.002     0.004\n",
       "==============================================================================\n",
       "Omnibus:                       14.699   Durbin-Watson:                   2.341\n",
       "Prob(Omnibus):                  0.001   Jarque-Bera (JB):               15.822\n",
       "Skew:                          -1.335   Prob(JB):                     0.000367\n",
       "Kurtosis:                       4.383   Cond. No.                     6.01e+07\n",
       "==============================================================================\n",
       "\n",
       "Warnings:\n",
       "[1] Standard Errors assume that the covariance matrix of the errors is correctly specified.\n",
       "[2] The condition number is large, 6.01e+07. This might indicate that there are\n",
       "strong multicollinearity or other numerical problems.\n",
       "\"\"\""
      ]
     },
     "execution_count": 49,
     "metadata": {},
     "output_type": "execute_result"
    }
   ],
   "source": [
    "lm_model_2.summary()"
   ]
  },
  {
   "cell_type": "markdown",
   "metadata": {},
   "source": [
    "**Is model_2 better than model_1 ? **"
   ]
  },
  {
   "cell_type": "code",
   "execution_count": null,
   "metadata": {
    "collapsed": true
   },
   "outputs": [],
   "source": []
  }
 ],
 "metadata": {
  "kernelspec": {
   "display_name": "Python 2",
   "language": "python",
   "name": "python2"
  },
  "language_info": {
   "codemirror_mode": {
    "name": "ipython",
    "version": 2
   },
   "file_extension": ".py",
   "mimetype": "text/x-python",
   "name": "python",
   "nbconvert_exporter": "python",
   "pygments_lexer": "ipython2",
   "version": "2.7.10"
  }
 },
 "nbformat": 4,
 "nbformat_minor": 0
}
