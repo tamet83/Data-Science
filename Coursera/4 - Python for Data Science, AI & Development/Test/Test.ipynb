{
 "cells": [
  {
   "cell_type": "code",
   "execution_count": 24,
   "id": "b93b90de-6e0e-4b1b-9d93-4cb10a006e68",
   "metadata": {},
   "outputs": [],
   "source": [
    "#Run this prior to starting the exercise\n",
    "from random import randint as rnd\n",
    "\n",
    "memReg = 'members.txt'\n",
    "exReg = 'inactive.txt'\n",
    "fee =('yes','no')\n",
    "\n",
    "def genFiles(current,old):\n",
    "    with open(current,'w+') as writefile: \n",
    "        writefile.write('Membership No  Date Joined  Active  \\n')\n",
    "        data = \"{:^13}  {:<11}  {:<6}\\n\"\n",
    "\n",
    "        for rowno in range(20):\n",
    "            date = str(rnd(2015,2020))+ '-' + str(rnd(1,12))+'-'+str(rnd(1,25))\n",
    "            writefile.write(data.format(rnd(10000,99999),date,fee[rnd(0,1)]))\n",
    "\n",
    "\n",
    "    with open(old,'w+') as writefile: \n",
    "        writefile.write('Membership No  Date Joined  Active  \\n')\n",
    "        data = \"{:^13}  {:<11}  {:<6}\\n\"\n",
    "        for rowno in range(3):\n",
    "            date = str(rnd(2015,2020))+ '-' + str(rnd(1,12))+'-'+str(rnd(1,25))\n",
    "            writefile.write(data.format(rnd(10000,99999),date,fee[1]))\n",
    "\n",
    "\n",
    "genFiles(memReg,exReg)\n"
   ]
  },
  {
   "cell_type": "code",
   "execution_count": 25,
   "id": "83b8189e-629a-4e23-b85b-b0c0750874e5",
   "metadata": {},
   "outputs": [],
   "source": [
    "    with open('members.txt','r+') as writeFile:\n",
    "        with open('inactive.txt','a+') as appendFile:\n",
    "            writeFile.seek(0)\n",
    "            members = writeFile.readlines()\n",
    "            \n",
    "            headers = members[0]\n",
    "            members.pop(0)\n",
    "            \n",
    "            inactive = [member for member in members if ('no' in member)]\n",
    "            #for member in members:\n",
    "            #    if 'no' in members:\n",
    "            #        inactive.append(member)\n",
    "            writeFile.seek(0)\n",
    "            writeFile.write(headers)\n",
    "            for member in members:\n",
    "                if (member in inactive):\n",
    "                    appendFile.write(member)\n",
    "                else:\n",
    "                    writeFile.write(member)\n",
    "            writeFile.truncate()\n",
    "        "
   ]
  },
  {
   "cell_type": "code",
   "execution_count": 27,
   "id": "49e836dd-ce9e-4c78-85f7-8d5a0aea44da",
   "metadata": {},
   "outputs": [
    {
     "data": {
      "text/plain": [
       "list"
      ]
     },
     "execution_count": 27,
     "metadata": {},
     "output_type": "execute_result"
    }
   ],
   "source": [
    "type(members)"
   ]
  },
  {
   "cell_type": "code",
   "execution_count": null,
   "id": "99f0ff81-9aa2-4879-a3c7-8973b90168a9",
   "metadata": {},
   "outputs": [],
   "source": [
    "def cleanFiles(currentMem,exMem):\n",
    "    with open(currentMem,'r+') as writeFile: \n",
    "        with open(exMem,'a+') as appendFile:\n",
    "            #get the data\n",
    "            writeFile.seek(0)\n",
    "            members = writeFile.readlines()\n",
    "            #remove header\n",
    "            header = members[0]\n",
    "            members.pop(0)\n",
    "                \n",
    "            inactive = [member for member in members if ('no' in member)]\n",
    "            '''\n",
    "            The above is the same as \n",
    "\n",
    "            for member in members:\n",
    "            if 'no' in member:\n",
    "                inactive.append(member)\n",
    "            '''\n",
    "            #go to the beginning of the write file\n",
    "            writeFile.seek(0) \n",
    "            writeFile.write(header)\n",
    "            for member in members:\n",
    "                if (member in inactive):\n",
    "                    appendFile.write(member)\n",
    "                else:\n",
    "                    writeFile.write(member)      \n",
    "            writeFile.truncate()"
   ]
  }
 ],
 "metadata": {
  "kernelspec": {
   "display_name": "Python 3 (ipykernel)",
   "language": "python",
   "name": "python3"
  },
  "language_info": {
   "codemirror_mode": {
    "name": "ipython",
    "version": 3
   },
   "file_extension": ".py",
   "mimetype": "text/x-python",
   "name": "python",
   "nbconvert_exporter": "python",
   "pygments_lexer": "ipython3",
   "version": "3.8.12"
  }
 },
 "nbformat": 4,
 "nbformat_minor": 5
}
