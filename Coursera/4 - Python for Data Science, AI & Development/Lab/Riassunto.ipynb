{
 "cells": [
  {
   "cell_type": "markdown",
   "id": "4bc7562c-53a6-4854-8e12-086165d4365f",
   "metadata": {
    "tags": []
   },
   "source": [
    "# Modulo 4 - Python for Data Science, Ai & Development\n",
    "Riassunto del quarto modulo del corso di Data Science IBM"
   ]
  },
  {
   "cell_type": "markdown",
   "id": "32e3686b-d6e7-4d1f-a06a-e01f35a53e18",
   "metadata": {
    "tags": []
   },
   "source": [
    "## Table of Content\n",
    "- Codice base\n",
    "    - Funzione Print\n",
    "    - Types\n",
    "    - Convertire oggetti\n",
    "    - Booleani\n",
    "    - Espressioni e Variabili\n",
    "        - Espressioni\n",
    "        - Variabili\n",
    "- Stringhe\n",
    "    - Indexing\n",
    "    - Indexing negativo\n",
    "    - Lunghezza\n",
    "    - Slicing\n",
    "    - Stride\n",
    "    - Concatenare Stringhe\n",
    "    - Sequenza escape\n",
    "    - Operazioni con le stringhe\n",
    "        - Upper\n",
    "        - Replace\n",
    "        - Find\n",
    "- Liste\n",
    "    - Indexing\n",
    "    - Slicing\n",
    "    - Extend e Append\n",
    "    - Modificare le liste\n",
    "        - Sostituzione degli elementi\n",
    "        - Comando `del`\n",
    "        - Metodo `split`\n",
    "    - Copiare e clonare\n",
    "        - Copiare\n",
    "        - Clonare\n",
    "- Tuples\n",
    "    - Indexing\n",
    "    - Concatenamento\n",
    "    - Sliding\n",
    "    - Sorting\n",
    "    - Nested Tuples\n",
    "- Dizionario\n",
    "    - Chiavi\n",
    "    - Valori\n",
    "    - Aggiungere un elemento\n",
    "    - Eliminare un elemento\n",
    "    - Verificare la presenza di una chiave nel dizionario\n",
    "- Sets\n",
    "\t- Operazioni con i Sets\n",
    "\t\t- Addizioni\n",
    "\t\t- Eliminare\n",
    "\t\t- Verifica\n",
    "\t\t- Operazioni Logiche\n",
    "\t\t\t- Intersezione\n",
    "\t\t\t- Differenza\n",
    "\t\t\t- Intersezione\n",
    "\t\t\t- Metodi \n",
    "                - differenza\n",
    "                - intersezione\n",
    "                - unione\n",
    "                - superset e subset\n",
    "- Conditions\n",
    "    - Operatori di comparazione\n",
    "    - Branching\n",
    "    - Operatori logici\n",
    "- Loops\n",
    "    - Range\n",
    "    - `for` loop\n",
    "    - `while` loop\n",
    "___"
   ]
  },
  {
   "cell_type": "markdown",
   "id": "61225fb1-4144-4b50-8cc8-3e83e5816d3a",
   "metadata": {},
   "source": [
    "## Codice Base\n",
    "### Funzione Print"
   ]
  },
  {
   "cell_type": "code",
   "execution_count": 2,
   "id": "72141571-9be4-40fc-a21b-166f67a5b131",
   "metadata": {},
   "outputs": [
    {
     "name": "stdout",
     "output_type": "stream",
     "text": [
      "This will be printed\n"
     ]
    },
    {
     "ename": "NameError",
     "evalue": "name 'frint' is not defined",
     "output_type": "error",
     "traceback": [
      "\u001b[0;31m---------------------------------------------------------------------------\u001b[0m",
      "\u001b[0;31mNameError\u001b[0m                                 Traceback (most recent call last)",
      "\u001b[0;32m/tmp/ipykernel_1444/1912152647.py\u001b[0m in \u001b[0;36m<module>\u001b[0;34m\u001b[0m\n\u001b[1;32m      2\u001b[0m \u001b[0;34m\u001b[0m\u001b[0m\n\u001b[1;32m      3\u001b[0m \u001b[0mprint\u001b[0m\u001b[0;34m(\u001b[0m\u001b[0;34m'This will be printed'\u001b[0m\u001b[0;34m)\u001b[0m\u001b[0;34m\u001b[0m\u001b[0;34m\u001b[0m\u001b[0m\n\u001b[0;32m----> 4\u001b[0;31m \u001b[0mfrint\u001b[0m\u001b[0;34m(\u001b[0m\u001b[0;34m'This will cause an error'\u001b[0m\u001b[0;34m)\u001b[0m\u001b[0;34m\u001b[0m\u001b[0;34m\u001b[0m\u001b[0m\n\u001b[0m\u001b[1;32m      5\u001b[0m \u001b[0mprint\u001b[0m\u001b[0;34m(\u001b[0m\u001b[0;34m'This will NOT be printed'\u001b[0m\u001b[0;34m)\u001b[0m\u001b[0;34m\u001b[0m\u001b[0;34m\u001b[0m\u001b[0m\n",
      "\u001b[0;31mNameError\u001b[0m: name 'frint' is not defined"
     ]
    }
   ],
   "source": [
    "# Stampare stringhe con errori per vedere cosa ci restituisce il sistema\n",
    "\n",
    "print('This will be printed')\n",
    "frint('This will cause an error')\n",
    "print('This will NOT be printed')"
   ]
  },
  {
   "cell_type": "markdown",
   "id": "33829347-1927-4cc1-8536-0d75e5694268",
   "metadata": {},
   "source": [
    "### Types\n",
    "Come identificare la tipologia di oggetto con cui stiamo lavorando."
   ]
  },
  {
   "cell_type": "code",
   "execution_count": 3,
   "id": "f02caf2f-17f1-468f-aa79-d840608dd6b2",
   "metadata": {},
   "outputs": [
    {
     "data": {
      "text/plain": [
       "int"
      ]
     },
     "execution_count": 3,
     "metadata": {},
     "output_type": "execute_result"
    }
   ],
   "source": [
    "#Numero intero int\n",
    "type(12)"
   ]
  },
  {
   "cell_type": "code",
   "execution_count": 4,
   "id": "ba8dd641-e09b-4dd5-b207-113aa0e3195e",
   "metadata": {},
   "outputs": [
    {
     "data": {
      "text/plain": [
       "3"
      ]
     },
     "execution_count": 4,
     "metadata": {},
     "output_type": "execute_result"
    }
   ],
   "source": [
    "#Ottenere un intero da una divisione\n",
    "\n",
    "6//2"
   ]
  },
  {
   "cell_type": "code",
   "execution_count": 5,
   "id": "33c6f362-0565-4d50-a4d4-1cd6c8420163",
   "metadata": {},
   "outputs": [
    {
     "data": {
      "text/plain": [
       "float"
      ]
     },
     "execution_count": 5,
     "metadata": {},
     "output_type": "execute_result"
    }
   ],
   "source": [
    "#Decimale float\n",
    "type(1.2)"
   ]
  },
  {
   "cell_type": "code",
   "execution_count": 6,
   "id": "ea1edf1c-f5c7-4dbb-ab01-da58e584fb4b",
   "metadata": {},
   "outputs": [
    {
     "data": {
      "text/plain": [
       "3.0"
      ]
     },
     "execution_count": 6,
     "metadata": {},
     "output_type": "execute_result"
    }
   ],
   "source": [
    "#Ottenere un numero decimale da una divisione\n",
    "\n",
    "6/2"
   ]
  },
  {
   "cell_type": "code",
   "execution_count": 7,
   "id": "788040a0-46da-4f18-999a-142f1b4369df",
   "metadata": {},
   "outputs": [
    {
     "data": {
      "text/plain": [
       "str"
      ]
     },
     "execution_count": 7,
     "metadata": {},
     "output_type": "execute_result"
    }
   ],
   "source": [
    "#Stringa str\n",
    "type('Scriviamo qualcosa, 12')"
   ]
  },
  {
   "cell_type": "markdown",
   "id": "306923f2-3949-4521-9f1f-f445bffe7bae",
   "metadata": {},
   "source": [
    "### Convertire gli oggetti"
   ]
  },
  {
   "cell_type": "code",
   "execution_count": 8,
   "id": "efbfc254-b4db-4046-b940-c4fbef2333a8",
   "metadata": {},
   "outputs": [
    {
     "data": {
      "text/plain": [
       "1"
      ]
     },
     "execution_count": 8,
     "metadata": {},
     "output_type": "execute_result"
    }
   ],
   "source": [
    "# Convertire un decimale in intero\n",
    "\n",
    "int(1.5) #NB la conversione dei decimali in interi comporta una perdita di informazioni."
   ]
  },
  {
   "cell_type": "code",
   "execution_count": 9,
   "id": "83f62b85-478e-43c2-8cbb-89f50373f1d7",
   "metadata": {},
   "outputs": [
    {
     "data": {
      "text/plain": [
       "1"
      ]
     },
     "execution_count": 9,
     "metadata": {},
     "output_type": "execute_result"
    }
   ],
   "source": [
    "# Convertire una stringa in numero\n",
    "\n",
    "int('1') #NB in questo caso stiamo trasformando una stringa in numero"
   ]
  },
  {
   "cell_type": "code",
   "execution_count": 10,
   "id": "3cdae90c-e159-4d56-b14e-b6ad6cb318ce",
   "metadata": {},
   "outputs": [
    {
     "ename": "ValueError",
     "evalue": "invalid literal for int() with base 10: '1 o 2'",
     "output_type": "error",
     "traceback": [
      "\u001b[0;31m---------------------------------------------------------------------------\u001b[0m",
      "\u001b[0;31mValueError\u001b[0m                                Traceback (most recent call last)",
      "\u001b[0;32m/tmp/ipykernel_1444/2206897561.py\u001b[0m in \u001b[0;36m<module>\u001b[0;34m\u001b[0m\n\u001b[0;32m----> 1\u001b[0;31m \u001b[0mint\u001b[0m\u001b[0;34m(\u001b[0m\u001b[0;34m'1 o 2'\u001b[0m\u001b[0;34m)\u001b[0m \u001b[0;31m#NB in questa caso il programma ci darà un errore perché non è in grado di riconoscere i due numeri\u001b[0m\u001b[0;34m\u001b[0m\u001b[0;34m\u001b[0m\u001b[0m\n\u001b[0m",
      "\u001b[0;31mValueError\u001b[0m: invalid literal for int() with base 10: '1 o 2'"
     ]
    }
   ],
   "source": [
    "int('1 o 2') #NB in questa caso il programma ci darà un errore perché non è in grado di riconoscere i due numeri"
   ]
  },
  {
   "cell_type": "code",
   "execution_count": 11,
   "id": "fddc9f85-36fe-4706-9070-bb74940aaebc",
   "metadata": {},
   "outputs": [
    {
     "data": {
      "text/plain": [
       "2.0"
      ]
     },
     "execution_count": 11,
     "metadata": {},
     "output_type": "execute_result"
    }
   ],
   "source": [
    "#Convertire un intero in decimale\n",
    "\n",
    "float(2) #Trasformare un intero in decimale implica solo l'aggiunta del .0"
   ]
  },
  {
   "cell_type": "code",
   "execution_count": 12,
   "id": "0f3bc4b1-f583-4207-baed-e9e21bc5eae2",
   "metadata": {},
   "outputs": [
    {
     "data": {
      "text/plain": [
       "'101'"
      ]
     },
     "execution_count": 12,
     "metadata": {},
     "output_type": "execute_result"
    }
   ],
   "source": [
    "#Convertire un numero in stringa\n",
    "\n",
    "str(101) #Aggiunge semplicemente degli apici per trasformare il numero, in questo caso, in stringa"
   ]
  },
  {
   "cell_type": "markdown",
   "id": "a85f0011-89c7-4b72-a332-16caabbe9853",
   "metadata": {},
   "source": [
    "### Booleano"
   ]
  },
  {
   "cell_type": "code",
   "execution_count": 13,
   "id": "a93759ea-f7c5-49ff-a7f6-b45dd4d08da2",
   "metadata": {},
   "outputs": [
    {
     "data": {
      "text/plain": [
       "bool"
      ]
     },
     "execution_count": 13,
     "metadata": {},
     "output_type": "execute_result"
    }
   ],
   "source": [
    "type(True) #I booleani vanno sempre scritti con la lettera maiuscola"
   ]
  },
  {
   "cell_type": "code",
   "execution_count": 14,
   "id": "9d433e46-f87e-4806-8d6d-68fa51ca6911",
   "metadata": {},
   "outputs": [
    {
     "data": {
      "text/plain": [
       "bool"
      ]
     },
     "execution_count": 14,
     "metadata": {},
     "output_type": "execute_result"
    }
   ],
   "source": [
    "type(False)"
   ]
  },
  {
   "cell_type": "code",
   "execution_count": 15,
   "id": "2bb1f5aa-0794-4a12-a084-c2fe55275967",
   "metadata": {},
   "outputs": [
    {
     "data": {
      "text/plain": [
       "True"
      ]
     },
     "execution_count": 15,
     "metadata": {},
     "output_type": "execute_result"
    }
   ],
   "source": [
    "#Convertire numeri in booleani\n",
    "\n",
    "bool(1)"
   ]
  },
  {
   "cell_type": "code",
   "execution_count": 16,
   "id": "07a8798f-8ec5-4632-bd22-b7fc69f82fb0",
   "metadata": {},
   "outputs": [
    {
     "data": {
      "text/plain": [
       "False"
      ]
     },
     "execution_count": 16,
     "metadata": {},
     "output_type": "execute_result"
    }
   ],
   "source": [
    "bool(0)"
   ]
  },
  {
   "cell_type": "markdown",
   "id": "3013cfcb-701d-41d6-8131-b6dce76312c6",
   "metadata": {},
   "source": [
    "### Espressioni e Variabili\n",
    "#### Espressioni"
   ]
  },
  {
   "cell_type": "code",
   "execution_count": 17,
   "id": "dc6e56a3-69d8-49ce-bccc-1a228504307f",
   "metadata": {},
   "outputs": [
    {
     "data": {
      "text/plain": [
       "160"
      ]
     },
     "execution_count": 17,
     "metadata": {},
     "output_type": "execute_result"
    }
   ],
   "source": [
    "# Addizioni\n",
    "43 + 60 + 16 + 41"
   ]
  },
  {
   "cell_type": "code",
   "execution_count": 18,
   "id": "91ca08fa-3fdb-45ba-bfb4-05d847fdc9a7",
   "metadata": {},
   "outputs": [
    {
     "data": {
      "text/plain": [
       "-20"
      ]
     },
     "execution_count": 18,
     "metadata": {},
     "output_type": "execute_result"
    }
   ],
   "source": [
    "# Sottrazioni\n",
    "40 - 60"
   ]
  },
  {
   "cell_type": "code",
   "execution_count": 19,
   "id": "5db6af39-a829-4dc5-aff4-55f10f0a8d75",
   "metadata": {},
   "outputs": [
    {
     "data": {
      "text/plain": [
       "5.0"
      ]
     },
     "execution_count": 19,
     "metadata": {},
     "output_type": "execute_result"
    }
   ],
   "source": [
    "# Divisioni\n",
    "25 / 5"
   ]
  },
  {
   "cell_type": "code",
   "execution_count": 20,
   "id": "22993bda-afc4-4784-9c74-4d6048ee9e17",
   "metadata": {},
   "outputs": [
    {
     "data": {
      "text/plain": [
       "4.166666666666667"
      ]
     },
     "execution_count": 20,
     "metadata": {},
     "output_type": "execute_result"
    }
   ],
   "source": [
    "25 / 6"
   ]
  },
  {
   "cell_type": "code",
   "execution_count": 21,
   "id": "cad13d09-de99-4ccd-bf3e-82ef45da89e0",
   "metadata": {},
   "outputs": [
    {
     "data": {
      "text/plain": [
       "4"
      ]
     },
     "execution_count": 21,
     "metadata": {},
     "output_type": "execute_result"
    }
   ],
   "source": [
    "25 // 6"
   ]
  },
  {
   "cell_type": "code",
   "execution_count": 22,
   "id": "8fef0189-33c2-4fa3-b948-4dcd72a2588d",
   "metadata": {},
   "outputs": [
    {
     "data": {
      "text/plain": [
       "150"
      ]
     },
     "execution_count": 22,
     "metadata": {},
     "output_type": "execute_result"
    }
   ],
   "source": [
    "# Espressioni matematiche (Segue la classica convezione)\n",
    "30 + 2 * 60"
   ]
  },
  {
   "cell_type": "code",
   "execution_count": 23,
   "id": "710b8762-0328-4dc4-87f3-860d0e1517cf",
   "metadata": {},
   "outputs": [
    {
     "data": {
      "text/plain": [
       "1920"
      ]
     },
     "execution_count": 23,
     "metadata": {},
     "output_type": "execute_result"
    }
   ],
   "source": [
    "(30 + 2) * 60"
   ]
  },
  {
   "cell_type": "markdown",
   "id": "e8aafc2e-41d3-49ee-924e-bfbcd1946d75",
   "metadata": {},
   "source": [
    "#### Variabili"
   ]
  },
  {
   "cell_type": "code",
   "execution_count": 24,
   "id": "9ca33d3a-55dc-4dd8-b953-b94bbc82a9c0",
   "metadata": {},
   "outputs": [
    {
     "data": {
      "text/plain": [
       "160"
      ]
     },
     "execution_count": 24,
     "metadata": {},
     "output_type": "execute_result"
    }
   ],
   "source": [
    "x = 43 + 60 + 16 + 41 # Abbiamo creato una variabile\n",
    "x # Per visualizzarla"
   ]
  },
  {
   "cell_type": "code",
   "execution_count": 25,
   "id": "7530e1e4-d7b2-4bc0-a845-43cb3d6193be",
   "metadata": {},
   "outputs": [
    {
     "data": {
      "text/plain": [
       "2.6666666666666665"
      ]
     },
     "execution_count": 25,
     "metadata": {},
     "output_type": "execute_result"
    }
   ],
   "source": [
    "# Si può utilizzare una seconda variabile per memorizzare il valore di una operazioni tra una variabile e un valore\n",
    "y = x / 60\n",
    "y"
   ]
  },
  {
   "cell_type": "code",
   "execution_count": 26,
   "id": "b1bba43a-9ed0-4045-b473-a0196752f932",
   "metadata": {},
   "outputs": [
    {
     "data": {
      "text/plain": [
       "160"
      ]
     },
     "execution_count": 26,
     "metadata": {},
     "output_type": "execute_result"
    }
   ],
   "source": [
    "# Recuperare un valore di una variabile, modificarlo e salvarlo nuovamente\n",
    "x"
   ]
  },
  {
   "cell_type": "code",
   "execution_count": 27,
   "id": "a021cf85-dd5b-4b41-80e2-0e660a3e3368",
   "metadata": {},
   "outputs": [
    {
     "data": {
      "text/plain": [
       "2.6666666666666665"
      ]
     },
     "execution_count": 27,
     "metadata": {},
     "output_type": "execute_result"
    }
   ],
   "source": [
    "x = x / 60\n",
    "x"
   ]
  },
  {
   "cell_type": "code",
   "execution_count": 28,
   "id": "416ed26e-4314-46da-b158-6536a392fc12",
   "metadata": {},
   "outputs": [
    {
     "data": {
      "text/plain": [
       "7"
      ]
     },
     "execution_count": 28,
     "metadata": {},
     "output_type": "execute_result"
    }
   ],
   "source": [
    "x = 3+2*2\n",
    "x"
   ]
  },
  {
   "cell_type": "code",
   "execution_count": 29,
   "id": "aae4b39c-5eb4-4402-9362-86be318a8d5c",
   "metadata": {},
   "outputs": [
    {
     "data": {
      "text/plain": [
       "10"
      ]
     },
     "execution_count": 29,
     "metadata": {},
     "output_type": "execute_result"
    }
   ],
   "source": [
    "y = (3+2)*2\n",
    "y"
   ]
  },
  {
   "cell_type": "code",
   "execution_count": 30,
   "id": "f0f7a9d0-5dc7-4df5-8a4f-91f497ee2a22",
   "metadata": {},
   "outputs": [
    {
     "data": {
      "text/plain": [
       "17"
      ]
     },
     "execution_count": 30,
     "metadata": {},
     "output_type": "execute_result"
    }
   ],
   "source": [
    "z = x+y\n",
    "z"
   ]
  },
  {
   "cell_type": "markdown",
   "id": "ed42d020-da49-4b2e-9c42-c51414ad4196",
   "metadata": {},
   "source": [
    "---"
   ]
  },
  {
   "cell_type": "markdown",
   "id": "25c092f2-1d1b-44b3-9c32-95b7777d2218",
   "metadata": {},
   "source": [
    "## Stringhe\n",
    "Le stringhe sono oggetti che rappresentano del testo puro raccolto tra `\"\"` oppure `''`.\n",
    "Di seguito alcuni esempi"
   ]
  },
  {
   "cell_type": "code",
   "execution_count": 31,
   "id": "8aa5156b-c6d0-421c-a150-3f913c0b98df",
   "metadata": {},
   "outputs": [
    {
     "data": {
      "text/plain": [
       "'Ciao Sono matteo'"
      ]
     },
     "execution_count": 31,
     "metadata": {},
     "output_type": "execute_result"
    }
   ],
   "source": [
    "# Testo normale \n",
    "\"Ciao Sono matteo\""
   ]
  },
  {
   "cell_type": "code",
   "execution_count": 32,
   "id": "0cf28dd2-50f3-431d-981d-d27a2ccca4da",
   "metadata": {},
   "outputs": [
    {
     "data": {
      "text/plain": [
       "'1, 2, 3, 4'"
      ]
     },
     "execution_count": 32,
     "metadata": {},
     "output_type": "execute_result"
    }
   ],
   "source": [
    "# Numeri\n",
    "\"1, 2, 3, 4\""
   ]
  },
  {
   "cell_type": "code",
   "execution_count": 33,
   "id": "293a6804-f4e7-4814-88f8-8c81dfdbbaa6",
   "metadata": {},
   "outputs": [
    {
     "data": {
      "text/plain": [
       "'%&£€'"
      ]
     },
     "execution_count": 33,
     "metadata": {},
     "output_type": "execute_result"
    }
   ],
   "source": [
    "# Caratteri speciali\n",
    "\"%&£€\""
   ]
  },
  {
   "cell_type": "markdown",
   "id": "47feaedc-1226-4d0a-bbaf-4350c9a3c112",
   "metadata": {},
   "source": [
    "È anche possibile allocare le stringhe all'interno di variabili in questo modo:"
   ]
  },
  {
   "cell_type": "code",
   "execution_count": 34,
   "id": "18861ae3-19b8-422f-93ed-9b63719bc705",
   "metadata": {},
   "outputs": [
    {
     "data": {
      "text/plain": [
       "'Michael Jackson'"
      ]
     },
     "execution_count": 34,
     "metadata": {},
     "output_type": "execute_result"
    }
   ],
   "source": [
    "name = 'Michael Jackson' # Allochiamo la stringa nella variabile nome\n",
    "name # Visualizziamo il valore della variabile"
   ]
  },
  {
   "cell_type": "markdown",
   "id": "d637b0d5-1f6f-4096-9794-7fc858887272",
   "metadata": {},
   "source": [
    "### Indexing\n",
    "È utile considerare le stringhe come una sequenza ordinata di elementi. Ciascun elemento della sequenza può essere accessibile e rappresentato usando un `indice` rappresentato da un vettore di numeri.\n",
    "\n",
    "<img src=\"https://cf-courses-data.s3.us.cloud-object-storage.appdomain.cloud/IBMDeveloperSkillsNetwork-PY0101EN-SkillsNetwork/labs/Module%201/images/StringsIndex.png\" width=\"600\" align=\"center\" />"
   ]
  },
  {
   "cell_type": "markdown",
   "id": "8d677c29-ff30-4d38-8dca-6bfd13f695a3",
   "metadata": {},
   "source": [
    "**NB** l'indice parte sempre da zero, quindi il primo elemento ha indice 0"
   ]
  },
  {
   "cell_type": "code",
   "execution_count": 35,
   "id": "a54731b6-f179-4743-8996-9088570f3234",
   "metadata": {},
   "outputs": [
    {
     "name": "stdout",
     "output_type": "stream",
     "text": [
      "M\n"
     ]
    }
   ],
   "source": [
    "# Stampiamo la prima lettera della stringa contenuta nella variabile nome\n",
    "print(name[0])"
   ]
  },
  {
   "cell_type": "code",
   "execution_count": 36,
   "id": "12343441-3441-40be-8571-69a6bcbc1b25",
   "metadata": {},
   "outputs": [
    {
     "data": {
      "text/plain": [
       "'M'"
      ]
     },
     "execution_count": 36,
     "metadata": {},
     "output_type": "execute_result"
    }
   ],
   "source": [
    "# Notare la differenza scrivendo invece soltanto\n",
    "name[0]"
   ]
  },
  {
   "cell_type": "markdown",
   "id": "ef6af732-4b45-442b-9b6d-fdce99538b06",
   "metadata": {},
   "source": [
    "### Negative Indexing\n",
    "In questo caso, partendo dall'ultimo elemento della stringa, si inizia con il valore `-1`.\n",
    "\n",
    "<img src=\"https://cf-courses-data.s3.us.cloud-object-storage.appdomain.cloud/IBMDeveloperSkillsNetwork-PY0101EN-SkillsNetwork/labs/Module%201/images/StringsNeg.png\" width=\"600\" align=\"center\" />\n"
   ]
  },
  {
   "cell_type": "code",
   "execution_count": 37,
   "id": "54f98a5a-d91a-4daf-b1ef-ec4860ba64cb",
   "metadata": {},
   "outputs": [
    {
     "name": "stdout",
     "output_type": "stream",
     "text": [
      "n\n",
      "n\n"
     ]
    }
   ],
   "source": [
    "# L'ultimo elemento della stringa può quindi essere rappresentato in questo modo\n",
    "print(name[14]) # Indexing positivo\n",
    "print(name[-1]) # Indexing negativo"
   ]
  },
  {
   "cell_type": "markdown",
   "id": "1a1baa56-2810-4376-a4f1-bcbb349aaead",
   "metadata": {},
   "source": [
    "### Lunghezza\n",
    "Serve per trovare il numero di caratteri di una stringa e si utilizza la funzione `len()`"
   ]
  },
  {
   "cell_type": "code",
   "execution_count": 38,
   "id": "46d81cdf-82aa-46d0-9b49-e272350eb5a6",
   "metadata": {},
   "outputs": [
    {
     "data": {
      "text/plain": [
       "15"
      ]
     },
     "execution_count": 38,
     "metadata": {},
     "output_type": "execute_result"
    }
   ],
   "source": [
    "# Lunghezza della variabile name\n",
    "len(name)"
   ]
  },
  {
   "cell_type": "markdown",
   "id": "142f25cc-9c24-4f73-92bd-a3c6458b2796",
   "metadata": {},
   "source": [
    "### Slicing\n",
    "Letteralmente significa \"affettare\" ed è una funzione che permette di estrarre una porzione di caratteri da una stringa.\n",
    "\n",
    "<img src=\"https://cf-courses-data.s3.us.cloud-object-storage.appdomain.cloud/IBMDeveloperSkillsNetwork-PY0101EN-SkillsNetwork/labs/Module%201/images/StringsSlice.png\" width=\"600\" align=\"center\" />\n",
    "\n",
    "***NB*** Il primo numero indica da quale valore dell'Indice vogliamo partire, mentre il secondo numero indica di quanti valori vogliamo spostarci in avanti dal primo elemento della stringa."
   ]
  },
  {
   "cell_type": "code",
   "execution_count": 39,
   "id": "70ebda36-6729-4cbc-8d22-4dcfc24c853b",
   "metadata": {},
   "outputs": [
    {
     "data": {
      "text/plain": [
       "'Mich'"
      ]
     },
     "execution_count": 39,
     "metadata": {},
     "output_type": "execute_result"
    }
   ],
   "source": [
    "# Partiamo con l'esempio più facile. Prendiamo i primi 4 caratteri della stringa contenuta nella variabile name\n",
    "name[0:4]\n",
    "# Siamo partiti dalla prima posizione, con indice 0, e ci siamo spostati in avanti di 4 posizioni"
   ]
  },
  {
   "cell_type": "code",
   "execution_count": 40,
   "id": "fcc0611e-0495-4650-8251-a02207a99f6b",
   "metadata": {},
   "outputs": [
    {
     "data": {
      "text/plain": [
       "'Jack'"
      ]
     },
     "execution_count": 40,
     "metadata": {},
     "output_type": "execute_result"
    }
   ],
   "source": [
    "# Un esempio più complicato\n",
    "name[8:12]\n",
    "# In questo caso abbiamo scelto di partire dalla posizione 9, con indice 8, ci siamo fermati a 12 posizioni dall'inzio della stringa"
   ]
  },
  {
   "cell_type": "markdown",
   "id": "1a9cc2e2-5836-45d9-a6d7-70192deec268",
   "metadata": {},
   "source": [
    "## Stride\n",
    "Lo slicing contiene una ulteriore opzione tra i suoi comandi: lo Stride che letteralmente significa \"passo\" inteso ogni quante posizioni estrarre un valore.\n",
    "\n",
    "<img src=\"https://cf-courses-data.s3.us.cloud-object-storage.appdomain.cloud/IBMDeveloperSkillsNetwork-PY0101EN-SkillsNetwork/labs/Module%201/images/StringsStride.png\" width=\"600\" align=\"center\" />\n"
   ]
  },
  {
   "cell_type": "code",
   "execution_count": 41,
   "id": "327f2104-89c4-4eec-b57d-562095c8df50",
   "metadata": {},
   "outputs": [
    {
     "data": {
      "text/plain": [
       "'McalJcsn'"
      ]
     },
     "execution_count": 41,
     "metadata": {},
     "output_type": "execute_result"
    }
   ],
   "source": [
    "# In questo caso, lo slice parte dal primo valore e va fino all'ultimo, estrando i caratteri ogni due posizioni a partire dalla prima.\n",
    "name[::2]"
   ]
  },
  {
   "cell_type": "code",
   "execution_count": 42,
   "id": "2ec753e2-9208-4402-819a-654187dbcffe",
   "metadata": {},
   "outputs": [
    {
     "data": {
      "text/plain": [
       "'Mca'"
      ]
     },
     "execution_count": 42,
     "metadata": {},
     "output_type": "execute_result"
    }
   ],
   "source": [
    "# In questo caso, vogliamo estrarre da una porzione inferiore della stringa ogni due caratteri a partire dal primo fino alla quinta posizione.\n",
    "name[0:5:2]"
   ]
  },
  {
   "cell_type": "markdown",
   "id": "be9662c4-7c79-45ea-8c0d-5c08fc84f55a",
   "metadata": {},
   "source": [
    "### Concatenate strings\n",
    "Le stringe possono essere combinate tra di loro usando la semplice addizione."
   ]
  },
  {
   "cell_type": "code",
   "execution_count": 43,
   "id": "8b15bdb7-674c-4445-9e0a-25bd9b321aad",
   "metadata": {},
   "outputs": [
    {
     "data": {
      "text/plain": [
       "'Michael Jackson is the best'"
      ]
     },
     "execution_count": 43,
     "metadata": {},
     "output_type": "execute_result"
    }
   ],
   "source": [
    "statement = name + \" is the best\"\n",
    "statement"
   ]
  },
  {
   "cell_type": "markdown",
   "id": "e80f01d3-13f1-4753-add9-6009b99ceae0",
   "metadata": {},
   "source": [
    "Possono essere anche replicate"
   ]
  },
  {
   "cell_type": "code",
   "execution_count": 44,
   "id": "a8710e9d-127a-4785-8b49-44c0ab2e8b38",
   "metadata": {},
   "outputs": [
    {
     "data": {
      "text/plain": [
       "'Michael Jackson Michael Jackson Michael Jackson '"
      ]
     },
     "execution_count": 44,
     "metadata": {},
     "output_type": "execute_result"
    }
   ],
   "source": [
    "(name + \" \")* 3"
   ]
  },
  {
   "cell_type": "markdown",
   "id": "bcd93dd4-ac7a-411d-82fa-13da643b09b9",
   "metadata": {},
   "source": [
    "### Escape Sequences"
   ]
  },
  {
   "cell_type": "code",
   "execution_count": 45,
   "id": "6140b560-be14-413e-a661-cf77128dbede",
   "metadata": {},
   "outputs": [
    {
     "name": "stdout",
     "output_type": "stream",
     "text": [
      "Micael Jackson \n",
      " is the best\n",
      "Michel Jackson \t is the best\n",
      "Michael Jackson \\ is the best\n",
      "Michael Jackson \\n is the best\n"
     ]
    }
   ],
   "source": [
    "print(\"Micael Jackson \\n is the best\") # \\n va a capo\n",
    "print(\"Michel Jackson \\t is the best\") # \\t indica il tab\n",
    "print(\"Michael Jackson \\\\ is the best\") # \\\\ il doppio slash annulla la funzione escape\n",
    "print(r\"Michael Jackson \\n is the best\") # r annulla l'escape"
   ]
  },
  {
   "cell_type": "markdown",
   "id": "a65f3415-3c3e-49c8-b666-1478e5c2b681",
   "metadata": {},
   "source": [
    "### String Operation\n",
    "È possibile effettuare diverse operazioni con le stringhe per manipolarle in svariati modi."
   ]
  },
  {
   "cell_type": "markdown",
   "id": "4b221a43-b7eb-476a-8eb8-691586c3e957",
   "metadata": {},
   "source": [
    "#### Upper\n",
    "Il metodo `upper` trasforma in maiuscolo tutti i caratteri della stringa"
   ]
  },
  {
   "cell_type": "code",
   "execution_count": 46,
   "id": "cc0068d1-c53f-46db-9398-3d465c53f3db",
   "metadata": {},
   "outputs": [
    {
     "name": "stdout",
     "output_type": "stream",
     "text": [
      "Before upper Thriller is the sixth studio album\n",
      "After upper THRILLER IS THE SIXTH STUDIO ALBUM\n"
     ]
    }
   ],
   "source": [
    "a = \"Thriller is the sixth studio album\"\n",
    "print(\"Before upper\", a)\n",
    "b = a.upper()\n",
    "print(\"After upper\", b)"
   ]
  },
  {
   "cell_type": "markdown",
   "id": "221e1884-26fa-4ae7-8275-4206c197f509",
   "metadata": {},
   "source": [
    "#### Replace\n",
    "Il metodo `replace` rimpiazza un segmento di una stringa con un altro. Il primo argomento è la porzione di stringa da cercare, il secondo è la porzione con cui sostituirla. Se la porzione di stringa da cercare non viene trovata la sostituzione non può essere effettuata."
   ]
  },
  {
   "cell_type": "code",
   "execution_count": 47,
   "id": "d8d7c626-9bfa-4765-a8e1-f7b924d9370c",
   "metadata": {},
   "outputs": [
    {
     "data": {
      "text/plain": [
       "'Janet Jackson is the best'"
      ]
     },
     "execution_count": 47,
     "metadata": {},
     "output_type": "execute_result"
    }
   ],
   "source": [
    "a = 'Michael Jackson is the best'\n",
    "b = a.replace('Michael', 'Janet')\n",
    "b"
   ]
  },
  {
   "cell_type": "code",
   "execution_count": 48,
   "id": "3f2f666e-4e7b-4654-9dc3-de42d56cecb6",
   "metadata": {},
   "outputs": [
    {
     "data": {
      "text/plain": [
       "'Pippo mangia il gelato'"
      ]
     },
     "execution_count": 48,
     "metadata": {},
     "output_type": "execute_result"
    }
   ],
   "source": [
    "c = 'Pippo mangia il gelato'\n",
    "d = c.replace('Pipo','Topolino') # Avendo scritto Pipo anziché Pippo la sostituzione non viene eseguita\n",
    "d"
   ]
  },
  {
   "cell_type": "markdown",
   "id": "1c446093-58a4-4371-afb6-2a890fa53daf",
   "metadata": {},
   "source": [
    "#### Find\n",
    "Il metodo `find` cerca una sub-stringa. L'argomento è la porzione di stringa da cercare, mentre il risultato è il primo indice della sequenza in cui si trova la sottostringa. Se la sub-stringa non viene trovata, il metodo fornisce come risultato `-1`\n",
    "\n",
    "<img src=\"https://cf-courses-data.s3.us.cloud-object-storage.appdomain.cloud/IBMDeveloperSkillsNetwork-PY0101EN-SkillsNetwork/labs/Module%201/images/StringsFind.png\" width=\"600\" align=\"center\" />\n"
   ]
  },
  {
   "cell_type": "code",
   "execution_count": 49,
   "id": "11f63288-e9f7-41f0-9841-1c0588b6215f",
   "metadata": {},
   "outputs": [
    {
     "data": {
      "text/plain": [
       "5"
      ]
     },
     "execution_count": 49,
     "metadata": {},
     "output_type": "execute_result"
    }
   ],
   "source": [
    "name = \"Michael Jackson\"\n",
    "name.find('el') # il risultato rappresenta l'indice della prima lettera della sottostringa"
   ]
  },
  {
   "cell_type": "code",
   "execution_count": 50,
   "id": "aa3a1ffc-5eed-4ed1-948d-4e202352ca7c",
   "metadata": {},
   "outputs": [
    {
     "data": {
      "text/plain": [
       "8"
      ]
     },
     "execution_count": 50,
     "metadata": {},
     "output_type": "execute_result"
    }
   ],
   "source": [
    "name.find('Jack')"
   ]
  },
  {
   "cell_type": "markdown",
   "id": "7bb64b40-67fe-4514-bc3e-c66994c86b58",
   "metadata": {},
   "source": [
    "___"
   ]
  },
  {
   "cell_type": "markdown",
   "id": "6ed1c0bd-dd63-4184-9ea6-47644104ceea",
   "metadata": {},
   "source": [
    "## List\n",
    "### Indexing\n",
    "Una lista è una sequenza di differenti oggetti tra cui interi, stringhe e anche altre liste. Ogni elemento della lista viene chiamato **index**. A ciascun index fa riferimento uno specifico **elemento** all'interno della lista."
   ]
  },
  {
   "cell_type": "code",
   "execution_count": 51,
   "id": "6d9447c9-c4cf-4c59-928a-04ea74dcc2f3",
   "metadata": {},
   "outputs": [
    {
     "data": {
      "text/plain": [
       "['Michael Jackson', 10.1, 1982]"
      ]
     },
     "execution_count": 51,
     "metadata": {},
     "output_type": "execute_result"
    }
   ],
   "source": [
    "# Creiamo una lista\n",
    "L = [\"Michael Jackson\",10.1, 1982]\n",
    "L"
   ]
  },
  {
   "cell_type": "markdown",
   "id": "fa9d69c2-38f2-4213-bef9-accd0301d210",
   "metadata": {},
   "source": [
    "Anche per le liste l'indexing può essere sia negativo che positivo."
   ]
  },
  {
   "cell_type": "code",
   "execution_count": 52,
   "id": "ba909b13-d462-44d9-bd42-14cd1f7adde9",
   "metadata": {},
   "outputs": [
    {
     "name": "stdout",
     "output_type": "stream",
     "text": [
      "Otteniamo lo stesso elemento con \n",
      " Indexing Positivo: Michael Jackson \n",
      " Indexing Negativo: Michael Jackson\n",
      "\n",
      "\n",
      "Otteniamo lo stesso elemento con \n",
      " Indexing Positivo: 10.1 \n",
      " Indexing Negativo: 10.1\n",
      "\n",
      "\n",
      "Otteniamo lo stesso elemento con \n",
      " Indexing Positivo: 1982 \n",
      " Indexing Negativo: 1982\n"
     ]
    }
   ],
   "source": [
    "print(\"Otteniamo lo stesso elemento con \\n Indexing Positivo:\", L[0], \"\\n Indexing Negativo:\", L[-3])\n",
    "print(\"\\n\")\n",
    "print(\"Otteniamo lo stesso elemento con \\n Indexing Positivo:\", L[1], \"\\n Indexing Negativo:\", L[-2])\n",
    "print(\"\\n\")\n",
    "print(\"Otteniamo lo stesso elemento con \\n Indexing Positivo:\", L[2], \"\\n Indexing Negativo:\", L[-1])"
   ]
  },
  {
   "cell_type": "markdown",
   "id": "ef43dda7-bf02-4d22-8eee-61a45176d6c9",
   "metadata": {},
   "source": [
    "### Slicing"
   ]
  },
  {
   "cell_type": "code",
   "execution_count": 53,
   "id": "c0806708-b773-4eda-808c-cec0bdbdf108",
   "metadata": {},
   "outputs": [
    {
     "data": {
      "text/plain": [
       "['Michael Jackson', 10.1, 1982, 'MJ', 1]"
      ]
     },
     "execution_count": 53,
     "metadata": {},
     "output_type": "execute_result"
    }
   ],
   "source": [
    "# Creiamo una lista\n",
    "L = [\"Michael Jackson\", 10.1, 1982, \"MJ\", 1]\n",
    "L"
   ]
  },
  {
   "cell_type": "code",
   "execution_count": 54,
   "id": "ea9a4b80-fa14-47a6-9afe-34834f746d95",
   "metadata": {},
   "outputs": [
    {
     "data": {
      "text/plain": [
       "['MJ', 1]"
      ]
     },
     "execution_count": 54,
     "metadata": {},
     "output_type": "execute_result"
    }
   ],
   "source": [
    "# Facciamo lo slicing della lista\n",
    "L[3:5] # Parte dall'indice 3 (MJ) fino al quinto elemento a partire dal primo (1)"
   ]
  },
  {
   "cell_type": "markdown",
   "id": "4cac81a1-fe90-4957-9c11-4d4f959a5858",
   "metadata": {},
   "source": [
    "### Extend e Append\n",
    "Per aggiungere un nuovo elemento alla lista è possibile utilizzare due metodi `extend` e `append`. Il primo aggiunge gli elementi come indici multipli (se presente più di uno), il secondo invece aggiunge gli elementi come unico indice. Vedere esempio di seguito."
   ]
  },
  {
   "cell_type": "code",
   "execution_count": 55,
   "id": "b579a415-fdc7-4f99-b2a2-cc73ef2b60c3",
   "metadata": {},
   "outputs": [
    {
     "data": {
      "text/plain": [
       "['Michael Jackson', 10.2, 'pop', 10]"
      ]
     },
     "execution_count": 55,
     "metadata": {},
     "output_type": "execute_result"
    }
   ],
   "source": [
    "# Impiego del metodo EXTEND\n",
    "L = [\"Michael Jackson\", 10.2]\n",
    "L.extend(['pop', 10])\n",
    "L"
   ]
  },
  {
   "cell_type": "markdown",
   "id": "44aa8918-e6b3-4c0b-93cb-d27dd530decb",
   "metadata": {},
   "source": [
    "Notare come pop e 10 siano stati aggiunti come due elementi separati, incrementando l'index di due valori."
   ]
  },
  {
   "cell_type": "code",
   "execution_count": 56,
   "id": "95933196-3f08-4ce8-9186-acf08365aa6c",
   "metadata": {},
   "outputs": [
    {
     "data": {
      "text/plain": [
       "['Michael Jackson', 10.2, ('pop', 10)]"
      ]
     },
     "execution_count": 56,
     "metadata": {},
     "output_type": "execute_result"
    }
   ],
   "source": [
    "# Impiego del metodo APPEND\n",
    "L = [\"Michael Jackson\", 10.2]\n",
    "L.append(('pop',10))\n",
    "L"
   ]
  },
  {
   "cell_type": "markdown",
   "id": "0d5c5316-4dc2-4e40-85aa-285413788dd0",
   "metadata": {},
   "source": [
    "In questo caso, la nuova lista si compone di 3 elementi, dove l'ultimo è costituito da pop e 10.\n",
    "\n",
    "### Modificare gli elementi\n",
    "Siccome le liste sono mutabili, è possibile modificarle e sostituire gli elementi al loro interno."
   ]
  },
  {
   "cell_type": "code",
   "execution_count": 57,
   "id": "8c821d49-06e7-449a-949a-63eafc3e10b5",
   "metadata": {},
   "outputs": [
    {
     "name": "stdout",
     "output_type": "stream",
     "text": [
      "Prima di cambiare la lista\n",
      " ['disco', 10, 1.2]\n",
      "Dopo aver sostituito il primo indice\n",
      " ['hard rock', 10, 1.2]\n"
     ]
    }
   ],
   "source": [
    "# Cambiamo gli elementi\n",
    "A = [\"disco\", 10, 1.2]\n",
    "print ('Prima di cambiare la lista\\n', A)\n",
    "\n",
    "A[0] = 'hard rock'\n",
    "print('Dopo aver sostituito il primo indice\\n', A)"
   ]
  },
  {
   "cell_type": "markdown",
   "id": "efff622f-ee3e-4e74-8a10-55eb21321ac6",
   "metadata": {},
   "source": [
    "#### Comando `del`\n",
    "Oltre alla sostituzione dei vari elementi possiamo anche eliminarli attraverso il comando `del`"
   ]
  },
  {
   "cell_type": "code",
   "execution_count": 58,
   "id": "6ab1bd0f-2310-4377-9e1f-e19a2a9a5438",
   "metadata": {},
   "outputs": [
    {
     "name": "stdout",
     "output_type": "stream",
     "text": [
      "Prima del cambiamento \n",
      " ['hard rock', 10, 1.2]\n",
      "Dopo aver cancellato il primo elemento \n",
      " [10, 1.2]\n"
     ]
    }
   ],
   "source": [
    "# Cancelliamo il primo indice\n",
    "print('Prima del cambiamento \\n', A)\n",
    "del(A[0])\n",
    "print('Dopo aver cancellato il primo elemento \\n',A)"
   ]
  },
  {
   "cell_type": "markdown",
   "id": "53cf600b-0786-40f8-8744-9273f9be8b55",
   "metadata": {},
   "source": [
    "#### Comando `split`\n",
    "Viene utilizzato per convertire una stringa in una lista. In particolare genera un elemento per ogni carattere, o gruppo di caratteri, separati da uno spazio."
   ]
  },
  {
   "cell_type": "code",
   "execution_count": 59,
   "id": "76ea9db3-bf14-4522-8536-8d746cd07bc3",
   "metadata": {},
   "outputs": [
    {
     "data": {
      "text/plain": [
       "['Hard', 'Rock']"
      ]
     },
     "execution_count": 59,
     "metadata": {},
     "output_type": "execute_result"
    }
   ],
   "source": [
    "'Hard Rock'.split()"
   ]
  },
  {
   "cell_type": "markdown",
   "id": "1838fc2b-5591-4457-ba9e-76b91cdc0c44",
   "metadata": {},
   "source": [
    "È possibile definire anche un separatore."
   ]
  },
  {
   "cell_type": "code",
   "execution_count": 60,
   "id": "4d99d47c-c43b-407d-b909-95029335ea5b",
   "metadata": {},
   "outputs": [
    {
     "data": {
      "text/plain": [
       "['A', 'B', 'C', 'D']"
      ]
     },
     "execution_count": 60,
     "metadata": {},
     "output_type": "execute_result"
    }
   ],
   "source": [
    "'A,B,C,D'.split(',')"
   ]
  },
  {
   "cell_type": "markdown",
   "id": "8936152d-1516-4229-b834-831658d47602",
   "metadata": {},
   "source": [
    "### Copiare e Clonare le liste\n",
    "Quando impostiamo una variabile **B** uguale ad **A**, sia **A** che **B** fanno riferimento alla stessa lista salvata nella memoria"
   ]
  },
  {
   "cell_type": "markdown",
   "id": "f7f0d08a-2afa-4593-94a0-c04cc8591abe",
   "metadata": {},
   "source": [
    "#### Copiare"
   ]
  },
  {
   "cell_type": "code",
   "execution_count": 61,
   "id": "531cb46b-1c90-4919-a68a-ee2c99c30f80",
   "metadata": {},
   "outputs": [
    {
     "name": "stdout",
     "output_type": "stream",
     "text": [
      "A ['hard rock', 10, 1.2]\n",
      "B ['hard rock', 10, 1.2]\n"
     ]
    }
   ],
   "source": [
    "# Copiamo due liste\n",
    "A = [\"hard rock\", 10, 1.2]\n",
    "B = A\n",
    "print('A', A)\n",
    "print('B', B)"
   ]
  },
  {
   "cell_type": "markdown",
   "id": "136fcfb0-643c-4b5e-a6e2-db3c72590d2e",
   "metadata": {},
   "source": [
    "Se modifichiamo il primo elemento di **A**, questo verrà cambiato anche in B."
   ]
  },
  {
   "cell_type": "code",
   "execution_count": 62,
   "id": "f33ec001-4a34-4fd7-aa73-3ddc84d2e47e",
   "metadata": {},
   "outputs": [
    {
     "name": "stdout",
     "output_type": "stream",
     "text": [
      "B[0]: hard rock\n",
      "B[0]: banana\n"
     ]
    }
   ],
   "source": [
    "print('B[0]:', B[0])\n",
    "A[0] = \"banana\"\n",
    "print('B[0]:', B[0])"
   ]
  },
  {
   "cell_type": "markdown",
   "id": "4ed49351-2212-4975-8565-1a4cb3ed5819",
   "metadata": {},
   "source": [
    "#### Clonare\n",
    "La clonazione non si porta dietro le eventuali modifiche apportate alla prima variabile, come si puo' vedere nell'esempio successivo: dopo aver eseguito la clonazione di **A** su **B**, modificando il primo elemento di **A**, non viene riflesso su **B**"
   ]
  },
  {
   "cell_type": "code",
   "execution_count": 63,
   "id": "c05dff92-b1d7-4265-8bf0-1bb38c698177",
   "metadata": {},
   "outputs": [
    {
     "data": {
      "text/plain": [
       "['hard rock', 10, 1.2]"
      ]
     },
     "execution_count": 63,
     "metadata": {},
     "output_type": "execute_result"
    }
   ],
   "source": [
    "A = [\"hard rock\", 10, 1.2]\n",
    "B = A[:]\n",
    "B"
   ]
  },
  {
   "cell_type": "code",
   "execution_count": 64,
   "id": "48f46f56-9343-4f5c-9cb0-82e39d200786",
   "metadata": {},
   "outputs": [
    {
     "name": "stdout",
     "output_type": "stream",
     "text": [
      "B[0] hard rock\n",
      "B[0] hard rock\n"
     ]
    }
   ],
   "source": [
    "print('B[0]', B[0])\n",
    "A[0] = \"banana\"\n",
    "print('B[0]', B[0])"
   ]
  },
  {
   "cell_type": "markdown",
   "id": "3cfeeb56-286e-48d2-94c1-07785db35381",
   "metadata": {},
   "source": [
    "---"
   ]
  },
  {
   "cell_type": "markdown",
   "id": "42ab881b-0d1e-4662-9cfb-1468481949d1",
   "metadata": {},
   "source": [
    "## Tuples\n",
    "La principale caratteristica delle Tuples è che sono **immutabili** pertanto una volta definita non c'è modo di modificarla, se non salvarla sotto un'altra variabile. Una tuple è caratterizzata da diversi elementi, seprati da una virgola `,` e racchiusi tra parentesi tonde `()`"
   ]
  },
  {
   "cell_type": "code",
   "execution_count": 65,
   "id": "cf68e34a-fd89-42c5-ba87-9e1437cee327",
   "metadata": {},
   "outputs": [
    {
     "data": {
      "text/plain": [
       "('disco', 10, 1.2)"
      ]
     },
     "execution_count": 65,
     "metadata": {},
     "output_type": "execute_result"
    }
   ],
   "source": [
    "# Creiamo una tuple\n",
    "tuple1 = (\"disco\", 10, 1.2)\n",
    "tuple1"
   ]
  },
  {
   "cell_type": "code",
   "execution_count": 66,
   "id": "d59fc418-ed8f-4d12-962f-d3c3a7ced6e6",
   "metadata": {},
   "outputs": [
    {
     "data": {
      "text/plain": [
       "tuple"
      ]
     },
     "execution_count": 66,
     "metadata": {},
     "output_type": "execute_result"
    }
   ],
   "source": [
    "type(tuple1)"
   ]
  },
  {
   "cell_type": "markdown",
   "id": "a7ac008d-e814-408f-abb0-686224f40d07",
   "metadata": {},
   "source": [
    "### Indexing\n",
    "Possiamo stampare ciascun valore della tuple:"
   ]
  },
  {
   "cell_type": "code",
   "execution_count": 67,
   "id": "c8483978-cd91-4f17-a8cc-2d87225825bc",
   "metadata": {},
   "outputs": [
    {
     "name": "stdout",
     "output_type": "stream",
     "text": [
      "Indexing diretto: disco \t Indexing indiretto: disco\n",
      "Indexing diretto: 10 \t\t Indexing indiretto: 10\n",
      "Indexing diretto: 1.2 \t\t Indexing indiretto: 1.2\n"
     ]
    }
   ],
   "source": [
    "print('Indexing diretto:',tuple1[0],'\\t Indexing indiretto:', tuple1[-3])\n",
    "print('Indexing diretto:',tuple1[1],'\\t\\t Indexing indiretto:', tuple1[-2])\n",
    "print('Indexing diretto:',tuple1[2],'\\t\\t Indexing indiretto:', tuple1[-1])"
   ]
  },
  {
   "cell_type": "markdown",
   "id": "5762d9a3-aa5a-4c3b-b29c-0bd5fa4edfa5",
   "metadata": {},
   "source": [
    "### Concatenamento"
   ]
  },
  {
   "cell_type": "code",
   "execution_count": 68,
   "id": "6dfdd947-4042-4f3f-b1ec-f75cd2f12eca",
   "metadata": {},
   "outputs": [
    {
     "data": {
      "text/plain": [
       "('disco', 10, 1.2, 'hard rock', 10)"
      ]
     },
     "execution_count": 68,
     "metadata": {},
     "output_type": "execute_result"
    }
   ],
   "source": [
    "tuple2 = tuple1 + (\"hard rock\", 10)\n",
    "tuple2"
   ]
  },
  {
   "cell_type": "markdown",
   "id": "8f330c94-9dd8-417a-9cb7-888ca4efc5e9",
   "metadata": {},
   "source": [
    "### Slicing"
   ]
  },
  {
   "cell_type": "code",
   "execution_count": 69,
   "id": "229672d0-24ec-4541-b854-3d6ba317e755",
   "metadata": {},
   "outputs": [
    {
     "data": {
      "text/plain": [
       "('disco', 10, 1.2)"
      ]
     },
     "execution_count": 69,
     "metadata": {},
     "output_type": "execute_result"
    }
   ],
   "source": [
    "tuple2[0:3]"
   ]
  },
  {
   "cell_type": "code",
   "execution_count": 70,
   "id": "cf1a83fd-7ac9-45ef-97af-506b995f5a69",
   "metadata": {},
   "outputs": [
    {
     "data": {
      "text/plain": [
       "5"
      ]
     },
     "execution_count": 70,
     "metadata": {},
     "output_type": "execute_result"
    }
   ],
   "source": [
    "len(tuple2)"
   ]
  },
  {
   "cell_type": "markdown",
   "id": "523e2fc1-938e-43bd-9cf8-1fc6551bff13",
   "metadata": {},
   "source": [
    "### Sorting"
   ]
  },
  {
   "cell_type": "code",
   "execution_count": 71,
   "id": "fe22b5fd-e7af-4350-827c-477212ae0073",
   "metadata": {},
   "outputs": [],
   "source": [
    "Ratings = (0, 9, 6, 5, 10, 8, 9, 6, 2)"
   ]
  },
  {
   "cell_type": "code",
   "execution_count": 72,
   "id": "0d556247-47ca-4b48-9a49-f32e9e4003df",
   "metadata": {},
   "outputs": [
    {
     "data": {
      "text/plain": [
       "[0, 2, 5, 6, 6, 8, 9, 9, 10]"
      ]
     },
     "execution_count": 72,
     "metadata": {},
     "output_type": "execute_result"
    }
   ],
   "source": [
    "RatingsSorted = sorted(Ratings)\n",
    "RatingsSorted"
   ]
  },
  {
   "cell_type": "markdown",
   "id": "7feba5a2-6c64-4cd2-92e8-4612f9ce87d0",
   "metadata": {},
   "source": [
    "### Nested Tuple\n",
    "Possiamo avere tuples annidate ed accedere ai singoli elementi mediante l'indexing."
   ]
  },
  {
   "cell_type": "code",
   "execution_count": 73,
   "id": "e00a1fa1-299a-464c-aa41-312b13bf1e2b",
   "metadata": {},
   "outputs": [],
   "source": [
    "NestedT = (1, 2, (\"pop\", \"rock\"), (3, 4), (\"disco\",(1,2)))"
   ]
  },
  {
   "cell_type": "code",
   "execution_count": 74,
   "id": "ad64f53d-3ef3-4cb6-8271-6299814b0b94",
   "metadata": {},
   "outputs": [
    {
     "name": "stdout",
     "output_type": "stream",
     "text": [
      "Elemento 0: 1\n",
      "Elemento 1: 2\n",
      "Elemento 2: ('pop', 'rock')\n",
      "Elemento 3: (3, 4)\n",
      "Elemento 4: ('disco', (1, 2))\n"
     ]
    }
   ],
   "source": [
    "print(\"Elemento 0:\", NestedT[0])\n",
    "print(\"Elemento 1:\", NestedT[1])\n",
    "print(\"Elemento 2:\", NestedT[2])\n",
    "print(\"Elemento 3:\", NestedT[3])\n",
    "print(\"Elemento 4:\", NestedT[4])"
   ]
  },
  {
   "cell_type": "code",
   "execution_count": 75,
   "id": "29b9b6a4-b953-4135-a9ab-00d840f2d73c",
   "metadata": {},
   "outputs": [
    {
     "name": "stdout",
     "output_type": "stream",
     "text": [
      "Elemento 2,0: pop\n",
      "Elemento 2,1: rock\n",
      "Elemento 3,0: 3\n",
      "Elemento 2,1: 4\n",
      "Elemento 4,0: disco\n",
      "Elemento 4,1: (1, 2)\n"
     ]
    }
   ],
   "source": [
    "print(\"Elemento 2,0:\", NestedT[2][0])\n",
    "print(\"Elemento 2,1:\", NestedT[2][1])\n",
    "print(\"Elemento 3,0:\", NestedT[3][0])\n",
    "print(\"Elemento 2,1:\", NestedT[3][1])\n",
    "print(\"Elemento 4,0:\", NestedT[4][0])\n",
    "print(\"Elemento 4,1:\", NestedT[4][1])"
   ]
  },
  {
   "cell_type": "code",
   "execution_count": 76,
   "id": "3b278466-8c15-4470-9c76-5337124c7449",
   "metadata": {},
   "outputs": [
    {
     "data": {
      "text/plain": [
       "'r'"
      ]
     },
     "execution_count": 76,
     "metadata": {},
     "output_type": "execute_result"
    }
   ],
   "source": [
    "NestedT[2][1][0]"
   ]
  },
  {
   "cell_type": "code",
   "execution_count": 77,
   "id": "9de67392-a09d-4e65-b763-5c598b4d9d7a",
   "metadata": {},
   "outputs": [
    {
     "data": {
      "text/plain": [
       "2"
      ]
     },
     "execution_count": 77,
     "metadata": {},
     "output_type": "execute_result"
    }
   ],
   "source": [
    "NestedT[4][1][1]"
   ]
  },
  {
   "cell_type": "markdown",
   "id": "9ce2c8ee-3d46-40ec-a81c-c0287fc2504b",
   "metadata": {},
   "source": [
    "---"
   ]
  },
  {
   "cell_type": "markdown",
   "id": "b9538963-eba8-4b44-a6fe-844faf970178",
   "metadata": {},
   "source": [
    "## Dizionario\n",
    "Un dizionario consiste di chiavi e valori. È comodo comparare un dizionare ad una lista. Tuttavia anzichè essere indicizzato numericamente come le liste, il dizionare è costituito da chiavi. Le chiavi sono utilizzate per accedere ai valori all'interno del dizionario."
   ]
  },
  {
   "cell_type": "code",
   "execution_count": 78,
   "id": "0bd69f6e-36ca-44b6-bc30-5d85f7e5b530",
   "metadata": {},
   "outputs": [
    {
     "data": {
      "text/plain": [
       "{'key1': 1,\n",
       " 'key2': '2',\n",
       " 'key3': [3, 3, 3],\n",
       " 'key4': (4, 4, 4),\n",
       " 'key5': 5,\n",
       " (0, 1): 6}"
      ]
     },
     "execution_count": 78,
     "metadata": {},
     "output_type": "execute_result"
    }
   ],
   "source": [
    "# Creiamo un dizionario\n",
    "Dict = {\"key1\": 1, \"key2\": \"2\", \"key3\": [3, 3, 3], \"key4\": (4, 4, 4), ('key5'): 5, (0, 1): 6}\n",
    "Dict"
   ]
  },
  {
   "cell_type": "code",
   "execution_count": 79,
   "id": "8d9413bc-a3df-4284-8c33-f041461ea5f4",
   "metadata": {},
   "outputs": [
    {
     "name": "stdout",
     "output_type": "stream",
     "text": [
      "[3, 3, 3]\n",
      "6\n"
     ]
    }
   ],
   "source": [
    "# Per accedere ad un valore specifico\n",
    "print(Dict['key3']) # ho usato il comando print per visualizzare entrambi i risultati\n",
    "print(Dict[(0,1)])"
   ]
  },
  {
   "cell_type": "markdown",
   "id": "a0dca18b-2ade-4a8e-9891-ba61a84020d7",
   "metadata": {},
   "source": [
    "Nei dizionari, le chiavi sono seprate dai valori mediante i due punti `:`. Ciacun elemento (chiave e valore) è separato da una virgola. I diversi valori sono racchiusi tra due parentesi graffe `{}`."
   ]
  },
  {
   "cell_type": "code",
   "execution_count": 80,
   "id": "45a669e3-2554-4ff0-993b-998da2f24ca3",
   "metadata": {},
   "outputs": [
    {
     "data": {
      "text/plain": [
       "{'Thriller': '1982',\n",
       " 'Back in Black': '1980',\n",
       " 'The Dark Side of the Moon': '1973',\n",
       " 'The Bodyguard': '1992',\n",
       " 'Bat Out of Hell': '1977',\n",
       " 'Their Greatest Hits (1971-1975)': '1976',\n",
       " 'Saturday Night Fever': '1977',\n",
       " 'Rumours': '1977'}"
      ]
     },
     "execution_count": 80,
     "metadata": {},
     "output_type": "execute_result"
    }
   ],
   "source": [
    "# Creiamo un dizionario di esempio:\n",
    "release_year_dict = {\"Thriller\": \"1982\", \"Back in Black\": \"1980\", \\\n",
    "                    \"The Dark Side of the Moon\": \"1973\", \"The Bodyguard\": \"1992\", \\\n",
    "                    \"Bat Out of Hell\": \"1977\", \"Their Greatest Hits (1971-1975)\": \"1976\", \\\n",
    "                    \"Saturday Night Fever\": \"1977\", \"Rumours\": \"1977\"}\n",
    "release_year_dict"
   ]
  },
  {
   "cell_type": "markdown",
   "id": "e51bf239-57e3-4829-b646-b80bcd5407c7",
   "metadata": {},
   "source": [
    "### Chiavi\n",
    "Possiamo estrarre tutte le chiavi presenti nel dizionario con il metodo `keys()``"
   ]
  },
  {
   "cell_type": "code",
   "execution_count": 81,
   "id": "f9196d81-e138-4fe3-ad6d-9bc3a79b517b",
   "metadata": {},
   "outputs": [
    {
     "data": {
      "text/plain": [
       "dict_keys(['Thriller', 'Back in Black', 'The Dark Side of the Moon', 'The Bodyguard', 'Bat Out of Hell', 'Their Greatest Hits (1971-1975)', 'Saturday Night Fever', 'Rumours'])"
      ]
     },
     "execution_count": 81,
     "metadata": {},
     "output_type": "execute_result"
    }
   ],
   "source": [
    "release_year_dict.keys()"
   ]
  },
  {
   "cell_type": "markdown",
   "id": "a525395b-12a3-4358-8c65-65b68bb77b3a",
   "metadata": {},
   "source": [
    "### Valori\n",
    "Allo stesso modo possiamo estrarre tutti i valori del dizionario con il metodo `values()`"
   ]
  },
  {
   "cell_type": "code",
   "execution_count": 82,
   "id": "a4c6ae5a-eb9f-429e-9891-3d663c045a48",
   "metadata": {},
   "outputs": [
    {
     "data": {
      "text/plain": [
       "dict_values(['1982', '1980', '1973', '1992', '1977', '1976', '1977', '1977'])"
      ]
     },
     "execution_count": 82,
     "metadata": {},
     "output_type": "execute_result"
    }
   ],
   "source": [
    "release_year_dict.values()"
   ]
  },
  {
   "cell_type": "markdown",
   "id": "b1463338-0350-4baa-aa7d-b5603bd1aff7",
   "metadata": {},
   "source": [
    "### Aggiungere un elemento"
   ]
  },
  {
   "cell_type": "code",
   "execution_count": 83,
   "id": "c075791a-ce0b-4a5e-8421-d80742c076d4",
   "metadata": {},
   "outputs": [
    {
     "data": {
      "text/plain": [
       "{'Thriller': '1982',\n",
       " 'Back in Black': '1980',\n",
       " 'The Dark Side of the Moon': '1973',\n",
       " 'The Bodyguard': '1992',\n",
       " 'Bat Out of Hell': '1977',\n",
       " 'Their Greatest Hits (1971-1975)': '1976',\n",
       " 'Saturday Night Fever': '1977',\n",
       " 'Rumours': '1977',\n",
       " 'Graduation': '2007'}"
      ]
     },
     "execution_count": 83,
     "metadata": {},
     "output_type": "execute_result"
    }
   ],
   "source": [
    "release_year_dict['Graduation'] = '2007'\n",
    "release_year_dict"
   ]
  },
  {
   "cell_type": "markdown",
   "id": "c91889a0-8b36-4b48-8b73-025a899e546e",
   "metadata": {},
   "source": [
    "### Eliminare un elemento"
   ]
  },
  {
   "cell_type": "code",
   "execution_count": 84,
   "id": "70f49f84-542d-4e91-898c-0d069667b944",
   "metadata": {},
   "outputs": [
    {
     "data": {
      "text/plain": [
       "{'Back in Black': '1980',\n",
       " 'The Dark Side of the Moon': '1973',\n",
       " 'The Bodyguard': '1992',\n",
       " 'Bat Out of Hell': '1977',\n",
       " 'Their Greatest Hits (1971-1975)': '1976',\n",
       " 'Saturday Night Fever': '1977',\n",
       " 'Rumours': '1977'}"
      ]
     },
     "execution_count": 84,
     "metadata": {},
     "output_type": "execute_result"
    }
   ],
   "source": [
    "del(release_year_dict['Thriller'])\n",
    "del(release_year_dict['Graduation'])\n",
    "release_year_dict"
   ]
  },
  {
   "cell_type": "markdown",
   "id": "9decf657-a945-4d79-9d52-25a86ca655f6",
   "metadata": {},
   "source": [
    "### Verificare la presenza di una chiave all'interno del dizionario"
   ]
  },
  {
   "cell_type": "code",
   "execution_count": 85,
   "id": "816a5a76-16c5-4c89-959e-cf09924bdf56",
   "metadata": {},
   "outputs": [
    {
     "data": {
      "text/plain": [
       "True"
      ]
     },
     "execution_count": 85,
     "metadata": {},
     "output_type": "execute_result"
    }
   ],
   "source": [
    "'The Bodyguard' in release_year_dict"
   ]
  },
  {
   "cell_type": "code",
   "execution_count": 86,
   "id": "21a6c83b-4c34-496e-a168-dde436453cfc",
   "metadata": {},
   "outputs": [
    {
     "data": {
      "text/plain": [
       "False"
      ]
     },
     "execution_count": 86,
     "metadata": {},
     "output_type": "execute_result"
    }
   ],
   "source": [
    "'Graduation' in release_year_dict"
   ]
  },
  {
   "cell_type": "markdown",
   "id": "5bde78f0-4947-431b-ac24-5b1d32bb5201",
   "metadata": {},
   "source": [
    "----"
   ]
  },
  {
   "cell_type": "markdown",
   "id": "7dfd542f-7739-4330-99ed-b2fe3d053d9c",
   "metadata": {},
   "source": [
    "## Set\n",
    "Un set è un insieme unico di oggetti in Python, racchiuso da un paio di parentesi graffe `{}`. La principale caratteristica del set è che elimina automaticamente gli elementi duplicati."
   ]
  },
  {
   "cell_type": "code",
   "execution_count": 87,
   "id": "47d20e69-bee3-4c75-afb9-0338680ccb5c",
   "metadata": {},
   "outputs": [
    {
     "data": {
      "text/plain": [
       "{'R&B', 'disco', 'hard rock', 'pop', 'rock', 'soul'}"
      ]
     },
     "execution_count": 87,
     "metadata": {},
     "output_type": "execute_result"
    }
   ],
   "source": [
    "set1 = {\"pop\", \"rock\", \"soul\", \"hard rock\", \"rock\", \"R&B\", \"rock\", \"disco\"}\n",
    "set1"
   ]
  },
  {
   "cell_type": "markdown",
   "id": "a9efb25a-591f-49c1-beea-9bdf92f91e12",
   "metadata": {},
   "source": [
    "È possibile convertire una lista in un set con il comando `set()`"
   ]
  },
  {
   "cell_type": "code",
   "execution_count": 88,
   "id": "db8ddcb7-dc3c-4ab3-9d1b-a36e6dddf403",
   "metadata": {},
   "outputs": [
    {
     "data": {
      "text/plain": [
       "{'00:42:19',\n",
       " 10.0,\n",
       " 1982,\n",
       " '30-Nov-82',\n",
       " 46.0,\n",
       " 65,\n",
       " 'Michael Jackson',\n",
       " None,\n",
       " 'Pop, Rock, R&B',\n",
       " 'Thriller'}"
      ]
     },
     "execution_count": 88,
     "metadata": {},
     "output_type": "execute_result"
    }
   ],
   "source": [
    "album_list = [ \"Michael Jackson\", \"Thriller\", 1982, \"00:42:19\", \\\n",
    "              \"Pop, Rock, R&B\", 46.0, 65, \"30-Nov-82\", None, 10.0]\n",
    "album_set = set(album_list)             \n",
    "album_set"
   ]
  },
  {
   "cell_type": "code",
   "execution_count": 89,
   "id": "98ef5e2e-19bd-4178-bfc1-d80020525f82",
   "metadata": {},
   "outputs": [
    {
     "data": {
      "text/plain": [
       "{'R&B',\n",
       " 'disco',\n",
       " 'folk rock',\n",
       " 'hard rock',\n",
       " 'pop',\n",
       " 'progressive rock',\n",
       " 'rock',\n",
       " 'soft rock',\n",
       " 'soul'}"
      ]
     },
     "execution_count": 89,
     "metadata": {},
     "output_type": "execute_result"
    }
   ],
   "source": [
    "# Creiamo un set di generi musicali\n",
    "music_genres = set([\"pop\", \"pop\", \"rock\", \"folk rock\", \"hard rock\", \"soul\", \\\n",
    "                    \"progressive rock\", \"soft rock\", \"R&B\", \"disco\"])\n",
    "music_genres"
   ]
  },
  {
   "cell_type": "markdown",
   "id": "0995cfb3-ece7-4da5-ac64-58862364e2f6",
   "metadata": {},
   "source": [
    "### Operazioni con i Set"
   ]
  },
  {
   "cell_type": "code",
   "execution_count": 90,
   "id": "ea5e84d4-0e46-4efe-8f42-4c9b3f20888c",
   "metadata": {},
   "outputs": [
    {
     "data": {
      "text/plain": [
       "{'AC/DC', 'Back in Black', 'Thriller'}"
      ]
     },
     "execution_count": 90,
     "metadata": {},
     "output_type": "execute_result"
    }
   ],
   "source": [
    "# Sample set\n",
    "A = set([\"Thriller\", \"Back in Black\", \"AC/DC\"])\n",
    "A"
   ]
  },
  {
   "cell_type": "markdown",
   "id": "917f940e-dd15-4af5-9302-02b095eec03d",
   "metadata": {},
   "source": [
    "#### Addizioni\n",
    "Possiamo utilizzare il metodo `add()`"
   ]
  },
  {
   "cell_type": "code",
   "execution_count": 91,
   "id": "7196c0d2-3def-46e1-a85a-6912fb572d92",
   "metadata": {},
   "outputs": [
    {
     "data": {
      "text/plain": [
       "{'AC/DC', 'Back in Black', 'NSYNC', 'Thriller'}"
      ]
     },
     "execution_count": 91,
     "metadata": {},
     "output_type": "execute_result"
    }
   ],
   "source": [
    "A.add(\"NSYNC\")\n",
    "A"
   ]
  },
  {
   "cell_type": "markdown",
   "id": "2f85a5d4-ab61-4ee5-9192-2bbaa066ff7d",
   "metadata": {},
   "source": [
    "#### Eliminare\n",
    "Possiamo utilizzare il metodo `remove`"
   ]
  },
  {
   "cell_type": "code",
   "execution_count": 92,
   "id": "9cf9f9d1-cf60-42fe-8c62-455db248af2c",
   "metadata": {},
   "outputs": [
    {
     "data": {
      "text/plain": [
       "{'AC/DC', 'Back in Black', 'Thriller'}"
      ]
     },
     "execution_count": 92,
     "metadata": {},
     "output_type": "execute_result"
    }
   ],
   "source": [
    "A.remove(\"NSYNC\")\n",
    "A"
   ]
  },
  {
   "cell_type": "markdown",
   "id": "8cc3e7b9-b4ea-4e7a-ba85-ec79ec4f0cf5",
   "metadata": {},
   "source": [
    "#### Verifica\n",
    "Per verificare la presenza di un elemento nel set basta usare il comando `in`"
   ]
  },
  {
   "cell_type": "code",
   "execution_count": 93,
   "id": "f584ed23-3b95-4016-b3ef-09fbc8ce9c73",
   "metadata": {},
   "outputs": [
    {
     "data": {
      "text/plain": [
       "True"
      ]
     },
     "execution_count": 93,
     "metadata": {},
     "output_type": "execute_result"
    }
   ],
   "source": [
    "\"AC/DC\" in A"
   ]
  },
  {
   "cell_type": "markdown",
   "id": "9fe9ae33-fff3-4d55-95cd-8839530c0948",
   "metadata": {},
   "source": [
    "#### Operazioni Logiche\n",
    "È possibile verificare diversi aspetti con i set come ad esempio la differenza, intersezioni e unioni:"
   ]
  },
  {
   "cell_type": "code",
   "execution_count": 94,
   "id": "c75576c3-2b91-4640-ba36-49c133611408",
   "metadata": {},
   "outputs": [],
   "source": [
    "# Sample Set\n",
    "album_set1 = set([\"Thriller\", 'AC/DC', 'Back in Black'])\n",
    "album_set2 = set([ \"AC/DC\", \"Back in Black\", \"The Dark Side of the Moon\"])"
   ]
  },
  {
   "cell_type": "code",
   "execution_count": 95,
   "id": "d53fda43-9f40-4eea-ae6f-688702dbecc5",
   "metadata": {},
   "outputs": [
    {
     "data": {
      "text/plain": [
       "({'AC/DC', 'Back in Black', 'Thriller'},\n",
       " {'AC/DC', 'Back in Black', 'The Dark Side of the Moon'})"
      ]
     },
     "execution_count": 95,
     "metadata": {},
     "output_type": "execute_result"
    }
   ],
   "source": [
    "album_set1, album_set2"
   ]
  },
  {
   "cell_type": "markdown",
   "id": "96b12f64-7cd5-4c2a-ab79-d3578253d438",
   "metadata": {},
   "source": [
    "##### Intersezione"
   ]
  },
  {
   "cell_type": "code",
   "execution_count": 96,
   "id": "7ee0c960-b287-47e1-bbb6-063d1a28591d",
   "metadata": {},
   "outputs": [
    {
     "data": {
      "text/plain": [
       "{'AC/DC', 'Back in Black'}"
      ]
     },
     "execution_count": 96,
     "metadata": {},
     "output_type": "execute_result"
    }
   ],
   "source": [
    "intersection = album_set1 & album_set2\n",
    "intersection"
   ]
  },
  {
   "cell_type": "markdown",
   "id": "d45ba401-2e9b-4c51-b9f5-31d69b63dcb9",
   "metadata": {},
   "source": [
    "##### Differenza\n",
    "Per trovare tutti gli elementi di `album_set1` che **non** sono contenuti in `album_set2`:"
   ]
  },
  {
   "cell_type": "code",
   "execution_count": 97,
   "id": "19ab35aa-2aaa-4779-95a1-6cbcc765849d",
   "metadata": {},
   "outputs": [
    {
     "data": {
      "text/plain": [
       "{'Thriller'}"
      ]
     },
     "execution_count": 97,
     "metadata": {},
     "output_type": "execute_result"
    }
   ],
   "source": [
    "album_set1.difference(album_set2)"
   ]
  },
  {
   "cell_type": "markdown",
   "id": "dcec160e-07ac-4341-b3f2-5283cada0704",
   "metadata": {},
   "source": [
    "Mentre, tutti gli elementi contenuti in `album_set2`\n",
    " che non sono contentuti in `album_set1`:"
   ]
  },
  {
   "cell_type": "code",
   "execution_count": 98,
   "id": "50862a8c-d33f-4342-9602-9ac5cb42c4ac",
   "metadata": {},
   "outputs": [
    {
     "data": {
      "text/plain": [
       "{'The Dark Side of the Moon'}"
      ]
     },
     "execution_count": 98,
     "metadata": {},
     "output_type": "execute_result"
    }
   ],
   "source": [
    "album_set2.difference(album_set1)"
   ]
  },
  {
   "cell_type": "markdown",
   "id": "d18f0366-0787-4bad-bc58-05c93462e527",
   "metadata": {},
   "source": [
    "##### Intersezione"
   ]
  },
  {
   "cell_type": "code",
   "execution_count": 99,
   "id": "fa737cf0-fbd6-459c-98b7-6f7d916dbefa",
   "metadata": {},
   "outputs": [
    {
     "data": {
      "text/plain": [
       "{'AC/DC', 'Back in Black'}"
      ]
     },
     "execution_count": 99,
     "metadata": {},
     "output_type": "execute_result"
    }
   ],
   "source": [
    "album_set1.intersection(album_set2)"
   ]
  },
  {
   "cell_type": "markdown",
   "id": "090d3280-a39d-43c0-b0bd-90d785bfcf31",
   "metadata": {},
   "source": [
    "##### Unione"
   ]
  },
  {
   "cell_type": "code",
   "execution_count": 100,
   "id": "91eb0ded-6320-4e62-bb4a-21d891ae0375",
   "metadata": {},
   "outputs": [
    {
     "data": {
      "text/plain": [
       "{'AC/DC', 'Back in Black', 'The Dark Side of the Moon', 'Thriller'}"
      ]
     },
     "execution_count": 100,
     "metadata": {},
     "output_type": "execute_result"
    }
   ],
   "source": [
    "album_set1.union(album_set2)"
   ]
  },
  {
   "cell_type": "markdown",
   "id": "50e0f6e5-157c-4428-8db3-b5276cbc3d82",
   "metadata": {},
   "source": [
    "##### Superset"
   ]
  },
  {
   "cell_type": "code",
   "execution_count": 101,
   "id": "fa692343-814b-4b62-8f81-765c0ddecd69",
   "metadata": {},
   "outputs": [
    {
     "data": {
      "text/plain": [
       "False"
      ]
     },
     "execution_count": 101,
     "metadata": {},
     "output_type": "execute_result"
    }
   ],
   "source": [
    "set(album_set1).issuperset(album_set2)"
   ]
  },
  {
   "cell_type": "code",
   "execution_count": 102,
   "id": "b17cac2a-7b3b-4e37-89c8-5fb5b8f9e7d2",
   "metadata": {},
   "outputs": [
    {
     "data": {
      "text/plain": [
       "False"
      ]
     },
     "execution_count": 102,
     "metadata": {},
     "output_type": "execute_result"
    }
   ],
   "source": [
    "set(album_set2).issubset(album_set1)"
   ]
  },
  {
   "cell_type": "code",
   "execution_count": 103,
   "id": "14c96275-1266-4704-8e95-3894b0f615ae",
   "metadata": {},
   "outputs": [
    {
     "data": {
      "text/plain": [
       "True"
      ]
     },
     "execution_count": 103,
     "metadata": {},
     "output_type": "execute_result"
    }
   ],
   "source": [
    "set({\"Back in Black\",\"AC/DC\"}).issubset(album_set1)"
   ]
  },
  {
   "cell_type": "code",
   "execution_count": 104,
   "id": "8146db63-9968-4b9d-8717-81b62354ab2d",
   "metadata": {},
   "outputs": [
    {
     "data": {
      "text/plain": [
       "True"
      ]
     },
     "execution_count": 104,
     "metadata": {},
     "output_type": "execute_result"
    }
   ],
   "source": [
    "album_set1.issuperset({\"Back in Black\",\"AC/DC\"})"
   ]
  },
  {
   "cell_type": "markdown",
   "id": "de88d978-9a97-4ba7-9579-726c16dd97d8",
   "metadata": {},
   "source": [
    "---"
   ]
  },
  {
   "cell_type": "markdown",
   "id": "4aefc42f-4bb4-4739-ac73-6479dbcedc2b",
   "metadata": {},
   "source": [
    "## Conditions\n",
    "### Operatori di comparazione\n",
    "Le operazioni di comparazione vengono impiegati per comprare dei valori o degli operandi basati su una condizione che restituisce un boleano. Le tipologie di operatori sono sono:\n",
    "\n",
    "- Uguale `==`\n",
    "- Non ugurale `!=`\n",
    "- Maggiore di `>`\n",
    "- Minore di `<`\n",
    "- Maggiore uguale di `>=`\n",
    "- Minore uguale di `<=`"
   ]
  },
  {
   "cell_type": "code",
   "execution_count": 105,
   "id": "d39517ee-9392-4f78-8393-912ab9855423",
   "metadata": {},
   "outputs": [
    {
     "data": {
      "text/plain": [
       "False"
      ]
     },
     "execution_count": 105,
     "metadata": {},
     "output_type": "execute_result"
    }
   ],
   "source": [
    "# Uguale\n",
    "a = 5\n",
    "a == 6"
   ]
  },
  {
   "cell_type": "code",
   "execution_count": 106,
   "id": "221b9f01-8fb3-416a-9500-3672774134dc",
   "metadata": {},
   "outputs": [
    {
     "data": {
      "text/plain": [
       "True"
      ]
     },
     "execution_count": 106,
     "metadata": {},
     "output_type": "execute_result"
    }
   ],
   "source": [
    "# Maggiore di\n",
    "i = 6\n",
    "i > 5"
   ]
  },
  {
   "cell_type": "code",
   "execution_count": 107,
   "id": "b459164f-c0b4-41cd-9205-d8534cd50637",
   "metadata": {},
   "outputs": [
    {
     "data": {
      "text/plain": [
       "True"
      ]
     },
     "execution_count": 107,
     "metadata": {},
     "output_type": "execute_result"
    }
   ],
   "source": [
    "# Minore di\n",
    "i = 2\n",
    "i < 5"
   ]
  },
  {
   "cell_type": "code",
   "execution_count": 108,
   "id": "994a3de7-e574-4141-879b-85237e16510a",
   "metadata": {},
   "outputs": [
    {
     "data": {
      "text/plain": [
       "False"
      ]
     },
     "execution_count": 108,
     "metadata": {},
     "output_type": "execute_result"
    }
   ],
   "source": [
    "# Diverso da\n",
    "i = 6\n",
    "i != 6"
   ]
  },
  {
   "cell_type": "code",
   "execution_count": 109,
   "id": "3bac9a8c-672a-4178-8b14-3a847cea46ad",
   "metadata": {},
   "outputs": [
    {
     "name": "stdout",
     "output_type": "stream",
     "text": [
      "False\n",
      "False\n"
     ]
    }
   ],
   "source": [
    "# Comparazione tra stringhe\n",
    "\n",
    "print(\"ACDC\" == \"Michael Jackson\")\n",
    "print(\"ACDC\" == \"acdc\") # La comparazione tra stringhe è case sensitive\n"
   ]
  },
  {
   "cell_type": "markdown",
   "id": "0e2eaa22-7bc6-41f1-a2c9-d918785e08b7",
   "metadata": {},
   "source": [
    "### Branching\n",
    "Il branching permette di eseguire diverse istruzioni per input differenti. L'analisi delle condizioni viene effettuata attraverso un ciclo `if`"
   ]
  },
  {
   "cell_type": "code",
   "execution_count": 110,
   "id": "630ef997-ea8b-4d34-b9b6-e55ca11a7636",
   "metadata": {},
   "outputs": [
    {
     "name": "stdout",
     "output_type": "stream",
     "text": [
      "puoi entrare\n",
      "vai avanti\n"
     ]
    }
   ],
   "source": [
    "# Esempio di ciclo if con condizione vera\n",
    "\n",
    "age = 19\n",
    "\n",
    "# espressione\n",
    "if age > 18:        # Ricordarsi sempre i :\n",
    "    print(\"puoi entrare\")\n",
    "print(\"vai avanti\")"
   ]
  },
  {
   "cell_type": "code",
   "execution_count": 111,
   "id": "b5f17512-3444-4234-b8dc-6dfffa812b2c",
   "metadata": {},
   "outputs": [
    {
     "name": "stdout",
     "output_type": "stream",
     "text": [
      "vai avanti\n"
     ]
    }
   ],
   "source": [
    "# Esempio di ciclo if con condizione non vera\n",
    "\n",
    "age = 18\n",
    "\n",
    "# espressione\n",
    "if age > 18:        # Ricordarsi sempre i :\n",
    "    print(\"puoi entrare\")\n",
    "print(\"vai avanti\")"
   ]
  },
  {
   "cell_type": "code",
   "execution_count": 112,
   "id": "c1783a52-522a-4866-bdc6-3160259011c6",
   "metadata": {},
   "outputs": [
    {
     "name": "stdout",
     "output_type": "stream",
     "text": [
      "vai a vedere i Pink Floid\n",
      "prosegui\n"
     ]
    }
   ],
   "source": [
    "# Esempio di ciclo if con più condizioni\n",
    "\n",
    "age = 18\n",
    "\n",
    "if age > 18:\n",
    "    print(\"puoi entrare\")\n",
    "elif age == 18:\n",
    "    print(\"vai a vedere i Pink Floid\")\n",
    "else:\n",
    "    print(\"vai a vedere i Meat Loaf\")\n",
    "print(\"prosegui\")"
   ]
  },
  {
   "cell_type": "markdown",
   "id": "db8a9ada-84b8-4e97-8da0-6239bc4b7b05",
   "metadata": {},
   "source": [
    "### Operatori logici\n",
    "Gli operatori logici permettono di verificare più di una condizione per volta. Tali operatori sono:\n",
    "\n",
    "- `and` fornisce come risultato `True` solo se tutte le condizioni sono vere.\n",
    "- `or` fornisce come risulato `True` se almeno una delle condizioni è vera\n",
    "- `not` fornisce come risultato l'opposto"
   ]
  },
  {
   "cell_type": "code",
   "execution_count": 113,
   "id": "cddea8a0-692d-4664-9183-6c5eb1c6bb3e",
   "metadata": {},
   "outputs": [
    {
     "name": "stdout",
     "output_type": "stream",
     "text": [
      "L'anno dell'album è compreso tra il 1980 e il 1989\n",
      "\n"
     ]
    }
   ],
   "source": [
    "# Esempio 1\n",
    "\n",
    "album_year = 1980\n",
    "\n",
    "if album_year > 1979 and album_year < 1990:\n",
    "    print(\"L'anno dell'album è compreso tra il 1980 e il 1989\")\n",
    "print(\"\")"
   ]
  },
  {
   "cell_type": "code",
   "execution_count": 114,
   "id": "5c848aa0-fb93-483e-b4b4-aac0b216f156",
   "metadata": {},
   "outputs": [
    {
     "name": "stdout",
     "output_type": "stream",
     "text": [
      "L'album non è stato fatto negli anni 80\n"
     ]
    }
   ],
   "source": [
    "# Esempio 2\n",
    "\n",
    "album_year = 1990\n",
    "\n",
    "if album_year < 1980 or album_year > 1989:\n",
    "    print(\"L'album non è stato fatto negli anni 80\")\n",
    "else:\n",
    "    print(\"L'album è stato fatto negli anni 80\")"
   ]
  },
  {
   "cell_type": "code",
   "execution_count": 1,
   "id": "11d14b55-a236-41c9-9690-990a7c0f4f86",
   "metadata": {},
   "outputs": [
    {
     "name": "stdout",
     "output_type": "stream",
     "text": [
      "L'album non è uscito nel 1984\n"
     ]
    }
   ],
   "source": [
    "# Esempio 3\n",
    "\n",
    "album_year = 1983\n",
    "\n",
    "if not album_year == 1984:\n",
    "    print(\"L'album non è uscito nel 1984\")"
   ]
  },
  {
   "cell_type": "markdown",
   "id": "0eb37bd1-5773-46f3-912c-17d38c509f5d",
   "metadata": {},
   "source": [
    "---"
   ]
  },
  {
   "cell_type": "markdown",
   "id": "35f4837d-4182-4040-9d77-886f7b1511b2",
   "metadata": {},
   "source": [
    "## Loops\n",
    "### Range\n",
    "L'oggetto `range` ritorna molto utile per rappresentare un insieme di oggetti in una lista ordinata. Per generare una lista di numeri che vanno da 0 a 2 è sufficiente scrivere:"
   ]
  },
  {
   "cell_type": "code",
   "execution_count": 2,
   "id": "60f70daf-b3e1-40c7-badd-d020cedf2026",
   "metadata": {},
   "outputs": [
    {
     "data": {
      "text/plain": [
       "range(0, 3)"
      ]
     },
     "execution_count": 2,
     "metadata": {},
     "output_type": "execute_result"
    }
   ],
   "source": [
    "range(3)"
   ]
  },
  {
   "cell_type": "markdown",
   "id": "b1eb5447-672f-408f-acd0-6b864c39997e",
   "metadata": {},
   "source": [
    "**NB** Python 3 non rappresenta la lista con tutti gli elementi, ma solo l'ogetto range con gli estremi."
   ]
  },
  {
   "cell_type": "markdown",
   "id": "a510fa31-0fe7-4296-9212-12609fa2e3d3",
   "metadata": {},
   "source": [
    "### `for` loop\n",
    "Permette di eseguire un blocco di codice più volte. Ad esempio:"
   ]
  },
  {
   "cell_type": "code",
   "execution_count": 2,
   "id": "e1bb38c3-0db5-4efb-9b2d-37b7f8e97397",
   "metadata": {},
   "outputs": [
    {
     "name": "stdout",
     "output_type": "stream",
     "text": [
      "1982\n",
      "1980\n",
      "1973\n"
     ]
    }
   ],
   "source": [
    "dates = [1982,1980,1973]\n",
    "N = len(dates)\n",
    "\n",
    "for i in range(N):\n",
    "    print(dates[i])"
   ]
  },
  {
   "cell_type": "markdown",
   "id": "1d351b18-ca8e-4f86-9b2c-dc9926b6aa86",
   "metadata": {},
   "source": [
    "In python possiamo accedere direttamente agli elementi della lista nel seguente modo:"
   ]
  },
  {
   "cell_type": "code",
   "execution_count": 3,
   "id": "03b1b2f5-26b9-41f1-9434-e1548d04f5a6",
   "metadata": {},
   "outputs": [
    {
     "name": "stdout",
     "output_type": "stream",
     "text": [
      "1982\n",
      "1980\n",
      "1973\n"
     ]
    }
   ],
   "source": [
    "for year in dates: #year è semplicemente la variabile per il contatore\n",
    "    print(year)"
   ]
  },
  {
   "cell_type": "markdown",
   "id": "ac9a32f3-b1dd-45ba-b1ab-1c0de569e095",
   "metadata": {},
   "source": [
    "Per ciascuna iterazione, il valore della variabile `year` si comporta come il valore di `date[i]` del primo esempio."
   ]
  },
  {
   "cell_type": "markdown",
   "id": "7f6e03f4-a787-412e-8f84-d67f36238ee4",
   "metadata": {},
   "source": [
    "In python possiamo anche cambiare gli elementi all'interno di una lista nel seguente modo:"
   ]
  },
  {
   "cell_type": "code",
   "execution_count": 23,
   "id": "57a5d667-cf4e-4d87-9bcd-c59cea958027",
   "metadata": {},
   "outputs": [
    {
     "name": "stdout",
     "output_type": "stream",
     "text": [
      "['red', 'yellow', 'green', 'purple', 'blue'] \n",
      "\n",
      "Prima della sostituzione l'elemento 0 è red\n",
      "Dopo la sostituzione l'elemento 0 è white\n",
      "Prima della sostituzione l'elemento 1 è yellow\n",
      "Dopo la sostituzione l'elemento 1 è white\n",
      "Prima della sostituzione l'elemento 2 è green\n",
      "Dopo la sostituzione l'elemento 2 è white\n",
      "Prima della sostituzione l'elemento 3 è purple\n",
      "Dopo la sostituzione l'elemento 3 è white\n",
      "Prima della sostituzione l'elemento 4 è blue\n",
      "Dopo la sostituzione l'elemento 4 è white\n",
      "\n",
      " ['white', 'white', 'white', 'white', 'white']\n"
     ]
    }
   ],
   "source": [
    "squares = ['red','yellow','green','purple','blue']\n",
    "print(squares,\"\\n\")\n",
    "\n",
    "for i in range(0,5):\n",
    "    print(\"Prima della sostituzione l'elemento\", i, \"è\", squares[i])\n",
    "    squares[i] = 'white'\n",
    "    print(\"Dopo la sostituzione l'elemento\", i, \"è\", squares[i])\n",
    "print(\"\\n\",squares)"
   ]
  },
  {
   "cell_type": "raw",
   "id": "de0c520e-67ed-4898-b64e-67fd8fa67cbd",
   "metadata": {},
   "source": [
    "Per visualizzare sia l'indice che il rispettivo valore della lista, possiamo utilizzare il seguente codice:"
   ]
  },
  {
   "cell_type": "code",
   "execution_count": 3,
   "id": "c1dd99a1-51b1-42b0-b8ab-ed4a0ed112a3",
   "metadata": {},
   "outputs": [
    {
     "name": "stdout",
     "output_type": "stream",
     "text": [
      "0 red\n",
      "1 yellow\n",
      "2 green\n",
      "3 purple\n",
      "4 blue\n"
     ]
    }
   ],
   "source": [
    "squares = ['red','yellow','green','purple','blue']\n",
    "\n",
    "for i,square in enumerate(squares):\n",
    "    print(i,square)"
   ]
  },
  {
   "cell_type": "markdown",
   "id": "e454eb2f-4ccf-4f50-9e3f-4961ff6ae2de",
   "metadata": {},
   "source": [
    "### `while` loop\n",
    "La caratteristicha del ciclo `while` è che il comando viene eseguito fintanto che la condizione restituisce come risultato `True`. La struttura del codice si presenta come segue:"
   ]
  },
  {
   "cell_type": "code",
   "execution_count": 5,
   "id": "f6a4d5bc-51c9-4767-8ca5-4bfb60005abd",
   "metadata": {},
   "outputs": [
    {
     "name": "stdout",
     "output_type": "stream",
     "text": [
      "1982\n",
      "1980\n",
      "Ci sono volute 2 iterazioni per uscire fuori dal ciclo\n"
     ]
    }
   ],
   "source": [
    "dates = [1982,1980,1973,200]\n",
    "\n",
    "i = 0\n",
    "year = dates[0]\n",
    "\n",
    "while year != 1973:\n",
    "    print(year)\n",
    "    i += 1  # il segno += equivale a variabile = variabile + ...\n",
    "    year = dates[i]\n",
    "    \n",
    "print(\"Ci sono volute\",i, \"iterazioni per uscire fuori dal ciclo\")"
   ]
  },
  {
   "cell_type": "code",
   "execution_count": 6,
   "id": "df0536a5-ed02-41ad-a157-38864249fc68",
   "metadata": {},
   "outputs": [
    {
     "name": "stdout",
     "output_type": "stream",
     "text": [
      "10\n",
      "9.5\n",
      "10\n",
      "8\n",
      "7.5\n"
     ]
    }
   ],
   "source": [
    "# Esempio 2\n",
    "\n",
    "PlayListRatings = [10, 9.5, 10, 8, 7.5, 5, 10, 10]\n",
    "\n",
    "i = 0\n",
    "rating = PlayListRatings[0]\n",
    "\n",
    "while(i<len(PlayListRatings) and rating >= 6):\n",
    "    print(rating)\n",
    "    i += 1\n",
    "    rating = PlayListRatings[i]"
   ]
  },
  {
   "cell_type": "markdown",
   "id": "8a7ef4be-d163-4e25-ac81-7390abd59102",
   "metadata": {},
   "source": [
    "Attraverso un ciclo `while` possiamo ottenere una sottolista contentene solo alcuni valori. Nell'esempio seguente, vogliamo copiare in una lista `new_squares` i valori `organge` della lista `squares` finché la conidzione è soddisfatta."
   ]
  },
  {
   "cell_type": "code",
   "execution_count": 9,
   "id": "55080ab8-373c-4dac-ae2a-31c7908769f6",
   "metadata": {},
   "outputs": [
    {
     "name": "stdout",
     "output_type": "stream",
     "text": [
      "['orange', 'orange', 'orange']\n"
     ]
    }
   ],
   "source": [
    "squares = ['orange', 'orange', 'orange', 'purple', 'blue ']\n",
    "new_squares = []\n",
    "\n",
    "i = 0\n",
    "color = squares[0]\n",
    "\n",
    "while(i<len(squares) and color == \"orange\"):\n",
    "    new_squares.append(color)\n",
    "    i += 1\n",
    "    color = squares[i]\n",
    "print(new_squares)"
   ]
  },
  {
   "cell_type": "code",
   "execution_count": 10,
   "id": "b26e49c1-aa47-44f8-bec0-5d4000525a5d",
   "metadata": {},
   "outputs": [
    {
     "data": {
      "text/plain": [
       "[1, 2, 3]"
      ]
     },
     "execution_count": 10,
     "metadata": {},
     "output_type": "execute_result"
    }
   ],
   "source": [
    "L=[1,3,2]\n",
    "sorted(L)"
   ]
  },
  {
   "cell_type": "code",
   "execution_count": null,
   "id": "a5e96bbb-577d-47e9-a68b-991a88718b42",
   "metadata": {},
   "outputs": [],
   "source": []
  }
 ],
 "metadata": {
  "kernelspec": {
   "display_name": "Python 3 (ipykernel)",
   "language": "python",
   "name": "python3"
  },
  "language_info": {
   "codemirror_mode": {
    "name": "ipython",
    "version": 3
   },
   "file_extension": ".py",
   "mimetype": "text/x-python",
   "name": "python",
   "nbconvert_exporter": "python",
   "pygments_lexer": "ipython3",
   "version": "3.8.12"
  }
 },
 "nbformat": 4,
 "nbformat_minor": 5
}
